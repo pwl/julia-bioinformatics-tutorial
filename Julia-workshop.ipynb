{
 "cells": [
  {
   "cell_type": "markdown",
   "metadata": {},
   "source": [
    "# Jupyter notebook"
   ]
  },
  {
   "cell_type": "code",
   "execution_count": 101,
   "metadata": {},
   "outputs": [
    {
     "name": "stdout",
     "output_type": "stream",
     "text": [
      "Hello world\n"
     ]
    }
   ],
   "source": [
    "println(\"Hello world\") # press ctrl+enter to evaluate the cell"
   ]
  },
  {
   "cell_type": "code",
   "execution_count": 102,
   "metadata": {},
   "outputs": [
    {
     "name": "stdout",
     "output_type": "stream",
     "text": [
      "Current cell\n"
     ]
    }
   ],
   "source": [
    "println(\"Current cell\") # press shift+enter to evaluate and jump to the next cell"
   ]
  },
  {
   "cell_type": "code",
   "execution_count": 103,
   "metadata": {},
   "outputs": [
    {
     "name": "stdout",
     "output_type": "stream",
     "text": [
      "Next cell\n"
     ]
    }
   ],
   "source": [
    "println(\"Next cell\")"
   ]
  },
  {
   "cell_type": "code",
   "execution_count": 262,
   "metadata": {
    "collapsed": true
   },
   "outputs": [],
   "source": [
    "# enter edit mode by pressing enter on a cell (blue cursor changes to green)"
   ]
  },
  {
   "cell_type": "code",
   "execution_count": 263,
   "metadata": {
    "collapsed": true
   },
   "outputs": [],
   "source": [
    "# return to navigation mode by pressing escape"
   ]
  },
  {
   "cell_type": "code",
   "execution_count": null,
   "metadata": {
    "collapsed": true
   },
   "outputs": [],
   "source": [
    "# delete cells by pressing d twice"
   ]
  },
  {
   "cell_type": "code",
   "execution_count": null,
   "metadata": {
    "collapsed": true
   },
   "outputs": [],
   "source": [
    "### Convert me to markdown by pressing `m` and then evaluate with ctrl+enter"
   ]
  },
  {
   "cell_type": "code",
   "execution_count": null,
   "metadata": {
    "collapsed": true
   },
   "outputs": [],
   "source": [
    "# Autocomplete\n",
    "prin # press tab at the end of the word"
   ]
  },
  {
   "cell_type": "code",
   "execution_count": 91,
   "metadata": {},
   "outputs": [],
   "source": [
    "# Help!\n",
    "# press shift+tab at the end of the word (1-4 gives different results)\n",
    "println"
   ]
  },
  {
   "cell_type": "markdown",
   "metadata": {},
   "source": [
    "# convert this cell to code by pressig `y`\n",
    "println(\"This is code\")"
   ]
  },
  {
   "cell_type": "markdown",
   "metadata": {},
   "source": [
    "Useful shortcuts:\n",
    "- `p` list of shortcuts\n",
    "- `m` convert cell to markdown (useful to make notes:-) )\n",
    "- `y` convert cell to code\n",
    "- `b`/`a` instert cell below/above\n",
    "- `d` `d` delete cell\n",
    "- `ctrl+/` to comment a line\n",
    "- `tab`/`shift+tab` completion/help"
   ]
  },
  {
   "cell_type": "markdown",
   "metadata": {},
   "source": [
    "# Introduction to Julia\n",
    "\n",
    "Website: https://julialang.org\n",
    "\n",
    "Benchmarks: https://julialang.org/benchmarks/\n",
    "\n",
    "Documentation: https://docs.julialang.org/en/stable/"
   ]
  },
  {
   "cell_type": "markdown",
   "metadata": {},
   "source": [
    "## Variables"
   ]
  },
  {
   "cell_type": "code",
   "execution_count": 276,
   "metadata": {},
   "outputs": [
    {
     "data": {
      "text/html": [
       "1"
      ],
      "text/plain": [
       "1"
      ]
     },
     "execution_count": 276,
     "metadata": {},
     "output_type": "execute_result"
    }
   ],
   "source": [
    "x=1  # integer"
   ]
  },
  {
   "cell_type": "code",
   "execution_count": 275,
   "metadata": {},
   "outputs": [
    {
     "data": {
      "text/html": [
       "1.0"
      ],
      "text/plain": [
       "1.0"
      ]
     },
     "execution_count": 275,
     "metadata": {},
     "output_type": "execute_result"
    }
   ],
   "source": [
    "y=1.0  # floating point"
   ]
  },
  {
   "cell_type": "code",
   "execution_count": 264,
   "metadata": {},
   "outputs": [
    {
     "data": {
      "text/plain": [
       "4-element Array{Int64,1}:\n",
       " 1\n",
       " 2\n",
       " 3\n",
       " 4"
      ]
     },
     "execution_count": 264,
     "metadata": {},
     "output_type": "execute_result"
    }
   ],
   "source": [
    "a=[1,2,3,4] # square brackets define a vector"
   ]
  },
  {
   "cell_type": "code",
   "execution_count": 5,
   "metadata": {},
   "outputs": [
    {
     "data": {
      "text/plain": [
       "4-element Array{Int64,1}:\n",
       " 2\n",
       " 4\n",
       " 6\n",
       " 8"
      ]
     },
     "execution_count": 5,
     "metadata": {},
     "output_type": "execute_result"
    }
   ],
   "source": [
    "a+a"
   ]
  },
  {
   "cell_type": "code",
   "execution_count": 115,
   "metadata": {},
   "outputs": [
    {
     "data": {
      "text/html": [
       "false"
      ],
      "text/plain": [
       "false"
      ]
     },
     "execution_count": 115,
     "metadata": {},
     "output_type": "execute_result"
    }
   ],
   "source": [
    "true\n",
    "false"
   ]
  },
  {
   "cell_type": "code",
   "execution_count": 142,
   "metadata": {},
   "outputs": [
    {
     "data": {
      "text/plain": [
       "\"abcDEF\""
      ]
     },
     "execution_count": 142,
     "metadata": {},
     "output_type": "execute_result"
    }
   ],
   "source": [
    "\"abcDEF\""
   ]
  },
  {
   "cell_type": "markdown",
   "metadata": {},
   "source": [
    "## String interpolation"
   ]
  },
  {
   "cell_type": "code",
   "execution_count": 104,
   "metadata": {},
   "outputs": [
    {
     "name": "stdout",
     "output_type": "stream",
     "text": [
      "Value is 42\n"
     ]
    }
   ],
   "source": [
    "val = 42\n",
    "println(\"Value is $val\")"
   ]
  },
  {
   "cell_type": "code",
   "execution_count": 105,
   "metadata": {},
   "outputs": [
    {
     "name": "stdout",
     "output_type": "stream",
     "text": [
      "Value is 43\n"
     ]
    }
   ],
   "source": [
    "println(\"Value is $(val+1)\")"
   ]
  },
  {
   "cell_type": "markdown",
   "metadata": {},
   "source": [
    "## Flow control"
   ]
  },
  {
   "cell_type": "code",
   "execution_count": 8,
   "metadata": {},
   "outputs": [
    {
     "name": "stdout",
     "output_type": "stream",
     "text": [
      "1\n",
      "2\n",
      "3\n",
      "4\n",
      "5\n"
     ]
    }
   ],
   "source": [
    "for i = 1:5\n",
    "    println(i)\n",
    "end"
   ]
  },
  {
   "cell_type": "code",
   "execution_count": 9,
   "metadata": {},
   "outputs": [
    {
     "name": "stdout",
     "output_type": "stream",
     "text": [
      "0\n",
      "1\n",
      "1\n",
      "4\n",
      "5\n"
     ]
    }
   ],
   "source": [
    "for c in [0,1,-1,4,5]\n",
    "    if 0 < c\n",
    "        println(c)\n",
    "    else\n",
    "        println(-c)\n",
    "    end\n",
    "end"
   ]
  },
  {
   "cell_type": "code",
   "execution_count": 4,
   "metadata": {},
   "outputs": [
    {
     "name": "stdout",
     "output_type": "stream",
     "text": [
      "(1, 0)\n",
      "(2, 1)\n",
      "(3, -1)\n",
      "(4, 4)\n",
      "(5, 5)\n"
     ]
    }
   ],
   "source": [
    "collection = [0,1,-1,4,5]\n",
    "for (i,c) in enumerate(collection)\n",
    "    println((i,c))\n",
    "end"
   ]
  },
  {
   "cell_type": "markdown",
   "metadata": {},
   "source": [
    "## More on arrays"
   ]
  },
  {
   "cell_type": "code",
   "execution_count": 31,
   "metadata": {},
   "outputs": [
    {
     "data": {
      "text/plain": [
       "5-element Array{Int64,1}:\n",
       "  0\n",
       "  1\n",
       " -1\n",
       "  4\n",
       "  5"
      ]
     },
     "execution_count": 31,
     "metadata": {},
     "output_type": "execute_result"
    }
   ],
   "source": [
    "collection = [0,1,-1,4,5]"
   ]
  },
  {
   "cell_type": "markdown",
   "metadata": {},
   "source": [
    "Indexing "
   ]
  },
  {
   "cell_type": "code",
   "execution_count": 32,
   "metadata": {},
   "outputs": [
    {
     "data": {
      "text/plain": [
       "0"
      ]
     },
     "execution_count": 32,
     "metadata": {},
     "output_type": "execute_result"
    }
   ],
   "source": [
    "collection[1]"
   ]
  },
  {
   "cell_type": "code",
   "execution_count": 33,
   "metadata": {},
   "outputs": [
    {
     "data": {
      "text/plain": [
       "5"
      ]
     },
     "execution_count": 33,
     "metadata": {},
     "output_type": "execute_result"
    }
   ],
   "source": [
    "collection[end]"
   ]
  },
  {
   "cell_type": "markdown",
   "metadata": {},
   "source": [
    "add elements to a list"
   ]
  },
  {
   "cell_type": "code",
   "execution_count": 28,
   "metadata": {},
   "outputs": [
    {
     "data": {
      "text/plain": [
       "6-element Array{Int64,1}:\n",
       "  0\n",
       "  1\n",
       " -1\n",
       "  4\n",
       "  5\n",
       " 33"
      ]
     },
     "execution_count": 28,
     "metadata": {},
     "output_type": "execute_result"
    }
   ],
   "source": [
    "push!(collection,33)"
   ]
  },
  {
   "cell_type": "code",
   "execution_count": 24,
   "metadata": {},
   "outputs": [
    {
     "data": {
      "text/plain": [
       "6-element Array{Int64,1}:\n",
       "  0\n",
       "  1\n",
       " -1\n",
       "  4\n",
       "  5\n",
       " 33"
      ]
     },
     "execution_count": 24,
     "metadata": {},
     "output_type": "execute_result"
    }
   ],
   "source": [
    "collection"
   ]
  },
  {
   "cell_type": "markdown",
   "metadata": {},
   "source": [
    "list comprehension"
   ]
  },
  {
   "cell_type": "code",
   "execution_count": 22,
   "metadata": {},
   "outputs": [
    {
     "data": {
      "text/plain": [
       "5-element Array{Float64,1}:\n",
       "  0.0     \n",
       "  0.841471\n",
       " -0.841471\n",
       " -0.756802\n",
       " -0.958924"
      ]
     },
     "execution_count": 22,
     "metadata": {},
     "output_type": "execute_result"
    }
   ],
   "source": [
    "[sin(c) for c in collection]"
   ]
  },
  {
   "cell_type": "code",
   "execution_count": 12,
   "metadata": {},
   "outputs": [
    {
     "data": {
      "text/plain": [
       "5-element Array{Float64,1}:\n",
       "  0.0     \n",
       "  0.841471\n",
       " -0.841471\n",
       " -0.756802\n",
       " -0.958924"
      ]
     },
     "execution_count": 12,
     "metadata": {},
     "output_type": "execute_result"
    }
   ],
   "source": [
    "sin.(collection)"
   ]
  },
  {
   "cell_type": "code",
   "execution_count": 46,
   "metadata": {},
   "outputs": [
    {
     "data": {
      "text/plain": [
       "4×4 Array{Int64,2}:\n",
       " 1  2   3   4\n",
       " 2  4   6   8\n",
       " 3  6   9  12\n",
       " 4  8  12  16"
      ]
     },
     "execution_count": 46,
     "metadata": {},
     "output_type": "execute_result"
    }
   ],
   "source": [
    "array = [x*y for x in 1:4, y in 1:4]"
   ]
  },
  {
   "cell_type": "code",
   "execution_count": 45,
   "metadata": {},
   "outputs": [
    {
     "data": {
      "text/plain": [
       "2×2 Array{String,2}:\n",
       " \"Hi Alice\"   \"Hi Bob\" \n",
       " \"Bye Alice\"  \"Bye Bob\""
      ]
     },
     "execution_count": 45,
     "metadata": {},
     "output_type": "execute_result"
    }
   ],
   "source": [
    "[a*b for a in [\"Hi \",\"Bye \"], b in [\"Alice\",\"Bob\"]]"
   ]
  },
  {
   "cell_type": "markdown",
   "metadata": {},
   "source": [
    "## Dictionaries"
   ]
  },
  {
   "cell_type": "code",
   "execution_count": 177,
   "metadata": {},
   "outputs": [
    {
     "data": {
      "text/plain": [
       "Dict{Symbol,Int64} with 2 entries:\n",
       "  :cat => 1\n",
       "  :dog => 2"
      ]
     },
     "execution_count": 177,
     "metadata": {},
     "output_type": "execute_result"
    }
   ],
   "source": [
    "d=Dict(:cat=>1, :dog=>2)"
   ]
  },
  {
   "cell_type": "code",
   "execution_count": 178,
   "metadata": {},
   "outputs": [
    {
     "name": "stdout",
     "output_type": "stream",
     "text": [
      "cat => 1\n",
      "dog => 2\n"
     ]
    }
   ],
   "source": [
    "for (key,value) in d\n",
    "    println(\"$key => $value\")\n",
    "end"
   ]
  },
  {
   "cell_type": "markdown",
   "metadata": {},
   "source": [
    "## Linear Algebra"
   ]
  },
  {
   "cell_type": "code",
   "execution_count": 57,
   "metadata": {},
   "outputs": [
    {
     "data": {
      "text/plain": [
       "3×3 Array{Float64,2}:\n",
       " 0.129828  0.728965  0.71105  \n",
       " 0.137559  0.315148  0.14566  \n",
       " 0.305235  0.595897  0.0213587"
      ]
     },
     "execution_count": 57,
     "metadata": {},
     "output_type": "execute_result"
    }
   ],
   "source": [
    "b=rand(3,3)"
   ]
  },
  {
   "cell_type": "code",
   "execution_count": 60,
   "metadata": {},
   "outputs": [
    {
     "data": {
      "text/plain": [
       "3-element Array{Float64,1}:\n",
       " 1.08094 \n",
       " 0.35781 \n",
       " 0.487799"
      ]
     },
     "execution_count": 60,
     "metadata": {},
     "output_type": "execute_result"
    }
   ],
   "source": [
    "a=rand(3)\n",
    "b*a"
   ]
  },
  {
   "cell_type": "markdown",
   "metadata": {},
   "source": [
    "## Function definitions"
   ]
  },
  {
   "cell_type": "code",
   "execution_count": 12,
   "metadata": {},
   "outputs": [
    {
     "data": {
      "text/plain": [
       "f (generic function with 1 method)"
      ]
     },
     "execution_count": 12,
     "metadata": {},
     "output_type": "execute_result"
    }
   ],
   "source": [
    "function f(x)\n",
    "    return x\n",
    "end"
   ]
  },
  {
   "cell_type": "code",
   "execution_count": 11,
   "metadata": {},
   "outputs": [
    {
     "data": {
      "text/plain": [
       "f (generic function with 1 method)"
      ]
     },
     "execution_count": 11,
     "metadata": {},
     "output_type": "execute_result"
    }
   ],
   "source": [
    "f(x)=x"
   ]
  },
  {
   "cell_type": "code",
   "execution_count": 140,
   "metadata": {},
   "outputs": [
    {
     "data": {
      "text/plain": [
       "(::#33) (generic function with 1 method)"
      ]
     },
     "execution_count": 140,
     "metadata": {},
     "output_type": "execute_result"
    }
   ],
   "source": [
    "x->x+1"
   ]
  },
  {
   "cell_type": "code",
   "execution_count": 132,
   "metadata": {},
   "outputs": [
    {
     "data": {
      "text/plain": [
       "g (generic function with 3 methods)"
      ]
     },
     "execution_count": 132,
     "metadata": {},
     "output_type": "execute_result"
    }
   ],
   "source": [
    "function g(x; a=1, b=0)\n",
    "    return x*a+b\n",
    "end"
   ]
  },
  {
   "cell_type": "code",
   "execution_count": 133,
   "metadata": {},
   "outputs": [
    {
     "name": "stderr",
     "output_type": "stream",
     "text": [
      "\u001b[1m\u001b[33mWARNING: \u001b[39m\u001b[22m\u001b[33mreplacing docs for 'mycount :: Tuple{String}' in module 'Main'.\u001b[39m\n"
     ]
    },
    {
     "data": {
      "text/plain": [
       "mycount"
      ]
     },
     "execution_count": 133,
     "metadata": {},
     "output_type": "execute_result"
    }
   ],
   "source": [
    "\"\"\"\n",
    "    \n",
    "    mycount(\"ABCD\",char='A')\n",
    "\n",
    "\n",
    "Counts the occurences of a character 'A' in a string.  Optionally a second argument `char` can be passed to count that character\n",
    "\n",
    "\"\"\"\n",
    "\n",
    "function mycount(string; char='A')\n",
    "    counter = 0\n",
    "    for c in string\n",
    "        if c == char\n",
    "            counter+=1\n",
    "        end\n",
    "    end\n",
    "    return counter\n",
    "end"
   ]
  },
  {
   "cell_type": "code",
   "execution_count": 146,
   "metadata": {},
   "outputs": [
    {
     "data": {
      "text/html": [
       "6"
      ],
      "text/plain": [
       "6"
      ]
     },
     "execution_count": 146,
     "metadata": {},
     "output_type": "execute_result"
    }
   ],
   "source": [
    "mycount(\"AABAAAAB\")"
   ]
  },
  {
   "cell_type": "code",
   "execution_count": 134,
   "metadata": {},
   "outputs": [
    {
     "data": {
      "text/html": [
       "6"
      ],
      "text/plain": [
       "6"
      ]
     },
     "execution_count": 134,
     "metadata": {},
     "output_type": "execute_result"
    }
   ],
   "source": [
    "mycount(\"AABAAAAB\",char='A')"
   ]
  },
  {
   "cell_type": "code",
   "execution_count": 147,
   "metadata": {},
   "outputs": [
    {
     "data": {
      "text/html": [
       "1 method for generic function <b>mycount</b>:<ul><li> mycount(string::<b>String</b>; <i>char</i>) at In[133]:11</li> </ul>"
      ],
      "text/plain": [
       "# 1 method for generic function \"mycount\":\n",
       "mycount(string::String; char) in Main at In[133]:11"
      ]
     },
     "execution_count": 147,
     "metadata": {},
     "output_type": "execute_result"
    }
   ],
   "source": [
    "methods(mycount)"
   ]
  },
  {
   "cell_type": "code",
   "execution_count": 148,
   "metadata": {},
   "outputs": [
    {
     "name": "stdout",
     "output_type": "stream",
     "text": [
      "search:\n",
      "\n"
     ]
    },
    {
     "data": {
      "text/markdown": [
       "```\n",
       "mycount(\"ABCD\",char='A')\n",
       "```\n",
       "\n",
       "Counts the occurences of a character 'A' in a string.  Optionally a second argument `char` can be passed to count that character\n"
      ],
      "text/plain": [
       "```\n",
       "mycount(\"ABCD\",char='A')\n",
       "```\n",
       "\n",
       "Counts the occurences of a character 'A' in a string.  Optionally a second argument `char` can be passed to count that character\n"
      ]
     },
     "execution_count": 148,
     "metadata": {},
     "output_type": "execute_result"
    }
   ],
   "source": [
    "?mycount"
   ]
  },
  {
   "cell_type": "code",
   "execution_count": 20,
   "metadata": {},
   "outputs": [
    {
     "name": "stdout",
     "output_type": "stream",
     "text": [
      "search: \u001b[1ms\u001b[22m\u001b[1mu\u001b[22m\u001b[1mm\u001b[22m \u001b[1ms\u001b[22m\u001b[1mu\u001b[22m\u001b[1mm\u001b[22m! \u001b[1ms\u001b[22m\u001b[1mu\u001b[22m\u001b[1mm\u001b[22mabs \u001b[1ms\u001b[22m\u001b[1mu\u001b[22m\u001b[1mm\u001b[22mmary \u001b[1ms\u001b[22m\u001b[1mu\u001b[22m\u001b[1mm\u001b[22mabs2 \u001b[1ms\u001b[22m\u001b[1mu\u001b[22m\u001b[1mm\u001b[22m_kbn cum\u001b[1ms\u001b[22m\u001b[1mu\u001b[22m\u001b[1mm\u001b[22m cum\u001b[1ms\u001b[22m\u001b[1mu\u001b[22m\u001b[1mm\u001b[22m! con\u001b[1ms\u001b[22m\u001b[1mu\u001b[22m\u001b[1mm\u001b[22me\n",
      "\n"
     ]
    },
    {
     "data": {
      "text/markdown": [
       "```\n",
       "sum(f, itr)\n",
       "```\n",
       "\n",
       "Sum the results of calling function `f` on each element of `itr`.\n",
       "\n",
       "```jldoctest\n",
       "julia> sum(abs2, [2; 3; 4])\n",
       "29\n",
       "```\n",
       "\n",
       "```\n",
       "sum(itr)\n",
       "```\n",
       "\n",
       "Returns the sum of all elements in a collection.\n",
       "\n",
       "```jldoctest\n",
       "julia> sum(1:20)\n",
       "210\n",
       "```\n",
       "\n",
       "```\n",
       "sum(A, dims)\n",
       "```\n",
       "\n",
       "Sum elements of an array over the given dimensions.\n",
       "\n",
       "```jldoctest\n",
       "julia> A = [1 2; 3 4]\n",
       "2×2 Array{Int64,2}:\n",
       " 1  2\n",
       " 3  4\n",
       "\n",
       "julia> sum(A, 1)\n",
       "1×2 Array{Int64,2}:\n",
       " 4  6\n",
       "\n",
       "julia> sum(A, 2)\n",
       "2×1 Array{Int64,2}:\n",
       " 3\n",
       " 7\n",
       "```\n"
      ],
      "text/plain": [
       "```\n",
       "sum(f, itr)\n",
       "```\n",
       "\n",
       "Sum the results of calling function `f` on each element of `itr`.\n",
       "\n",
       "```jldoctest\n",
       "julia> sum(abs2, [2; 3; 4])\n",
       "29\n",
       "```\n",
       "\n",
       "```\n",
       "sum(itr)\n",
       "```\n",
       "\n",
       "Returns the sum of all elements in a collection.\n",
       "\n",
       "```jldoctest\n",
       "julia> sum(1:20)\n",
       "210\n",
       "```\n",
       "\n",
       "```\n",
       "sum(A, dims)\n",
       "```\n",
       "\n",
       "Sum elements of an array over the given dimensions.\n",
       "\n",
       "```jldoctest\n",
       "julia> A = [1 2; 3 4]\n",
       "2×2 Array{Int64,2}:\n",
       " 1  2\n",
       " 3  4\n",
       "\n",
       "julia> sum(A, 1)\n",
       "1×2 Array{Int64,2}:\n",
       " 4  6\n",
       "\n",
       "julia> sum(A, 2)\n",
       "2×1 Array{Int64,2}:\n",
       " 3\n",
       " 7\n",
       "```\n"
      ]
     },
     "execution_count": 20,
     "metadata": {},
     "output_type": "execute_result"
    }
   ],
   "source": [
    "?sum"
   ]
  },
  {
   "cell_type": "code",
   "execution_count": 21,
   "metadata": {},
   "outputs": [
    {
     "name": "stdout",
     "output_type": "stream",
     "text": [
      "search: \u001b[1mp\u001b[22m\u001b[1mr\u001b[22m\u001b[1mo\u001b[22m\u001b[1md\u001b[22m\u001b[1mu\u001b[22m\u001b[1mc\u001b[22me\n",
      "\n",
      "Couldn't find \u001b[36mproduct\n",
      "\u001b[39mPerhaps you meant produce, prod, prod!, procs, reduce or promote\n"
     ]
    },
    {
     "data": {
      "text/markdown": [
       "No documentation found.\n",
       "\n",
       "Binding `product` does not exist.\n"
      ],
      "text/plain": [
       "No documentation found.\n",
       "\n",
       "Binding `product` does not exist.\n"
      ]
     },
     "execution_count": 21,
     "metadata": {},
     "output_type": "execute_result"
    }
   ],
   "source": [
    "?product"
   ]
  },
  {
   "cell_type": "markdown",
   "metadata": {},
   "source": [
    "## Types"
   ]
  },
  {
   "cell_type": "markdown",
   "metadata": {},
   "source": [
    "concrete types (types that can take values)"
   ]
  },
  {
   "cell_type": "code",
   "execution_count": 143,
   "metadata": {},
   "outputs": [
    {
     "data": {
      "text/plain": [
       "String"
      ]
     },
     "execution_count": 143,
     "metadata": {},
     "output_type": "execute_result"
    }
   ],
   "source": [
    "typeof(\"abcDEF\")"
   ]
  },
  {
   "cell_type": "code",
   "execution_count": 144,
   "metadata": {},
   "outputs": [
    {
     "data": {
      "text/plain": [
       "Int64"
      ]
     },
     "execution_count": 144,
     "metadata": {},
     "output_type": "execute_result"
    }
   ],
   "source": [
    "typeof(1)"
   ]
  },
  {
   "cell_type": "code",
   "execution_count": 149,
   "metadata": {},
   "outputs": [
    {
     "data": {
      "text/plain": [
       "Float64"
      ]
     },
     "execution_count": 149,
     "metadata": {},
     "output_type": "execute_result"
    }
   ],
   "source": [
    "typeof(1.0)"
   ]
  },
  {
   "cell_type": "markdown",
   "metadata": {},
   "source": [
    "Some types are parameterized by others"
   ]
  },
  {
   "cell_type": "code",
   "execution_count": 181,
   "metadata": {
    "scrolled": true
   },
   "outputs": [
    {
     "data": {
      "text/plain": [
       "Array{Int64,1}"
      ]
     },
     "execution_count": 181,
     "metadata": {},
     "output_type": "execute_result"
    }
   ],
   "source": [
    "typeof([1,2,3,4])"
   ]
  },
  {
   "cell_type": "markdown",
   "metadata": {},
   "source": [
    "there are also abstract types with no instances (values with of this type)"
   ]
  },
  {
   "cell_type": "code",
   "execution_count": 162,
   "metadata": {},
   "outputs": [
    {
     "data": {
      "text/plain": [
       "Signed"
      ]
     },
     "execution_count": 162,
     "metadata": {},
     "output_type": "execute_result"
    }
   ],
   "source": [
    "supertype(Int64)"
   ]
  },
  {
   "cell_type": "code",
   "execution_count": 163,
   "metadata": {},
   "outputs": [
    {
     "data": {
      "text/plain": [
       "Integer"
      ]
     },
     "execution_count": 163,
     "metadata": {},
     "output_type": "execute_result"
    }
   ],
   "source": [
    "supertype(Signed)"
   ]
  },
  {
   "cell_type": "code",
   "execution_count": 164,
   "metadata": {},
   "outputs": [
    {
     "data": {
      "text/plain": [
       "Real"
      ]
     },
     "execution_count": 164,
     "metadata": {},
     "output_type": "execute_result"
    }
   ],
   "source": [
    "supertype(Integer)"
   ]
  },
  {
   "cell_type": "code",
   "execution_count": 165,
   "metadata": {},
   "outputs": [
    {
     "data": {
      "text/plain": [
       "Number"
      ]
     },
     "execution_count": 165,
     "metadata": {},
     "output_type": "execute_result"
    }
   ],
   "source": [
    "supertype(Real)"
   ]
  },
  {
   "cell_type": "markdown",
   "metadata": {},
   "source": [
    "## Multiple dispatch"
   ]
  },
  {
   "cell_type": "code",
   "execution_count": 22,
   "metadata": {},
   "outputs": [
    {
     "data": {
      "text/plain": [
       "f (generic function with 3 methods)"
      ]
     },
     "execution_count": 22,
     "metadata": {},
     "output_type": "execute_result"
    }
   ],
   "source": [
    "f(x::Int)=x\n",
    "f(x::Float64)=2*x"
   ]
  },
  {
   "cell_type": "code",
   "execution_count": 23,
   "metadata": {},
   "outputs": [
    {
     "data": {
      "text/plain": [
       "1"
      ]
     },
     "execution_count": 23,
     "metadata": {},
     "output_type": "execute_result"
    }
   ],
   "source": [
    "f(1)"
   ]
  },
  {
   "cell_type": "code",
   "execution_count": 24,
   "metadata": {},
   "outputs": [
    {
     "data": {
      "text/plain": [
       "2.0"
      ]
     },
     "execution_count": 24,
     "metadata": {},
     "output_type": "execute_result"
    }
   ],
   "source": [
    "f(1.0)"
   ]
  },
  {
   "cell_type": "markdown",
   "metadata": {},
   "source": [
    "### Useful for function definitions"
   ]
  },
  {
   "cell_type": "code",
   "execution_count": 175,
   "metadata": {},
   "outputs": [
    {
     "data": {
      "text/plain": [
       "mymean (generic function with 3 methods)"
      ]
     },
     "execution_count": 175,
     "metadata": {},
     "output_type": "execute_result"
    }
   ],
   "source": [
    "mymean(x::Number)=x\n",
    "\n",
    "mymean(x::Vector)=sum(x)/length(x)\n",
    "\n",
    "mymean(x)=error(\"Oops!\")"
   ]
  },
  {
   "cell_type": "code",
   "execution_count": 169,
   "metadata": {},
   "outputs": [
    {
     "data": {
      "text/html": [
       "1"
      ],
      "text/plain": [
       "1"
      ]
     },
     "execution_count": 169,
     "metadata": {},
     "output_type": "execute_result"
    }
   ],
   "source": [
    "mymean(1)"
   ]
  },
  {
   "cell_type": "code",
   "execution_count": 170,
   "metadata": {},
   "outputs": [
    {
     "data": {
      "text/html": [
       "2.0"
      ],
      "text/plain": [
       "2.0"
      ]
     },
     "execution_count": 170,
     "metadata": {},
     "output_type": "execute_result"
    }
   ],
   "source": [
    "mymean([1,2,3])"
   ]
  },
  {
   "cell_type": "code",
   "execution_count": 176,
   "metadata": {},
   "outputs": [
    {
     "ename": "LoadError",
     "evalue": "\u001b[91mOops!\u001b[39m",
     "output_type": "error",
     "traceback": [
      "\u001b[91mOops!\u001b[39m",
      "",
      "Stacktrace:",
      " [1] \u001b[1mmymean\u001b[22m\u001b[22m\u001b[1m(\u001b[22m\u001b[22m::String\u001b[1m)\u001b[22m\u001b[22m at \u001b[1m./In[175]:5\u001b[22m\u001b[22m"
     ]
    }
   ],
   "source": [
    "mymean(\"abc\")"
   ]
  },
  {
   "cell_type": "code",
   "execution_count": 173,
   "metadata": {},
   "outputs": [
    {
     "data": {
      "text/html": [
       "mymean(x::<b>Array{T,1} where T</b>) at In[166]:3"
      ],
      "text/plain": [
       "mymean(x::Array{T,1} where T) in Main at In[166]:3"
      ]
     },
     "execution_count": 173,
     "metadata": {},
     "output_type": "execute_result"
    }
   ],
   "source": [
    "@which mymean([1,2,3])"
   ]
  },
  {
   "cell_type": "code",
   "execution_count": 178,
   "metadata": {},
   "outputs": [
    {
     "data": {
      "text/html": [
       "3 methods for generic function <b>mymean</b>:<ul><li> mymean(x::<b>Number</b>) at In[175]:1</li> <li> mymean(x::<b>Array{T,1} where T</b>) at In[175]:3</li> <li> mymean(x) at In[175]:5</li> </ul>"
      ],
      "text/plain": [
       "# 3 methods for generic function \"mymean\":\n",
       "mymean(x::Number) in Main at In[175]:1\n",
       "mymean(x::Array{T,1} where T) in Main at In[175]:3\n",
       "mymean(x) in Main at In[175]:5"
      ]
     },
     "execution_count": 178,
     "metadata": {},
     "output_type": "execute_result"
    }
   ],
   "source": [
    "methods(mymean)"
   ]
  },
  {
   "cell_type": "code",
   "execution_count": 179,
   "metadata": {},
   "outputs": [
    {
     "data": {
      "text/html": [
       "84 methods for generic function <b>mean</b>:<ul><li> mean(trial::<b>BenchmarkTools.Trial</b>) at <a href=\"https://github.com/JuliaCI/BenchmarkTools.jl/tree/6c77bdcbba203169fb1dd8e6f862c2c15657d7db//src/trials.jl#L122\" target=\"_blank\">/home/pawel/.julia/v0.6/BenchmarkTools/src/trials.jl:122</a></li> <li> mean(group::<b>BenchmarkTools.BenchmarkGroup</b>) at <a href=\"https://github.com/JuliaCI/BenchmarkTools.jl/tree/6c77bdcbba203169fb1dd8e6f862c2c15657d7db//src/groups.jl#L70\" target=\"_blank\">/home/pawel/.julia/v0.6/BenchmarkTools/src/groups.jl:70</a></li> <li> mean(d::<b>Distributions.DiscreteUniform</b>) at <a href=\"https://github.com/JuliaStats/Distributions.jl/tree/ebeab79ff28f144506f6aa51b284b67486283ba0//src/univariate/discrete/discreteuniform.jl#L52\" target=\"_blank\">/home/pawel/.julia/v0.6/Distributions/src/univariate/discrete/discreteuniform.jl:52</a></li> <li> mean(d::<b>Distributions.Hypergeometric</b>) at <a href=\"https://github.com/JuliaStats/Distributions.jl/tree/ebeab79ff28f144506f6aa51b284b67486283ba0//src/univariate/discrete/hypergeometric.jl#L44\" target=\"_blank\">/home/pawel/.julia/v0.6/Distributions/src/univariate/discrete/hypergeometric.jl:44</a></li> <li> mean(d::<b>Distributions.Kolmogorov</b>) at <a href=\"https://github.com/JuliaStats/Distributions.jl/tree/ebeab79ff28f144506f6aa51b284b67486283ba0//src/univariate/continuous/kolmogorov.jl#L22\" target=\"_blank\">/home/pawel/.julia/v0.6/Distributions/src/univariate/continuous/kolmogorov.jl:22</a></li> <li> mean(d::<b>Distributions.EmpiricalUnivariateDistribution</b>) at <a href=\"https://github.com/JuliaStats/Distributions.jl/tree/ebeab79ff28f144506f6aa51b284b67486283ba0//src/empirical.jl#L40\" target=\"_blank\">/home/pawel/.julia/v0.6/Distributions/src/empirical.jl:40</a></li> <li> mean(d::<b>Distributions.UnivariateGMM</b>) at <a href=\"https://github.com/JuliaStats/Distributions.jl/tree/ebeab79ff28f144506f6aa51b284b67486283ba0//src/mixtures/unigmm.jl#L26\" target=\"_blank\">/home/pawel/.julia/v0.6/Distributions/src/mixtures/unigmm.jl:26</a></li> <li> mean(r::<b>Range{#s45} where #s45<:Real</b>) at <a href=\"https://github.com/JuliaLang/julia/tree/903644385b91ed8d95e5e3a5716c089dd1f1b08a/base/range.jl#L858\" target=\"_blank\">range.jl:858</a></li> <li> mean(f::<b>Union{Function, Type}</b>, A::<b>AbstractArray</b>) at <a href=\"https://github.com/JuliaLang/julia/tree/903644385b91ed8d95e5e3a5716c089dd1f1b08a/base/statistics.jl#L35\" target=\"_blank\">statistics.jl:35</a></li> <li> mean(f::<b>Union{Function, Type}</b>, iterable) at <a href=\"https://github.com/JuliaLang/julia/tree/903644385b91ed8d95e5e3a5716c089dd1f1b08a/base/statistics.jl#L19\" target=\"_blank\">statistics.jl:19</a></li> <li> mean(a::<b>DataArrays.DataArray</b>; <i>skipna</i>) at <a href=\"https://github.com/JuliaStats/DataArrays.jl/tree/78327d1e6a8cd27c44d9afbaec419caf6a98893c//src/reduce.jl#L137\" target=\"_blank\">/home/pawel/.julia/v0.6/DataArrays/src/reduce.jl:137</a></li> <li> mean(a::<b>DataArrays.DataArray</b>, w::<b>StatsBase.Weights</b>; <i>skipna</i>) at <a href=\"https://github.com/JuliaStats/DataArrays.jl/tree/78327d1e6a8cd27c44d9afbaec419caf6a98893c//src/reduce.jl#L179\" target=\"_blank\">/home/pawel/.julia/v0.6/DataArrays/src/reduce.jl:179</a></li> <li> mean<i>{W, V<:DataArrays.DataArray}</i>(a::<b>DataArrays.DataArray</b>, w::<b>StatsBase.Weights{W,V,#3#V} where #3#V<:AbstractArray{V,1}</b>; <i>skipna</i>) at <a href=\"https://github.com/JuliaStats/DataArrays.jl/tree/78327d1e6a8cd27c44d9afbaec419caf6a98893c//src/reduce.jl#L188\" target=\"_blank\">/home/pawel/.julia/v0.6/DataArrays/src/reduce.jl:188</a></li> <li> mean(a::<b>StaticArrays.StaticArray</b>) at <a href=\"https://github.com/JuliaArrays/StaticArrays.jl/tree/af478d662e329e74b855dc06206a14f8aef792f9//src/mapreduce.jl#L177\" target=\"_blank\">/home/pawel/.julia/v0.6/StaticArrays/src/mapreduce.jl:177</a></li> <li> mean<i>{T<:Number, W<:Real}</i>(A::<b>AbstractArray{T,N} where N</b>, w::<b>StatsBase.AbstractWeights{W,T,V} where V<:AbstractArray{T,1} where T<:Real</b>, dim::<b>Int64</b>) at <a href=\"https://github.com/JuliaStats/StatsBase.jl/tree/42feefb84aa81d9f8918500ecf159dbee5bcb91f//src/weights.jl#L461\" target=\"_blank\">/home/pawel/.julia/v0.6/StatsBase/src/weights.jl:461</a></li> <li> mean<i>{T}</i>(A::<b>DataArrays.DataArray{T,N} where N</b>, region; <i>skipna</i>) at <a href=\"https://github.com/JuliaStats/DataArrays.jl/tree/78327d1e6a8cd27c44d9afbaec419caf6a98893c//src/reducedim.jl#L318\" target=\"_blank\">/home/pawel/.julia/v0.6/DataArrays/src/reducedim.jl:318</a></li> <li> mean(A::<b>AbstractArray</b>) at <a href=\"https://github.com/JuliaLang/julia/tree/903644385b91ed8d95e5e3a5716c089dd1f1b08a/base/statistics.jl#L36\" target=\"_blank\">statistics.jl:36</a></li> <li> mean(A::<b>AbstractArray</b>, w::<b>StatsBase.AbstractWeights</b>) at <a href=\"https://github.com/JuliaStats/StatsBase.jl/tree/42feefb84aa81d9f8918500ecf159dbee5bcb91f//src/weights.jl#L447\" target=\"_blank\">/home/pawel/.julia/v0.6/StatsBase/src/weights.jl:447</a></li> <li> mean<i>{T}</i>(A::<b>AbstractArray{T,N} where N</b>, region) at <a href=\"https://github.com/JuliaLang/julia/tree/903644385b91ed8d95e5e3a5716c089dd1f1b08a/base/statistics.jl#L57\" target=\"_blank\">statistics.jl:57</a></li> <li> mean(d::<b>Distributions.Bernoulli</b>) at <a href=\"https://github.com/JuliaStats/Distributions.jl/tree/ebeab79ff28f144506f6aa51b284b67486283ba0//src/univariate/discrete/bernoulli.jl#L58\" target=\"_blank\">/home/pawel/.julia/v0.6/Distributions/src/univariate/discrete/bernoulli.jl:58</a></li> <li> mean(d::<b>Distributions.BetaBinomial</b>) at <a href=\"https://github.com/JuliaStats/Distributions.jl/tree/ebeab79ff28f144506f6aa51b284b67486283ba0//src/univariate/discrete/betabinomial.jl#L56\" target=\"_blank\">/home/pawel/.julia/v0.6/Distributions/src/univariate/discrete/betabinomial.jl:56</a></li> <li> mean(d::<b>Distributions.Binomial</b>) at <a href=\"https://github.com/JuliaStats/Distributions.jl/tree/ebeab79ff28f144506f6aa51b284b67486283ba0//src/univariate/discrete/binomial.jl#L66\" target=\"_blank\">/home/pawel/.julia/v0.6/Distributions/src/univariate/discrete/binomial.jl:66</a></li> <li> mean(d::<b>Distributions.Categorical</b>) at <a href=\"https://github.com/JuliaStats/Distributions.jl/tree/ebeab79ff28f144506f6aa51b284b67486283ba0//src/univariate/discrete/categorical.jl#L67\" target=\"_blank\">/home/pawel/.julia/v0.6/Distributions/src/univariate/discrete/categorical.jl:67</a></li> <li> mean(d::<b>Distributions.Geometric</b>) at <a href=\"https://github.com/JuliaStats/Distributions.jl/tree/ebeab79ff28f144506f6aa51b284b67486283ba0//src/univariate/discrete/geometric.jl#L53\" target=\"_blank\">/home/pawel/.julia/v0.6/Distributions/src/univariate/discrete/geometric.jl:53</a></li> <li> mean(d::<b>Distributions.NegativeBinomial</b>) at <a href=\"https://github.com/JuliaStats/Distributions.jl/tree/ebeab79ff28f144506f6aa51b284b67486283ba0//src/univariate/discrete/negativebinomial.jl#L71\" target=\"_blank\">/home/pawel/.julia/v0.6/Distributions/src/univariate/discrete/negativebinomial.jl:71</a></li> <li> mean(d::<b>Distributions.FisherNoncentralHypergeometric</b>) at <a href=\"https://github.com/JuliaStats/Distributions.jl/tree/ebeab79ff28f144506f6aa51b284b67486283ba0//src/univariate/discrete/noncentralhypergeometric.jl#L78\" target=\"_blank\">/home/pawel/.julia/v0.6/Distributions/src/univariate/discrete/noncentralhypergeometric.jl:78</a></li> <li> mean(d::<b>Distributions.WalleniusNoncentralHypergeometric</b>) at <a href=\"https://github.com/JuliaStats/Distributions.jl/tree/ebeab79ff28f144506f6aa51b284b67486283ba0//src/univariate/discrete/noncentralhypergeometric.jl#L117\" target=\"_blank\">/home/pawel/.julia/v0.6/Distributions/src/univariate/discrete/noncentralhypergeometric.jl:117</a></li> <li> mean(d::<b>Distributions.Poisson</b>) at <a href=\"https://github.com/JuliaStats/Distributions.jl/tree/ebeab79ff28f144506f6aa51b284b67486283ba0//src/univariate/discrete/poisson.jl#L49\" target=\"_blank\">/home/pawel/.julia/v0.6/Distributions/src/univariate/discrete/poisson.jl:49</a></li> <li> mean(d::<b>Distributions.Skellam</b>) at <a href=\"https://github.com/JuliaStats/Distributions.jl/tree/ebeab79ff28f144506f6aa51b284b67486283ba0//src/univariate/discrete/skellam.jl#L55\" target=\"_blank\">/home/pawel/.julia/v0.6/Distributions/src/univariate/discrete/skellam.jl:55</a></li> <li> mean(d::<b>Distributions.PoissonBinomial</b>) at <a href=\"https://github.com/JuliaStats/Distributions.jl/tree/ebeab79ff28f144506f6aa51b284b67486283ba0//src/univariate/discrete/poissonbinomial.jl#L68\" target=\"_blank\">/home/pawel/.julia/v0.6/Distributions/src/univariate/discrete/poissonbinomial.jl:68</a></li> <li> mean(d::<b>Distributions.Arcsine</b>) at <a href=\"https://github.com/JuliaStats/Distributions.jl/tree/ebeab79ff28f144506f6aa51b284b67486283ba0//src/univariate/continuous/arcsine.jl#L60\" target=\"_blank\">/home/pawel/.julia/v0.6/Distributions/src/univariate/continuous/arcsine.jl:60</a></li> <li> mean(d::<b>Distributions.Beta</b>) at <a href=\"https://github.com/JuliaStats/Distributions.jl/tree/ebeab79ff28f144506f6aa51b284b67486283ba0//src/univariate/continuous/beta.jl#L63\" target=\"_blank\">/home/pawel/.julia/v0.6/Distributions/src/univariate/continuous/beta.jl:63</a></li> <li> mean<i>{T<:Real}</i>(d::<b>Distributions.BetaPrime{T}</b>) at <a href=\"https://github.com/JuliaStats/Distributions.jl/tree/ebeab79ff28f144506f6aa51b284b67486283ba0//src/univariate/continuous/betaprime.jl#L63\" target=\"_blank\">/home/pawel/.julia/v0.6/Distributions/src/univariate/continuous/betaprime.jl:63</a></li> <li> mean(d::<b>Distributions.Biweight</b>) at <a href=\"https://github.com/JuliaStats/Distributions.jl/tree/ebeab79ff28f144506f6aa51b284b67486283ba0//src/univariate/continuous/biweight.jl#L24\" target=\"_blank\">/home/pawel/.julia/v0.6/Distributions/src/univariate/continuous/biweight.jl:24</a></li> <li> mean<i>{T<:Real}</i>(d::<b>Distributions.Cauchy{T}</b>) at <a href=\"https://github.com/JuliaStats/Distributions.jl/tree/ebeab79ff28f144506f6aa51b284b67486283ba0//src/univariate/continuous/cauchy.jl#L62\" target=\"_blank\">/home/pawel/.julia/v0.6/Distributions/src/univariate/continuous/cauchy.jl:62</a></li> <li> mean(d::<b>Distributions.Chisq</b>) at <a href=\"https://github.com/JuliaStats/Distributions.jl/tree/ebeab79ff28f144506f6aa51b284b67486283ba0//src/univariate/continuous/chisq.jl#L47\" target=\"_blank\">/home/pawel/.julia/v0.6/Distributions/src/univariate/continuous/chisq.jl:47</a></li> <li> mean(d::<b>Distributions.Chi</b>) at <a href=\"https://github.com/JuliaStats/Distributions.jl/tree/ebeab79ff28f144506f6aa51b284b67486283ba0//src/univariate/continuous/chi.jl#L48\" target=\"_blank\">/home/pawel/.julia/v0.6/Distributions/src/univariate/continuous/chi.jl:48</a></li> <li> mean(d::<b>Distributions.Cosine</b>) at <a href=\"https://github.com/JuliaStats/Distributions.jl/tree/ebeab79ff28f144506f6aa51b284b67486283ba0//src/univariate/continuous/cosine.jl#L44\" target=\"_blank\">/home/pawel/.julia/v0.6/Distributions/src/univariate/continuous/cosine.jl:44</a></li> <li> mean(d::<b>Distributions.Epanechnikov</b>) at <a href=\"https://github.com/JuliaStats/Distributions.jl/tree/ebeab79ff28f144506f6aa51b284b67486283ba0//src/univariate/continuous/epanechnikov.jl#L36\" target=\"_blank\">/home/pawel/.julia/v0.6/Distributions/src/univariate/continuous/epanechnikov.jl:36</a></li> <li> mean(d::<b>Distributions.Exponential</b>) at <a href=\"https://github.com/JuliaStats/Distributions.jl/tree/ebeab79ff28f144506f6aa51b284b67486283ba0//src/univariate/continuous/exponential.jl#L52\" target=\"_blank\">/home/pawel/.julia/v0.6/Distributions/src/univariate/continuous/exponential.jl:52</a></li> <li> mean<i>{T<:Real}</i>(d::<b>Distributions.FDist{T}</b>) at <a href=\"https://github.com/JuliaStats/Distributions.jl/tree/ebeab79ff28f144506f6aa51b284b67486283ba0//src/univariate/continuous/fdist.jl#L57\" target=\"_blank\">/home/pawel/.julia/v0.6/Distributions/src/univariate/continuous/fdist.jl:57</a></li> <li> mean<i>{T<:Real}</i>(d::<b>Distributions.Frechet{T}</b>) at <a href=\"https://github.com/JuliaStats/Distributions.jl/tree/ebeab79ff28f144506f6aa51b284b67486283ba0//src/univariate/continuous/frechet.jl#L64\" target=\"_blank\">/home/pawel/.julia/v0.6/Distributions/src/univariate/continuous/frechet.jl:64</a></li> <li> mean(d::<b>Distributions.Gamma</b>) at <a href=\"https://github.com/JuliaStats/Distributions.jl/tree/ebeab79ff28f144506f6aa51b284b67486283ba0//src/univariate/continuous/gamma.jl#L61\" target=\"_blank\">/home/pawel/.julia/v0.6/Distributions/src/univariate/continuous/gamma.jl:61</a></li> <li> mean(d::<b>Distributions.Erlang</b>) at <a href=\"https://github.com/JuliaStats/Distributions.jl/tree/ebeab79ff28f144506f6aa51b284b67486283ba0//src/univariate/continuous/erlang.jl#L52\" target=\"_blank\">/home/pawel/.julia/v0.6/Distributions/src/univariate/continuous/erlang.jl:52</a></li> <li> mean<i>{T<:Real}</i>(d::<b>Distributions.GeneralizedPareto{T}</b>) at <a href=\"https://github.com/JuliaStats/Distributions.jl/tree/ebeab79ff28f144506f6aa51b284b67486283ba0//src/univariate/continuous/generalizedpareto.jl#L78\" target=\"_blank\">/home/pawel/.julia/v0.6/Distributions/src/univariate/continuous/generalizedpareto.jl:78</a></li> <li> mean<i>{T<:Real}</i>(d::<b>Distributions.GeneralizedExtremeValue{T}</b>) at <a href=\"https://github.com/JuliaStats/Distributions.jl/tree/ebeab79ff28f144506f6aa51b284b67486283ba0//src/univariate/continuous/generalizedextremevalue.jl#L93\" target=\"_blank\">/home/pawel/.julia/v0.6/Distributions/src/univariate/continuous/generalizedextremevalue.jl:93</a></li> <li> mean(d::<b>Distributions.Gumbel</b>) at <a href=\"https://github.com/JuliaStats/Distributions.jl/tree/ebeab79ff28f144506f6aa51b284b67486283ba0//src/univariate/continuous/gumbel.jl#L57\" target=\"_blank\">/home/pawel/.julia/v0.6/Distributions/src/univariate/continuous/gumbel.jl:57</a></li> <li> mean<i>{T<:Real}</i>(d::<b>Distributions.InverseGamma{T}</b>) at <a href=\"https://github.com/JuliaStats/Distributions.jl/tree/ebeab79ff28f144506f6aa51b284b67486283ba0//src/univariate/continuous/inversegamma.jl#L62\" target=\"_blank\">/home/pawel/.julia/v0.6/Distributions/src/univariate/continuous/inversegamma.jl:62</a></li> <li> mean(d::<b>Distributions.InverseGaussian</b>) at <a href=\"https://github.com/JuliaStats/Distributions.jl/tree/ebeab79ff28f144506f6aa51b284b67486283ba0//src/univariate/continuous/inversegaussian.jl#L62\" target=\"_blank\">/home/pawel/.julia/v0.6/Distributions/src/univariate/continuous/inversegaussian.jl:62</a></li> <li> mean(d::<b>Distributions.Laplace</b>) at <a href=\"https://github.com/JuliaStats/Distributions.jl/tree/ebeab79ff28f144506f6aa51b284b67486283ba0//src/univariate/continuous/laplace.jl#L61\" target=\"_blank\">/home/pawel/.julia/v0.6/Distributions/src/univariate/continuous/laplace.jl:61</a></li> <li> mean<i>{T<:Real}</i>(d::<b>Distributions.Levy{T}</b>) at <a href=\"https://github.com/JuliaStats/Distributions.jl/tree/ebeab79ff28f144506f6aa51b284b67486283ba0//src/univariate/continuous/levy.jl#L53\" target=\"_blank\">/home/pawel/.julia/v0.6/Distributions/src/univariate/continuous/levy.jl:53</a></li> <li> mean(d::<b>Distributions.Logistic</b>) at <a href=\"https://github.com/JuliaStats/Distributions.jl/tree/ebeab79ff28f144506f6aa51b284b67486283ba0//src/univariate/continuous/logistic.jl#L60\" target=\"_blank\">/home/pawel/.julia/v0.6/Distributions/src/univariate/continuous/logistic.jl:60</a></li> <li> mean(d::<b>Distributions.NoncentralChisq</b>) at <a href=\"https://github.com/JuliaStats/Distributions.jl/tree/ebeab79ff28f144506f6aa51b284b67486283ba0//src/univariate/continuous/noncentralchisq.jl#L59\" target=\"_blank\">/home/pawel/.julia/v0.6/Distributions/src/univariate/continuous/noncentralchisq.jl:59</a></li> <li> mean<i>{T<:Real}</i>(d::<b>Distributions.NoncentralF{T}</b>) at <a href=\"https://github.com/JuliaStats/Distributions.jl/tree/ebeab79ff28f144506f6aa51b284b67486283ba0//src/univariate/continuous/noncentralf.jl#L40\" target=\"_blank\">/home/pawel/.julia/v0.6/Distributions/src/univariate/continuous/noncentralf.jl:40</a></li> <li> mean<i>{T<:Real}</i>(d::<b>Distributions.NoncentralT{T}</b>) at <a href=\"https://github.com/JuliaStats/Distributions.jl/tree/ebeab79ff28f144506f6aa51b284b67486283ba0//src/univariate/continuous/noncentralt.jl#L34\" target=\"_blank\">/home/pawel/.julia/v0.6/Distributions/src/univariate/continuous/noncentralt.jl:34</a></li> <li> mean(d::<b>Distributions.Normal</b>) at <a href=\"https://github.com/JuliaStats/Distributions.jl/tree/ebeab79ff28f144506f6aa51b284b67486283ba0//src/univariate/continuous/normal.jl#L59\" target=\"_blank\">/home/pawel/.julia/v0.6/Distributions/src/univariate/continuous/normal.jl:59</a></li> <li> mean(d::<b>Distributions.NormalCanon</b>) at <a href=\"https://github.com/JuliaStats/Distributions.jl/tree/ebeab79ff28f144506f6aa51b284b67486283ba0//src/univariate/continuous/normalcanon.jl#L42\" target=\"_blank\">/home/pawel/.julia/v0.6/Distributions/src/univariate/continuous/normalcanon.jl:42</a></li> <li> mean(d::<b>Distributions.NormalInverseGaussian</b>) at <a href=\"https://github.com/JuliaStats/Distributions.jl/tree/ebeab79ff28f144506f6aa51b284b67486283ba0//src/univariate/continuous/normalinversegaussian.jl#L47\" target=\"_blank\">/home/pawel/.julia/v0.6/Distributions/src/univariate/continuous/normalinversegaussian.jl:47</a></li> <li> mean(d::<b>Distributions.LogNormal</b>) at <a href=\"https://github.com/JuliaStats/Distributions.jl/tree/ebeab79ff28f144506f6aa51b284b67486283ba0//src/univariate/continuous/lognormal.jl#L59\" target=\"_blank\">/home/pawel/.julia/v0.6/Distributions/src/univariate/continuous/lognormal.jl:59</a></li> <li> mean<i>{T<:Real}</i>(d::<b>Distributions.Pareto{T}</b>) at <a href=\"https://github.com/JuliaStats/Distributions.jl/tree/ebeab79ff28f144506f6aa51b284b67486283ba0//src/univariate/continuous/pareto.jl#L58\" target=\"_blank\">/home/pawel/.julia/v0.6/Distributions/src/univariate/continuous/pareto.jl:58</a></li> <li> mean(d::<b>Distributions.Rayleigh</b>) at <a href=\"https://github.com/JuliaStats/Distributions.jl/tree/ebeab79ff28f144506f6aa51b284b67486283ba0//src/univariate/continuous/rayleigh.jl#L52\" target=\"_blank\">/home/pawel/.julia/v0.6/Distributions/src/univariate/continuous/rayleigh.jl:52</a></li> <li> mean(d::<b>Distributions.SymTriangularDist</b>) at <a href=\"https://github.com/JuliaStats/Distributions.jl/tree/ebeab79ff28f144506f6aa51b284b67486283ba0//src/univariate/continuous/symtriangular.jl#L58\" target=\"_blank\">/home/pawel/.julia/v0.6/Distributions/src/univariate/continuous/symtriangular.jl:58</a></li> <li> mean<i>{T<:Real}</i>(d::<b>Distributions.TDist{T}</b>) at <a href=\"https://github.com/JuliaStats/Distributions.jl/tree/ebeab79ff28f144506f6aa51b284b67486283ba0//src/univariate/continuous/tdist.jl#L47\" target=\"_blank\">/home/pawel/.julia/v0.6/Distributions/src/univariate/continuous/tdist.jl:47</a></li> <li> mean(d::<b>Distributions.TriangularDist</b>) at <a href=\"https://github.com/JuliaStats/Distributions.jl/tree/ebeab79ff28f144506f6aa51b284b67486283ba0//src/univariate/continuous/triangular.jl#L69\" target=\"_blank\">/home/pawel/.julia/v0.6/Distributions/src/univariate/continuous/triangular.jl:69</a></li> <li> mean(d::<b>Distributions.Triweight</b>) at <a href=\"https://github.com/JuliaStats/Distributions.jl/tree/ebeab79ff28f144506f6aa51b284b67486283ba0//src/univariate/continuous/triweight.jl#L33\" target=\"_blank\">/home/pawel/.julia/v0.6/Distributions/src/univariate/continuous/triweight.jl:33</a></li> <li> mean(d::<b>Distributions.Uniform</b>) at <a href=\"https://github.com/JuliaStats/Distributions.jl/tree/ebeab79ff28f144506f6aa51b284b67486283ba0//src/univariate/continuous/uniform.jl#L55\" target=\"_blank\">/home/pawel/.julia/v0.6/Distributions/src/univariate/continuous/uniform.jl:55</a></li> <li> mean(d::<b>Distributions.VonMises</b>) at <a href=\"https://github.com/JuliaStats/Distributions.jl/tree/ebeab79ff28f144506f6aa51b284b67486283ba0//src/univariate/continuous/vonmises.jl#L55\" target=\"_blank\">/home/pawel/.julia/v0.6/Distributions/src/univariate/continuous/vonmises.jl:55</a></li> <li> mean(d::<b>Distributions.Weibull</b>) at <a href=\"https://github.com/JuliaStats/Distributions.jl/tree/ebeab79ff28f144506f6aa51b284b67486283ba0//src/univariate/continuous/weibull.jl#L60\" target=\"_blank\">/home/pawel/.julia/v0.6/Distributions/src/univariate/continuous/weibull.jl:60</a></li> <li> mean(d::<b>Distributions.EdgeworthZ</b>) at <a href=\"https://github.com/JuliaStats/Distributions.jl/tree/ebeab79ff28f144506f6aa51b284b67486283ba0//src/edgeworth.jl#L23\" target=\"_blank\">/home/pawel/.julia/v0.6/Distributions/src/edgeworth.jl:23</a></li> <li> mean(d::<b>Distributions.EdgeworthSum</b>) at <a href=\"https://github.com/JuliaStats/Distributions.jl/tree/ebeab79ff28f144506f6aa51b284b67486283ba0//src/edgeworth.jl#L87\" target=\"_blank\">/home/pawel/.julia/v0.6/Distributions/src/edgeworth.jl:87</a></li> <li> mean(d::<b>Distributions.EdgeworthMean</b>) at <a href=\"https://github.com/JuliaStats/Distributions.jl/tree/ebeab79ff28f144506f6aa51b284b67486283ba0//src/edgeworth.jl#L103\" target=\"_blank\">/home/pawel/.julia/v0.6/Distributions/src/edgeworth.jl:103</a></li> <li> mean(d::<b>Distributions.Dirichlet</b>) at <a href=\"https://github.com/JuliaStats/Distributions.jl/tree/ebeab79ff28f144506f6aa51b284b67486283ba0//src/multivariate/dirichlet.jl#L70\" target=\"_blank\">/home/pawel/.julia/v0.6/Distributions/src/multivariate/dirichlet.jl:70</a></li> <li> mean(d::<b>Distributions.Multinomial</b>) at <a href=\"https://github.com/JuliaStats/Distributions.jl/tree/ebeab79ff28f144506f6aa51b284b67486283ba0//src/multivariate/multinomial.jl#L56\" target=\"_blank\">/home/pawel/.julia/v0.6/Distributions/src/multivariate/multinomial.jl:56</a></li> <li> mean(d::<b>Distributions.DirichletMultinomial</b>) at <a href=\"https://github.com/JuliaStats/Distributions.jl/tree/ebeab79ff28f144506f6aa51b284b67486283ba0//src/multivariate/dirichletmultinomial.jl#L29\" target=\"_blank\">/home/pawel/.julia/v0.6/Distributions/src/multivariate/dirichletmultinomial.jl:29</a></li> <li> mean(d::<b>Distributions.MvNormal</b>) at <a href=\"https://github.com/JuliaStats/Distributions.jl/tree/ebeab79ff28f144506f6aa51b284b67486283ba0//src/multivariate/mvnormal.jl#L250\" target=\"_blank\">/home/pawel/.julia/v0.6/Distributions/src/multivariate/mvnormal.jl:250</a></li> <li> mean(d::<b>Distributions.MvNormalCanon</b>) at <a href=\"https://github.com/JuliaStats/Distributions.jl/tree/ebeab79ff28f144506f6aa51b284b67486283ba0//src/multivariate/mvnormalcanon.jl#L158\" target=\"_blank\">/home/pawel/.julia/v0.6/Distributions/src/multivariate/mvnormalcanon.jl:158</a></li> <li> mean(d::<b>Distributions.MvLogNormal</b>) at <a href=\"https://github.com/JuliaStats/Distributions.jl/tree/ebeab79ff28f144506f6aa51b284b67486283ba0//src/multivariate/mvlognormal.jl#L205\" target=\"_blank\">/home/pawel/.julia/v0.6/Distributions/src/multivariate/mvlognormal.jl:205</a></li> <li> mean(d::<b>Distributions.GenericMvTDist</b>) at <a href=\"https://github.com/JuliaStats/Distributions.jl/tree/ebeab79ff28f144506f6aa51b284b67486283ba0//src/multivariate/mvtdist.jl#L88\" target=\"_blank\">/home/pawel/.julia/v0.6/Distributions/src/multivariate/mvtdist.jl:88</a></li> <li> mean(d::<b>Distributions.Wishart</b>) at <a href=\"https://github.com/JuliaStats/Distributions.jl/tree/ebeab79ff28f144506f6aa51b284b67486283ba0//src/matrix/wishart.jl#L72\" target=\"_blank\">/home/pawel/.julia/v0.6/Distributions/src/matrix/wishart.jl:72</a></li> <li> mean(d::<b>Distributions.InverseWishart</b>) at <a href=\"https://github.com/JuliaStats/Distributions.jl/tree/ebeab79ff28f144506f6aa51b284b67486283ba0//src/matrix/inversewishart.jl#L69\" target=\"_blank\">/home/pawel/.julia/v0.6/Distributions/src/matrix/inversewishart.jl:69</a></li> <li> mean<i>{T<:Real}</i>(d::<b>Distributions.Truncated{Distributions.Normal{T},Distributions.Continuous}</b>) at <a href=\"https://github.com/JuliaStats/Distributions.jl/tree/ebeab79ff28f144506f6aa51b284b67486283ba0//src/truncated/normal.jl#L31\" target=\"_blank\">/home/pawel/.julia/v0.6/Distributions/src/truncated/normal.jl:31</a></li> <li> mean(d::<b>Distributions.AbstractMixtureModel{Distributions.Univariate,S,C} where C<:Distributions.Distribution where S<:Distributions.ValueSupport</b>) at <a href=\"https://github.com/JuliaStats/Distributions.jl/tree/ebeab79ff28f144506f6aa51b284b67486283ba0//src/mixtures/mixturemodel.jl#L161\" target=\"_blank\">/home/pawel/.julia/v0.6/Distributions/src/mixtures/mixturemodel.jl:161</a></li> <li> mean(d::<b>Distributions.AbstractMixtureModel{Distributions.Multivariate,S,C} where C<:Distributions.Distribution where S<:Distributions.ValueSupport</b>) at <a href=\"https://github.com/JuliaStats/Distributions.jl/tree/ebeab79ff28f144506f6aa51b284b67486283ba0//src/mixtures/mixturemodel.jl#L175\" target=\"_blank\">/home/pawel/.julia/v0.6/Distributions/src/mixtures/mixturemodel.jl:175</a></li> <li> mean(iterable) at <a href=\"https://github.com/JuliaLang/julia/tree/903644385b91ed8d95e5e3a5716c089dd1f1b08a/base/statistics.jl#L34\" target=\"_blank\">statistics.jl:34</a></li> </ul>"
      ],
      "text/plain": [
       "# 84 methods for generic function \"mean\":\n",
       "mean(trial::BenchmarkTools.Trial) in BenchmarkTools at /home/pawel/.julia/v0.6/BenchmarkTools/src/trials.jl:122\n",
       "mean(group::BenchmarkTools.BenchmarkGroup) in BenchmarkTools at /home/pawel/.julia/v0.6/BenchmarkTools/src/groups.jl:70\n",
       "mean(d::Distributions.DiscreteUniform) in Distributions at /home/pawel/.julia/v0.6/Distributions/src/univariate/discrete/discreteuniform.jl:52\n",
       "mean(d::Distributions.Hypergeometric) in Distributions at /home/pawel/.julia/v0.6/Distributions/src/univariate/discrete/hypergeometric.jl:44\n",
       "mean(d::Distributions.Kolmogorov) in Distributions at /home/pawel/.julia/v0.6/Distributions/src/univariate/continuous/kolmogorov.jl:22\n",
       "mean(d::Distributions.EmpiricalUnivariateDistribution) in Distributions at /home/pawel/.julia/v0.6/Distributions/src/empirical.jl:40\n",
       "mean(d::Distributions.UnivariateGMM) in Distributions at /home/pawel/.julia/v0.6/Distributions/src/mixtures/unigmm.jl:26\n",
       "mean(r::Range{#s45} where #s45<:Real) in Base at range.jl:858\n",
       "mean(f::Union{Function, Type}, A::AbstractArray) in Base at statistics.jl:35\n",
       "mean(f::Union{Function, Type}, iterable) in Base at statistics.jl:19\n",
       "mean(a::DataArrays.DataArray; skipna) in DataArrays at /home/pawel/.julia/v0.6/DataArrays/src/reduce.jl:137\n",
       "mean(a::DataArrays.DataArray, w::StatsBase.Weights; skipna) in DataArrays at /home/pawel/.julia/v0.6/DataArrays/src/reduce.jl:179\n",
       "mean(a::DataArrays.DataArray, w::StatsBase.Weights{W,V,#3#V} where #3#V<:AbstractArray{V,1}; skipna) where {W, V<:DataArrays.DataArray} in DataArrays at /home/pawel/.julia/v0.6/DataArrays/src/reduce.jl:188\n",
       "mean(a::StaticArrays.StaticArray) in StaticArrays at /home/pawel/.julia/v0.6/StaticArrays/src/mapreduce.jl:177\n",
       "mean(A::AbstractArray{T,N} where N, w::StatsBase.AbstractWeights{W,T,V} where V<:AbstractArray{T,1} where T<:Real, dim::Int64) where {T<:Number, W<:Real} in StatsBase at /home/pawel/.julia/v0.6/StatsBase/src/weights.jl:461\n",
       "mean(A::DataArrays.DataArray{T,N} where N, region; skipna) where T in DataArrays at /home/pawel/.julia/v0.6/DataArrays/src/reducedim.jl:318\n",
       "mean(A::AbstractArray) in Base at statistics.jl:36\n",
       "mean(A::AbstractArray, w::StatsBase.AbstractWeights) in StatsBase at /home/pawel/.julia/v0.6/StatsBase/src/weights.jl:447\n",
       "mean(A::AbstractArray{T,N} where N, region) where T in Base at statistics.jl:57\n",
       "mean(d::Distributions.Bernoulli) in Distributions at /home/pawel/.julia/v0.6/Distributions/src/univariate/discrete/bernoulli.jl:58\n",
       "mean(d::Distributions.BetaBinomial) in Distributions at /home/pawel/.julia/v0.6/Distributions/src/univariate/discrete/betabinomial.jl:56\n",
       "mean(d::Distributions.Binomial) in Distributions at /home/pawel/.julia/v0.6/Distributions/src/univariate/discrete/binomial.jl:66\n",
       "mean(d::Distributions.Categorical) in Distributions at /home/pawel/.julia/v0.6/Distributions/src/univariate/discrete/categorical.jl:67\n",
       "mean(d::Distributions.Geometric) in Distributions at /home/pawel/.julia/v0.6/Distributions/src/univariate/discrete/geometric.jl:53\n",
       "mean(d::Distributions.NegativeBinomial) in Distributions at /home/pawel/.julia/v0.6/Distributions/src/univariate/discrete/negativebinomial.jl:71\n",
       "mean(d::Distributions.FisherNoncentralHypergeometric) in Distributions at /home/pawel/.julia/v0.6/Distributions/src/univariate/discrete/noncentralhypergeometric.jl:78\n",
       "mean(d::Distributions.WalleniusNoncentralHypergeometric) in Distributions at /home/pawel/.julia/v0.6/Distributions/src/univariate/discrete/noncentralhypergeometric.jl:117\n",
       "mean(d::Distributions.Poisson) in Distributions at /home/pawel/.julia/v0.6/Distributions/src/univariate/discrete/poisson.jl:49\n",
       "mean(d::Distributions.Skellam) in Distributions at /home/pawel/.julia/v0.6/Distributions/src/univariate/discrete/skellam.jl:55\n",
       "mean(d::Distributions.PoissonBinomial) in Distributions at /home/pawel/.julia/v0.6/Distributions/src/univariate/discrete/poissonbinomial.jl:68\n",
       "mean(d::Distributions.Arcsine) in Distributions at /home/pawel/.julia/v0.6/Distributions/src/univariate/continuous/arcsine.jl:60\n",
       "mean(d::Distributions.Beta) in Distributions at /home/pawel/.julia/v0.6/Distributions/src/univariate/continuous/beta.jl:63\n",
       "mean(d::Distributions.BetaPrime{T}) where T<:Real in Distributions at /home/pawel/.julia/v0.6/Distributions/src/univariate/continuous/betaprime.jl:63\n",
       "mean(d::Distributions.Biweight) in Distributions at /home/pawel/.julia/v0.6/Distributions/src/univariate/continuous/biweight.jl:24\n",
       "mean(d::Distributions.Cauchy{T}) where T<:Real in Distributions at /home/pawel/.julia/v0.6/Distributions/src/univariate/continuous/cauchy.jl:62\n",
       "mean(d::Distributions.Chisq) in Distributions at /home/pawel/.julia/v0.6/Distributions/src/univariate/continuous/chisq.jl:47\n",
       "mean(d::Distributions.Chi) in Distributions at /home/pawel/.julia/v0.6/Distributions/src/univariate/continuous/chi.jl:48\n",
       "mean(d::Distributions.Cosine) in Distributions at /home/pawel/.julia/v0.6/Distributions/src/univariate/continuous/cosine.jl:44\n",
       "mean(d::Distributions.Epanechnikov) in Distributions at /home/pawel/.julia/v0.6/Distributions/src/univariate/continuous/epanechnikov.jl:36\n",
       "mean(d::Distributions.Exponential) in Distributions at /home/pawel/.julia/v0.6/Distributions/src/univariate/continuous/exponential.jl:52\n",
       "mean(d::Distributions.FDist{T}) where T<:Real in Distributions at /home/pawel/.julia/v0.6/Distributions/src/univariate/continuous/fdist.jl:57\n",
       "mean(d::Distributions.Frechet{T}) where T<:Real in Distributions at /home/pawel/.julia/v0.6/Distributions/src/univariate/continuous/frechet.jl:64\n",
       "mean(d::Distributions.Gamma) in Distributions at /home/pawel/.julia/v0.6/Distributions/src/univariate/continuous/gamma.jl:61\n",
       "mean(d::Distributions.Erlang) in Distributions at /home/pawel/.julia/v0.6/Distributions/src/univariate/continuous/erlang.jl:52\n",
       "mean(d::Distributions.GeneralizedPareto{T}) where T<:Real in Distributions at /home/pawel/.julia/v0.6/Distributions/src/univariate/continuous/generalizedpareto.jl:78\n",
       "mean(d::Distributions.GeneralizedExtremeValue{T}) where T<:Real in Distributions at /home/pawel/.julia/v0.6/Distributions/src/univariate/continuous/generalizedextremevalue.jl:93\n",
       "mean(d::Distributions.Gumbel) in Distributions at /home/pawel/.julia/v0.6/Distributions/src/univariate/continuous/gumbel.jl:57\n",
       "mean(d::Distributions.InverseGamma{T}) where T<:Real in Distributions at /home/pawel/.julia/v0.6/Distributions/src/univariate/continuous/inversegamma.jl:62\n",
       "mean(d::Distributions.InverseGaussian) in Distributions at /home/pawel/.julia/v0.6/Distributions/src/univariate/continuous/inversegaussian.jl:62\n",
       "mean(d::Distributions.Laplace) in Distributions at /home/pawel/.julia/v0.6/Distributions/src/univariate/continuous/laplace.jl:61\n",
       "mean(d::Distributions.Levy{T}) where T<:Real in Distributions at /home/pawel/.julia/v0.6/Distributions/src/univariate/continuous/levy.jl:53\n",
       "mean(d::Distributions.Logistic) in Distributions at /home/pawel/.julia/v0.6/Distributions/src/univariate/continuous/logistic.jl:60\n",
       "mean(d::Distributions.NoncentralChisq) in Distributions at /home/pawel/.julia/v0.6/Distributions/src/univariate/continuous/noncentralchisq.jl:59\n",
       "mean(d::Distributions.NoncentralF{T}) where T<:Real in Distributions at /home/pawel/.julia/v0.6/Distributions/src/univariate/continuous/noncentralf.jl:40\n",
       "mean(d::Distributions.NoncentralT{T}) where T<:Real in Distributions at /home/pawel/.julia/v0.6/Distributions/src/univariate/continuous/noncentralt.jl:34\n",
       "mean(d::Distributions.Normal) in Distributions at /home/pawel/.julia/v0.6/Distributions/src/univariate/continuous/normal.jl:59\n",
       "mean(d::Distributions.NormalCanon) in Distributions at /home/pawel/.julia/v0.6/Distributions/src/univariate/continuous/normalcanon.jl:42\n",
       "mean(d::Distributions.NormalInverseGaussian) in Distributions at /home/pawel/.julia/v0.6/Distributions/src/univariate/continuous/normalinversegaussian.jl:47\n",
       "mean(d::Distributions.LogNormal) in Distributions at /home/pawel/.julia/v0.6/Distributions/src/univariate/continuous/lognormal.jl:59\n",
       "mean(d::Distributions.Pareto{T}) where T<:Real in Distributions at /home/pawel/.julia/v0.6/Distributions/src/univariate/continuous/pareto.jl:58\n",
       "mean(d::Distributions.Rayleigh) in Distributions at /home/pawel/.julia/v0.6/Distributions/src/univariate/continuous/rayleigh.jl:52\n",
       "mean(d::Distributions.SymTriangularDist) in Distributions at /home/pawel/.julia/v0.6/Distributions/src/univariate/continuous/symtriangular.jl:58\n",
       "mean(d::Distributions.TDist{T}) where T<:Real in Distributions at /home/pawel/.julia/v0.6/Distributions/src/univariate/continuous/tdist.jl:47\n",
       "mean(d::Distributions.TriangularDist) in Distributions at /home/pawel/.julia/v0.6/Distributions/src/univariate/continuous/triangular.jl:69\n",
       "mean(d::Distributions.Triweight) in Distributions at /home/pawel/.julia/v0.6/Distributions/src/univariate/continuous/triweight.jl:33\n",
       "mean(d::Distributions.Uniform) in Distributions at /home/pawel/.julia/v0.6/Distributions/src/univariate/continuous/uniform.jl:55\n",
       "mean(d::Distributions.VonMises) in Distributions at /home/pawel/.julia/v0.6/Distributions/src/univariate/continuous/vonmises.jl:55\n",
       "mean(d::Distributions.Weibull) in Distributions at /home/pawel/.julia/v0.6/Distributions/src/univariate/continuous/weibull.jl:60\n",
       "mean(d::Distributions.EdgeworthZ) in Distributions at /home/pawel/.julia/v0.6/Distributions/src/edgeworth.jl:23\n",
       "mean(d::Distributions.EdgeworthSum) in Distributions at /home/pawel/.julia/v0.6/Distributions/src/edgeworth.jl:87\n",
       "mean(d::Distributions.EdgeworthMean) in Distributions at /home/pawel/.julia/v0.6/Distributions/src/edgeworth.jl:103\n",
       "mean(d::Distributions.Dirichlet) in Distributions at /home/pawel/.julia/v0.6/Distributions/src/multivariate/dirichlet.jl:70\n",
       "mean(d::Distributions.Multinomial) in Distributions at /home/pawel/.julia/v0.6/Distributions/src/multivariate/multinomial.jl:56\n",
       "mean(d::Distributions.DirichletMultinomial) in Distributions at /home/pawel/.julia/v0.6/Distributions/src/multivariate/dirichletmultinomial.jl:29\n",
       "mean(d::Distributions.MvNormal) in Distributions at /home/pawel/.julia/v0.6/Distributions/src/multivariate/mvnormal.jl:250\n",
       "mean(d::Distributions.MvNormalCanon) in Distributions at /home/pawel/.julia/v0.6/Distributions/src/multivariate/mvnormalcanon.jl:158\n",
       "mean(d::Distributions.MvLogNormal) in Distributions at /home/pawel/.julia/v0.6/Distributions/src/multivariate/mvlognormal.jl:205\n",
       "mean(d::Distributions.GenericMvTDist) in Distributions at /home/pawel/.julia/v0.6/Distributions/src/multivariate/mvtdist.jl:88\n",
       "mean(d::Distributions.Wishart) in Distributions at /home/pawel/.julia/v0.6/Distributions/src/matrix/wishart.jl:72\n",
       "mean(d::Distributions.InverseWishart) in Distributions at /home/pawel/.julia/v0.6/Distributions/src/matrix/inversewishart.jl:69\n",
       "mean(d::Distributions.Truncated{Distributions.Normal{T},Distributions.Continuous}) where T<:Real in Distributions at /home/pawel/.julia/v0.6/Distributions/src/truncated/normal.jl:31\n",
       "mean(d::Distributions.AbstractMixtureModel{Distributions.Univariate,S,C} where C<:Distributions.Distribution where S<:Distributions.ValueSupport) in Distributions at /home/pawel/.julia/v0.6/Distributions/src/mixtures/mixturemodel.jl:161\n",
       "mean(d::Distributions.AbstractMixtureModel{Distributions.Multivariate,S,C} where C<:Distributions.Distribution where S<:Distributions.ValueSupport) in Distributions at /home/pawel/.julia/v0.6/Distributions/src/mixtures/mixturemodel.jl:175\n",
       "mean(iterable) in Base at statistics.jl:34"
      ]
     },
     "execution_count": 179,
     "metadata": {},
     "output_type": "execute_result"
    }
   ],
   "source": [
    "methods(mean)"
   ]
  },
  {
   "cell_type": "markdown",
   "metadata": {},
   "source": [
    "## Custom types"
   ]
  },
  {
   "cell_type": "code",
   "execution_count": 192,
   "metadata": {
    "collapsed": true
   },
   "outputs": [],
   "source": [
    "struct Point\n",
    "    x::Float64\n",
    "    y::Float64\n",
    "end"
   ]
  },
  {
   "cell_type": "code",
   "execution_count": 195,
   "metadata": {},
   "outputs": [
    {
     "data": {
      "text/plain": [
       "Point(2.0, 3.0)"
      ]
     },
     "execution_count": 195,
     "metadata": {},
     "output_type": "execute_result"
    }
   ],
   "source": [
    "# to construct a point simply write\n",
    "p = Point(2,3)"
   ]
  },
  {
   "cell_type": "code",
   "execution_count": 3,
   "metadata": {},
   "outputs": [
    {
     "data": {
      "text/plain": [
       "2.0"
      ]
     },
     "execution_count": 3,
     "metadata": {},
     "output_type": "execute_result"
    }
   ],
   "source": [
    "p.x"
   ]
  },
  {
   "cell_type": "code",
   "execution_count": 4,
   "metadata": {},
   "outputs": [
    {
     "data": {
      "text/plain": [
       "3.0"
      ]
     },
     "execution_count": 4,
     "metadata": {},
     "output_type": "execute_result"
    }
   ],
   "source": [
    "p.y"
   ]
  },
  {
   "cell_type": "code",
   "execution_count": 5,
   "metadata": {},
   "outputs": [
    {
     "data": {
      "text/plain": [
       "+ (generic function with 181 methods)"
      ]
     },
     "execution_count": 5,
     "metadata": {},
     "output_type": "execute_result"
    }
   ],
   "source": [
    "import Base: +\n",
    "+(p1::Point,p2::Point)=Point(p1.x+p2.x,p1.y+p2.y)"
   ]
  },
  {
   "cell_type": "code",
   "execution_count": 6,
   "metadata": {},
   "outputs": [
    {
     "data": {
      "text/plain": [
       "Point(1.0, 1.0)"
      ]
     },
     "execution_count": 6,
     "metadata": {},
     "output_type": "execute_result"
    }
   ],
   "source": [
    "Point(0,1)+Point(1,0)"
   ]
  },
  {
   "cell_type": "markdown",
   "metadata": {},
   "source": [
    "Our method was added to the method table"
   ]
  },
  {
   "cell_type": "code",
   "execution_count": 43,
   "metadata": {},
   "outputs": [
    {
     "data": {
      "text/html": [
       "181 methods for generic function <b>+</b>:<ul><li> +(x::<b>Bool</b>, z::<b>Complex{Bool}</b>) at <a href=\"https://github.com/JuliaLang/julia/tree/903644385b91ed8d95e5e3a5716c089dd1f1b08a/base/complex.jl#L232\" target=\"_blank\">complex.jl:232</a></li> <li> +(x::<b>Bool</b>, y::<b>Bool</b>) at <a href=\"https://github.com/JuliaLang/julia/tree/903644385b91ed8d95e5e3a5716c089dd1f1b08a/base/bool.jl#L89\" target=\"_blank\">bool.jl:89</a></li> <li> +(x::<b>Bool</b>) at <a href=\"https://github.com/JuliaLang/julia/tree/903644385b91ed8d95e5e3a5716c089dd1f1b08a/base/bool.jl#L86\" target=\"_blank\">bool.jl:86</a></li> <li> +<i>{T<:AbstractFloat}</i>(x::<b>Bool</b>, y::<b>T</b>) at <a href=\"https://github.com/JuliaLang/julia/tree/903644385b91ed8d95e5e3a5716c089dd1f1b08a/base/bool.jl#L96\" target=\"_blank\">bool.jl:96</a></li> <li> +(x::<b>Bool</b>, z::<b>Complex</b>) at <a href=\"https://github.com/JuliaLang/julia/tree/903644385b91ed8d95e5e3a5716c089dd1f1b08a/base/complex.jl#L239\" target=\"_blank\">complex.jl:239</a></li> <li> +(a::<b>Float16</b>, b::<b>Float16</b>) at <a href=\"https://github.com/JuliaLang/julia/tree/903644385b91ed8d95e5e3a5716c089dd1f1b08a/base/float.jl#L372\" target=\"_blank\">float.jl:372</a></li> <li> +(x::<b>Float32</b>, y::<b>Float32</b>) at <a href=\"https://github.com/JuliaLang/julia/tree/903644385b91ed8d95e5e3a5716c089dd1f1b08a/base/float.jl#L374\" target=\"_blank\">float.jl:374</a></li> <li> +(x::<b>Float64</b>, y::<b>Float64</b>) at <a href=\"https://github.com/JuliaLang/julia/tree/903644385b91ed8d95e5e3a5716c089dd1f1b08a/base/float.jl#L375\" target=\"_blank\">float.jl:375</a></li> <li> +(z::<b>Complex{Bool}</b>, x::<b>Bool</b>) at <a href=\"https://github.com/JuliaLang/julia/tree/903644385b91ed8d95e5e3a5716c089dd1f1b08a/base/complex.jl#L233\" target=\"_blank\">complex.jl:233</a></li> <li> +(z::<b>Complex{Bool}</b>, x::<b>Real</b>) at <a href=\"https://github.com/JuliaLang/julia/tree/903644385b91ed8d95e5e3a5716c089dd1f1b08a/base/complex.jl#L247\" target=\"_blank\">complex.jl:247</a></li> <li> +(x::<b>Char</b>, y::<b>Integer</b>) at <a href=\"https://github.com/JuliaLang/julia/tree/903644385b91ed8d95e5e3a5716c089dd1f1b08a/base/char.jl#L40\" target=\"_blank\">char.jl:40</a></li> <li> +(c::<b>BigInt</b>, x::<b>BigFloat</b>) at <a href=\"https://github.com/JuliaLang/julia/tree/903644385b91ed8d95e5e3a5716c089dd1f1b08a/base/mpfr.jl#L312\" target=\"_blank\">mpfr.jl:312</a></li> <li> +(a::<b>BigInt</b>, b::<b>BigInt</b>, c::<b>BigInt</b>, d::<b>BigInt</b>, e::<b>BigInt</b>) at <a href=\"https://github.com/JuliaLang/julia/tree/903644385b91ed8d95e5e3a5716c089dd1f1b08a/base/gmp.jl#L334\" target=\"_blank\">gmp.jl:334</a></li> <li> +(a::<b>BigInt</b>, b::<b>BigInt</b>, c::<b>BigInt</b>, d::<b>BigInt</b>) at <a href=\"https://github.com/JuliaLang/julia/tree/903644385b91ed8d95e5e3a5716c089dd1f1b08a/base/gmp.jl#L327\" target=\"_blank\">gmp.jl:327</a></li> <li> +(a::<b>BigInt</b>, b::<b>BigInt</b>, c::<b>BigInt</b>) at <a href=\"https://github.com/JuliaLang/julia/tree/903644385b91ed8d95e5e3a5716c089dd1f1b08a/base/gmp.jl#L321\" target=\"_blank\">gmp.jl:321</a></li> <li> +(x::<b>BigInt</b>, y::<b>BigInt</b>) at <a href=\"https://github.com/JuliaLang/julia/tree/903644385b91ed8d95e5e3a5716c089dd1f1b08a/base/gmp.jl#L289\" target=\"_blank\">gmp.jl:289</a></li> <li> +(x::<b>BigInt</b>, c::<b>Union{UInt16, UInt32, UInt64, UInt8}</b>) at <a href=\"https://github.com/JuliaLang/julia/tree/903644385b91ed8d95e5e3a5716c089dd1f1b08a/base/gmp.jl#L346\" target=\"_blank\">gmp.jl:346</a></li> <li> +(x::<b>BigInt</b>, c::<b>Union{Int16, Int32, Int64, Int8}</b>) at <a href=\"https://github.com/JuliaLang/julia/tree/903644385b91ed8d95e5e3a5716c089dd1f1b08a/base/gmp.jl#L362\" target=\"_blank\">gmp.jl:362</a></li> <li> +(a::<b>BigFloat</b>, b::<b>BigFloat</b>, c::<b>BigFloat</b>, d::<b>BigFloat</b>, e::<b>BigFloat</b>) at <a href=\"https://github.com/JuliaLang/julia/tree/903644385b91ed8d95e5e3a5716c089dd1f1b08a/base/mpfr.jl#L460\" target=\"_blank\">mpfr.jl:460</a></li> <li> +(a::<b>BigFloat</b>, b::<b>BigFloat</b>, c::<b>BigFloat</b>, d::<b>BigFloat</b>) at <a href=\"https://github.com/JuliaLang/julia/tree/903644385b91ed8d95e5e3a5716c089dd1f1b08a/base/mpfr.jl#L453\" target=\"_blank\">mpfr.jl:453</a></li> <li> +(a::<b>BigFloat</b>, b::<b>BigFloat</b>, c::<b>BigFloat</b>) at <a href=\"https://github.com/JuliaLang/julia/tree/903644385b91ed8d95e5e3a5716c089dd1f1b08a/base/mpfr.jl#L447\" target=\"_blank\">mpfr.jl:447</a></li> <li> +(x::<b>BigFloat</b>, c::<b>BigInt</b>) at <a href=\"https://github.com/JuliaLang/julia/tree/903644385b91ed8d95e5e3a5716c089dd1f1b08a/base/mpfr.jl#L308\" target=\"_blank\">mpfr.jl:308</a></li> <li> +(x::<b>BigFloat</b>, y::<b>BigFloat</b>) at <a href=\"https://github.com/JuliaLang/julia/tree/903644385b91ed8d95e5e3a5716c089dd1f1b08a/base/mpfr.jl#L277\" target=\"_blank\">mpfr.jl:277</a></li> <li> +(x::<b>BigFloat</b>, c::<b>Union{UInt16, UInt32, UInt64, UInt8}</b>) at <a href=\"https://github.com/JuliaLang/julia/tree/903644385b91ed8d95e5e3a5716c089dd1f1b08a/base/mpfr.jl#L284\" target=\"_blank\">mpfr.jl:284</a></li> <li> +(x::<b>BigFloat</b>, c::<b>Union{Int16, Int32, Int64, Int8}</b>) at <a href=\"https://github.com/JuliaLang/julia/tree/903644385b91ed8d95e5e3a5716c089dd1f1b08a/base/mpfr.jl#L292\" target=\"_blank\">mpfr.jl:292</a></li> <li> +(x::<b>BigFloat</b>, c::<b>Union{Float16, Float32, Float64}</b>) at <a href=\"https://github.com/JuliaLang/julia/tree/903644385b91ed8d95e5e3a5716c089dd1f1b08a/base/mpfr.jl#L300\" target=\"_blank\">mpfr.jl:300</a></li> <li> +(B::<b>BitArray{2}</b>, J::<b>UniformScaling</b>) at <a href=\"https://github.com/JuliaLang/julia/tree/903644385b91ed8d95e5e3a5716c089dd1f1b08a/base/linalg/uniformscaling.jl#L59\" target=\"_blank\">linalg/uniformscaling.jl:59</a></li> <li> +(a::<b>Base.Pkg.Resolve.VersionWeights.VWPreBuildItem</b>, b::<b>Base.Pkg.Resolve.VersionWeights.VWPreBuildItem</b>) at <a href=\"https://github.com/JuliaLang/julia/tree/903644385b91ed8d95e5e3a5716c089dd1f1b08a/base/pkg/resolve/versionweight.jl#L87\" target=\"_blank\">pkg/resolve/versionweight.jl:87</a></li> <li> +(a::<b>Base.Pkg.Resolve.VersionWeights.VWPreBuild</b>, b::<b>Base.Pkg.Resolve.VersionWeights.VWPreBuild</b>) at <a href=\"https://github.com/JuliaLang/julia/tree/903644385b91ed8d95e5e3a5716c089dd1f1b08a/base/pkg/resolve/versionweight.jl#L135\" target=\"_blank\">pkg/resolve/versionweight.jl:135</a></li> <li> +(a::<b>Base.Pkg.Resolve.VersionWeights.VersionWeight</b>, b::<b>Base.Pkg.Resolve.VersionWeights.VersionWeight</b>) at <a href=\"https://github.com/JuliaLang/julia/tree/903644385b91ed8d95e5e3a5716c089dd1f1b08a/base/pkg/resolve/versionweight.jl#L197\" target=\"_blank\">pkg/resolve/versionweight.jl:197</a></li> <li> +(a::<b>Base.Pkg.Resolve.MaxSum.FieldValues.FieldValue</b>, b::<b>Base.Pkg.Resolve.MaxSum.FieldValues.FieldValue</b>) at <a href=\"https://github.com/JuliaLang/julia/tree/903644385b91ed8d95e5e3a5716c089dd1f1b08a/base/pkg/resolve/fieldvalue.jl#L44\" target=\"_blank\">pkg/resolve/fieldvalue.jl:44</a></li> <li> +(x::<b>Base.Dates.CompoundPeriod</b>, y::<b>Base.Dates.CompoundPeriod</b>) at <a href=\"https://github.com/JuliaLang/julia/tree/903644385b91ed8d95e5e3a5716c089dd1f1b08a/base/dates/periods.jl#L349\" target=\"_blank\">dates/periods.jl:349</a></li> <li> +(x::<b>Base.Dates.CompoundPeriod</b>, y::<b>Base.Dates.Period</b>) at <a href=\"https://github.com/JuliaLang/julia/tree/903644385b91ed8d95e5e3a5716c089dd1f1b08a/base/dates/periods.jl#L347\" target=\"_blank\">dates/periods.jl:347</a></li> <li> +(x::<b>Base.Dates.CompoundPeriod</b>, y::<b>Base.Dates.TimeType</b>) at <a href=\"https://github.com/JuliaLang/julia/tree/903644385b91ed8d95e5e3a5716c089dd1f1b08a/base/dates/periods.jl#L387\" target=\"_blank\">dates/periods.jl:387</a></li> <li> +(x::<b>Date</b>, y::<b>Base.Dates.Day</b>) at <a href=\"https://github.com/JuliaLang/julia/tree/903644385b91ed8d95e5e3a5716c089dd1f1b08a/base/dates/arithmetic.jl#L77\" target=\"_blank\">dates/arithmetic.jl:77</a></li> <li> +(x::<b>Date</b>, y::<b>Base.Dates.Week</b>) at <a href=\"https://github.com/JuliaLang/julia/tree/903644385b91ed8d95e5e3a5716c089dd1f1b08a/base/dates/arithmetic.jl#L75\" target=\"_blank\">dates/arithmetic.jl:75</a></li> <li> +(dt::<b>Date</b>, z::<b>Base.Dates.Month</b>) at <a href=\"https://github.com/JuliaLang/julia/tree/903644385b91ed8d95e5e3a5716c089dd1f1b08a/base/dates/arithmetic.jl#L58\" target=\"_blank\">dates/arithmetic.jl:58</a></li> <li> +(dt::<b>Date</b>, y::<b>Base.Dates.Year</b>) at <a href=\"https://github.com/JuliaLang/julia/tree/903644385b91ed8d95e5e3a5716c089dd1f1b08a/base/dates/arithmetic.jl#L32\" target=\"_blank\">dates/arithmetic.jl:32</a></li> <li> +(dt::<b>Date</b>, t::<b>Base.Dates.Time</b>) at <a href=\"https://github.com/JuliaLang/julia/tree/903644385b91ed8d95e5e3a5716c089dd1f1b08a/base/dates/arithmetic.jl#L20\" target=\"_blank\">dates/arithmetic.jl:20</a></li> <li> +(t::<b>Base.Dates.Time</b>, dt::<b>Date</b>) at <a href=\"https://github.com/JuliaLang/julia/tree/903644385b91ed8d95e5e3a5716c089dd1f1b08a/base/dates/arithmetic.jl#L24\" target=\"_blank\">dates/arithmetic.jl:24</a></li> <li> +(x::<b>Base.Dates.Time</b>, y::<b>Base.Dates.TimePeriod</b>) at <a href=\"https://github.com/JuliaLang/julia/tree/903644385b91ed8d95e5e3a5716c089dd1f1b08a/base/dates/arithmetic.jl#L81\" target=\"_blank\">dates/arithmetic.jl:81</a></li> <li> +(dt::<b>DateTime</b>, z::<b>Base.Dates.Month</b>) at <a href=\"https://github.com/JuliaLang/julia/tree/903644385b91ed8d95e5e3a5716c089dd1f1b08a/base/dates/arithmetic.jl#L52\" target=\"_blank\">dates/arithmetic.jl:52</a></li> <li> +(dt::<b>DateTime</b>, y::<b>Base.Dates.Year</b>) at <a href=\"https://github.com/JuliaLang/julia/tree/903644385b91ed8d95e5e3a5716c089dd1f1b08a/base/dates/arithmetic.jl#L28\" target=\"_blank\">dates/arithmetic.jl:28</a></li> <li> +(x::<b>DateTime</b>, y::<b>Base.Dates.Period</b>) at <a href=\"https://github.com/JuliaLang/julia/tree/903644385b91ed8d95e5e3a5716c089dd1f1b08a/base/dates/arithmetic.jl#L79\" target=\"_blank\">dates/arithmetic.jl:79</a></li> <li> +(p1::<b>Point</b>, p2::<b>Point</b>) at In[5]:2</li> <li> +(y::<b>AbstractFloat</b>, x::<b>Bool</b>) at <a href=\"https://github.com/JuliaLang/julia/tree/903644385b91ed8d95e5e3a5716c089dd1f1b08a/base/bool.jl#L98\" target=\"_blank\">bool.jl:98</a></li> <li> +<i>{T<:Union{Int128, Int16, Int32, Int64, Int8, UInt128, UInt16, UInt32, UInt64, UInt8}}</i>(x::<b>T</b>, y::<b>T</b>) at <a href=\"https://github.com/JuliaLang/julia/tree/903644385b91ed8d95e5e3a5716c089dd1f1b08a/base/int.jl#L32\" target=\"_blank\">int.jl:32</a></li> <li> +(x::<b>Integer</b>, y::<b>Ptr</b>) at <a href=\"https://github.com/JuliaLang/julia/tree/903644385b91ed8d95e5e3a5716c089dd1f1b08a/base/pointer.jl#L128\" target=\"_blank\">pointer.jl:128</a></li> <li> +(z::<b>Complex</b>, w::<b>Complex</b>) at <a href=\"https://github.com/JuliaLang/julia/tree/903644385b91ed8d95e5e3a5716c089dd1f1b08a/base/complex.jl#L221\" target=\"_blank\">complex.jl:221</a></li> <li> +(z::<b>Complex</b>, x::<b>Bool</b>) at <a href=\"https://github.com/JuliaLang/julia/tree/903644385b91ed8d95e5e3a5716c089dd1f1b08a/base/complex.jl#L240\" target=\"_blank\">complex.jl:240</a></li> <li> +(x::<b>Real</b>, z::<b>Complex{Bool}</b>) at <a href=\"https://github.com/JuliaLang/julia/tree/903644385b91ed8d95e5e3a5716c089dd1f1b08a/base/complex.jl#L246\" target=\"_blank\">complex.jl:246</a></li> <li> +(x::<b>Real</b>, z::<b>Complex</b>) at <a href=\"https://github.com/JuliaLang/julia/tree/903644385b91ed8d95e5e3a5716c089dd1f1b08a/base/complex.jl#L258\" target=\"_blank\">complex.jl:258</a></li> <li> +(z::<b>Complex</b>, x::<b>Real</b>) at <a href=\"https://github.com/JuliaLang/julia/tree/903644385b91ed8d95e5e3a5716c089dd1f1b08a/base/complex.jl#L259\" target=\"_blank\">complex.jl:259</a></li> <li> +(x::<b>Rational</b>, y::<b>Rational</b>) at <a href=\"https://github.com/JuliaLang/julia/tree/903644385b91ed8d95e5e3a5716c089dd1f1b08a/base/rational.jl#L245\" target=\"_blank\">rational.jl:245</a></li> <li> +(x::<b>Integer</b>, y::<b>Char</b>) at <a href=\"https://github.com/JuliaLang/julia/tree/903644385b91ed8d95e5e3a5716c089dd1f1b08a/base/char.jl#L41\" target=\"_blank\">char.jl:41</a></li> <li> +(i::<b>Integer</b>, index::<b>CartesianIndex</b>) at <a href=\"https://github.com/JuliaLang/julia/tree/903644385b91ed8d95e5e3a5716c089dd1f1b08a/base/multidimensional.jl#L79\" target=\"_blank\">multidimensional.jl:79</a></li> <li> +(c::<b>Union{UInt16, UInt32, UInt64, UInt8}</b>, x::<b>BigInt</b>) at <a href=\"https://github.com/JuliaLang/julia/tree/903644385b91ed8d95e5e3a5716c089dd1f1b08a/base/gmp.jl#L350\" target=\"_blank\">gmp.jl:350</a></li> <li> +(c::<b>Union{Int16, Int32, Int64, Int8}</b>, x::<b>BigInt</b>) at <a href=\"https://github.com/JuliaLang/julia/tree/903644385b91ed8d95e5e3a5716c089dd1f1b08a/base/gmp.jl#L363\" target=\"_blank\">gmp.jl:363</a></li> <li> +(c::<b>Union{UInt16, UInt32, UInt64, UInt8}</b>, x::<b>BigFloat</b>) at <a href=\"https://github.com/JuliaLang/julia/tree/903644385b91ed8d95e5e3a5716c089dd1f1b08a/base/mpfr.jl#L288\" target=\"_blank\">mpfr.jl:288</a></li> <li> +(c::<b>Union{Int16, Int32, Int64, Int8}</b>, x::<b>BigFloat</b>) at <a href=\"https://github.com/JuliaLang/julia/tree/903644385b91ed8d95e5e3a5716c089dd1f1b08a/base/mpfr.jl#L296\" target=\"_blank\">mpfr.jl:296</a></li> <li> +(c::<b>Union{Float16, Float32, Float64}</b>, x::<b>BigFloat</b>) at <a href=\"https://github.com/JuliaLang/julia/tree/903644385b91ed8d95e5e3a5716c089dd1f1b08a/base/mpfr.jl#L304\" target=\"_blank\">mpfr.jl:304</a></li> <li> +(x::<b>Irrational</b>, y::<b>Irrational</b>) at <a href=\"https://github.com/JuliaLang/julia/tree/903644385b91ed8d95e5e3a5716c089dd1f1b08a/base/irrationals.jl#L109\" target=\"_blank\">irrationals.jl:109</a></li> <li> +(x::<b>Real</b>, r::<b>Base.Use_StepRangeLen_Instead</b>) at <a href=\"https://github.com/JuliaLang/julia/tree/903644385b91ed8d95e5e3a5716c089dd1f1b08a/base/deprecated.jl#L1223\" target=\"_blank\">deprecated.jl:1223</a></li> <li> +(x::<b>Number</b>) at <a href=\"https://github.com/JuliaLang/julia/tree/903644385b91ed8d95e5e3a5716c089dd1f1b08a/base/operators.jl#L399\" target=\"_blank\">operators.jl:399</a></li> <li> +<i>{T<:Number}</i>(x::<b>T</b>, y::<b>T</b>) at <a href=\"https://github.com/JuliaLang/julia/tree/903644385b91ed8d95e5e3a5716c089dd1f1b08a/base/promotion.jl#L335\" target=\"_blank\">promotion.jl:335</a></li> <li> +(x::<b>Number</b>, y::<b>Number</b>) at <a href=\"https://github.com/JuliaLang/julia/tree/903644385b91ed8d95e5e3a5716c089dd1f1b08a/base/promotion.jl#L249\" target=\"_blank\">promotion.jl:249</a></li> <li> +(x::<b>Real</b>, r::<b>AbstractUnitRange</b>) at <a href=\"https://github.com/JuliaLang/julia/tree/903644385b91ed8d95e5e3a5716c089dd1f1b08a/base/range.jl#L721\" target=\"_blank\">range.jl:721</a></li> <li> +(x::<b>Number</b>, r::<b>AbstractUnitRange</b>) at <a href=\"https://github.com/JuliaLang/julia/tree/903644385b91ed8d95e5e3a5716c089dd1f1b08a/base/range.jl#L723\" target=\"_blank\">range.jl:723</a></li> <li> +(x::<b>Number</b>, r::<b>StepRangeLen</b>) at <a href=\"https://github.com/JuliaLang/julia/tree/903644385b91ed8d95e5e3a5716c089dd1f1b08a/base/range.jl#L726\" target=\"_blank\">range.jl:726</a></li> <li> +(x::<b>Number</b>, r::<b>LinSpace</b>) at <a href=\"https://github.com/JuliaLang/julia/tree/903644385b91ed8d95e5e3a5716c089dd1f1b08a/base/range.jl#L730\" target=\"_blank\">range.jl:730</a></li> <li> +(x::<b>Number</b>, r::<b>Range</b>) at <a href=\"https://github.com/JuliaLang/julia/tree/903644385b91ed8d95e5e3a5716c089dd1f1b08a/base/range.jl#L724\" target=\"_blank\">range.jl:724</a></li> <li> +(r::<b>Range</b>, x::<b>Number</b>) at <a href=\"https://github.com/JuliaLang/julia/tree/903644385b91ed8d95e5e3a5716c089dd1f1b08a/base/range.jl#L732\" target=\"_blank\">range.jl:732</a></li> <li> +(r1::<b>OrdinalRange</b>, r2::<b>OrdinalRange</b>) at <a href=\"https://github.com/JuliaLang/julia/tree/903644385b91ed8d95e5e3a5716c089dd1f1b08a/base/range.jl#L882\" target=\"_blank\">range.jl:882</a></li> <li> +<i>{T}</i>(r1::<b>LinSpace{T}</b>, r2::<b>LinSpace{T}</b>) at <a href=\"https://github.com/JuliaLang/julia/tree/903644385b91ed8d95e5e3a5716c089dd1f1b08a/base/range.jl#L889\" target=\"_blank\">range.jl:889</a></li> <li> +<i>{R<:Base.TwicePrecision, T}</i>(r1::<b>StepRangeLen{T,R,S} where S</b>, r2::<b>StepRangeLen{T,R,S} where S</b>) at <a href=\"https://github.com/JuliaLang/julia/tree/903644385b91ed8d95e5e3a5716c089dd1f1b08a/base/twiceprecision.jl#L300\" target=\"_blank\">twiceprecision.jl:300</a></li> <li> +<i>{T, S}</i>(r1::<b>StepRangeLen{T,S,S} where S</b>, r2::<b>StepRangeLen{T,S,S} where S</b>) at <a href=\"https://github.com/JuliaLang/julia/tree/903644385b91ed8d95e5e3a5716c089dd1f1b08a/base/range.jl#L905\" target=\"_blank\">range.jl:905</a></li> <li> +(r1::<b>Union{LinSpace, OrdinalRange, StepRangeLen}</b>, r2::<b>Union{LinSpace, OrdinalRange, StepRangeLen}</b>) at <a href=\"https://github.com/JuliaLang/julia/tree/903644385b91ed8d95e5e3a5716c089dd1f1b08a/base/range.jl#L896\" target=\"_blank\">range.jl:896</a></li> <li> +(x::<b>Base.TwicePrecision</b>, y::<b>Number</b>) at <a href=\"https://github.com/JuliaLang/julia/tree/903644385b91ed8d95e5e3a5716c089dd1f1b08a/base/twiceprecision.jl#L454\" target=\"_blank\">twiceprecision.jl:454</a></li> <li> +(x::<b>Number</b>, y::<b>Base.TwicePrecision</b>) at <a href=\"https://github.com/JuliaLang/julia/tree/903644385b91ed8d95e5e3a5716c089dd1f1b08a/base/twiceprecision.jl#L457\" target=\"_blank\">twiceprecision.jl:457</a></li> <li> +<i>{T}</i>(x::<b>Base.TwicePrecision{T}</b>, y::<b>Base.TwicePrecision{T}</b>) at <a href=\"https://github.com/JuliaLang/julia/tree/903644385b91ed8d95e5e3a5716c089dd1f1b08a/base/twiceprecision.jl#L460\" target=\"_blank\">twiceprecision.jl:460</a></li> <li> +(x::<b>Base.TwicePrecision</b>, y::<b>Base.TwicePrecision</b>) at <a href=\"https://github.com/JuliaLang/julia/tree/903644385b91ed8d95e5e3a5716c089dd1f1b08a/base/twiceprecision.jl#L464\" target=\"_blank\">twiceprecision.jl:464</a></li> <li> +(x::<b>Ptr</b>, y::<b>Integer</b>) at <a href=\"https://github.com/JuliaLang/julia/tree/903644385b91ed8d95e5e3a5716c089dd1f1b08a/base/pointer.jl#L126\" target=\"_blank\">pointer.jl:126</a></li> <li> +(A::<b>BitArray</b>, B::<b>BitArray</b>) at <a href=\"https://github.com/JuliaLang/julia/tree/903644385b91ed8d95e5e3a5716c089dd1f1b08a/base/bitarray.jl#L1176\" target=\"_blank\">bitarray.jl:1176</a></li> <li> +(A::<b>SymTridiagonal</b>, B::<b>SymTridiagonal</b>) at <a href=\"https://github.com/JuliaLang/julia/tree/903644385b91ed8d95e5e3a5716c089dd1f1b08a/base/linalg/tridiag.jl#L128\" target=\"_blank\">linalg/tridiag.jl:128</a></li> <li> +(A::<b>Tridiagonal</b>, B::<b>Tridiagonal</b>) at <a href=\"https://github.com/JuliaLang/julia/tree/903644385b91ed8d95e5e3a5716c089dd1f1b08a/base/linalg/tridiag.jl#L624\" target=\"_blank\">linalg/tridiag.jl:624</a></li> <li> +(A::<b>UpperTriangular</b>, B::<b>UpperTriangular</b>) at <a href=\"https://github.com/JuliaLang/julia/tree/903644385b91ed8d95e5e3a5716c089dd1f1b08a/base/linalg/triangular.jl#L374\" target=\"_blank\">linalg/triangular.jl:374</a></li> <li> +(A::<b>LowerTriangular</b>, B::<b>LowerTriangular</b>) at <a href=\"https://github.com/JuliaLang/julia/tree/903644385b91ed8d95e5e3a5716c089dd1f1b08a/base/linalg/triangular.jl#L375\" target=\"_blank\">linalg/triangular.jl:375</a></li> <li> +(A::<b>UpperTriangular</b>, B::<b>Base.LinAlg.UnitUpperTriangular</b>) at <a href=\"https://github.com/JuliaLang/julia/tree/903644385b91ed8d95e5e3a5716c089dd1f1b08a/base/linalg/triangular.jl#L376\" target=\"_blank\">linalg/triangular.jl:376</a></li> <li> +(A::<b>LowerTriangular</b>, B::<b>Base.LinAlg.UnitLowerTriangular</b>) at <a href=\"https://github.com/JuliaLang/julia/tree/903644385b91ed8d95e5e3a5716c089dd1f1b08a/base/linalg/triangular.jl#L377\" target=\"_blank\">linalg/triangular.jl:377</a></li> <li> +(A::<b>Base.LinAlg.UnitUpperTriangular</b>, B::<b>UpperTriangular</b>) at <a href=\"https://github.com/JuliaLang/julia/tree/903644385b91ed8d95e5e3a5716c089dd1f1b08a/base/linalg/triangular.jl#L378\" target=\"_blank\">linalg/triangular.jl:378</a></li> <li> +(A::<b>Base.LinAlg.UnitLowerTriangular</b>, B::<b>LowerTriangular</b>) at <a href=\"https://github.com/JuliaLang/julia/tree/903644385b91ed8d95e5e3a5716c089dd1f1b08a/base/linalg/triangular.jl#L379\" target=\"_blank\">linalg/triangular.jl:379</a></li> <li> +(A::<b>Base.LinAlg.UnitUpperTriangular</b>, B::<b>Base.LinAlg.UnitUpperTriangular</b>) at <a href=\"https://github.com/JuliaLang/julia/tree/903644385b91ed8d95e5e3a5716c089dd1f1b08a/base/linalg/triangular.jl#L380\" target=\"_blank\">linalg/triangular.jl:380</a></li> <li> +(A::<b>Base.LinAlg.UnitLowerTriangular</b>, B::<b>Base.LinAlg.UnitLowerTriangular</b>) at <a href=\"https://github.com/JuliaLang/julia/tree/903644385b91ed8d95e5e3a5716c089dd1f1b08a/base/linalg/triangular.jl#L381\" target=\"_blank\">linalg/triangular.jl:381</a></li> <li> +(A::<b>Base.LinAlg.AbstractTriangular</b>, B::<b>Base.LinAlg.AbstractTriangular</b>) at <a href=\"https://github.com/JuliaLang/julia/tree/903644385b91ed8d95e5e3a5716c089dd1f1b08a/base/linalg/triangular.jl#L382\" target=\"_blank\">linalg/triangular.jl:382</a></li> <li> +(A::<b>Symmetric</b>, x::<b>Bool</b>) at <a href=\"https://github.com/JuliaLang/julia/tree/903644385b91ed8d95e5e3a5716c089dd1f1b08a/base/linalg/symmetric.jl#L272\" target=\"_blank\">linalg/symmetric.jl:272</a></li> <li> +(A::<b>Symmetric</b>, x::<b>Number</b>) at <a href=\"https://github.com/JuliaLang/julia/tree/903644385b91ed8d95e5e3a5716c089dd1f1b08a/base/linalg/symmetric.jl#L274\" target=\"_blank\">linalg/symmetric.jl:274</a></li> <li> +(A::<b>Hermitian</b>, x::<b>Bool</b>) at <a href=\"https://github.com/JuliaLang/julia/tree/903644385b91ed8d95e5e3a5716c089dd1f1b08a/base/linalg/symmetric.jl#L272\" target=\"_blank\">linalg/symmetric.jl:272</a></li> <li> +(A::<b>Hermitian</b>, x::<b>Real</b>) at <a href=\"https://github.com/JuliaLang/julia/tree/903644385b91ed8d95e5e3a5716c089dd1f1b08a/base/linalg/symmetric.jl#L274\" target=\"_blank\">linalg/symmetric.jl:274</a></li> <li> +(Da::<b>Diagonal</b>, Db::<b>Diagonal</b>) at <a href=\"https://github.com/JuliaLang/julia/tree/903644385b91ed8d95e5e3a5716c089dd1f1b08a/base/linalg/diagonal.jl#L140\" target=\"_blank\">linalg/diagonal.jl:140</a></li> <li> +(A::<b>Bidiagonal</b>, B::<b>Bidiagonal</b>) at <a href=\"https://github.com/JuliaLang/julia/tree/903644385b91ed8d95e5e3a5716c089dd1f1b08a/base/linalg/bidiag.jl#L330\" target=\"_blank\">linalg/bidiag.jl:330</a></li> <li> +(UL::<b>UpperTriangular</b>, J::<b>UniformScaling</b>) at <a href=\"https://github.com/JuliaLang/julia/tree/903644385b91ed8d95e5e3a5716c089dd1f1b08a/base/linalg/uniformscaling.jl#L72\" target=\"_blank\">linalg/uniformscaling.jl:72</a></li> <li> +(UL::<b>Base.LinAlg.UnitUpperTriangular</b>, J::<b>UniformScaling</b>) at <a href=\"https://github.com/JuliaLang/julia/tree/903644385b91ed8d95e5e3a5716c089dd1f1b08a/base/linalg/uniformscaling.jl#L75\" target=\"_blank\">linalg/uniformscaling.jl:75</a></li> <li> +(UL::<b>LowerTriangular</b>, J::<b>UniformScaling</b>) at <a href=\"https://github.com/JuliaLang/julia/tree/903644385b91ed8d95e5e3a5716c089dd1f1b08a/base/linalg/uniformscaling.jl#L72\" target=\"_blank\">linalg/uniformscaling.jl:72</a></li> <li> +(UL::<b>Base.LinAlg.UnitLowerTriangular</b>, J::<b>UniformScaling</b>) at <a href=\"https://github.com/JuliaLang/julia/tree/903644385b91ed8d95e5e3a5716c089dd1f1b08a/base/linalg/uniformscaling.jl#L75\" target=\"_blank\">linalg/uniformscaling.jl:75</a></li> <li> +(A::<b>Array</b>, B::<b>SparseMatrixCSC</b>) at <a href=\"https://github.com/JuliaLang/julia/tree/903644385b91ed8d95e5e3a5716c089dd1f1b08a/base/sparse/sparsematrix.jl#L1462\" target=\"_blank\">sparse/sparsematrix.jl:1462</a></li> <li> +(x::<b>Union{Base.ReshapedArray{T,1,A,MI} where MI<:Tuple{Vararg{Base.MultiplicativeInverses.SignedMultiplicativeInverse{Int64},N} where N} where A<:DenseArray, DenseArray{T,1}, SubArray{T,1,A,I,L} where L} where I<:Tuple{Vararg{Union{Base.AbstractCartesianIndex, Int64, Range{Int64}},N} where N} where A<:Union{Base.ReshapedArray{T,N,A,MI} where MI<:Tuple{Vararg{Base.MultiplicativeInverses.SignedMultiplicativeInverse{Int64},N} where N} where A<:DenseArray where N where T, DenseArray} where T</b>, y::<b>AbstractSparseArray{Tv,Ti,1} where Ti where Tv</b>) at <a href=\"https://github.com/JuliaLang/julia/tree/903644385b91ed8d95e5e3a5716c089dd1f1b08a/base/sparse/sparsevector.jl#L1333\" target=\"_blank\">sparse/sparsevector.jl:1333</a></li> <li> +(x::<b>Union{Base.ReshapedArray{#s267,N,A,MI} where MI<:Tuple{Vararg{Base.MultiplicativeInverses.SignedMultiplicativeInverse{Int64},N} where N} where A<:DenseArray, DenseArray{#s267,N}, SubArray{#s267,N,A,I,L} where L} where I<:Tuple{Vararg{Union{Base.AbstractCartesianIndex, Int64, Range{Int64}},N} where N} where A<:Union{Base.ReshapedArray{T,N,A,MI} where MI<:Tuple{Vararg{Base.MultiplicativeInverses.SignedMultiplicativeInverse{Int64},N} where N} where A<:DenseArray where N where T, DenseArray} where N where #s267<:Union{Base.Dates.CompoundPeriod, Base.Dates.Period}</b>) at <a href=\"https://github.com/JuliaLang/julia/tree/903644385b91ed8d95e5e3a5716c089dd1f1b08a/base/dates/periods.jl#L358\" target=\"_blank\">dates/periods.jl:358</a></li> <li> +(A::<b>SparseMatrixCSC</b>, J::<b>UniformScaling</b>) at <a href=\"https://github.com/JuliaLang/julia/tree/903644385b91ed8d95e5e3a5716c089dd1f1b08a/base/sparse/sparsematrix.jl#L3512\" target=\"_blank\">sparse/sparsematrix.jl:3512</a></li> <li> +<i>{TA, TJ}</i>(A::<b>AbstractArray{TA,2}</b>, J::<b>UniformScaling{TJ}</b>) at <a href=\"https://github.com/JuliaLang/julia/tree/903644385b91ed8d95e5e3a5716c089dd1f1b08a/base/linalg/uniformscaling.jl#L119\" target=\"_blank\">linalg/uniformscaling.jl:119</a></li> <li> +(A::<b>Diagonal</b>, B::<b>Bidiagonal</b>) at <a href=\"https://github.com/JuliaLang/julia/tree/903644385b91ed8d95e5e3a5716c089dd1f1b08a/base/linalg/special.jl#L113\" target=\"_blank\">linalg/special.jl:113</a></li> <li> +(A::<b>Bidiagonal</b>, B::<b>Diagonal</b>) at <a href=\"https://github.com/JuliaLang/julia/tree/903644385b91ed8d95e5e3a5716c089dd1f1b08a/base/linalg/special.jl#L114\" target=\"_blank\">linalg/special.jl:114</a></li> <li> +(A::<b>Diagonal</b>, B::<b>Tridiagonal</b>) at <a href=\"https://github.com/JuliaLang/julia/tree/903644385b91ed8d95e5e3a5716c089dd1f1b08a/base/linalg/special.jl#L113\" target=\"_blank\">linalg/special.jl:113</a></li> <li> +(A::<b>Tridiagonal</b>, B::<b>Diagonal</b>) at <a href=\"https://github.com/JuliaLang/julia/tree/903644385b91ed8d95e5e3a5716c089dd1f1b08a/base/linalg/special.jl#L114\" target=\"_blank\">linalg/special.jl:114</a></li> <li> +(A::<b>Diagonal</b>, B::<b>Array{T,2} where T</b>) at <a href=\"https://github.com/JuliaLang/julia/tree/903644385b91ed8d95e5e3a5716c089dd1f1b08a/base/linalg/special.jl#L113\" target=\"_blank\">linalg/special.jl:113</a></li> <li> +(A::<b>Array{T,2} where T</b>, B::<b>Diagonal</b>) at <a href=\"https://github.com/JuliaLang/julia/tree/903644385b91ed8d95e5e3a5716c089dd1f1b08a/base/linalg/special.jl#L114\" target=\"_blank\">linalg/special.jl:114</a></li> <li> +(A::<b>Bidiagonal</b>, B::<b>Tridiagonal</b>) at <a href=\"https://github.com/JuliaLang/julia/tree/903644385b91ed8d95e5e3a5716c089dd1f1b08a/base/linalg/special.jl#L113\" target=\"_blank\">linalg/special.jl:113</a></li> <li> +(A::<b>Tridiagonal</b>, B::<b>Bidiagonal</b>) at <a href=\"https://github.com/JuliaLang/julia/tree/903644385b91ed8d95e5e3a5716c089dd1f1b08a/base/linalg/special.jl#L114\" target=\"_blank\">linalg/special.jl:114</a></li> <li> +(A::<b>Bidiagonal</b>, B::<b>Array{T,2} where T</b>) at <a href=\"https://github.com/JuliaLang/julia/tree/903644385b91ed8d95e5e3a5716c089dd1f1b08a/base/linalg/special.jl#L113\" target=\"_blank\">linalg/special.jl:113</a></li> <li> +(A::<b>Array{T,2} where T</b>, B::<b>Bidiagonal</b>) at <a href=\"https://github.com/JuliaLang/julia/tree/903644385b91ed8d95e5e3a5716c089dd1f1b08a/base/linalg/special.jl#L114\" target=\"_blank\">linalg/special.jl:114</a></li> <li> +(A::<b>Tridiagonal</b>, B::<b>Array{T,2} where T</b>) at <a href=\"https://github.com/JuliaLang/julia/tree/903644385b91ed8d95e5e3a5716c089dd1f1b08a/base/linalg/special.jl#L113\" target=\"_blank\">linalg/special.jl:113</a></li> <li> +(A::<b>Array{T,2} where T</b>, B::<b>Tridiagonal</b>) at <a href=\"https://github.com/JuliaLang/julia/tree/903644385b91ed8d95e5e3a5716c089dd1f1b08a/base/linalg/special.jl#L114\" target=\"_blank\">linalg/special.jl:114</a></li> <li> +(A::<b>SymTridiagonal</b>, B::<b>Tridiagonal</b>) at <a href=\"https://github.com/JuliaLang/julia/tree/903644385b91ed8d95e5e3a5716c089dd1f1b08a/base/linalg/special.jl#L122\" target=\"_blank\">linalg/special.jl:122</a></li> <li> +(A::<b>Tridiagonal</b>, B::<b>SymTridiagonal</b>) at <a href=\"https://github.com/JuliaLang/julia/tree/903644385b91ed8d95e5e3a5716c089dd1f1b08a/base/linalg/special.jl#L123\" target=\"_blank\">linalg/special.jl:123</a></li> <li> +(A::<b>SymTridiagonal</b>, B::<b>Array{T,2} where T</b>) at <a href=\"https://github.com/JuliaLang/julia/tree/903644385b91ed8d95e5e3a5716c089dd1f1b08a/base/linalg/special.jl#L122\" target=\"_blank\">linalg/special.jl:122</a></li> <li> +(A::<b>Array{T,2} where T</b>, B::<b>SymTridiagonal</b>) at <a href=\"https://github.com/JuliaLang/julia/tree/903644385b91ed8d95e5e3a5716c089dd1f1b08a/base/linalg/special.jl#L123\" target=\"_blank\">linalg/special.jl:123</a></li> <li> +(A::<b>Diagonal</b>, B::<b>SymTridiagonal</b>) at <a href=\"https://github.com/JuliaLang/julia/tree/903644385b91ed8d95e5e3a5716c089dd1f1b08a/base/linalg/special.jl#L131\" target=\"_blank\">linalg/special.jl:131</a></li> <li> +(A::<b>SymTridiagonal</b>, B::<b>Diagonal</b>) at <a href=\"https://github.com/JuliaLang/julia/tree/903644385b91ed8d95e5e3a5716c089dd1f1b08a/base/linalg/special.jl#L132\" target=\"_blank\">linalg/special.jl:132</a></li> <li> +(A::<b>Bidiagonal</b>, B::<b>SymTridiagonal</b>) at <a href=\"https://github.com/JuliaLang/julia/tree/903644385b91ed8d95e5e3a5716c089dd1f1b08a/base/linalg/special.jl#L131\" target=\"_blank\">linalg/special.jl:131</a></li> <li> +(A::<b>SymTridiagonal</b>, B::<b>Bidiagonal</b>) at <a href=\"https://github.com/JuliaLang/julia/tree/903644385b91ed8d95e5e3a5716c089dd1f1b08a/base/linalg/special.jl#L132\" target=\"_blank\">linalg/special.jl:132</a></li> <li> +(A::<b>Diagonal</b>, B::<b>UpperTriangular</b>) at <a href=\"https://github.com/JuliaLang/julia/tree/903644385b91ed8d95e5e3a5716c089dd1f1b08a/base/linalg/special.jl#L143\" target=\"_blank\">linalg/special.jl:143</a></li> <li> +(A::<b>UpperTriangular</b>, B::<b>Diagonal</b>) at <a href=\"https://github.com/JuliaLang/julia/tree/903644385b91ed8d95e5e3a5716c089dd1f1b08a/base/linalg/special.jl#L144\" target=\"_blank\">linalg/special.jl:144</a></li> <li> +(A::<b>Diagonal</b>, B::<b>Base.LinAlg.UnitUpperTriangular</b>) at <a href=\"https://github.com/JuliaLang/julia/tree/903644385b91ed8d95e5e3a5716c089dd1f1b08a/base/linalg/special.jl#L143\" target=\"_blank\">linalg/special.jl:143</a></li> <li> +(A::<b>Base.LinAlg.UnitUpperTriangular</b>, B::<b>Diagonal</b>) at <a href=\"https://github.com/JuliaLang/julia/tree/903644385b91ed8d95e5e3a5716c089dd1f1b08a/base/linalg/special.jl#L144\" target=\"_blank\">linalg/special.jl:144</a></li> <li> +(A::<b>Diagonal</b>, B::<b>LowerTriangular</b>) at <a href=\"https://github.com/JuliaLang/julia/tree/903644385b91ed8d95e5e3a5716c089dd1f1b08a/base/linalg/special.jl#L143\" target=\"_blank\">linalg/special.jl:143</a></li> <li> +(A::<b>LowerTriangular</b>, B::<b>Diagonal</b>) at <a href=\"https://github.com/JuliaLang/julia/tree/903644385b91ed8d95e5e3a5716c089dd1f1b08a/base/linalg/special.jl#L144\" target=\"_blank\">linalg/special.jl:144</a></li> <li> +(A::<b>Diagonal</b>, B::<b>Base.LinAlg.UnitLowerTriangular</b>) at <a href=\"https://github.com/JuliaLang/julia/tree/903644385b91ed8d95e5e3a5716c089dd1f1b08a/base/linalg/special.jl#L143\" target=\"_blank\">linalg/special.jl:143</a></li> <li> +(A::<b>Base.LinAlg.UnitLowerTriangular</b>, B::<b>Diagonal</b>) at <a href=\"https://github.com/JuliaLang/julia/tree/903644385b91ed8d95e5e3a5716c089dd1f1b08a/base/linalg/special.jl#L144\" target=\"_blank\">linalg/special.jl:144</a></li> <li> +(A::<b>Base.LinAlg.AbstractTriangular</b>, B::<b>SymTridiagonal</b>) at <a href=\"https://github.com/JuliaLang/julia/tree/903644385b91ed8d95e5e3a5716c089dd1f1b08a/base/linalg/special.jl#L150\" target=\"_blank\">linalg/special.jl:150</a></li> <li> +(A::<b>SymTridiagonal</b>, B::<b>Base.LinAlg.AbstractTriangular</b>) at <a href=\"https://github.com/JuliaLang/julia/tree/903644385b91ed8d95e5e3a5716c089dd1f1b08a/base/linalg/special.jl#L151\" target=\"_blank\">linalg/special.jl:151</a></li> <li> +(A::<b>Base.LinAlg.AbstractTriangular</b>, B::<b>Tridiagonal</b>) at <a href=\"https://github.com/JuliaLang/julia/tree/903644385b91ed8d95e5e3a5716c089dd1f1b08a/base/linalg/special.jl#L150\" target=\"_blank\">linalg/special.jl:150</a></li> <li> +(A::<b>Tridiagonal</b>, B::<b>Base.LinAlg.AbstractTriangular</b>) at <a href=\"https://github.com/JuliaLang/julia/tree/903644385b91ed8d95e5e3a5716c089dd1f1b08a/base/linalg/special.jl#L151\" target=\"_blank\">linalg/special.jl:151</a></li> <li> +(A::<b>Base.LinAlg.AbstractTriangular</b>, B::<b>Bidiagonal</b>) at <a href=\"https://github.com/JuliaLang/julia/tree/903644385b91ed8d95e5e3a5716c089dd1f1b08a/base/linalg/special.jl#L150\" target=\"_blank\">linalg/special.jl:150</a></li> <li> +(A::<b>Bidiagonal</b>, B::<b>Base.LinAlg.AbstractTriangular</b>) at <a href=\"https://github.com/JuliaLang/julia/tree/903644385b91ed8d95e5e3a5716c089dd1f1b08a/base/linalg/special.jl#L151\" target=\"_blank\">linalg/special.jl:151</a></li> <li> +(A::<b>Base.LinAlg.AbstractTriangular</b>, B::<b>Array{T,2} where T</b>) at <a href=\"https://github.com/JuliaLang/julia/tree/903644385b91ed8d95e5e3a5716c089dd1f1b08a/base/linalg/special.jl#L150\" target=\"_blank\">linalg/special.jl:150</a></li> <li> +(A::<b>Array{T,2} where T</b>, B::<b>Base.LinAlg.AbstractTriangular</b>) at <a href=\"https://github.com/JuliaLang/julia/tree/903644385b91ed8d95e5e3a5716c089dd1f1b08a/base/linalg/special.jl#L151\" target=\"_blank\">linalg/special.jl:151</a></li> <li> +(Y::<b>Union{Base.ReshapedArray{#s266,N,A,MI} where MI<:Tuple{Vararg{Base.MultiplicativeInverses.SignedMultiplicativeInverse{Int64},N} where N} where A<:DenseArray, DenseArray{#s266,N}, SubArray{#s266,N,A,I,L} where L} where I<:Tuple{Vararg{Union{Base.AbstractCartesianIndex, Int64, Range{Int64}},N} where N} where A<:Union{Base.ReshapedArray{T,N,A,MI} where MI<:Tuple{Vararg{Base.MultiplicativeInverses.SignedMultiplicativeInverse{Int64},N} where N} where A<:DenseArray where N where T, DenseArray} where N where #s266<:Union{Base.Dates.CompoundPeriod, Base.Dates.Period}</b>, x::<b>Union{Base.Dates.CompoundPeriod, Base.Dates.Period}</b>) at <a href=\"https://github.com/JuliaLang/julia/tree/903644385b91ed8d95e5e3a5716c089dd1f1b08a/base/dates/periods.jl#L363\" target=\"_blank\">dates/periods.jl:363</a></li> <li> +(X::<b>Union{Base.ReshapedArray{#s265,N,A,MI} where MI<:Tuple{Vararg{Base.MultiplicativeInverses.SignedMultiplicativeInverse{Int64},N} where N} where A<:DenseArray, DenseArray{#s265,N}, SubArray{#s265,N,A,I,L} where L} where I<:Tuple{Vararg{Union{Base.AbstractCartesianIndex, Int64, Range{Int64}},N} where N} where A<:Union{Base.ReshapedArray{T,N,A,MI} where MI<:Tuple{Vararg{Base.MultiplicativeInverses.SignedMultiplicativeInverse{Int64},N} where N} where A<:DenseArray where N where T, DenseArray} where N where #s265<:Union{Base.Dates.CompoundPeriod, Base.Dates.Period}</b>, Y::<b>Union{Base.ReshapedArray{#s264,N,A,MI} where MI<:Tuple{Vararg{Base.MultiplicativeInverses.SignedMultiplicativeInverse{Int64},N} where N} where A<:DenseArray, DenseArray{#s264,N}, SubArray{#s264,N,A,I,L} where L} where I<:Tuple{Vararg{Union{Base.AbstractCartesianIndex, Int64, Range{Int64}},N} where N} where A<:Union{Base.ReshapedArray{T,N,A,MI} where MI<:Tuple{Vararg{Base.MultiplicativeInverses.SignedMultiplicativeInverse{Int64},N} where N} where A<:DenseArray where N where T, DenseArray} where N where #s264<:Union{Base.Dates.CompoundPeriod, Base.Dates.Period}</b>) at <a href=\"https://github.com/JuliaLang/julia/tree/903644385b91ed8d95e5e3a5716c089dd1f1b08a/base/dates/periods.jl#L364\" target=\"_blank\">dates/periods.jl:364</a></li> <li> +(x::<b>Union{Base.ReshapedArray{#s267,N,A,MI} where MI<:Tuple{Vararg{Base.MultiplicativeInverses.SignedMultiplicativeInverse{Int64},N} where N} where A<:DenseArray, DenseArray{#s267,N}, SubArray{#s267,N,A,I,L} where L} where I<:Tuple{Vararg{Union{Base.AbstractCartesianIndex, Int64, Range{Int64}},N} where N} where A<:Union{Base.ReshapedArray{T,N,A,MI} where MI<:Tuple{Vararg{Base.MultiplicativeInverses.SignedMultiplicativeInverse{Int64},N} where N} where A<:DenseArray where N where T, DenseArray} where N where #s267<:Union{Base.Dates.CompoundPeriod, Base.Dates.Period}</b>, y::<b>Base.Dates.TimeType</b>) at <a href=\"https://github.com/JuliaLang/julia/tree/903644385b91ed8d95e5e3a5716c089dd1f1b08a/base/dates/arithmetic.jl#L86\" target=\"_blank\">dates/arithmetic.jl:86</a></li> <li> +(r::<b>Range{#s267} where #s267<:Base.Dates.TimeType</b>, x::<b>Base.Dates.Period</b>) at <a href=\"https://github.com/JuliaLang/julia/tree/903644385b91ed8d95e5e3a5716c089dd1f1b08a/base/dates/ranges.jl#L47\" target=\"_blank\">dates/ranges.jl:47</a></li> <li> +(A::<b>SparseMatrixCSC</b>, B::<b>SparseMatrixCSC</b>) at <a href=\"https://github.com/JuliaLang/julia/tree/903644385b91ed8d95e5e3a5716c089dd1f1b08a/base/sparse/sparsematrix.jl#L1458\" target=\"_blank\">sparse/sparsematrix.jl:1458</a></li> <li> +(A::<b>SparseMatrixCSC</b>, B::<b>Array</b>) at <a href=\"https://github.com/JuliaLang/julia/tree/903644385b91ed8d95e5e3a5716c089dd1f1b08a/base/sparse/sparsematrix.jl#L1461\" target=\"_blank\">sparse/sparsematrix.jl:1461</a></li> <li> +(x::<b>AbstractSparseArray{Tv,Ti,1} where Ti where Tv</b>, y::<b>AbstractSparseArray{Tv,Ti,1} where Ti where Tv</b>) at <a href=\"https://github.com/JuliaLang/julia/tree/903644385b91ed8d95e5e3a5716c089dd1f1b08a/base/sparse/sparsevector.jl#L1332\" target=\"_blank\">sparse/sparsevector.jl:1332</a></li> <li> +(x::<b>AbstractSparseArray{Tv,Ti,1} where Ti where Tv</b>, y::<b>Union{Base.ReshapedArray{T,1,A,MI} where MI<:Tuple{Vararg{Base.MultiplicativeInverses.SignedMultiplicativeInverse{Int64},N} where N} where A<:DenseArray, DenseArray{T,1}, SubArray{T,1,A,I,L} where L} where I<:Tuple{Vararg{Union{Base.AbstractCartesianIndex, Int64, Range{Int64}},N} where N} where A<:Union{Base.ReshapedArray{T,N,A,MI} where MI<:Tuple{Vararg{Base.MultiplicativeInverses.SignedMultiplicativeInverse{Int64},N} where N} where A<:DenseArray where N where T, DenseArray} where T</b>) at <a href=\"https://github.com/JuliaLang/julia/tree/903644385b91ed8d95e5e3a5716c089dd1f1b08a/base/sparse/sparsevector.jl#L1334\" target=\"_blank\">sparse/sparsevector.jl:1334</a></li> <li> +(x::<b>AbstractArray{#s45,N} where N where #s45<:Number</b>) at <a href=\"https://github.com/JuliaLang/julia/tree/903644385b91ed8d95e5e3a5716c089dd1f1b08a/base/abstractarraymath.jl#L93\" target=\"_blank\">abstractarraymath.jl:93</a></li> <li> +(A::<b>AbstractArray</b>, B::<b>AbstractArray</b>) at <a href=\"https://github.com/JuliaLang/julia/tree/903644385b91ed8d95e5e3a5716c089dd1f1b08a/base/arraymath.jl#L37\" target=\"_blank\">arraymath.jl:37</a></li> <li> +(A::<b>Number</b>, B::<b>AbstractArray</b>) at <a href=\"https://github.com/JuliaLang/julia/tree/903644385b91ed8d95e5e3a5716c089dd1f1b08a/base/arraymath.jl#L44\" target=\"_blank\">arraymath.jl:44</a></li> <li> +(A::<b>AbstractArray</b>, B::<b>Number</b>) at <a href=\"https://github.com/JuliaLang/julia/tree/903644385b91ed8d95e5e3a5716c089dd1f1b08a/base/arraymath.jl#L47\" target=\"_blank\">arraymath.jl:47</a></li> <li> +<i>{N}</i>(index1::<b>CartesianIndex{N}</b>, index2::<b>CartesianIndex{N}</b>) at <a href=\"https://github.com/JuliaLang/julia/tree/903644385b91ed8d95e5e3a5716c089dd1f1b08a/base/multidimensional.jl#L70\" target=\"_blank\">multidimensional.jl:70</a></li> <li> +<i>{N}</i>(index::<b>CartesianIndex{N}</b>, i::<b>Integer</b>) at <a href=\"https://github.com/JuliaLang/julia/tree/903644385b91ed8d95e5e3a5716c089dd1f1b08a/base/multidimensional.jl#L80\" target=\"_blank\">multidimensional.jl:80</a></li> <li> +(J1::<b>UniformScaling</b>, J2::<b>UniformScaling</b>) at <a href=\"https://github.com/JuliaLang/julia/tree/903644385b91ed8d95e5e3a5716c089dd1f1b08a/base/linalg/uniformscaling.jl#L58\" target=\"_blank\">linalg/uniformscaling.jl:58</a></li> <li> +(J::<b>UniformScaling</b>, B::<b>BitArray{2}</b>) at <a href=\"https://github.com/JuliaLang/julia/tree/903644385b91ed8d95e5e3a5716c089dd1f1b08a/base/linalg/uniformscaling.jl#L60\" target=\"_blank\">linalg/uniformscaling.jl:60</a></li> <li> +(J::<b>UniformScaling</b>, A::<b>AbstractArray{T,2} where T</b>) at <a href=\"https://github.com/JuliaLang/julia/tree/903644385b91ed8d95e5e3a5716c089dd1f1b08a/base/linalg/uniformscaling.jl#L61\" target=\"_blank\">linalg/uniformscaling.jl:61</a></li> <li> +<i>{T}</i>(a::<b>Base.Pkg.Resolve.VersionWeights.HierarchicalValue{T}</b>, b::<b>Base.Pkg.Resolve.VersionWeights.HierarchicalValue{T}</b>) at <a href=\"https://github.com/JuliaLang/julia/tree/903644385b91ed8d95e5e3a5716c089dd1f1b08a/base/pkg/resolve/versionweight.jl#L23\" target=\"_blank\">pkg/resolve/versionweight.jl:23</a></li> <li> +<i>{P<:Base.Dates.Period}</i>(x::<b>P</b>, y::<b>P</b>) at <a href=\"https://github.com/JuliaLang/julia/tree/903644385b91ed8d95e5e3a5716c089dd1f1b08a/base/dates/periods.jl#L70\" target=\"_blank\">dates/periods.jl:70</a></li> <li> +(x::<b>Base.Dates.Period</b>, y::<b>Base.Dates.Period</b>) at <a href=\"https://github.com/JuliaLang/julia/tree/903644385b91ed8d95e5e3a5716c089dd1f1b08a/base/dates/periods.jl#L346\" target=\"_blank\">dates/periods.jl:346</a></li> <li> +(y::<b>Base.Dates.Period</b>, x::<b>Base.Dates.CompoundPeriod</b>) at <a href=\"https://github.com/JuliaLang/julia/tree/903644385b91ed8d95e5e3a5716c089dd1f1b08a/base/dates/periods.jl#L348\" target=\"_blank\">dates/periods.jl:348</a></li> <li> +(x::<b>Union{Base.Dates.CompoundPeriod, Base.Dates.Period}</b>) at <a href=\"https://github.com/JuliaLang/julia/tree/903644385b91ed8d95e5e3a5716c089dd1f1b08a/base/dates/periods.jl#L357\" target=\"_blank\">dates/periods.jl:357</a></li> <li> +(x::<b>Union{Base.Dates.CompoundPeriod, Base.Dates.Period}</b>, Y::<b>Union{Base.ReshapedArray{#s267,N,A,MI} where MI<:Tuple{Vararg{Base.MultiplicativeInverses.SignedMultiplicativeInverse{Int64},N} where N} where A<:DenseArray, DenseArray{#s267,N}, SubArray{#s267,N,A,I,L} where L} where I<:Tuple{Vararg{Union{Base.AbstractCartesianIndex, Int64, Range{Int64}},N} where N} where A<:Union{Base.ReshapedArray{T,N,A,MI} where MI<:Tuple{Vararg{Base.MultiplicativeInverses.SignedMultiplicativeInverse{Int64},N} where N} where A<:DenseArray where N where T, DenseArray} where N where #s267<:Union{Base.Dates.CompoundPeriod, Base.Dates.Period}</b>) at <a href=\"https://github.com/JuliaLang/julia/tree/903644385b91ed8d95e5e3a5716c089dd1f1b08a/base/dates/periods.jl#L362\" target=\"_blank\">dates/periods.jl:362</a></li> <li> +(x::<b>Base.Dates.TimeType</b>) at <a href=\"https://github.com/JuliaLang/julia/tree/903644385b91ed8d95e5e3a5716c089dd1f1b08a/base/dates/arithmetic.jl#L8\" target=\"_blank\">dates/arithmetic.jl:8</a></li> <li> +(a::<b>Base.Dates.TimeType</b>, b::<b>Base.Dates.Period</b>, c::<b>Base.Dates.Period</b>) at <a href=\"https://github.com/JuliaLang/julia/tree/903644385b91ed8d95e5e3a5716c089dd1f1b08a/base/dates/periods.jl#L378\" target=\"_blank\">dates/periods.jl:378</a></li> <li> +(a::<b>Base.Dates.TimeType</b>, b::<b>Base.Dates.Period</b>, c::<b>Base.Dates.Period</b>, d::<b>Base.Dates.Period...</b>) at <a href=\"https://github.com/JuliaLang/julia/tree/903644385b91ed8d95e5e3a5716c089dd1f1b08a/base/dates/periods.jl#L379\" target=\"_blank\">dates/periods.jl:379</a></li> <li> +(x::<b>Base.Dates.TimeType</b>, y::<b>Base.Dates.CompoundPeriod</b>) at <a href=\"https://github.com/JuliaLang/julia/tree/903644385b91ed8d95e5e3a5716c089dd1f1b08a/base/dates/periods.jl#L382\" target=\"_blank\">dates/periods.jl:382</a></li> <li> +(x::<b>Base.Dates.Instant</b>) at <a href=\"https://github.com/JuliaLang/julia/tree/903644385b91ed8d95e5e3a5716c089dd1f1b08a/base/dates/arithmetic.jl#L4\" target=\"_blank\">dates/arithmetic.jl:4</a></li> <li> +(y::<b>Base.Dates.Period</b>, x::<b>Base.Dates.TimeType</b>) at <a href=\"https://github.com/JuliaLang/julia/tree/903644385b91ed8d95e5e3a5716c089dd1f1b08a/base/dates/arithmetic.jl#L83\" target=\"_blank\">dates/arithmetic.jl:83</a></li> <li> +(x::<b>AbstractArray{#s267,N} where N where #s267<:Base.Dates.TimeType</b>, y::<b>Union{Base.Dates.CompoundPeriod, Base.Dates.Period}</b>) at <a href=\"https://github.com/JuliaLang/julia/tree/903644385b91ed8d95e5e3a5716c089dd1f1b08a/base/dates/arithmetic.jl#L85\" target=\"_blank\">dates/arithmetic.jl:85</a></li> <li> +(x::<b>Base.Dates.Period</b>, r::<b>Range{#s267} where #s267<:Base.Dates.TimeType</b>) at <a href=\"https://github.com/JuliaLang/julia/tree/903644385b91ed8d95e5e3a5716c089dd1f1b08a/base/dates/ranges.jl#L46\" target=\"_blank\">dates/ranges.jl:46</a></li> <li> +(y::<b>Union{Base.Dates.CompoundPeriod, Base.Dates.Period}</b>, x::<b>AbstractArray{#s267,N} where N where #s267<:Base.Dates.TimeType</b>) at <a href=\"https://github.com/JuliaLang/julia/tree/903644385b91ed8d95e5e3a5716c089dd1f1b08a/base/dates/arithmetic.jl#L87\" target=\"_blank\">dates/arithmetic.jl:87</a></li> <li> +(y::<b>Base.Dates.TimeType</b>, x::<b>Union{Base.ReshapedArray{#s267,N,A,MI} where MI<:Tuple{Vararg{Base.MultiplicativeInverses.SignedMultiplicativeInverse{Int64},N} where N} where A<:DenseArray, DenseArray{#s267,N}, SubArray{#s267,N,A,I,L} where L} where I<:Tuple{Vararg{Union{Base.AbstractCartesianIndex, Int64, Range{Int64}},N} where N} where A<:Union{Base.ReshapedArray{T,N,A,MI} where MI<:Tuple{Vararg{Base.MultiplicativeInverses.SignedMultiplicativeInverse{Int64},N} where N} where A<:DenseArray where N where T, DenseArray} where N where #s267<:Union{Base.Dates.CompoundPeriod, Base.Dates.Period}</b>) at <a href=\"https://github.com/JuliaLang/julia/tree/903644385b91ed8d95e5e3a5716c089dd1f1b08a/base/dates/arithmetic.jl#L88\" target=\"_blank\">dates/arithmetic.jl:88</a></li> <li> +(J::<b>UniformScaling</b>, x::<b>Number</b>) at <a href=\"https://github.com/JuliaLang/julia/tree/903644385b91ed8d95e5e3a5716c089dd1f1b08a/base/deprecated.jl#L56\" target=\"_blank\">deprecated.jl:56</a></li> <li> +(x::<b>Number</b>, J::<b>UniformScaling</b>) at <a href=\"https://github.com/JuliaLang/julia/tree/903644385b91ed8d95e5e3a5716c089dd1f1b08a/base/deprecated.jl#L56\" target=\"_blank\">deprecated.jl:56</a></li> <li> +(a, b, c, xs...) at <a href=\"https://github.com/JuliaLang/julia/tree/903644385b91ed8d95e5e3a5716c089dd1f1b08a/base/operators.jl#L424\" target=\"_blank\">operators.jl:424</a></li> </ul>"
      ],
      "text/plain": [
       "# 181 methods for generic function \"+\":\n",
       "+(x::Bool, z::Complex{Bool}) in Base at complex.jl:232\n",
       "+(x::Bool, y::Bool) in Base at bool.jl:89\n",
       "+(x::Bool) in Base at bool.jl:86\n",
       "+(x::Bool, y::T) where T<:AbstractFloat in Base at bool.jl:96\n",
       "+(x::Bool, z::Complex) in Base at complex.jl:239\n",
       "+(a::Float16, b::Float16) in Base at float.jl:372\n",
       "+(x::Float32, y::Float32) in Base at float.jl:374\n",
       "+(x::Float64, y::Float64) in Base at float.jl:375\n",
       "+(z::Complex{Bool}, x::Bool) in Base at complex.jl:233\n",
       "+(z::Complex{Bool}, x::Real) in Base at complex.jl:247\n",
       "+(x::Char, y::Integer) in Base at char.jl:40\n",
       "+(c::BigInt, x::BigFloat) in Base.MPFR at mpfr.jl:312\n",
       "+(a::BigInt, b::BigInt, c::BigInt, d::BigInt, e::BigInt) in Base.GMP at gmp.jl:334\n",
       "+(a::BigInt, b::BigInt, c::BigInt, d::BigInt) in Base.GMP at gmp.jl:327\n",
       "+(a::BigInt, b::BigInt, c::BigInt) in Base.GMP at gmp.jl:321\n",
       "+(x::BigInt, y::BigInt) in Base.GMP at gmp.jl:289\n",
       "+(x::BigInt, c::Union{UInt16, UInt32, UInt64, UInt8}) in Base.GMP at gmp.jl:346\n",
       "+(x::BigInt, c::Union{Int16, Int32, Int64, Int8}) in Base.GMP at gmp.jl:362\n",
       "+(a::BigFloat, b::BigFloat, c::BigFloat, d::BigFloat, e::BigFloat) in Base.MPFR at mpfr.jl:460\n",
       "+(a::BigFloat, b::BigFloat, c::BigFloat, d::BigFloat) in Base.MPFR at mpfr.jl:453\n",
       "+(a::BigFloat, b::BigFloat, c::BigFloat) in Base.MPFR at mpfr.jl:447\n",
       "+(x::BigFloat, c::BigInt) in Base.MPFR at mpfr.jl:308\n",
       "+(x::BigFloat, y::BigFloat) in Base.MPFR at mpfr.jl:277\n",
       "+(x::BigFloat, c::Union{UInt16, UInt32, UInt64, UInt8}) in Base.MPFR at mpfr.jl:284\n",
       "+(x::BigFloat, c::Union{Int16, Int32, Int64, Int8}) in Base.MPFR at mpfr.jl:292\n",
       "+(x::BigFloat, c::Union{Float16, Float32, Float64}) in Base.MPFR at mpfr.jl:300\n",
       "+(B::BitArray{2}, J::UniformScaling) in Base.LinAlg at linalg/uniformscaling.jl:59\n",
       "+(a::Base.Pkg.Resolve.VersionWeights.VWPreBuildItem, b::Base.Pkg.Resolve.VersionWeights.VWPreBuildItem) in Base.Pkg.Resolve.VersionWeights at pkg/resolve/versionweight.jl:87\n",
       "+(a::Base.Pkg.Resolve.VersionWeights.VWPreBuild, b::Base.Pkg.Resolve.VersionWeights.VWPreBuild) in Base.Pkg.Resolve.VersionWeights at pkg/resolve/versionweight.jl:135\n",
       "+(a::Base.Pkg.Resolve.VersionWeights.VersionWeight, b::Base.Pkg.Resolve.VersionWeights.VersionWeight) in Base.Pkg.Resolve.VersionWeights at pkg/resolve/versionweight.jl:197\n",
       "+(a::Base.Pkg.Resolve.MaxSum.FieldValues.FieldValue, b::Base.Pkg.Resolve.MaxSum.FieldValues.FieldValue) in Base.Pkg.Resolve.MaxSum.FieldValues at pkg/resolve/fieldvalue.jl:44\n",
       "+(x::Base.Dates.CompoundPeriod, y::Base.Dates.CompoundPeriod) in Base.Dates at dates/periods.jl:349\n",
       "+(x::Base.Dates.CompoundPeriod, y::Base.Dates.Period) in Base.Dates at dates/periods.jl:347\n",
       "+(x::Base.Dates.CompoundPeriod, y::Base.Dates.TimeType) in Base.Dates at dates/periods.jl:387\n",
       "+(x::Date, y::Base.Dates.Day) in Base.Dates at dates/arithmetic.jl:77\n",
       "+(x::Date, y::Base.Dates.Week) in Base.Dates at dates/arithmetic.jl:75\n",
       "+(dt::Date, z::Base.Dates.Month) in Base.Dates at dates/arithmetic.jl:58\n",
       "+(dt::Date, y::Base.Dates.Year) in Base.Dates at dates/arithmetic.jl:32\n",
       "+(dt::Date, t::Base.Dates.Time) in Base.Dates at dates/arithmetic.jl:20\n",
       "+(t::Base.Dates.Time, dt::Date) in Base.Dates at dates/arithmetic.jl:24\n",
       "+(x::Base.Dates.Time, y::Base.Dates.TimePeriod) in Base.Dates at dates/arithmetic.jl:81\n",
       "+(dt::DateTime, z::Base.Dates.Month) in Base.Dates at dates/arithmetic.jl:52\n",
       "+(dt::DateTime, y::Base.Dates.Year) in Base.Dates at dates/arithmetic.jl:28\n",
       "+(x::DateTime, y::Base.Dates.Period) in Base.Dates at dates/arithmetic.jl:79\n",
       "+(p1::Point, p2::Point) in Main at In[5]:2\n",
       "+(y::AbstractFloat, x::Bool) in Base at bool.jl:98\n",
       "+(x::T, y::T) where T<:Union{Int128, Int16, Int32, Int64, Int8, UInt128, UInt16, UInt32, UInt64, UInt8} in Base at int.jl:32\n",
       "+(x::Integer, y::Ptr) in Base at pointer.jl:128\n",
       "+(z::Complex, w::Complex) in Base at complex.jl:221\n",
       "+(z::Complex, x::Bool) in Base at complex.jl:240\n",
       "+(x::Real, z::Complex{Bool}) in Base at complex.jl:246\n",
       "+(x::Real, z::Complex) in Base at complex.jl:258\n",
       "+(z::Complex, x::Real) in Base at complex.jl:259\n",
       "+(x::Rational, y::Rational) in Base at rational.jl:245\n",
       "+(x::Integer, y::Char) in Base at char.jl:41\n",
       "+(i::Integer, index::CartesianIndex) in Base.IteratorsMD at multidimensional.jl:79\n",
       "+(c::Union{UInt16, UInt32, UInt64, UInt8}, x::BigInt) in Base.GMP at gmp.jl:350\n",
       "+(c::Union{Int16, Int32, Int64, Int8}, x::BigInt) in Base.GMP at gmp.jl:363\n",
       "+(c::Union{UInt16, UInt32, UInt64, UInt8}, x::BigFloat) in Base.MPFR at mpfr.jl:288\n",
       "+(c::Union{Int16, Int32, Int64, Int8}, x::BigFloat) in Base.MPFR at mpfr.jl:296\n",
       "+(c::Union{Float16, Float32, Float64}, x::BigFloat) in Base.MPFR at mpfr.jl:304\n",
       "+(x::Irrational, y::Irrational) in Base at irrationals.jl:109\n",
       "+(x::Real, r::Base.Use_StepRangeLen_Instead) in Base at deprecated.jl:1223\n",
       "+(x::Number) in Base at operators.jl:399\n",
       "+(x::T, y::T) where T<:Number in Base at promotion.jl:335\n",
       "+(x::Number, y::Number) in Base at promotion.jl:249\n",
       "+(x::Real, r::AbstractUnitRange) in Base at range.jl:721\n",
       "+(x::Number, r::AbstractUnitRange) in Base at range.jl:723\n",
       "+(x::Number, r::StepRangeLen) in Base at range.jl:726\n",
       "+(x::Number, r::LinSpace) in Base at range.jl:730\n",
       "+(x::Number, r::Range) in Base at range.jl:724\n",
       "+(r::Range, x::Number) in Base at range.jl:732\n",
       "+(r1::OrdinalRange, r2::OrdinalRange) in Base at range.jl:882\n",
       "+(r1::LinSpace{T}, r2::LinSpace{T}) where T in Base at range.jl:889\n",
       "+(r1::StepRangeLen{T,R,S} where S, r2::StepRangeLen{T,R,S} where S) where {R<:Base.TwicePrecision, T} in Base at twiceprecision.jl:300\n",
       "+(r1::StepRangeLen{T,S,S} where S, r2::StepRangeLen{T,S,S} where S) where {T, S} in Base at range.jl:905\n",
       "+(r1::Union{LinSpace, OrdinalRange, StepRangeLen}, r2::Union{LinSpace, OrdinalRange, StepRangeLen}) in Base at range.jl:896\n",
       "+(x::Base.TwicePrecision, y::Number) in Base at twiceprecision.jl:454\n",
       "+(x::Number, y::Base.TwicePrecision) in Base at twiceprecision.jl:457\n",
       "+(x::Base.TwicePrecision{T}, y::Base.TwicePrecision{T}) where T in Base at twiceprecision.jl:460\n",
       "+(x::Base.TwicePrecision, y::Base.TwicePrecision) in Base at twiceprecision.jl:464\n",
       "+(x::Ptr, y::Integer) in Base at pointer.jl:126\n",
       "+(A::BitArray, B::BitArray) in Base at bitarray.jl:1176\n",
       "+(A::SymTridiagonal, B::SymTridiagonal) in Base.LinAlg at linalg/tridiag.jl:128\n",
       "+(A::Tridiagonal, B::Tridiagonal) in Base.LinAlg at linalg/tridiag.jl:624\n",
       "+(A::UpperTriangular, B::UpperTriangular) in Base.LinAlg at linalg/triangular.jl:374\n",
       "+(A::LowerTriangular, B::LowerTriangular) in Base.LinAlg at linalg/triangular.jl:375\n",
       "+(A::UpperTriangular, B::Base.LinAlg.UnitUpperTriangular) in Base.LinAlg at linalg/triangular.jl:376\n",
       "+(A::LowerTriangular, B::Base.LinAlg.UnitLowerTriangular) in Base.LinAlg at linalg/triangular.jl:377\n",
       "+(A::Base.LinAlg.UnitUpperTriangular, B::UpperTriangular) in Base.LinAlg at linalg/triangular.jl:378\n",
       "+(A::Base.LinAlg.UnitLowerTriangular, B::LowerTriangular) in Base.LinAlg at linalg/triangular.jl:379\n",
       "+(A::Base.LinAlg.UnitUpperTriangular, B::Base.LinAlg.UnitUpperTriangular) in Base.LinAlg at linalg/triangular.jl:380\n",
       "+(A::Base.LinAlg.UnitLowerTriangular, B::Base.LinAlg.UnitLowerTriangular) in Base.LinAlg at linalg/triangular.jl:381\n",
       "+(A::Base.LinAlg.AbstractTriangular, B::Base.LinAlg.AbstractTriangular) in Base.LinAlg at linalg/triangular.jl:382\n",
       "+(A::Symmetric, x::Bool) in Base.LinAlg at linalg/symmetric.jl:272\n",
       "+(A::Symmetric, x::Number) in Base.LinAlg at linalg/symmetric.jl:274\n",
       "+(A::Hermitian, x::Bool) in Base.LinAlg at linalg/symmetric.jl:272\n",
       "+(A::Hermitian, x::Real) in Base.LinAlg at linalg/symmetric.jl:274\n",
       "+(Da::Diagonal, Db::Diagonal) in Base.LinAlg at linalg/diagonal.jl:140\n",
       "+(A::Bidiagonal, B::Bidiagonal) in Base.LinAlg at linalg/bidiag.jl:330\n",
       "+(UL::UpperTriangular, J::UniformScaling) in Base.LinAlg at linalg/uniformscaling.jl:72\n",
       "+(UL::Base.LinAlg.UnitUpperTriangular, J::UniformScaling) in Base.LinAlg at linalg/uniformscaling.jl:75\n",
       "+(UL::LowerTriangular, J::UniformScaling) in Base.LinAlg at linalg/uniformscaling.jl:72\n",
       "+(UL::Base.LinAlg.UnitLowerTriangular, J::UniformScaling) in Base.LinAlg at linalg/uniformscaling.jl:75\n",
       "+(A::Array, B::SparseMatrixCSC) in Base.SparseArrays at sparse/sparsematrix.jl:1462\n",
       "+(x::Union{Base.ReshapedArray{T,1,A,MI} where MI<:Tuple{Vararg{Base.MultiplicativeInverses.SignedMultiplicativeInverse{Int64},N} where N} where A<:DenseArray, DenseArray{T,1}, SubArray{T,1,A,I,L} where L} where I<:Tuple{Vararg{Union{Base.AbstractCartesianIndex, Int64, Range{Int64}},N} where N} where A<:Union{Base.ReshapedArray{T,N,A,MI} where MI<:Tuple{Vararg{Base.MultiplicativeInverses.SignedMultiplicativeInverse{Int64},N} where N} where A<:DenseArray where N where T, DenseArray} where T, y::AbstractSparseArray{Tv,Ti,1} where Ti where Tv) in Base.SparseArrays at sparse/sparsevector.jl:1333\n",
       "+(x::Union{Base.ReshapedArray{#s267,N,A,MI} where MI<:Tuple{Vararg{Base.MultiplicativeInverses.SignedMultiplicativeInverse{Int64},N} where N} where A<:DenseArray, DenseArray{#s267,N}, SubArray{#s267,N,A,I,L} where L} where I<:Tuple{Vararg{Union{Base.AbstractCartesianIndex, Int64, Range{Int64}},N} where N} where A<:Union{Base.ReshapedArray{T,N,A,MI} where MI<:Tuple{Vararg{Base.MultiplicativeInverses.SignedMultiplicativeInverse{Int64},N} where N} where A<:DenseArray where N where T, DenseArray} where N where #s267<:Union{Base.Dates.CompoundPeriod, Base.Dates.Period}) in Base.Dates at dates/periods.jl:358\n",
       "+(A::SparseMatrixCSC, J::UniformScaling) in Base.SparseArrays at sparse/sparsematrix.jl:3512\n",
       "+(A::AbstractArray{TA,2}, J::UniformScaling{TJ}) where {TA, TJ} in Base.LinAlg at linalg/uniformscaling.jl:119\n",
       "+(A::Diagonal, B::Bidiagonal) in Base.LinAlg at linalg/special.jl:113\n",
       "+(A::Bidiagonal, B::Diagonal) in Base.LinAlg at linalg/special.jl:114\n",
       "+(A::Diagonal, B::Tridiagonal) in Base.LinAlg at linalg/special.jl:113\n",
       "+(A::Tridiagonal, B::Diagonal) in Base.LinAlg at linalg/special.jl:114\n",
       "+(A::Diagonal, B::Array{T,2} where T) in Base.LinAlg at linalg/special.jl:113\n",
       "+(A::Array{T,2} where T, B::Diagonal) in Base.LinAlg at linalg/special.jl:114\n",
       "+(A::Bidiagonal, B::Tridiagonal) in Base.LinAlg at linalg/special.jl:113\n",
       "+(A::Tridiagonal, B::Bidiagonal) in Base.LinAlg at linalg/special.jl:114\n",
       "+(A::Bidiagonal, B::Array{T,2} where T) in Base.LinAlg at linalg/special.jl:113\n",
       "+(A::Array{T,2} where T, B::Bidiagonal) in Base.LinAlg at linalg/special.jl:114\n",
       "+(A::Tridiagonal, B::Array{T,2} where T) in Base.LinAlg at linalg/special.jl:113\n",
       "+(A::Array{T,2} where T, B::Tridiagonal) in Base.LinAlg at linalg/special.jl:114\n",
       "+(A::SymTridiagonal, B::Tridiagonal) in Base.LinAlg at linalg/special.jl:122\n",
       "+(A::Tridiagonal, B::SymTridiagonal) in Base.LinAlg at linalg/special.jl:123\n",
       "+(A::SymTridiagonal, B::Array{T,2} where T) in Base.LinAlg at linalg/special.jl:122\n",
       "+(A::Array{T,2} where T, B::SymTridiagonal) in Base.LinAlg at linalg/special.jl:123\n",
       "+(A::Diagonal, B::SymTridiagonal) in Base.LinAlg at linalg/special.jl:131\n",
       "+(A::SymTridiagonal, B::Diagonal) in Base.LinAlg at linalg/special.jl:132\n",
       "+(A::Bidiagonal, B::SymTridiagonal) in Base.LinAlg at linalg/special.jl:131\n",
       "+(A::SymTridiagonal, B::Bidiagonal) in Base.LinAlg at linalg/special.jl:132\n",
       "+(A::Diagonal, B::UpperTriangular) in Base.LinAlg at linalg/special.jl:143\n",
       "+(A::UpperTriangular, B::Diagonal) in Base.LinAlg at linalg/special.jl:144\n",
       "+(A::Diagonal, B::Base.LinAlg.UnitUpperTriangular) in Base.LinAlg at linalg/special.jl:143\n",
       "+(A::Base.LinAlg.UnitUpperTriangular, B::Diagonal) in Base.LinAlg at linalg/special.jl:144\n",
       "+(A::Diagonal, B::LowerTriangular) in Base.LinAlg at linalg/special.jl:143\n",
       "+(A::LowerTriangular, B::Diagonal) in Base.LinAlg at linalg/special.jl:144\n",
       "+(A::Diagonal, B::Base.LinAlg.UnitLowerTriangular) in Base.LinAlg at linalg/special.jl:143\n",
       "+(A::Base.LinAlg.UnitLowerTriangular, B::Diagonal) in Base.LinAlg at linalg/special.jl:144\n",
       "+(A::Base.LinAlg.AbstractTriangular, B::SymTridiagonal) in Base.LinAlg at linalg/special.jl:150\n",
       "+(A::SymTridiagonal, B::Base.LinAlg.AbstractTriangular) in Base.LinAlg at linalg/special.jl:151\n",
       "+(A::Base.LinAlg.AbstractTriangular, B::Tridiagonal) in Base.LinAlg at linalg/special.jl:150\n",
       "+(A::Tridiagonal, B::Base.LinAlg.AbstractTriangular) in Base.LinAlg at linalg/special.jl:151\n",
       "+(A::Base.LinAlg.AbstractTriangular, B::Bidiagonal) in Base.LinAlg at linalg/special.jl:150\n",
       "+(A::Bidiagonal, B::Base.LinAlg.AbstractTriangular) in Base.LinAlg at linalg/special.jl:151\n",
       "+(A::Base.LinAlg.AbstractTriangular, B::Array{T,2} where T) in Base.LinAlg at linalg/special.jl:150\n",
       "+(A::Array{T,2} where T, B::Base.LinAlg.AbstractTriangular) in Base.LinAlg at linalg/special.jl:151\n",
       "+(Y::Union{Base.ReshapedArray{#s266,N,A,MI} where MI<:Tuple{Vararg{Base.MultiplicativeInverses.SignedMultiplicativeInverse{Int64},N} where N} where A<:DenseArray, DenseArray{#s266,N}, SubArray{#s266,N,A,I,L} where L} where I<:Tuple{Vararg{Union{Base.AbstractCartesianIndex, Int64, Range{Int64}},N} where N} where A<:Union{Base.ReshapedArray{T,N,A,MI} where MI<:Tuple{Vararg{Base.MultiplicativeInverses.SignedMultiplicativeInverse{Int64},N} where N} where A<:DenseArray where N where T, DenseArray} where N where #s266<:Union{Base.Dates.CompoundPeriod, Base.Dates.Period}, x::Union{Base.Dates.CompoundPeriod, Base.Dates.Period}) in Base.Dates at dates/periods.jl:363\n",
       "+(X::Union{Base.ReshapedArray{#s265,N,A,MI} where MI<:Tuple{Vararg{Base.MultiplicativeInverses.SignedMultiplicativeInverse{Int64},N} where N} where A<:DenseArray, DenseArray{#s265,N}, SubArray{#s265,N,A,I,L} where L} where I<:Tuple{Vararg{Union{Base.AbstractCartesianIndex, Int64, Range{Int64}},N} where N} where A<:Union{Base.ReshapedArray{T,N,A,MI} where MI<:Tuple{Vararg{Base.MultiplicativeInverses.SignedMultiplicativeInverse{Int64},N} where N} where A<:DenseArray where N where T, DenseArray} where N where #s265<:Union{Base.Dates.CompoundPeriod, Base.Dates.Period}, Y::Union{Base.ReshapedArray{#s264,N,A,MI} where MI<:Tuple{Vararg{Base.MultiplicativeInverses.SignedMultiplicativeInverse{Int64},N} where N} where A<:DenseArray, DenseArray{#s264,N}, SubArray{#s264,N,A,I,L} where L} where I<:Tuple{Vararg{Union{Base.AbstractCartesianIndex, Int64, Range{Int64}},N} where N} where A<:Union{Base.ReshapedArray{T,N,A,MI} where MI<:Tuple{Vararg{Base.MultiplicativeInverses.SignedMultiplicativeInverse{Int64},N} where N} where A<:DenseArray where N where T, DenseArray} where N where #s264<:Union{Base.Dates.CompoundPeriod, Base.Dates.Period}) in Base.Dates at dates/periods.jl:364\n",
       "+(x::Union{Base.ReshapedArray{#s267,N,A,MI} where MI<:Tuple{Vararg{Base.MultiplicativeInverses.SignedMultiplicativeInverse{Int64},N} where N} where A<:DenseArray, DenseArray{#s267,N}, SubArray{#s267,N,A,I,L} where L} where I<:Tuple{Vararg{Union{Base.AbstractCartesianIndex, Int64, Range{Int64}},N} where N} where A<:Union{Base.ReshapedArray{T,N,A,MI} where MI<:Tuple{Vararg{Base.MultiplicativeInverses.SignedMultiplicativeInverse{Int64},N} where N} where A<:DenseArray where N where T, DenseArray} where N where #s267<:Union{Base.Dates.CompoundPeriod, Base.Dates.Period}, y::Base.Dates.TimeType) in Base.Dates at dates/arithmetic.jl:86\n",
       "+(r::Range{#s267} where #s267<:Base.Dates.TimeType, x::Base.Dates.Period) in Base.Dates at dates/ranges.jl:47\n",
       "+(A::SparseMatrixCSC, B::SparseMatrixCSC) in Base.SparseArrays at sparse/sparsematrix.jl:1458\n",
       "+(A::SparseMatrixCSC, B::Array) in Base.SparseArrays at sparse/sparsematrix.jl:1461\n",
       "+(x::AbstractSparseArray{Tv,Ti,1} where Ti where Tv, y::AbstractSparseArray{Tv,Ti,1} where Ti where Tv) in Base.SparseArrays at sparse/sparsevector.jl:1332\n",
       "+(x::AbstractSparseArray{Tv,Ti,1} where Ti where Tv, y::Union{Base.ReshapedArray{T,1,A,MI} where MI<:Tuple{Vararg{Base.MultiplicativeInverses.SignedMultiplicativeInverse{Int64},N} where N} where A<:DenseArray, DenseArray{T,1}, SubArray{T,1,A,I,L} where L} where I<:Tuple{Vararg{Union{Base.AbstractCartesianIndex, Int64, Range{Int64}},N} where N} where A<:Union{Base.ReshapedArray{T,N,A,MI} where MI<:Tuple{Vararg{Base.MultiplicativeInverses.SignedMultiplicativeInverse{Int64},N} where N} where A<:DenseArray where N where T, DenseArray} where T) in Base.SparseArrays at sparse/sparsevector.jl:1334\n",
       "+(x::AbstractArray{#s45,N} where N where #s45<:Number) in Base at abstractarraymath.jl:93\n",
       "+(A::AbstractArray, B::AbstractArray) in Base at arraymath.jl:37\n",
       "+(A::Number, B::AbstractArray) in Base at arraymath.jl:44\n",
       "+(A::AbstractArray, B::Number) in Base at arraymath.jl:47\n",
       "+(index1::CartesianIndex{N}, index2::CartesianIndex{N}) where N in Base.IteratorsMD at multidimensional.jl:70\n",
       "+(index::CartesianIndex{N}, i::Integer) where N in Base.IteratorsMD at multidimensional.jl:80\n",
       "+(J1::UniformScaling, J2::UniformScaling) in Base.LinAlg at linalg/uniformscaling.jl:58\n",
       "+(J::UniformScaling, B::BitArray{2}) in Base.LinAlg at linalg/uniformscaling.jl:60\n",
       "+(J::UniformScaling, A::AbstractArray{T,2} where T) in Base.LinAlg at linalg/uniformscaling.jl:61\n",
       "+(a::Base.Pkg.Resolve.VersionWeights.HierarchicalValue{T}, b::Base.Pkg.Resolve.VersionWeights.HierarchicalValue{T}) where T in Base.Pkg.Resolve.VersionWeights at pkg/resolve/versionweight.jl:23\n",
       "+(x::P, y::P) where P<:Base.Dates.Period in Base.Dates at dates/periods.jl:70\n",
       "+(x::Base.Dates.Period, y::Base.Dates.Period) in Base.Dates at dates/periods.jl:346\n",
       "+(y::Base.Dates.Period, x::Base.Dates.CompoundPeriod) in Base.Dates at dates/periods.jl:348\n",
       "+(x::Union{Base.Dates.CompoundPeriod, Base.Dates.Period}) in Base.Dates at dates/periods.jl:357\n",
       "+(x::Union{Base.Dates.CompoundPeriod, Base.Dates.Period}, Y::Union{Base.ReshapedArray{#s267,N,A,MI} where MI<:Tuple{Vararg{Base.MultiplicativeInverses.SignedMultiplicativeInverse{Int64},N} where N} where A<:DenseArray, DenseArray{#s267,N}, SubArray{#s267,N,A,I,L} where L} where I<:Tuple{Vararg{Union{Base.AbstractCartesianIndex, Int64, Range{Int64}},N} where N} where A<:Union{Base.ReshapedArray{T,N,A,MI} where MI<:Tuple{Vararg{Base.MultiplicativeInverses.SignedMultiplicativeInverse{Int64},N} where N} where A<:DenseArray where N where T, DenseArray} where N where #s267<:Union{Base.Dates.CompoundPeriod, Base.Dates.Period}) in Base.Dates at dates/periods.jl:362\n",
       "+(x::Base.Dates.TimeType) in Base.Dates at dates/arithmetic.jl:8\n",
       "+(a::Base.Dates.TimeType, b::Base.Dates.Period, c::Base.Dates.Period) in Base.Dates at dates/periods.jl:378\n",
       "+(a::Base.Dates.TimeType, b::Base.Dates.Period, c::Base.Dates.Period, d::Base.Dates.Period...) in Base.Dates at dates/periods.jl:379\n",
       "+(x::Base.Dates.TimeType, y::Base.Dates.CompoundPeriod) in Base.Dates at dates/periods.jl:382\n",
       "+(x::Base.Dates.Instant) in Base.Dates at dates/arithmetic.jl:4\n",
       "+(y::Base.Dates.Period, x::Base.Dates.TimeType) in Base.Dates at dates/arithmetic.jl:83\n",
       "+(x::AbstractArray{#s267,N} where N where #s267<:Base.Dates.TimeType, y::Union{Base.Dates.CompoundPeriod, Base.Dates.Period}) in Base.Dates at dates/arithmetic.jl:85\n",
       "+(x::Base.Dates.Period, r::Range{#s267} where #s267<:Base.Dates.TimeType) in Base.Dates at dates/ranges.jl:46\n",
       "+(y::Union{Base.Dates.CompoundPeriod, Base.Dates.Period}, x::AbstractArray{#s267,N} where N where #s267<:Base.Dates.TimeType) in Base.Dates at dates/arithmetic.jl:87\n",
       "+(y::Base.Dates.TimeType, x::Union{Base.ReshapedArray{#s267,N,A,MI} where MI<:Tuple{Vararg{Base.MultiplicativeInverses.SignedMultiplicativeInverse{Int64},N} where N} where A<:DenseArray, DenseArray{#s267,N}, SubArray{#s267,N,A,I,L} where L} where I<:Tuple{Vararg{Union{Base.AbstractCartesianIndex, Int64, Range{Int64}},N} where N} where A<:Union{Base.ReshapedArray{T,N,A,MI} where MI<:Tuple{Vararg{Base.MultiplicativeInverses.SignedMultiplicativeInverse{Int64},N} where N} where A<:DenseArray where N where T, DenseArray} where N where #s267<:Union{Base.Dates.CompoundPeriod, Base.Dates.Period}) in Base.Dates at dates/arithmetic.jl:88\n",
       "+(J::UniformScaling, x::Number) in Base at deprecated.jl:56\n",
       "+(x::Number, J::UniformScaling) in Base at deprecated.jl:56\n",
       "+(a, b, c, xs...) in Base at operators.jl:424"
      ]
     },
     "execution_count": 43,
     "metadata": {},
     "output_type": "execute_result"
    }
   ],
   "source": [
    "methods(+)"
   ]
  },
  {
   "cell_type": "markdown",
   "metadata": {},
   "source": [
    "Some higher order functions work automatically once we define `+`"
   ]
  },
  {
   "cell_type": "code",
   "execution_count": 7,
   "metadata": {},
   "outputs": [
    {
     "data": {
      "text/plain": [
       "Point(2.0, 5.0)"
      ]
     },
     "execution_count": 7,
     "metadata": {},
     "output_type": "execute_result"
    }
   ],
   "source": [
    "sum([Point(0,1),Point(0,2),Point(2,2)])"
   ]
  },
  {
   "cell_type": "code",
   "execution_count": 8,
   "metadata": {},
   "outputs": [
    {
     "ename": "LoadError",
     "evalue": "\u001b[91mMethodError: no method matching /(::Point, ::Int64)\u001b[0m\nClosest candidates are:\n  /(\u001b[91m::BigInt\u001b[39m, ::Union{Int16, Int32, Int64, Int8, UInt16, UInt32, UInt64, UInt8}) at gmp.jl:380\n  /(\u001b[91m::BigFloat\u001b[39m, ::Union{Int16, Int32, Int64, Int8}) at mpfr.jl:339\n  /(\u001b[91m::Union{Int128, Int16, Int32, Int64, Int8, UInt128, UInt16, UInt32, UInt64, UInt8}\u001b[39m, ::Union{Int128, Int16, Int32, Int64, Int8, UInt128, UInt16, UInt32, UInt64, UInt8}) at int.jl:38\n  ...\u001b[39m",
     "output_type": "error",
     "traceback": [
      "\u001b[91mMethodError: no method matching /(::Point, ::Int64)\u001b[0m\nClosest candidates are:\n  /(\u001b[91m::BigInt\u001b[39m, ::Union{Int16, Int32, Int64, Int8, UInt16, UInt32, UInt64, UInt8}) at gmp.jl:380\n  /(\u001b[91m::BigFloat\u001b[39m, ::Union{Int16, Int32, Int64, Int8}) at mpfr.jl:339\n  /(\u001b[91m::Union{Int128, Int16, Int32, Int64, Int8, UInt128, UInt16, UInt32, UInt64, UInt8}\u001b[39m, ::Union{Int128, Int16, Int32, Int64, Int8, UInt128, UInt16, UInt32, UInt64, UInt8}) at int.jl:38\n  ...\u001b[39m",
      "",
      "Stacktrace:",
      " [1] \u001b[1mmean\u001b[22m\u001b[22m\u001b[1m(\u001b[22m\u001b[22m::Array{Point,1}\u001b[1m)\u001b[22m\u001b[22m at \u001b[1m./statistics.jl:36\u001b[22m\u001b[22m"
     ]
    }
   ],
   "source": [
    "mean([Point(0,1),Point(0,2),Point(2,2)])"
   ]
  },
  {
   "cell_type": "code",
   "execution_count": 11,
   "metadata": {},
   "outputs": [
    {
     "data": {
      "text/plain": [
       "/ (generic function with 74 methods)"
      ]
     },
     "execution_count": 11,
     "metadata": {},
     "output_type": "execute_result"
    }
   ],
   "source": [
    "import Base: /\n",
    "/(p::Point,x::Real)=Point(p.x/x,p.y/x)"
   ]
  },
  {
   "cell_type": "code",
   "execution_count": 12,
   "metadata": {},
   "outputs": [
    {
     "data": {
      "text/plain": [
       "Point(0.6666666666666666, 1.6666666666666667)"
      ]
     },
     "execution_count": 12,
     "metadata": {},
     "output_type": "execute_result"
    }
   ],
   "source": [
    "mean([Point(0,1),Point(0,2),Point(2,2)])"
   ]
  },
  {
   "cell_type": "code",
   "execution_count": 13,
   "metadata": {
    "collapsed": true
   },
   "outputs": [],
   "source": [
    "using BenchmarkTools"
   ]
  },
  {
   "cell_type": "code",
   "execution_count": 14,
   "metadata": {
    "scrolled": true
   },
   "outputs": [
    {
     "data": {
      "text/plain": [
       "BenchmarkTools.Trial: \n",
       "  memory estimate:  0 bytes\n",
       "  allocs estimate:  0\n",
       "  --------------\n",
       "  minimum time:     2.109 ns (0.00% GC)\n",
       "  median time:      2.514 ns (0.00% GC)\n",
       "  mean time:        2.419 ns (0.00% GC)\n",
       "  maximum time:     6.471 ns (0.00% GC)\n",
       "  --------------\n",
       "  samples:          10000\n",
       "  evals/sample:     1000"
      ]
     },
     "execution_count": 14,
     "metadata": {},
     "output_type": "execute_result"
    }
   ],
   "source": [
    "@benchmark 1+1"
   ]
  },
  {
   "cell_type": "code",
   "execution_count": 15,
   "metadata": {},
   "outputs": [
    {
     "data": {
      "text/plain": [
       "BenchmarkTools.Trial: \n",
       "  memory estimate:  0 bytes\n",
       "  allocs estimate:  0\n",
       "  --------------\n",
       "  minimum time:     2.521 ns (0.00% GC)\n",
       "  median time:      2.527 ns (0.00% GC)\n",
       "  mean time:        2.532 ns (0.00% GC)\n",
       "  maximum time:     5.810 ns (0.00% GC)\n",
       "  --------------\n",
       "  samples:          10000\n",
       "  evals/sample:     1000"
      ]
     },
     "execution_count": 15,
     "metadata": {},
     "output_type": "execute_result"
    }
   ],
   "source": [
    "@benchmark Point(1,2)+Point(1,1)"
   ]
  },
  {
   "cell_type": "markdown",
   "metadata": {},
   "source": [
    "## Why is Julia fast?"
   ]
  },
  {
   "cell_type": "markdown",
   "metadata": {},
   "source": [
    "### JIT compilation"
   ]
  },
  {
   "cell_type": "code",
   "execution_count": 76,
   "metadata": {},
   "outputs": [
    {
     "name": "stdout",
     "output_type": "stream",
     "text": [
      "  0.003269 seconds (26 allocations: 1.813 KiB)\n"
     ]
    },
    {
     "data": {
      "text/plain": [
       "2"
      ]
     },
     "execution_count": 76,
     "metadata": {},
     "output_type": "execute_result"
    }
   ],
   "source": [
    "g(x)=x+1\n",
    "@time g(1)"
   ]
  },
  {
   "cell_type": "code",
   "execution_count": 77,
   "metadata": {},
   "outputs": [
    {
     "name": "stdout",
     "output_type": "stream",
     "text": [
      "  0.000004 seconds (4 allocations: 160 bytes)\n"
     ]
    },
    {
     "data": {
      "text/plain": [
       "2"
      ]
     },
     "execution_count": 77,
     "metadata": {},
     "output_type": "execute_result"
    }
   ],
   "source": [
    "@time g(1)"
   ]
  },
  {
   "cell_type": "markdown",
   "metadata": {},
   "source": [
    "### Machine code"
   ]
  },
  {
   "cell_type": "code",
   "execution_count": 85,
   "metadata": {},
   "outputs": [
    {
     "data": {
      "text/plain": [
       "f (generic function with 2 methods)"
      ]
     },
     "execution_count": 85,
     "metadata": {},
     "output_type": "execute_result"
    }
   ],
   "source": [
    "f(x)=2*x"
   ]
  },
  {
   "cell_type": "code",
   "execution_count": 86,
   "metadata": {},
   "outputs": [
    {
     "name": "stdout",
     "output_type": "stream",
     "text": [
      "\t.text\n",
      "Filename: In[85]\n",
      "\tpushq\t%rbp\n",
      "\tmovq\t%rsp, %rbp\n",
      "Source line: 1\n",
      "\tleaq\t(%rdi,%rdi), %rax\n",
      "\tpopq\t%rbp\n",
      "\tretq\n",
      "\tnopw\t(%rax,%rax)\n"
     ]
    }
   ],
   "source": [
    "@code_native f(1)"
   ]
  },
  {
   "cell_type": "code",
   "execution_count": 33,
   "metadata": {
    "scrolled": true
   },
   "outputs": [
    {
     "name": "stdout",
     "output_type": "stream",
     "text": [
      "\t.text\n",
      "Filename: In[22]\n",
      "\tpushq\t%rbp\n",
      "\tmovq\t%rsp, %rbp\n",
      "Source line: 2\n",
      "\taddsd\t%xmm0, %xmm0\n",
      "\tpopq\t%rbp\n",
      "\tretq\n",
      "\tnopw\t(%rax,%rax)\n"
     ]
    }
   ],
   "source": [
    "@code_native f(1.0)"
   ]
  },
  {
   "cell_type": "code",
   "execution_count": 45,
   "metadata": {},
   "outputs": [
    {
     "name": "stdout",
     "output_type": "stream",
     "text": [
      "\t.text\n",
      "Filename: In[27]\n",
      "\tpushq\t%rbp\n",
      "\tmovq\t%rsp, %rbp\n",
      "Source line: 2\n",
      "\tmovsd\t(%rsi), %xmm0           # xmm0 = mem[0],zero\n",
      "\tmovsd\t8(%rsi), %xmm1          # xmm1 = mem[0],zero\n",
      "\taddsd\t(%rdx), %xmm0\n",
      "\taddsd\t8(%rdx), %xmm1\n",
      "\tmovsd\t%xmm0, (%rdi)\n",
      "\tmovsd\t%xmm1, 8(%rdi)\n",
      "\tmovq\t%rdi, %rax\n",
      "\tpopq\t%rbp\n",
      "\tretq\n",
      "\tnopw\t%cs:(%rax,%rax)\n"
     ]
    }
   ],
   "source": [
    "@code_native Point(1,0)+Point(1,1)"
   ]
  },
  {
   "cell_type": "markdown",
   "metadata": {},
   "source": [
    "### Type inference"
   ]
  },
  {
   "cell_type": "code",
   "execution_count": 30,
   "metadata": {},
   "outputs": [
    {
     "data": {
      "text/plain": [
       "f (generic function with 2 methods)"
      ]
     },
     "execution_count": 30,
     "metadata": {},
     "output_type": "execute_result"
    }
   ],
   "source": [
    "function f(x,y)\n",
    "    z=x+y\n",
    "    return z/2\n",
    "end"
   ]
  },
  {
   "cell_type": "code",
   "execution_count": 31,
   "metadata": {},
   "outputs": [
    {
     "name": "stdout",
     "output_type": "stream",
     "text": [
      "Variables:\n",
      "  #self#::#f\n",
      "  x::Int64\n",
      "  y::Int64\n",
      "  z::Int64\n",
      "\n",
      "Body:\n",
      "  begin \n",
      "      z::Int64 = (Base.add_int)(x::Int64, y::Int64)::Int64 # line 3:\n",
      "      return (Base.div_float)((Base.sitofp)(Float64, z::Int64)::Float64, (Base.sitofp)(Float64, 2)::Float64)::Float64\n",
      "  end::Float64\n"
     ]
    }
   ],
   "source": [
    "@code_warntype f(1,1)"
   ]
  },
  {
   "cell_type": "code",
   "execution_count": 32,
   "metadata": {},
   "outputs": [
    {
     "name": "stdout",
     "output_type": "stream",
     "text": [
      "Variables:\n",
      "  #self#::#f\n",
      "  x::Point\n",
      "  y::Point\n",
      "  z::Point\n",
      "\n",
      "Body:\n",
      "  begin \n",
      "      SSAValue(0) = (Base.add_float)((Core.getfield)(x::Point, :x)::Float64, (Core.getfield)(y::Point, :x)::Float64)::Float64\n",
      "      SSAValue(1) = (Base.add_float)((Core.getfield)(x::Point, :y)::Float64, (Core.getfield)(y::Point, :y)::Float64)::Float64 # line 3:\n",
      "      return $(Expr(:new, :(Main.Point), :((Base.div_float)(SSAValue(0), (Base.sitofp)(Float64, 2)::Float64)::Float64), :((Base.div_float)(SSAValue(1), (Base.sitofp)(Float64, 2)::Float64)::Float64)))\n",
      "  end::Point\n"
     ]
    }
   ],
   "source": [
    "@code_warntype f(Point(1,1),Point(1,1))"
   ]
  },
  {
   "cell_type": "markdown",
   "metadata": {},
   "source": [
    "#### Type (in)stability"
   ]
  },
  {
   "cell_type": "code",
   "execution_count": 35,
   "metadata": {},
   "outputs": [
    {
     "data": {
      "text/plain": [
       "slow (generic function with 1 method)"
      ]
     },
     "execution_count": 35,
     "metadata": {},
     "output_type": "execute_result"
    }
   ],
   "source": [
    "y=10\n",
    "function slow(x)\n",
    "    z=x*y\n",
    "    return z+1\n",
    "end"
   ]
  },
  {
   "cell_type": "code",
   "execution_count": 36,
   "metadata": {},
   "outputs": [
    {
     "data": {
      "text/plain": [
       "11"
      ]
     },
     "execution_count": 36,
     "metadata": {},
     "output_type": "execute_result"
    }
   ],
   "source": [
    "slow(1)"
   ]
  },
  {
   "cell_type": "code",
   "execution_count": 40,
   "metadata": {},
   "outputs": [
    {
     "data": {
      "text/plain": [
       "3"
      ]
     },
     "execution_count": 40,
     "metadata": {},
     "output_type": "execute_result"
    }
   ],
   "source": [
    "y=2\n",
    "slow(1)"
   ]
  },
  {
   "cell_type": "code",
   "execution_count": 41,
   "metadata": {},
   "outputs": [
    {
     "data": {
      "text/plain": [
       "3-element Array{Int64,1}:\n",
       " 2\n",
       " 3\n",
       " 4"
      ]
     },
     "execution_count": 41,
     "metadata": {},
     "output_type": "execute_result"
    }
   ],
   "source": [
    "y=[1,2,3]\n",
    "slow(1)"
   ]
  },
  {
   "cell_type": "code",
   "execution_count": 42,
   "metadata": {},
   "outputs": [
    {
     "name": "stdout",
     "output_type": "stream",
     "text": [
      "Variables:\n",
      "  #self#::#slow\n",
      "  x::Int64\n",
      "  z\u001b[1m\u001b[91m::Any\u001b[39m\u001b[22m\n",
      "\n",
      "Body:\n",
      "  begin \n",
      "      z\u001b[1m\u001b[91m::Any\u001b[39m\u001b[22m = (x::Int64 * Main.y)\u001b[1m\u001b[91m::Any\u001b[39m\u001b[22m # line 4:\n",
      "      return (z\u001b[1m\u001b[91m::Any\u001b[39m\u001b[22m + 1)\u001b[1m\u001b[91m::Any\u001b[39m\u001b[22m\n",
      "  end\u001b[1m\u001b[91m::Any\u001b[39m\u001b[22m\n"
     ]
    }
   ],
   "source": [
    "@code_warntype slow(1)"
   ]
  },
  {
   "cell_type": "code",
   "execution_count": 34,
   "metadata": {},
   "outputs": [
    {
     "data": {
      "text/plain": [
       "BenchmarkTools.Trial: \n",
       "  memory estimate:  0 bytes\n",
       "  allocs estimate:  0\n",
       "  --------------\n",
       "  minimum time:     51.056 ns (0.00% GC)\n",
       "  median time:      52.412 ns (0.00% GC)\n",
       "  mean time:        53.114 ns (0.00% GC)\n",
       "  maximum time:     103.669 ns (0.00% GC)\n",
       "  --------------\n",
       "  samples:          10000\n",
       "  evals/sample:     987"
      ]
     },
     "execution_count": 34,
     "metadata": {},
     "output_type": "execute_result"
    }
   ],
   "source": [
    "@benchmark slow(1)"
   ]
  },
  {
   "cell_type": "code",
   "execution_count": 75,
   "metadata": {},
   "outputs": [
    {
     "data": {
      "text/plain": [
       "BenchmarkTools.Trial: \n",
       "  memory estimate:  0 bytes\n",
       "  allocs estimate:  0\n",
       "  --------------\n",
       "  minimum time:     2.110 ns (0.00% GC)\n",
       "  median time:      2.513 ns (0.00% GC)\n",
       "  mean time:        2.350 ns (0.00% GC)\n",
       "  maximum time:     5.744 ns (0.00% GC)\n",
       "  --------------\n",
       "  samples:          10000\n",
       "  evals/sample:     1000"
      ]
     },
     "execution_count": 75,
     "metadata": {},
     "output_type": "execute_result"
    }
   ],
   "source": [
    "@benchmark f(1,1)"
   ]
  },
  {
   "cell_type": "markdown",
   "metadata": {},
   "source": [
    "#### How to fix it?"
   ]
  },
  {
   "cell_type": "code",
   "execution_count": 174,
   "metadata": {},
   "outputs": [
    {
     "data": {
      "text/plain": [
       "fast (generic function with 1 method)"
      ]
     },
     "execution_count": 174,
     "metadata": {},
     "output_type": "execute_result"
    }
   ],
   "source": [
    "function fgen(y)\n",
    "\n",
    "    function fast(x)\n",
    "        z=x*y\n",
    "        y[1]=33\n",
    "        return z+1\n",
    "    end\n",
    "    \n",
    "    return fast\n",
    "end\n",
    "\n",
    "y=10\n",
    "\n",
    "fast = fgen(y)"
   ]
  },
  {
   "cell_type": "code",
   "execution_count": 175,
   "metadata": {},
   "outputs": [
    {
     "name": "stdout",
     "output_type": "stream",
     "text": [
      "Variables:\n",
      "  #self#::#fast#29{Int64}\n",
      "  x::Int64\n",
      "  z::Int64\n",
      "\n",
      "Body:\n",
      "  begin \n",
      "      z::Int64 = (Base.mul_int)(x::Int64, (Core.getfield)(#self#::#fast#29{Int64}, :y)::Int64)::Int64 # line 5:\n",
      "      (Main.setindex!)((Core.getfield)(#self#::#fast#29{Int64}, :y)::Int64, 33, 1)\u001b[1m\u001b[91m::Any\u001b[39m\u001b[22m # line 6:\n",
      "      return (Base.add_int)(z::Int64, 1)::Int64\n",
      "  end::Int64\n"
     ]
    }
   ],
   "source": [
    "@code_warntype fast(1)"
   ]
  },
  {
   "cell_type": "markdown",
   "metadata": {},
   "source": [
    "### Julia is implemented in Julia"
   ]
  },
  {
   "cell_type": "code",
   "execution_count": 16,
   "metadata": {},
   "outputs": [
    {
     "data": {
      "text/html": [
       "mean(A::<b>AbstractArray</b>) at <a href=\"https://github.com/JuliaLang/julia/tree/903644385b91ed8d95e5e3a5716c089dd1f1b08a/base/statistics.jl#L36\" target=\"_blank\">statistics.jl:36</a>"
      ],
      "text/plain": [
       "mean(A::AbstractArray) in Base at statistics.jl:36"
      ]
     },
     "execution_count": 16,
     "metadata": {},
     "output_type": "execute_result"
    }
   ],
   "source": [
    "@which mean([1,2,3])"
   ]
  },
  {
   "cell_type": "markdown",
   "metadata": {},
   "source": [
    "## Interoperability"
   ]
  },
  {
   "cell_type": "markdown",
   "metadata": {},
   "source": [
    "Julia can call C, R and Python among other languages\n",
    "\n",
    "**R and Python examples won't work on JuliaBox**"
   ]
  },
  {
   "cell_type": "markdown",
   "metadata": {},
   "source": [
    "### Calling C"
   ]
  },
  {
   "cell_type": "code",
   "execution_count": 75,
   "metadata": {},
   "outputs": [
    {
     "data": {
      "text/html": [
       "77324620"
      ],
      "text/plain": [
       "77324620"
      ]
     },
     "execution_count": 75,
     "metadata": {},
     "output_type": "execute_result"
    }
   ],
   "source": [
    "t = ccall((:clock, \"libc\"), Int32, ())"
   ]
  },
  {
   "cell_type": "code",
   "execution_count": 76,
   "metadata": {},
   "outputs": [
    {
     "name": "stderr",
     "output_type": "stream",
     "text": [
      "\u001b[1m\u001b[36mINFO: \u001b[39m\u001b[22m\u001b[36mUpdating cache of AxisArrays...\n",
      "\u001b[39m\u001b[1m\u001b[36mINFO: \u001b[39m\u001b[22m\u001b[36mCloning cache of CategoricalArrays from https://github.com/JuliaData/CategoricalArrays.jl.git\n",
      "\u001b[39m\u001b[1m\u001b[36mINFO: \u001b[39m\u001b[22m\u001b[36mCloning cache of NullableArrays from https://github.com/JuliaStats/NullableArrays.jl.git\n",
      "\u001b[39m\u001b[1m\u001b[36mINFO: \u001b[39m\u001b[22m\u001b[36mCloning cache of RCall from https://github.com/JuliaInterop/RCall.jl.git\n",
      "\u001b[39m\u001b[1m\u001b[36mINFO: \u001b[39m\u001b[22m\u001b[36mUpdating cache of RangeArrays...\n",
      "\u001b[39m\u001b[1m\u001b[36mINFO: \u001b[39m\u001b[22m\u001b[36mInstalling AxisArrays v0.1.4\n",
      "\u001b[39m\u001b[1m\u001b[36mINFO: \u001b[39m\u001b[22m\u001b[36mInstalling CategoricalArrays v0.1.6\n",
      "\u001b[39m\u001b[1m\u001b[36mINFO: \u001b[39m\u001b[22m\u001b[36mInstalling IntervalSets v0.1.1\n",
      "\u001b[39m\u001b[1m\u001b[36mINFO: \u001b[39m\u001b[22m\u001b[36mInstalling NamedArrays v0.6.1\n",
      "\u001b[39m\u001b[1m\u001b[36mINFO: \u001b[39m\u001b[22m\u001b[36mInstalling NullableArrays v0.1.1\n",
      "\u001b[39m\u001b[1m\u001b[36mINFO: \u001b[39m\u001b[22m\u001b[36mInstalling RCall v0.7.4\n",
      "\u001b[39m\u001b[1m\u001b[36mINFO: \u001b[39m\u001b[22m\u001b[36mInstalling RangeArrays v0.2.0\n",
      "\u001b[39m\u001b[1m\u001b[36mINFO: \u001b[39m\u001b[22m\u001b[36mPackage database updated\n",
      "\u001b[39m"
     ]
    }
   ],
   "source": [
    "Pkg.add(\"RCall\")"
   ]
  },
  {
   "cell_type": "markdown",
   "metadata": {},
   "source": [
    "### Calling R"
   ]
  },
  {
   "cell_type": "markdown",
   "metadata": {},
   "source": [
    "https://github.com/JuliaInterop/RCall.jl"
   ]
  },
  {
   "cell_type": "code",
   "execution_count": 78,
   "metadata": {
    "collapsed": true
   },
   "outputs": [],
   "source": [
    "using RCall"
   ]
  },
  {
   "cell_type": "code",
   "execution_count": 82,
   "metadata": {},
   "outputs": [
    {
     "data": {
      "text/plain": [
       "10-element Array{Float64,1}:\n",
       " -0.274962\n",
       "  0.753483\n",
       " -0.791424\n",
       "  0.962013\n",
       " -0.989645\n",
       " -0.587251\n",
       " -1.5494  \n",
       "  1.29455 \n",
       " -2.1119  \n",
       "  0.216504"
      ]
     },
     "execution_count": 82,
     "metadata": {},
     "output_type": "execute_result"
    }
   ],
   "source": [
    "x=randn(10)"
   ]
  },
  {
   "cell_type": "code",
   "execution_count": 95,
   "metadata": {},
   "outputs": [
    {
     "data": {
      "text/plain": [
       "RCall.RObject{RCall.RealSxp}\n",
       "[1] -3.078033\n"
      ]
     },
     "execution_count": 95,
     "metadata": {},
     "output_type": "execute_result"
    }
   ],
   "source": [
    "rcall(:sum, x)"
   ]
  },
  {
   "cell_type": "code",
   "execution_count": 110,
   "metadata": {},
   "outputs": [
    {
     "data": {
      "text/plain": [
       "Dict{Symbol,Any} with 9 entries:\n",
       "  Symbol(\"p.value\")    => 0.404692\n",
       "  Symbol(\"conf.int\")   => [-1.10423, 0.488625]\n",
       "  Symbol(\"null.value\") => 0.0\n",
       "  :method              => \"One Sample t-test\"\n",
       "  :statistic           => -0.874278\n",
       "  Symbol(\"data.name\")  => String[\"c(-0.274962448952313, 0.753483464935302, -0.7…\n",
       "  :alternative         => \"two.sided\"\n",
       "  :estimate            => -0.307803\n",
       "  :parameter           => 9.0"
      ]
     },
     "execution_count": 110,
     "metadata": {},
     "output_type": "execute_result"
    }
   ],
   "source": [
    "robject=rcall(Symbol(\"t.test\"),x)\n",
    "juliaobject=rcopy(robject)"
   ]
  },
  {
   "cell_type": "code",
   "execution_count": 111,
   "metadata": {},
   "outputs": [
    {
     "data": {
      "text/html": [
       "-0.8742780600956775"
      ],
      "text/plain": [
       "-0.8742780600956775"
      ]
     },
     "execution_count": 111,
     "metadata": {},
     "output_type": "execute_result"
    }
   ],
   "source": [
    "juliaobject[:statistic]"
   ]
  },
  {
   "cell_type": "markdown",
   "metadata": {},
   "source": [
    "### Calling Python"
   ]
  },
  {
   "cell_type": "markdown",
   "metadata": {},
   "source": [
    "https://github.com/JuliaPy/PyCall.jl"
   ]
  },
  {
   "cell_type": "code",
   "execution_count": 94,
   "metadata": {},
   "outputs": [
    {
     "data": {
      "text/html": [
       "0.0"
      ],
      "text/plain": [
       "0.0"
      ]
     },
     "execution_count": 94,
     "metadata": {},
     "output_type": "execute_result"
    }
   ],
   "source": [
    "using PyCall\n",
    "@pyimport math\n",
    "math.sin(math.pi / 4) - sin(pi / 4)  # returns 0.0"
   ]
  },
  {
   "cell_type": "markdown",
   "metadata": {},
   "source": [
    "# Packages"
   ]
  },
  {
   "cell_type": "markdown",
   "metadata": {},
   "source": [
    "A full list of packages is available at https://pkg.julialang.org/"
   ]
  },
  {
   "cell_type": "code",
   "execution_count": 34,
   "metadata": {
    "scrolled": true
   },
   "outputs": [
    {
     "name": "stderr",
     "output_type": "stream",
     "text": [
      "\u001b[1m\u001b[36mINFO: \u001b[39m\u001b[22m\u001b[36mUpdating METADATA...\n",
      "\u001b[39m\u001b[1m\u001b[33mWARNING: \u001b[39m\u001b[22m\u001b[33mPackage BHTsne: skipping update (dirty)...\u001b[39m\n",
      "\u001b[1m\u001b[36mINFO: \u001b[39m\u001b[22m\u001b[36mUpdating TSne master...\n",
      "\u001b[39m\u001b[1m\u001b[36mINFO: \u001b[39m\u001b[22m\u001b[36mComputing changes...\n",
      "\u001b[39m\u001b[1m\u001b[36mINFO: \u001b[39m\u001b[22m\u001b[36mRemoving BGZFStreams v0.1.4\n",
      "\u001b[39m\u001b[1m\u001b[36mINFO: \u001b[39m\u001b[22m\u001b[36mRemoving BioAlignments v0.2.0\n",
      "\u001b[39m\u001b[1m\u001b[36mINFO: \u001b[39m\u001b[22m\u001b[36mRemoving CodecZlib v0.2.0\n",
      "\u001b[39m\u001b[1m\u001b[36mINFO: \u001b[39m\u001b[22m\u001b[36mRemoving EzXML v0.4.4\n",
      "\u001b[39m\u001b[1m\u001b[36mINFO: \u001b[39m\u001b[22m\u001b[36mRemoving GenomicFeatures v0.2.1\n",
      "\u001b[39m\u001b[1m\u001b[36mINFO: \u001b[39m\u001b[22m\u001b[36mRemoving LightGraphs v0.9.5\n",
      "\u001b[39m\u001b[1m\u001b[36mINFO: \u001b[39m\u001b[22m\u001b[36mRemoving NamedArrays v0.6.1\n",
      "\u001b[39m\u001b[1m\u001b[36mINFO: \u001b[39m\u001b[22m\u001b[36mRemoving PairwiseListMatrices v0.5.1\n",
      "\u001b[39m\u001b[1m\u001b[36mINFO: \u001b[39m\u001b[22m\u001b[36mRemoving Phylogenies v0.1.0\n",
      "\u001b[39m\u001b[1m\u001b[36mINFO: \u001b[39m\u001b[22m\u001b[36mRemoving Roots v0.4.0\n",
      "\u001b[39m\u001b[1m\u001b[36mINFO: \u001b[39m\u001b[22m\u001b[36mRemoving SimpleTraits v0.5.0\n",
      "\u001b[39m\u001b[1m\u001b[36mINFO: \u001b[39m\u001b[22m\u001b[36mRemoving TranscodingStreams v0.2.0\n",
      "\u001b[39m\u001b[1m\u001b[36mINFO: \u001b[39m\u001b[22m\u001b[36mPackage BioSequences is already installed\n",
      "\u001b[39m\u001b[1m\u001b[36mINFO: \u001b[39m\u001b[22m\u001b[36mPackage DataFrames is already installed\n",
      "\u001b[39m\u001b[1m\u001b[36mINFO: \u001b[39m\u001b[22m\u001b[36mPackage Plots is already installed\n",
      "\u001b[39m\u001b[1m\u001b[36mINFO: \u001b[39m\u001b[22m\u001b[36mPackage Plotly is already installed\n",
      "\u001b[39m\u001b[1m\u001b[36mINFO: \u001b[39m\u001b[22m\u001b[36mPackage StatPlots is already installed\n",
      "\u001b[39m\u001b[1m\u001b[36mINFO: \u001b[39m\u001b[22m\u001b[36mPackage Suppressor is already installed\n",
      "\u001b[39m"
     ]
    }
   ],
   "source": [
    "Pkg.update()\n",
    "Pkg.add.([\"BioSequences\",\"DataFrames\",\"Plots\",\"Plotly\",\"StatPlots\",\"BenchmarkTools\",\"RDatasets\",\"RData\",\"ProfileView\"])"
   ]
  },
  {
   "cell_type": "markdown",
   "metadata": {},
   "source": [
    "## DataFrames"
   ]
  },
  {
   "cell_type": "markdown",
   "metadata": {},
   "source": [
    "To load a package"
   ]
  },
  {
   "cell_type": "code",
   "execution_count": 112,
   "metadata": {
    "collapsed": true,
    "scrolled": false
   },
   "outputs": [],
   "source": [
    "using DataFrames"
   ]
  },
  {
   "cell_type": "code",
   "execution_count": 113,
   "metadata": {},
   "outputs": [
    {
     "data": {
      "text/html": [
       "<table class=\"data-frame\"><thead><tr><th></th><th>A</th><th>B</th></tr></thead><tbody><tr><th>1</th><td>1</td><td>M</td></tr><tr><th>2</th><td>2</td><td>F</td></tr><tr><th>3</th><td>3</td><td>F</td></tr><tr><th>4</th><td>4</td><td>M</td></tr></tbody></table>"
      ],
      "text/plain": [
       "4×2 DataFrames.DataFrame\n",
       "│ Row │ A │ B   │\n",
       "├─────┼───┼─────┤\n",
       "│ 1   │ 1 │ \"M\" │\n",
       "│ 2   │ 2 │ \"F\" │\n",
       "│ 3   │ 3 │ \"F\" │\n",
       "│ 4   │ 4 │ \"M\" │"
      ]
     },
     "execution_count": 113,
     "metadata": {},
     "output_type": "execute_result"
    }
   ],
   "source": [
    "df = DataFrame(A = 1:4, B = [\"M\", \"F\", \"F\", \"M\"])"
   ]
  },
  {
   "cell_type": "markdown",
   "metadata": {},
   "source": [
    "Standard R datasets are also available"
   ]
  },
  {
   "cell_type": "code",
   "execution_count": 114,
   "metadata": {},
   "outputs": [
    {
     "data": {
      "text/html": [
       "<table class=\"data-frame\"><thead><tr><th></th><th>SepalLength</th><th>SepalWidth</th><th>PetalLength</th><th>PetalWidth</th><th>Species</th></tr></thead><tbody><tr><th>1</th><td>5.1</td><td>3.5</td><td>1.4</td><td>0.2</td><td>setosa</td></tr><tr><th>2</th><td>4.9</td><td>3.0</td><td>1.4</td><td>0.2</td><td>setosa</td></tr><tr><th>3</th><td>4.7</td><td>3.2</td><td>1.3</td><td>0.2</td><td>setosa</td></tr><tr><th>4</th><td>4.6</td><td>3.1</td><td>1.5</td><td>0.2</td><td>setosa</td></tr><tr><th>5</th><td>5.0</td><td>3.6</td><td>1.4</td><td>0.2</td><td>setosa</td></tr><tr><th>6</th><td>5.4</td><td>3.9</td><td>1.7</td><td>0.4</td><td>setosa</td></tr></tbody></table>"
      ],
      "text/plain": [
       "6×5 DataFrames.DataFrame\n",
       "│ Row │ SepalLength │ SepalWidth │ PetalLength │ PetalWidth │ Species  │\n",
       "├─────┼─────────────┼────────────┼─────────────┼────────────┼──────────┤\n",
       "│ 1   │ 5.1         │ 3.5        │ 1.4         │ 0.2        │ \"setosa\" │\n",
       "│ 2   │ 4.9         │ 3.0        │ 1.4         │ 0.2        │ \"setosa\" │\n",
       "│ 3   │ 4.7         │ 3.2        │ 1.3         │ 0.2        │ \"setosa\" │\n",
       "│ 4   │ 4.6         │ 3.1        │ 1.5         │ 0.2        │ \"setosa\" │\n",
       "│ 5   │ 5.0         │ 3.6        │ 1.4         │ 0.2        │ \"setosa\" │\n",
       "│ 6   │ 5.4         │ 3.9        │ 1.7         │ 0.4        │ \"setosa\" │"
      ]
     },
     "execution_count": 114,
     "metadata": {},
     "output_type": "execute_result"
    }
   ],
   "source": [
    "using RDatasets\n",
    "iris = dataset(\"datasets\", \"iris\")\n",
    "head(iris)"
   ]
  },
  {
   "cell_type": "markdown",
   "metadata": {},
   "source": [
    "## Plotting"
   ]
  },
  {
   "cell_type": "markdown",
   "metadata": {},
   "source": [
    "Plots: https://juliaplots.github.io/\n",
    "\n",
    "StatPlots: https://github.com/JuliaPlots/StatPlots.jl"
   ]
  },
  {
   "cell_type": "code",
   "execution_count": 115,
   "metadata": {},
   "outputs": [
    {
     "data": {
      "text/plain": [
       "Plots.PlotlyBackend()"
      ]
     },
     "execution_count": 115,
     "metadata": {},
     "output_type": "execute_result"
    }
   ],
   "source": [
    "using Plots\n",
    "using StatPlots\n",
    "# choose plotly as the backend\n",
    "plotly()"
   ]
  },
  {
   "cell_type": "code",
   "execution_count": 116,
   "metadata": {},
   "outputs": [
    {
     "data": {
      "text/html": [
       "<script src=\"/home/pawel/.julia/v0.6/Plots/src/backends/../../deps/plotly-latest.min.js\"></script>    <div id=\"01aa609c-840d-491a-8d2a-3f83ca1f964b\" style=\"width:600px;height:400px;\"></div>\n",
       "    <script>\n",
       "    PLOT = document.getElementById('01aa609c-840d-491a-8d2a-3f83ca1f964b');\n",
       "    Plotly.plot(PLOT, [{\"showlegend\":true,\"marker\":{\"color\":\"rgba(0, 154, 250, 1.000)\"},\"xaxis\":\"x\",\"colorbar\":{\"title\":\"\"},\"y\":[1.0,4.0,6.0,11.0,19.0,5.0,13.0,14.0,10.0,12.0,13.0,12.0,10.0,7.0,2.0,4.0,1.0,5.0,1.0],\"type\":\"bar\",\"name\":\"y1\",\"yaxis\":\"y\",\"orientation\":\"v\",\"x\":[4.300000000000001,4.5,4.699999999999999,4.9,5.1,5.300000000000001,5.5,5.699999999999999,5.9,6.1,6.300000000000001,6.5,6.699999999999999,6.9,7.1,7.300000000000001,7.5,7.699999999999999,7.9]}], {\"showlegend\":true,\"xaxis\":{\"tickvals\":[5.0,6.0,7.0,8.0],\"ticks\":\"inside\",\"tickmode\":\"array\",\"domain\":[0.03619130941965587,0.9934383202099738],\"linecolor\":\"rgba(0, 0, 0, 1.000)\",\"showgrid\":true,\"title\":\"\",\"tickangle\":0,\"titlefont\":{\"color\":\"rgba(0, 0, 0, 1.000)\",\"family\":\"sans-serif\",\"size\":15},\"tickcolor\":\"rgba(0, 0, 0, 1.000)\",\"ticktext\":[\"5\",\"6\",\"7\",\"8\"],\"zeroline\":false,\"type\":\"-\",\"tickfont\":{\"color\":\"rgba(0, 0, 0, 1.000)\",\"family\":\"sans-serif\",\"size\":11},\"anchor\":\"y\"},\"paper_bgcolor\":\"rgba(255, 255, 255, 1.000)\",\"annotations\":[],\"height\":400,\"margin\":{\"l\":0,\"b\":20,\"r\":0,\"t\":20},\"plot_bgcolor\":\"rgba(255, 255, 255, 1.000)\",\"yaxis\":{\"tickvals\":[0.0,5.0,10.0,15.0],\"ticks\":\"inside\",\"tickmode\":\"array\",\"domain\":[0.03762029746281716,0.9901574803149606],\"linecolor\":\"rgba(0, 0, 0, 1.000)\",\"showgrid\":true,\"title\":\"\",\"tickangle\":0,\"titlefont\":{\"color\":\"rgba(0, 0, 0, 1.000)\",\"family\":\"sans-serif\",\"size\":15},\"tickcolor\":\"rgba(0, 0, 0, 1.000)\",\"ticktext\":[\"0\",\"5\",\"10\",\"15\"],\"zeroline\":false,\"type\":\"-\",\"tickfont\":{\"color\":\"rgba(0, 0, 0, 1.000)\",\"family\":\"sans-serif\",\"size\":11},\"anchor\":\"x\"},\"legend\":{\"bordercolor\":\"rgba(0, 0, 0, 1.000)\",\"bgcolor\":\"rgba(255, 255, 255, 1.000)\",\"font\":{\"color\":\"rgba(0, 0, 0, 1.000)\",\"family\":\"sans-serif\",\"size\":11},\"y\":1.0,\"x\":1.0},\"width\":600});\n",
       "    </script>\n"
      ]
     },
     "execution_count": 116,
     "metadata": {},
     "output_type": "execute_result"
    }
   ],
   "source": [
    "histogram(iris[:SepalLength])"
   ]
  },
  {
   "cell_type": "code",
   "execution_count": 117,
   "metadata": {},
   "outputs": [
    {
     "data": {
      "text/html": [
       "<script src=\"/home/pawel/.julia/v0.6/Plots/src/backends/../../deps/plotly-latest.min.js\"></script>    <div id=\"1f09d571-b2cd-47f9-bba3-89851b1cfffa\" style=\"width:600px;height:400px;\"></div>\n",
       "    <script>\n",
       "    PLOT = document.getElementById('1f09d571-b2cd-47f9-bba3-89851b1cfffa');\n",
       "    Plotly.plot(PLOT, [{\"showlegend\":true,\"marker\":{\"color\":\"rgba(0, 154, 250, 1.000)\"},\"xaxis\":\"x\",\"colorbar\":{\"title\":\"\"},\"y\":[1.0,4.0,6.0,11.0,19.0,5.0,13.0,14.0,10.0,12.0,13.0,12.0,10.0,7.0,2.0,4.0,1.0,5.0,1.0],\"type\":\"bar\",\"name\":\"y1\",\"yaxis\":\"y\",\"orientation\":\"v\",\"x\":[4.300000000000001,4.5,4.699999999999999,4.9,5.1,5.300000000000001,5.5,5.699999999999999,5.9,6.1,6.300000000000001,6.5,6.699999999999999,6.9,7.1,7.300000000000001,7.5,7.699999999999999,7.9]}], {\"showlegend\":true,\"xaxis\":{\"tickvals\":[5.0,6.0,7.0,8.0],\"ticks\":\"inside\",\"tickmode\":\"array\",\"domain\":[0.03619130941965587,0.9934383202099738],\"linecolor\":\"rgba(0, 0, 0, 1.000)\",\"showgrid\":true,\"title\":\"SepalLength\",\"tickangle\":0,\"titlefont\":{\"color\":\"rgba(0, 0, 0, 1.000)\",\"family\":\"sans-serif\",\"size\":15},\"tickcolor\":\"rgba(0, 0, 0, 1.000)\",\"ticktext\":[\"5\",\"6\",\"7\",\"8\"],\"zeroline\":false,\"type\":\"-\",\"tickfont\":{\"color\":\"rgba(0, 0, 0, 1.000)\",\"family\":\"sans-serif\",\"size\":11},\"anchor\":\"y\"},\"paper_bgcolor\":\"rgba(255, 255, 255, 1.000)\",\"annotations\":[],\"height\":400,\"margin\":{\"l\":0,\"b\":20,\"r\":0,\"t\":20},\"plot_bgcolor\":\"rgba(255, 255, 255, 1.000)\",\"yaxis\":{\"tickvals\":[0.0,5.0,10.0,15.0],\"ticks\":\"inside\",\"tickmode\":\"array\",\"domain\":[0.07581474190726165,0.9901574803149606],\"linecolor\":\"rgba(0, 0, 0, 1.000)\",\"showgrid\":true,\"title\":\"\",\"tickangle\":0,\"titlefont\":{\"color\":\"rgba(0, 0, 0, 1.000)\",\"family\":\"sans-serif\",\"size\":15},\"tickcolor\":\"rgba(0, 0, 0, 1.000)\",\"ticktext\":[\"0\",\"5\",\"10\",\"15\"],\"zeroline\":false,\"type\":\"-\",\"tickfont\":{\"color\":\"rgba(0, 0, 0, 1.000)\",\"family\":\"sans-serif\",\"size\":11},\"anchor\":\"x\"},\"legend\":{\"bordercolor\":\"rgba(0, 0, 0, 1.000)\",\"bgcolor\":\"rgba(255, 255, 255, 1.000)\",\"font\":{\"color\":\"rgba(0, 0, 0, 1.000)\",\"family\":\"sans-serif\",\"size\":11},\"y\":1.0,\"x\":1.0},\"width\":600});\n",
       "    </script>\n"
      ]
     },
     "execution_count": 117,
     "metadata": {},
     "output_type": "execute_result"
    }
   ],
   "source": [
    "histogram(iris,:SepalLength)"
   ]
  },
  {
   "cell_type": "code",
   "execution_count": 118,
   "metadata": {},
   "outputs": [
    {
     "data": {
      "text/html": [
       "<script src=\"/home/pawel/.julia/v0.6/Plots/src/backends/../../deps/plotly-latest.min.js\"></script>    <div id=\"6abd71b1-0f52-4d25-966e-c612f8086510\" style=\"width:600px;height:400px;\"></div>\n",
       "    <script>\n",
       "    PLOT = document.getElementById('6abd71b1-0f52-4d25-966e-c612f8086510');\n",
       "    Plotly.plot(PLOT, [{\"xaxis\":\"x\",\"fill\":\"tozeroy\",\"yaxis\":\"y\",\"x\":[0.5282270333127063,0.5289619650153594,0.5295416213266786,0.5299982819406444,0.5303687578522922,0.5306909786711602,0.5310008842673143,0.5313300315274919,0.5317042112355147,0.5321432048941319,0.5326616232695186,0.5332705895463177,0.5339798921578653,0.5348001616955811,0.5357446379646562,0.5368301880189945,0.5380773991955209,0.5395097742865517,0.541152261025185,0.5430295138315646,0.545164375393505,0.5475770538845363,0.5502853507318854,0.5533060768844664,0.5566575160689168,0.5603625015805666,0.5644514276051849,0.568964374465831,0.5739515346083912,0.5794713048836267,0.5855857529209197,0.5923536304438828,0.5998216238242767,0.6080150109488793,0.6169292361679365,0.6265240354055315,0.6367215840877246,0.6474096878284828,0.658450328702585,0.6696930097322333,0.6809914407213316,0.6922213368922341,0.7032966122914431,0.7141811655121479,0.7248938409352418,0.7355049928519312,0.7461242877902714,0.7568807823883656,0.7678976883243724,0.7792653428220018,0.791016527767634,0.8031082719636424,0.8154135763643188,0.8277251831734639,0.8397717414432835,0.8512447699255359,0.8618329980682264,0.8712592916291789,0.8793146962698932,0.8858843108602932,0.8909607446222912,0.8946426847230076,0.8971183398855804,0.8986358783513705,0.8994650613236534,0.8998557363214614,0.8999994445833591,0.9,0.899857564500651,0.8994686838032249,0.8986422884992566,0.8971292066318988,0.8946606732042339,0.8909899897274893,0.8859310900166513,0.8793883568966001,0.8713734948458687,0.8620073410731492,0.85150684191583,0.8401596485741547,0.828290543410121,0.8162249324379833,0.8042547988541366,0.7926118216413414,0.7814509761473007,0.770846110204449,0.7607970476368282,0.7512460303427877,0.7421000383312469,0.7332548986812285,0.7246171673650832,0.7161204813590106,0.7077342706435242,0.6994641614903646,0.6913448401875624,0.6834273456733861,0.675763542741051,0.6683907987393157,0.6613196416849627,0.6545264970376834,0.6479526294336303,0.6415093351386423,0.6350884240359682,0.6285762517645651,0.6218691172262578,0.6148877686061391,0.6075890386939992,0.5999731801523007,0.5920861803243067,0.5840170768561501,0.5758909524559733,0.5678587694294844,0.5600854609662815,0.5527377177998906,0.5459727257510385,0.5399287804305339,0.5347183039298632,0.530423389581188,0.5270936682204169,0.524746065760253,0.5233659253384154,0.5229089913248792,0.5233038701890208,0.5244547544798878,0.5262443758748567,0.5285372996805852,0.5311837549173669,0.534024194795846,0.5368947025661799,0.5396332139367158,0.542086348496303,0.5441164646956367,0.545608412134916,0.5464753811669114,0.4535246188330886,0.4543915878650841,0.4558835353043633,0.45791365150369706,0.46036678606328413,0.4631052974338201,0.46597580520415405,0.46881624508263303,0.47146270031941484,0.47375562412514327,0.47554524552011224,0.4766961298109792,0.4770910086751208,0.4766340746615846,0.47525393423974704,0.4729063317795831,0.46957661041881205,0.46528169607013675,0.46007121956946606,0.4540272742489615,0.44726228220010944,0.43991453903371847,0.43214123057051557,0.4241090475440267,0.4159829231438499,0.4079138196756933,0.4000268198476992,0.39241096130600084,0.3851122313938609,0.3781308827737422,0.3714237482354349,0.3649115759640318,0.3584906648613577,0.3520473705663697,0.34547350296231666,0.33868035831503734,0.33160920126068427,0.324236457258949,0.31657265432661386,0.3086551598124377,0.3005358385096354,0.29226572935647577,0.28387951864098937,0.2753828326349168,0.2667451013187715,0.25789996166875306,0.24875396965721236,0.2392029523631718,0.22915388979555096,0.2185490238526992,0.20738817835865858,0.1957452011458633,0.18377506756201673,0.17170945658987902,0.1598403514258453,0.1484931580841699,0.1379926589268508,0.12862650515413138,0.12061164310339983,0.11406890998334868,0.10901001027251073,0.10533932679576608,0.10287079336810129,0.1013577115007433,0.10053131619677513,0.10014243549934904,0.09999999999999998,0.10000055541664088,0.10014426367853857,0.10053493867634655,0.10136412164862951,0.10288166011441957,0.10535731527699249,0.10903925537770875,0.11411568913970682,0.12068530373010683,0.12874070837082108,0.13816700193177356,0.14875523007446406,0.16022825855671657,0.17227481682653611,0.18458642363568123,0.19689172803635763,0.20898347223236602,0.22073465717799823,0.2321023116756275,0.24311921761163435,0.25387571220972854,0.26449500714806884,0.2751061590647582,0.28581883448785206,0.29670338770855686,0.30777866310776597,0.31900855927866845,0.33030699026776666,0.341549671297415,0.35259031217151715,0.3632784159122754,0.3734759645944685,0.3830707638320635,0.39198498905112067,0.40017837617572327,0.40764636955611727,0.4144142470790802,0.42052869511637325,0.4260484653916088,0.43103562553416896,0.43554857239481515,0.43963749841943345,0.4433424839310833,0.4466939231155336,0.44971464926811455,0.45242294611546374,0.4548356246064949,0.4569704861684354,0.45884773897481507,0.4604902257134484,0.4619226008044791,0.46316981198100554,0.4642553620353438,0.46519983830441897,0.4660201078421347,0.4667294104536823,0.4673383767304814,0.4678567951058681,0.46829578876448524,0.468669968472508,0.46899911573268577,0.4693090213288398,0.46963124214770785,0.47000171805935564,0.4704583786733214,0.47103803498464064,0.47177296668729374,0.5282270333127063],\"showlegend\":true,\"mode\":\"lines\",\"fillcolor\":\"rgba(0, 154, 250, 1.000)\",\"name\":\"y1\",\"line\":{\"color\":\"rgba(0, 154, 250, 1.000)\",\"dash\":\"solid\",\"width\":1},\"y\":[1.005551675163164,1.0122351086193568,1.01891854207555,1.025601975531743,1.0322854089879359,1.038968842444129,1.045652275900322,1.052335709356515,1.059019142812708,1.0657025762689012,1.0723860097250941,1.079069443181287,1.0857528766374802,1.0924363100936731,1.0991197435498663,1.1058031770060592,1.1124866104622522,1.1191700439184453,1.1258534773746383,1.1325369108308314,1.1392203442870243,1.1459037777432175,1.1525872111994104,1.1592706446556034,1.1659540781117965,1.1726375115679895,1.1793209450241826,1.1860043784803755,1.1926878119365685,1.1993712453927616,1.2060546788489546,1.2127381123051477,1.2194215457613407,1.2261049792175338,1.2327884126737267,1.2394718461299197,1.2461552795861128,1.2528387130423058,1.259522146498499,1.2662055799546919,1.272889013410885,1.279572446867078,1.2862558803232709,1.292939313779464,1.299622747235657,1.3063061806918501,1.312989614148043,1.319673047604236,1.3263564810604291,1.333039914516622,1.3397233479728152,1.3464067814290082,1.3530902148852013,1.3597736483413942,1.3664570817975872,1.3731405152537803,1.3798239487099733,1.3865073821661664,1.3931908156223594,1.3998742490785523,1.4065576825347454,1.4132411159909384,1.4199245494471315,1.4266079829033245,1.4332914163595176,1.4399748498157106,1.4466582832719035,1.4533417167280966,1.4600251501842896,1.4667085836404827,1.4733920170966757,1.4800754505528686,1.4867588840090618,1.4934423174652547,1.5001257509214478,1.5068091843776408,1.513492617833834,1.5201760512900269,1.5268594847462198,1.533542918202413,1.5402263516586059,1.546909785114799,1.553593218570992,1.560276652027185,1.566960085483378,1.573643518939571,1.5803269523957642,1.587010385851957,1.5936938193081502,1.6003772527643432,1.607060686220536,1.6137441196767293,1.6204275531329222,1.6271109865891153,1.6337944200453083,1.6404778535015012,1.6471612869576944,1.6538447204138873,1.6605281538700805,1.6672115873262734,1.6738950207824665,1.6805784542386595,1.6872618876948524,1.6939453211510456,1.7006287546072385,1.7073121880634317,1.7139956215196246,1.7206790549758177,1.7273624884320107,1.7340459218882036,1.7407293553443968,1.7474127888005897,1.7540962222567829,1.7607796557129758,1.7674630891691687,1.7741465226253619,1.7808299560815548,1.787513389537748,1.794196822993941,1.800880256450134,1.807563689906327,1.81424712336252,1.820930556818713,1.827613990274906,1.8342974237310992,1.840980857187292,1.847664290643485,1.8543477240996782,1.8610311575558711,1.8677145910120643,1.8743980244682572,1.8810814579244504,1.8877648913806433,1.8944483248368362,1.8944483248368362,1.8877648913806433,1.8810814579244504,1.8743980244682572,1.8677145910120643,1.8610311575558711,1.8543477240996782,1.847664290643485,1.840980857187292,1.8342974237310992,1.827613990274906,1.820930556818713,1.81424712336252,1.807563689906327,1.800880256450134,1.794196822993941,1.787513389537748,1.7808299560815548,1.7741465226253619,1.7674630891691687,1.7607796557129758,1.7540962222567829,1.7474127888005897,1.7407293553443968,1.7340459218882036,1.7273624884320107,1.7206790549758177,1.7139956215196246,1.7073121880634317,1.7006287546072385,1.6939453211510456,1.6872618876948524,1.6805784542386595,1.6738950207824665,1.6672115873262734,1.6605281538700805,1.6538447204138873,1.6471612869576944,1.6404778535015012,1.6337944200453083,1.6271109865891153,1.6204275531329222,1.6137441196767293,1.607060686220536,1.6003772527643432,1.5936938193081502,1.587010385851957,1.5803269523957642,1.573643518939571,1.566960085483378,1.560276652027185,1.553593218570992,1.546909785114799,1.5402263516586059,1.533542918202413,1.5268594847462198,1.5201760512900269,1.513492617833834,1.5068091843776408,1.5001257509214478,1.4934423174652547,1.4867588840090618,1.4800754505528686,1.4733920170966757,1.4667085836404827,1.4600251501842896,1.4533417167280966,1.4466582832719035,1.4399748498157106,1.4332914163595176,1.4266079829033245,1.4199245494471315,1.4132411159909384,1.4065576825347454,1.3998742490785523,1.3931908156223594,1.3865073821661664,1.3798239487099733,1.3731405152537803,1.3664570817975872,1.3597736483413942,1.3530902148852013,1.3464067814290082,1.3397233479728152,1.333039914516622,1.3263564810604291,1.319673047604236,1.312989614148043,1.3063061806918501,1.299622747235657,1.292939313779464,1.2862558803232709,1.279572446867078,1.272889013410885,1.2662055799546919,1.259522146498499,1.2528387130423058,1.2461552795861128,1.2394718461299197,1.2327884126737267,1.2261049792175338,1.2194215457613407,1.2127381123051477,1.2060546788489546,1.1993712453927616,1.1926878119365685,1.1860043784803755,1.1793209450241826,1.1726375115679895,1.1659540781117965,1.1592706446556034,1.1525872111994104,1.1459037777432175,1.1392203442870243,1.1325369108308314,1.1258534773746383,1.1191700439184453,1.1124866104622522,1.1058031770060592,1.0991197435498663,1.0924363100936731,1.0857528766374802,1.079069443181287,1.0723860097250941,1.0657025762689012,1.059019142812708,1.052335709356515,1.045652275900322,1.038968842444129,1.0322854089879359,1.025601975531743,1.01891854207555,1.0122351086193568,1.005551675163164,1.005551675163164],\"type\":\"scatter\"},{\"xaxis\":\"x\",\"fill\":\"tozeroy\",\"yaxis\":\"y\",\"x\":[1.5351877278750743,1.5373515616063307,1.539585695262423,1.5419005632409226,1.5443057344220508,1.546808982731191,1.5494154445724788,1.5521269297390727,1.5549414401556874,1.55785293396407,1.5608513528922963,1.5639229107014325,1.5670506219235532,1.5702150349548445,1.5733951231820467,1.5765692828413176,1.5797163866158734,1.5828168467341857,1.5858536491249382,1.5888133292683657,1.5916868689431516,1.5944704995121814,1.5971664005967683,1.5997832824795257,1.6023368365943658,1.604850031942187,1.6073532277039124,1.6098840655420161,1.6124871009981099,1.6152131337174378,1.6181182022181586,1.6212622211828864,1.6247072576291377,1.6285154658778762,1.6327467283368775,1.6374560775392073,1.6426910020703098,1.6484887623254354,1.6548738589690712,1.6618558054315067,1.6694273542981863,1.6775633153120197,1.686220080052858,1.695335936178249,1.704832214201357,1.7146152646113126,1.7245792156553978,1.7346094154979823,1.7445864199382277,1.75439035133366,1.7639054282674058,1.7730244505528516,1.7816530213177657,1.7897132972181942,1.7971470785438157,1.8039180816197875,1.810013274470422,1.815443200834733,1.8202412648368496,1.8244619965091164,1.8281783647540042,1.8314782473306792,1.8344602055120696,1.837228742927845,1.8398892527721655,1.8425428741571617,1.8452814861847167,1.8481830666360226,1.8513076305278635,1.8546939418897828,1.8583571601031779,1.862287540692537,1.8664502609447946,1.8707863853009505,1.8752149270150533,1.8796359046328441,1.8839342383043742,1.887984285740917,1.8916547843130895,1.8948139471401786,1.8973344586810943,1.8990981295665503,1.9,1.8999517234030234,1.898884113355983,1.8967487928150617,1.8935189403489319,1.8891891792708102,1.8837746983149974,1.8773097242885,1.869845486595549,1.8614478207131278,1.8521945538348028,1.8421728031887643,1.8314762987401523,1.8202028200431801,1.8084518146372572,1.796322244782516,1.7839106919819656,1.7713097353255187,1.7586066101597229,1.7458821472915984,1.7332099888595005,1.7206560740035892,1.7082783844970528,1.6961269367885146,1.6842440020762948,1.672664530127887,1.6614167459957094,1.6505228822682843,1.6400000038875215,1.6298608787107112,1.6201148456150682,1.610768633500546,1.6018270891936555,1.5932937798017506,1.4067062201982494,1.3981729108063445,1.389231366499454,1.3798851543849318,1.3701391212892888,1.3599999961124785,1.3494771177317157,1.3385832540042906,1.327335469872113,1.3157559979237052,1.3038730632114854,1.2917216155029472,1.2793439259964108,1.2667900111404995,1.2541178527084016,1.2413933898402771,1.2286902646744813,1.2160893080180344,1.203677755217484,1.1915481853627428,1.1797971799568199,1.1685237012598477,1.1578271968112357,1.1478054461651972,1.1385521792868722,1.130154513404451,1.1226902757115,1.1162253016850026,1.1108108207291898,1.1064810596510681,1.1032512071849383,1.101115886644017,1.1000482765969766,1.1,1.1009018704334497,1.1026655413189057,1.1051860528598214,1.1083452156869105,1.112015714259083,1.1160657616956258,1.1203640953671559,1.1247850729849467,1.1292136146990495,1.1335497390552054,1.137712459307463,1.1416428398968221,1.1453060581102172,1.1486923694721365,1.1518169333639774,1.1547185138152833,1.1574571258428383,1.1601107472278345,1.162771257072155,1.1655397944879304,1.1685217526693208,1.1718216352459958,1.1755380034908836,1.1797587351631504,1.184556799165267,1.189986725529578,1.1960819183802125,1.2028529214561843,1.2102867027818058,1.2183469786822343,1.2269755494471484,1.2360945717325942,1.24560964866634,1.2554135800617723,1.2653905845020177,1.2754207843446022,1.2853847353886874,1.295167785798643,1.304664063821751,1.313779919947142,1.3224366846879803,1.3305726457018137,1.3381441945684933,1.3451261410309288,1.3515112376745646,1.3573089979296902,1.3625439224607927,1.3672532716631225,1.3714845341221238,1.3752927423708623,1.3787377788171136,1.3818817977818414,1.3847868662825622,1.3875128990018901,1.3901159344579839,1.3926467722960876,1.395149968057813,1.3976631634056342,1.4002167175204743,1.4028335994032317,1.4055295004878186,1.4083131310568484,1.4111866707316343,1.4141463508750618,1.4171831532658143,1.4202836133841266,1.4234307171586824,1.4266048768179533,1.4297849650451555,1.4329493780764468,1.4360770892985675,1.4391486471077037,1.44214706603593,1.4450585598443126,1.4478730702609273,1.4505845554275212,1.453191017268809,1.4556942655779492,1.4580994367590774,1.460414304737577,1.4626484383936693,1.4648122721249257,1.5351877278750743],\"showlegend\":false,\"mode\":\"lines\",\"fillcolor\":\"rgba(0, 154, 250, 1.000)\",\"name\":\"y1\",\"line\":{\"color\":\"rgba(0, 154, 250, 1.000)\",\"dash\":\"solid\",\"width\":1},\"y\":[3.017225774774065,3.03518706564756,3.053148356521054,3.0711096473945485,3.0890709382680432,3.107032229141538,3.1249935200150323,3.1429548108885266,3.1609161017620213,3.178877392635516,3.1968386835090103,3.2147999743825046,3.2327612652559994,3.250722556129494,3.2686838470029884,3.2866451378764827,3.3046064287499775,3.322567719623472,3.3405290104969665,3.358490301370461,3.3764515922439555,3.3944128831174503,3.4123741739909446,3.430335464864439,3.4482967557379336,3.4662580466114283,3.4842193374849226,3.502180628358417,3.5201419192319117,3.5381032101054064,3.5560645009789007,3.574025791852395,3.5919870827258897,3.6099483735993845,3.6279096644728788,3.645870955346373,3.663832246219868,3.6817935370933625,3.699754827966857,3.717716118840351,3.735677409713846,3.7536387005873406,3.771599991460835,3.789561282334329,3.807522573207824,3.8254838640813187,3.843445154954813,3.8614064458283073,3.879367736701802,3.8973290275752968,3.915290318448791,3.9332516093222853,3.95121290019578,3.969174191069275,3.987135481942769,4.005096772816263,4.023058063689758,4.041019354563253,4.058980645436748,4.0769419363102415,4.094903227183736,4.112864518057231,4.130825808930725,4.14878709980422,4.166748390677714,4.184709681551209,4.202670972424704,4.220632263298198,4.238593554171692,4.256554845045187,4.274516135918681,4.292477426792176,4.31043871766567,4.328400008539165,4.34636129941266,4.364322590286154,4.3822838811596485,4.400245172033143,4.418206462906637,4.436167753780132,4.454129044653627,4.472090335527121,4.490051626400616,4.50801291727411,4.525974208147605,4.543935499021099,4.561896789894593,4.579858080768088,4.597819371641583,4.6157806625150775,4.633741953388572,4.651703244262066,4.669664535135561,4.6876258260090555,4.705587116882549,4.723548407756044,4.741509698629539,4.759470989503034,4.777432280376528,4.795393571250022,4.813354862123517,4.831316152997012,4.8492774438705055,4.867238734744,4.885200025617495,4.90316131649099,4.9211226073644845,4.939083898237978,4.957045189111473,4.975006479984968,4.992967770858462,5.010929061731956,5.028890352605451,5.046851643478946,5.064812934352441,5.0827742252259345,5.0827742252259345,5.064812934352441,5.046851643478946,5.028890352605451,5.010929061731956,4.992967770858462,4.975006479984968,4.957045189111473,4.939083898237978,4.9211226073644845,4.90316131649099,4.885200025617495,4.867238734744,4.8492774438705055,4.831316152997012,4.813354862123517,4.795393571250022,4.777432280376528,4.759470989503034,4.741509698629539,4.723548407756044,4.705587116882549,4.6876258260090555,4.669664535135561,4.651703244262066,4.633741953388572,4.6157806625150775,4.597819371641583,4.579858080768088,4.561896789894593,4.543935499021099,4.525974208147605,4.50801291727411,4.490051626400616,4.472090335527121,4.454129044653627,4.436167753780132,4.418206462906637,4.400245172033143,4.3822838811596485,4.364322590286154,4.34636129941266,4.328400008539165,4.31043871766567,4.292477426792176,4.274516135918681,4.256554845045187,4.238593554171692,4.220632263298198,4.202670972424704,4.184709681551209,4.166748390677714,4.14878709980422,4.130825808930725,4.112864518057231,4.094903227183736,4.0769419363102415,4.058980645436748,4.041019354563253,4.023058063689758,4.005096772816263,3.987135481942769,3.969174191069275,3.95121290019578,3.9332516093222853,3.915290318448791,3.8973290275752968,3.879367736701802,3.8614064458283073,3.843445154954813,3.8254838640813187,3.807522573207824,3.789561282334329,3.771599991460835,3.7536387005873406,3.735677409713846,3.717716118840351,3.699754827966857,3.6817935370933625,3.663832246219868,3.645870955346373,3.6279096644728788,3.6099483735993845,3.5919870827258897,3.574025791852395,3.5560645009789007,3.5381032101054064,3.5201419192319117,3.502180628358417,3.4842193374849226,3.4662580466114283,3.4482967557379336,3.430335464864439,3.4123741739909446,3.3944128831174503,3.3764515922439555,3.358490301370461,3.3405290104969665,3.322567719623472,3.3046064287499775,3.2866451378764827,3.2686838470029884,3.250722556129494,3.2327612652559994,3.2147999743825046,3.1968386835090103,3.178877392635516,3.1609161017620213,3.1429548108885266,3.1249935200150323,3.107032229141538,3.0890709382680432,3.0711096473945485,3.053148356521054,3.03518706564756,3.017225774774065,3.017225774774065],\"type\":\"scatter\"},{\"xaxis\":\"x\",\"fill\":\"tozeroy\",\"yaxis\":\"y\",\"x\":[2.5655798819824267,2.572994643925234,2.581113667066502,2.589973895580819,2.5996040229142316,2.6100220152958937,2.621232699236105,2.6332255371550435,2.6459727181289088,2.659427687191889,2.673524226669577,2.6881761869257765,2.7032779422187097,2.7187056208219085,2.7343191280571766,2.749964947417922,2.765479669644246,2.780694163674841,2.795438268206751,2.8095458496536003,2.8228600432664654,2.83523847084674,2.8465582126599336,2.856720304603873,2.8656535359166293,2.873317338840133,2.8797035901989214,2.88483718555951,2.888775298371854,2.8916052971975863,2.8934413608488785,2.8944199002928976,2.8946939632899498,2.89442685847343,2.8937852856146646,2.8929322943001927,2.8920204111655643,2.891185274274297,2.8905400916124875,2.890171199804781,2.8901349412461954,2.8904560063335154,2.891127306822759,2.892111361673001,2.893343093507389,2.8947338573851344,2.896176458810031,2.8975508688497755,2.8987303138424796,2.8995874070497556,2.9,2.899856460970678,2.899060134612238,2.8975327965554354,2.895216985591111,2.892077168806976,2.88809976692665,2.88329213327728,2.877680636141063,2.871308037407145,2.8642303881861757,2.856513673327239,2.848230431758612,2.83945655959636,2.8302684703787597,2.820740744733435,2.810944353929046,2.800945491978909,2.7908050030292335,2.7805783480754176,2.770316020373933,2.76006429421294,2.7498661780140967,2.739762440163171,2.7297925837273733,2.7199956627791715,2.7104108563116953,2.701077743262954,2.692036251429958,2.6833262816463015,2.6749870344439195,2.6670560879232728,2.659568291677111,2.652554551888294,2.646040587219365,2.640045734332461,2.6345818766288995,2.6296525610470236,2.625252356501014,2.6213664946979756,2.617970820399135,2.6150320642769453,2.612508437778927,2.6103505361332227,2.6085025230501624,2.606903559020031,2.6054894246630473,2.6041942817130956,2.602952507342833,2.601700533128714,2.6003786184470785,2.5989324898212605,2.5973147828640326,2.5954862319050602,2.5934165638205133,2.5910850663908915,2.588480816880117,2.585602572477871,2.582458339741059,2.579064654212302,2.5754456131228562,2.5716317128586357,2.567658548301084,2.5635654331547233,2.4364345668452767,2.432341451698916,2.4283682871413643,2.4245543868771438,2.420935345787698,2.417541660258941,2.414397427522129,2.411519183119883,2.4089149336091085,2.4065834361794867,2.4045137680949398,2.4026852171359674,2.4010675101787395,2.3996213815529215,2.398299466871286,2.397047492657167,2.3958057182869044,2.3945105753369527,2.393096440979969,2.3914974769498376,2.3896494638667773,2.387491562221073,2.3849679357230547,2.382029179600865,2.3786335053020244,2.374747643498986,2.3703474389529764,2.3654181233711005,2.359954265667539,2.353959412780635,2.347445448111706,2.340431708322889,2.3329439120767272,2.3250129655560805,2.3166737183536985,2.307963748570042,2.298922256737046,2.2895891436883047,2.2800043372208285,2.2702074162726267,2.260237559836829,2.2501338219859033,2.23993570578706,2.229683979626067,2.2194216519245824,2.2091949969707665,2.199054508021091,2.189055646070954,2.179259255266565,2.1697315296212403,2.16054344040364,2.151769568241388,2.143486326672761,2.1357696118138243,2.128691962592855,2.122319363858937,2.11670786672272,2.11190023307335,2.107922831193024,2.104783014408889,2.1024672034445646,2.100939865387762,2.100143539029322,2.1,2.1004125929502444,2.1012696861575204,2.1024491311502245,2.103823541189969,2.1052661426148656,2.106656906492611,2.107888638326999,2.108872693177241,2.1095439936664846,2.1098650587538046,2.109828800195219,2.1094599083875125,2.108814725725703,2.1079795888344357,2.1070677056998073,2.1062147143853354,2.10557314152657,2.1053060367100502,2.1055800997071024,2.1065586391511215,2.1083947028024137,2.111224701628146,2.11516281444049,2.1202964098010786,2.126682661159867,2.1343464640833707,2.143279695396127,2.1534417873400664,2.16476152915326,2.1771399567335346,2.1904541503463997,2.204561731793249,2.219305836325159,2.234520330355754,2.250035052582078,2.2656808719428234,2.2812943791780915,2.2967220577812903,2.3118238130742235,2.326475773330423,2.340572312808111,2.3540272818710912,2.3667744628449565,2.378767300763895,2.3899779847041063,2.4003959770857684,2.410026104419181,2.418886332933498,2.427005356074766,2.4344201180175733,2.5655798819824267],\"showlegend\":false,\"mode\":\"lines\",\"fillcolor\":\"rgba(0, 154, 250, 1.000)\",\"name\":\"y1\",\"line\":{\"color\":\"rgba(0, 154, 250, 1.000)\",\"dash\":\"solid\",\"width\":1},\"y\":[4.50266379012897,4.5238555814541215,4.545047372779272,4.566239164104423,4.587430955429574,4.608622746754725,4.629814538079876,4.651006329405027,4.672198120730178,4.693389912055329,4.71458170338048,4.735773494705631,4.756965286030781,4.7781570773559325,4.799348868681084,4.820540660006235,4.841732451331386,4.862924242656537,4.884116033981687,4.9053078253068385,4.92649961663199,4.947691407957141,4.968883199282292,4.990074990607442,5.011266781932593,5.0324585732577445,5.053650364582896,5.074842155908047,5.096033947233197,5.117225738558348,5.138417529883499,5.1596093212086505,5.180801112533802,5.201992903858952,5.223184695184103,5.244376486509254,5.265568277834405,5.286760069159556,5.307951860484707,5.329143651809858,5.350335443135009,5.37152723446016,5.392719025785311,5.413910817110462,5.435102608435613,5.456294399760764,5.477486191085915,5.498677982411066,5.519869773736217,5.5410615650613675,5.562253356386519,5.58344514771167,5.604636939036821,5.625828730361972,5.647020521687122,5.6682123130122735,5.689404104337425,5.710595895662576,5.731787686987727,5.752979478312877,5.774171269638028,5.795363060963179,5.816554852288331,5.837746643613482,5.858938434938633,5.880130226263783,5.901322017588934,5.922513808914085,5.9437056002392366,5.964897391564388,5.986089182889538,6.007280974214689,6.02847276553984,6.049664556864991,6.0708563481901425,6.092048139515293,6.113239930840444,6.134431722165595,6.155623513490746,6.176815304815897,6.198007096141048,6.219198887466199,6.24039067879135,6.261582470116501,6.282774261441652,6.303966052766803,6.325157844091954,6.346349635417105,6.367541426742256,6.388733218067407,6.409925009392558,6.431116800717708,6.45230859204286,6.473500383368011,6.494692174693162,6.515883966018313,6.537075757343463,6.558267548668614,6.5794593399937655,6.600651131318917,6.621842922644068,6.643034713969218,6.664226505294369,6.68541829661952,6.7066100879446715,6.727801879269823,6.748993670594973,6.770185461920124,6.791377253245275,6.812569044570426,6.8337608358955775,6.854952627220729,6.876144418545879,6.89733620987103,6.89733620987103,6.876144418545879,6.854952627220729,6.8337608358955775,6.812569044570426,6.791377253245275,6.770185461920124,6.748993670594973,6.727801879269823,6.7066100879446715,6.68541829661952,6.664226505294369,6.643034713969218,6.621842922644068,6.600651131318917,6.5794593399937655,6.558267548668614,6.537075757343463,6.515883966018313,6.494692174693162,6.473500383368011,6.45230859204286,6.431116800717708,6.409925009392558,6.388733218067407,6.367541426742256,6.346349635417105,6.325157844091954,6.303966052766803,6.282774261441652,6.261582470116501,6.24039067879135,6.219198887466199,6.198007096141048,6.176815304815897,6.155623513490746,6.134431722165595,6.113239930840444,6.092048139515293,6.0708563481901425,6.049664556864991,6.02847276553984,6.007280974214689,5.986089182889538,5.964897391564388,5.9437056002392366,5.922513808914085,5.901322017588934,5.880130226263783,5.858938434938633,5.837746643613482,5.816554852288331,5.795363060963179,5.774171269638028,5.752979478312877,5.731787686987727,5.710595895662576,5.689404104337425,5.6682123130122735,5.647020521687122,5.625828730361972,5.604636939036821,5.58344514771167,5.562253356386519,5.5410615650613675,5.519869773736217,5.498677982411066,5.477486191085915,5.456294399760764,5.435102608435613,5.413910817110462,5.392719025785311,5.37152723446016,5.350335443135009,5.329143651809858,5.307951860484707,5.286760069159556,5.265568277834405,5.244376486509254,5.223184695184103,5.201992903858952,5.180801112533802,5.1596093212086505,5.138417529883499,5.117225738558348,5.096033947233197,5.074842155908047,5.053650364582896,5.0324585732577445,5.011266781932593,4.990074990607442,4.968883199282292,4.947691407957141,4.92649961663199,4.9053078253068385,4.884116033981687,4.862924242656537,4.841732451331386,4.820540660006235,4.799348868681084,4.7781570773559325,4.756965286030781,4.735773494705631,4.71458170338048,4.693389912055329,4.672198120730178,4.651006329405027,4.629814538079876,4.608622746754725,4.587430955429574,4.566239164104423,4.545047372779272,4.5238555814541215,4.50266379012897,4.50266379012897],\"type\":\"scatter\"}], {\"showlegend\":true,\"xaxis\":{\"tickvals\":[0.5,1.5,2.5],\"ticks\":\"inside\",\"tickmode\":\"array\",\"domain\":[0.04683945756780402,0.9934383202099739],\"linecolor\":\"rgba(0, 0, 0, 1.000)\",\"showgrid\":true,\"title\":\"Species\",\"tickangle\":0,\"titlefont\":{\"color\":\"rgba(0, 0, 0, 1.000)\",\"family\":\"sans-serif\",\"size\":15},\"tickcolor\":\"rgba(0, 0, 0, 1.000)\",\"ticktext\":[\"setosa\",\"versicolor\",\"virginica\"],\"zeroline\":false,\"type\":\"-\",\"tickfont\":{\"color\":\"rgba(0, 0, 0, 1.000)\",\"family\":\"sans-serif\",\"size\":11},\"anchor\":\"y\"},\"paper_bgcolor\":\"rgba(255, 255, 255, 1.000)\",\"annotations\":[],\"height\":400,\"margin\":{\"l\":0,\"b\":20,\"r\":0,\"t\":20},\"plot_bgcolor\":\"rgba(255, 255, 255, 1.000)\",\"yaxis\":{\"tickvals\":[2.0,4.0,6.0],\"ticks\":\"inside\",\"tickmode\":\"array\",\"domain\":[0.07581474190726165,0.9901574803149606],\"linecolor\":\"rgba(0, 0, 0, 1.000)\",\"showgrid\":true,\"title\":\"PetalLength\",\"tickangle\":0,\"titlefont\":{\"color\":\"rgba(0, 0, 0, 1.000)\",\"family\":\"sans-serif\",\"size\":15},\"tickcolor\":\"rgba(0, 0, 0, 1.000)\",\"ticktext\":[\"2\",\"4\",\"6\"],\"zeroline\":false,\"type\":\"-\",\"tickfont\":{\"color\":\"rgba(0, 0, 0, 1.000)\",\"family\":\"sans-serif\",\"size\":11},\"anchor\":\"x\"},\"legend\":{\"bordercolor\":\"rgba(0, 0, 0, 1.000)\",\"bgcolor\":\"rgba(255, 255, 255, 1.000)\",\"font\":{\"color\":\"rgba(0, 0, 0, 1.000)\",\"family\":\"sans-serif\",\"size\":11},\"y\":1.0,\"x\":1.0},\"width\":600});\n",
       "    </script>\n"
      ]
     },
     "execution_count": 118,
     "metadata": {},
     "output_type": "execute_result"
    }
   ],
   "source": [
    "violin(iris,:Species,:PetalLength)"
   ]
  },
  {
   "cell_type": "code",
   "execution_count": 119,
   "metadata": {},
   "outputs": [
    {
     "data": {
      "text/html": [
       "<script src=\"/home/pawel/.julia/v0.6/Plots/src/backends/../../deps/plotly-latest.min.js\"></script>    <div id=\"b941f3e3-7974-4210-addd-ace93547f913\" style=\"width:600px;height:400px;\"></div>\n",
       "    <script>\n",
       "    PLOT = document.getElementById('b941f3e3-7974-4210-addd-ace93547f913');\n",
       "    Plotly.plot(PLOT, [{\"xaxis\":\"x\",\"colorbar\":{\"title\":\"\"},\"yaxis\":\"y\",\"x\":[5.1,4.9,4.7,4.6,5.0,5.4,4.6,5.0,4.4,4.9,5.4,4.8,4.8,4.3,5.8,5.7,5.4,5.1,5.7,5.1,5.4,5.1,4.6,5.1,4.8,5.0,5.0,5.2,5.2,4.7,4.8,5.4,5.2,5.5,4.9,5.0,5.5,4.9,4.4,5.1,5.0,4.5,4.4,5.0,5.1,4.8,5.1,4.6,5.3,5.0],\"showlegend\":true,\"mode\":\"markers\",\"name\":\"setosa\",\"z\":[1.4,1.4,1.3,1.5,1.4,1.7,1.4,1.5,1.4,1.5,1.5,1.6,1.4,1.1,1.2,1.5,1.3,1.4,1.7,1.5,1.7,1.5,1.0,1.7,1.9,1.6,1.6,1.5,1.4,1.6,1.6,1.5,1.5,1.4,1.5,1.2,1.3,1.4,1.3,1.5,1.3,1.3,1.3,1.6,1.9,1.4,1.6,1.4,1.5,1.4],\"marker\":{\"symbol\":\"circle\",\"color\":\"rgba(0, 154, 250, 1.000)\",\"line\":{\"color\":\"rgba(0, 0, 0, 1.000)\",\"width\":1},\"size\":2},\"y\":[3.5,3.0,3.2,3.1,3.6,3.9,3.4,3.4,2.9,3.1,3.7,3.4,3.0,3.0,4.0,4.4,3.9,3.5,3.8,3.8,3.4,3.7,3.6,3.3,3.4,3.0,3.4,3.5,3.4,3.2,3.1,3.4,4.1,4.2,3.1,3.2,3.5,3.6,3.0,3.4,3.5,2.3,3.2,3.5,3.8,3.0,3.8,3.2,3.7,3.3],\"type\":\"scatter3d\"},{\"xaxis\":\"x\",\"colorbar\":{\"title\":\"\"},\"yaxis\":\"y\",\"x\":[7.0,6.4,6.9,5.5,6.5,5.7,6.3,4.9,6.6,5.2,5.0,5.9,6.0,6.1,5.6,6.7,5.6,5.8,6.2,5.6,5.9,6.1,6.3,6.1,6.4,6.6,6.8,6.7,6.0,5.7,5.5,5.5,5.8,6.0,5.4,6.0,6.7,6.3,5.6,5.5,5.5,6.1,5.8,5.0,5.6,5.7,5.7,6.2,5.1,5.7],\"showlegend\":true,\"mode\":\"markers\",\"name\":\"versicolor\",\"z\":[4.7,4.5,4.9,4.0,4.6,4.5,4.7,3.3,4.6,3.9,3.5,4.2,4.0,4.7,3.6,4.4,4.5,4.1,4.5,3.9,4.8,4.0,4.9,4.7,4.3,4.4,4.8,5.0,4.5,3.5,3.8,3.7,3.9,5.1,4.5,4.5,4.7,4.4,4.1,4.0,4.4,4.6,4.0,3.3,4.2,4.2,4.2,4.3,3.0,4.1],\"marker\":{\"symbol\":\"circle\",\"color\":\"rgba(227, 111, 71, 1.000)\",\"line\":{\"color\":\"rgba(0, 0, 0, 1.000)\",\"width\":1},\"size\":2},\"y\":[3.2,3.2,3.1,2.3,2.8,2.8,3.3,2.4,2.9,2.7,2.0,3.0,2.2,2.9,2.9,3.1,3.0,2.7,2.2,2.5,3.2,2.8,2.5,2.8,2.9,3.0,2.8,3.0,2.9,2.6,2.4,2.4,2.7,2.7,3.0,3.4,3.1,2.3,3.0,2.5,2.6,3.0,2.6,2.3,2.7,3.0,2.9,2.9,2.5,2.8],\"type\":\"scatter3d\"},{\"xaxis\":\"x\",\"colorbar\":{\"title\":\"\"},\"yaxis\":\"y\",\"x\":[6.3,5.8,7.1,6.3,6.5,7.6,4.9,7.3,6.7,7.2,6.5,6.4,6.8,5.7,5.8,6.4,6.5,7.7,7.7,6.0,6.9,5.6,7.7,6.3,6.7,7.2,6.2,6.1,6.4,7.2,7.4,7.9,6.4,6.3,6.1,7.7,6.3,6.4,6.0,6.9,6.7,6.9,5.8,6.8,6.7,6.7,6.3,6.5,6.2,5.9],\"showlegend\":true,\"mode\":\"markers\",\"name\":\"virginica\",\"z\":[6.0,5.1,5.9,5.6,5.8,6.6,4.5,6.3,5.8,6.1,5.1,5.3,5.5,5.0,5.1,5.3,5.5,6.7,6.9,5.0,5.7,4.9,6.7,4.9,5.7,6.0,4.8,4.9,5.6,5.8,6.1,6.4,5.6,5.1,5.6,6.1,5.6,5.5,4.8,5.4,5.6,5.1,5.1,5.9,5.7,5.2,5.0,5.2,5.4,5.1],\"marker\":{\"symbol\":\"circle\",\"color\":\"rgba(62, 164, 78, 1.000)\",\"line\":{\"color\":\"rgba(0, 0, 0, 1.000)\",\"width\":1},\"size\":2},\"y\":[3.3,2.7,3.0,2.9,3.0,3.0,2.5,2.9,2.5,3.6,3.2,2.7,3.0,2.5,2.8,3.2,3.0,3.8,2.6,2.2,3.2,2.8,2.8,2.7,3.3,3.2,2.8,3.0,2.8,3.0,2.8,3.8,2.8,2.8,2.6,3.0,3.4,3.1,3.0,3.1,3.1,3.1,2.7,3.2,3.3,3.0,2.5,3.0,3.4,3.0],\"type\":\"scatter3d\"}], {\"showlegend\":true,\"paper_bgcolor\":\"rgba(255, 255, 255, 1.000)\",\"annotations\":[],\"height\":400,\"margin\":{\"l\":0,\"b\":20,\"r\":0,\"t\":20},\"plot_bgcolor\":\"rgba(255, 255, 255, 1.000)\",\"scene\":{\"xaxis\":{\"tickvals\":[5.0,6.0,7.0,8.0],\"ticks\":\"inside\",\"tickmode\":\"array\",\"domain\":[0.04683945756780402,0.9934383202099739],\"linecolor\":\"rgba(0, 0, 0, 1.000)\",\"showgrid\":true,\"title\":\"SepalLength\",\"tickangle\":0,\"titlefont\":{\"color\":\"rgba(0, 0, 0, 1.000)\",\"family\":\"sans-serif\",\"size\":15},\"tickcolor\":\"rgba(0, 0, 0, 1.000)\",\"ticktext\":[\"5\",\"6\",\"7\",\"8\"],\"zeroline\":false,\"type\":\"-\",\"tickfont\":{\"color\":\"rgba(0, 0, 0, 1.000)\",\"family\":\"sans-serif\",\"size\":11},\"anchor\":\"y\"},\"yaxis\":{\"tickvals\":[2.0,3.0,4.0],\"ticks\":\"inside\",\"tickmode\":\"array\",\"domain\":[0.07581474190726165,0.9901574803149606],\"linecolor\":\"rgba(0, 0, 0, 1.000)\",\"showgrid\":true,\"title\":\"SepalWidth\",\"tickangle\":0,\"titlefont\":{\"color\":\"rgba(0, 0, 0, 1.000)\",\"family\":\"sans-serif\",\"size\":15},\"tickcolor\":\"rgba(0, 0, 0, 1.000)\",\"ticktext\":[\"2\",\"3\",\"4\"],\"zeroline\":false,\"type\":\"-\",\"tickfont\":{\"color\":\"rgba(0, 0, 0, 1.000)\",\"family\":\"sans-serif\",\"size\":11},\"anchor\":\"x\"},\"zaxis\":{\"tickvals\":[2.0,4.0,6.0],\"ticks\":\"inside\",\"tickmode\":\"array\",\"linecolor\":\"rgba(0, 0, 0, 1.000)\",\"showgrid\":true,\"title\":\"PetalLength\",\"tickangle\":0,\"titlefont\":{\"color\":\"rgba(0, 0, 0, 1.000)\",\"family\":\"sans-serif\",\"size\":15},\"tickcolor\":\"rgba(0, 0, 0, 1.000)\",\"ticktext\":[\"2\",\"4\",\"6\"],\"zeroline\":false,\"type\":\"-\",\"tickfont\":{\"color\":\"rgba(0, 0, 0, 1.000)\",\"family\":\"sans-serif\",\"size\":11}}},\"legend\":{\"bordercolor\":\"rgba(0, 0, 0, 1.000)\",\"bgcolor\":\"rgba(255, 255, 255, 1.000)\",\"font\":{\"color\":\"rgba(0, 0, 0, 1.000)\",\"family\":\"sans-serif\",\"size\":11},\"y\":1.0,\"x\":1.0},\"width\":600});\n",
       "    </script>\n"
      ]
     },
     "execution_count": 119,
     "metadata": {},
     "output_type": "execute_result"
    }
   ],
   "source": [
    "scatter3d(iris,:SepalLength,:SepalWidth,:PetalLength,group=:Species,markersize=1)"
   ]
  },
  {
   "cell_type": "code",
   "execution_count": 120,
   "metadata": {},
   "outputs": [
    {
     "data": {
      "text/html": [
       "<script src=\"/home/pawel/.julia/v0.6/Plots/src/backends/../../deps/plotly-latest.min.js\"></script>    <div id=\"90eafe4a-ce5f-4ba1-8bf0-3131321bce8a\" style=\"width:600px;height:400px;\"></div>\n",
       "    <script>\n",
       "    PLOT = document.getElementById('90eafe4a-ce5f-4ba1-8bf0-3131321bce8a');\n",
       "    Plotly.plot(PLOT, [{\"showlegend\":true,\"marker\":{\"color\":\"rgba(0, 154, 250, 1.000)\"},\"xaxis\":\"x\",\"colorbar\":{\"title\":\"\"},\"y\":[1.0,4.0,6.0,11.0,19.0,5.0,13.0,14.0,10.0,12.0,13.0,12.0,10.0,7.0,2.0,4.0,1.0,5.0,1.0],\"type\":\"bar\",\"name\":\"Sepal Length\",\"yaxis\":\"y\",\"orientation\":\"v\",\"x\":[4.300000000000001,4.5,4.699999999999999,4.9,5.1,5.300000000000001,5.5,5.699999999999999,5.9,6.1,6.300000000000001,6.5,6.699999999999999,6.9,7.1,7.300000000000001,7.5,7.699999999999999,7.9]},{\"showlegend\":true,\"marker\":{\"color\":\"rgba(227, 111, 71, 1.000)\"},\"xaxis\":\"x\",\"colorbar\":{\"title\":\"\"},\"y\":[1.0,0.0,3.0,4.0,3.0,8.0,5.0,9.0,14.0,10.0,26.0,11.0,13.0,6.0,12.0,6.0,4.0,3.0,6.0,2.0,1.0,1.0,1.0,0.0,1.0],\"type\":\"bar\",\"name\":\"Sepal Width\",\"yaxis\":\"y\",\"orientation\":\"v\",\"x\":[2.05,2.1500000000000004,2.25,2.3499999999999996,2.45,2.55,2.6500000000000004,2.75,2.8499999999999996,2.95,3.05,3.1500000000000004,3.25,3.3499999999999996,3.45,3.55,3.6500000000000004,3.75,3.8499999999999996,3.95,4.05,4.15,4.25,4.35,4.45]}], {\"showlegend\":true,\"xaxis\":{\"tickvals\":[2.0,3.0,4.0,5.0,6.0,7.0,8.0],\"ticks\":\"inside\",\"tickmode\":\"array\",\"domain\":[0.03619130941965587,0.9934383202099738],\"linecolor\":\"rgba(0, 0, 0, 1.000)\",\"showgrid\":true,\"title\":\"SepalWidth\",\"tickangle\":0,\"titlefont\":{\"color\":\"rgba(0, 0, 0, 1.000)\",\"family\":\"sans-serif\",\"size\":15},\"tickcolor\":\"rgba(0, 0, 0, 1.000)\",\"ticktext\":[\"2\",\"3\",\"4\",\"5\",\"6\",\"7\",\"8\"],\"zeroline\":false,\"type\":\"-\",\"tickfont\":{\"color\":\"rgba(0, 0, 0, 1.000)\",\"family\":\"sans-serif\",\"size\":11},\"anchor\":\"y\"},\"paper_bgcolor\":\"rgba(255, 255, 255, 1.000)\",\"annotations\":[],\"height\":400,\"margin\":{\"l\":0,\"b\":20,\"r\":0,\"t\":20},\"plot_bgcolor\":\"rgba(255, 255, 255, 1.000)\",\"yaxis\":{\"tickvals\":[0.0,10.0,20.0],\"ticks\":\"inside\",\"tickmode\":\"array\",\"domain\":[0.07581474190726165,0.9901574803149606],\"linecolor\":\"rgba(0, 0, 0, 1.000)\",\"showgrid\":true,\"title\":\"\",\"tickangle\":0,\"titlefont\":{\"color\":\"rgba(0, 0, 0, 1.000)\",\"family\":\"sans-serif\",\"size\":15},\"tickcolor\":\"rgba(0, 0, 0, 1.000)\",\"ticktext\":[\"0\",\"10\",\"20\"],\"zeroline\":false,\"type\":\"-\",\"tickfont\":{\"color\":\"rgba(0, 0, 0, 1.000)\",\"family\":\"sans-serif\",\"size\":11},\"anchor\":\"x\"},\"legend\":{\"bordercolor\":\"rgba(0, 0, 0, 1.000)\",\"bgcolor\":\"rgba(255, 255, 255, 1.000)\",\"font\":{\"color\":\"rgba(0, 0, 0, 1.000)\",\"family\":\"sans-serif\",\"size\":11},\"y\":1.0,\"x\":1.0},\"width\":600});\n",
       "    </script>\n"
      ]
     },
     "execution_count": 120,
     "metadata": {},
     "output_type": "execute_result"
    }
   ],
   "source": [
    "histogram(iris,:SepalLength,label=\"Sepal Length\")\n",
    "histogram!(iris,:SepalWidth,label=\"Sepal Width\")"
   ]
  },
  {
   "cell_type": "markdown",
   "metadata": {},
   "source": [
    "## Bio"
   ]
  },
  {
   "cell_type": "markdown",
   "metadata": {},
   "source": [
    "http://biojulia.net/Bio.jl/latest/"
   ]
  },
  {
   "cell_type": "code",
   "execution_count": 121,
   "metadata": {
    "collapsed": true
   },
   "outputs": [],
   "source": [
    "using BioSequences"
   ]
  },
  {
   "cell_type": "code",
   "execution_count": 127,
   "metadata": {},
   "outputs": [
    {
     "data": {
      "text/plain": [
       "5nt DNA Sequence:\n",
       "ACTGA"
      ]
     },
     "execution_count": 127,
     "metadata": {},
     "output_type": "execute_result"
    }
   ],
   "source": [
    "dna\"ACTGA\""
   ]
  },
  {
   "cell_type": "code",
   "execution_count": 123,
   "metadata": {},
   "outputs": [
    {
     "data": {
      "text/html": [
       "@dna_str(seq::<b>ANY</b>) at <a href=\"https://github.com/BioJulia/BioSequences.jl/tree/da650d5a5e8303f8b7540925ccd7f09e30653ad9//src/bioseq/stringliterals.jl#L18\" target=\"_blank\">/home/pawel/.julia/v0.6/BioSequences/src/bioseq/stringliterals.jl:18</a>"
      ],
      "text/plain": [
       "@dna_str(seq::ANY) in BioSequences at /home/pawel/.julia/v0.6/BioSequences/src/bioseq/stringliterals.jl:18"
      ]
     },
     "execution_count": 123,
     "metadata": {},
     "output_type": "execute_result"
    }
   ],
   "source": [
    "@which dna\"ACTG\""
   ]
  },
  {
   "cell_type": "code",
   "execution_count": 126,
   "metadata": {},
   "outputs": [
    {
     "data": {
      "text/plain": [
       "DNA_A"
      ]
     },
     "execution_count": 126,
     "metadata": {},
     "output_type": "execute_result"
    }
   ],
   "source": [
    "seq = dna\"ACTG\"\n",
    "seq[1]"
   ]
  },
  {
   "cell_type": "code",
   "execution_count": 132,
   "metadata": {},
   "outputs": [
    {
     "name": "stdout",
     "output_type": "stream",
     "text": [
      "nuc = DNA_A\n",
      "nuc = DNA_C\n",
      "nuc = DNA_T\n",
      "nuc = DNA_G\n"
     ]
    }
   ],
   "source": [
    "for nuc in seq\n",
    "    @show nuc\n",
    "end"
   ]
  },
  {
   "cell_type": "code",
   "execution_count": 133,
   "metadata": {},
   "outputs": [
    {
     "data": {
      "text/plain": [
       "DNA Composition:\n",
       "  DNA_Gap => 0\n",
       "  DNA_A   => 1\n",
       "  DNA_C   => 1\n",
       "  DNA_M   => 0\n",
       "  DNA_G   => 1\n",
       "  DNA_R   => 0\n",
       "  DNA_S   => 0\n",
       "  DNA_V   => 0\n",
       "  DNA_T   => 1\n",
       "  DNA_W   => 0\n",
       "  DNA_Y   => 0\n",
       "  DNA_H   => 0\n",
       "  DNA_K   => 0\n",
       "  DNA_D   => 0\n",
       "  DNA_B   => 0\n",
       "  DNA_N   => 0"
      ]
     },
     "execution_count": 133,
     "metadata": {},
     "output_type": "execute_result"
    }
   ],
   "source": [
    "comp = composition(seq)"
   ]
  },
  {
   "cell_type": "code",
   "execution_count": 134,
   "metadata": {},
   "outputs": [
    {
     "data": {
      "text/html": [
       "1"
      ],
      "text/plain": [
       "1"
      ]
     },
     "execution_count": 134,
     "metadata": {},
     "output_type": "execute_result"
    }
   ],
   "source": [
    "comp[DNA_A]"
   ]
  },
  {
   "cell_type": "markdown",
   "metadata": {},
   "source": [
    "### Sequence operations"
   ]
  },
  {
   "cell_type": "markdown",
   "metadata": {},
   "source": [
    "K-mers"
   ]
  },
  {
   "cell_type": "code",
   "execution_count": 135,
   "metadata": {},
   "outputs": [
    {
     "name": "stdout",
     "output_type": "stream",
     "text": [
      "(pos, codon) = (1, DNA 3-mer:\n",
      "ATC)\n",
      "(pos, codon) = (2, DNA 3-mer:\n",
      "TCC)\n",
      "(pos, codon) = (3, DNA 3-mer:\n",
      "CCT)\n",
      "(pos, codon) = (4, DNA 3-mer:\n",
      "CTA)\n",
      "(pos, codon) = (11, DNA 3-mer:\n",
      "TAC)\n",
      "(pos, codon) = (12, DNA 3-mer:\n",
      "ACT)\n"
     ]
    }
   ],
   "source": [
    "# iterate over DNA codons\n",
    "for (pos, codon) in each(DNAKmer{3}, dna\"ATCCTANAGNTACT\", 1)\n",
    "    @show pos, codon\n",
    "end\n",
    "# skips the kmers containing `N`"
   ]
  },
  {
   "cell_type": "markdown",
   "metadata": {},
   "source": [
    "Exact search"
   ]
  },
  {
   "cell_type": "code",
   "execution_count": 136,
   "metadata": {},
   "outputs": [
    {
     "data": {
      "text/plain": [
       "2:4"
      ]
     },
     "execution_count": 136,
     "metadata": {},
     "output_type": "execute_result"
    }
   ],
   "source": [
    "search(dna\"ACGT\", dna\"CNT\")  # 'G' matches 'N'"
   ]
  },
  {
   "cell_type": "markdown",
   "metadata": {},
   "source": [
    "Approximate search"
   ]
  },
  {
   "cell_type": "code",
   "execution_count": 137,
   "metadata": {},
   "outputs": [
    {
     "data": {
      "text/plain": [
       "2:5"
      ]
     },
     "execution_count": 137,
     "metadata": {},
     "output_type": "execute_result"
    }
   ],
   "source": [
    "approxsearch(dna\"AAGAGG\", dna\"AGGG\", 1)"
   ]
  },
  {
   "cell_type": "markdown",
   "metadata": {},
   "source": [
    "Regex search"
   ]
  },
  {
   "cell_type": "code",
   "execution_count": 138,
   "metadata": {},
   "outputs": [
    {
     "data": {
      "text/plain": [
       "1:4"
      ]
     },
     "execution_count": 138,
     "metadata": {},
     "output_type": "execute_result"
    }
   ],
   "source": [
    "search(dna\"AAGAGG\", biore\"A+GA\"dna, 1)"
   ]
  },
  {
   "cell_type": "markdown",
   "metadata": {},
   "source": [
    "### Reading FASTQ files\n",
    "(other supported file types are listed here: http://biojulia.net/Bio.jl/latest/man/reading/#reading-and-writing-data)"
   ]
  },
  {
   "cell_type": "code",
   "execution_count": 139,
   "metadata": {
    "collapsed": true
   },
   "outputs": [],
   "source": [
    "using BioSequences\n",
    "using BioSequences.FASTQ\n",
    "import BioSequences.FASTQ: identifier, quality, description"
   ]
  },
  {
   "cell_type": "code",
   "execution_count": 140,
   "metadata": {
    "collapsed": true
   },
   "outputs": [],
   "source": [
    "reader = open(FASTQ.Reader, \"R1.fastq\")\n",
    "\n",
    "for record in reader\n",
    "    # do something\n",
    "end\n",
    "\n",
    "close(reader)"
   ]
  },
  {
   "cell_type": "code",
   "execution_count": 154,
   "metadata": {},
   "outputs": [
    {
     "data": {
      "text/plain": [
       "BioSequences.FASTQ.Record:\n",
       "   identifier: L-JS-ILLUMINAPC:156:C9RY8ACXX:1:1104:7020:56521\n",
       "  description: 1:N:0:\n",
       "     sequence: ACCTCTAGATGGCTCAGTGGGTAAGAGCACCCGACTGCTCCTCCGAAGGTCCGAAGTTCA\n",
       "      quality: UInt8[0x22, 0x22, 0x22, 0x25, 0x25, 0x25, 0x25, 0x25, 0x27, 0x27  …  0x26, 0x24, 0x27, 0x26, 0x27, 0x27, 0x27, 0x27, 0x27, 0x25]"
      ]
     },
     "execution_count": 154,
     "metadata": {},
     "output_type": "execute_result"
    }
   ],
   "source": [
    "record = first(open(FASTQ.Reader,\"R1.fastq\"))"
   ]
  },
  {
   "cell_type": "code",
   "execution_count": 155,
   "metadata": {},
   "outputs": [
    {
     "data": {
      "text/plain": [
       "\"L-JS-ILLUMINAPC:156:C9RY8ACXX:1:1104:7020:56521\""
      ]
     },
     "execution_count": 155,
     "metadata": {},
     "output_type": "execute_result"
    }
   ],
   "source": [
    "identifier(record)"
   ]
  },
  {
   "cell_type": "code",
   "execution_count": 156,
   "metadata": {},
   "outputs": [
    {
     "data": {
      "text/plain": [
       "\"1:N:0:\""
      ]
     },
     "execution_count": 156,
     "metadata": {},
     "output_type": "execute_result"
    }
   ],
   "source": [
    "description(record)"
   ]
  },
  {
   "cell_type": "code",
   "execution_count": 145,
   "metadata": {},
   "outputs": [
    {
     "data": {
      "text/plain": [
       "60nt DNA Sequence:\n",
       "ACCTCTAGATGGCTCAGTGGGTAAGAGCACCCGACTGCTCCTCCGAAGGTCCGAAGTTCA"
      ]
     },
     "execution_count": 145,
     "metadata": {},
     "output_type": "execute_result"
    }
   ],
   "source": [
    "sequence(record)"
   ]
  },
  {
   "cell_type": "markdown",
   "metadata": {},
   "source": [
    "Reading FASTQ (and other) files is incredibly fast thanks to parsers generated by Automa.jl\n",
    "https://github.com/BioJulia/Automa.jl"
   ]
  },
  {
   "cell_type": "code",
   "execution_count": 83,
   "metadata": {
    "collapsed": true
   },
   "outputs": [],
   "source": [
    "# using Automa\n",
    "# write(\"actions.dot\", Automa.machine2dot(FASTQ.record_machine))\n",
    "# run(`dot -Tpng -o actions.png actions.dot`)"
   ]
  },
  {
   "cell_type": "markdown",
   "metadata": {},
   "source": [
    "![title](actions.png)"
   ]
  },
  {
   "cell_type": "markdown",
   "metadata": {},
   "source": [
    "### Let's do something useful"
   ]
  },
  {
   "cell_type": "code",
   "execution_count": 157,
   "metadata": {},
   "outputs": [
    {
     "data": {
      "text/plain": [
       "Plots.PlotlyBackend()"
      ]
     },
     "execution_count": 157,
     "metadata": {},
     "output_type": "execute_result"
    }
   ],
   "source": [
    "using DataFrames\n",
    "using Plots\n",
    "using StatPlots\n",
    "using BioSequences\n",
    "using BioSequences.FASTQ\n",
    "using BenchmarkTools\n",
    "plotly()"
   ]
  },
  {
   "cell_type": "code",
   "execution_count": 158,
   "metadata": {},
   "outputs": [
    {
     "data": {
      "text/plain": [
       "QC"
      ]
     },
     "execution_count": 158,
     "metadata": {},
     "output_type": "execute_result"
    }
   ],
   "source": [
    "\"\"\"\n",
    "    QC(file)\n",
    "\n",
    "counts the number of As in a FASTQ file\n",
    "\n",
    "\"\"\"\n",
    "\n",
    "function QC(file::String)\n",
    "    reader = open(FASTQ.Reader,file)\n",
    "\n",
    "    # generate an empty DataFrame\n",
    "    data = DataFrame(countsA=Int[])\n",
    "\n",
    "    for record in reader\n",
    "        seq = sequence(record)\n",
    "        comp = composition(seq)\n",
    "        push!(data[:countsA],comp[DNA_A])\n",
    "    end\n",
    "\n",
    "    close(reader)\n",
    "    return data\n",
    "end"
   ]
  },
  {
   "cell_type": "code",
   "execution_count": 161,
   "metadata": {},
   "outputs": [
    {
     "data": {
      "text/html": [
       "<table class=\"data-frame\"><thead><tr><th></th><th>countsA</th></tr></thead><tbody><tr><th>1</th><td>14</td></tr><tr><th>2</th><td>16</td></tr><tr><th>3</th><td>14</td></tr><tr><th>4</th><td>26</td></tr><tr><th>5</th><td>13</td></tr><tr><th>6</th><td>16</td></tr></tbody></table>"
      ],
      "text/plain": [
       "6×1 DataFrames.DataFrame\n",
       "│ Row │ countsA │\n",
       "├─────┼─────────┤\n",
       "│ 1   │ 14      │\n",
       "│ 2   │ 16      │\n",
       "│ 3   │ 14      │\n",
       "│ 4   │ 26      │\n",
       "│ 5   │ 13      │\n",
       "│ 6   │ 16      │"
      ]
     },
     "execution_count": 161,
     "metadata": {},
     "output_type": "execute_result"
    }
   ],
   "source": [
    "data=QC(\"R1.fastq\")\n",
    "head(data)"
   ]
  },
  {
   "cell_type": "code",
   "execution_count": 162,
   "metadata": {},
   "outputs": [
    {
     "data": {
      "text/html": [
       "<script src=\"/home/pawel/.julia/v0.6/Plots/src/backends/../../deps/plotly-latest.min.js\"></script>    <div id=\"bb44a468-e199-460f-8b96-780bc4c86b2a\" style=\"width:600px;height:400px;\"></div>\n",
       "    <script>\n",
       "    PLOT = document.getElementById('bb44a468-e199-460f-8b96-780bc4c86b2a');\n",
       "    Plotly.plot(PLOT, [{\"showlegend\":true,\"marker\":{\"color\":\"rgba(0, 154, 250, 1.000)\"},\"xaxis\":\"x\",\"colorbar\":{\"title\":\"\"},\"y\":[354.0,764.0,1427.0,2056.0,2753.0,4023.0,6144.0,8670.0,9724.0,8642.0,7303.0,6411.0,5571.0,5081.0,5149.0,5252.0,5197.0,4484.0,3618.0,2683.0,1820.0,1092.0,777.0,371.0,251.0,137.0,79.0,129.0,34.0,1.0,3.0],\"type\":\"bar\",\"name\":\"y1\",\"yaxis\":\"y\",\"orientation\":\"v\",\"x\":[1.0,3.0,5.0,7.0,9.0,11.0,13.0,15.0,17.0,19.0,21.0,23.0,25.0,27.0,29.0,31.0,33.0,35.0,37.0,39.0,41.0,43.0,45.0,47.0,49.0,51.0,53.0,55.0,57.0,59.0,61.0]}], {\"showlegend\":true,\"xaxis\":{\"tickvals\":[0.0,20.0,40.0,60.0],\"ticks\":\"inside\",\"tickmode\":\"array\",\"domain\":[0.0658209390492855,0.9934383202099738],\"linecolor\":\"rgba(0, 0, 0, 1.000)\",\"showgrid\":true,\"title\":\"countsA\",\"tickangle\":0,\"titlefont\":{\"color\":\"rgba(0, 0, 0, 1.000)\",\"family\":\"sans-serif\",\"size\":15},\"tickcolor\":\"rgba(0, 0, 0, 1.000)\",\"ticktext\":[\"0\",\"20\",\"40\",\"60\"],\"zeroline\":false,\"type\":\"-\",\"tickfont\":{\"color\":\"rgba(0, 0, 0, 1.000)\",\"family\":\"sans-serif\",\"size\":11},\"anchor\":\"y\"},\"paper_bgcolor\":\"rgba(255, 255, 255, 1.000)\",\"annotations\":[],\"height\":400,\"margin\":{\"l\":0,\"b\":20,\"r\":0,\"t\":20},\"plot_bgcolor\":\"rgba(255, 255, 255, 1.000)\",\"yaxis\":{\"tickvals\":[0.0,2500.0,5000.0,7500.0],\"ticks\":\"inside\",\"tickmode\":\"array\",\"domain\":[0.07581474190726165,0.9901574803149606],\"linecolor\":\"rgba(0, 0, 0, 1.000)\",\"showgrid\":true,\"title\":\"\",\"tickangle\":0,\"titlefont\":{\"color\":\"rgba(0, 0, 0, 1.000)\",\"family\":\"sans-serif\",\"size\":15},\"tickcolor\":\"rgba(0, 0, 0, 1.000)\",\"ticktext\":[\"0\",\"2500\",\"5000\",\"7500\"],\"zeroline\":false,\"type\":\"-\",\"tickfont\":{\"color\":\"rgba(0, 0, 0, 1.000)\",\"family\":\"sans-serif\",\"size\":11},\"anchor\":\"x\"},\"legend\":{\"bordercolor\":\"rgba(0, 0, 0, 1.000)\",\"bgcolor\":\"rgba(255, 255, 255, 1.000)\",\"font\":{\"color\":\"rgba(0, 0, 0, 1.000)\",\"family\":\"sans-serif\",\"size\":11},\"y\":1.0,\"x\":1.0},\"width\":600});\n",
       "    </script>\n"
      ]
     },
     "execution_count": 162,
     "metadata": {},
     "output_type": "execute_result"
    }
   ],
   "source": [
    "histogram(data,:countsA)"
   ]
  },
  {
   "cell_type": "markdown",
   "metadata": {},
   "source": [
    "### Adding poly A counting"
   ]
  },
  {
   "cell_type": "code",
   "execution_count": 163,
   "metadata": {},
   "outputs": [
    {
     "name": "stderr",
     "output_type": "stream",
     "text": [
      "\u001b[1m\u001b[33mWARNING: \u001b[39m\u001b[22m\u001b[33mreplacing docs for 'longeststreak :: Union{Tuple{Any,Any}, Tuple{Any}}' in module 'Main'.\u001b[39m\n"
     ]
    },
    {
     "data": {
      "text/plain": [
       "longeststreak"
      ]
     },
     "execution_count": 163,
     "metadata": {},
     "output_type": "execute_result"
    }
   ],
   "source": [
    "\"\"\"\n",
    "\n",
    "    longeststreak(seq,nuc=DNA_A)\n",
    "\n",
    "Finds the longest streak of `nuc` in a given sequence `seq`.\n",
    "\n",
    "\"\"\"\n",
    "function longeststreak(seq, nuc=DNA_A)\n",
    "    longest=0\n",
    "    current=0\n",
    "    for n in seq\n",
    "        if n==nuc\n",
    "            current+=1\n",
    "            longest=max(longest,current)\n",
    "        else\n",
    "            current=0\n",
    "        end\n",
    "    end\n",
    "    return longest\n",
    "end"
   ]
  },
  {
   "cell_type": "code",
   "execution_count": 165,
   "metadata": {},
   "outputs": [
    {
     "data": {
      "text/html": [
       "4"
      ],
      "text/plain": [
       "4"
      ]
     },
     "execution_count": 165,
     "metadata": {},
     "output_type": "execute_result"
    }
   ],
   "source": [
    "longeststreak(dna\"AAACAATAAAA\",DNA_A)"
   ]
  },
  {
   "cell_type": "markdown",
   "metadata": {},
   "source": [
    "the generated code is simple and fast"
   ]
  },
  {
   "cell_type": "code",
   "execution_count": 175,
   "metadata": {},
   "outputs": [
    {
     "data": {
      "text/plain": [
       "BenchmarkTools.Trial: \n",
       "  memory estimate:  0 bytes\n",
       "  allocs estimate:  0\n",
       "  --------------\n",
       "  minimum time:     62.564 ns (0.00% GC)\n",
       "  median time:      62.629 ns (0.00% GC)\n",
       "  mean time:        63.671 ns (0.00% GC)\n",
       "  maximum time:     100.481 ns (0.00% GC)\n",
       "  --------------\n",
       "  samples:          10000\n",
       "  evals/sample:     980"
      ]
     },
     "execution_count": 175,
     "metadata": {},
     "output_type": "execute_result"
    }
   ],
   "source": [
    "@benchmark longeststreak(dna\"AAACAATAAAA\")"
   ]
  },
  {
   "cell_type": "markdown",
   "metadata": {},
   "source": [
    "(60 ns per read is equivalent to 6 seconds for 100M reads and we didn't even try to write a performant code)"
   ]
  },
  {
   "cell_type": "markdown",
   "metadata": {},
   "source": [
    "By accident we wrote a generic function!"
   ]
  },
  {
   "cell_type": "code",
   "execution_count": 188,
   "metadata": {},
   "outputs": [
    {
     "name": "stdout",
     "output_type": "stream",
     "text": [
      "longeststreak(@dna_str(\"AAACAATAAAA\"), DNA_A) = 4\n",
      "longeststreak(\"xxxyxxxxdfa\", 'x') = 4\n",
      "longeststreak([1, 2, 3, 1, 1, 1, 2, 1], 1) = 3\n"
     ]
    },
    {
     "data": {
      "text/html": [
       "3"
      ],
      "text/plain": [
       "3"
      ]
     },
     "execution_count": 188,
     "metadata": {},
     "output_type": "execute_result"
    }
   ],
   "source": [
    "@show longeststreak(dna\"AAACAATAAAA\",DNA_A)\n",
    "@show longeststreak(\"xxxyxxxxdfa\",'x')\n",
    "@show longeststreak([1,2,3,1,1,1,2,1],1)"
   ]
  },
  {
   "cell_type": "markdown",
   "metadata": {},
   "source": [
    "Writing tests is also pretty easy"
   ]
  },
  {
   "cell_type": "code",
   "execution_count": 74,
   "metadata": {},
   "outputs": [
    {
     "name": "stdout",
     "output_type": "stream",
     "text": [
      "\u001b[1m\u001b[37mTest Summary: | \u001b[39m\u001b[22m\u001b[1m\u001b[32mPass  \u001b[39m\u001b[22m\u001b[1m\u001b[36mTotal\u001b[39m\u001b[22m\n",
      "longeststreak | \u001b[32m   3  \u001b[39m\u001b[36m    3\u001b[39m\n"
     ]
    },
    {
     "data": {
      "text/plain": [
       "Base.Test.DefaultTestSet(\"longeststreak\", Any[], 3, false)"
      ]
     },
     "execution_count": 74,
     "metadata": {},
     "output_type": "execute_result"
    }
   ],
   "source": [
    "using Base.Test\n",
    "\n",
    "@testset \"longeststreak\" begin\n",
    "    @test longeststreak(dna\"AAACAATAAAA\")==4\n",
    "    @test longeststreak(dna\"AAAAAAA\")==7\n",
    "    @test longeststreak(dna\"AAACTTTTAAAA\")==4\n",
    "end"
   ]
  },
  {
   "cell_type": "markdown",
   "metadata": {},
   "source": [
    "### Back to QC"
   ]
  },
  {
   "cell_type": "code",
   "execution_count": 203,
   "metadata": {},
   "outputs": [
    {
     "name": "stderr",
     "output_type": "stream",
     "text": [
      "\u001b[1m\u001b[33mWARNING: \u001b[39m\u001b[22m\u001b[33mreplacing docs for 'QC :: Tuple{String}' in module 'Main'.\u001b[39m\n"
     ]
    },
    {
     "data": {
      "text/plain": [
       "QC"
      ]
     },
     "execution_count": 203,
     "metadata": {},
     "output_type": "execute_result"
    }
   ],
   "source": [
    "\"\"\"\n",
    "    QC(file)\n",
    "\n",
    "counts the number of As and the longest streak of As in a FASTQ file\n",
    "\n",
    "\"\"\"\n",
    "\n",
    "function QC(file::String)\n",
    "    reader = open(FASTQ.Reader,file)\n",
    "\n",
    "    # generate an empty DataFrame\n",
    "    data = DataFrame(countsA=Int[],streakA=Int[])\n",
    "\n",
    "    for record in reader\n",
    "        seq = sequence(record)\n",
    "        comp = composition(seq)\n",
    "        push!(data[:countsA],comp[DNA_A])\n",
    "        push!(data[:streakA],longeststreak(seq))\n",
    "    end\n",
    "\n",
    "    close(reader)\n",
    "    return data\n",
    "end"
   ]
  },
  {
   "cell_type": "code",
   "execution_count": 204,
   "metadata": {},
   "outputs": [
    {
     "name": "stdout",
     "output_type": "stream",
     "text": [
      "  0.309203 seconds (902.12 k allocations: 91.274 MiB, 8.33% gc time)\n"
     ]
    },
    {
     "data": {
      "text/html": [
       "<table class=\"data-frame\"><thead><tr><th></th><th>countsA</th><th>streakA</th></tr></thead><tbody><tr><th>1</th><td>14</td><td>2</td></tr><tr><th>2</th><td>16</td><td>2</td></tr><tr><th>3</th><td>14</td><td>3</td></tr><tr><th>4</th><td>26</td><td>13</td></tr><tr><th>5</th><td>13</td><td>2</td></tr><tr><th>6</th><td>16</td><td>3</td></tr><tr><th>7</th><td>40</td><td>22</td></tr><tr><th>8</th><td>20</td><td>5</td></tr><tr><th>9</th><td>36</td><td>28</td></tr><tr><th>10</th><td>26</td><td>5</td></tr><tr><th>11</th><td>19</td><td>3</td></tr><tr><th>12</th><td>31</td><td>17</td></tr><tr><th>13</th><td>32</td><td>23</td></tr><tr><th>14</th><td>36</td><td>24</td></tr><tr><th>15</th><td>30</td><td>16</td></tr><tr><th>16</th><td>12</td><td>1</td></tr><tr><th>17</th><td>30</td><td>12</td></tr><tr><th>18</th><td>19</td><td>3</td></tr><tr><th>19</th><td>21</td><td>3</td></tr><tr><th>20</th><td>8</td><td>2</td></tr><tr><th>21</th><td>2</td><td>1</td></tr><tr><th>22</th><td>18</td><td>3</td></tr><tr><th>23</th><td>11</td><td>2</td></tr><tr><th>24</th><td>15</td><td>4</td></tr><tr><th>25</th><td>20</td><td>3</td></tr><tr><th>26</th><td>24</td><td>16</td></tr><tr><th>27</th><td>16</td><td>2</td></tr><tr><th>28</th><td>21</td><td>3</td></tr><tr><th>29</th><td>21</td><td>3</td></tr><tr><th>30</th><td>32</td><td>21</td></tr><tr><th>&vellip;</th><td>&vellip;</td><td>&vellip;</td></tr></tbody></table>"
      ],
      "text/plain": [
       "100000×2 DataFrames.DataFrame\n",
       "│ Row    │ countsA │ streakA │\n",
       "├────────┼─────────┼─────────┤\n",
       "│ 1      │ 14      │ 2       │\n",
       "│ 2      │ 16      │ 2       │\n",
       "│ 3      │ 14      │ 3       │\n",
       "│ 4      │ 26      │ 13      │\n",
       "│ 5      │ 13      │ 2       │\n",
       "│ 6      │ 16      │ 3       │\n",
       "│ 7      │ 40      │ 22      │\n",
       "│ 8      │ 20      │ 5       │\n",
       "│ 9      │ 36      │ 28      │\n",
       "│ 10     │ 26      │ 5       │\n",
       "│ 11     │ 19      │ 3       │\n",
       "⋮\n",
       "│ 99989  │ 21      │ 5       │\n",
       "│ 99990  │ 22      │ 3       │\n",
       "│ 99991  │ 21      │ 5       │\n",
       "│ 99992  │ 6       │ 1       │\n",
       "│ 99993  │ 40      │ 28      │\n",
       "│ 99994  │ 33      │ 22      │\n",
       "│ 99995  │ 40      │ 32      │\n",
       "│ 99996  │ 39      │ 23      │\n",
       "│ 99997  │ 32      │ 21      │\n",
       "│ 99998  │ 21      │ 9       │\n",
       "│ 99999  │ 25      │ 5       │\n",
       "│ 100000 │ 45      │ 26      │"
      ]
     },
     "execution_count": 204,
     "metadata": {},
     "output_type": "execute_result"
    }
   ],
   "source": [
    "@time data=QC(\"R1.fastq\")"
   ]
  },
  {
   "cell_type": "code",
   "execution_count": 205,
   "metadata": {},
   "outputs": [
    {
     "data": {
      "text/html": [
       "<script src=\"/home/pawel/.julia/v0.6/Plots/src/backends/../../deps/plotly-latest.min.js\"></script>    <div id=\"4524b509-1921-470b-879d-5a1292bd574e\" style=\"width:600px;height:400px;\"></div>\n",
       "    <script>\n",
       "    PLOT = document.getElementById('4524b509-1921-470b-879d-5a1292bd574e');\n",
       "    Plotly.plot(PLOT, [{\"showlegend\":true,\"marker\":{\"color\":\"rgba(0, 154, 250, 1.000)\"},\"xaxis\":\"x\",\"colorbar\":{\"title\":\"\"},\"y\":[3747.0,36778.0,15045.0,5905.0,3364.0,2870.0,3051.0,3203.0,3460.0,4073.0,4739.0,4498.0,3261.0,2162.0,1335.0,810.0,500.0,310.0,211.0,139.0,118.0,92.0,67.0,41.0,45.0,30.0,84.0,57.0,2.0,0.0,3.0],\"type\":\"bar\",\"name\":\"y1\",\"yaxis\":\"y\",\"orientation\":\"v\",\"x\":[1.0,3.0,5.0,7.0,9.0,11.0,13.0,15.0,17.0,19.0,21.0,23.0,25.0,27.0,29.0,31.0,33.0,35.0,37.0,39.0,41.0,43.0,45.0,47.0,49.0,51.0,53.0,55.0,57.0,59.0,61.0]}], {\"showlegend\":true,\"xaxis\":{\"tickvals\":[0.0,20.0,40.0,60.0],\"ticks\":\"inside\",\"tickmode\":\"array\",\"domain\":[0.08063575386410031,0.9934383202099737],\"linecolor\":\"rgba(0, 0, 0, 1.000)\",\"showgrid\":true,\"title\":\"streakA\",\"tickangle\":0,\"titlefont\":{\"color\":\"rgba(0, 0, 0, 1.000)\",\"family\":\"sans-serif\",\"size\":15},\"tickcolor\":\"rgba(0, 0, 0, 1.000)\",\"ticktext\":[\"0\",\"20\",\"40\",\"60\"],\"zeroline\":false,\"type\":\"-\",\"tickfont\":{\"color\":\"rgba(0, 0, 0, 1.000)\",\"family\":\"sans-serif\",\"size\":11},\"anchor\":\"y\"},\"paper_bgcolor\":\"rgba(255, 255, 255, 1.000)\",\"annotations\":[],\"height\":400,\"margin\":{\"l\":0,\"b\":20,\"r\":0,\"t\":20},\"plot_bgcolor\":\"rgba(255, 255, 255, 1.000)\",\"yaxis\":{\"tickvals\":[0.0,10000.0,20000.0,30000.0],\"ticks\":\"inside\",\"tickmode\":\"array\",\"domain\":[0.07581474190726165,0.9901574803149606],\"linecolor\":\"rgba(0, 0, 0, 1.000)\",\"showgrid\":true,\"title\":\"\",\"tickangle\":0,\"titlefont\":{\"color\":\"rgba(0, 0, 0, 1.000)\",\"family\":\"sans-serif\",\"size\":15},\"tickcolor\":\"rgba(0, 0, 0, 1.000)\",\"ticktext\":[\"0\",\"10000\",\"20000\",\"30000\"],\"zeroline\":false,\"type\":\"-\",\"tickfont\":{\"color\":\"rgba(0, 0, 0, 1.000)\",\"family\":\"sans-serif\",\"size\":11},\"anchor\":\"x\"},\"legend\":{\"bordercolor\":\"rgba(0, 0, 0, 1.000)\",\"bgcolor\":\"rgba(255, 255, 255, 1.000)\",\"font\":{\"color\":\"rgba(0, 0, 0, 1.000)\",\"family\":\"sans-serif\",\"size\":11},\"y\":1.0,\"x\":1.0},\"width\":600});\n",
       "    </script>\n"
      ]
     },
     "execution_count": 205,
     "metadata": {},
     "output_type": "execute_result"
    }
   ],
   "source": [
    "histogram(data,:streakA)"
   ]
  },
  {
   "cell_type": "code",
   "execution_count": 207,
   "metadata": {},
   "outputs": [
    {
     "data": {
      "text/html": [
       "<script src=\"/home/pawel/.julia/v0.6/Plots/src/backends/../../deps/plotly-latest.min.js\"></script>    <div id=\"ef427c85-86d2-4c23-a517-9aa6fd883b2c\" style=\"width:600px;height:400px;\"></div>\n",
       "    <script>\n",
       "    PLOT = document.getElementById('ef427c85-86d2-4c23-a517-9aa6fd883b2c');\n",
       "    Plotly.plot(PLOT, [{\"xaxis\":\"x\",\"colorbar\":{\"title\":\"\"},\"colorscale\":[[0.0,\"rgb(0, 0, 4)\"],[0.034482758620689655,\"rgb(4, 3, 20)\"],[0.06896551724137931,\"rgb(13, 8, 41)\"],[0.10344827586206896,\"rgb(24, 12, 60)\"],[0.13793103448275862,\"rgb(38, 12, 81)\"],[0.1724137931034483,\"rgb(54, 9, 97)\"],[0.20689655172413793,\"rgb(69, 10, 105)\"],[0.2413793103448276,\"rgb(84, 15, 109)\"],[0.27586206896551724,\"rgb(97, 19, 110)\"],[0.3103448275862069,\"rgb(111, 25, 110)\"],[0.3448275862068966,\"rgb(125, 30, 109)\"],[0.3793103448275862,\"rgb(140, 35, 105)\"],[0.41379310344827586,\"rgb(154, 40, 101)\"],[0.4482758620689655,\"rgb(166, 45, 96)\"],[0.4827586206896552,\"rgb(180, 51, 89)\"],[0.5172413793103449,\"rgb(193, 58, 80)\"],[0.5517241379310345,\"rgb(206, 67, 71)\"],[0.5862068965517241,\"rgb(216, 76, 62)\"],[0.6206896551724138,\"rgb(226, 87, 52)\"],[0.6551724137931034,\"rgb(235, 100, 41)\"],[0.6896551724137931,\"rgb(241, 115, 29)\"],[0.7241379310344828,\"rgb(247, 130, 18)\"],[0.7586206896551724,\"rgb(250, 144, 8)\"],[0.7931034482758621,\"rgb(252, 161, 8)\"],[0.8275862068965517,\"rgb(252, 178, 22)\"],[0.8620689655172413,\"rgb(250, 196, 42)\"],[0.896551724137931,\"rgb(246, 213, 67)\"],[0.9310344827586207,\"rgb(243, 229, 93)\"],[0.9655172413793104,\"rgb(242, 244, 130)\"],[1.0,\"rgb(252, 255, 164)\"]],\"yaxis\":\"y\",\"showscale\":true,\"x\":[1.0,3.0,5.0,7.0,9.0,11.0,13.0,15.0,17.0,19.0,21.0,23.0,25.0,27.0,29.0,31.0,33.0,35.0,37.0,39.0,41.0,43.0,45.0,47.0,49.0,51.0,53.0,55.0,57.0,59.0,61.0],\"showlegend\":false,\"name\":\"y1\",\"z\":[[354.0,null,null,null,null,null,null,null,null,null,null,null,null,null,null,null,null,null,null,null,null,null,null,null,null,null,null,null,null,null,null],[553.0,211.0,null,null,null,null,null,null,null,null,null,null,null,null,null,null,null,null,null,null,null,null,null,null,null,null,null,null,null,null,null],[903.0,497.0,27.0,null,null,null,null,null,null,null,null,null,null,null,null,null,null,null,null,null,null,null,null,null,null,null,null,null,null,null,null],[618.0,1275.0,150.0,13.0,null,null,null,null,null,null,null,null,null,null,null,null,null,null,null,null,null,null,null,null,null,null,null,null,null,null,null],[475.0,1912.0,298.0,57.0,11.0,null,null,null,null,null,null,null,null,null,null,null,null,null,null,null,null,null,null,null,null,null,null,null,null,null,null],[384.0,2930.0,576.0,96.0,32.0,5.0,null,null,null,null,null,null,null,null,null,null,null,null,null,null,null,null,null,null,null,null,null,null,null,null,null],[273.0,4738.0,876.0,162.0,56.0,27.0,12.0,null,null,null,null,null,null,null,null,null,null,null,null,null,null,null,null,null,null,null,null,null,null,null,null],[134.0,6860.0,1250.0,272.0,83.0,34.0,31.0,6.0,null,null,null,null,null,null,null,null,null,null,null,null,null,null,null,null,null,null,null,null,null,null,null],[28.0,7529.0,1612.0,281.0,149.0,65.0,33.0,20.0,7.0,null,null,null,null,null,null,null,null,null,null,null,null,null,null,null,null,null,null,null,null,null,null],[9.0,5544.0,2321.0,426.0,125.0,77.0,70.0,32.0,32.0,6.0,null,null,null,null,null,null,null,null,null,null,null,null,null,null,null,null,null,null,null,null,null],[3.0,2982.0,2734.0,961.0,293.0,112.0,83.0,64.0,41.0,24.0,6.0,null,null,null,null,null,null,null,null,null,null,null,null,null,null,null,null,null,null,null,null],[4.0,1349.0,2195.0,1379.0,715.0,373.0,131.0,95.0,95.0,42.0,29.0,4.0,null,null,null,null,null,null,null,null,null,null,null,null,null,null,null,null,null,null,null],[1.0,575.0,1356.0,1029.0,843.0,758.0,430.0,200.0,145.0,111.0,91.0,29.0,3.0,null,null,null,null,null,null,null,null,null,null,null,null,null,null,null,null,null,null],[4.0,183.0,786.0,445.0,453.0,684.0,955.0,690.0,314.0,225.0,214.0,108.0,18.0,2.0,null,null,null,null,null,null,null,null,null,null,null,null,null,null,null,null,null],[3.0,61.0,435.0,305.0,241.0,329.0,716.0,984.0,755.0,598.0,396.0,227.0,76.0,23.0,null,null,null,null,null,null,null,null,null,null,null,null,null,null,null,null,null],[1.0,32.0,204.0,216.0,133.0,178.0,298.0,612.0,949.0,1007.0,870.0,483.0,207.0,49.0,12.0,1.0,null,null,null,null,null,null,null,null,null,null,null,null,null,null,null],[null,32.0,118.0,129.0,82.0,91.0,138.0,280.0,627.0,1027.0,1206.0,854.0,409.0,154.0,42.0,8.0,null,null,null,null,null,null,null,null,null,null,null,null,null,null,null],[null,19.0,61.0,67.0,70.0,60.0,85.0,112.0,276.0,583.0,940.0,1082.0,662.0,317.0,108.0,33.0,9.0,null,null,null,null,null,null,null,null,null,null,null,null,null,null],[null,25.0,22.0,30.0,40.0,36.0,28.0,57.0,129.0,259.0,533.0,849.0,787.0,462.0,246.0,87.0,23.0,3.0,2.0,null,null,null,null,null,null,null,null,null,null,null,null],[null,15.0,11.0,23.0,17.0,20.0,19.0,26.0,53.0,118.0,290.0,512.0,579.0,466.0,303.0,139.0,57.0,26.0,7.0,2.0,null,null,null,null,null,null,null,null,null,null,null],[null,6.0,8.0,8.0,11.0,8.0,8.0,15.0,22.0,42.0,108.0,213.0,299.0,372.0,303.0,203.0,105.0,58.0,22.0,8.0,1.0,null,null,null,null,null,null,null,null,null,null],[null,3.0,3.0,3.0,5.0,7.0,11.0,4.0,7.0,16.0,35.0,79.0,137.0,196.0,172.0,141.0,119.0,78.0,47.0,16.0,11.0,2.0,null,null,null,null,null,null,null,null,null],[null,null,2.0,2.0,5.0,6.0,null,2.0,5.0,7.0,13.0,39.0,55.0,92.0,96.0,128.0,105.0,75.0,52.0,39.0,34.0,19.0,1.0,null,null,null,null,null,null,null,null],[null,null,null,1.0,null,null,1.0,4.0,3.0,6.0,5.0,16.0,17.0,21.0,39.0,53.0,47.0,44.0,39.0,26.0,21.0,19.0,7.0,2.0,null,null,null,null,null,null,null],[null,null,null,null,null,null,2.0,null,null,null,3.0,3.0,6.0,5.0,11.0,14.0,29.0,18.0,29.0,29.0,27.0,27.0,28.0,18.0,2.0,null,null,null,null,null,null],[null,null,null,null,null,null,null,null,null,2.0,null,null,4.0,3.0,2.0,2.0,4.0,7.0,10.0,13.0,15.0,15.0,18.0,12.0,21.0,9.0,null,null,null,null,null],[null,null,null,null,null,null,null,null,null,null,null,null,1.0,null,1.0,1.0,null,1.0,2.0,5.0,7.0,9.0,9.0,6.0,12.0,16.0,9.0,null,null,null,null],[null,null,null,null,null,null,null,null,null,null,null,null,1.0,null,null,null,2.0,null,1.0,1.0,2.0,1.0,4.0,3.0,10.0,4.0,63.0,37.0,null,null,null],[null,null,null,null,null,null,null,null,null,null,null,null,null,null,null,null,null,null,null,null,null,null,null,null,null,1.0,12.0,20.0,1.0,null,null],[null,null,null,null,null,null,null,null,null,null,null,null,null,null,null,null,null,null,null,null,null,null,null,null,null,null,null,null,1.0,null,null],[null,null,null,null,null,null,null,null,null,null,null,null,null,null,null,null,null,null,null,null,null,null,null,null,null,null,null,null,null,null,3.0]],\"y\":[1.0,3.0,5.0,7.0,9.0,11.0,13.0,15.0,17.0,19.0,21.0,23.0,25.0,27.0,29.0,31.0,33.0,35.0,37.0,39.0,41.0,43.0,45.0,47.0,49.0,51.0,53.0,55.0,57.0,59.0,61.0],\"type\":\"heatmap\"}], {\"showlegend\":true,\"xaxis\":{\"tickvals\":[20.0,40.0,60.0],\"ticks\":\"inside\",\"tickmode\":\"array\",\"domain\":[0.061654272382618835,0.9934383202099737],\"linecolor\":\"rgba(0, 0, 0, 1.000)\",\"showgrid\":true,\"title\":\"streakA\",\"tickangle\":0,\"titlefont\":{\"color\":\"rgba(0, 0, 0, 1.000)\",\"family\":\"sans-serif\",\"size\":15},\"tickcolor\":\"rgba(0, 0, 0, 1.000)\",\"ticktext\":[\"20\",\"40\",\"60\"],\"zeroline\":false,\"type\":\"-\",\"tickfont\":{\"color\":\"rgba(0, 0, 0, 1.000)\",\"family\":\"sans-serif\",\"size\":11},\"anchor\":\"y\"},\"paper_bgcolor\":\"rgba(255, 255, 255, 1.000)\",\"annotations\":[],\"height\":400,\"margin\":{\"l\":0,\"b\":20,\"r\":0,\"t\":20},\"plot_bgcolor\":\"rgba(255, 255, 255, 1.000)\",\"yaxis\":{\"tickvals\":[20.0,40.0,60.0],\"ticks\":\"inside\",\"tickmode\":\"array\",\"domain\":[0.07581474190726165,0.9901574803149606],\"linecolor\":\"rgba(0, 0, 0, 1.000)\",\"showgrid\":true,\"title\":\"countsA\",\"tickangle\":0,\"titlefont\":{\"color\":\"rgba(0, 0, 0, 1.000)\",\"family\":\"sans-serif\",\"size\":15},\"tickcolor\":\"rgba(0, 0, 0, 1.000)\",\"ticktext\":[\"20\",\"40\",\"60\"],\"zeroline\":false,\"type\":\"-\",\"tickfont\":{\"color\":\"rgba(0, 0, 0, 1.000)\",\"family\":\"sans-serif\",\"size\":11},\"anchor\":\"x\"},\"legend\":{\"bordercolor\":\"rgba(0, 0, 0, 1.000)\",\"bgcolor\":\"rgba(255, 255, 255, 1.000)\",\"font\":{\"color\":\"rgba(0, 0, 0, 1.000)\",\"family\":\"sans-serif\",\"size\":11},\"y\":1.0,\"x\":1.0},\"width\":600});\n",
       "    </script>\n"
      ]
     },
     "execution_count": 207,
     "metadata": {},
     "output_type": "execute_result"
    }
   ],
   "source": [
    "histogram2d(data,:streakA,:countsA)"
   ]
  },
  {
   "cell_type": "markdown",
   "metadata": {},
   "source": [
    "### Demultiplexing!"
   ]
  },
  {
   "cell_type": "code",
   "execution_count": 213,
   "metadata": {},
   "outputs": [
    {
     "data": {
      "text/plain": [
       "BioSequences.Demultiplexer{BioSequences.BioSequence{BioSequences.DNAAlphabet{4}}}:\n",
       "  distance: hamming\n",
       "  number of barcodes: 2\n",
       "  number of correctable errors: 1"
      ]
     },
     "execution_count": 213,
     "metadata": {},
     "output_type": "execute_result"
    }
   ],
   "source": [
    "dplxr = Demultiplexer([dna\"AAAA\",dna\"ACTC\"],n_max_errors=1)"
   ]
  },
  {
   "cell_type": "code",
   "execution_count": 224,
   "metadata": {},
   "outputs": [
    {
     "data": {
      "text/plain": [
       "(1, 0)"
      ]
     },
     "execution_count": 224,
     "metadata": {},
     "output_type": "execute_result"
    }
   ],
   "source": [
    "demultiplex(dplxr,dna\"AAAA\")"
   ]
  },
  {
   "cell_type": "code",
   "execution_count": 225,
   "metadata": {},
   "outputs": [
    {
     "data": {
      "text/plain": [
       "(1, 1)"
      ]
     },
     "execution_count": 225,
     "metadata": {},
     "output_type": "execute_result"
    }
   ],
   "source": [
    "demultiplex(dplxr,dna\"AAAC\")"
   ]
  },
  {
   "cell_type": "code",
   "execution_count": 228,
   "metadata": {},
   "outputs": [
    {
     "data": {
      "text/plain": [
       "(2, 0)"
      ]
     },
     "execution_count": 228,
     "metadata": {},
     "output_type": "execute_result"
    }
   ],
   "source": [
    "demultiplex(dplxr,dna\"ACTC\")"
   ]
  },
  {
   "cell_type": "code",
   "execution_count": 229,
   "metadata": {},
   "outputs": [
    {
     "name": "stderr",
     "output_type": "stream",
     "text": [
      "WARNING: redefining constant bc\n",
      "\u001b[1m\u001b[33mWARNING: \u001b[39m\u001b[22m\u001b[33mreplacing docs for 'QC :: Tuple{String}' in module 'Main'.\u001b[39m\n",
      "\u001b[1m\u001b[33mWARNING: \u001b[39m\u001b[22m\u001b[33mreplacing docs for 'longeststreak :: Tuple{Any}' in module 'Main'.\u001b[39m\n"
     ]
    },
    {
     "data": {
      "text/plain": [
       "longeststreak"
      ]
     },
     "execution_count": 229,
     "metadata": {},
     "output_type": "execute_result"
    }
   ],
   "source": [
    "const bc=[\"ACAG\",\"AGTC\",\"ATCA\",\"CATG\",\"CTAC\",\"TCTA\",\"TGAT\",\"TTGG\"]\n",
    "\n",
    "\"\"\"\n",
    "    QC(file)\n",
    "\n",
    "counts the number of As and the longest streak of As in a FASTQ file.  Additionally, demultiplexes the reads per pool.\n",
    "\n",
    "\"\"\"\n",
    "\n",
    "function QC(file::String; barcodes::Vector{String}=bc)\n",
    "    reader = open(FASTQ.Reader,file)\n",
    "\n",
    "    # generate an empty DataFrame\n",
    "    data = DataFrame(\n",
    "        countsA=Int[],\n",
    "        streakA=Int[],\n",
    "        pool=String[])\n",
    "    \n",
    "    dplxr = Demultiplexer(\n",
    "        # convert the barcodes to a proper DNA sequece\n",
    "        BioSequence{DNAAlphabet{4}}[barcodes...], \n",
    "        n_max_errors=1,\n",
    "        distance=:hamming)\n",
    "    \n",
    "    # generate a demultiplexer\n",
    "\n",
    "    for record in reader\n",
    "        seq = sequence(record)\n",
    "        comp = composition(seq)\n",
    "        poolid, errors = demultiplex(dplxr,seq[4:7])\n",
    "        if poolid == 0\n",
    "            poolname=\"Unknown\"\n",
    "        else\n",
    "            poolname=barcodes[poolid]\n",
    "        end\n",
    "        push!(data[:countsA],comp[DNA_A])\n",
    "        push!(data[:streakA],longeststreak(seq))\n",
    "        push!(data[:pool],poolname)\n",
    "    end\n",
    "\n",
    "    close(reader)\n",
    "    return data\n",
    "end\n",
    "\n",
    "\n",
    "\"\"\"\n",
    "\n",
    "    longeststreak(seq,nuc=DNA_A)\n",
    "\n",
    "Finds the longest streak of `nuc` in a given sequence `seq`.\n",
    "\n",
    "\"\"\"\n",
    "function longeststreak(seq; nuc=DNA_A)\n",
    "    longest=0\n",
    "    current=0\n",
    "    for n in seq\n",
    "        if n==nuc\n",
    "            current+=1\n",
    "            longest=max(longest,current)\n",
    "        else\n",
    "            current=0\n",
    "        end\n",
    "    end\n",
    "    return longest\n",
    "end"
   ]
  },
  {
   "cell_type": "code",
   "execution_count": 231,
   "metadata": {},
   "outputs": [
    {
     "data": {
      "text/plain": [
       "8-element Array{BioSequences.BioSequence{BioSequences.DNAAlphabet{4}},1}:\n",
       " ACAG\n",
       " AGTC\n",
       " ATCA\n",
       " CATG\n",
       " CTAC\n",
       " TCTA\n",
       " TGAT\n",
       " TTGG"
      ]
     },
     "execution_count": 231,
     "metadata": {},
     "output_type": "execute_result"
    }
   ],
   "source": [
    "BioSequence{DNAAlphabet{4}}[bc...]"
   ]
  },
  {
   "cell_type": "markdown",
   "metadata": {},
   "source": [
    "Note that the time is 400ms for 100k reads, which amounts to 400s (or 7min) for 100M reads, on a single core."
   ]
  },
  {
   "cell_type": "code",
   "execution_count": 232,
   "metadata": {},
   "outputs": [
    {
     "name": "stdout",
     "output_type": "stream",
     "text": [
      "  0.380996 seconds (1.13 M allocations: 102.093 MiB, 11.82% gc time)\n"
     ]
    },
    {
     "data": {
      "text/html": [
       "<table class=\"data-frame\"><thead><tr><th></th><th>countsA</th><th>streakA</th><th>pool</th></tr></thead><tbody><tr><th>1</th><td>14</td><td>2</td><td>TCTA</td></tr><tr><th>2</th><td>16</td><td>2</td><td>TCTA</td></tr><tr><th>3</th><td>14</td><td>3</td><td>Unknown</td></tr><tr><th>4</th><td>26</td><td>13</td><td>CTAC</td></tr><tr><th>5</th><td>13</td><td>2</td><td>ATCA</td></tr><tr><th>6</th><td>16</td><td>3</td><td>TGAT</td></tr><tr><th>7</th><td>40</td><td>22</td><td>ACAG</td></tr><tr><th>8</th><td>20</td><td>5</td><td>ACAG</td></tr><tr><th>9</th><td>36</td><td>28</td><td>TCTA</td></tr><tr><th>10</th><td>26</td><td>5</td><td>ACAG</td></tr><tr><th>11</th><td>19</td><td>3</td><td>CATG</td></tr><tr><th>12</th><td>31</td><td>17</td><td>TTGG</td></tr><tr><th>13</th><td>32</td><td>23</td><td>TTGG</td></tr><tr><th>14</th><td>36</td><td>24</td><td>CATG</td></tr><tr><th>15</th><td>30</td><td>16</td><td>TGAT</td></tr><tr><th>16</th><td>12</td><td>1</td><td>CATG</td></tr><tr><th>17</th><td>30</td><td>12</td><td>ATCA</td></tr><tr><th>18</th><td>19</td><td>3</td><td>ATCA</td></tr><tr><th>19</th><td>21</td><td>3</td><td>TTGG</td></tr><tr><th>20</th><td>8</td><td>2</td><td>ACAG</td></tr><tr><th>21</th><td>2</td><td>1</td><td>CATG</td></tr><tr><th>22</th><td>18</td><td>3</td><td>TCTA</td></tr><tr><th>23</th><td>11</td><td>2</td><td>TCTA</td></tr><tr><th>24</th><td>15</td><td>4</td><td>TGAT</td></tr><tr><th>25</th><td>20</td><td>3</td><td>CATG</td></tr><tr><th>26</th><td>24</td><td>16</td><td>ATCA</td></tr><tr><th>27</th><td>16</td><td>2</td><td>TTGG</td></tr><tr><th>28</th><td>21</td><td>3</td><td>CATG</td></tr><tr><th>29</th><td>21</td><td>3</td><td>CATG</td></tr><tr><th>30</th><td>32</td><td>21</td><td>TGAT</td></tr><tr><th>&vellip;</th><td>&vellip;</td><td>&vellip;</td><td>&vellip;</td></tr></tbody></table>"
      ],
      "text/plain": [
       "100000×3 DataFrames.DataFrame\n",
       "│ Row    │ countsA │ streakA │ pool      │\n",
       "├────────┼─────────┼─────────┼───────────┤\n",
       "│ 1      │ 14      │ 2       │ \"TCTA\"    │\n",
       "│ 2      │ 16      │ 2       │ \"TCTA\"    │\n",
       "│ 3      │ 14      │ 3       │ \"Unknown\" │\n",
       "│ 4      │ 26      │ 13      │ \"CTAC\"    │\n",
       "│ 5      │ 13      │ 2       │ \"ATCA\"    │\n",
       "│ 6      │ 16      │ 3       │ \"TGAT\"    │\n",
       "│ 7      │ 40      │ 22      │ \"ACAG\"    │\n",
       "│ 8      │ 20      │ 5       │ \"ACAG\"    │\n",
       "│ 9      │ 36      │ 28      │ \"TCTA\"    │\n",
       "│ 10     │ 26      │ 5       │ \"ACAG\"    │\n",
       "│ 11     │ 19      │ 3       │ \"CATG\"    │\n",
       "⋮\n",
       "│ 99989  │ 21      │ 5       │ \"CTAC\"    │\n",
       "│ 99990  │ 22      │ 3       │ \"TGAT\"    │\n",
       "│ 99991  │ 21      │ 5       │ \"CTAC\"    │\n",
       "│ 99992  │ 6       │ 1       │ \"CTAC\"    │\n",
       "│ 99993  │ 40      │ 28      │ \"ATCA\"    │\n",
       "│ 99994  │ 33      │ 22      │ \"TTGG\"    │\n",
       "│ 99995  │ 40      │ 32      │ \"ACAG\"    │\n",
       "│ 99996  │ 39      │ 23      │ \"TTGG\"    │\n",
       "│ 99997  │ 32      │ 21      │ \"TTGG\"    │\n",
       "│ 99998  │ 21      │ 9       │ \"TCTA\"    │\n",
       "│ 99999  │ 25      │ 5       │ \"CATG\"    │\n",
       "│ 100000 │ 45      │ 26      │ \"TTGG\"    │"
      ]
     },
     "execution_count": 232,
     "metadata": {},
     "output_type": "execute_result"
    }
   ],
   "source": [
    "@time data=QC(\"R1.fastq\")"
   ]
  },
  {
   "cell_type": "code",
   "execution_count": 233,
   "metadata": {},
   "outputs": [
    {
     "data": {
      "text/html": [
       "<table class=\"data-frame\"><thead><tr><th></th><th>pool</th><th>totalreads</th></tr></thead><tbody><tr><th>1</th><td>ACAG</td><td>11600</td></tr><tr><th>2</th><td>AGTC</td><td>7477</td></tr><tr><th>3</th><td>ATCA</td><td>14631</td></tr><tr><th>4</th><td>CATG</td><td>14848</td></tr><tr><th>5</th><td>CTAC</td><td>9871</td></tr><tr><th>6</th><td>TCTA</td><td>12584</td></tr><tr><th>7</th><td>TGAT</td><td>11895</td></tr><tr><th>8</th><td>TTGG</td><td>13522</td></tr><tr><th>9</th><td>Unknown</td><td>3572</td></tr></tbody></table>"
      ],
      "text/plain": [
       "9×2 DataFrames.DataFrame\n",
       "│ Row │ pool      │ totalreads │\n",
       "├─────┼───────────┼────────────┤\n",
       "│ 1   │ \"ACAG\"    │ 11600      │\n",
       "│ 2   │ \"AGTC\"    │ 7477       │\n",
       "│ 3   │ \"ATCA\"    │ 14631      │\n",
       "│ 4   │ \"CATG\"    │ 14848      │\n",
       "│ 5   │ \"CTAC\"    │ 9871       │\n",
       "│ 6   │ \"TCTA\"    │ 12584      │\n",
       "│ 7   │ \"TGAT\"    │ 11895      │\n",
       "│ 8   │ \"TTGG\"    │ 13522      │\n",
       "│ 9   │ \"Unknown\" │ 3572       │"
      ]
     },
     "execution_count": 233,
     "metadata": {},
     "output_type": "execute_result"
    }
   ],
   "source": [
    "pooldata = by(data,:pool) do df\n",
    "    DataFrame(totalreads=size(df)[1])\n",
    "end"
   ]
  },
  {
   "cell_type": "code",
   "execution_count": 234,
   "metadata": {},
   "outputs": [
    {
     "data": {
      "text/html": [
       "<script src=\"/home/pawel/.julia/v0.6/Plots/src/backends/../../deps/plotly-latest.min.js\"></script>    <div id=\"a94fe33f-9768-4cfe-8eed-5ae8cb7c4367\" style=\"width:600px;height:400px;\"></div>\n",
       "    <script>\n",
       "    PLOT = document.getElementById('a94fe33f-9768-4cfe-8eed-5ae8cb7c4367');\n",
       "    Plotly.plot(PLOT, [{\"showlegend\":true,\"marker\":{\"color\":\"rgba(0, 154, 250, 1.000)\"},\"xaxis\":\"x\",\"colorbar\":{\"title\":\"\"},\"y\":[11600],\"type\":\"bar\",\"name\":\"ACAG\",\"yaxis\":\"y\",\"orientation\":\"v\",\"x\":[0.5]},{\"showlegend\":true,\"marker\":{\"color\":\"rgba(227, 111, 71, 1.000)\"},\"xaxis\":\"x\",\"colorbar\":{\"title\":\"\"},\"y\":[7477],\"type\":\"bar\",\"name\":\"AGTC\",\"yaxis\":\"y\",\"orientation\":\"v\",\"x\":[1.5]},{\"showlegend\":true,\"marker\":{\"color\":\"rgba(62, 164, 78, 1.000)\"},\"xaxis\":\"x\",\"colorbar\":{\"title\":\"\"},\"y\":[14631],\"type\":\"bar\",\"name\":\"ATCA\",\"yaxis\":\"y\",\"orientation\":\"v\",\"x\":[2.5]},{\"showlegend\":true,\"marker\":{\"color\":\"rgba(195, 113, 210, 1.000)\"},\"xaxis\":\"x\",\"colorbar\":{\"title\":\"\"},\"y\":[14848],\"type\":\"bar\",\"name\":\"CATG\",\"yaxis\":\"y\",\"orientation\":\"v\",\"x\":[3.5]},{\"showlegend\":true,\"marker\":{\"color\":\"rgba(172, 142, 24, 1.000)\"},\"xaxis\":\"x\",\"colorbar\":{\"title\":\"\"},\"y\":[9871],\"type\":\"bar\",\"name\":\"CTAC\",\"yaxis\":\"y\",\"orientation\":\"v\",\"x\":[4.5]},{\"showlegend\":true,\"marker\":{\"color\":\"rgba(0, 170, 174, 1.000)\"},\"xaxis\":\"x\",\"colorbar\":{\"title\":\"\"},\"y\":[12584],\"type\":\"bar\",\"name\":\"TCTA\",\"yaxis\":\"y\",\"orientation\":\"v\",\"x\":[5.5]},{\"showlegend\":true,\"marker\":{\"color\":\"rgba(237, 94, 147, 1.000)\"},\"xaxis\":\"x\",\"colorbar\":{\"title\":\"\"},\"y\":[11895],\"type\":\"bar\",\"name\":\"TGAT\",\"yaxis\":\"y\",\"orientation\":\"v\",\"x\":[6.5]},{\"showlegend\":true,\"marker\":{\"color\":\"rgba(198, 130, 37, 1.000)\"},\"xaxis\":\"x\",\"colorbar\":{\"title\":\"\"},\"y\":[13522],\"type\":\"bar\",\"name\":\"TTGG\",\"yaxis\":\"y\",\"orientation\":\"v\",\"x\":[7.5]},{\"showlegend\":true,\"marker\":{\"color\":\"rgba(0, 169, 141, 1.000)\"},\"xaxis\":\"x\",\"colorbar\":{\"title\":\"\"},\"y\":[3572],\"type\":\"bar\",\"name\":\"Unknown\",\"yaxis\":\"y\",\"orientation\":\"v\",\"x\":[8.5]}], {\"showlegend\":true,\"xaxis\":{\"tickvals\":[0.5,1.5,2.5,3.5,4.5,5.5,6.5,7.5,8.5],\"ticks\":\"inside\",\"tickmode\":\"array\",\"domain\":[0.10609871682706327,0.9934383202099737],\"linecolor\":\"rgba(0, 0, 0, 1.000)\",\"showgrid\":true,\"title\":\"pool\",\"tickangle\":0,\"titlefont\":{\"color\":\"rgba(0, 0, 0, 1.000)\",\"family\":\"sans-serif\",\"size\":15},\"tickcolor\":\"rgba(0, 0, 0, 1.000)\",\"ticktext\":[\"ACAG\",\"AGTC\",\"ATCA\",\"CATG\",\"CTAC\",\"TCTA\",\"TGAT\",\"TTGG\",\"Unknown\"],\"zeroline\":false,\"type\":\"-\",\"tickfont\":{\"color\":\"rgba(0, 0, 0, 1.000)\",\"family\":\"sans-serif\",\"size\":11},\"anchor\":\"y\"},\"paper_bgcolor\":\"rgba(255, 255, 255, 1.000)\",\"annotations\":[],\"height\":400,\"margin\":{\"l\":0,\"b\":20,\"r\":0,\"t\":20},\"plot_bgcolor\":\"rgba(255, 255, 255, 1.000)\",\"yaxis\":{\"tickvals\":[0.0,5000.0,10000.0],\"ticks\":\"inside\",\"tickmode\":\"array\",\"domain\":[0.07581474190726165,0.9901574803149606],\"linecolor\":\"rgba(0, 0, 0, 1.000)\",\"showgrid\":true,\"title\":\"totalreads\",\"tickangle\":0,\"titlefont\":{\"color\":\"rgba(0, 0, 0, 1.000)\",\"family\":\"sans-serif\",\"size\":15},\"tickcolor\":\"rgba(0, 0, 0, 1.000)\",\"ticktext\":[\"0\",\"5000\",\"10000\"],\"zeroline\":false,\"type\":\"-\",\"tickfont\":{\"color\":\"rgba(0, 0, 0, 1.000)\",\"family\":\"sans-serif\",\"size\":11},\"anchor\":\"x\"},\"legend\":{\"bordercolor\":\"rgba(0, 0, 0, 1.000)\",\"bgcolor\":\"rgba(255, 255, 255, 1.000)\",\"font\":{\"color\":\"rgba(0, 0, 0, 1.000)\",\"family\":\"sans-serif\",\"size\":11},\"y\":1.0,\"x\":1.0},\"width\":600});\n",
       "    </script>\n"
      ]
     },
     "execution_count": 234,
     "metadata": {},
     "output_type": "execute_result"
    }
   ],
   "source": [
    "bar(pooldata,:pool,:totalreads,group=:pool)"
   ]
  },
  {
   "cell_type": "code",
   "execution_count": 235,
   "metadata": {},
   "outputs": [
    {
     "data": {
      "text/html": [
       "<script src=\"/home/pawel/.julia/v0.6/Plots/src/backends/../../deps/plotly-latest.min.js\"></script>    <div id=\"d7cd68ca-ab27-4c16-86bb-a5bd475b0a32\" style=\"width:600px;height:400px;\"></div>\n",
       "    <script>\n",
       "    PLOT = document.getElementById('d7cd68ca-ab27-4c16-86bb-a5bd475b0a32');\n",
       "    Plotly.plot(PLOT, [{\"showlegend\":true,\"marker\":{\"color\":\"rgba(0, 154, 250, 1.000)\"},\"xaxis\":\"x\",\"colorbar\":{\"title\":\"\"},\"y\":[334.0,4093.0,1734.0,589.0,339.0,318.0,367.0,463.0,512.0,552.0,549.0,575.0,410.0,303.0,194.0,103.0,59.0,33.0,27.0,16.0,7.0,4.0,6.0,4.0,6.0,0.0,3.0],\"type\":\"bar\",\"name\":\"ACAG\",\"yaxis\":\"y\",\"orientation\":\"v\",\"x\":[1.0,3.0,5.0,7.0,9.0,11.0,13.0,15.0,17.0,19.0,21.0,23.0,25.0,27.0,29.0,31.0,33.0,35.0,37.0,39.0,41.0,43.0,45.0,47.0,49.0,51.0,53.0]},{\"showlegend\":true,\"marker\":{\"color\":\"rgba(227, 111, 71, 1.000)\"},\"xaxis\":\"x\",\"colorbar\":{\"title\":\"\"},\"y\":[317.0,2975.0,1298.0,316.0,205.0,159.0,207.0,239.0,242.0,279.0,326.0,295.0,216.0,142.0,95.0,58.0,35.0,16.0,15.0,12.0,8.0,6.0,2.0,3.0,1.0,3.0,7.0],\"type\":\"bar\",\"name\":\"AGTC\",\"yaxis\":\"y\",\"orientation\":\"v\",\"x\":[1.0,3.0,5.0,7.0,9.0,11.0,13.0,15.0,17.0,19.0,21.0,23.0,25.0,27.0,29.0,31.0,33.0,35.0,37.0,39.0,41.0,43.0,45.0,47.0,49.0,51.0,53.0]},{\"showlegend\":true,\"marker\":{\"color\":\"rgba(62, 164, 78, 1.000)\"},\"xaxis\":\"x\",\"colorbar\":{\"title\":\"\"},\"y\":[503.0,5619.0,2289.0,849.0,533.0,392.0,372.0,363.0,401.0,474.0,645.0,621.0,454.0,382.0,260.0,155.0,104.0,62.0,44.0,32.0,18.0,20.0,12.0,3.0,8.0,2.0,3.0,11.0],\"type\":\"bar\",\"name\":\"ATCA\",\"yaxis\":\"y\",\"orientation\":\"v\",\"x\":[1.0,3.0,5.0,7.0,9.0,11.0,13.0,15.0,17.0,19.0,21.0,23.0,25.0,27.0,29.0,31.0,33.0,35.0,37.0,39.0,41.0,43.0,45.0,47.0,49.0,51.0,53.0,55.0]},{\"showlegend\":true,\"marker\":{\"color\":\"rgba(195, 113, 210, 1.000)\"},\"xaxis\":\"x\",\"colorbar\":{\"title\":\"\"},\"y\":[667.0,5769.0,2207.0,818.0,400.0,371.0,420.0,413.0,496.0,525.0,655.0,594.0,443.0,299.0,198.0,138.0,104.0,68.0,45.0,29.0,36.0,29.0,23.0,17.0,17.0,8.0,59.0],\"type\":\"bar\",\"name\":\"CATG\",\"yaxis\":\"y\",\"orientation\":\"v\",\"x\":[1.0,3.0,5.0,7.0,9.0,11.0,13.0,15.0,17.0,19.0,21.0,23.0,25.0,27.0,29.0,31.0,33.0,35.0,37.0,39.0,41.0,43.0,45.0,47.0,49.0,51.0,53.0]},{\"showlegend\":true,\"marker\":{\"color\":\"rgba(172, 142, 24, 1.000)\"},\"xaxis\":\"x\",\"colorbar\":{\"title\":\"\"},\"y\":[206.0,2955.0,1256.0,1125.0,631.0,533.0,519.0,461.0,413.0,470.0,452.0,422.0,189.0,123.0,52.0,35.0,10.0,8.0,4.0,3.0,0.0,1.0,2.0,0.0,1.0],\"type\":\"bar\",\"name\":\"CTAC\",\"yaxis\":\"y\",\"orientation\":\"v\",\"x\":[1.0,3.0,5.0,7.0,9.0,11.0,13.0,15.0,17.0,19.0,21.0,23.0,25.0,27.0,29.0,31.0,33.0,35.0,37.0,39.0,41.0,43.0,45.0,47.0,49.0]},{\"showlegend\":true,\"marker\":{\"color\":\"rgba(0, 170, 174, 1.000)\"},\"xaxis\":\"x\",\"colorbar\":{\"title\":\"\"},\"y\":[411.0,4704.0,1975.0,661.0,396.0,346.0,338.0,371.0,357.0,468.0,568.0,544.0,486.0,283.0,192.0,129.0,79.0,64.0,42.0,27.0,25.0,26.0,17.0,8.0,6.0,12.0,8.0,41.0],\"type\":\"bar\",\"name\":\"TCTA\",\"yaxis\":\"y\",\"orientation\":\"v\",\"x\":[1.0,3.0,5.0,7.0,9.0,11.0,13.0,15.0,17.0,19.0,21.0,23.0,25.0,27.0,29.0,31.0,33.0,35.0,37.0,39.0,41.0,43.0,45.0,47.0,49.0,51.0,53.0,55.0]},{\"showlegend\":true,\"marker\":{\"color\":\"rgba(237, 94, 147, 1.000)\"},\"xaxis\":\"x\",\"colorbar\":{\"title\":\"\"},\"y\":[344.0,3667.0,1529.0,627.0,381.0,408.0,436.0,527.0,609.0,710.0,807.0,707.0,515.0,305.0,159.0,67.0,49.0,19.0,14.0,8.0,4.0,1.0,0.0,1.0,1.0],\"type\":\"bar\",\"name\":\"TGAT\",\"yaxis\":\"y\",\"orientation\":\"v\",\"x\":[1.0,3.0,5.0,7.0,9.0,11.0,13.0,15.0,17.0,19.0,21.0,23.0,25.0,27.0,29.0,31.0,33.0,35.0,37.0,39.0,41.0,43.0,45.0,47.0,49.0]},{\"showlegend\":true,\"marker\":{\"color\":\"rgba(198, 130, 37, 1.000)\"},\"xaxis\":\"x\",\"colorbar\":{\"title\":\"\"},\"y\":[736.0,5640.0,2192.0,759.0,403.0,279.0,308.0,300.0,350.0,479.0,525.0,563.0,408.0,234.0,132.0,85.0,46.0,32.0,15.0,7.0,13.0,3.0,2.0,4.0,2.0,3.0,2.0],\"type\":\"bar\",\"name\":\"TTGG\",\"yaxis\":\"y\",\"orientation\":\"v\",\"x\":[1.0,3.0,5.0,7.0,9.0,11.0,13.0,15.0,17.0,19.0,21.0,23.0,25.0,27.0,29.0,31.0,33.0,35.0,37.0,39.0,41.0,43.0,45.0,47.0,49.0,51.0,53.0]},{\"showlegend\":true,\"marker\":{\"color\":\"rgba(0, 169, 141, 1.000)\"},\"xaxis\":\"x\",\"colorbar\":{\"title\":\"\"},\"y\":[229.0,1356.0,565.0,161.0,76.0,64.0,84.0,66.0,80.0,116.0,212.0,177.0,140.0,91.0,53.0,40.0,14.0,8.0,5.0,5.0,7.0,2.0,3.0,1.0,3.0,2.0,2.0,5.0,2.0,0.0,3.0],\"type\":\"bar\",\"name\":\"Unknown\",\"yaxis\":\"y\",\"orientation\":\"v\",\"x\":[1.0,3.0,5.0,7.0,9.0,11.0,13.0,15.0,17.0,19.0,21.0,23.0,25.0,27.0,29.0,31.0,33.0,35.0,37.0,39.0,41.0,43.0,45.0,47.0,49.0,51.0,53.0,55.0,57.0,59.0,61.0]}], {\"showlegend\":true,\"xaxis\":{\"tickvals\":[0.0,20.0,40.0,60.0],\"ticks\":\"inside\",\"tickmode\":\"array\",\"domain\":[0.0658209390492855,0.9934383202099738],\"linecolor\":\"rgba(0, 0, 0, 1.000)\",\"showgrid\":true,\"title\":\"streakA\",\"tickangle\":0,\"titlefont\":{\"color\":\"rgba(0, 0, 0, 1.000)\",\"family\":\"sans-serif\",\"size\":15},\"tickcolor\":\"rgba(0, 0, 0, 1.000)\",\"ticktext\":[\"0\",\"20\",\"40\",\"60\"],\"zeroline\":false,\"type\":\"-\",\"tickfont\":{\"color\":\"rgba(0, 0, 0, 1.000)\",\"family\":\"sans-serif\",\"size\":11},\"anchor\":\"y\"},\"paper_bgcolor\":\"rgba(255, 255, 255, 1.000)\",\"annotations\":[],\"height\":400,\"margin\":{\"l\":0,\"b\":20,\"r\":0,\"t\":20},\"plot_bgcolor\":\"rgba(255, 255, 255, 1.000)\",\"yaxis\":{\"tickvals\":[0.0,1000.0,2000.0,3000.0,4000.0,5000.0],\"ticks\":\"inside\",\"tickmode\":\"array\",\"domain\":[0.07581474190726165,0.9901574803149606],\"linecolor\":\"rgba(0, 0, 0, 1.000)\",\"showgrid\":true,\"title\":\"\",\"tickangle\":0,\"titlefont\":{\"color\":\"rgba(0, 0, 0, 1.000)\",\"family\":\"sans-serif\",\"size\":15},\"tickcolor\":\"rgba(0, 0, 0, 1.000)\",\"ticktext\":[\"0\",\"1000\",\"2000\",\"3000\",\"4000\",\"5000\"],\"zeroline\":false,\"type\":\"-\",\"tickfont\":{\"color\":\"rgba(0, 0, 0, 1.000)\",\"family\":\"sans-serif\",\"size\":11},\"anchor\":\"x\"},\"legend\":{\"bordercolor\":\"rgba(0, 0, 0, 1.000)\",\"bgcolor\":\"rgba(255, 255, 255, 1.000)\",\"font\":{\"color\":\"rgba(0, 0, 0, 1.000)\",\"family\":\"sans-serif\",\"size\":11},\"y\":1.0,\"x\":1.0},\"width\":600});\n",
       "    </script>\n"
      ]
     },
     "execution_count": 235,
     "metadata": {},
     "output_type": "execute_result"
    }
   ],
   "source": [
    "histogram(data,:streakA,group=:pool)"
   ]
  },
  {
   "cell_type": "code",
   "execution_count": 236,
   "metadata": {},
   "outputs": [
    {
     "data": {
      "text/html": [
       "<script src=\"/home/pawel/.julia/v0.6/Plots/src/backends/../../deps/plotly-latest.min.js\"></script>    <div id=\"5ea4f1fd-eb8e-4282-868a-c8130bb5785d\" style=\"width:600px;height:400px;\"></div>\n",
       "    <script>\n",
       "    PLOT = document.getElementById('5ea4f1fd-eb8e-4282-868a-c8130bb5785d');\n",
       "    Plotly.plot(PLOT, [{\"xaxis\":\"x\",\"fill\":\"tozeroy\",\"yaxis\":\"y\",\"x\":[0.7630045005218133,0.809410245582312,0.8492970861661308,0.8790753999491473,0.8962932577935689,0.9,0.8907881126203389,0.8705411044890821,0.8419911489529908,0.8082176350444439,0.7721989081430123,0.7364848165430522,0.7030108055295542,0.6730405332188383,0.6472072384051234,0.6256203573320755,0.6080067637233074,0.5938607327165343,0.5825815054515594,0.5735825332888188,0.5663629847946189,0.5605398561753849,0.5558466306620112,0.552109805508035,0.5492162527022924,0.5470823189910985,0.5456312882561032,0.5447813519444599,0.5444430263872378,0.5445233813130219,0.5449340067465809,0.5455996738109504,0.5464648394348727,0.5474956648963529,0.548676362942623,0.550000481239614,0.5514597032027537,0.5530340619392421,0.554687318268945,0.556369397942744,0.5580248432662239,0.5596035836734585,0.5610694181256521,0.5624030537537478,0.5635996235959654,0.5646635260821052,0.5656044294029869,0.5664367784194123,0.5671821321074018,0.5678711097826096,0.5685413237018169,0.5692298066776191,0.5699619624152044,0.570741947440321,0.5715498266841288,0.5723482343604942,0.5730966731469977,0.5737673177341729,0.5743546867222202,0.5748739459481409,0.5753479127103216,0.5757883237242388,0.5761797028894851,0.5764728498095071,0.5765904904385023,0.5764425045158776,0.5759448866779292,0.5750363489168069,0.5736886492478985,0.5719097174191061,0.5697408780335059,0.5672502235182189,0.5645237455585956,0.5616550793166516,0.5587344886793356,0.5558382672742304,0.5530205458565863,0.550309687572378,0.5477104180052519,0.5452108275593459,0.5427914730114007,0.5404331983204598,0.5381214366081457,0.5358469323874562,0.5336046295592306,0.5313928181614214,0.5292135243375738,0.527073584400448,0.5249850627820097,0.5229641179623409,0.5210285580864602,0.519195171546216,0.5174778565883097,0.515886803592319,0.5144282372743361,0.5131041092233184,0.5119116452038217,0.510843265502823,0.5098875379247164,0.5090313417788548,0.508262665053906,0.5075729587865506,0.5069580501223931,0.5064171946037568,0.5059505885467226,0.5055562221316923,0.5052271693876492,0.5049502958625137,0.5047069987605629,0.5044760452325522,0.5042379173786996,0.5039794605449328,0.5036973078058579,0.5033987465284361,0.5030994511040026,0.5028186021598169,0.5025729112739012,0.5023715335036127,0.5022135581124093,0.5020888268149902,0.5019816192864044,0.5018757541025464,0.5017592670258042,0.5016271733348674,0.5014817056533682,0.5013304236071249,0.5011832731269569,0.5010497846351972,0.5009371990136356,0.5008496942669968,0.5007883978568229,0.5007517142500857,0.5007356616711134,0.5007342173268877,0.5007398945408486,0.5007447740454546,0.5007419844020993,0.5007273073805592,0.5007003669826151,0.5006648905368783,0.5006278176438523,0.5005974456834748,0.5005811426218665,0.5005832832039168,0.5006039523786927,0.5006387010431589,0.5006793583582181,0.5007156824660727,0.5007374829259875,0.5007367605051329,0.5007093886611351,0.5006559392375314,0.5005814551704958,0.5004942601358594,0.5004041687352918,0.5003206046775254,0.5002510881399512,0.5002003528067114,0.5001701070764716,0.5001592778312572,0.5001645268027252,0.5001808888557646,0.500202476886191,0.5002232552690065,0.500237866701902,0.5002424226715684,0.4997575773284317,0.499762133298098,0.49977674473099354,0.499797523113809,0.49981911114423533,0.4998354731972749,0.4998407221687428,0.4998298929235284,0.4997996471932886,0.49974891186004883,0.4996793953224746,0.4995958312647082,0.4995057398641406,0.4994185448295042,0.4993440607624687,0.4992906113388648,0.49926323949486706,0.4992625170740124,0.4992843175339273,0.49932064164178197,0.49936129895684106,0.49939604762130724,0.4994167167960833,0.49941885737813346,0.49940255431652525,0.4993721823561476,0.49933510946312165,0.49929963301738495,0.49927269261944085,0.49925801559790073,0.49925522595454547,0.49926010545915145,0.4992657826731123,0.4992643383288866,0.4992482857499143,0.49921160214317706,0.4991503057330033,0.49906280098636435,0.4989502153648027,0.4988167268730432,0.4986695763928752,0.49851829434663175,0.49837282666513266,0.4982407329741958,0.49812424589745363,0.4980183807135956,0.49791117318500977,0.4977864418875907,0.49762846649638726,0.49742708872609875,0.4971813978401831,0.49690054889599744,0.4966012534715639,0.4963026921941422,0.49602053945506724,0.49576208262130034,0.4955239547674478,0.4952930012394371,0.4950497041374862,0.4947728306123508,0.49444377786830773,0.4940494114532774,0.49358280539624316,0.49304194987760686,0.4924270412134494,0.49173733494609395,0.49096865822114516,0.4901124620752836,0.489156734497177,0.4880883547961783,0.48689589077668166,0.48557176272566394,0.484113196407681,0.4825221434116903,0.48080482845378403,0.47897144191353974,0.4770358820376591,0.47501493721799026,0.47292641559955195,0.47078647566242615,0.46860718183857863,0.4663953704407694,0.4641530676125439,0.4618785633918543,0.45956680167954017,0.4572085269885992,0.4547891724406541,0.4522895819947481,0.4496903124276221,0.44697945414341367,0.44416173272576964,0.4412655113206644,0.43834492068334835,0.43547625444140436,0.43274977648178115,0.430259121966494,0.4280902825808939,0.42631135075210147,0.42496365108319306,0.4240551133220708,0.42355749548412236,0.4234095095614977,0.42352715019049286,0.42382029711051494,0.4242116762757612,0.42465208728967846,0.4251260540518591,0.4256453132777797,0.4262326822658271,0.4269033268530023,0.4276517656395058,0.42845017331587126,0.4292580525596789,0.4300380375847956,0.4307701933223808,0.4314586762981831,0.4321288902173905,0.4328178678925983,0.4335632215805877,0.43439557059701306,0.4353364739178947,0.4364003764040346,0.43759694624625217,0.4389305818743479,0.4403964163265415,0.4419751567337761,0.443630602057256,0.445312681731055,0.4469659380607579,0.4485402967972463,0.449999518760386,0.451323637057377,0.45250433510364707,0.4535351605651273,0.45440032618904963,0.4550659932534192,0.4554766186869781,0.4555569736127622,0.45521864805554013,0.45436871174389687,0.45291768100890145,0.45078374729770765,0.447890194491965,0.4441533693379887,0.43946014382461507,0.4336370152053811,0.4264174667111812,0.4174184945484406,0.4061392672834658,0.39199323627669264,0.37437964266792445,0.3527927615948766,0.3269594667811617,0.2969891944704458,0.2635151834569478,0.22780109185698771,0.19178236495555617,0.15800885104700918,0.129458895510918,0.10921188737966114,0.09999999999999998,0.10370674220643111,0.1209246000508527,0.15070291383386925,0.19058975441768794,0.23699549947818666,0.7630045005218133],\"showlegend\":true,\"mode\":\"lines\",\"fillcolor\":\"rgba(0, 154, 250, 1.000)\",\"name\":\"ACAG\",\"line\":{\"color\":\"rgba(0, 154, 250, 1.000)\",\"dash\":\"solid\",\"width\":1},\"y\":[1.3004218250169681,1.611931863501611,1.923441901986254,2.234951940470897,2.5464619789555396,2.857972017440183,3.1694820559248256,3.4809920944094683,3.792502132894111,4.104012171378754,4.415522209863397,4.72703224834804,5.038542286832683,5.350052325317326,5.661562363801968,5.973072402286611,6.2845824407712545,6.596092479255897,6.90760251774054,7.219112556225182,7.5306225947098255,7.842132633194469,8.153642671679112,8.465152710163753,8.776662748648397,9.08817278713304,9.399682825617683,9.711192864102326,10.02270290258697,10.33421294107161,10.645722979556254,10.957233018040897,11.26874305652554,11.580253095010184,11.891763133494825,12.203273171979468,12.514783210464111,12.826293248948755,13.137803287433398,13.449313325918041,13.760823364402683,14.072333402887326,14.383843441371969,14.695353479856612,15.006863518341255,15.318373556825897,15.62988359531054,15.941393633795183,16.252903672279825,16.56441371076447,16.87592374924911,17.187433787733756,17.498943826218397,17.81045386470304,18.121963903187684,18.433473941672325,18.74498398015697,19.05649401864161,19.368004057126253,19.679514095610898,19.99102413409554,20.302534172580184,20.614044211064826,20.92555424954947,21.237064288034112,21.548574326518754,21.8600843650034,22.17159440348804,22.483104441972685,22.794614480457327,23.106124518941968,23.417634557426613,23.729144595911254,24.0406546343959,24.35216467288054,24.663674711365182,24.975184749849827,25.28669478833447,25.598204826819114,25.909714865303755,26.221224903788396,26.53273494227304,26.844244980757683,27.155755019242328,27.46726505772697,27.77877509621161,28.090285134696256,28.401795173180897,28.713305211665542,29.024815250150183,29.336325288634825,29.64783532711947,29.95934536560411,30.270855404088756,30.582365442573398,30.89387548105804,31.205385519542684,31.516895558027326,31.82840559651197,32.13991563499661,32.45142567348125,32.762935711965895,33.07444575045054,33.385955788935185,33.697465827419826,34.00897586590447,34.32048590438911,34.63199594287376,34.9435059813584,35.25501601984304,35.56652605832768,35.87803609681232,36.18954613529697,36.50105617378161,36.812566212266255,37.124076250750896,37.435586289235545,37.747096327720186,38.05860636620483,38.37011640468947,38.68162644317411,38.99313648165876,39.3046465201434,39.61615655862804,39.92766659711268,40.239176635597325,40.55068667408197,40.862196712566615,41.173706751051256,41.4852167895359,41.79672682802054,42.10823686650519,42.41974690498983,42.73125694347447,43.04276698195911,43.35427702044375,43.6657870589284,43.97729709741304,44.288807135897684,44.600317174382326,44.91182721286697,45.223337251351616,45.53484728983626,45.8463573283209,46.15786736680554,46.46937740529018,46.78088744377483,47.09239748225947,47.40390752074411,47.715417559228754,48.026927597713396,48.338437636198044,48.649947674682686,48.96145771316733,49.27296775165197,49.58447779013661,49.89598782862126,50.2074978671059,50.51900790559054,50.83051794407518,51.142027982559824,51.45353802104447,51.765048059529114,52.076558098013756,52.3880681364984,52.69957817498304,52.69957817498304,52.3880681364984,52.076558098013756,51.765048059529114,51.45353802104447,51.142027982559824,50.83051794407518,50.51900790559054,50.2074978671059,49.89598782862126,49.58447779013661,49.27296775165197,48.96145771316733,48.649947674682686,48.338437636198044,48.026927597713396,47.715417559228754,47.40390752074411,47.09239748225947,46.78088744377483,46.46937740529018,46.15786736680554,45.8463573283209,45.53484728983626,45.223337251351616,44.91182721286697,44.600317174382326,44.288807135897684,43.97729709741304,43.6657870589284,43.35427702044375,43.04276698195911,42.73125694347447,42.41974690498983,42.10823686650519,41.79672682802054,41.4852167895359,41.173706751051256,40.862196712566615,40.55068667408197,40.239176635597325,39.92766659711268,39.61615655862804,39.3046465201434,38.99313648165876,38.68162644317411,38.37011640468947,38.05860636620483,37.747096327720186,37.435586289235545,37.124076250750896,36.812566212266255,36.50105617378161,36.18954613529697,35.87803609681232,35.56652605832768,35.25501601984304,34.9435059813584,34.63199594287376,34.32048590438911,34.00897586590447,33.697465827419826,33.385955788935185,33.07444575045054,32.762935711965895,32.45142567348125,32.13991563499661,31.82840559651197,31.516895558027326,31.205385519542684,30.89387548105804,30.582365442573398,30.270855404088756,29.95934536560411,29.64783532711947,29.336325288634825,29.024815250150183,28.713305211665542,28.401795173180897,28.090285134696256,27.77877509621161,27.46726505772697,27.155755019242328,26.844244980757683,26.53273494227304,26.221224903788396,25.909714865303755,25.598204826819114,25.28669478833447,24.975184749849827,24.663674711365182,24.35216467288054,24.0406546343959,23.729144595911254,23.417634557426613,23.106124518941968,22.794614480457327,22.483104441972685,22.17159440348804,21.8600843650034,21.548574326518754,21.237064288034112,20.92555424954947,20.614044211064826,20.302534172580184,19.99102413409554,19.679514095610898,19.368004057126253,19.05649401864161,18.74498398015697,18.433473941672325,18.121963903187684,17.81045386470304,17.498943826218397,17.187433787733756,16.87592374924911,16.56441371076447,16.252903672279825,15.941393633795183,15.62988359531054,15.318373556825897,15.006863518341255,14.695353479856612,14.383843441371969,14.072333402887326,13.760823364402683,13.449313325918041,13.137803287433398,12.826293248948755,12.514783210464111,12.203273171979468,11.891763133494825,11.580253095010184,11.26874305652554,10.957233018040897,10.645722979556254,10.33421294107161,10.02270290258697,9.711192864102326,9.399682825617683,9.08817278713304,8.776662748648397,8.465152710163753,8.153642671679112,7.842132633194469,7.5306225947098255,7.219112556225182,6.90760251774054,6.596092479255897,6.2845824407712545,5.973072402286611,5.661562363801968,5.350052325317326,5.038542286832683,4.72703224834804,4.415522209863397,4.104012171378754,3.792502132894111,3.4809920944094683,3.1694820559248256,2.857972017440183,2.5464619789555396,2.234951940470897,1.923441901986254,1.611931863501611,1.3004218250169681,1.3004218250169681],\"type\":\"scatter\"},{\"xaxis\":\"x\",\"fill\":\"tozeroy\",\"yaxis\":\"y\",\"x\":[2.137395562389831,2.183800976679893,2.2264493621307326,2.2617739352939465,2.2868317570747863,2.299757140649727,2.3,2.2883096309012085,2.266496767342792,2.237058598493746,2.2027680462900476,2.166312067505504,2.1300283485780245,2.0957528412572963,2.0647644908833263,2.037802187159898,2.0151292761463138,1.9966265741883353,1.9819001439798625,1.970392598742726,1.9614870069198076,1.9545928271234074,1.9492056512385665,1.9449372420379867,1.9415181627288651,1.9387802199734216,1.936628393117762,1.9350114333496256,1.933897574751062,1.933258160612723,1.933058822583473,1.9332560327903974,1.9337965566433457,1.9346181396059947,1.9356509263416006,1.9368199375806612,1.9380490458302808,1.9392663671225732,1.940410247442661,1.941434580174131,1.9423123285908084,1.9430367311376313,1.9436203244396668,1.9440922364373967,1.9444941120502108,1.944874838085709,1.9452843282007393,1.9457671190687018,1.9463570730699962,1.9470745213930132,1.9479264069774673,1.9489086757822078,1.9500090803645411,1.9512084583089746,1.9524796366590877,1.953784848328661,1.9550739228731182,1.9562856616661948,1.9573535176134107,1.9582145744683583,1.958818969463381,1.959136349375433,1.9591570668009892,1.958888094686871,1.9583459055203143,1.957549653348356,1.9565173852099538,1.9552661116852237,1.9538144813340705,1.9521856425098825,1.9504081319568765,1.9485139727796128,1.9465347454471824,1.944497397377649,1.9424216127977918,1.9403198259974903,1.9381998726972385,1.9360692882202506,1.9339396749171558,1.9318295052493812,1.9297642054576611,1.9277732614765701,1.9258851441393754,1.924121690683758,1.9224938466349373,1.92100021044383,1.9196287946615067,1.9183612509181551,1.9171779925112586,1.9160625003112899,1.9150036122816787,1.9139954901295686,1.9130358266253937,1.9121233750378255,1.911255915044311,1.9104293959422045,1.9096384333213483,1.9088778181604527,1.9081443924462873,1.907438600532444,1.9067651877001408,1.9061327879469896,1.9055524326954334,1.905035268181744,1.9045899672674933,1.9042204386102863,1.9039244343673478,1.9036934942342245,1.9035143292987349,1.9033713091440732,1.9032493197631255,1.9031360958576602,1.903023326704579,1.9029063576786425,1.9027829380445438,1.9026518776899999,1.9025124285026747,1.9023647017119438,1.9022107451087957,1.9020554319615868,1.9019063373751028,1.901772286516464,1.9016609608197046,1.9015764564383588,1.9015177518402706,1.9014786658557759,1.901449298906684,1.9014184371782996,1.9013761581642339,1.9013159384861722,1.9012358285759463,1.901138572270735,1.9010307953214425,1.9009215224978653,1.9008203310427922,1.9007354566826877,1.900672168557982,1.9006317158038493,1.900611088858189,1.9006037042838335,1.9006009178999579,1.9005940463567157,1.9005764095704292,1.9005448680023636,1.9005004511811479,1.9004479281247242,1.900394473439857,1.9003478302863166,1.9003144813519386,1.9002982872263539,1.9002998773248883,1.9003168588097619,1.900344717065152,1.9003781548770051,1.9004125541587995,1.9004452232498252,1.9004761056923818,1.90050769151895,1.9005440232064077,1.9005889388024764,1.9006439987991877,1.9007067859636855,1.9007703019163054,1.90082391461027,1.900855775247531,1.90085601864623,1.8991439813537698,1.8991442247524688,1.89917608538973,1.8992296980836945,1.8992932140363143,1.8993560012008122,1.8994110611975235,1.8994559767935921,1.8994923084810498,1.899523894307618,1.8995547767501746,1.8995874458412003,1.8996218451229947,1.8996552829348479,1.899683141190238,1.8997001226751116,1.899701712773646,1.8996855186480612,1.8996521697136832,1.8996055265601428,1.8995520718752756,1.899499548818852,1.8994551319976363,1.8994235904295707,1.8994059536432841,1.899399082100042,1.8993962957161663,1.8993889111418107,1.8993682841961506,1.8993278314420179,1.899264543317312,1.8991796689572076,1.8990784775021345,1.8989692046785573,1.8988614277292648,1.8987641714240535,1.8986840615138276,1.898623841835766,1.8985815628217002,1.8985507010933158,1.898521334144224,1.8984822481597292,1.898423543561641,1.8983390391802952,1.898227713483536,1.898093662624897,1.897944568038413,1.897789254891204,1.897635298288056,1.8974875714973252,1.89734812231,1.897217061955456,1.8970936423213574,1.8969766732954207,1.8968639041423396,1.8967506802368743,1.8966286908559267,1.896485670701265,1.8963065057657753,1.896075565632652,1.8957795613897135,1.8954100327325065,1.8949647318182559,1.8944475673045664,1.8938672120530102,1.893234812299859,1.8925613994675559,1.8918556075537125,1.8911221818395472,1.8903615666786515,1.8895706040577953,1.888744084955689,1.8878766249621743,1.886964173374606,1.8860045098704312,1.8849963877183211,1.88393749968871,1.8828220074887412,1.8816387490818447,1.8803712053384931,1.8789997895561699,1.8775061533650625,1.8758783093162419,1.8741148558606244,1.8722267385234297,1.8702357945423387,1.8681704947506186,1.866060325082844,1.8639307117797492,1.8618001273027613,1.8596801740025095,1.857578387202208,1.855502602622351,1.8534652545528174,1.851486027220387,1.8495918680431234,1.8478143574901174,1.8461855186659293,1.8447338883147761,1.843482614790046,1.8424503466516438,1.8416540944796855,1.8411119053131288,1.8408429331990106,1.8408636506245668,1.8411810305366187,1.8417854255316415,1.8426464823865891,1.843714338333805,1.8449260771268816,1.8462151516713388,1.847520363340912,1.8487915416910252,1.8499909196354587,1.851091324217792,1.8520735930225325,1.8529254786069866,1.8536429269300037,1.854232880931298,1.8547156717992606,1.8551251619142908,1.855505887949789,1.8559077635626031,1.856379675560333,1.8569632688623685,1.8576876714091914,1.8585654198258688,1.8595897525573388,1.8607336328774267,1.861950954169719,1.8631800624193386,1.8643490736583992,1.865381860394005,1.8662034433566541,1.8667439672096025,1.8669411774165268,1.8667418393872768,1.8661024252489378,1.8649885666503743,1.863371606882238,1.8612197800265782,1.8584818372711347,1.8550627579620131,1.8507943487614333,1.8454071728765924,1.8385129930801922,1.8296074012572738,1.8180998560201374,1.8033734258116645,1.7848707238536863,1.762197812840102,1.7352355091166736,1.7042471587427037,1.6699716514219751,1.633687932494496,1.597231953709952,1.5629414015062542,1.5335032326572078,1.5116903690987915,1.5,1.500242859350273,1.5131682429252133,1.5382260647060533,1.5735506378692672,1.6161990233201067,1.662604437610169,2.137395562389831],\"showlegend\":true,\"mode\":\"lines\",\"fillcolor\":\"rgba(227, 111, 71, 1.000)\",\"name\":\"AGTC\",\"line\":{\"color\":\"rgba(227, 111, 71, 1.000)\",\"dash\":\"solid\",\"width\":1},\"y\":[1.0499444802348759,1.3644906077471803,1.6790367352594848,1.9935828627717895,2.3081289902840942,2.6226751177963985,2.937221245308703,3.251767372821008,3.5663135003333126,3.8808596278456173,4.195405755357922,4.509951882870226,4.824498010382531,5.139044137894835,5.45359026540714,5.768136392919445,6.082682520431749,6.397228647944054,6.711774775456359,7.0263209029686635,7.340867030480967,7.655413157993272,7.969959285505577,8.284505413017882,8.599051540530185,8.91359766804249,9.228143795554795,9.5426899230671,9.857236050579404,10.171782178091709,10.486328305604014,10.800874433116318,11.115420560628623,11.429966688140928,11.744512815653232,12.059058943165537,12.373605070677842,12.688151198190146,13.002697325702451,13.317243453214754,13.631789580727059,13.946335708239364,14.260881835751668,14.575427963263973,14.889974090776278,15.204520218288582,15.519066345800887,15.833612473313192,16.148158600825496,16.4627047283378,16.777250855850106,17.09179698336241,17.406343110874715,17.72088923838702,18.035435365899325,18.34998149341163,18.664527620923934,18.97907374843624,19.293619875948544,19.60816600346085,19.922712130973153,20.237258258485458,20.551804385997762,20.866350513510064,21.18089664102237,21.495442768534673,21.809988896046978,22.124535023559282,22.439081151071587,22.753627278583892,23.068173406096196,23.3827195336085,23.697265661120806,24.01181178863311,24.326357916145415,24.64090404365772,24.955450171170025,25.26999629868233,25.584542426194634,25.89908855370694,26.213634681219244,26.52818080873155,26.842726936243853,27.157273063756158,27.471819191268462,27.786365318780767,28.100911446293072,28.415457573805377,28.73000370131768,29.044549828829986,29.35909595634229,29.673642083854595,29.9881882113669,30.302734338879205,30.61728046639151,30.931826593903814,31.246372721416115,31.56091884892842,31.875464976440725,32.19001110395303,32.504557231465334,32.81910335897764,33.133649486489944,33.44819561400225,33.76274174151455,34.07728786902686,34.39183399653916,34.70638012405147,35.02092625156377,35.33547237907608,35.65001850658838,35.96456463410068,36.27911076161299,36.59365688912529,36.9082030166376,37.2227491441499,37.53729527166221,37.85184139917451,38.16638752668682,38.48093365419912,38.79547978171143,39.11002590922373,39.42457203673604,39.73911816424834,40.05366429176065,40.36821041927295,40.68275654678526,40.99730267429756,41.311848801809866,41.62639492932217,41.940941056834475,42.25548718434678,42.570033311859085,42.884579439371386,43.199125566883694,43.513671694395995,43.828217821908304,44.142763949420605,44.45731007693291,44.771856204445214,45.08640233195752,45.400948459469824,45.71549458698213,46.03004071449443,46.344586842006734,46.65913296951904,46.973679097031344,47.28822522454365,47.60277135205595,47.91731747956826,48.23186360708056,48.54640973459287,48.86095586210517,49.17550198961748,49.49004811712978,49.80459424464209,50.11914037215439,50.4336864996667,50.748232627179,51.06277875469131,51.37732488220361,51.69187100971592,52.00641713722822,52.32096326474053,52.63550939225283,52.95005551976514,52.95005551976514,52.63550939225283,52.32096326474053,52.00641713722822,51.69187100971592,51.37732488220361,51.06277875469131,50.748232627179,50.4336864996667,50.11914037215439,49.80459424464209,49.49004811712978,49.17550198961748,48.86095586210517,48.54640973459287,48.23186360708056,47.91731747956826,47.60277135205595,47.28822522454365,46.973679097031344,46.65913296951904,46.344586842006734,46.03004071449443,45.71549458698213,45.400948459469824,45.08640233195752,44.771856204445214,44.45731007693291,44.142763949420605,43.828217821908304,43.513671694395995,43.199125566883694,42.884579439371386,42.570033311859085,42.25548718434678,41.940941056834475,41.62639492932217,41.311848801809866,40.99730267429756,40.68275654678526,40.36821041927295,40.05366429176065,39.73911816424834,39.42457203673604,39.11002590922373,38.79547978171143,38.48093365419912,38.16638752668682,37.85184139917451,37.53729527166221,37.2227491441499,36.9082030166376,36.59365688912529,36.27911076161299,35.96456463410068,35.65001850658838,35.33547237907608,35.02092625156377,34.70638012405147,34.39183399653916,34.07728786902686,33.76274174151455,33.44819561400225,33.133649486489944,32.81910335897764,32.504557231465334,32.19001110395303,31.875464976440725,31.56091884892842,31.246372721416115,30.931826593903814,30.61728046639151,30.302734338879205,29.9881882113669,29.673642083854595,29.35909595634229,29.044549828829986,28.73000370131768,28.415457573805377,28.100911446293072,27.786365318780767,27.471819191268462,27.157273063756158,26.842726936243853,26.52818080873155,26.213634681219244,25.89908855370694,25.584542426194634,25.26999629868233,24.955450171170025,24.64090404365772,24.326357916145415,24.01181178863311,23.697265661120806,23.3827195336085,23.068173406096196,22.753627278583892,22.439081151071587,22.124535023559282,21.809988896046978,21.495442768534673,21.18089664102237,20.866350513510064,20.551804385997762,20.237258258485458,19.922712130973153,19.60816600346085,19.293619875948544,18.97907374843624,18.664527620923934,18.34998149341163,18.035435365899325,17.72088923838702,17.406343110874715,17.09179698336241,16.777250855850106,16.4627047283378,16.148158600825496,15.833612473313192,15.519066345800887,15.204520218288582,14.889974090776278,14.575427963263973,14.260881835751668,13.946335708239364,13.631789580727059,13.317243453214754,13.002697325702451,12.688151198190146,12.373605070677842,12.059058943165537,11.744512815653232,11.429966688140928,11.115420560628623,10.800874433116318,10.486328305604014,10.171782178091709,9.857236050579404,9.5426899230671,9.228143795554795,8.91359766804249,8.599051540530185,8.284505413017882,7.969959285505577,7.655413157993272,7.340867030480967,7.0263209029686635,6.711774775456359,6.397228647944054,6.082682520431749,5.768136392919445,5.45359026540714,5.139044137894835,4.824498010382531,4.509951882870226,4.195405755357922,3.8808596278456173,3.5663135003333126,3.251767372821008,2.937221245308703,2.6226751177963985,2.3081289902840942,1.9935828627717895,1.6790367352594848,1.3644906077471803,1.0499444802348759,1.0499444802348759],\"type\":\"scatter\"},{\"xaxis\":\"x\",\"fill\":\"tozeroy\",\"yaxis\":\"y\",\"x\":[3.537041555937476,3.586333288785789,3.6310268475625627,3.666851805994503,3.6904564923304117,3.6999999999999997,3.6954052084388134,3.6782321120958636,3.6512454922269937,3.6178240781068904,3.5813716870178673,3.5448538065661603,3.5105210513324554,3.4798203774896606,3.453453362492811,3.431523686265561,3.413718974710177,3.399486495842901,3.3881791257400082,3.37916199252377,3.371879470786093,3.3658874518912056,3.3608585082947235,3.3565686981113565,3.352874647064845,3.349688278882238,3.346954415534403,3.344633989354432,3.3426934142753693,3.3410991668966785,3.3398159393222744,3.3388067145941407,3.338033541076364,3.3374583909735933,3.3370440567202153,3.3367553862369226,3.336561166756354,3.336436626645896,3.3363659733767705,3.33634390440883,3.336374953306397,3.3364700968945566,3.3366411958975997,3.336895136253488,3.337230271987717,3.337637309528305,3.3381050200789355,3.3386288157192823,3.339218514555109,3.3399016024670005,3.3407200909422676,3.34172169334756,3.3429480606887134,3.344423330663265,3.3461454355637716,3.3480814340575304,3.350167403526003,3.3523131898481124,3.354411932109574,3.356353225299331,3.358037286968528,3.359386514967809,3.360351306665304,3.360909061817505,3.3610579785450776,3.3608091825991355,3.3601809432219767,3.3591972284424108,3.357890476872594,3.3563063117470944,3.3545068134555813,3.3525692207429225,3.3505784462135866,3.348614164231636,3.3467357725031985,3.344970285387627,3.3433081853199327,3.341709924376523,3.3401216856233535,3.338494913437423,3.3368021784680906,3.3350434679595407,3.3332414229640848,3.3314290842527847,3.3296366761298724,3.3278834313847554,3.3261770655414336,3.3245193509244952,3.3229135279237236,3.3213691276741777,3.319901813843165,3.3185287345315038,3.3172620943555766,3.316104251067751,3.315046559016811,3.3140721910043958,3.3131613861505413,3.312296835571375,3.3114673729863773,3.3106692589244786,3.309905380160407,3.3091831552473994,3.308511868427772,3.3078999040059283,3.3073522466111793,3.306868696975538,3.306443323074943,3.3060654863694308,3.3057222988365176,3.305401766731008,3.305095483836265,3.30479981872429,3.3045151457654516,3.3042435617300114,3.3039862693894313,3.303741976721443,3.303507116559186,3.3032777077238022,3.303051804723693,3.3028312108931956,3.3026215780617783,3.302430869641428,3.302266910570759,3.3021350195031296,3.302036490619872,3.3019682174633194,3.30192333293663,3.301892535534215,3.3018657521383767,3.301833831797399,3.301789986091139,3.3017306948841743,3.30165584937364,3.301568066100625,3.3014713651268686,3.3013696673406225,3.3012656879847175,3.3011606768678683,3.3010550876134266,3.3009498043824967,3.300847255050095,3.3007517775099466,3.30066897596528,3.300604301545822,3.300561439341028,3.300541114105041,3.3005406778962993,3.3005545046725993,3.3005749798337076,3.300593805739307,3.300603386301874,3.3005981022977706,3.3005752959160395,3.3005357809993363,3.3004837482520504,3.3004260664347567,3.300371144932946,3.300327632765185,3.3003032173745392,3.3003036569613164,3.3003320142631782,3.3003879775544576,3.300467241607801,3.3005611549889133,3.300657066467822,3.3007398058005024,3.30079438226938,3.3008093730375982,3.2991906269624014,3.2992056177306197,3.2992601941994972,3.2993429335321776,3.2994388450110863,3.2995327583921985,3.299612022445542,3.2996679857368214,3.299696343038683,3.2996967826254604,3.2996723672348147,3.299628855067054,3.299573933565243,3.2995162517479493,3.2994642190006633,3.29942470408396,3.299401897702229,3.2993966136981254,3.2994061942606927,3.299425020166292,3.2994454953274004,3.2994593221037003,3.2994588858949587,3.2994385606589716,3.2993956984541777,3.2993310240347196,3.299248222490053,3.2991527449499047,3.299050195617503,3.298944912386573,3.2988393231321314,3.298734312015282,3.298630332659377,3.298528634873131,3.2984319338993746,3.2983441506263595,3.2982693051158254,3.298210013908861,3.2981661682026004,3.298134247861623,3.298107464465785,3.2980766670633694,3.2980317825366803,3.2979635093801276,3.29786498049687,3.2977330894292405,3.2975691303585717,3.2973784219382214,3.297168789106804,3.2969481952763067,3.2967222922761974,3.2964928834408136,3.2962580232785568,3.2960137306105683,3.295756438269988,3.295484854234548,3.2952001812757095,3.2949045161637347,3.294598233268992,3.294277701163482,3.293934513630569,3.2935566769250566,3.2931313030244618,3.2926477533888203,3.2921000959940714,3.2914881315722275,3.2908168447526003,3.290094619839593,3.289330741075521,3.2885326270136224,3.2877031644286245,3.2868386138494583,3.285927808995604,3.284953440983189,3.2838957489322484,3.282737905644423,3.281471265468496,3.2800981861568346,3.278630872325822,3.277086472076276,3.2754806490755044,3.273822934458566,3.2721165686152442,3.2703633238701273,3.268570915747215,3.266758577035915,3.264956532040459,3.263197821531909,3.2615050865625768,3.259878314376646,3.2582900756234765,3.256691814680067,3.255029714612373,3.253264227496801,3.251385835768364,3.249421553786413,3.247430779257077,3.2454931865444183,3.2436936882529053,3.2421095231274055,3.240802771557589,3.239819056778023,3.239190817400864,3.238942021454922,3.239090938182495,3.2396486933346957,3.2406134850321906,3.2419627130314717,3.2436467747006685,3.245588067890426,3.247686810151887,3.2498325964739965,3.251918565942469,3.253854564436228,3.2555766693367345,3.2570519393112862,3.2582783066524397,3.259279909057732,3.260098397532999,3.2607814854448907,3.2613711842807174,3.261894979921064,3.2623626904716945,3.2627697280122825,3.2631048637465114,3.2633588041024,3.263529903105443,3.2636250466936025,3.2636560955911698,3.263634026623229,3.2635633733541036,3.2634388332436455,3.263244613763077,3.2629559432797843,3.2625416090264063,3.2619664589236357,3.261193285405859,3.2601840606777253,3.258900833103321,3.2573065857246304,3.2553660106455675,3.2530455844655966,3.2503117211177615,3.2471253529351545,3.243431301888643,3.239141491705276,3.234112548108794,3.2281205292139066,3.2208380074762295,3.2118208742599914,3.2005135041570987,3.186281025289823,3.1684763137344385,3.1465466375071887,3.120179622510339,3.0894789486675442,3.0551461934338393,3.0186283129821323,2.982175921893109,2.948754507773006,2.921767887904136,2.9045947915611863,2.9,2.909543507669588,2.9331481940054966,2.968973152437437,3.013666711214211,3.0629584440625237,3.537041555937476],\"showlegend\":true,\"mode\":\"lines\",\"fillcolor\":\"rgba(62, 164, 78, 1.000)\",\"name\":\"ATCA\",\"line\":{\"color\":\"rgba(62, 164, 78, 1.000)\",\"dash\":\"solid\",\"width\":1},\"y\":[1.1364201870647808,1.452151681830472,1.7678831765961633,2.0836146713618544,2.399346166127546,2.715077660893237,3.030809155658928,3.3465406504246196,3.6622721451903106,3.9780036399560017,4.293735134721693,4.609466629487384,4.925198124253075,5.240929619018766,5.556661113784458,5.872392608550149,6.1881241033158405,6.503855598081532,6.819587092847223,7.135318587612915,7.451050082378606,7.766781577144297,8.082513071909988,8.398244566675679,8.71397606144137,9.029707556207061,9.345439050972752,9.661170545738445,9.976902040504136,10.292633535269827,10.608365030035518,10.92409652480121,11.2398280195669,11.555559514332591,11.871291009098282,12.187022503863973,12.502753998629665,12.818485493395356,13.134216988161048,13.44994848292674,13.76567997769243,14.081411472458122,14.397142967223813,14.712874461989504,15.028605956755195,15.344337451520886,15.660068946286577,15.975800441052268,16.29153193581796,16.60726343058365,16.922994925349343,17.238726420115032,17.554457914880725,17.870189409646414,18.185920904412107,18.5016523991778,18.81738389394349,19.133115388709182,19.44884688347487,19.764578378240564,20.080309873006254,20.396041367771947,20.711772862537636,21.02750435730333,21.34323585206902,21.65896734683471,21.974698841600404,22.290430336366093,22.606161831131786,22.921893325897475,23.237624820663168,23.553356315428857,23.86908781019455,24.18481930496024,24.500550799725932,24.816282294491625,25.132013789257314,25.447745284023007,25.763476778788696,26.07920827355439,26.39493976832008,26.71067126308577,27.02640275785146,27.342134252617154,27.657865747382843,27.973597242148536,28.28932873691423,28.605060231679918,28.92079172644561,29.2365232212113,29.552254715976993,29.867986210742682,30.183717705508375,30.499449200274064,30.815180695039757,31.130912189805446,31.44664368457114,31.762375179336832,32.07810667410252,32.393838168868214,32.70956966363391,33.02530115839959,33.341032653165286,33.65676414793098,33.97249564269667,34.28822713746236,34.60395863222805,34.91969012699374,35.235421621759436,35.55115311652513,35.866884611290814,36.18261610605651,36.4983476008222,36.81407909558789,37.12981059035358,37.44554208511927,37.761273579884964,38.07700507465066,38.39273656941635,38.708468064182036,39.02419955894773,39.33993105371342,39.655662548479114,39.9713940432448,40.28712553801049,40.602857032776186,40.91858852754188,41.234320022307564,41.55005151707326,41.86578301183895,42.18151450660464,42.497246001370335,42.81297749613602,43.128708990901714,43.44444048566741,43.7601719804331,44.075903475198785,44.39163496996448,44.70736646473017,45.023097959495864,45.33882945426156,45.65456094902724,45.970292443792935,46.28602393855863,46.60175543332432,46.91748692809001,47.2332184228557,47.54894991762139,47.864681412387085,48.18041290715277,48.496144401918464,48.81187589668416,49.12760739144985,49.44333888621554,49.75907038098123,50.07480187574692,50.390533370512614,50.70626486527831,51.02199636004399,51.337727854809685,51.65345934957538,51.96919084434107,52.284922339106764,52.60065383387245,52.91638532863814,53.232116823403835,53.54784831816953,53.863579812935214,53.863579812935214,53.54784831816953,53.232116823403835,52.91638532863814,52.60065383387245,52.284922339106764,51.96919084434107,51.65345934957538,51.337727854809685,51.02199636004399,50.70626486527831,50.390533370512614,50.07480187574692,49.75907038098123,49.44333888621554,49.12760739144985,48.81187589668416,48.496144401918464,48.18041290715277,47.864681412387085,47.54894991762139,47.2332184228557,46.91748692809001,46.60175543332432,46.28602393855863,45.970292443792935,45.65456094902724,45.33882945426156,45.023097959495864,44.70736646473017,44.39163496996448,44.075903475198785,43.7601719804331,43.44444048566741,43.128708990901714,42.81297749613602,42.497246001370335,42.18151450660464,41.86578301183895,41.55005151707326,41.234320022307564,40.91858852754188,40.602857032776186,40.28712553801049,39.9713940432448,39.655662548479114,39.33993105371342,39.02419955894773,38.708468064182036,38.39273656941635,38.07700507465066,37.761273579884964,37.44554208511927,37.12981059035358,36.81407909558789,36.4983476008222,36.18261610605651,35.866884611290814,35.55115311652513,35.235421621759436,34.91969012699374,34.60395863222805,34.28822713746236,33.97249564269667,33.65676414793098,33.341032653165286,33.02530115839959,32.70956966363391,32.393838168868214,32.07810667410252,31.762375179336832,31.44664368457114,31.130912189805446,30.815180695039757,30.499449200274064,30.183717705508375,29.867986210742682,29.552254715976993,29.2365232212113,28.92079172644561,28.605060231679918,28.28932873691423,27.973597242148536,27.657865747382843,27.342134252617154,27.02640275785146,26.71067126308577,26.39493976832008,26.07920827355439,25.763476778788696,25.447745284023007,25.132013789257314,24.816282294491625,24.500550799725932,24.18481930496024,23.86908781019455,23.553356315428857,23.237624820663168,22.921893325897475,22.606161831131786,22.290430336366093,21.974698841600404,21.65896734683471,21.34323585206902,21.02750435730333,20.711772862537636,20.396041367771947,20.080309873006254,19.764578378240564,19.44884688347487,19.133115388709182,18.81738389394349,18.5016523991778,18.185920904412107,17.870189409646414,17.554457914880725,17.238726420115032,16.922994925349343,16.60726343058365,16.29153193581796,15.975800441052268,15.660068946286577,15.344337451520886,15.028605956755195,14.712874461989504,14.397142967223813,14.081411472458122,13.76567997769243,13.44994848292674,13.134216988161048,12.818485493395356,12.502753998629665,12.187022503863973,11.871291009098282,11.555559514332591,11.2398280195669,10.92409652480121,10.608365030035518,10.292633535269827,9.976902040504136,9.661170545738445,9.345439050972752,9.029707556207061,8.71397606144137,8.398244566675679,8.082513071909988,7.766781577144297,7.451050082378606,7.135318587612915,6.819587092847223,6.503855598081532,6.1881241033158405,5.872392608550149,5.556661113784458,5.240929619018766,4.925198124253075,4.609466629487384,4.293735134721693,3.9780036399560017,3.6622721451903106,3.3465406504246196,3.030809155658928,2.715077660893237,2.399346166127546,2.0836146713618544,1.7678831765961633,1.452151681830472,1.1364201870647808,1.1364201870647808],\"type\":\"scatter\"},{\"xaxis\":\"x\",\"fill\":\"tozeroy\",\"yaxis\":\"y\",\"x\":[4.832931031238932,4.8767158012783876,4.924699514762588,4.9735418177224044,5.019185169909721,5.057491257676119,5.084961134548063,5.099347969994808,5.1,5.087858842719524,5.065146399941062,5.034857403841475,5.000206267221161,4.964155619274824,4.929100724174957,4.896726175296571,4.868008662005362,4.843319104632527,4.822575555382512,4.805407132501787,4.791301740440976,4.779722117199675,4.770184171182843,4.762298460000261,4.7557803590410295,4.75043729531339,4.746142593257094,4.742805166820798,4.740342725831233,4.73866367281951,4.737659866756583,4.7372094103531435,4.737186125759389,4.737470988106249,4.73796093230727,4.738572198034109,4.7392381722828425,4.739904377150359,4.740524535309117,4.741060800149693,4.741488637429705,4.741803874635483,4.742027722293765,4.742206033731113,4.742401408978556,4.7426797318830465,4.74309498074687,4.743676866600367,4.7444250043118155,4.745311398291303,4.746290642556458,4.747314951565954,4.7483494868773,4.749382972313426,4.750429698298965,4.751521644414163,4.752692866982873,4.753961254288622,4.755313993692809,4.756701985745064,4.758045313714212,4.759247932600559,4.760216543643733,4.7608774342261215,4.76118631329628,4.761129247965573,4.760716322626229,4.7599720692566905,4.758927096388186,4.757613715921427,4.756065710303051,4.754320100702739,4.752418000031538,4.750402662958642,4.748314989387581,4.746188670648508,4.744047669603033,4.741907450653366,4.739779132937339,4.737674014902658,4.7356058695825025,4.73359003956593,4.73164050280736,4.729767253322361,4.727975823860849,4.7262690853912535,4.724649876252189,4.723122609797632,4.721692905079445,4.720365694668753,4.719143165211072,4.718023752834866,4.717002491828591,4.716072039786452,4.715223359792243,4.714445524833719,4.7137250395784625,4.713045758507525,4.712390369095593,4.711743479589311,4.711095167444841,4.710443225733927,4.709792806074179,4.709153505384253,4.708535354382715,4.707945724779111,4.70738851480452,4.706865538116332,4.7063787578544645,4.70593165661423,4.705528755699124,4.7051735677564155,4.704866286369729,4.704602711016264,4.7043752207837715,4.704175472907725,4.703997545244731,4.703839963031654,4.703705574996647,4.703599285721519,4.703524676190106,4.70348105044176,4.703462211267413,4.703457442497247,4.7034541834888515,4.703441197023058,4.7034109504794115,4.703360438584032,4.703290473517822,4.703204129783124,4.703105236663605,4.702997517673728,4.702884428758721,4.702769310117854,4.702655388635002,4.702545434531282,4.702441249646581,4.7023433690227945,4.702251263227241,4.702164019727838,4.702081172941723,4.702003240908166,4.701931673435774,4.701868227030536,4.7018140732076965,4.701769059320895,4.7017314295870065,4.701698069699183,4.7016651258297255,4.701628792722265,4.701586163286317,4.701536159095782,4.7014805723751625,4.701425099971756,4.701380032230454,4.701360131858779,4.701383296613384,4.701467822397591,4.701628385979702,4.701871209917767,4.702189287473215,4.7025590186922415,4.702939928539172,4.703278899407054,4.703519225404494,4.703612920950136,4.696387079049862,4.696480774595504,4.696721100592945,4.697060071460826,4.697440981307757,4.697810712526784,4.698128790082231,4.698371614020297,4.698532177602408,4.698616703386614,4.698639868141219,4.698619967769544,4.698574900028243,4.698519427624836,4.698463840904217,4.698413836713682,4.6983712072777335,4.698334874170273,4.698301930300816,4.698268570412992,4.698230940679103,4.698185926792302,4.698131772969463,4.698068326564225,4.697996759091833,4.697918827058276,4.697835980272161,4.697748736772757,4.697656630977204,4.6975587503534175,4.697454565468717,4.697344611364996,4.6972306898821445,4.6971155712412775,4.697002482326271,4.6968947633363936,4.696795870216874,4.696709526482176,4.696639561415966,4.696589049520587,4.6965588029769405,4.696545816511147,4.6965425575027515,4.696537788732585,4.6965189495582385,4.696475323809892,4.69640071427848,4.696294425003352,4.696160036968345,4.696002454755267,4.695824527092274,4.695624779216227,4.6953972889837345,4.69513371363027,4.694826432243583,4.694471244300875,4.694068343385768,4.693621242145534,4.693134461883667,4.692611485195479,4.692054275220888,4.691464645617284,4.690846494615745,4.690207193925819,4.689556774266071,4.688904832555157,4.688256520410688,4.687609630904405,4.686954241492473,4.686274960421536,4.685554475166279,4.6847766402077555,4.683927960213547,4.6829975081714075,4.6819762471651325,4.680856834788926,4.679634305331246,4.678307094920553,4.676877390202367,4.675350123747809,4.673730914608745,4.67202417613915,4.670232746677637,4.668359497192639,4.666409960434069,4.664394130417496,4.662325985097341,4.66022086706266,4.658092549346633,4.655952330396966,4.65381132935149,4.651685010612417,4.649597337041357,4.647581999968461,4.645679899297259,4.643934289696948,4.6423862840785715,4.641072903611812,4.640027930743308,4.639283677373769,4.638870752034426,4.638813686703719,4.639122565773877,4.639783456356265,4.64075206739944,4.641954686285787,4.643298014254935,4.6446860063071895,4.646038745711377,4.647307133017126,4.648478355585835,4.649570301701034,4.650617027686573,4.651650513122698,4.652685048434044,4.653709357443541,4.6546886017086955,4.655574995688183,4.656323133399631,4.656905019253129,4.657320268116952,4.657598591021443,4.657793966268885,4.657972277706234,4.658196125364515,4.658511362570294,4.658939199850305,4.659475464690882,4.6600956228496395,4.660761827717156,4.66142780196589,4.662039067692729,4.662529011893749,4.66281387424061,4.662790589646855,4.662340133243416,4.661336327180488,4.659657274168765,4.657194833179201,4.653857406742905,4.649562704686608,4.644219640958969,4.637701539999737,4.629815828817155,4.620277882800323,4.608698259559023,4.5945928674982115,4.5774244446174865,4.556680895367472,4.531991337994636,4.503273824703427,4.470899275825041,4.435844380725174,4.3997937327788375,4.365142596158524,4.334853600058937,4.312141157280474,4.299999999999999,4.300652030005191,4.315038865451935,4.342508742323879,4.380814830090277,4.426458182277594,4.475300485237411,4.523284198721611,4.567068968761067,4.832931031238932],\"showlegend\":true,\"mode\":\"lines\",\"fillcolor\":\"rgba(195, 113, 210, 1.000)\",\"name\":\"CATG\",\"line\":{\"color\":\"rgba(195, 113, 210, 1.000)\",\"dash\":\"solid\",\"width\":1},\"y\":[0.2747052605914468,0.5925876210691262,0.9104699815468056,1.228352342024485,1.5462347025021645,1.8641170629798438,2.1819994234575235,2.4998817839352028,2.817764144412882,3.1356465048905617,3.453528865368241,3.7714112258459203,4.0892935863236,4.40717594680128,4.7250583072789585,5.042940667756638,5.360823028234318,5.678705388711997,5.996587749189676,6.314470109667356,6.632352470145035,6.950234830622715,7.268117191100394,7.585999551578073,7.903881912055753,8.221764272533433,8.539646633011111,8.857528993488792,9.17541135396647,9.49329371444415,9.81117607492183,10.129058435399509,10.446940795877188,10.764823156354868,11.082705516832547,11.400587877310226,11.718470237787907,12.036352598265585,12.354234958743264,12.672117319220945,12.989999679698624,13.307882040176302,13.625764400653983,13.943646761131662,14.26152912160934,14.579411482087021,14.8972938425647,15.215176203042379,15.53305856352006,15.850940923997738,16.16882328447542,16.486705644953098,16.804588005430777,17.122470365908455,17.440352726386134,17.758235086863817,18.076117447341495,18.393999807819174,18.711882168296853,19.029764528774532,19.34764688925221,19.665529249729893,19.983411610207572,20.30129397068525,20.61917633116293,20.93705869164061,21.25494105211829,21.57282341259597,21.89070577307365,22.208588133551327,22.526470494029006,22.844352854506685,23.162235214984367,23.480117575462046,23.797999935939725,24.115882296417404,24.433764656895082,24.75164701737276,25.069529377850444,25.387411738328122,25.7052940988058,26.02317645928348,26.34105881976116,26.658941180238838,26.97682354071652,27.2947059011942,27.612588261671878,27.930470622149556,28.248352982627235,28.566235343104914,28.884117703582596,29.202000064060275,29.519882424537954,29.837764785015633,30.15564714549331,30.473529505970994,30.791411866448673,31.10929422692635,31.42717658740403,31.74505894788171,32.06294130835939,32.38082366883707,32.69870602931475,33.016588389792425,33.33447075027011,33.65235311074779,33.970235471225465,34.28811783170315,34.60600019218082,34.923882552658505,35.24176491313619,35.55964727361386,35.877529634091545,36.19541199456922,36.5132943550469,36.83117671552458,37.14905907600226,37.46694143647994,37.78482379695762,38.1027061574353,38.420588517912975,38.73847087839066,39.05635323886834,39.374235599346015,39.6921179598237,40.01000032030137,40.327882680779055,40.64576504125674,40.96364740173441,41.281529762212095,41.59941212268977,41.91729448316745,42.23517684364513,42.55305920412281,42.87094156460049,43.18882392507817,43.50670628555585,43.824588646033526,44.14247100651121,44.46035336698889,44.778235727466566,45.09611808794425,45.41400044842192,45.731882808899606,46.04976516937728,46.36764752985496,46.685529890332646,47.00341225081032,47.321294611288,47.63917697176568,47.95705933224336,48.27494169272104,48.59282405319872,48.9107064136764,49.228588774154076,49.54647113463176,49.864353495109434,50.182235855587116,50.5001182160648,50.818000576542474,51.135882937020156,51.45376529749783,51.771647657975514,52.089530018453196,52.40741237893087,52.725294739408554,52.725294739408554,52.40741237893087,52.089530018453196,51.771647657975514,51.45376529749783,51.135882937020156,50.818000576542474,50.5001182160648,50.182235855587116,49.864353495109434,49.54647113463176,49.228588774154076,48.9107064136764,48.59282405319872,48.27494169272104,47.95705933224336,47.63917697176568,47.321294611288,47.00341225081032,46.685529890332646,46.36764752985496,46.04976516937728,45.731882808899606,45.41400044842192,45.09611808794425,44.778235727466566,44.46035336698889,44.14247100651121,43.824588646033526,43.50670628555585,43.18882392507817,42.87094156460049,42.55305920412281,42.23517684364513,41.91729448316745,41.59941212268977,41.281529762212095,40.96364740173441,40.64576504125674,40.327882680779055,40.01000032030137,39.6921179598237,39.374235599346015,39.05635323886834,38.73847087839066,38.420588517912975,38.1027061574353,37.78482379695762,37.46694143647994,37.14905907600226,36.83117671552458,36.5132943550469,36.19541199456922,35.877529634091545,35.55964727361386,35.24176491313619,34.923882552658505,34.60600019218082,34.28811783170315,33.970235471225465,33.65235311074779,33.33447075027011,33.016588389792425,32.69870602931475,32.38082366883707,32.06294130835939,31.74505894788171,31.42717658740403,31.10929422692635,30.791411866448673,30.473529505970994,30.15564714549331,29.837764785015633,29.519882424537954,29.202000064060275,28.884117703582596,28.566235343104914,28.248352982627235,27.930470622149556,27.612588261671878,27.2947059011942,26.97682354071652,26.658941180238838,26.34105881976116,26.02317645928348,25.7052940988058,25.387411738328122,25.069529377850444,24.75164701737276,24.433764656895082,24.115882296417404,23.797999935939725,23.480117575462046,23.162235214984367,22.844352854506685,22.526470494029006,22.208588133551327,21.89070577307365,21.57282341259597,21.25494105211829,20.93705869164061,20.61917633116293,20.30129397068525,19.983411610207572,19.665529249729893,19.34764688925221,19.029764528774532,18.711882168296853,18.393999807819174,18.076117447341495,17.758235086863817,17.440352726386134,17.122470365908455,16.804588005430777,16.486705644953098,16.16882328447542,15.850940923997738,15.53305856352006,15.215176203042379,14.8972938425647,14.579411482087021,14.26152912160934,13.943646761131662,13.625764400653983,13.307882040176302,12.989999679698624,12.672117319220945,12.354234958743264,12.036352598265585,11.718470237787907,11.400587877310226,11.082705516832547,10.764823156354868,10.446940795877188,10.129058435399509,9.81117607492183,9.49329371444415,9.17541135396647,8.857528993488792,8.539646633011111,8.221764272533433,7.903881912055753,7.585999551578073,7.268117191100394,6.950234830622715,6.632352470145035,6.314470109667356,5.996587749189676,5.678705388711997,5.360823028234318,5.042940667756638,4.7250583072789585,4.40717594680128,4.0892935863236,3.7714112258459203,3.453528865368241,3.1356465048905617,2.817764144412882,2.4998817839352028,2.1819994234575235,1.8641170629798438,1.5462347025021645,1.228352342024485,0.9104699815468056,0.5925876210691262,0.2747052605914468,0.2747052605914468],\"type\":\"scatter\"},{\"xaxis\":\"x\",\"fill\":\"tozeroy\",\"yaxis\":\"y\",\"x\":[6.315429093880779,6.368748830754119,6.4185138862209,6.459402523761003,6.487253113199104,6.5,6.498012737298082,6.48376677911288,6.46103456085658,6.433926536944203,6.4060876797017015,6.380218201697835,6.357931370158248,6.339857344963535,6.3258707281765405,6.315342365177784,6.307360805770807,6.30090939059739,6.295007606971651,6.28882848386961,6.281793852018048,6.273636626749829,6.264413709372021,6.254459774346888,6.244288804824018,6.2344679317515945,6.22549691763252,6.217721997976847,6.211298439792869,6.206200380127007,6.202265746477782,6.199259605825651,6.196938937269224,6.19510369204122,6.1936231669835635,6.192433747167936,6.191512936645769,6.190842363293089,6.190375883190596,6.1900263211128985,6.1896764211370545,6.189209073766628,6.188543047200917,6.1876574616945454,6.186593190788914,6.1854304478558175,6.18425349600114,6.183119346804639,6.182044340817148,6.181012806143413,6.180001413632573,6.179006775247138,6.178063995790321,6.177248435072721,6.176659023730688,6.176387470857707,6.176483012917094,6.176925766435469,6.17762090648506,6.1784191867267015,6.179158431004239,6.179710775272255,6.180017283386486,6.180097141672475,6.180029808551632,6.179919157533209,6.1798538037198965,6.179876236518928,6.1799674846553945,6.180047609892319,6.179988244297623,6.179632429405903,6.1788180405050745,6.177402197301468,6.175284089878865,6.17242290663238,6.168847383848661,6.164654884455927,6.160000453888722,6.155078556994546,6.150101015090681,6.145274102237222,6.140776862993484,6.136742467582066,6.133244930298473,6.1302939546855635,6.1278399505135255,6.125788993478781,6.1240244788806315,6.1224300775280645,6.120908621740507,6.119393681075774,6.117853470429985,6.116288740866806,6.1147267016804685,6.113212313398211,6.111797610904566,6.11052989038355,6.1094405661114,6.108537420584199,6.107802811251471,6.107198742223556,6.106677174992694,6.106191898814346,6.105707921553534,6.105205874787434,6.104681390218415,6.104141369118799,6.1035996076871255,6.103073434223669,6.102581674591508,6.102143270466636,6.101775648222591,6.101492356714548,6.10130017501203,6.101196484473064,6.101167994724616,6.101191790134106,6.101239057307439,6.101280857831902,6.101294301513337,6.101267030827676,6.10119845764602,6.101097555111163,6.100978478585247,6.100856017340858,6.100742482070364,6.100646472665397,6.100572869688219,6.1005230404576976,6.100494740111422,6.100482010024216,6.100475831813987,6.100466012354854,6.10044396084558,6.100405284791097,6.100351031611717,6.1002870295314615,6.100221720579155,6.100163532688754,6.100118855004288,6.100091157604664,6.100081142060917,6.100087418163763,6.1001072117156365,6.100136877284135,6.1001722624598065,6.100209068718072,6.100243271365826,6.100271521000793,6.100291389440178,6.1003013932539,6.1003008642444945,6.100289823294099,6.100268978773489,6.100239837652186,6.100204788313894,6.1001669895909565,6.100130003322858,6.100097264369163,6.100071578262072,6.100054804599398,6.100047753678128,6.100050198715419,6.100060884369897,6.100077510694066,6.100096809378271,6.10011488454108,6.10012789202542,6.100132920524908,6.099867079475091,6.099872107974579,6.099885115458919,6.0999031906217285,6.099922489305933,6.099939115630102,6.0999498012845805,6.099952246321871,6.099945195400601,6.0999284217379275,6.099902735630836,6.099869996677142,6.099833010409043,6.099795211686105,6.099760162347813,6.099731021226511,6.0997101767059005,6.099699135755505,6.0996986067461,6.099708610559821,6.099728478999206,6.099756728634174,6.099790931281928,6.099827737540193,6.099863122715864,6.099892788284363,6.099912581836236,6.099918857939082,6.099908842395335,6.099881144995711,6.0998364673112455,6.099778279420844,6.099712970468538,6.099648968388283,6.0995947152089025,6.099556039154419,6.099533987645145,6.099524168186012,6.099517989975784,6.099505259888577,6.099476959542302,6.09942713031178,6.0993535273346025,6.099257517929635,6.099143982659141,6.099021521414753,6.098902444888837,6.098801542353979,6.098732969172323,6.098705698486662,6.098719142168097,6.09876094269256,6.098808209865894,6.0988320052753835,6.098803515526935,6.098699824987969,6.098507643285451,6.098224351777408,6.097856729533364,6.0974183254084915,6.0969265657763305,6.096400392312874,6.0958586308812,6.095318609781584,6.094794125212565,6.094292078446466,6.093808101185653,6.093322825007306,6.092801257776443,6.0921971887485284,6.091462579415801,6.0905594338885995,6.08947010961645,6.088202389095433,6.086787686601788,6.085273298319531,6.083711259133193,6.082146529570014,6.080606318924225,6.079091378259492,6.077569922471935,6.075975521119368,6.074211006521218,6.072160049486474,6.069706045314436,6.066755069701526,6.063257532417933,6.059223137006516,6.054725897762777,6.049898984909318,6.044921443005453,6.039999546111277,6.0353451155440725,6.0311526161513385,6.027577093367619,6.0247159101211345,6.022597802698531,6.021181959494925,6.020367570594097,6.0200117557023765,6.01995239010768,6.020032515344605,6.020123763481071,6.020146196280103,6.020080842466791,6.019970191448367,6.019902858327525,6.019982716613513,6.020289224727744,6.020841568995761,6.021580813273298,6.02237909351494,6.023074233564531,6.023516987082905,6.023612529142293,6.023340976269311,6.022751564927279,6.021936004209678,6.0209932247528615,6.019998586367426,6.018987193856586,6.017955659182851,6.0168806531953605,6.01574650399886,6.014569552144182,6.0134068092110855,6.012342538305454,6.011456952799082,6.010790926233371,6.010323578862945,6.009973678887101,6.009624116809404,6.00915763670691,6.00848706335423,6.0075662528320635,6.006376833016436,6.004896307958779,6.003061062730775,6.000740394174349,5.997734253522217,5.993799619872992,5.98870156020713,5.982278002023152,5.974503082367479,5.965532068248405,5.955711195175981,5.945540225653112,5.935586290627978,5.926363373250171,5.918206147981952,5.9111715161303895,5.9049923930283486,5.899090609402609,5.892639194229193,5.884657634822215,5.874129271823459,5.860142655036464,5.8420686298417515,5.819781798302165,5.793912320298298,5.766073463055796,5.73896543914342,5.716233220887119,5.701987262701917,5.699999999999999,5.712746886800895,5.740597476238996,5.781486113779099,5.83125116924588,5.884570906119221,6.315429093880779],\"showlegend\":true,\"mode\":\"lines\",\"fillcolor\":\"rgba(172, 142, 24, 1.000)\",\"name\":\"CTAC\",\"line\":{\"color\":\"rgba(172, 142, 24, 1.000)\",\"dash\":\"solid\",\"width\":1},\"y\":[1.0180663746867906,1.3018762400751127,1.5856861054634348,1.869495970851757,2.153305836240079,2.437115701628401,2.7209255670167227,3.004735432405045,3.288545297793367,3.572355163181689,3.856165028570011,4.139974893958333,4.423784759346655,4.707594624734977,4.9914044901232995,5.275214355511621,5.559024220899944,5.842834086288265,6.126643951676587,6.4104538170649095,6.694263682453231,6.978073547841554,7.261883413229875,7.545693278618198,7.8295031440065195,8.113313009394842,8.397122874783163,8.680932740171485,8.964742605559808,9.24855247094813,9.532362336336451,9.816172201724774,10.099982067113096,10.383791932501417,10.66760179788974,10.951411663278062,11.235221528666385,11.519031394054705,11.802841259443028,12.08665112483135,12.370460990219673,12.654270855607994,12.938080720996316,13.221890586384639,13.50570045177296,13.789510317161282,14.073320182549605,14.357130047937927,14.640939913326248,14.92474977871457,15.208559644102893,15.492369509491214,15.776179374879536,16.059989240267857,16.34379910565618,16.627608971044502,16.911418836432826,17.195228701821147,17.479038567209468,17.762848432597792,18.046658297986113,18.330468163374434,18.614278028762758,18.89808789415108,19.1818977595394,19.465707624927724,19.749517490316045,20.033327355704365,20.31713722109269,20.60094708648101,20.884756951869335,21.168566817257656,21.452376682645976,21.7361865480343,22.01999641342262,22.303806278810942,22.587616144199266,22.871426009587587,23.155235874975908,23.439045740364232,23.722855605752553,24.006665471140877,24.290475336529198,24.57428520191752,24.858095067305843,25.141904932694164,25.425714798082485,25.70952466347081,25.99333452885913,26.27714439424745,26.560954259635775,26.844764125024096,27.128573990412416,27.41238385580074,27.69619372118906,27.980003586577386,28.263813451965706,28.547623317354027,28.83143318274235,29.115243048130672,29.399052913518993,29.682862778907317,29.966672644295638,30.25048250968396,30.534292375072283,30.818102240460604,31.101912105848925,31.38572197123725,31.66953183662557,31.953341702013894,32.237151567402215,32.520961432790536,32.804771298178856,33.088581163567184,33.372391028955505,33.656200894343826,33.94001075973215,34.22382062512047,34.50763049050879,34.791440355897116,35.07525022128544,35.35906008667376,35.64286995206208,35.9266798174504,36.21048968283872,36.49429954822705,36.77810941361537,37.06191927900369,37.34572914439201,37.62953900978033,37.91334887516866,38.19715874055698,38.4809686059453,38.76477847133362,39.04858833672194,39.33239820211026,39.61620806749859,39.90001793288691,40.18382779827523,40.46763766366355,40.75144752905187,41.0352573944402,41.31906725982852,41.60287712521684,41.88668699060516,42.170496855993484,42.454306721381805,42.73811658677013,43.02192645215845,43.305736317546774,43.589546182935095,43.873356048323416,44.157165913711744,44.440975779100064,44.724785644488385,45.008595509876706,45.29240537526503,45.57621524065335,45.860025106041675,46.143834971429996,46.42764483681832,46.71145470220664,46.99526456759496,47.27907443298328,47.56288429837161,47.84669416375993,48.13050402914825,48.41431389453657,48.69812375992489,48.98193362531322,48.98193362531322,48.69812375992489,48.41431389453657,48.13050402914825,47.84669416375993,47.56288429837161,47.27907443298328,46.99526456759496,46.71145470220664,46.42764483681832,46.143834971429996,45.860025106041675,45.57621524065335,45.29240537526503,45.008595509876706,44.724785644488385,44.440975779100064,44.157165913711744,43.873356048323416,43.589546182935095,43.305736317546774,43.02192645215845,42.73811658677013,42.454306721381805,42.170496855993484,41.88668699060516,41.60287712521684,41.31906725982852,41.0352573944402,40.75144752905187,40.46763766366355,40.18382779827523,39.90001793288691,39.61620806749859,39.33239820211026,39.04858833672194,38.76477847133362,38.4809686059453,38.19715874055698,37.91334887516866,37.62953900978033,37.34572914439201,37.06191927900369,36.77810941361537,36.49429954822705,36.21048968283872,35.9266798174504,35.64286995206208,35.35906008667376,35.07525022128544,34.791440355897116,34.50763049050879,34.22382062512047,33.94001075973215,33.656200894343826,33.372391028955505,33.088581163567184,32.804771298178856,32.520961432790536,32.237151567402215,31.953341702013894,31.66953183662557,31.38572197123725,31.101912105848925,30.818102240460604,30.534292375072283,30.25048250968396,29.966672644295638,29.682862778907317,29.399052913518993,29.115243048130672,28.83143318274235,28.547623317354027,28.263813451965706,27.980003586577386,27.69619372118906,27.41238385580074,27.128573990412416,26.844764125024096,26.560954259635775,26.27714439424745,25.99333452885913,25.70952466347081,25.425714798082485,25.141904932694164,24.858095067305843,24.57428520191752,24.290475336529198,24.006665471140877,23.722855605752553,23.439045740364232,23.155235874975908,22.871426009587587,22.587616144199266,22.303806278810942,22.01999641342262,21.7361865480343,21.452376682645976,21.168566817257656,20.884756951869335,20.60094708648101,20.31713722109269,20.033327355704365,19.749517490316045,19.465707624927724,19.1818977595394,18.89808789415108,18.614278028762758,18.330468163374434,18.046658297986113,17.762848432597792,17.479038567209468,17.195228701821147,16.911418836432826,16.627608971044502,16.34379910565618,16.059989240267857,15.776179374879536,15.492369509491214,15.208559644102893,14.92474977871457,14.640939913326248,14.357130047937927,14.073320182549605,13.789510317161282,13.50570045177296,13.221890586384639,12.938080720996316,12.654270855607994,12.370460990219673,12.08665112483135,11.802841259443028,11.519031394054705,11.235221528666385,10.951411663278062,10.66760179788974,10.383791932501417,10.099982067113096,9.816172201724774,9.532362336336451,9.24855247094813,8.964742605559808,8.680932740171485,8.397122874783163,8.113313009394842,7.8295031440065195,7.545693278618198,7.261883413229875,6.978073547841554,6.694263682453231,6.4104538170649095,6.126643951676587,5.842834086288265,5.559024220899944,5.275214355511621,4.9914044901232995,4.707594624734977,4.423784759346655,4.139974893958333,3.856165028570011,3.572355163181689,3.288545297793367,3.004735432405045,2.7209255670167227,2.437115701628401,2.153305836240079,1.869495970851757,1.5856861054634348,1.3018762400751127,1.0180663746867906,1.0180663746867906],\"type\":\"scatter\"},{\"xaxis\":\"x\",\"fill\":\"tozeroy\",\"yaxis\":\"y\",\"x\":[7.615057957669884,7.655333872519785,7.700808073797715,7.748781403434854,7.795668755065186,7.837487757355303,7.870498595673801,7.891840184411347,7.9,7.89500300580368,7.878290254232525,7.852346258246189,7.82019401367082,7.784890876093382,7.749130572294029,7.715004673599203,7.683923726301051,7.656661365183972,7.63347070581796,7.6142272776530024,7.598567268627844,7.58600473587276,7.576021691767566,7.568130246350686,7.561908491750316,7.5570137217119004,7.553178573748991,7.550197128357031,7.547908004229679,7.546179822672888,7.544901729355809,7.543979043038574,7.543332417896489,7.542898404253071,7.542629637391968,7.542493542730595,7.54246909100746,7.542541773309076,7.5426977086498095,7.542918541996342,7.543179113756339,7.543449323897422,7.543700141440889,7.543911927761132,7.544082099317334,7.544229315497909,7.544392740117444,7.544626700672319,7.544992349512324,7.545548294042764,7.546341837591615,7.547401984944293,7.548735036403244,7.550323331787467,7.552127244498414,7.554089812519755,7.556142734566631,7.558212281666026,7.560224131910528,7.562106944766113,7.56379514031079,7.565231494831098,7.566369855402025,7.5671778314955285,7.567639017728227,7.567754176435918,7.567540748677902,7.5670300457782345,7.566261686088996,7.56527551507925,7.5641023546645725,7.5627560322454555,7.561229573455859,7.559497722481817,7.557526132713589,7.555285272080877,7.552765213685327,7.549986794308141,7.547005432728723,7.543905984744986,7.540789723128676,7.537756998114774,7.53489051515378,7.532243918855345,7.52983849698408,7.527667962285727,7.525708549060606,7.523930200890421,7.522305004501812,7.52081094707671,7.519431506007605,7.5181533014934,7.516964301643065,7.515853951023871,7.5148149031058225,7.513844803775411,7.51294646573905,7.51212575529281,7.511387909529819,7.510733935792861,7.510158677894856,7.509651185478668,7.509196855249952,7.508780151658993,7.508386854547587,7.508005433960698,7.507627737426312,7.507249300362807,7.5068693260491015,7.506490125514749,7.506115892535324,7.5057510873469955,7.505399071051698,7.5050616252522975,7.50473955584525,7.504433991057837,7.504147618112411,7.5038851626190874,7.503652818902245,7.503456828388575,7.50330173398712,7.503188911054312,7.503115828658684,7.503076226690046,7.503061099993092,7.503060141561098,7.503063188427537,7.503061285424475,7.503047209954097,7.503015569930863,7.502962742543048,7.50288687395832,7.502787959558959,7.502667833139127,7.502529866726703,7.502378347021983,7.502217725770011,7.502052061064617,7.501884878968827,7.501719446572184,7.501559218965931,7.501408146990949,7.501270640486092,7.501151185021493,7.501053776851916,7.500981385921495,7.500935585423063,7.500916372992926,7.5009221375024,7.50094973758628,7.500994732715859,7.501051881780368,7.501116031709075,7.501183423957512,7.501253256705753,7.501329099608009,7.501419540571341,7.501537356718186,7.501696675409173,7.501908131281061,7.502172905260627,7.502477485892024,7.502791523663128,7.503070733937951,7.50326526076379,7.503331683948158,7.496668316051842,7.49673473923621,7.496929266062049,7.497208476336872,7.497522514107976,7.497827094739373,7.498091868718939,7.498303324590827,7.498462643281814,7.498580459428659,7.498670900391991,7.498746743294247,7.498816576042488,7.498883968290925,7.498948118219632,7.499005267284141,7.49905026241372,7.4990778624976,7.499083627007074,7.499064414576937,7.499018614078505,7.498946223148084,7.498848814978507,7.498729359513908,7.498591853009051,7.498440781034069,7.498280553427816,7.498115121031173,7.497947938935383,7.497782274229989,7.497621652978017,7.497470133273297,7.497332166860873,7.497212040441041,7.49711312604168,7.497037257456952,7.496984430069137,7.496952790045903,7.496938714575525,7.496936811572463,7.496939858438902,7.496938900006908,7.496923773309954,7.496884171341316,7.496811088945688,7.49669826601288,7.496543171611425,7.496347181097755,7.4961148373809126,7.495852381887589,7.495566008942163,7.49526044415475,7.4949383747477025,7.494600928948302,7.4942489126530045,7.493884107464676,7.493509874485251,7.4931306739508985,7.492750699637193,7.492372262573688,7.491994566039302,7.491613145452413,7.491219848341007,7.490803144750048,7.490348814521332,7.489841322105144,7.489266064207139,7.488612090470181,7.48787424470719,7.48705353426095,7.486155196224589,7.4851850968941775,7.484146048976129,7.483035698356935,7.4818466985066,7.480568493992395,7.47918905292329,7.477694995498188,7.476069799109579,7.474291450939394,7.472332037714273,7.47016150301592,7.467756081144655,7.46510948484622,7.462243001885226,7.459210276871324,7.456094015255014,7.452994567271277,7.450013205691859,7.447234786314673,7.444714727919123,7.442473867286411,7.440502277518183,7.438770426544141,7.4372439677545445,7.4358976453354275,7.43472448492075,7.433738313911004,7.4329699542217655,7.432459251322098,7.432245823564082,7.432360982271773,7.4328221685044715,7.433630144597975,7.434768505168902,7.43620485968921,7.437893055233887,7.439775868089472,7.441787718333974,7.443857265433369,7.445910187480245,7.447872755501586,7.449676668212533,7.451264963596756,7.452598015055707,7.453658162408385,7.454451705957236,7.455007650487676,7.455373299327681,7.455607259882556,7.455770684502091,7.455917900682666,7.456088072238868,7.456299858559111,7.456550676102578,7.456820886243661,7.457081458003658,7.4573022913501905,7.457458226690924,7.45753090899254,7.457506457269405,7.457370362608032,7.457101595746929,7.456667582103511,7.456020956961426,7.455098270644191,7.453820177327112,7.452091995770321,7.449802871642969,7.446821426251009,7.4429862782880996,7.438091508249684,7.431869753649314,7.423978308232434,7.41399526412724,7.401432731372156,7.3857727223469976,7.36652929418204,7.343338634816028,7.316076273698949,7.284995326400797,7.250869427705971,7.215109123906618,7.17980598632918,7.147653741753811,7.121709745767475,7.10499699419632,7.1,7.108159815588653,7.129501404326199,7.162512242644697,7.204331244934814,7.251218596565146,7.299191926202285,7.344666127480215,7.384942042330116,7.615057957669884],\"showlegend\":true,\"mode\":\"lines\",\"fillcolor\":\"rgba(0, 170, 174, 1.000)\",\"name\":\"TCTA\",\"line\":{\"color\":\"rgba(0, 170, 174, 1.000)\",\"dash\":\"solid\",\"width\":1},\"y\":[0.18169530587352045,0.5067656658023263,0.8318360257311321,1.156906385659938,1.4819767455887438,1.8070471055175497,2.1321174654463553,2.4571878253751613,2.7822581853039674,3.107328545232773,3.4323989051615786,3.7574692650903847,4.082539625019191,4.407609984947996,4.732680344876802,5.057750704805608,5.382821064734414,5.70789142466322,6.032961784592025,6.358032144520831,6.6831025044496375,7.008172864378443,7.333243224307249,7.658313584236055,7.983383944164861,8.308454304093667,8.633524664022472,8.958595023951279,9.283665383880084,9.60873574380889,9.933806103737696,10.258876463666502,10.583946823595307,10.909017183524114,11.234087543452919,11.559157903381724,11.884228263310531,12.209298623239336,12.534368983168143,12.859439343096948,13.184509703025753,13.50958006295456,13.834650422883366,14.159720782812173,14.484791142740978,14.809861502669783,15.13493186259859,15.460002222527395,15.7850725824562,16.110142942385007,16.435213302313812,16.760283662242617,17.085354022171423,17.41042438210023,17.735494742029037,18.06056510195784,18.385635461886647,18.710705821815452,19.03577618174426,19.360846541673066,19.68591690160187,20.010987261530676,20.33605762145948,20.66112798138829,20.986198341317095,21.3112687012459,21.636339061174706,21.96140942110351,22.286479781032316,22.611550140961125,22.93662050088993,23.261690860818735,23.58676122074754,23.911831580676346,24.236901940605154,24.56197230053396,24.887042660462765,25.21211302039157,25.537183380320375,25.86225374024918,26.18732410017799,26.512394460106794,26.8374648200356,27.162535179964404,27.48760553989321,27.81267589982202,28.137746259750823,28.46281661967963,28.787886979608434,29.11295733953724,29.438027699466048,29.763098059394853,30.088168419323658,30.413238779252463,30.73830913918127,31.063379499110077,31.388449859038882,31.713520218967687,32.038590578896496,32.3636609388253,32.68873129875411,33.01380165868291,33.33887201861172,33.663942378540526,33.98901273846933,34.314083098398136,34.63915345832694,34.964223818255746,35.28929417818455,35.61436453811336,35.939434898042165,36.26450525797097,36.589575617899776,36.91464597782858,37.239716337757386,37.564786697686195,37.889857057615,38.214927417543805,38.53999777747261,38.865068137401416,39.190138497330224,39.515208857259026,39.840279217187835,40.165349577116636,40.490419937045445,40.815490296974254,41.140560656903055,41.465631016831864,41.790701376760666,42.115771736689474,42.44084209661828,42.765912456547085,43.09098281647589,43.416053176404695,43.741123536333504,44.066193896262305,44.391264256191114,44.71633461611992,45.041404976048725,45.36647533597753,45.691545695906335,46.016616055835144,46.34168641576395,46.666756775692754,46.99182713562156,47.316897495550364,47.64196785547917,47.96703821540798,48.29210857533678,48.61717893526559,48.942249295194394,49.2673196551232,49.59239001505201,49.91746037498081,50.24253073490962,50.56760109483842,50.89267145476723,51.21774181469604,51.54281217462484,51.86788253455365,52.19295289448245,52.51802325441126,52.84309361434007,53.16816397426887,53.49323433419768,53.81830469412648,53.81830469412648,53.49323433419768,53.16816397426887,52.84309361434007,52.51802325441126,52.19295289448245,51.86788253455365,51.54281217462484,51.21774181469604,50.89267145476723,50.56760109483842,50.24253073490962,49.91746037498081,49.59239001505201,49.2673196551232,48.942249295194394,48.61717893526559,48.29210857533678,47.96703821540798,47.64196785547917,47.316897495550364,46.99182713562156,46.666756775692754,46.34168641576395,46.016616055835144,45.691545695906335,45.36647533597753,45.041404976048725,44.71633461611992,44.391264256191114,44.066193896262305,43.741123536333504,43.416053176404695,43.09098281647589,42.765912456547085,42.44084209661828,42.115771736689474,41.790701376760666,41.465631016831864,41.140560656903055,40.815490296974254,40.490419937045445,40.165349577116636,39.840279217187835,39.515208857259026,39.190138497330224,38.865068137401416,38.53999777747261,38.214927417543805,37.889857057615,37.564786697686195,37.239716337757386,36.91464597782858,36.589575617899776,36.26450525797097,35.939434898042165,35.61436453811336,35.28929417818455,34.964223818255746,34.63915345832694,34.314083098398136,33.98901273846933,33.663942378540526,33.33887201861172,33.01380165868291,32.68873129875411,32.3636609388253,32.038590578896496,31.713520218967687,31.388449859038882,31.063379499110077,30.73830913918127,30.413238779252463,30.088168419323658,29.763098059394853,29.438027699466048,29.11295733953724,28.787886979608434,28.46281661967963,28.137746259750823,27.81267589982202,27.48760553989321,27.162535179964404,26.8374648200356,26.512394460106794,26.18732410017799,25.86225374024918,25.537183380320375,25.21211302039157,24.887042660462765,24.56197230053396,24.236901940605154,23.911831580676346,23.58676122074754,23.261690860818735,22.93662050088993,22.611550140961125,22.286479781032316,21.96140942110351,21.636339061174706,21.3112687012459,20.986198341317095,20.66112798138829,20.33605762145948,20.010987261530676,19.68591690160187,19.360846541673066,19.03577618174426,18.710705821815452,18.385635461886647,18.06056510195784,17.735494742029037,17.41042438210023,17.085354022171423,16.760283662242617,16.435213302313812,16.110142942385007,15.7850725824562,15.460002222527395,15.13493186259859,14.809861502669783,14.484791142740978,14.159720782812173,13.834650422883366,13.50958006295456,13.184509703025753,12.859439343096948,12.534368983168143,12.209298623239336,11.884228263310531,11.559157903381724,11.234087543452919,10.909017183524114,10.583946823595307,10.258876463666502,9.933806103737696,9.60873574380889,9.283665383880084,8.958595023951279,8.633524664022472,8.308454304093667,7.983383944164861,7.658313584236055,7.333243224307249,7.008172864378443,6.6831025044496375,6.358032144520831,6.032961784592025,5.70789142466322,5.382821064734414,5.057750704805608,4.732680344876802,4.407609984947996,4.082539625019191,3.7574692650903847,3.4323989051615786,3.107328545232773,2.7822581853039674,2.4571878253751613,2.1321174654463553,1.8070471055175497,1.4819767455887438,1.156906385659938,0.8318360257311321,0.5067656658023263,0.18169530587352045,0.18169530587352045],\"type\":\"scatter\"},{\"xaxis\":\"x\",\"fill\":\"tozeroy\",\"yaxis\":\"y\",\"x\":[9.005195602901914,9.043905744234763,9.088379776044368,9.136142385723389,9.18374419253354,9.227242064038029,9.262859780764737,9.287654211623074,9.3,9.29976756388058,9.2881770095282,9.267413908121865,9.240147966536169,9.209088337035016,9.176657992759566,9.144808454929423,9.114953292717347,9.087983517714912,9.064332559979958,9.044069122847437,9.027003278196954,9.012792998096781,9.00103839528083,8.991352999936618,8.983406437864776,8.976939272048343,8.971756140456675,8.967706182827207,8.96465997348405,8.962490483049532,8.961062821532614,8.960234294657381,8.959863139432843,8.95982180104169,8.960009478800862,8.960359378640447,8.96083847019917,8.961440566140709,8.962175836945713,8.96306044186357,8.964108781239746,8.965328919052556,8.96672026372767,8.968272375330367,8.969964574912638,8.971766963586418,8.973643638837833,8.975558096204288,8.977479552037138,8.979388083719918,8.981276678543333,8.983149523971585,8.985017583591121,8.986893824314324,8.98879064746475,8.990720855282717,8.992701264368677,8.994755905411482,8.996914902603718,8.999206431281142,9.001642370346055,9.004202009315666,9.0068205145194,9.009388354525528,9.011764363751753,9.013799857267164,9.01536638666017,9.016377550847508,9.01679704280992,9.016630524382762,9.015905904643384,9.01465193572888,9.012885833687799,9.010616012569495,9.007858018179562,9.004654476462182,9.001087263423472,8.997273589834801,8.993345384336132,8.989419252471388,8.985568610238667,8.981808680880938,8.978099807469759,8.974367551211662,8.970532189173941,8.966537542272567,8.962370202616823,8.958064380649201,8.9536928982143,8.949349193751555,8.945127104823348,8.941104399127608,8.937333439341772,8.93383940746844,8.930624349440047,8.927674406128,8.924967784404316,8.922481769225017,8.920197877559948,8.918104813245058,8.916199153908407,8.914483827546931,8.912964623661743,8.911645360662462,8.910522834132884,8.909583039632356,8.90880008471982,8.908138529413593,8.907558787745153,8.907024119948085,8.90650712575182,8.905993785020952,8.90548391705422,8.904988103172327,8.904522201253394,8.904101221568427,8.903734365952023,8.903422504501279,8.903158495786217,8.90292985720039,8.902722651592242,8.90252524775531,8.902330844955804,8.90213819108879,8.90195055970902,8.901773573969477,8.901612729061183,8.901471420764452,8.901349991918964,8.901245894515453,8.901154690646724,8.901071402784925,8.90099171841265,8.900912719892359,8.90083305576432,8.90075268769243,8.90067245701168,8.900593690349893,8.900517942949278,8.900446843235875,8.900381935132812,8.90032445008112,8.90027504401325,8.900233624479489,8.900199397229276,8.900171166280717,8.90014778241126,8.900128539355203,8.90011332634943,8.900102458222715,8.900096259779096,8.90009460003125,8.90009659841145,8.900100651658638,8.90010479305157,8.900107254522133,8.90010701418664,8.900104111158846,8.900099595599448,8.900095120244515,8.900092315526143,8.900092171485829,8.900094646507867,8.900098638817083,8.900102324550007,8.900103735402153,8.899896264597848,8.899897675449994,8.899901361182918,8.899905353492134,8.899907828514172,8.899907684473858,8.899904879755486,8.899900404400553,8.899895888841154,8.899892985813361,8.899892745477867,8.89989520694843,8.899899348341362,8.899903401588551,8.89990539996875,8.899903740220905,8.899897541777285,8.89988667365057,8.899871460644798,8.899852217588741,8.899828833719283,8.899800602770725,8.899766375520512,8.89972495598675,8.89967554991888,8.89961806486719,8.899553156764126,8.899482057050722,8.899406309650107,8.89932754298832,8.89924731230757,8.89916694423568,8.899087280107642,8.899008281587351,8.898928597215075,8.898845309353277,8.898754105484548,8.898650008081036,8.898528579235549,8.898387270938818,8.898226426030524,8.89804944029098,8.89786180891121,8.897669155044197,8.89747475224469,8.897277348407759,8.897070142799612,8.896841504213784,8.896577495498722,8.896265634047978,8.895898778431574,8.895477798746606,8.895011896827674,8.894516082945781,8.894006214979049,8.893492874248182,8.892975880051916,8.892441212254848,8.891861470586408,8.89119991528018,8.890416960367645,8.889477165867117,8.888354639337539,8.887035376338257,8.88551617245307,8.883800846091594,8.881895186754942,8.879802122440053,8.877518230774983,8.875032215595684,8.872325593872,8.869375650559954,8.86616059253156,8.862666560658228,8.858895600872392,8.854872895176653,8.850650806248446,8.846307101785701,8.8419356193508,8.837629797383178,8.833462457727434,8.82946781082606,8.825632448788339,8.821900192530242,8.818191319119062,8.814431389761333,8.810580747528613,8.806654615663868,8.8027264101652,8.79891273657653,8.795345523537819,8.79214198182044,8.789383987430506,8.787114166312202,8.78534806427112,8.784094095356616,8.783369475617238,8.783202957190081,8.783622449152492,8.78463361333983,8.786200142732836,8.788235636248247,8.790611645474472,8.7931794854806,8.795797990684335,8.798357629653946,8.80079356871886,8.803085097396282,8.805244094588518,8.807298735631324,8.809279144717284,8.81120935253525,8.813106175685677,8.81498241640888,8.816850476028415,8.818723321456668,8.820611916280082,8.822520447962862,8.824441903795712,8.826356361162167,8.828233036413582,8.830035425087363,8.831727624669634,8.833279736272331,8.834671080947444,8.835891218760255,8.83693955813643,8.837824163054288,8.838559433859292,8.839161529800831,8.839640621359553,8.83999052119914,8.840178198958311,8.840136860567158,8.83976570534262,8.838937178467386,8.837509516950469,8.83534002651595,8.832293817172793,8.828243859543326,8.823060727951658,8.816593562135225,8.808647000063383,8.798961604719171,8.78720700190322,8.772996721803047,8.755930877152563,8.735667440020043,8.712016482285089,8.685046707282654,8.655191545070577,8.623342007240435,8.590911662964984,8.559852033463832,8.532586091878136,8.511822990471801,8.50023243611942,8.5,8.512345788376926,8.537140219235264,8.572757935961972,8.61625580746646,8.663857614276612,8.711620223955633,8.756094255765237,8.794804397098087,9.005195602901914],\"showlegend\":true,\"mode\":\"lines\",\"fillcolor\":\"rgba(237, 94, 147, 1.000)\",\"name\":\"TGAT\",\"line\":{\"color\":\"rgba(237, 94, 147, 1.000)\",\"dash\":\"solid\",\"width\":1},\"y\":[0.1786107567726954,0.4734154748724203,0.7682201929721453,1.0630249110718701,1.357829629171595,1.65263434727132,1.947439065371045,2.24224378347077,2.537048501570495,2.8318532196702195,3.1266579377699446,3.4214626558696697,3.7162673739693943,4.011072092069119,4.3058768101688445,4.600681528268569,4.895486246368294,5.190290964468019,5.485095682567744,5.779900400667469,6.074705118767194,6.369509836866919,6.664314554966643,6.959119273066369,7.2539239911660935,7.548728709265818,7.843533427365543,8.138338145465267,8.433142863564994,8.727947581664719,9.022752299764443,9.317557017864168,9.612361735963892,9.907166454063617,10.201971172163342,10.496775890263068,10.791580608362793,11.086385326462517,11.381190044562242,11.675994762661967,11.970799480761691,12.265604198861418,12.560408916961142,12.855213635060867,13.150018353160592,13.444823071260316,13.739627789360041,14.034432507459766,14.329237225559492,14.624041943659217,14.918846661758941,15.213651379858666,15.50845609795839,15.803260816058115,16.09806553415784,16.392870252257566,16.68767497035729,16.982479688457015,17.277284406556742,17.572089124656465,17.86689384275619,18.161698560855914,18.45650327895564,18.751307997055363,19.04611271515509,19.340917433254816,19.63572215135454,19.930526869454265,20.22533158755399,20.520136305653715,20.81494102375344,21.109745741853164,21.40455045995289,21.699355178052613,21.99415989615234,22.288964614252063,22.58376933235179,22.878574050451515,23.17337876855124,23.468183486650965,23.762988204750688,24.057792922850414,24.352597640950137,24.647402359049863,24.94220707714959,25.237011795249312,25.53181651334904,25.82662123144876,26.121425949548488,26.416230667648215,26.711035385747937,27.005840103847664,27.300644821947387,27.595449540047113,27.890254258146836,28.185058976246562,28.47986369434629,28.77466841244601,29.069473130545738,29.36427784864546,29.659082566745187,29.95388728484491,30.248692002944637,30.543496721044363,30.838301439144086,31.133106157243812,31.427910875343535,31.72271559344326,32.01752031154299,32.312325029642714,32.607129747742434,32.90193446584216,33.19673918394189,33.49154390204161,33.78634862014133,34.08115333824106,34.375958056340785,34.67076277444051,34.96556749254024,35.26037221063996,35.555176928739684,35.84998164683941,36.14478636493914,36.43959108303886,36.73439580113858,37.02920051923831,37.324005237338035,37.61880995543776,37.91361467353749,38.20841939163721,38.503224109736934,38.79802882783666,39.09283354593639,39.387638264036106,39.68244298213583,39.97724770023556,40.272052418335285,40.56685713643501,40.86166185453473,41.15646657263446,41.451271290734184,41.74607600883391,42.040880726933636,42.335685445033356,42.63049016313308,42.92529488123281,43.220099599332535,43.51490431743226,43.80970903553198,44.10451375363171,44.39931847173143,44.69412318983116,44.98892790793088,45.283732626030606,45.57853734413033,45.87334206223006,46.168146780329785,46.462951498429504,46.75775621652923,47.05256093462896,47.34736565272868,47.64217037082841,47.93697508892813,48.231779807027856,48.52658452512758,48.82138924322731,48.82138924322731,48.52658452512758,48.231779807027856,47.93697508892813,47.64217037082841,47.34736565272868,47.05256093462896,46.75775621652923,46.462951498429504,46.168146780329785,45.87334206223006,45.57853734413033,45.283732626030606,44.98892790793088,44.69412318983116,44.39931847173143,44.10451375363171,43.80970903553198,43.51490431743226,43.220099599332535,42.92529488123281,42.63049016313308,42.335685445033356,42.040880726933636,41.74607600883391,41.451271290734184,41.15646657263446,40.86166185453473,40.56685713643501,40.272052418335285,39.97724770023556,39.68244298213583,39.387638264036106,39.09283354593639,38.79802882783666,38.503224109736934,38.20841939163721,37.91361467353749,37.61880995543776,37.324005237338035,37.02920051923831,36.73439580113858,36.43959108303886,36.14478636493914,35.84998164683941,35.555176928739684,35.26037221063996,34.96556749254024,34.67076277444051,34.375958056340785,34.08115333824106,33.78634862014133,33.49154390204161,33.19673918394189,32.90193446584216,32.607129747742434,32.312325029642714,32.01752031154299,31.72271559344326,31.427910875343535,31.133106157243812,30.838301439144086,30.543496721044363,30.248692002944637,29.95388728484491,29.659082566745187,29.36427784864546,29.069473130545738,28.77466841244601,28.47986369434629,28.185058976246562,27.890254258146836,27.595449540047113,27.300644821947387,27.005840103847664,26.711035385747937,26.416230667648215,26.121425949548488,25.82662123144876,25.53181651334904,25.237011795249312,24.94220707714959,24.647402359049863,24.352597640950137,24.057792922850414,23.762988204750688,23.468183486650965,23.17337876855124,22.878574050451515,22.58376933235179,22.288964614252063,21.99415989615234,21.699355178052613,21.40455045995289,21.109745741853164,20.81494102375344,20.520136305653715,20.22533158755399,19.930526869454265,19.63572215135454,19.340917433254816,19.04611271515509,18.751307997055363,18.45650327895564,18.161698560855914,17.86689384275619,17.572089124656465,17.277284406556742,16.982479688457015,16.68767497035729,16.392870252257566,16.09806553415784,15.803260816058115,15.50845609795839,15.213651379858666,14.918846661758941,14.624041943659217,14.329237225559492,14.034432507459766,13.739627789360041,13.444823071260316,13.150018353160592,12.855213635060867,12.560408916961142,12.265604198861418,11.970799480761691,11.675994762661967,11.381190044562242,11.086385326462517,10.791580608362793,10.496775890263068,10.201971172163342,9.907166454063617,9.612361735963892,9.317557017864168,9.022752299764443,8.727947581664719,8.433142863564994,8.138338145465267,7.843533427365543,7.548728709265818,7.2539239911660935,6.959119273066369,6.664314554966643,6.369509836866919,6.074705118767194,5.779900400667469,5.485095682567744,5.190290964468019,4.895486246368294,4.600681528268569,4.3058768101688445,4.011072092069119,3.7162673739693943,3.4214626558696697,3.1266579377699446,2.8318532196702195,2.537048501570495,2.24224378347077,1.947439065371045,1.65263434727132,1.357829629171595,1.0630249110718701,0.7682201929721453,0.4734154748724203,0.1786107567726954,0.1786107567726954],\"type\":\"scatter\"},{\"xaxis\":\"x\",\"fill\":\"tozeroy\",\"yaxis\":\"y\",\"x\":[10.396694394252496,10.438982088276088,10.489306280046954,10.54419618313888,10.598341116691625,10.645568941194874,10.680277312267817,10.698772735231987,10.700000000000001,10.685462437210582,10.658509937794014,10.623371166262345,10.584272916580057,10.544830034364397,10.507734760548484,10.474687494568954,10.446488676901827,10.423223085326459,10.40448438047203,10.389597255809067,10.377802261634114,10.368382630032846,10.360731855772025,10.3543761867232,10.348971063273003,10.344286293596584,10.340187181698608,10.336613040199145,10.333552697404333,10.33101804822285,10.329018965519213,10.327543887079656,10.326549791976415,10.325963623883908,10.32569437595289,10.325650909699535,10.325757128211292,10.325956968079554,10.326208112183691,10.326471464436258,10.326706645651303,10.326878749836437,10.326971892387704,10.326998563896696,10.32699618223056,10.32701204916684,10.327087277889401,10.327251116889371,10.327528206834351,10.32794988988286,10.328556710220607,10.32938662095793,10.330456044030889,10.331747792238499,10.33321489464252,10.334796884012544,10.336435804226834,10.33808079293577,10.339681017892598,10.341177743104966,10.342508034774484,10.343623191641095,10.344511771592208,10.345210973344189,10.345796230454223,10.346352040924586,10.346937080901457,10.347557782028836,10.348159103745429,10.348634643679686,10.348853042714518,10.348693353391772,10.348078823510958,10.346998365660589,10.345508838708655,10.343717459420269,10.341749780187778,10.339713606500032,10.337671914761698,10.335635772667908,10.333579953013881,10.331472595615743,10.32930308846304,10.32709459239996,10.324897735142553,10.322772655242867,10.320770930109747,10.318925678147847,10.317251308493914,10.315749108552206,10.314413536602126,10.313235875450182,10.31220455199064,10.311303354847762,10.310509673533659,10.30979489923896,10.309128188458969,10.308482930410017,10.307843343476137,10.307208054399826,10.306588902363801,10.306005605426506,10.305478644155215,10.305022885791267,10.304643541901259,10.304334959956204,10.304082009742034,10.30386344953128,10.303656495423347,10.303441713752248,10.303207191898288,10.302950819424657,10.302679798007235,10.30240741789714,10.302148306483671,10.301913982957851,10.301710212607201,10.301536681821213,10.301388599252173,10.301259357274507,10.301143303277101,10.301037795034645,10.30094398923617,10.300866215183353,10.30081020120928,10.300780703640637,10.300779195374375,10.300802251337059,10.300841142441548,10.300882897214358,10.300912736959798,10.300917417867415,10.300888671438518,10.300825663650187,10.300735385957347,10.300630459698185,10.30052500203343,10.300430352062607,10.300352666590877,10.300293299313596,10.300251162385266,10.30022517988144,10.300215225192826,10.300221244098015,10.30024154442912,10.300271626037869,10.300304378327558,10.300331581744983,10.300346036237869,10.300343507486536,10.30032387248113,10.300291154476746,10.30025246899709,10.300216200172104,10.300189908046155,10.300178493146989,10.300183061340617,10.300200784929377,10.300225818473898,10.300250994326753,10.300269730015001,10.300277532564408,10.300272737938934,10.300256493715422,10.300232223826413,10.30020480261464,10.300179520987518,10.300160854467315,10.300151173525583,10.300149809280592,10.30015304137099,10.300155329430895,10.299844670569106,10.299846958629011,10.29985019071941,10.299848826474419,10.299839145532687,10.299820479012483,10.299795197385361,10.299767776173589,10.29974350628458,10.299727262061067,10.299722467435593,10.299730269985,10.299749005673249,10.299774181526104,10.299799215070625,10.299816938659385,10.299821506853013,10.299810091953846,10.299783799827898,10.299747531002911,10.299708845523256,10.299676127518872,10.299656492513465,10.299653963762132,10.299668418255019,10.299695621672443,10.299728373962132,10.299758455570881,10.299778755901986,10.299784774807176,10.29977482011856,10.299748837614736,10.299706700686405,10.299647333409125,10.299569647937394,10.299474997966572,10.299369540301816,10.299264614042654,10.299174336349814,10.299111328561484,10.299082582132586,10.299087263040203,10.299117102785644,10.299158857558453,10.299197748662943,10.299220804625627,10.299219296359365,10.29918979879072,10.299133784816648,10.299056010763831,10.298962204965356,10.2988566967229,10.298740642725495,10.298611400747829,10.298463318178788,10.2982897873928,10.29808601704215,10.29785169351633,10.297592582102862,10.297320201992767,10.297049180575344,10.296792808101713,10.296558286247754,10.296343504576654,10.296136550468722,10.295917990257967,10.295665040043797,10.295356458098743,10.294977114208734,10.294521355844786,10.293994394573495,10.2934110976362,10.292791945600175,10.292156656523865,10.291517069589984,10.290871811541033,10.29020510076104,10.289490326466343,10.288696645152239,10.287795448009362,10.28676412454982,10.285586463397875,10.284250891447796,10.282748691506088,10.281074321852154,10.279229069890254,10.277227344757135,10.275102264857448,10.27290540760004,10.27069691153696,10.268527404384258,10.26642004698612,10.264364227332093,10.262328085238304,10.26028639349997,10.258250219812224,10.256282540579733,10.254491161291346,10.253001634339412,10.251921176489043,10.25130664660823,10.251146957285483,10.251365356320315,10.251840896254572,10.252442217971165,10.253062919098545,10.253647959075415,10.254203769545779,10.254789026655812,10.255488228407794,10.256376808358906,10.257491965225517,10.258822256895035,10.260318982107403,10.261919207064231,10.263564195773167,10.265203115987457,10.266785105357481,10.268252207761503,10.269543955969112,10.270613379042072,10.271443289779395,10.272050110117142,10.27247179316565,10.27274888311063,10.2729127221106,10.272987950833162,10.27300381776944,10.273001436103305,10.273028107612298,10.273121250163564,10.273293354348699,10.273528535563743,10.27379188781631,10.274043031920447,10.27424287178871,10.274349090300467,10.274305624047111,10.274036376116094,10.273450208023586,10.272456112920345,10.270981034480789,10.268981951777151,10.266447302595669,10.263386959800856,10.259812818301393,10.255713706403418,10.251028936726998,10.2456238132768,10.239268144227976,10.231617369967156,10.222197738365887,10.210402744190935,10.19551561952797,10.176776914673543,10.153511323098174,10.125312505431047,10.092265239451518,10.055169965635605,10.015727083419945,9.976628833737657,9.941490062205988,9.91453756278942,9.9,9.901227264768014,9.919722687732184,9.954431058805127,10.001658883308377,10.055803816861122,10.110693719953048,10.161017911723913,10.203305605747506,10.396694394252496],\"showlegend\":true,\"mode\":\"lines\",\"fillcolor\":\"rgba(198, 130, 37, 1.000)\",\"name\":\"TTGG\",\"line\":{\"color\":\"rgba(198, 130, 37, 1.000)\",\"dash\":\"solid\",\"width\":1},\"y\":[0.28409276518647386,0.5907115632544684,0.8973303613224628,1.2039491593904572,1.5105679574584516,1.8171867555264463,2.1238055535944405,2.430424351662435,2.7370431497304297,3.043661947798424,3.3502807458664186,3.656899543934413,3.9635183420024074,4.270137140070402,4.576755938138397,4.883374736206391,5.189993534274385,5.49661233234238,5.803231130410374,6.1098499284783685,6.416468726546364,6.723087524614358,7.029706322682352,7.336325120750347,7.642943918818341,7.949562716886335,8.25618151495433,8.562800313022324,8.86941911109032,9.176037909158314,9.482656707226308,9.789275505294302,10.095894303362297,10.40251310143029,10.709131899498285,11.015750697566281,11.322369495634275,11.62898829370227,11.935607091770263,12.242225889838258,12.548844687906252,12.855463485974248,13.162082284042242,13.468701082110236,13.77531988017823,14.081938678246225,14.388557476314219,14.695176274382215,15.001795072450209,15.308413870518203,15.615032668586197,15.921651466654192,16.228270264722187,16.53488906279018,16.841507860858176,17.14812665892617,17.454745456994164,17.76136425506216,18.067983053130153,18.374601851198147,18.68122064926614,18.987839447334135,19.29445824540213,19.601077043470127,19.90769584153812,20.214314639606116,20.52093343767411,20.827552235742104,21.134171033810098,21.440789831878092,21.747408629946086,22.05402742801408,22.360646226082075,22.66726502415007,22.973883822218063,23.280502620286057,23.587121418354055,23.89374021642205,24.200359014490044,24.506977812558038,24.813596610626032,25.120215408694026,25.42683420676202,25.733453004830015,26.04007180289801,26.346690600966003,26.653309399033997,26.95992819710199,27.266546995169985,27.573165793237983,27.879784591305977,28.18640338937397,28.493022187441966,28.79964098550996,29.106259783577954,29.41287858164595,29.719497379713943,30.026116177781937,30.33273497584993,30.639353773917925,30.94597257198592,31.252591370053914,31.55921016812191,31.865828966189905,32.172447764257896,32.47906656232589,32.785685360393884,33.09230415846188,33.39892295652988,33.705541754597874,34.01216055266587,34.31877935073386,34.62539814880186,34.93201694686985,35.238635744937845,35.54525454300584,35.85187334107383,36.15849213914183,36.46511093720982,36.771729735277816,37.07834853334581,37.384967331413804,37.6915861294818,37.99820492754979,38.30482372561779,38.61144252368578,38.918061321753775,39.22468011982177,39.531298917889764,39.83791771595776,40.14453651402575,40.451155312093746,40.75777411016174,41.064392908229735,41.371011706297736,41.67763050436573,41.984249302433724,42.29086810050172,42.59748689856971,42.90410569663771,43.2107244947057,43.517343292773695,43.82396209084169,44.130580888909684,44.43719968697768,44.74381848504567,45.050437283113666,45.35705608118166,45.663674879249655,45.97029367731765,46.27691247538564,46.58353127345364,46.89015007152163,47.196768869589626,47.50338766765762,47.810006465725614,48.11662526379361,48.4232440618616,48.7298628599296,49.0364816579976,49.34310045606559,49.649719254133586,49.95633805220158,50.262956850269575,50.56957564833757,50.87619444640556,51.18281324447356,51.48943204254155,51.796050840609546,52.10266963867754,52.409288436745534,52.71590723481353,52.71590723481353,52.409288436745534,52.10266963867754,51.796050840609546,51.48943204254155,51.18281324447356,50.87619444640556,50.56957564833757,50.262956850269575,49.95633805220158,49.649719254133586,49.34310045606559,49.0364816579976,48.7298628599296,48.4232440618616,48.11662526379361,47.810006465725614,47.50338766765762,47.196768869589626,46.89015007152163,46.58353127345364,46.27691247538564,45.97029367731765,45.663674879249655,45.35705608118166,45.050437283113666,44.74381848504567,44.43719968697768,44.130580888909684,43.82396209084169,43.517343292773695,43.2107244947057,42.90410569663771,42.59748689856971,42.29086810050172,41.984249302433724,41.67763050436573,41.371011706297736,41.064392908229735,40.75777411016174,40.451155312093746,40.14453651402575,39.83791771595776,39.531298917889764,39.22468011982177,38.918061321753775,38.61144252368578,38.30482372561779,37.99820492754979,37.6915861294818,37.384967331413804,37.07834853334581,36.771729735277816,36.46511093720982,36.15849213914183,35.85187334107383,35.54525454300584,35.238635744937845,34.93201694686985,34.62539814880186,34.31877935073386,34.01216055266587,33.705541754597874,33.39892295652988,33.09230415846188,32.785685360393884,32.47906656232589,32.172447764257896,31.865828966189905,31.55921016812191,31.252591370053914,30.94597257198592,30.639353773917925,30.33273497584993,30.026116177781937,29.719497379713943,29.41287858164595,29.106259783577954,28.79964098550996,28.493022187441966,28.18640338937397,27.879784591305977,27.573165793237983,27.266546995169985,26.95992819710199,26.653309399033997,26.346690600966003,26.04007180289801,25.733453004830015,25.42683420676202,25.120215408694026,24.813596610626032,24.506977812558038,24.200359014490044,23.89374021642205,23.587121418354055,23.280502620286057,22.973883822218063,22.66726502415007,22.360646226082075,22.05402742801408,21.747408629946086,21.440789831878092,21.134171033810098,20.827552235742104,20.52093343767411,20.214314639606116,19.90769584153812,19.601077043470127,19.29445824540213,18.987839447334135,18.68122064926614,18.374601851198147,18.067983053130153,17.76136425506216,17.454745456994164,17.14812665892617,16.841507860858176,16.53488906279018,16.228270264722187,15.921651466654192,15.615032668586197,15.308413870518203,15.001795072450209,14.695176274382215,14.388557476314219,14.081938678246225,13.77531988017823,13.468701082110236,13.162082284042242,12.855463485974248,12.548844687906252,12.242225889838258,11.935607091770263,11.62898829370227,11.322369495634275,11.015750697566281,10.709131899498285,10.40251310143029,10.095894303362297,9.789275505294302,9.482656707226308,9.176037909158314,8.86941911109032,8.562800313022324,8.25618151495433,7.949562716886335,7.642943918818341,7.336325120750347,7.029706322682352,6.723087524614358,6.416468726546364,6.1098499284783685,5.803231130410374,5.49661233234238,5.189993534274385,4.883374736206391,4.576755938138397,4.270137140070402,3.9635183420024074,3.656899543934413,3.3502807458664186,3.043661947798424,2.7370431497304297,2.430424351662435,2.1238055535944405,1.8171867555264463,1.5105679574584516,1.2039491593904572,0.8973303613224628,0.5907115632544684,0.28409276518647386,0.28409276518647386],\"type\":\"scatter\"},{\"xaxis\":\"x\",\"fill\":\"tozeroy\",\"yaxis\":\"y\",\"x\":[11.883857809155462,11.927123263712193,11.971079865574593,12.012753909813377,12.049002799954694,12.076938954396233,12.094346008291307,12.100000000000001,12.093827731798672,12.07687286833107,12.051085742387773,12.018991398826175,11.983311433226662,11.94661475297402,11.911053885793931,11.878215194400372,11.849082769852993,11.824094093735841,11.803254125553995,11.786272961643652,11.77269798970073,11.762021128756118,11.753752220676045,11.74745866736496,11.742777656730116,11.739410341973572,11.737107455588005,11.735653933257135,11.734857304689026,11.73454185172105,11.734548417849815,11.734738421689809,11.734999949356324,11.735253604869277,11.735456016818114,11.735599556271255,11.73570788657859,11.735828224849213,11.736022238856512,11.736357887022812,11.736903990211985,11.737728034737518,11.738896144089773,11.74047298185267,11.742519087244357,11.745083961920427,11.748194865717576,11.751843183717478,11.755971756334043,11.760467195029577,11.765160664638618,11.76983893405745,11.774265035417747,11.778205260612822,11.781457243249124,11.783873219247093,11.785373566812188,11.78594818335842,11.785646417747245,11.784559117028707,11.78279795823601,11.780477175682869,11.777701240919418,11.77455969644284,11.77112808008777,11.767472439561736,11.76365463734744,11.759736313666313,11.755780507393062,11.7518509754712,11.748009846949193,11.74431436086516,11.740813278074377,11.73754339799231,11.734526607112535,11.731768003529272,11.729255716847712,11.726962910992299,11.72485206380088,11.722881051564922,11.721010017621097,11.719207673930551,11.717455708859022,11.715750375343342,11.7141010132014,11.712526026686762,11.711047464760298,11.709685641695593,11.708455097030704,11.70736267757165,11.706407814340917,11.705584415580889,11.704883423574653,11.704295088917277,11.703810345500788,11.703421144847605,11.703120016552347,11.702899312399845,11.70275053823301,11.702663971230796,11.702628548292342,11.70263191330849,11.702660558751198,11.702700126269312,11.702736027815558,11.702754519568915,11.702744188529582,11.702697568324504,11.7026124114824,11.702492123332105,11.702345050035316,11.70218265774958,11.702017015787733,11.701858258380723,11.701712741897742,11.701582412760162,11.701465520438369,11.70135837915862,11.701257549392205,11.701161690962948,11.701072474616822,11.70099427882083,11.700932820635487,11.700893223224675,11.700878187086666,11.700886861313357,11.700914747180384,11.70095461675713,11.700998120842764,11.701037590939459,11.701067546167717,11.701085569621378,11.701092445041645,11.701091655874848,11.701088476901452,11.701088908598095,11.701098638594681,11.701122118499963,11.701161778831448,11.701217405908725,11.701285764443783,11.701360617960749,11.701433308312094,11.701493958757103,11.701533170677918,11.701543863993585,11.701522773932881,11.701471151886222,11.701394442376246,11.701301043753707,11.701200563658361,11.70110211306537,11.701013085567054,11.700938596826061,11.700881456368062,11.700842365002188,11.700820058038381,11.700811311632126,11.700810965996588,11.700812244117355,11.700807573983786,11.700789886631227,11.699210113368775,11.699192426016216,11.699187755882647,11.699189034003414,11.699188688367876,11.69917994196162,11.699157634997814,11.69911854363194,11.69906140317394,11.698986914432949,11.698897886934633,11.698799436341641,11.698698956246295,11.698605557623756,11.69852884811378,11.698477226067121,11.698456136006417,11.698466829322085,11.698506041242899,11.698566691687908,11.698639382039254,11.698714235556219,11.698782594091277,11.698838221168554,11.698877881500039,11.698901361405321,11.698911091401907,11.69891152309855,11.698908344125154,11.698907554958357,11.698914430378624,11.698932453832285,11.698962409060544,11.699001879157239,11.699045383242872,11.699085252819618,11.699113138686645,11.699121812913337,11.699106776775327,11.699067179364516,11.699005721179173,11.69892752538318,11.698838309037054,11.698742450607797,11.698641620841382,11.698534479561634,11.69841758723984,11.69828725810226,11.69814174161928,11.697982984212269,11.697817342250422,11.697654949964686,11.697507876667897,11.697387588517602,11.697302431675498,11.69725581147042,11.697245480431087,11.697263972184444,11.69729987373069,11.697339441248804,11.697368086691512,11.69737145170766,11.697336028769206,11.697249461766992,11.697100687600157,11.696879983447655,11.696578855152397,11.696189654499214,11.695704911082725,11.695116576425349,11.694415584419113,11.693592185659085,11.692637322428352,11.691544902969298,11.69031435830441,11.688952535239704,11.68747397331324,11.685898986798602,11.68424962465666,11.68254429114098,11.68079232606945,11.678989982378905,11.67711894843508,11.675147936199123,11.673037089007703,11.67074428315229,11.66823199647073,11.665473392887467,11.662456602007692,11.659186721925625,11.655685639134843,11.651990153050809,11.648149024528802,11.64421949260694,11.64026368633369,11.636345362652563,11.632527560438266,11.628871919912232,11.625440303557163,11.622298759080584,11.619522824317134,11.617202041763992,11.615440882971296,11.614353582252757,11.614051816641583,11.614626433187814,11.616126780752909,11.618542756750879,11.62179473938718,11.625734964582255,11.630161065942552,11.634839335361384,11.639532804970425,11.644028243665959,11.648156816282524,11.651805134282426,11.654916038079575,11.657480912755645,11.659527018147331,11.661103855910229,11.662271965262484,11.663096009788017,11.66364211297719,11.66397776114349,11.66417177515079,11.664292113421412,11.664400443728747,11.664543983181888,11.664746395130726,11.665000050643679,11.665261578310194,11.665451582150187,11.665458148278953,11.665142695310976,11.664346066742867,11.662892544411998,11.66058965802643,11.657222343269886,11.652541332635042,11.646247779323957,11.637978871243885,11.627302010299273,11.61372703835635,11.596745874446007,11.575905906264161,11.550917230147009,11.52178480559963,11.48894611420607,11.453385247025983,11.41668856677334,11.381008601173827,11.348914257612229,11.323127131668931,11.30617226820133,11.3,11.305653991708695,11.323061045603769,11.350997200045308,11.387246090186625,11.42892013442541,11.472876736287809,11.51614219084454,11.883857809155462],\"showlegend\":true,\"mode\":\"lines\",\"fillcolor\":\"rgba(0, 169, 141, 1.000)\",\"name\":\"Unknown\",\"line\":{\"color\":\"rgba(0, 169, 141, 1.000)\",\"dash\":\"solid\",\"width\":1},\"y\":[0.25125962242194005,0.6208091923297421,0.990358762237544,1.3599083321453462,1.7294579020531482,2.09900747196095,2.468557041868752,2.838106611776554,3.207656181684356,3.5772057515921585,3.9467553214999604,4.316304891407762,4.685854461315564,5.055404031223366,5.424953601131168,5.79450317103897,6.164052740946772,6.533602310854574,6.903151880762376,7.272701450670178,7.64225102057798,8.011800590485782,8.381350160393584,8.750899730301386,9.120449300209188,9.48999887011699,9.859548440024792,10.229098009932594,10.598647579840396,10.9681971497482,11.337746719656002,11.707296289563804,12.076845859471605,12.446395429379407,12.81594499928721,13.185494569195011,13.555044139102813,13.924593709010615,14.294143278918417,14.66369284882622,15.033242418734021,15.402791988641823,15.772341558549625,16.141891128457427,16.511440698365227,16.88099026827303,17.250539838180835,17.620089408088635,17.98963897799644,18.35918854790424,18.728738117812043,19.098287687719843,19.467837257627647,19.837386827535447,20.20693639744325,20.57648596735105,20.946035537258854,21.315585107166655,21.68513467707446,22.05468424698226,22.424233816890062,22.793783386797863,23.163332956705666,23.532882526613466,23.90243209652127,24.27198166642907,24.641531236336874,25.011080806244674,25.380630376152478,25.75017994606028,26.119729515968082,26.489279085875882,26.858828655783686,27.228378225691486,27.59792779559929,27.96747736550709,28.337026935414894,28.706576505322694,29.076126075230498,29.4456756451383,29.8152252150461,30.184774784953905,30.554324354861706,30.92387392476951,31.29342349467731,31.662973064585113,32.03252263449291,32.40207220440072,32.77162177430852,33.14117134421632,33.51072091412412,33.880270484031925,34.24982005393973,34.619369623847525,34.98891919375533,35.35846876366313,35.72801833357094,36.09756790347873,36.46711747338654,36.83666704329434,37.206216613202145,37.57576618310994,37.945315753017745,38.31486532292555,38.68441489283335,39.05396446274115,39.42351403264895,39.79306360255676,40.16261317246456,40.532162742372364,40.90171231228016,41.271261882187964,41.64081145209577,42.01036102200357,42.37991059191137,42.74946016181917,43.119009731726976,43.48855930163478,43.858108871542576,44.22765844145038,44.597208011358184,44.96675758126599,45.336307151173784,45.70585672108159,46.07540629098939,46.444955860897196,46.81450543080499,47.184055000712796,47.5536045706206,47.9231541405284,48.2927037104362,48.662253280344004,49.03180285025181,49.40135242015961,49.77090199006741,50.14045155997521,50.510001129883015,50.87955069979082,51.249100269698616,51.61864983960642,51.98819940951422,52.35774897942203,52.72729854932983,53.09684811923763,53.46639768914543,53.835947259053235,54.20549682896104,54.575046398868835,54.94459596877664,55.31414553868444,55.68369510859225,56.05324467850004,56.42279424840785,56.79234381831565,57.161893388223454,57.53144295813125,57.900992528039055,58.27054209794686,58.64009166785466,59.00964123776246,59.37919080767026,59.748740377578066,59.748740377578066,59.37919080767026,59.00964123776246,58.64009166785466,58.27054209794686,57.900992528039055,57.53144295813125,57.161893388223454,56.79234381831565,56.42279424840785,56.05324467850004,55.68369510859225,55.31414553868444,54.94459596877664,54.575046398868835,54.20549682896104,53.835947259053235,53.46639768914543,53.09684811923763,52.72729854932983,52.35774897942203,51.98819940951422,51.61864983960642,51.249100269698616,50.87955069979082,50.510001129883015,50.14045155997521,49.77090199006741,49.40135242015961,49.03180285025181,48.662253280344004,48.2927037104362,47.9231541405284,47.5536045706206,47.184055000712796,46.81450543080499,46.444955860897196,46.07540629098939,45.70585672108159,45.336307151173784,44.96675758126599,44.597208011358184,44.22765844145038,43.858108871542576,43.48855930163478,43.119009731726976,42.74946016181917,42.37991059191137,42.01036102200357,41.64081145209577,41.271261882187964,40.90171231228016,40.532162742372364,40.16261317246456,39.79306360255676,39.42351403264895,39.05396446274115,38.68441489283335,38.31486532292555,37.945315753017745,37.57576618310994,37.206216613202145,36.83666704329434,36.46711747338654,36.09756790347873,35.72801833357094,35.35846876366313,34.98891919375533,34.619369623847525,34.24982005393973,33.880270484031925,33.51072091412412,33.14117134421632,32.77162177430852,32.40207220440072,32.03252263449291,31.662973064585113,31.29342349467731,30.92387392476951,30.554324354861706,30.184774784953905,29.8152252150461,29.4456756451383,29.076126075230498,28.706576505322694,28.337026935414894,27.96747736550709,27.59792779559929,27.228378225691486,26.858828655783686,26.489279085875882,26.119729515968082,25.75017994606028,25.380630376152478,25.011080806244674,24.641531236336874,24.27198166642907,23.90243209652127,23.532882526613466,23.163332956705666,22.793783386797863,22.424233816890062,22.05468424698226,21.68513467707446,21.315585107166655,20.946035537258854,20.57648596735105,20.20693639744325,19.837386827535447,19.467837257627647,19.098287687719843,18.728738117812043,18.35918854790424,17.98963897799644,17.620089408088635,17.250539838180835,16.88099026827303,16.511440698365227,16.141891128457427,15.772341558549625,15.402791988641823,15.033242418734021,14.66369284882622,14.294143278918417,13.924593709010615,13.555044139102813,13.185494569195011,12.81594499928721,12.446395429379407,12.076845859471605,11.707296289563804,11.337746719656002,10.9681971497482,10.598647579840396,10.229098009932594,9.859548440024792,9.48999887011699,9.120449300209188,8.750899730301386,8.381350160393584,8.011800590485782,7.64225102057798,7.272701450670178,6.903151880762376,6.533602310854574,6.164052740946772,5.79450317103897,5.424953601131168,5.055404031223366,4.685854461315564,4.316304891407762,3.9467553214999604,3.5772057515921585,3.207656181684356,2.838106611776554,2.468557041868752,2.09900747196095,1.7294579020531482,1.3599083321453462,0.990358762237544,0.6208091923297421,0.25125962242194005,0.25125962242194005],\"type\":\"scatter\"}], {\"showlegend\":true,\"xaxis\":{\"tickvals\":[0.5,1.9,3.3,4.699999999999999,6.1,7.5,8.9,10.3,11.700000000000001],\"ticks\":\"inside\",\"tickmode\":\"array\",\"domain\":[0.061654272382618835,0.9934383202099737],\"linecolor\":\"rgba(0, 0, 0, 1.000)\",\"showgrid\":true,\"title\":\"pool\",\"tickangle\":0,\"titlefont\":{\"color\":\"rgba(0, 0, 0, 1.000)\",\"family\":\"sans-serif\",\"size\":15},\"tickcolor\":\"rgba(0, 0, 0, 1.000)\",\"ticktext\":[\"ACAG\",\"AGTC\",\"ATCA\",\"CATG\",\"CTAC\",\"TCTA\",\"TGAT\",\"TTGG\",\"Unknown\"],\"zeroline\":false,\"type\":\"-\",\"tickfont\":{\"color\":\"rgba(0, 0, 0, 1.000)\",\"family\":\"sans-serif\",\"size\":11},\"anchor\":\"y\"},\"paper_bgcolor\":\"rgba(255, 255, 255, 1.000)\",\"annotations\":[],\"height\":400,\"margin\":{\"l\":0,\"b\":20,\"r\":0,\"t\":20},\"plot_bgcolor\":\"rgba(255, 255, 255, 1.000)\",\"yaxis\":{\"tickvals\":[10.0,20.0,30.0,40.0,50.0],\"ticks\":\"inside\",\"tickmode\":\"array\",\"domain\":[0.07581474190726165,0.9901574803149606],\"linecolor\":\"rgba(0, 0, 0, 1.000)\",\"showgrid\":true,\"title\":\"streakA\",\"tickangle\":0,\"titlefont\":{\"color\":\"rgba(0, 0, 0, 1.000)\",\"family\":\"sans-serif\",\"size\":15},\"tickcolor\":\"rgba(0, 0, 0, 1.000)\",\"ticktext\":[\"10\",\"20\",\"30\",\"40\",\"50\"],\"zeroline\":false,\"type\":\"-\",\"tickfont\":{\"color\":\"rgba(0, 0, 0, 1.000)\",\"family\":\"sans-serif\",\"size\":11},\"anchor\":\"x\"},\"legend\":{\"bordercolor\":\"rgba(0, 0, 0, 1.000)\",\"bgcolor\":\"rgba(255, 255, 255, 1.000)\",\"font\":{\"color\":\"rgba(0, 0, 0, 1.000)\",\"family\":\"sans-serif\",\"size\":11},\"y\":1.0,\"x\":1.0},\"width\":600});\n",
       "    </script>\n"
      ]
     },
     "execution_count": 236,
     "metadata": {},
     "output_type": "execute_result"
    }
   ],
   "source": [
    "violin(data,:pool,:streakA,group=:pool)"
   ]
  },
  {
   "cell_type": "code",
   "execution_count": 237,
   "metadata": {},
   "outputs": [
    {
     "data": {
      "text/html": [
       "<script src=\"/home/pawel/.julia/v0.6/Plots/src/backends/../../deps/plotly-latest.min.js\"></script>    <div id=\"1f72b2bb-1838-4e7a-9949-032cd88ff160\" style=\"width:600px;height:400px;\"></div>\n",
       "    <script>\n",
       "    PLOT = document.getElementById('1f72b2bb-1838-4e7a-9949-032cd88ff160');\n",
       "    Plotly.plot(PLOT, [{\"xaxis\":\"x\",\"fill\":\"tozeroy\",\"yaxis\":\"y\",\"x\":[0.5,0.5,0.5,0.5,0.5,0.5,0.5,0.5,0.5,0.5,0.5,0.5,0.5,0.5,0.5,0.5,0.5,0.5,0.5,0.5,0.5,0.5,0.5,0.5,0.5,0.5,0.5,0.5,0.5,0.5,0.5,0.5,0.5,0.5,0.5,0.5,0.5,0.5,0.5,0.5,0.5,0.5,0.5,0.5,0.5,0.5,0.5,0.5,0.5,0.5,0.5,0.5,0.5,0.5,0.5,0.5,0.5,0.5,0.5,0.5,0.5,0.5,0.5,0.5,0.5,0.5,0.5,0.5,0.5,0.5,0.5,0.5,0.5,0.5,0.5,0.5,0.5,0.5,0.5,0.5,0.5,0.5,0.5,0.5,0.5,0.5,0.5,0.5,0.5,0.5,0.5,0.5,0.5,0.5,0.5,0.5,0.5,0.5,0.5,0.5,0.5,0.5,0.5,0.5,0.5,0.5,0.5,0.5,0.5,0.5,0.5,0.5,0.5,0.5,0.5,0.5,0.5,0.5,0.5,0.5,0.5,0.5,0.5,0.5,0.5,0.5,0.5,0.5,0.5,0.5,0.5,0.5,0.5,0.5,0.5,0.5,0.5,0.5,0.5,0.5,0.5,0.5,0.5,0.5,0.5,0.5,0.5,0.5,0.5,0.5,0.5,0.5,0.5,0.5,0.5,0.5,0.5,0.5,0.5,0.5,0.5,0.5,0.5,0.5,0.5,0.5,0.4997575773284317,0.499762133298098,0.49977674473099354,0.499797523113809,0.49981911114423533,0.4998354731972749,0.4998407221687428,0.4998298929235284,0.4997996471932886,0.49974891186004883,0.4996793953224746,0.4995958312647082,0.4995057398641406,0.4994185448295042,0.4993440607624687,0.4992906113388648,0.49926323949486706,0.4992625170740124,0.4992843175339273,0.49932064164178197,0.49936129895684106,0.49939604762130724,0.4994167167960833,0.49941885737813346,0.49940255431652525,0.4993721823561476,0.49933510946312165,0.49929963301738495,0.49927269261944085,0.49925801559790073,0.49925522595454547,0.49926010545915145,0.4992657826731123,0.4992643383288866,0.4992482857499143,0.49921160214317706,0.4991503057330033,0.49906280098636435,0.4989502153648027,0.4988167268730432,0.4986695763928752,0.49851829434663175,0.49837282666513266,0.4982407329741958,0.49812424589745363,0.4980183807135956,0.49791117318500977,0.4977864418875907,0.49762846649638726,0.49742708872609875,0.4971813978401831,0.49690054889599744,0.4966012534715639,0.4963026921941422,0.49602053945506724,0.49576208262130034,0.4955239547674478,0.4952930012394371,0.4950497041374862,0.4947728306123508,0.49444377786830773,0.4940494114532774,0.49358280539624316,0.49304194987760686,0.4924270412134494,0.49173733494609395,0.49096865822114516,0.4901124620752836,0.489156734497177,0.4880883547961783,0.48689589077668166,0.48557176272566394,0.484113196407681,0.4825221434116903,0.48080482845378403,0.47897144191353974,0.4770358820376591,0.47501493721799026,0.47292641559955195,0.47078647566242615,0.46860718183857863,0.4663953704407694,0.4641530676125439,0.4618785633918543,0.45956680167954017,0.4572085269885992,0.4547891724406541,0.4522895819947481,0.4496903124276221,0.44697945414341367,0.44416173272576964,0.4412655113206644,0.43834492068334835,0.43547625444140436,0.43274977648178115,0.430259121966494,0.4280902825808939,0.42631135075210147,0.42496365108319306,0.4240551133220708,0.42355749548412236,0.4234095095614977,0.42352715019049286,0.42382029711051494,0.4242116762757612,0.42465208728967846,0.4251260540518591,0.4256453132777797,0.4262326822658271,0.4269033268530023,0.4276517656395058,0.42845017331587126,0.4292580525596789,0.4300380375847956,0.4307701933223808,0.4314586762981831,0.4321288902173905,0.4328178678925983,0.4335632215805877,0.43439557059701306,0.4353364739178947,0.4364003764040346,0.43759694624625217,0.4389305818743479,0.4403964163265415,0.4419751567337761,0.443630602057256,0.445312681731055,0.4469659380607579,0.4485402967972463,0.449999518760386,0.451323637057377,0.45250433510364707,0.4535351605651273,0.45440032618904963,0.4550659932534192,0.4554766186869781,0.4555569736127622,0.45521864805554013,0.45436871174389687,0.45291768100890145,0.45078374729770765,0.447890194491965,0.4441533693379887,0.43946014382461507,0.4336370152053811,0.4264174667111812,0.4174184945484406,0.4061392672834658,0.39199323627669264,0.37437964266792445,0.3527927615948766,0.3269594667811617,0.2969891944704458,0.2635151834569478,0.22780109185698771,0.19178236495555617,0.15800885104700918,0.129458895510918,0.10921188737966114,0.09999999999999998,0.10370674220643111,0.1209246000508527,0.15070291383386925,0.19058975441768794,0.23699549947818666,0.5],\"showlegend\":true,\"mode\":\"lines\",\"fillcolor\":\"rgba(0, 154, 250, 1.000)\",\"name\":\"streak A\",\"line\":{\"color\":\"rgba(0, 154, 250, 1.000)\",\"dash\":\"solid\",\"width\":1},\"y\":[1.3004218250169681,1.611931863501611,1.923441901986254,2.234951940470897,2.5464619789555396,2.857972017440183,3.1694820559248256,3.4809920944094683,3.792502132894111,4.104012171378754,4.415522209863397,4.72703224834804,5.038542286832683,5.350052325317326,5.661562363801968,5.973072402286611,6.2845824407712545,6.596092479255897,6.90760251774054,7.219112556225182,7.5306225947098255,7.842132633194469,8.153642671679112,8.465152710163753,8.776662748648397,9.08817278713304,9.399682825617683,9.711192864102326,10.02270290258697,10.33421294107161,10.645722979556254,10.957233018040897,11.26874305652554,11.580253095010184,11.891763133494825,12.203273171979468,12.514783210464111,12.826293248948755,13.137803287433398,13.449313325918041,13.760823364402683,14.072333402887326,14.383843441371969,14.695353479856612,15.006863518341255,15.318373556825897,15.62988359531054,15.941393633795183,16.252903672279825,16.56441371076447,16.87592374924911,17.187433787733756,17.498943826218397,17.81045386470304,18.121963903187684,18.433473941672325,18.74498398015697,19.05649401864161,19.368004057126253,19.679514095610898,19.99102413409554,20.302534172580184,20.614044211064826,20.92555424954947,21.237064288034112,21.548574326518754,21.8600843650034,22.17159440348804,22.483104441972685,22.794614480457327,23.106124518941968,23.417634557426613,23.729144595911254,24.0406546343959,24.35216467288054,24.663674711365182,24.975184749849827,25.28669478833447,25.598204826819114,25.909714865303755,26.221224903788396,26.53273494227304,26.844244980757683,27.155755019242328,27.46726505772697,27.77877509621161,28.090285134696256,28.401795173180897,28.713305211665542,29.024815250150183,29.336325288634825,29.64783532711947,29.95934536560411,30.270855404088756,30.582365442573398,30.89387548105804,31.205385519542684,31.516895558027326,31.82840559651197,32.13991563499661,32.45142567348125,32.762935711965895,33.07444575045054,33.385955788935185,33.697465827419826,34.00897586590447,34.32048590438911,34.63199594287376,34.9435059813584,35.25501601984304,35.56652605832768,35.87803609681232,36.18954613529697,36.50105617378161,36.812566212266255,37.124076250750896,37.435586289235545,37.747096327720186,38.05860636620483,38.37011640468947,38.68162644317411,38.99313648165876,39.3046465201434,39.61615655862804,39.92766659711268,40.239176635597325,40.55068667408197,40.862196712566615,41.173706751051256,41.4852167895359,41.79672682802054,42.10823686650519,42.41974690498983,42.73125694347447,43.04276698195911,43.35427702044375,43.6657870589284,43.97729709741304,44.288807135897684,44.600317174382326,44.91182721286697,45.223337251351616,45.53484728983626,45.8463573283209,46.15786736680554,46.46937740529018,46.78088744377483,47.09239748225947,47.40390752074411,47.715417559228754,48.026927597713396,48.338437636198044,48.649947674682686,48.96145771316733,49.27296775165197,49.58447779013661,49.89598782862126,50.2074978671059,50.51900790559054,50.83051794407518,51.142027982559824,51.45353802104447,51.765048059529114,52.076558098013756,52.3880681364984,52.69957817498304,52.69957817498304,52.3880681364984,52.076558098013756,51.765048059529114,51.45353802104447,51.142027982559824,50.83051794407518,50.51900790559054,50.2074978671059,49.89598782862126,49.58447779013661,49.27296775165197,48.96145771316733,48.649947674682686,48.338437636198044,48.026927597713396,47.715417559228754,47.40390752074411,47.09239748225947,46.78088744377483,46.46937740529018,46.15786736680554,45.8463573283209,45.53484728983626,45.223337251351616,44.91182721286697,44.600317174382326,44.288807135897684,43.97729709741304,43.6657870589284,43.35427702044375,43.04276698195911,42.73125694347447,42.41974690498983,42.10823686650519,41.79672682802054,41.4852167895359,41.173706751051256,40.862196712566615,40.55068667408197,40.239176635597325,39.92766659711268,39.61615655862804,39.3046465201434,38.99313648165876,38.68162644317411,38.37011640468947,38.05860636620483,37.747096327720186,37.435586289235545,37.124076250750896,36.812566212266255,36.50105617378161,36.18954613529697,35.87803609681232,35.56652605832768,35.25501601984304,34.9435059813584,34.63199594287376,34.32048590438911,34.00897586590447,33.697465827419826,33.385955788935185,33.07444575045054,32.762935711965895,32.45142567348125,32.13991563499661,31.82840559651197,31.516895558027326,31.205385519542684,30.89387548105804,30.582365442573398,30.270855404088756,29.95934536560411,29.64783532711947,29.336325288634825,29.024815250150183,28.713305211665542,28.401795173180897,28.090285134696256,27.77877509621161,27.46726505772697,27.155755019242328,26.844244980757683,26.53273494227304,26.221224903788396,25.909714865303755,25.598204826819114,25.28669478833447,24.975184749849827,24.663674711365182,24.35216467288054,24.0406546343959,23.729144595911254,23.417634557426613,23.106124518941968,22.794614480457327,22.483104441972685,22.17159440348804,21.8600843650034,21.548574326518754,21.237064288034112,20.92555424954947,20.614044211064826,20.302534172580184,19.99102413409554,19.679514095610898,19.368004057126253,19.05649401864161,18.74498398015697,18.433473941672325,18.121963903187684,17.81045386470304,17.498943826218397,17.187433787733756,16.87592374924911,16.56441371076447,16.252903672279825,15.941393633795183,15.62988359531054,15.318373556825897,15.006863518341255,14.695353479856612,14.383843441371969,14.072333402887326,13.760823364402683,13.449313325918041,13.137803287433398,12.826293248948755,12.514783210464111,12.203273171979468,11.891763133494825,11.580253095010184,11.26874305652554,10.957233018040897,10.645722979556254,10.33421294107161,10.02270290258697,9.711192864102326,9.399682825617683,9.08817278713304,8.776662748648397,8.465152710163753,8.153642671679112,7.842132633194469,7.5306225947098255,7.219112556225182,6.90760251774054,6.596092479255897,6.2845824407712545,5.973072402286611,5.661562363801968,5.350052325317326,5.038542286832683,4.72703224834804,4.415522209863397,4.104012171378754,3.792502132894111,3.4809920944094683,3.1694820559248256,2.857972017440183,2.5464619789555396,2.234951940470897,1.923441901986254,1.611931863501611,1.3004218250169681,1.3004218250169681],\"type\":\"scatter\"},{\"xaxis\":\"x\",\"fill\":\"tozeroy\",\"yaxis\":\"y\",\"x\":[1.5,1.5,1.5,1.5,1.5,1.5,1.5,1.5,1.5,1.5,1.5,1.5,1.5,1.5,1.5,1.5,1.5,1.5,1.5,1.5,1.5,1.5,1.5,1.5,1.5,1.5,1.5,1.5,1.5,1.5,1.5,1.5,1.5,1.5,1.5,1.5,1.5,1.5,1.5,1.5,1.5,1.5,1.5,1.5,1.5,1.5,1.5,1.5,1.5,1.5,1.5,1.5,1.5,1.5,1.5,1.5,1.5,1.5,1.5,1.5,1.5,1.5,1.5,1.5,1.5,1.5,1.5,1.5,1.5,1.5,1.5,1.5,1.5,1.5,1.5,1.5,1.5,1.5,1.5,1.5,1.5,1.5,1.5,1.5,1.5,1.5,1.5,1.5,1.5,1.5,1.5,1.5,1.5,1.5,1.5,1.5,1.5,1.5,1.5,1.5,1.5,1.5,1.5,1.5,1.5,1.5,1.5,1.5,1.5,1.5,1.5,1.5,1.5,1.5,1.5,1.5,1.5,1.5,1.5,1.5,1.5,1.5,1.5,1.5,1.5,1.5,1.5,1.5,1.5,1.5,1.5,1.5,1.5,1.5,1.5,1.5,1.5,1.5,1.5,1.5,1.5,1.5,1.5,1.5,1.5,1.5,1.5,1.5,1.5,1.5,1.5,1.5,1.5,1.5,1.5,1.5,1.5,1.5,1.5,1.5,1.5,1.5,1.5,1.5,1.5,1.5,1.49914398135377,1.499144224752469,1.49917608538973,1.4992296980836946,1.4992932140363144,1.4993560012008122,1.4994110611975235,1.4994559767935922,1.4994923084810499,1.4995238943076181,1.4995547767501747,1.4995874458412004,1.4996218451229948,1.499655282934848,1.499683141190238,1.4997001226751117,1.499701712773646,1.4996855186480613,1.4996521697136833,1.499605526560143,1.4995520718752757,1.499499548818852,1.4994551319976364,1.4994235904295707,1.4994059536432842,1.499399082100042,1.4993962957161664,1.4993889111418108,1.4993682841961506,1.499327831442018,1.4992645433173122,1.4991796689572077,1.4990784775021346,1.4989692046785574,1.498861427729265,1.4987641714240536,1.4986840615138277,1.498623841835766,1.4985815628217003,1.498550701093316,1.498521334144224,1.4984822481597293,1.498423543561641,1.4983390391802953,1.498227713483536,1.498093662624897,1.4979445680384131,1.4977892548912042,1.497635298288056,1.4974875714973253,1.49734812231,1.4972170619554561,1.4970936423213574,1.4969766732954208,1.4968639041423397,1.4967506802368744,1.4966286908559268,1.496485670701265,1.4963065057657754,1.496075565632652,1.4957795613897136,1.4954100327325066,1.494964731818256,1.4944475673045665,1.4938672120530103,1.493234812299859,1.492561399467556,1.4918556075537126,1.4911221818395473,1.4903615666786516,1.4895706040577954,1.488744084955689,1.4878766249621744,1.4869641733746062,1.4860045098704313,1.4849963877183212,1.48393749968871,1.4828220074887413,1.4816387490818448,1.4803712053384932,1.47899978955617,1.4775061533650626,1.475878309316242,1.4741148558606245,1.4722267385234298,1.4702357945423388,1.4681704947506187,1.4660603250828441,1.4639307117797493,1.4618001273027614,1.4596801740025096,1.4575783872022081,1.455502602622351,1.4534652545528175,1.451486027220387,1.4495918680431235,1.4478143574901174,1.4461855186659294,1.4447338883147762,1.4434826147900461,1.4424503466516438,1.4416540944796856,1.441111905313129,1.4408429331990107,1.440863650624567,1.4411810305366188,1.4417854255316416,1.4426464823865892,1.4437143383338051,1.4449260771268817,1.4462151516713388,1.4475203633409122,1.4487915416910253,1.4499909196354588,1.451091324217792,1.4520735930225326,1.4529254786069867,1.4536429269300037,1.454232880931298,1.4547156717992606,1.4551251619142909,1.455505887949789,1.4559077635626032,1.456379675560333,1.4569632688623686,1.4576876714091915,1.4585654198258688,1.459589752557339,1.4607336328774267,1.461950954169719,1.4631800624193387,1.4643490736583993,1.4653818603940052,1.4662034433566542,1.4667439672096025,1.4669411774165269,1.4667418393872769,1.4661024252489379,1.4649885666503744,1.463371606882238,1.4612197800265783,1.4584818372711348,1.4550627579620132,1.4507943487614334,1.4454071728765925,1.4385129930801923,1.429607401257274,1.4180998560201374,1.4033734258116646,1.3848707238536864,1.362197812840102,1.3352355091166737,1.3042471587427038,1.2699716514219752,1.233687932494496,1.197231953709952,1.1629414015062542,1.1335032326572079,1.1116903690987916,1.1,1.100242859350273,1.1131682429252134,1.1382260647060534,1.1735506378692673,1.2161990233201068,1.262604437610169,1.5],\"showlegend\":false,\"mode\":\"lines\",\"fillcolor\":\"rgba(0, 154, 250, 1.000)\",\"name\":\"streak A\",\"line\":{\"color\":\"rgba(0, 154, 250, 1.000)\",\"dash\":\"solid\",\"width\":1},\"y\":[1.0499444802348759,1.3644906077471803,1.6790367352594848,1.9935828627717895,2.3081289902840942,2.6226751177963985,2.937221245308703,3.251767372821008,3.5663135003333126,3.8808596278456173,4.195405755357922,4.509951882870226,4.824498010382531,5.139044137894835,5.45359026540714,5.768136392919445,6.082682520431749,6.397228647944054,6.711774775456359,7.0263209029686635,7.340867030480967,7.655413157993272,7.969959285505577,8.284505413017882,8.599051540530185,8.91359766804249,9.228143795554795,9.5426899230671,9.857236050579404,10.171782178091709,10.486328305604014,10.800874433116318,11.115420560628623,11.429966688140928,11.744512815653232,12.059058943165537,12.373605070677842,12.688151198190146,13.002697325702451,13.317243453214754,13.631789580727059,13.946335708239364,14.260881835751668,14.575427963263973,14.889974090776278,15.204520218288582,15.519066345800887,15.833612473313192,16.148158600825496,16.4627047283378,16.777250855850106,17.09179698336241,17.406343110874715,17.72088923838702,18.035435365899325,18.34998149341163,18.664527620923934,18.97907374843624,19.293619875948544,19.60816600346085,19.922712130973153,20.237258258485458,20.551804385997762,20.866350513510064,21.18089664102237,21.495442768534673,21.809988896046978,22.124535023559282,22.439081151071587,22.753627278583892,23.068173406096196,23.3827195336085,23.697265661120806,24.01181178863311,24.326357916145415,24.64090404365772,24.955450171170025,25.26999629868233,25.584542426194634,25.89908855370694,26.213634681219244,26.52818080873155,26.842726936243853,27.157273063756158,27.471819191268462,27.786365318780767,28.100911446293072,28.415457573805377,28.73000370131768,29.044549828829986,29.35909595634229,29.673642083854595,29.9881882113669,30.302734338879205,30.61728046639151,30.931826593903814,31.246372721416115,31.56091884892842,31.875464976440725,32.19001110395303,32.504557231465334,32.81910335897764,33.133649486489944,33.44819561400225,33.76274174151455,34.07728786902686,34.39183399653916,34.70638012405147,35.02092625156377,35.33547237907608,35.65001850658838,35.96456463410068,36.27911076161299,36.59365688912529,36.9082030166376,37.2227491441499,37.53729527166221,37.85184139917451,38.16638752668682,38.48093365419912,38.79547978171143,39.11002590922373,39.42457203673604,39.73911816424834,40.05366429176065,40.36821041927295,40.68275654678526,40.99730267429756,41.311848801809866,41.62639492932217,41.940941056834475,42.25548718434678,42.570033311859085,42.884579439371386,43.199125566883694,43.513671694395995,43.828217821908304,44.142763949420605,44.45731007693291,44.771856204445214,45.08640233195752,45.400948459469824,45.71549458698213,46.03004071449443,46.344586842006734,46.65913296951904,46.973679097031344,47.28822522454365,47.60277135205595,47.91731747956826,48.23186360708056,48.54640973459287,48.86095586210517,49.17550198961748,49.49004811712978,49.80459424464209,50.11914037215439,50.4336864996667,50.748232627179,51.06277875469131,51.37732488220361,51.69187100971592,52.00641713722822,52.32096326474053,52.63550939225283,52.95005551976514,52.95005551976514,52.63550939225283,52.32096326474053,52.00641713722822,51.69187100971592,51.37732488220361,51.06277875469131,50.748232627179,50.4336864996667,50.11914037215439,49.80459424464209,49.49004811712978,49.17550198961748,48.86095586210517,48.54640973459287,48.23186360708056,47.91731747956826,47.60277135205595,47.28822522454365,46.973679097031344,46.65913296951904,46.344586842006734,46.03004071449443,45.71549458698213,45.400948459469824,45.08640233195752,44.771856204445214,44.45731007693291,44.142763949420605,43.828217821908304,43.513671694395995,43.199125566883694,42.884579439371386,42.570033311859085,42.25548718434678,41.940941056834475,41.62639492932217,41.311848801809866,40.99730267429756,40.68275654678526,40.36821041927295,40.05366429176065,39.73911816424834,39.42457203673604,39.11002590922373,38.79547978171143,38.48093365419912,38.16638752668682,37.85184139917451,37.53729527166221,37.2227491441499,36.9082030166376,36.59365688912529,36.27911076161299,35.96456463410068,35.65001850658838,35.33547237907608,35.02092625156377,34.70638012405147,34.39183399653916,34.07728786902686,33.76274174151455,33.44819561400225,33.133649486489944,32.81910335897764,32.504557231465334,32.19001110395303,31.875464976440725,31.56091884892842,31.246372721416115,30.931826593903814,30.61728046639151,30.302734338879205,29.9881882113669,29.673642083854595,29.35909595634229,29.044549828829986,28.73000370131768,28.415457573805377,28.100911446293072,27.786365318780767,27.471819191268462,27.157273063756158,26.842726936243853,26.52818080873155,26.213634681219244,25.89908855370694,25.584542426194634,25.26999629868233,24.955450171170025,24.64090404365772,24.326357916145415,24.01181178863311,23.697265661120806,23.3827195336085,23.068173406096196,22.753627278583892,22.439081151071587,22.124535023559282,21.809988896046978,21.495442768534673,21.18089664102237,20.866350513510064,20.551804385997762,20.237258258485458,19.922712130973153,19.60816600346085,19.293619875948544,18.97907374843624,18.664527620923934,18.34998149341163,18.035435365899325,17.72088923838702,17.406343110874715,17.09179698336241,16.777250855850106,16.4627047283378,16.148158600825496,15.833612473313192,15.519066345800887,15.204520218288582,14.889974090776278,14.575427963263973,14.260881835751668,13.946335708239364,13.631789580727059,13.317243453214754,13.002697325702451,12.688151198190146,12.373605070677842,12.059058943165537,11.744512815653232,11.429966688140928,11.115420560628623,10.800874433116318,10.486328305604014,10.171782178091709,9.857236050579404,9.5426899230671,9.228143795554795,8.91359766804249,8.599051540530185,8.284505413017882,7.969959285505577,7.655413157993272,7.340867030480967,7.0263209029686635,6.711774775456359,6.397228647944054,6.082682520431749,5.768136392919445,5.45359026540714,5.139044137894835,4.824498010382531,4.509951882870226,4.195405755357922,3.8808596278456173,3.5663135003333126,3.251767372821008,2.937221245308703,2.6226751177963985,2.3081289902840942,1.9935828627717895,1.6790367352594848,1.3644906077471803,1.0499444802348759,1.0499444802348759],\"type\":\"scatter\"},{\"xaxis\":\"x\",\"fill\":\"tozeroy\",\"yaxis\":\"y\",\"x\":[2.5,2.5,2.5,2.5,2.5,2.5,2.5,2.5,2.5,2.5,2.5,2.5,2.5,2.5,2.5,2.5,2.5,2.5,2.5,2.5,2.5,2.5,2.5,2.5,2.5,2.5,2.5,2.5,2.5,2.5,2.5,2.5,2.5,2.5,2.5,2.5,2.5,2.5,2.5,2.5,2.5,2.5,2.5,2.5,2.5,2.5,2.5,2.5,2.5,2.5,2.5,2.5,2.5,2.5,2.5,2.5,2.5,2.5,2.5,2.5,2.5,2.5,2.5,2.5,2.5,2.5,2.5,2.5,2.5,2.5,2.5,2.5,2.5,2.5,2.5,2.5,2.5,2.5,2.5,2.5,2.5,2.5,2.5,2.5,2.5,2.5,2.5,2.5,2.5,2.5,2.5,2.5,2.5,2.5,2.5,2.5,2.5,2.5,2.5,2.5,2.5,2.5,2.5,2.5,2.5,2.5,2.5,2.5,2.5,2.5,2.5,2.5,2.5,2.5,2.5,2.5,2.5,2.5,2.5,2.5,2.5,2.5,2.5,2.5,2.5,2.5,2.5,2.5,2.5,2.5,2.5,2.5,2.5,2.5,2.5,2.5,2.5,2.5,2.5,2.5,2.5,2.5,2.5,2.5,2.5,2.5,2.5,2.5,2.5,2.5,2.5,2.5,2.5,2.5,2.5,2.5,2.5,2.5,2.5,2.5,2.5,2.5,2.5,2.5,2.5,2.5,2.5,2.5,2.4991906269624016,2.49920561773062,2.4992601941994974,2.4993429335321777,2.4994388450110865,2.4995327583921987,2.4996120224455423,2.4996679857368216,2.4996963430386834,2.4996967826254606,2.499672367234815,2.499628855067054,2.499573933565243,2.4995162517479494,2.4994642190006635,2.4994247040839603,2.499401897702229,2.4993966136981256,2.499406194260693,2.499425020166292,2.4994454953274006,2.4994593221037005,2.499458885894959,2.4994385606589717,2.499395698454178,2.4993310240347197,2.499248222490053,2.499152744949905,2.499050195617503,2.4989449123865732,2.4988393231321315,2.4987343120152823,2.4986303326593773,2.4985286348731313,2.498431933899375,2.4983441506263597,2.4982693051158256,2.498210013908861,2.4981661682026006,2.498134247861623,2.498107464465785,2.4980766670633696,2.4980317825366805,2.497963509380128,2.4978649804968702,2.4977330894292407,2.497569130358572,2.4973784219382216,2.497168789106804,2.496948195276307,2.4967222922761976,2.4964928834408138,2.496258023278557,2.4960137306105685,2.4957564382699884,2.4954848542345482,2.4952001812757096,2.494904516163735,2.494598233268992,2.4942777011634822,2.493934513630569,2.493556676925057,2.493131303024462,2.4926477533888205,2.4921000959940716,2.4914881315722277,2.4908168447526005,2.490094619839593,2.489330741075521,2.4885326270136225,2.4877031644286247,2.4868386138494585,2.485927808995604,2.484953440983189,2.4838957489322486,2.482737905644423,2.481471265468496,2.4800981861568347,2.478630872325822,2.477086472076276,2.4754806490755046,2.4738229344585663,2.4721165686152444,2.4703633238701275,2.468570915747215,2.466758577035915,2.464956532040459,2.4631978215319092,2.461505086562577,2.4598783143766463,2.4582900756234767,2.456691814680067,2.455029714612373,2.4532642274968013,2.451385835768364,2.4494215537864132,2.4474307792570773,2.4454931865444185,2.4436936882529054,2.4421095231274057,2.440802771557589,2.439819056778023,2.4391908174008643,2.4389420214549222,2.439090938182495,2.439648693334696,2.4406134850321908,2.441962713031472,2.4436467747006687,2.445588067890426,2.4476868101518874,2.4498325964739966,2.4519185659424694,2.453854564436228,2.4555766693367347,2.4570519393112864,2.45827830665244,2.459279909057732,2.4600983975329993,2.460781485444891,2.4613711842807176,2.4618949799210643,2.4623626904716946,2.4627697280122827,2.4631048637465116,2.4633588041024,2.463529903105443,2.4636250466936027,2.46365609559117,2.4636340266232293,2.463563373354104,2.4634388332436457,2.4632446137630772,2.4629559432797845,2.4625416090264065,2.461966458923636,2.461193285405859,2.4601840606777254,2.4589008331033213,2.4573065857246306,2.4553660106455677,2.4530455844655967,2.4503117211177616,2.4471253529351547,2.4434313018886433,2.4391414917052763,2.434112548108794,2.4281205292139068,2.4208380074762297,2.4118208742599916,2.400513504157099,2.386281025289823,2.3684763137344387,2.346546637507189,2.3201796225103393,2.2894789486675444,2.2551461934338395,2.2186283129821325,2.1821759218931094,2.148754507773006,2.121767887904136,2.1045947915611865,2.1,2.109543507669588,2.133148194005497,2.168973152437437,2.213666711214211,2.262958444062524,2.5],\"showlegend\":false,\"mode\":\"lines\",\"fillcolor\":\"rgba(0, 154, 250, 1.000)\",\"name\":\"streak A\",\"line\":{\"color\":\"rgba(0, 154, 250, 1.000)\",\"dash\":\"solid\",\"width\":1},\"y\":[1.1364201870647808,1.452151681830472,1.7678831765961633,2.0836146713618544,2.399346166127546,2.715077660893237,3.030809155658928,3.3465406504246196,3.6622721451903106,3.9780036399560017,4.293735134721693,4.609466629487384,4.925198124253075,5.240929619018766,5.556661113784458,5.872392608550149,6.1881241033158405,6.503855598081532,6.819587092847223,7.135318587612915,7.451050082378606,7.766781577144297,8.082513071909988,8.398244566675679,8.71397606144137,9.029707556207061,9.345439050972752,9.661170545738445,9.976902040504136,10.292633535269827,10.608365030035518,10.92409652480121,11.2398280195669,11.555559514332591,11.871291009098282,12.187022503863973,12.502753998629665,12.818485493395356,13.134216988161048,13.44994848292674,13.76567997769243,14.081411472458122,14.397142967223813,14.712874461989504,15.028605956755195,15.344337451520886,15.660068946286577,15.975800441052268,16.29153193581796,16.60726343058365,16.922994925349343,17.238726420115032,17.554457914880725,17.870189409646414,18.185920904412107,18.5016523991778,18.81738389394349,19.133115388709182,19.44884688347487,19.764578378240564,20.080309873006254,20.396041367771947,20.711772862537636,21.02750435730333,21.34323585206902,21.65896734683471,21.974698841600404,22.290430336366093,22.606161831131786,22.921893325897475,23.237624820663168,23.553356315428857,23.86908781019455,24.18481930496024,24.500550799725932,24.816282294491625,25.132013789257314,25.447745284023007,25.763476778788696,26.07920827355439,26.39493976832008,26.71067126308577,27.02640275785146,27.342134252617154,27.657865747382843,27.973597242148536,28.28932873691423,28.605060231679918,28.92079172644561,29.2365232212113,29.552254715976993,29.867986210742682,30.183717705508375,30.499449200274064,30.815180695039757,31.130912189805446,31.44664368457114,31.762375179336832,32.07810667410252,32.393838168868214,32.70956966363391,33.02530115839959,33.341032653165286,33.65676414793098,33.97249564269667,34.28822713746236,34.60395863222805,34.91969012699374,35.235421621759436,35.55115311652513,35.866884611290814,36.18261610605651,36.4983476008222,36.81407909558789,37.12981059035358,37.44554208511927,37.761273579884964,38.07700507465066,38.39273656941635,38.708468064182036,39.02419955894773,39.33993105371342,39.655662548479114,39.9713940432448,40.28712553801049,40.602857032776186,40.91858852754188,41.234320022307564,41.55005151707326,41.86578301183895,42.18151450660464,42.497246001370335,42.81297749613602,43.128708990901714,43.44444048566741,43.7601719804331,44.075903475198785,44.39163496996448,44.70736646473017,45.023097959495864,45.33882945426156,45.65456094902724,45.970292443792935,46.28602393855863,46.60175543332432,46.91748692809001,47.2332184228557,47.54894991762139,47.864681412387085,48.18041290715277,48.496144401918464,48.81187589668416,49.12760739144985,49.44333888621554,49.75907038098123,50.07480187574692,50.390533370512614,50.70626486527831,51.02199636004399,51.337727854809685,51.65345934957538,51.96919084434107,52.284922339106764,52.60065383387245,52.91638532863814,53.232116823403835,53.54784831816953,53.863579812935214,53.863579812935214,53.54784831816953,53.232116823403835,52.91638532863814,52.60065383387245,52.284922339106764,51.96919084434107,51.65345934957538,51.337727854809685,51.02199636004399,50.70626486527831,50.390533370512614,50.07480187574692,49.75907038098123,49.44333888621554,49.12760739144985,48.81187589668416,48.496144401918464,48.18041290715277,47.864681412387085,47.54894991762139,47.2332184228557,46.91748692809001,46.60175543332432,46.28602393855863,45.970292443792935,45.65456094902724,45.33882945426156,45.023097959495864,44.70736646473017,44.39163496996448,44.075903475198785,43.7601719804331,43.44444048566741,43.128708990901714,42.81297749613602,42.497246001370335,42.18151450660464,41.86578301183895,41.55005151707326,41.234320022307564,40.91858852754188,40.602857032776186,40.28712553801049,39.9713940432448,39.655662548479114,39.33993105371342,39.02419955894773,38.708468064182036,38.39273656941635,38.07700507465066,37.761273579884964,37.44554208511927,37.12981059035358,36.81407909558789,36.4983476008222,36.18261610605651,35.866884611290814,35.55115311652513,35.235421621759436,34.91969012699374,34.60395863222805,34.28822713746236,33.97249564269667,33.65676414793098,33.341032653165286,33.02530115839959,32.70956966363391,32.393838168868214,32.07810667410252,31.762375179336832,31.44664368457114,31.130912189805446,30.815180695039757,30.499449200274064,30.183717705508375,29.867986210742682,29.552254715976993,29.2365232212113,28.92079172644561,28.605060231679918,28.28932873691423,27.973597242148536,27.657865747382843,27.342134252617154,27.02640275785146,26.71067126308577,26.39493976832008,26.07920827355439,25.763476778788696,25.447745284023007,25.132013789257314,24.816282294491625,24.500550799725932,24.18481930496024,23.86908781019455,23.553356315428857,23.237624820663168,22.921893325897475,22.606161831131786,22.290430336366093,21.974698841600404,21.65896734683471,21.34323585206902,21.02750435730333,20.711772862537636,20.396041367771947,20.080309873006254,19.764578378240564,19.44884688347487,19.133115388709182,18.81738389394349,18.5016523991778,18.185920904412107,17.870189409646414,17.554457914880725,17.238726420115032,16.922994925349343,16.60726343058365,16.29153193581796,15.975800441052268,15.660068946286577,15.344337451520886,15.028605956755195,14.712874461989504,14.397142967223813,14.081411472458122,13.76567997769243,13.44994848292674,13.134216988161048,12.818485493395356,12.502753998629665,12.187022503863973,11.871291009098282,11.555559514332591,11.2398280195669,10.92409652480121,10.608365030035518,10.292633535269827,9.976902040504136,9.661170545738445,9.345439050972752,9.029707556207061,8.71397606144137,8.398244566675679,8.082513071909988,7.766781577144297,7.451050082378606,7.135318587612915,6.819587092847223,6.503855598081532,6.1881241033158405,5.872392608550149,5.556661113784458,5.240929619018766,4.925198124253075,4.609466629487384,4.293735134721693,3.9780036399560017,3.6622721451903106,3.3465406504246196,3.030809155658928,2.715077660893237,2.399346166127546,2.0836146713618544,1.7678831765961633,1.452151681830472,1.1364201870647808,1.1364201870647808],\"type\":\"scatter\"},{\"xaxis\":\"x\",\"fill\":\"tozeroy\",\"yaxis\":\"y\",\"x\":[3.5,3.5,3.5,3.5,3.5,3.5,3.5,3.5,3.5,3.5,3.5,3.5,3.5,3.5,3.5,3.5,3.5,3.5,3.5,3.5,3.5,3.5,3.5,3.5,3.5,3.5,3.5,3.5,3.5,3.5,3.5,3.5,3.5,3.5,3.5,3.5,3.5,3.5,3.5,3.5,3.5,3.5,3.5,3.5,3.5,3.5,3.5,3.5,3.5,3.5,3.5,3.5,3.5,3.5,3.5,3.5,3.5,3.5,3.5,3.5,3.5,3.5,3.5,3.5,3.5,3.5,3.5,3.5,3.5,3.5,3.5,3.5,3.5,3.5,3.5,3.5,3.5,3.5,3.5,3.5,3.5,3.5,3.5,3.5,3.5,3.5,3.5,3.5,3.5,3.5,3.5,3.5,3.5,3.5,3.5,3.5,3.5,3.5,3.5,3.5,3.5,3.5,3.5,3.5,3.5,3.5,3.5,3.5,3.5,3.5,3.5,3.5,3.5,3.5,3.5,3.5,3.5,3.5,3.5,3.5,3.5,3.5,3.5,3.5,3.5,3.5,3.5,3.5,3.5,3.5,3.5,3.5,3.5,3.5,3.5,3.5,3.5,3.5,3.5,3.5,3.5,3.5,3.5,3.5,3.5,3.5,3.5,3.5,3.5,3.5,3.5,3.5,3.5,3.5,3.5,3.5,3.5,3.5,3.5,3.5,3.5,3.5,3.5,3.5,3.5,3.5,3.496387079049863,3.496480774595505,3.496721100592946,3.497060071460827,3.4974409813077583,3.497810712526784,3.4981287900822315,3.4983716140202974,3.4985321776024083,3.498616703386615,3.49863986814122,3.498619967769545,3.4985749000282436,3.498519427624837,3.4984638409042175,3.4984138367136826,3.4983712072777347,3.498334874170274,3.498301930300817,3.4982685704129928,3.4982309406791035,3.498185926792303,3.4981317729694634,3.4980683265642254,3.497996759091833,3.4979188270582764,3.4978359802721615,3.497748736772758,3.497656630977205,3.4975587503534187,3.497454565468717,3.497344611364997,3.4972306898821452,3.4971155712412787,3.497002482326271,3.4968947633363943,3.4967958702168755,3.496709526482177,3.496639561415967,3.496589049520588,3.4965588029769417,3.4965458165111474,3.4965425575027522,3.4965377887325855,3.4965189495582396,3.4964753238098933,3.49640071427848,3.4962944250033527,3.496160036968345,3.4960024547552675,3.495824527092275,3.4956247792162283,3.495397288983735,3.4951337136302705,3.494826432243584,3.494471244300875,3.494068343385769,3.493621242145535,3.4931344618836677,3.49261148519548,3.492054275220888,3.4914646456172846,3.4908464946157465,3.49020719392582,3.489556774266072,3.488904832555158,3.488256520410689,3.487609630904406,3.486954241492474,3.486274960421537,3.4855544751662797,3.4847766402077567,3.4839279602135473,3.482997508171408,3.481976247165133,3.480856834788927,3.479634305331246,3.4783070949205546,3.4768773902023673,3.4753501237478104,3.4737309146087463,3.472024176139151,3.470232746677638,3.468359497192639,3.46640996043407,3.4643941304174968,3.4623259850973414,3.4602208670626604,3.4580925493466337,3.4559523303969666,3.4538113293514905,3.4516850106124175,3.4495973370413573,3.4475819999684614,3.4456798992972595,3.4439342896969487,3.4423862840785726,3.441072903611813,3.440027930743309,3.43928367737377,3.4388707520344264,3.43881368670372,3.4391225657738778,3.4397834563562664,3.44075206739944,3.4419546862857873,3.443298014254935,3.4446860063071902,3.4460387457113777,3.447307133017126,3.448478355585836,3.4495703017010344,3.4506170276865737,3.4516505131226984,3.4526850484340446,3.453709357443542,3.454688601708696,3.455574995688184,3.456323133399632,3.45690501925313,3.457320268116953,3.4575985910214437,3.457793966268886,3.4579722777062343,3.458196125364516,3.4585113625702943,3.458939199850306,3.459475464690882,3.4600956228496407,3.460761827717157,3.4614278019658906,3.4620390676927295,3.4625290118937495,3.4628138742406103,3.4627905896468563,3.4623401332434165,3.461336327180489,3.4596572741687655,3.457194833179202,3.4538574067429053,3.449562704686609,3.44421964095897,3.4377015399997375,3.4298158288171554,3.4202778828003235,3.408698259559023,3.3945928674982127,3.377424444617487,3.3566808953674725,3.331991337994637,3.303273824703428,3.270899275825042,3.235844380725175,3.199793732778838,3.165142596158525,3.1348536000589373,3.112141157280475,3.1,3.100652030005191,3.1150388654519365,3.1425087423238804,3.180814830090278,3.2264581822775953,3.275300485237412,3.323284198721612,3.3670689687610675,3.5],\"showlegend\":false,\"mode\":\"lines\",\"fillcolor\":\"rgba(0, 154, 250, 1.000)\",\"name\":\"streak A\",\"line\":{\"color\":\"rgba(0, 154, 250, 1.000)\",\"dash\":\"solid\",\"width\":1},\"y\":[0.2747052605914468,0.5925876210691262,0.9104699815468056,1.228352342024485,1.5462347025021645,1.8641170629798438,2.1819994234575235,2.4998817839352028,2.817764144412882,3.1356465048905617,3.453528865368241,3.7714112258459203,4.0892935863236,4.40717594680128,4.7250583072789585,5.042940667756638,5.360823028234318,5.678705388711997,5.996587749189676,6.314470109667356,6.632352470145035,6.950234830622715,7.268117191100394,7.585999551578073,7.903881912055753,8.221764272533433,8.539646633011111,8.857528993488792,9.17541135396647,9.49329371444415,9.81117607492183,10.129058435399509,10.446940795877188,10.764823156354868,11.082705516832547,11.400587877310226,11.718470237787907,12.036352598265585,12.354234958743264,12.672117319220945,12.989999679698624,13.307882040176302,13.625764400653983,13.943646761131662,14.26152912160934,14.579411482087021,14.8972938425647,15.215176203042379,15.53305856352006,15.850940923997738,16.16882328447542,16.486705644953098,16.804588005430777,17.122470365908455,17.440352726386134,17.758235086863817,18.076117447341495,18.393999807819174,18.711882168296853,19.029764528774532,19.34764688925221,19.665529249729893,19.983411610207572,20.30129397068525,20.61917633116293,20.93705869164061,21.25494105211829,21.57282341259597,21.89070577307365,22.208588133551327,22.526470494029006,22.844352854506685,23.162235214984367,23.480117575462046,23.797999935939725,24.115882296417404,24.433764656895082,24.75164701737276,25.069529377850444,25.387411738328122,25.7052940988058,26.02317645928348,26.34105881976116,26.658941180238838,26.97682354071652,27.2947059011942,27.612588261671878,27.930470622149556,28.248352982627235,28.566235343104914,28.884117703582596,29.202000064060275,29.519882424537954,29.837764785015633,30.15564714549331,30.473529505970994,30.791411866448673,31.10929422692635,31.42717658740403,31.74505894788171,32.06294130835939,32.38082366883707,32.69870602931475,33.016588389792425,33.33447075027011,33.65235311074779,33.970235471225465,34.28811783170315,34.60600019218082,34.923882552658505,35.24176491313619,35.55964727361386,35.877529634091545,36.19541199456922,36.5132943550469,36.83117671552458,37.14905907600226,37.46694143647994,37.78482379695762,38.1027061574353,38.420588517912975,38.73847087839066,39.05635323886834,39.374235599346015,39.6921179598237,40.01000032030137,40.327882680779055,40.64576504125674,40.96364740173441,41.281529762212095,41.59941212268977,41.91729448316745,42.23517684364513,42.55305920412281,42.87094156460049,43.18882392507817,43.50670628555585,43.824588646033526,44.14247100651121,44.46035336698889,44.778235727466566,45.09611808794425,45.41400044842192,45.731882808899606,46.04976516937728,46.36764752985496,46.685529890332646,47.00341225081032,47.321294611288,47.63917697176568,47.95705933224336,48.27494169272104,48.59282405319872,48.9107064136764,49.228588774154076,49.54647113463176,49.864353495109434,50.182235855587116,50.5001182160648,50.818000576542474,51.135882937020156,51.45376529749783,51.771647657975514,52.089530018453196,52.40741237893087,52.725294739408554,52.725294739408554,52.40741237893087,52.089530018453196,51.771647657975514,51.45376529749783,51.135882937020156,50.818000576542474,50.5001182160648,50.182235855587116,49.864353495109434,49.54647113463176,49.228588774154076,48.9107064136764,48.59282405319872,48.27494169272104,47.95705933224336,47.63917697176568,47.321294611288,47.00341225081032,46.685529890332646,46.36764752985496,46.04976516937728,45.731882808899606,45.41400044842192,45.09611808794425,44.778235727466566,44.46035336698889,44.14247100651121,43.824588646033526,43.50670628555585,43.18882392507817,42.87094156460049,42.55305920412281,42.23517684364513,41.91729448316745,41.59941212268977,41.281529762212095,40.96364740173441,40.64576504125674,40.327882680779055,40.01000032030137,39.6921179598237,39.374235599346015,39.05635323886834,38.73847087839066,38.420588517912975,38.1027061574353,37.78482379695762,37.46694143647994,37.14905907600226,36.83117671552458,36.5132943550469,36.19541199456922,35.877529634091545,35.55964727361386,35.24176491313619,34.923882552658505,34.60600019218082,34.28811783170315,33.970235471225465,33.65235311074779,33.33447075027011,33.016588389792425,32.69870602931475,32.38082366883707,32.06294130835939,31.74505894788171,31.42717658740403,31.10929422692635,30.791411866448673,30.473529505970994,30.15564714549331,29.837764785015633,29.519882424537954,29.202000064060275,28.884117703582596,28.566235343104914,28.248352982627235,27.930470622149556,27.612588261671878,27.2947059011942,26.97682354071652,26.658941180238838,26.34105881976116,26.02317645928348,25.7052940988058,25.387411738328122,25.069529377850444,24.75164701737276,24.433764656895082,24.115882296417404,23.797999935939725,23.480117575462046,23.162235214984367,22.844352854506685,22.526470494029006,22.208588133551327,21.89070577307365,21.57282341259597,21.25494105211829,20.93705869164061,20.61917633116293,20.30129397068525,19.983411610207572,19.665529249729893,19.34764688925221,19.029764528774532,18.711882168296853,18.393999807819174,18.076117447341495,17.758235086863817,17.440352726386134,17.122470365908455,16.804588005430777,16.486705644953098,16.16882328447542,15.850940923997738,15.53305856352006,15.215176203042379,14.8972938425647,14.579411482087021,14.26152912160934,13.943646761131662,13.625764400653983,13.307882040176302,12.989999679698624,12.672117319220945,12.354234958743264,12.036352598265585,11.718470237787907,11.400587877310226,11.082705516832547,10.764823156354868,10.446940795877188,10.129058435399509,9.81117607492183,9.49329371444415,9.17541135396647,8.857528993488792,8.539646633011111,8.221764272533433,7.903881912055753,7.585999551578073,7.268117191100394,6.950234830622715,6.632352470145035,6.314470109667356,5.996587749189676,5.678705388711997,5.360823028234318,5.042940667756638,4.7250583072789585,4.40717594680128,4.0892935863236,3.7714112258459203,3.453528865368241,3.1356465048905617,2.817764144412882,2.4998817839352028,2.1819994234575235,1.8641170629798438,1.5462347025021645,1.228352342024485,0.9104699815468056,0.5925876210691262,0.2747052605914468,0.2747052605914468],\"type\":\"scatter\"},{\"xaxis\":\"x\",\"fill\":\"tozeroy\",\"yaxis\":\"y\",\"x\":[4.5,4.5,4.5,4.5,4.5,4.5,4.5,4.5,4.5,4.5,4.5,4.5,4.5,4.5,4.5,4.5,4.5,4.5,4.5,4.5,4.5,4.5,4.5,4.5,4.5,4.5,4.5,4.5,4.5,4.5,4.5,4.5,4.5,4.5,4.5,4.5,4.5,4.5,4.5,4.5,4.5,4.5,4.5,4.5,4.5,4.5,4.5,4.5,4.5,4.5,4.5,4.5,4.5,4.5,4.5,4.5,4.5,4.5,4.5,4.5,4.5,4.5,4.5,4.5,4.5,4.5,4.5,4.5,4.5,4.5,4.5,4.5,4.5,4.5,4.5,4.5,4.5,4.5,4.5,4.5,4.5,4.5,4.5,4.5,4.5,4.5,4.5,4.5,4.5,4.5,4.5,4.5,4.5,4.5,4.5,4.5,4.5,4.5,4.5,4.5,4.5,4.5,4.5,4.5,4.5,4.5,4.5,4.5,4.5,4.5,4.5,4.5,4.5,4.5,4.5,4.5,4.5,4.5,4.5,4.5,4.5,4.5,4.5,4.5,4.5,4.5,4.5,4.5,4.5,4.5,4.5,4.5,4.5,4.5,4.5,4.5,4.5,4.5,4.5,4.5,4.5,4.5,4.5,4.5,4.5,4.5,4.5,4.5,4.5,4.5,4.5,4.5,4.5,4.5,4.5,4.5,4.5,4.5,4.5,4.5,4.5,4.5,4.5,4.5,4.5,4.5,4.5,4.5,4.5,4.5,4.4998670794750915,4.499872107974579,4.49988511545892,4.499903190621729,4.499922489305933,4.499939115630102,4.499949801284581,4.499952246321872,4.499945195400602,4.499928421737928,4.499902735630837,4.499869996677142,4.499833010409043,4.499795211686106,4.499760162347814,4.499731021226511,4.499710176705901,4.499699135755505,4.4996986067461,4.499708610559821,4.499728478999207,4.499756728634174,4.499790931281928,4.499827737540193,4.4998631227158645,4.499892788284363,4.499912581836236,4.4999188579390825,4.499908842395335,4.499881144995712,4.499836467311246,4.499778279420845,4.499712970468538,4.499648968388283,4.499594715208903,4.499556039154419,4.499533987645146,4.499524168186013,4.499517989975784,4.499505259888577,4.499476959542302,4.499427130311781,4.499353527334603,4.499257517929635,4.499143982659142,4.499021521414753,4.498902444888837,4.49880154235398,4.498732969172323,4.4987056984866625,4.498719142168097,4.49876094269256,4.498808209865894,4.498832005275384,4.4988035155269355,4.49869982498797,4.498507643285452,4.4982243517774085,4.497856729533364,4.497418325408492,4.496926565776331,4.496400392312874,4.495858630881201,4.4953186097815845,4.494794125212565,4.494292078446466,4.493808101185653,4.493322825007306,4.492801257776444,4.492197188748529,4.491462579415801,4.4905594338886,4.48947010961645,4.4882023890954335,4.486787686601788,4.485273298319531,4.483711259133194,4.482146529570015,4.480606318924226,4.4790913782594926,4.477569922471935,4.475975521119368,4.474211006521219,4.472160049486474,4.469706045314436,4.466755069701526,4.463257532417933,4.459223137006516,4.454725897762778,4.449898984909319,4.4449214430054536,4.439999546111277,4.435345115544073,4.431152616151339,4.42757709336762,4.424715910121135,4.422597802698531,4.421181959494925,4.420367570594097,4.420011755702377,4.419952390107681,4.420032515344605,4.4201237634810715,4.420146196280103,4.420080842466791,4.419970191448368,4.419902858327525,4.4199827166135135,4.420289224727744,4.420841568995761,4.421580813273298,4.42237909351494,4.423074233564531,4.423516987082905,4.423612529142293,4.423340976269311,4.422751564927279,4.4219360042096785,4.420993224752862,4.419998586367426,4.418987193856586,4.4179556591828515,4.416880653195361,4.41574650399886,4.414569552144182,4.413406809211086,4.412342538305454,4.411456952799083,4.410790926233371,4.410323578862945,4.409973678887101,4.409624116809404,4.409157636706911,4.40848706335423,4.407566252832064,4.406376833016436,4.404896307958779,4.403061062730775,4.400740394174349,4.397734253522217,4.3937996198729925,4.388701560207131,4.382278002023153,4.37450308236748,4.365532068248405,4.3557111951759815,4.345540225653112,4.335586290627979,4.326363373250171,4.318206147981952,4.31117151613039,4.304992393028349,4.29909060940261,4.292639194229193,4.284657634822215,4.274129271823459,4.260142655036464,4.242068629841752,4.219781798302165,4.193912320298298,4.166073463055796,4.13896543914342,4.1162332208871195,4.101987262701917,4.1,4.112746886800895,4.140597476238996,4.1814861137790995,4.231251169245881,4.284570906119221,4.5],\"showlegend\":false,\"mode\":\"lines\",\"fillcolor\":\"rgba(0, 154, 250, 1.000)\",\"name\":\"streak A\",\"line\":{\"color\":\"rgba(0, 154, 250, 1.000)\",\"dash\":\"solid\",\"width\":1},\"y\":[1.0180663746867906,1.3018762400751127,1.5856861054634348,1.869495970851757,2.153305836240079,2.437115701628401,2.7209255670167227,3.004735432405045,3.288545297793367,3.572355163181689,3.856165028570011,4.139974893958333,4.423784759346655,4.707594624734977,4.9914044901232995,5.275214355511621,5.559024220899944,5.842834086288265,6.126643951676587,6.4104538170649095,6.694263682453231,6.978073547841554,7.261883413229875,7.545693278618198,7.8295031440065195,8.113313009394842,8.397122874783163,8.680932740171485,8.964742605559808,9.24855247094813,9.532362336336451,9.816172201724774,10.099982067113096,10.383791932501417,10.66760179788974,10.951411663278062,11.235221528666385,11.519031394054705,11.802841259443028,12.08665112483135,12.370460990219673,12.654270855607994,12.938080720996316,13.221890586384639,13.50570045177296,13.789510317161282,14.073320182549605,14.357130047937927,14.640939913326248,14.92474977871457,15.208559644102893,15.492369509491214,15.776179374879536,16.059989240267857,16.34379910565618,16.627608971044502,16.911418836432826,17.195228701821147,17.479038567209468,17.762848432597792,18.046658297986113,18.330468163374434,18.614278028762758,18.89808789415108,19.1818977595394,19.465707624927724,19.749517490316045,20.033327355704365,20.31713722109269,20.60094708648101,20.884756951869335,21.168566817257656,21.452376682645976,21.7361865480343,22.01999641342262,22.303806278810942,22.587616144199266,22.871426009587587,23.155235874975908,23.439045740364232,23.722855605752553,24.006665471140877,24.290475336529198,24.57428520191752,24.858095067305843,25.141904932694164,25.425714798082485,25.70952466347081,25.99333452885913,26.27714439424745,26.560954259635775,26.844764125024096,27.128573990412416,27.41238385580074,27.69619372118906,27.980003586577386,28.263813451965706,28.547623317354027,28.83143318274235,29.115243048130672,29.399052913518993,29.682862778907317,29.966672644295638,30.25048250968396,30.534292375072283,30.818102240460604,31.101912105848925,31.38572197123725,31.66953183662557,31.953341702013894,32.237151567402215,32.520961432790536,32.804771298178856,33.088581163567184,33.372391028955505,33.656200894343826,33.94001075973215,34.22382062512047,34.50763049050879,34.791440355897116,35.07525022128544,35.35906008667376,35.64286995206208,35.9266798174504,36.21048968283872,36.49429954822705,36.77810941361537,37.06191927900369,37.34572914439201,37.62953900978033,37.91334887516866,38.19715874055698,38.4809686059453,38.76477847133362,39.04858833672194,39.33239820211026,39.61620806749859,39.90001793288691,40.18382779827523,40.46763766366355,40.75144752905187,41.0352573944402,41.31906725982852,41.60287712521684,41.88668699060516,42.170496855993484,42.454306721381805,42.73811658677013,43.02192645215845,43.305736317546774,43.589546182935095,43.873356048323416,44.157165913711744,44.440975779100064,44.724785644488385,45.008595509876706,45.29240537526503,45.57621524065335,45.860025106041675,46.143834971429996,46.42764483681832,46.71145470220664,46.99526456759496,47.27907443298328,47.56288429837161,47.84669416375993,48.13050402914825,48.41431389453657,48.69812375992489,48.98193362531322,48.98193362531322,48.69812375992489,48.41431389453657,48.13050402914825,47.84669416375993,47.56288429837161,47.27907443298328,46.99526456759496,46.71145470220664,46.42764483681832,46.143834971429996,45.860025106041675,45.57621524065335,45.29240537526503,45.008595509876706,44.724785644488385,44.440975779100064,44.157165913711744,43.873356048323416,43.589546182935095,43.305736317546774,43.02192645215845,42.73811658677013,42.454306721381805,42.170496855993484,41.88668699060516,41.60287712521684,41.31906725982852,41.0352573944402,40.75144752905187,40.46763766366355,40.18382779827523,39.90001793288691,39.61620806749859,39.33239820211026,39.04858833672194,38.76477847133362,38.4809686059453,38.19715874055698,37.91334887516866,37.62953900978033,37.34572914439201,37.06191927900369,36.77810941361537,36.49429954822705,36.21048968283872,35.9266798174504,35.64286995206208,35.35906008667376,35.07525022128544,34.791440355897116,34.50763049050879,34.22382062512047,33.94001075973215,33.656200894343826,33.372391028955505,33.088581163567184,32.804771298178856,32.520961432790536,32.237151567402215,31.953341702013894,31.66953183662557,31.38572197123725,31.101912105848925,30.818102240460604,30.534292375072283,30.25048250968396,29.966672644295638,29.682862778907317,29.399052913518993,29.115243048130672,28.83143318274235,28.547623317354027,28.263813451965706,27.980003586577386,27.69619372118906,27.41238385580074,27.128573990412416,26.844764125024096,26.560954259635775,26.27714439424745,25.99333452885913,25.70952466347081,25.425714798082485,25.141904932694164,24.858095067305843,24.57428520191752,24.290475336529198,24.006665471140877,23.722855605752553,23.439045740364232,23.155235874975908,22.871426009587587,22.587616144199266,22.303806278810942,22.01999641342262,21.7361865480343,21.452376682645976,21.168566817257656,20.884756951869335,20.60094708648101,20.31713722109269,20.033327355704365,19.749517490316045,19.465707624927724,19.1818977595394,18.89808789415108,18.614278028762758,18.330468163374434,18.046658297986113,17.762848432597792,17.479038567209468,17.195228701821147,16.911418836432826,16.627608971044502,16.34379910565618,16.059989240267857,15.776179374879536,15.492369509491214,15.208559644102893,14.92474977871457,14.640939913326248,14.357130047937927,14.073320182549605,13.789510317161282,13.50570045177296,13.221890586384639,12.938080720996316,12.654270855607994,12.370460990219673,12.08665112483135,11.802841259443028,11.519031394054705,11.235221528666385,10.951411663278062,10.66760179788974,10.383791932501417,10.099982067113096,9.816172201724774,9.532362336336451,9.24855247094813,8.964742605559808,8.680932740171485,8.397122874783163,8.113313009394842,7.8295031440065195,7.545693278618198,7.261883413229875,6.978073547841554,6.694263682453231,6.4104538170649095,6.126643951676587,5.842834086288265,5.559024220899944,5.275214355511621,4.9914044901232995,4.707594624734977,4.423784759346655,4.139974893958333,3.856165028570011,3.572355163181689,3.288545297793367,3.004735432405045,2.7209255670167227,2.437115701628401,2.153305836240079,1.869495970851757,1.5856861054634348,1.3018762400751127,1.0180663746867906,1.0180663746867906],\"type\":\"scatter\"},{\"xaxis\":\"x\",\"fill\":\"tozeroy\",\"yaxis\":\"y\",\"x\":[5.5,5.5,5.5,5.5,5.5,5.5,5.5,5.5,5.5,5.5,5.5,5.5,5.5,5.5,5.5,5.5,5.5,5.5,5.5,5.5,5.5,5.5,5.5,5.5,5.5,5.5,5.5,5.5,5.5,5.5,5.5,5.5,5.5,5.5,5.5,5.5,5.5,5.5,5.5,5.5,5.5,5.5,5.5,5.5,5.5,5.5,5.5,5.5,5.5,5.5,5.5,5.5,5.5,5.5,5.5,5.5,5.5,5.5,5.5,5.5,5.5,5.5,5.5,5.5,5.5,5.5,5.5,5.5,5.5,5.5,5.5,5.5,5.5,5.5,5.5,5.5,5.5,5.5,5.5,5.5,5.5,5.5,5.5,5.5,5.5,5.5,5.5,5.5,5.5,5.5,5.5,5.5,5.5,5.5,5.5,5.5,5.5,5.5,5.5,5.5,5.5,5.5,5.5,5.5,5.5,5.5,5.5,5.5,5.5,5.5,5.5,5.5,5.5,5.5,5.5,5.5,5.5,5.5,5.5,5.5,5.5,5.5,5.5,5.5,5.5,5.5,5.5,5.5,5.5,5.5,5.5,5.5,5.5,5.5,5.5,5.5,5.5,5.5,5.5,5.5,5.5,5.5,5.5,5.5,5.5,5.5,5.5,5.5,5.5,5.5,5.5,5.5,5.5,5.5,5.5,5.5,5.5,5.5,5.5,5.5,5.5,5.5,5.5,5.5,5.5,5.5,5.496668316051842,5.49673473923621,5.496929266062049,5.497208476336872,5.497522514107976,5.497827094739373,5.498091868718939,5.498303324590827,5.498462643281814,5.498580459428659,5.498670900391991,5.498746743294247,5.498816576042488,5.498883968290925,5.498948118219632,5.499005267284141,5.49905026241372,5.4990778624976,5.499083627007074,5.499064414576937,5.499018614078505,5.498946223148084,5.498848814978507,5.498729359513908,5.498591853009051,5.498440781034069,5.498280553427816,5.498115121031173,5.497947938935383,5.497782274229989,5.497621652978017,5.497470133273297,5.497332166860873,5.497212040441041,5.49711312604168,5.497037257456952,5.496984430069137,5.496952790045903,5.496938714575525,5.496936811572463,5.496939858438902,5.496938900006908,5.496923773309954,5.496884171341316,5.496811088945688,5.49669826601288,5.496543171611425,5.496347181097755,5.4961148373809126,5.495852381887589,5.495566008942163,5.49526044415475,5.4949383747477025,5.494600928948302,5.4942489126530045,5.493884107464676,5.493509874485251,5.4931306739508985,5.492750699637193,5.492372262573688,5.491994566039302,5.491613145452413,5.491219848341007,5.490803144750048,5.490348814521332,5.489841322105144,5.489266064207139,5.488612090470181,5.48787424470719,5.48705353426095,5.486155196224589,5.4851850968941775,5.484146048976129,5.483035698356935,5.4818466985066,5.480568493992395,5.47918905292329,5.477694995498188,5.476069799109579,5.474291450939394,5.472332037714273,5.47016150301592,5.467756081144655,5.46510948484622,5.462243001885226,5.459210276871324,5.456094015255014,5.452994567271277,5.450013205691859,5.447234786314673,5.444714727919123,5.442473867286411,5.440502277518183,5.438770426544141,5.4372439677545445,5.4358976453354275,5.43472448492075,5.433738313911004,5.4329699542217655,5.432459251322098,5.432245823564082,5.432360982271773,5.4328221685044715,5.433630144597975,5.434768505168902,5.43620485968921,5.437893055233887,5.439775868089472,5.441787718333974,5.443857265433369,5.445910187480245,5.447872755501586,5.449676668212533,5.451264963596756,5.452598015055707,5.453658162408385,5.454451705957236,5.455007650487676,5.455373299327681,5.455607259882556,5.455770684502091,5.455917900682666,5.456088072238868,5.456299858559111,5.456550676102578,5.456820886243661,5.457081458003658,5.4573022913501905,5.457458226690924,5.45753090899254,5.457506457269405,5.457370362608032,5.457101595746929,5.456667582103511,5.456020956961426,5.455098270644191,5.453820177327112,5.452091995770321,5.449802871642969,5.446821426251009,5.4429862782880996,5.438091508249684,5.431869753649314,5.423978308232434,5.41399526412724,5.401432731372156,5.3857727223469976,5.36652929418204,5.343338634816028,5.316076273698949,5.284995326400797,5.250869427705971,5.215109123906618,5.17980598632918,5.147653741753811,5.121709745767475,5.10499699419632,5.1,5.108159815588653,5.129501404326199,5.162512242644697,5.204331244934814,5.251218596565146,5.299191926202285,5.344666127480215,5.384942042330116,5.5],\"showlegend\":false,\"mode\":\"lines\",\"fillcolor\":\"rgba(0, 154, 250, 1.000)\",\"name\":\"streak A\",\"line\":{\"color\":\"rgba(0, 154, 250, 1.000)\",\"dash\":\"solid\",\"width\":1},\"y\":[0.18169530587352045,0.5067656658023263,0.8318360257311321,1.156906385659938,1.4819767455887438,1.8070471055175497,2.1321174654463553,2.4571878253751613,2.7822581853039674,3.107328545232773,3.4323989051615786,3.7574692650903847,4.082539625019191,4.407609984947996,4.732680344876802,5.057750704805608,5.382821064734414,5.70789142466322,6.032961784592025,6.358032144520831,6.6831025044496375,7.008172864378443,7.333243224307249,7.658313584236055,7.983383944164861,8.308454304093667,8.633524664022472,8.958595023951279,9.283665383880084,9.60873574380889,9.933806103737696,10.258876463666502,10.583946823595307,10.909017183524114,11.234087543452919,11.559157903381724,11.884228263310531,12.209298623239336,12.534368983168143,12.859439343096948,13.184509703025753,13.50958006295456,13.834650422883366,14.159720782812173,14.484791142740978,14.809861502669783,15.13493186259859,15.460002222527395,15.7850725824562,16.110142942385007,16.435213302313812,16.760283662242617,17.085354022171423,17.41042438210023,17.735494742029037,18.06056510195784,18.385635461886647,18.710705821815452,19.03577618174426,19.360846541673066,19.68591690160187,20.010987261530676,20.33605762145948,20.66112798138829,20.986198341317095,21.3112687012459,21.636339061174706,21.96140942110351,22.286479781032316,22.611550140961125,22.93662050088993,23.261690860818735,23.58676122074754,23.911831580676346,24.236901940605154,24.56197230053396,24.887042660462765,25.21211302039157,25.537183380320375,25.86225374024918,26.18732410017799,26.512394460106794,26.8374648200356,27.162535179964404,27.48760553989321,27.81267589982202,28.137746259750823,28.46281661967963,28.787886979608434,29.11295733953724,29.438027699466048,29.763098059394853,30.088168419323658,30.413238779252463,30.73830913918127,31.063379499110077,31.388449859038882,31.713520218967687,32.038590578896496,32.3636609388253,32.68873129875411,33.01380165868291,33.33887201861172,33.663942378540526,33.98901273846933,34.314083098398136,34.63915345832694,34.964223818255746,35.28929417818455,35.61436453811336,35.939434898042165,36.26450525797097,36.589575617899776,36.91464597782858,37.239716337757386,37.564786697686195,37.889857057615,38.214927417543805,38.53999777747261,38.865068137401416,39.190138497330224,39.515208857259026,39.840279217187835,40.165349577116636,40.490419937045445,40.815490296974254,41.140560656903055,41.465631016831864,41.790701376760666,42.115771736689474,42.44084209661828,42.765912456547085,43.09098281647589,43.416053176404695,43.741123536333504,44.066193896262305,44.391264256191114,44.71633461611992,45.041404976048725,45.36647533597753,45.691545695906335,46.016616055835144,46.34168641576395,46.666756775692754,46.99182713562156,47.316897495550364,47.64196785547917,47.96703821540798,48.29210857533678,48.61717893526559,48.942249295194394,49.2673196551232,49.59239001505201,49.91746037498081,50.24253073490962,50.56760109483842,50.89267145476723,51.21774181469604,51.54281217462484,51.86788253455365,52.19295289448245,52.51802325441126,52.84309361434007,53.16816397426887,53.49323433419768,53.81830469412648,53.81830469412648,53.49323433419768,53.16816397426887,52.84309361434007,52.51802325441126,52.19295289448245,51.86788253455365,51.54281217462484,51.21774181469604,50.89267145476723,50.56760109483842,50.24253073490962,49.91746037498081,49.59239001505201,49.2673196551232,48.942249295194394,48.61717893526559,48.29210857533678,47.96703821540798,47.64196785547917,47.316897495550364,46.99182713562156,46.666756775692754,46.34168641576395,46.016616055835144,45.691545695906335,45.36647533597753,45.041404976048725,44.71633461611992,44.391264256191114,44.066193896262305,43.741123536333504,43.416053176404695,43.09098281647589,42.765912456547085,42.44084209661828,42.115771736689474,41.790701376760666,41.465631016831864,41.140560656903055,40.815490296974254,40.490419937045445,40.165349577116636,39.840279217187835,39.515208857259026,39.190138497330224,38.865068137401416,38.53999777747261,38.214927417543805,37.889857057615,37.564786697686195,37.239716337757386,36.91464597782858,36.589575617899776,36.26450525797097,35.939434898042165,35.61436453811336,35.28929417818455,34.964223818255746,34.63915345832694,34.314083098398136,33.98901273846933,33.663942378540526,33.33887201861172,33.01380165868291,32.68873129875411,32.3636609388253,32.038590578896496,31.713520218967687,31.388449859038882,31.063379499110077,30.73830913918127,30.413238779252463,30.088168419323658,29.763098059394853,29.438027699466048,29.11295733953724,28.787886979608434,28.46281661967963,28.137746259750823,27.81267589982202,27.48760553989321,27.162535179964404,26.8374648200356,26.512394460106794,26.18732410017799,25.86225374024918,25.537183380320375,25.21211302039157,24.887042660462765,24.56197230053396,24.236901940605154,23.911831580676346,23.58676122074754,23.261690860818735,22.93662050088993,22.611550140961125,22.286479781032316,21.96140942110351,21.636339061174706,21.3112687012459,20.986198341317095,20.66112798138829,20.33605762145948,20.010987261530676,19.68591690160187,19.360846541673066,19.03577618174426,18.710705821815452,18.385635461886647,18.06056510195784,17.735494742029037,17.41042438210023,17.085354022171423,16.760283662242617,16.435213302313812,16.110142942385007,15.7850725824562,15.460002222527395,15.13493186259859,14.809861502669783,14.484791142740978,14.159720782812173,13.834650422883366,13.50958006295456,13.184509703025753,12.859439343096948,12.534368983168143,12.209298623239336,11.884228263310531,11.559157903381724,11.234087543452919,10.909017183524114,10.583946823595307,10.258876463666502,9.933806103737696,9.60873574380889,9.283665383880084,8.958595023951279,8.633524664022472,8.308454304093667,7.983383944164861,7.658313584236055,7.333243224307249,7.008172864378443,6.6831025044496375,6.358032144520831,6.032961784592025,5.70789142466322,5.382821064734414,5.057750704805608,4.732680344876802,4.407609984947996,4.082539625019191,3.7574692650903847,3.4323989051615786,3.107328545232773,2.7822581853039674,2.4571878253751613,2.1321174654463553,1.8070471055175497,1.4819767455887438,1.156906385659938,0.8318360257311321,0.5067656658023263,0.18169530587352045,0.18169530587352045],\"type\":\"scatter\"},{\"xaxis\":\"x\",\"fill\":\"tozeroy\",\"yaxis\":\"y\",\"x\":[6.5,6.5,6.5,6.5,6.5,6.5,6.5,6.5,6.5,6.5,6.5,6.5,6.5,6.5,6.5,6.5,6.5,6.5,6.5,6.5,6.5,6.5,6.5,6.5,6.5,6.5,6.5,6.5,6.5,6.5,6.5,6.5,6.5,6.5,6.5,6.5,6.5,6.5,6.5,6.5,6.5,6.5,6.5,6.5,6.5,6.5,6.5,6.5,6.5,6.5,6.5,6.5,6.5,6.5,6.5,6.5,6.5,6.5,6.5,6.5,6.5,6.5,6.5,6.5,6.5,6.5,6.5,6.5,6.5,6.5,6.5,6.5,6.5,6.5,6.5,6.5,6.5,6.5,6.5,6.5,6.5,6.5,6.5,6.5,6.5,6.5,6.5,6.5,6.5,6.5,6.5,6.5,6.5,6.5,6.5,6.5,6.5,6.5,6.5,6.5,6.5,6.5,6.5,6.5,6.5,6.5,6.5,6.5,6.5,6.5,6.5,6.5,6.5,6.5,6.5,6.5,6.5,6.5,6.5,6.5,6.5,6.5,6.5,6.5,6.5,6.5,6.5,6.5,6.5,6.5,6.5,6.5,6.5,6.5,6.5,6.5,6.5,6.5,6.5,6.5,6.5,6.5,6.5,6.5,6.5,6.5,6.5,6.5,6.5,6.5,6.5,6.5,6.5,6.5,6.5,6.5,6.5,6.5,6.5,6.5,6.5,6.5,6.5,6.5,6.5,6.5,6.499896264597848,6.4998976754499935,6.499901361182918,6.499905353492134,6.499907828514171,6.499907684473858,6.499904879755484,6.499900404400552,6.499895888841154,6.499892985813361,6.499892745477868,6.499895206948431,6.499899348341362,6.49990340158855,6.49990539996875,6.499903740220905,6.499897541777286,6.49988667365057,6.499871460644798,6.49985221758874,6.499828833719283,6.4998006027707245,6.499766375520512,6.49972495598675,6.499675549918881,6.499618064867189,6.499553156764126,6.499482057050722,6.499406309650108,6.49932754298832,6.499247312307571,6.499166944235681,6.499087280107641,6.499008281587351,6.498928597215075,6.4988453093532765,6.498754105484547,6.498650008081036,6.498528579235549,6.498387270938818,6.498226426030523,6.4980494402909805,6.497861808911211,6.497669155044197,6.497474752244689,6.497277348407758,6.497070142799611,6.4968415042137835,6.496577495498722,6.496265634047979,6.495898778431573,6.495477798746607,6.495011896827673,6.49451608294578,6.4940062149790485,6.493492874248182,6.492975880051915,6.492441212254848,6.491861470586408,6.4911999152801805,6.490416960367646,6.4894771658671155,6.488354639337538,6.487035376338256,6.485516172453069,6.483800846091594,6.481895186754942,6.479802122440053,6.477518230774983,6.475032215595683,6.472325593872,6.469375650559955,6.466160592531559,6.462666560658228,6.458895600872392,6.454872895176652,6.450650806248445,6.4463071017857,6.441935619350799,6.4376297973831775,6.433462457727432,6.429467810826059,6.425632448788339,6.421900192530241,6.418191319119062,6.414431389761332,6.410580747528613,6.406654615663868,6.402726410165199,6.398912736576528,6.395345523537818,6.392141981820439,6.389383987430505,6.387114166312202,6.38534806427112,6.384094095356616,6.383369475617239,6.383202957190081,6.383622449152492,6.38463361333983,6.386200142732835,6.388235636248248,6.390611645474471,6.3931794854806,6.395797990684334,6.398357629653946,6.40079356871886,6.403085097396281,6.405244094588518,6.407298735631325,6.409279144717284,6.41120935253525,6.413106175685676,6.414982416408878,6.416850476028415,6.4187233214566675,6.420611916280082,6.422520447962861,6.424441903795711,6.426356361162166,6.428233036413581,6.430035425087363,6.431727624669633,6.433279736272331,6.434671080947443,6.435891218760253,6.436939558136431,6.437824163054287,6.438559433859291,6.439161529800832,6.439640621359553,6.439990521199139,6.440178198958311,6.440136860567157,6.4397657053426185,6.438937178467386,6.437509516950469,6.43534002651595,6.432293817172793,6.4282438595433256,6.423060727951657,6.4165935621352235,6.408647000063383,6.398961604719171,6.387207001903218,6.372996721803045,6.355930877152564,6.335667440020043,6.312016482285089,6.285046707282653,6.255191545070577,6.223342007240434,6.190911662964985,6.159852033463832,6.132586091878134,6.1118229904718016,6.100232436119421,6.1,6.112345788376926,6.137140219235263,6.172757935961972,6.21625580746646,6.2638576142766125,6.311620223955632,6.356094255765237,6.394804397098086,6.5],\"showlegend\":false,\"mode\":\"lines\",\"fillcolor\":\"rgba(0, 154, 250, 1.000)\",\"name\":\"streak A\",\"line\":{\"color\":\"rgba(0, 154, 250, 1.000)\",\"dash\":\"solid\",\"width\":1},\"y\":[0.1786107567726954,0.4734154748724203,0.7682201929721453,1.0630249110718701,1.357829629171595,1.65263434727132,1.947439065371045,2.24224378347077,2.537048501570495,2.8318532196702195,3.1266579377699446,3.4214626558696697,3.7162673739693943,4.011072092069119,4.3058768101688445,4.600681528268569,4.895486246368294,5.190290964468019,5.485095682567744,5.779900400667469,6.074705118767194,6.369509836866919,6.664314554966643,6.959119273066369,7.2539239911660935,7.548728709265818,7.843533427365543,8.138338145465267,8.433142863564994,8.727947581664719,9.022752299764443,9.317557017864168,9.612361735963892,9.907166454063617,10.201971172163342,10.496775890263068,10.791580608362793,11.086385326462517,11.381190044562242,11.675994762661967,11.970799480761691,12.265604198861418,12.560408916961142,12.855213635060867,13.150018353160592,13.444823071260316,13.739627789360041,14.034432507459766,14.329237225559492,14.624041943659217,14.918846661758941,15.213651379858666,15.50845609795839,15.803260816058115,16.09806553415784,16.392870252257566,16.68767497035729,16.982479688457015,17.277284406556742,17.572089124656465,17.86689384275619,18.161698560855914,18.45650327895564,18.751307997055363,19.04611271515509,19.340917433254816,19.63572215135454,19.930526869454265,20.22533158755399,20.520136305653715,20.81494102375344,21.109745741853164,21.40455045995289,21.699355178052613,21.99415989615234,22.288964614252063,22.58376933235179,22.878574050451515,23.17337876855124,23.468183486650965,23.762988204750688,24.057792922850414,24.352597640950137,24.647402359049863,24.94220707714959,25.237011795249312,25.53181651334904,25.82662123144876,26.121425949548488,26.416230667648215,26.711035385747937,27.005840103847664,27.300644821947387,27.595449540047113,27.890254258146836,28.185058976246562,28.47986369434629,28.77466841244601,29.069473130545738,29.36427784864546,29.659082566745187,29.95388728484491,30.248692002944637,30.543496721044363,30.838301439144086,31.133106157243812,31.427910875343535,31.72271559344326,32.01752031154299,32.312325029642714,32.607129747742434,32.90193446584216,33.19673918394189,33.49154390204161,33.78634862014133,34.08115333824106,34.375958056340785,34.67076277444051,34.96556749254024,35.26037221063996,35.555176928739684,35.84998164683941,36.14478636493914,36.43959108303886,36.73439580113858,37.02920051923831,37.324005237338035,37.61880995543776,37.91361467353749,38.20841939163721,38.503224109736934,38.79802882783666,39.09283354593639,39.387638264036106,39.68244298213583,39.97724770023556,40.272052418335285,40.56685713643501,40.86166185453473,41.15646657263446,41.451271290734184,41.74607600883391,42.040880726933636,42.335685445033356,42.63049016313308,42.92529488123281,43.220099599332535,43.51490431743226,43.80970903553198,44.10451375363171,44.39931847173143,44.69412318983116,44.98892790793088,45.283732626030606,45.57853734413033,45.87334206223006,46.168146780329785,46.462951498429504,46.75775621652923,47.05256093462896,47.34736565272868,47.64217037082841,47.93697508892813,48.231779807027856,48.52658452512758,48.82138924322731,48.82138924322731,48.52658452512758,48.231779807027856,47.93697508892813,47.64217037082841,47.34736565272868,47.05256093462896,46.75775621652923,46.462951498429504,46.168146780329785,45.87334206223006,45.57853734413033,45.283732626030606,44.98892790793088,44.69412318983116,44.39931847173143,44.10451375363171,43.80970903553198,43.51490431743226,43.220099599332535,42.92529488123281,42.63049016313308,42.335685445033356,42.040880726933636,41.74607600883391,41.451271290734184,41.15646657263446,40.86166185453473,40.56685713643501,40.272052418335285,39.97724770023556,39.68244298213583,39.387638264036106,39.09283354593639,38.79802882783666,38.503224109736934,38.20841939163721,37.91361467353749,37.61880995543776,37.324005237338035,37.02920051923831,36.73439580113858,36.43959108303886,36.14478636493914,35.84998164683941,35.555176928739684,35.26037221063996,34.96556749254024,34.67076277444051,34.375958056340785,34.08115333824106,33.78634862014133,33.49154390204161,33.19673918394189,32.90193446584216,32.607129747742434,32.312325029642714,32.01752031154299,31.72271559344326,31.427910875343535,31.133106157243812,30.838301439144086,30.543496721044363,30.248692002944637,29.95388728484491,29.659082566745187,29.36427784864546,29.069473130545738,28.77466841244601,28.47986369434629,28.185058976246562,27.890254258146836,27.595449540047113,27.300644821947387,27.005840103847664,26.711035385747937,26.416230667648215,26.121425949548488,25.82662123144876,25.53181651334904,25.237011795249312,24.94220707714959,24.647402359049863,24.352597640950137,24.057792922850414,23.762988204750688,23.468183486650965,23.17337876855124,22.878574050451515,22.58376933235179,22.288964614252063,21.99415989615234,21.699355178052613,21.40455045995289,21.109745741853164,20.81494102375344,20.520136305653715,20.22533158755399,19.930526869454265,19.63572215135454,19.340917433254816,19.04611271515509,18.751307997055363,18.45650327895564,18.161698560855914,17.86689384275619,17.572089124656465,17.277284406556742,16.982479688457015,16.68767497035729,16.392870252257566,16.09806553415784,15.803260816058115,15.50845609795839,15.213651379858666,14.918846661758941,14.624041943659217,14.329237225559492,14.034432507459766,13.739627789360041,13.444823071260316,13.150018353160592,12.855213635060867,12.560408916961142,12.265604198861418,11.970799480761691,11.675994762661967,11.381190044562242,11.086385326462517,10.791580608362793,10.496775890263068,10.201971172163342,9.907166454063617,9.612361735963892,9.317557017864168,9.022752299764443,8.727947581664719,8.433142863564994,8.138338145465267,7.843533427365543,7.548728709265818,7.2539239911660935,6.959119273066369,6.664314554966643,6.369509836866919,6.074705118767194,5.779900400667469,5.485095682567744,5.190290964468019,4.895486246368294,4.600681528268569,4.3058768101688445,4.011072092069119,3.7162673739693943,3.4214626558696697,3.1266579377699446,2.8318532196702195,2.537048501570495,2.24224378347077,1.947439065371045,1.65263434727132,1.357829629171595,1.0630249110718701,0.7682201929721453,0.4734154748724203,0.1786107567726954,0.1786107567726954],\"type\":\"scatter\"},{\"xaxis\":\"x\",\"fill\":\"tozeroy\",\"yaxis\":\"y\",\"x\":[7.5,7.5,7.5,7.5,7.5,7.5,7.5,7.5,7.5,7.5,7.5,7.5,7.5,7.5,7.5,7.5,7.5,7.5,7.5,7.5,7.5,7.5,7.5,7.5,7.5,7.5,7.5,7.5,7.5,7.5,7.5,7.5,7.5,7.5,7.5,7.5,7.5,7.5,7.5,7.5,7.5,7.5,7.5,7.5,7.5,7.5,7.5,7.5,7.5,7.5,7.5,7.5,7.5,7.5,7.5,7.5,7.5,7.5,7.5,7.5,7.5,7.5,7.5,7.5,7.5,7.5,7.5,7.5,7.5,7.5,7.5,7.5,7.5,7.5,7.5,7.5,7.5,7.5,7.5,7.5,7.5,7.5,7.5,7.5,7.5,7.5,7.5,7.5,7.5,7.5,7.5,7.5,7.5,7.5,7.5,7.5,7.5,7.5,7.5,7.5,7.5,7.5,7.5,7.5,7.5,7.5,7.5,7.5,7.5,7.5,7.5,7.5,7.5,7.5,7.5,7.5,7.5,7.5,7.5,7.5,7.5,7.5,7.5,7.5,7.5,7.5,7.5,7.5,7.5,7.5,7.5,7.5,7.5,7.5,7.5,7.5,7.5,7.5,7.5,7.5,7.5,7.5,7.5,7.5,7.5,7.5,7.5,7.5,7.5,7.5,7.5,7.5,7.5,7.5,7.5,7.5,7.5,7.5,7.5,7.5,7.5,7.5,7.5,7.5,7.5,7.5,7.5,7.5,7.5,7.5,7.5,7.5,7.499844670569106,7.499846958629011,7.4998501907194095,7.499848826474418,7.499839145532685,7.499820479012482,7.49979519738536,7.499767776173588,7.499743506284579,7.499727262061066,7.499722467435592,7.499730269984999,7.499749005673247,7.499774181526104,7.499799215070623,7.499816938659383,7.499821506853012,7.4998100919538455,7.499783799827898,7.49974753100291,7.499708845523254,7.499676127518872,7.499656492513465,7.499653963762132,7.499668418255018,7.499695621672442,7.499728373962132,7.49975845557088,7.499778755901985,7.499784774807174,7.499774820118561,7.499748837614736,7.499706700686405,7.499647333409124,7.499569647937395,7.499474997966572,7.4993695403018155,7.499264614042652,7.499174336349814,7.499111328561482,7.499082582132585,7.4990872630402015,7.499117102785642,7.499158857558452,7.499197748662943,7.499220804625626,7.499219296359363,7.499189798790721,7.499133784816649,7.49905601076383,7.498962204965356,7.498856696722901,7.498740642725493,7.498611400747828,7.498463318178787,7.498289787392799,7.49808601704215,7.4978516935163295,7.497592582102861,7.497320201992767,7.4970491805753445,7.496792808101713,7.496558286247754,7.496343504576655,7.496136550468721,7.495917990257966,7.495665040043797,7.495356458098741,7.494977114208734,7.494521355844786,7.493994394573495,7.4934110976362,7.492791945600174,7.492156656523864,7.491517069589983,7.490871811541032,7.49020510076104,7.489490326466342,7.488696645152239,7.487795448009361,7.4867641245498175,7.485586463397875,7.484250891447794,7.482748691506086,7.4810743218521525,7.479229069890254,7.477227344757135,7.475102264857448,7.472905407600041,7.47069691153696,7.4685274043842576,7.466420046986118,7.4643642273320925,7.462328085238304,7.460286393499969,7.458250219812224,7.456282540579732,7.454491161291346,7.453001634339412,7.4519211764890425,7.45130664660823,7.451146957285483,7.451365356320315,7.451840896254572,7.452442217971164,7.453062919098545,7.453647959075415,7.454203769545778,7.454789026655812,7.455488228407794,7.456376808358907,7.457491965225516,7.458822256895035,7.4603189821074025,7.461919207064231,7.4635641957731655,7.465203115987456,7.46678510535748,7.468252207761502,7.469543955969113,7.470613379042072,7.471443289779394,7.4720501101171415,7.472471793165648,7.472748883110628,7.4729127221106,7.472987950833161,7.47300381776944,7.4730014361033055,7.473028107612296,7.473121250163563,7.473293354348698,7.473528535563743,7.473791887816309,7.474043031920447,7.47424287178871,7.474349090300467,7.474305624047111,7.474036376116092,7.473450208023585,7.4724561129203435,7.470981034480787,7.468981951777151,7.466447302595668,7.4633869598008555,7.459812818301392,7.455713706403418,7.451028936726996,7.445623813276801,7.4392681442279756,7.431617369967155,7.4221977383658855,7.410402744190934,7.39551561952797,7.376776914673541,7.353511323098174,7.3253125054310475,7.292265239451516,7.255169965635605,7.215727083419945,7.176628833737657,7.141490062205987,7.114537562789418,7.1,7.1012272647680135,7.119722687732183,7.154431058805126,7.201658883308376,7.255803816861121,7.310693719953046,7.361017911723913,7.403305605747505,7.5],\"showlegend\":false,\"mode\":\"lines\",\"fillcolor\":\"rgba(0, 154, 250, 1.000)\",\"name\":\"streak A\",\"line\":{\"color\":\"rgba(0, 154, 250, 1.000)\",\"dash\":\"solid\",\"width\":1},\"y\":[0.28409276518647386,0.5907115632544684,0.8973303613224628,1.2039491593904572,1.5105679574584516,1.8171867555264463,2.1238055535944405,2.430424351662435,2.7370431497304297,3.043661947798424,3.3502807458664186,3.656899543934413,3.9635183420024074,4.270137140070402,4.576755938138397,4.883374736206391,5.189993534274385,5.49661233234238,5.803231130410374,6.1098499284783685,6.416468726546364,6.723087524614358,7.029706322682352,7.336325120750347,7.642943918818341,7.949562716886335,8.25618151495433,8.562800313022324,8.86941911109032,9.176037909158314,9.482656707226308,9.789275505294302,10.095894303362297,10.40251310143029,10.709131899498285,11.015750697566281,11.322369495634275,11.62898829370227,11.935607091770263,12.242225889838258,12.548844687906252,12.855463485974248,13.162082284042242,13.468701082110236,13.77531988017823,14.081938678246225,14.388557476314219,14.695176274382215,15.001795072450209,15.308413870518203,15.615032668586197,15.921651466654192,16.228270264722187,16.53488906279018,16.841507860858176,17.14812665892617,17.454745456994164,17.76136425506216,18.067983053130153,18.374601851198147,18.68122064926614,18.987839447334135,19.29445824540213,19.601077043470127,19.90769584153812,20.214314639606116,20.52093343767411,20.827552235742104,21.134171033810098,21.440789831878092,21.747408629946086,22.05402742801408,22.360646226082075,22.66726502415007,22.973883822218063,23.280502620286057,23.587121418354055,23.89374021642205,24.200359014490044,24.506977812558038,24.813596610626032,25.120215408694026,25.42683420676202,25.733453004830015,26.04007180289801,26.346690600966003,26.653309399033997,26.95992819710199,27.266546995169985,27.573165793237983,27.879784591305977,28.18640338937397,28.493022187441966,28.79964098550996,29.106259783577954,29.41287858164595,29.719497379713943,30.026116177781937,30.33273497584993,30.639353773917925,30.94597257198592,31.252591370053914,31.55921016812191,31.865828966189905,32.172447764257896,32.47906656232589,32.785685360393884,33.09230415846188,33.39892295652988,33.705541754597874,34.01216055266587,34.31877935073386,34.62539814880186,34.93201694686985,35.238635744937845,35.54525454300584,35.85187334107383,36.15849213914183,36.46511093720982,36.771729735277816,37.07834853334581,37.384967331413804,37.6915861294818,37.99820492754979,38.30482372561779,38.61144252368578,38.918061321753775,39.22468011982177,39.531298917889764,39.83791771595776,40.14453651402575,40.451155312093746,40.75777411016174,41.064392908229735,41.371011706297736,41.67763050436573,41.984249302433724,42.29086810050172,42.59748689856971,42.90410569663771,43.2107244947057,43.517343292773695,43.82396209084169,44.130580888909684,44.43719968697768,44.74381848504567,45.050437283113666,45.35705608118166,45.663674879249655,45.97029367731765,46.27691247538564,46.58353127345364,46.89015007152163,47.196768869589626,47.50338766765762,47.810006465725614,48.11662526379361,48.4232440618616,48.7298628599296,49.0364816579976,49.34310045606559,49.649719254133586,49.95633805220158,50.262956850269575,50.56957564833757,50.87619444640556,51.18281324447356,51.48943204254155,51.796050840609546,52.10266963867754,52.409288436745534,52.71590723481353,52.71590723481353,52.409288436745534,52.10266963867754,51.796050840609546,51.48943204254155,51.18281324447356,50.87619444640556,50.56957564833757,50.262956850269575,49.95633805220158,49.649719254133586,49.34310045606559,49.0364816579976,48.7298628599296,48.4232440618616,48.11662526379361,47.810006465725614,47.50338766765762,47.196768869589626,46.89015007152163,46.58353127345364,46.27691247538564,45.97029367731765,45.663674879249655,45.35705608118166,45.050437283113666,44.74381848504567,44.43719968697768,44.130580888909684,43.82396209084169,43.517343292773695,43.2107244947057,42.90410569663771,42.59748689856971,42.29086810050172,41.984249302433724,41.67763050436573,41.371011706297736,41.064392908229735,40.75777411016174,40.451155312093746,40.14453651402575,39.83791771595776,39.531298917889764,39.22468011982177,38.918061321753775,38.61144252368578,38.30482372561779,37.99820492754979,37.6915861294818,37.384967331413804,37.07834853334581,36.771729735277816,36.46511093720982,36.15849213914183,35.85187334107383,35.54525454300584,35.238635744937845,34.93201694686985,34.62539814880186,34.31877935073386,34.01216055266587,33.705541754597874,33.39892295652988,33.09230415846188,32.785685360393884,32.47906656232589,32.172447764257896,31.865828966189905,31.55921016812191,31.252591370053914,30.94597257198592,30.639353773917925,30.33273497584993,30.026116177781937,29.719497379713943,29.41287858164595,29.106259783577954,28.79964098550996,28.493022187441966,28.18640338937397,27.879784591305977,27.573165793237983,27.266546995169985,26.95992819710199,26.653309399033997,26.346690600966003,26.04007180289801,25.733453004830015,25.42683420676202,25.120215408694026,24.813596610626032,24.506977812558038,24.200359014490044,23.89374021642205,23.587121418354055,23.280502620286057,22.973883822218063,22.66726502415007,22.360646226082075,22.05402742801408,21.747408629946086,21.440789831878092,21.134171033810098,20.827552235742104,20.52093343767411,20.214314639606116,19.90769584153812,19.601077043470127,19.29445824540213,18.987839447334135,18.68122064926614,18.374601851198147,18.067983053130153,17.76136425506216,17.454745456994164,17.14812665892617,16.841507860858176,16.53488906279018,16.228270264722187,15.921651466654192,15.615032668586197,15.308413870518203,15.001795072450209,14.695176274382215,14.388557476314219,14.081938678246225,13.77531988017823,13.468701082110236,13.162082284042242,12.855463485974248,12.548844687906252,12.242225889838258,11.935607091770263,11.62898829370227,11.322369495634275,11.015750697566281,10.709131899498285,10.40251310143029,10.095894303362297,9.789275505294302,9.482656707226308,9.176037909158314,8.86941911109032,8.562800313022324,8.25618151495433,7.949562716886335,7.642943918818341,7.336325120750347,7.029706322682352,6.723087524614358,6.416468726546364,6.1098499284783685,5.803231130410374,5.49661233234238,5.189993534274385,4.883374736206391,4.576755938138397,4.270137140070402,3.9635183420024074,3.656899543934413,3.3502807458664186,3.043661947798424,2.7370431497304297,2.430424351662435,2.1238055535944405,1.8171867555264463,1.5105679574584516,1.2039491593904572,0.8973303613224628,0.5907115632544684,0.28409276518647386,0.28409276518647386],\"type\":\"scatter\"},{\"xaxis\":\"x\",\"fill\":\"tozeroy\",\"yaxis\":\"y\",\"x\":[8.5,8.5,8.5,8.5,8.5,8.5,8.5,8.5,8.5,8.5,8.5,8.5,8.5,8.5,8.5,8.5,8.5,8.5,8.5,8.5,8.5,8.5,8.5,8.5,8.5,8.5,8.5,8.5,8.5,8.5,8.5,8.5,8.5,8.5,8.5,8.5,8.5,8.5,8.5,8.5,8.5,8.5,8.5,8.5,8.5,8.5,8.5,8.5,8.5,8.5,8.5,8.5,8.5,8.5,8.5,8.5,8.5,8.5,8.5,8.5,8.5,8.5,8.5,8.5,8.5,8.5,8.5,8.5,8.5,8.5,8.5,8.5,8.5,8.5,8.5,8.5,8.5,8.5,8.5,8.5,8.5,8.5,8.5,8.5,8.5,8.5,8.5,8.5,8.5,8.5,8.5,8.5,8.5,8.5,8.5,8.5,8.5,8.5,8.5,8.5,8.5,8.5,8.5,8.5,8.5,8.5,8.5,8.5,8.5,8.5,8.5,8.5,8.5,8.5,8.5,8.5,8.5,8.5,8.5,8.5,8.5,8.5,8.5,8.5,8.5,8.5,8.5,8.5,8.5,8.5,8.5,8.5,8.5,8.5,8.5,8.5,8.5,8.5,8.5,8.5,8.5,8.5,8.5,8.5,8.5,8.5,8.5,8.5,8.5,8.5,8.5,8.5,8.5,8.5,8.5,8.5,8.5,8.5,8.5,8.5,8.5,8.5,8.499210113368774,8.499192426016215,8.499187755882646,8.499189034003413,8.499188688367875,8.49917994196162,8.499157634997813,8.499118543631939,8.49906140317394,8.498986914432948,8.498897886934632,8.49879943634164,8.498698956246294,8.498605557623755,8.498528848113779,8.49847722606712,8.498456136006416,8.498466829322084,8.498506041242898,8.498566691687907,8.498639382039253,8.498714235556218,8.498782594091276,8.498838221168553,8.498877881500038,8.49890136140532,8.498911091401906,8.498911523098549,8.498908344125153,8.498907554958356,8.498914430378623,8.498932453832284,8.498962409060542,8.499001879157237,8.499045383242871,8.499085252819617,8.499113138686644,8.499121812913335,8.499106776775326,8.499067179364515,8.499005721179172,8.498927525383179,8.498838309037053,8.498742450607796,8.498641620841381,8.498534479561632,8.498417587239839,8.498287258102259,8.498141741619278,8.497982984212268,8.497817342250421,8.497654949964685,8.497507876667896,8.4973875885176,8.497302431675497,8.497255811470419,8.497245480431086,8.497263972184443,8.49729987373069,8.497339441248803,8.49736808669151,8.497371451707659,8.497336028769205,8.497249461766991,8.497100687600156,8.496879983447654,8.496578855152396,8.496189654499213,8.495704911082724,8.495116576425348,8.494415584419112,8.493592185659084,8.492637322428351,8.491544902969297,8.490314358304408,8.488952535239703,8.48747397331324,8.4858989867986,8.484249624656659,8.482544291140979,8.48079232606945,8.478989982378904,8.477118948435079,8.475147936199122,8.473037089007702,8.470744283152289,8.46823199647073,8.465473392887466,8.462456602007691,8.459186721925624,8.455685639134842,8.451990153050808,8.448149024528801,8.444219492606939,8.440263686333688,8.436345362652562,8.432527560438265,8.42887191991223,8.425440303557162,8.422298759080583,8.419522824317133,8.417202041763991,8.415440882971295,8.414353582252756,8.414051816641582,8.414626433187813,8.416126780752908,8.418542756750877,8.42179473938718,8.425734964582254,8.430161065942551,8.434839335361383,8.439532804970424,8.444028243665958,8.448156816282523,8.451805134282425,8.454916038079574,8.457480912755644,8.45952701814733,8.461103855910228,8.462271965262483,8.463096009788016,8.463642112977189,8.46397776114349,8.464171775150788,8.464292113421411,8.464400443728746,8.464543983181887,8.464746395130724,8.465000050643678,8.465261578310193,8.465451582150186,8.465458148278952,8.465142695310975,8.464346066742866,8.462892544411996,8.460589658026429,8.457222343269885,8.452541332635041,8.446247779323956,8.437978871243883,8.427302010299272,8.413727038356349,8.396745874446006,8.37590590626416,8.350917230147008,8.321784805599629,8.28894611420607,8.253385247025982,8.216688566773339,8.181008601173826,8.148914257612226,8.12312713166893,8.106172268201329,8.1,8.105653991708694,8.123061045603768,8.150997200045307,8.187246090186624,8.228920134425408,8.272876736287808,8.31614219084454,8.5],\"showlegend\":false,\"mode\":\"lines\",\"fillcolor\":\"rgba(0, 154, 250, 1.000)\",\"name\":\"streak A\",\"line\":{\"color\":\"rgba(0, 154, 250, 1.000)\",\"dash\":\"solid\",\"width\":1},\"y\":[0.25125962242194005,0.6208091923297421,0.990358762237544,1.3599083321453462,1.7294579020531482,2.09900747196095,2.468557041868752,2.838106611776554,3.207656181684356,3.5772057515921585,3.9467553214999604,4.316304891407762,4.685854461315564,5.055404031223366,5.424953601131168,5.79450317103897,6.164052740946772,6.533602310854574,6.903151880762376,7.272701450670178,7.64225102057798,8.011800590485782,8.381350160393584,8.750899730301386,9.120449300209188,9.48999887011699,9.859548440024792,10.229098009932594,10.598647579840396,10.9681971497482,11.337746719656002,11.707296289563804,12.076845859471605,12.446395429379407,12.81594499928721,13.185494569195011,13.555044139102813,13.924593709010615,14.294143278918417,14.66369284882622,15.033242418734021,15.402791988641823,15.772341558549625,16.141891128457427,16.511440698365227,16.88099026827303,17.250539838180835,17.620089408088635,17.98963897799644,18.35918854790424,18.728738117812043,19.098287687719843,19.467837257627647,19.837386827535447,20.20693639744325,20.57648596735105,20.946035537258854,21.315585107166655,21.68513467707446,22.05468424698226,22.424233816890062,22.793783386797863,23.163332956705666,23.532882526613466,23.90243209652127,24.27198166642907,24.641531236336874,25.011080806244674,25.380630376152478,25.75017994606028,26.119729515968082,26.489279085875882,26.858828655783686,27.228378225691486,27.59792779559929,27.96747736550709,28.337026935414894,28.706576505322694,29.076126075230498,29.4456756451383,29.8152252150461,30.184774784953905,30.554324354861706,30.92387392476951,31.29342349467731,31.662973064585113,32.03252263449291,32.40207220440072,32.77162177430852,33.14117134421632,33.51072091412412,33.880270484031925,34.24982005393973,34.619369623847525,34.98891919375533,35.35846876366313,35.72801833357094,36.09756790347873,36.46711747338654,36.83666704329434,37.206216613202145,37.57576618310994,37.945315753017745,38.31486532292555,38.68441489283335,39.05396446274115,39.42351403264895,39.79306360255676,40.16261317246456,40.532162742372364,40.90171231228016,41.271261882187964,41.64081145209577,42.01036102200357,42.37991059191137,42.74946016181917,43.119009731726976,43.48855930163478,43.858108871542576,44.22765844145038,44.597208011358184,44.96675758126599,45.336307151173784,45.70585672108159,46.07540629098939,46.444955860897196,46.81450543080499,47.184055000712796,47.5536045706206,47.9231541405284,48.2927037104362,48.662253280344004,49.03180285025181,49.40135242015961,49.77090199006741,50.14045155997521,50.510001129883015,50.87955069979082,51.249100269698616,51.61864983960642,51.98819940951422,52.35774897942203,52.72729854932983,53.09684811923763,53.46639768914543,53.835947259053235,54.20549682896104,54.575046398868835,54.94459596877664,55.31414553868444,55.68369510859225,56.05324467850004,56.42279424840785,56.79234381831565,57.161893388223454,57.53144295813125,57.900992528039055,58.27054209794686,58.64009166785466,59.00964123776246,59.37919080767026,59.748740377578066,59.748740377578066,59.37919080767026,59.00964123776246,58.64009166785466,58.27054209794686,57.900992528039055,57.53144295813125,57.161893388223454,56.79234381831565,56.42279424840785,56.05324467850004,55.68369510859225,55.31414553868444,54.94459596877664,54.575046398868835,54.20549682896104,53.835947259053235,53.46639768914543,53.09684811923763,52.72729854932983,52.35774897942203,51.98819940951422,51.61864983960642,51.249100269698616,50.87955069979082,50.510001129883015,50.14045155997521,49.77090199006741,49.40135242015961,49.03180285025181,48.662253280344004,48.2927037104362,47.9231541405284,47.5536045706206,47.184055000712796,46.81450543080499,46.444955860897196,46.07540629098939,45.70585672108159,45.336307151173784,44.96675758126599,44.597208011358184,44.22765844145038,43.858108871542576,43.48855930163478,43.119009731726976,42.74946016181917,42.37991059191137,42.01036102200357,41.64081145209577,41.271261882187964,40.90171231228016,40.532162742372364,40.16261317246456,39.79306360255676,39.42351403264895,39.05396446274115,38.68441489283335,38.31486532292555,37.945315753017745,37.57576618310994,37.206216613202145,36.83666704329434,36.46711747338654,36.09756790347873,35.72801833357094,35.35846876366313,34.98891919375533,34.619369623847525,34.24982005393973,33.880270484031925,33.51072091412412,33.14117134421632,32.77162177430852,32.40207220440072,32.03252263449291,31.662973064585113,31.29342349467731,30.92387392476951,30.554324354861706,30.184774784953905,29.8152252150461,29.4456756451383,29.076126075230498,28.706576505322694,28.337026935414894,27.96747736550709,27.59792779559929,27.228378225691486,26.858828655783686,26.489279085875882,26.119729515968082,25.75017994606028,25.380630376152478,25.011080806244674,24.641531236336874,24.27198166642907,23.90243209652127,23.532882526613466,23.163332956705666,22.793783386797863,22.424233816890062,22.05468424698226,21.68513467707446,21.315585107166655,20.946035537258854,20.57648596735105,20.20693639744325,19.837386827535447,19.467837257627647,19.098287687719843,18.728738117812043,18.35918854790424,17.98963897799644,17.620089408088635,17.250539838180835,16.88099026827303,16.511440698365227,16.141891128457427,15.772341558549625,15.402791988641823,15.033242418734021,14.66369284882622,14.294143278918417,13.924593709010615,13.555044139102813,13.185494569195011,12.81594499928721,12.446395429379407,12.076845859471605,11.707296289563804,11.337746719656002,10.9681971497482,10.598647579840396,10.229098009932594,9.859548440024792,9.48999887011699,9.120449300209188,8.750899730301386,8.381350160393584,8.011800590485782,7.64225102057798,7.272701450670178,6.903151880762376,6.533602310854574,6.164052740946772,5.79450317103897,5.424953601131168,5.055404031223366,4.685854461315564,4.316304891407762,3.9467553214999604,3.5772057515921585,3.207656181684356,2.838106611776554,2.468557041868752,2.09900747196095,1.7294579020531482,1.3599083321453462,0.990358762237544,0.6208091923297421,0.25125962242194005,0.25125962242194005],\"type\":\"scatter\"},{\"xaxis\":\"x\",\"fill\":\"tozeroy\",\"yaxis\":\"y\",\"x\":[0.5147972307270601,0.5180563790636089,0.5216267571234077,0.5255128026840941,0.5297245492134072,0.5342659587445816,0.5391223087741828,0.5442523188656611,0.549589219289208,0.5550514603784164,0.5605597680800088,0.5660546135299922,0.5715080997842308,0.5769267400776095,0.5823453592474064,0.5878156093358053,0.5933939673376654,0.5991332662400918,0.6050796100042513,0.6112742794811723,0.6177589624553518,0.6245824610998041,0.6318073004264042,0.6395146691763032,0.6478057891674133,0.6567977701297993,0.6666129886635686,0.6773630287906911,0.6891302905914745,0.7019512842138194,0.7158048767097334,0.7306070036045513,0.7462118121125871,0.7624185307603795,0.7789830978459622,0.7956327371422851,0.8120800050893986,0.8280315851816411,0.8431882588169847,0.857236979223598,0.8698422890448925,0.8806487532022587,0.8893048734134426,0.8955109323223716,0.8990811346827817,0.9,0.8984500665205003,0.8947953278150396,0.889520234455621,0.8831410803624167,0.8761174178199906,0.8687906811374311,0.8613656257425294,0.8539329675007242,0.8465166849819463,0.839123225324253,0.8317741051212206,0.8245147343470374,0.8174043100064265,0.8104984457777198,0.8038354711858249,0.7974311176307166,0.7912794645674488,0.7853550335018726,0.779613161741723,0.773990891514776,0.7684142924172812,0.762817195295034,0.7571707424806318,0.7515160355167573,0.7459876195238575,0.740816272637677,0.7363054430112735,0.732784115164353,0.7305464361354328,0.7297924640177853,0.7305840595929846,0.7328260297923261,0.7362767893516454,0.7405865931537563,0.7453558137157031,0.7502013816277031,0.7548169790503032,0.7590127591045663,0.7627241224006878,0.7659865166156055,0.7688829619585429,0.7714801239394189,0.7737736596996282,0.7756615712107049,0.7769552063028681,0.7774242794250269,0.7768599941303357,0.775134177710981,0.7722348599644621,0.7682685646794245,0.7634321008621905,0.7579664061699187,0.7521085111147957,0.7460548077240193,0.7399421342875653,0.7338462202968589,0.7277923110593492,0.7217711274398633,0.7157541678190995,0.709704645963776,0.7035830690562652,0.6973488165342807,0.6909604853674275,0.6843778370708518,0.6775669203048864,0.6705078709430292,0.6632029256185775,0.6556812597561869,0.6479978899630544,0.6402258969103676,0.6324438368297242,0.6247223276510249,0.6171144772065258,0.6096536574650854,0.6023594376012574,0.5952492397276024,0.5883507657511644,0.5817095749341307,0.575387808814195,0.5694534600715562,0.5639634459910222,0.5589464674959179,0.5543920276982137,0.5502498466673811,0.5464401310714424,0.5428713204209232,0.5394595917142581,0.5361443984537007,0.5328964247882141,0.5297174309057748,0.5266341178920327,0.5236893067767363,0.5209332212444667,0.5184161465985552,0.5161822647506331,0.5142638752933313,0.5126757026640423,0.5114100831061511,0.5104347095559697,0.50969461979775,0.5091190842921214,0.5086324054082565,0.5081661426060771,0.5076696319731383,0.5071161667732373,0.5065036117993953,0.5058499267291781,0.5051854065731042,0.5045439933055472,0.5039557398649236,0.5034417048047134,0.5030116384624502,0.5026641259866049,0.5023885164130923,0.5021679308644894,0.501982745753262,0.5018140454222462,0.5016465837370939,0.5014708305315486,0.5012837853150249,0.5,0.5,0.5,0.5,0.5,0.5,0.5,0.5,0.5,0.5,0.5,0.5,0.5,0.5,0.5,0.5,0.5,0.5,0.5,0.5,0.5,0.5,0.5,0.5,0.5,0.5,0.5,0.5,0.5,0.5,0.5,0.5,0.5,0.5,0.5,0.5,0.5,0.5,0.5,0.5,0.5,0.5,0.5,0.5,0.5,0.5,0.5,0.5,0.5,0.5,0.5,0.5,0.5,0.5,0.5,0.5,0.5,0.5,0.5,0.5,0.5,0.5,0.5,0.5,0.5,0.5,0.5,0.5,0.5,0.5,0.5,0.5,0.5,0.5,0.5,0.5,0.5,0.5,0.5,0.5,0.5,0.5,0.5,0.5,0.5,0.5,0.5,0.5,0.5,0.5,0.5,0.5,0.5,0.5,0.5,0.5,0.5,0.5,0.5,0.5,0.5,0.5,0.5,0.5,0.5,0.5,0.5,0.5,0.5,0.5,0.5,0.5,0.5,0.5,0.5,0.5,0.5,0.5,0.5,0.5,0.5,0.5,0.5,0.5,0.5,0.5,0.5,0.5,0.5,0.5,0.5,0.5,0.5,0.5,0.5,0.5,0.5,0.5,0.5,0.5,0.5,0.5,0.5,0.5,0.5,0.5,0.5,0.5,0.5,0.5,0.5,0.5,0.5,0.5,0.5,0.5,0.5,0.5,0.5,0.5,0.5,0.5,0.5,0.5,0.5,0.5,0.5147972307270601],\"showlegend\":true,\"mode\":\"lines\",\"fillcolor\":\"rgba(227, 111, 71, 1.000)\",\"name\":\"counts A\",\"line\":{\"color\":\"rgba(227, 111, 71, 1.000)\",\"dash\":\"solid\",\"width\":1},\"y\":[2.0874860493316643,2.4136983396427953,2.739910629953927,3.066122920265058,3.3923352105761895,3.718547500887321,4.0447597911984525,4.370972081509583,4.697184371820715,5.023396662131846,5.349608952442978,5.675821242754109,6.002033533065241,6.328245823376371,6.654458113687503,6.9806704039986345,7.306882694309766,7.6330949846208975,7.959307274932028,8.28551956524316,8.611731855554291,8.937944145865423,9.264156436176554,9.590368726487686,9.916581016798817,10.242793307109949,10.569005597421079,10.89521788773221,11.221430178043342,11.547642468354473,11.873854758665605,12.200067048976736,12.526279339287868,12.852491629599,13.17870391991013,13.504916210221262,13.831128500532394,14.157340790843524,14.483553081154655,14.809765371465787,15.135977661776918,15.46218995208805,15.788402242399181,16.114614532710313,16.440826823021442,16.767039113332576,17.093251403643706,17.41946369395484,17.74567598426597,18.071888274577102,18.39810056488823,18.724312855199365,19.050525145510495,19.376737435821624,19.702949726132758,20.029162016443887,20.35537430675502,20.68158659706615,21.007798887377284,21.334011177688414,21.660223467999547,21.986435758310677,22.31264804862181,22.63886033893294,22.96507262924407,23.291284919555203,23.617497209866332,23.943709500177466,24.269921790488596,24.59613408079973,24.92234637111086,25.248558661421992,25.57477095173312,25.900983242044255,26.227195532355385,26.553407822666514,26.879620112977648,27.205832403288777,27.53204469359991,27.85825698391104,28.184469274222174,28.510681564533304,28.836893854844437,29.163106145155567,29.4893184354667,29.81553072577783,30.14174301608896,30.467955306400093,30.794167596711223,31.120379887022356,31.446592177333486,31.77280446764462,32.09901675795575,32.42522904826688,32.75144133857801,33.077653628889145,33.40386591920027,33.730078209511404,34.05629049982254,34.38250279013367,34.7087150804448,35.03492737075593,35.361139661067064,35.6873519513782,36.01356424168932,36.33977653200046,36.66598882231159,36.992201112622716,37.31841340293385,37.64462569324498,37.970837983556116,38.29705027386724,38.623262564178376,38.94947485448951,39.27568714480064,39.60189943511177,39.9281117254229,40.254324015734035,40.58053630604516,40.906748596356294,41.23296088666743,41.55917317697856,41.88538546728969,42.21159775760082,42.537810047911954,42.86402233822309,43.19023462853421,43.51644691884535,43.84265920915648,44.168871499467606,44.49508378977874,44.82129608008987,45.147508370401006,45.47372066071213,45.799932951023266,46.1261452413344,46.45235753164553,46.77856982195666,47.10478211226779,47.430994402578925,47.75720669289005,48.083418983201184,48.40963127351232,48.73584356382345,49.06205585413458,49.38826814444571,49.714480434756844,50.04069272506798,50.3669050153791,50.69311730569024,51.01932959600137,51.345541886312496,51.67175417662363,51.99796646693476,52.324178757245896,52.65039104755702,52.976603337868156,53.30281562817929,53.62902791849042,53.95524020880155,54.28145249911268,54.607664789423815,54.93387707973494,55.260089370046074,55.58630166035721,55.91251395066834,55.91251395066834,55.58630166035721,55.260089370046074,54.93387707973494,54.607664789423815,54.28145249911268,53.95524020880155,53.62902791849042,53.30281562817929,52.976603337868156,52.65039104755702,52.324178757245896,51.99796646693476,51.67175417662363,51.345541886312496,51.01932959600137,50.69311730569024,50.3669050153791,50.04069272506798,49.714480434756844,49.38826814444571,49.06205585413458,48.73584356382345,48.40963127351232,48.083418983201184,47.75720669289005,47.430994402578925,47.10478211226779,46.77856982195666,46.45235753164553,46.1261452413344,45.799932951023266,45.47372066071213,45.147508370401006,44.82129608008987,44.49508378977874,44.168871499467606,43.84265920915648,43.51644691884535,43.19023462853421,42.86402233822309,42.537810047911954,42.21159775760082,41.88538546728969,41.55917317697856,41.23296088666743,40.906748596356294,40.58053630604516,40.254324015734035,39.9281117254229,39.60189943511177,39.27568714480064,38.94947485448951,38.623262564178376,38.29705027386724,37.970837983556116,37.64462569324498,37.31841340293385,36.992201112622716,36.66598882231159,36.33977653200046,36.01356424168932,35.6873519513782,35.361139661067064,35.03492737075593,34.7087150804448,34.38250279013367,34.05629049982254,33.730078209511404,33.40386591920027,33.077653628889145,32.75144133857801,32.42522904826688,32.09901675795575,31.77280446764462,31.446592177333486,31.120379887022356,30.794167596711223,30.467955306400093,30.14174301608896,29.81553072577783,29.4893184354667,29.163106145155567,28.836893854844437,28.510681564533304,28.184469274222174,27.85825698391104,27.53204469359991,27.205832403288777,26.879620112977648,26.553407822666514,26.227195532355385,25.900983242044255,25.57477095173312,25.248558661421992,24.92234637111086,24.59613408079973,24.269921790488596,23.943709500177466,23.617497209866332,23.291284919555203,22.96507262924407,22.63886033893294,22.31264804862181,21.986435758310677,21.660223467999547,21.334011177688414,21.007798887377284,20.68158659706615,20.35537430675502,20.029162016443887,19.702949726132758,19.376737435821624,19.050525145510495,18.724312855199365,18.39810056488823,18.071888274577102,17.74567598426597,17.41946369395484,17.093251403643706,16.767039113332576,16.440826823021442,16.114614532710313,15.788402242399181,15.46218995208805,15.135977661776918,14.809765371465787,14.483553081154655,14.157340790843524,13.831128500532394,13.504916210221262,13.17870391991013,12.852491629599,12.526279339287868,12.200067048976736,11.873854758665605,11.547642468354473,11.221430178043342,10.89521788773221,10.569005597421079,10.242793307109949,9.916581016798817,9.590368726487686,9.264156436176554,8.937944145865423,8.611731855554291,8.28551956524316,7.959307274932028,7.6330949846208975,7.306882694309766,6.9806704039986345,6.654458113687503,6.328245823376371,6.002033533065241,5.675821242754109,5.349608952442978,5.023396662131846,4.697184371820715,4.370972081509583,4.0447597911984525,3.718547500887321,3.3923352105761895,3.066122920265058,2.739910629953927,2.4136983396427953,2.0874860493316643,2.0874860493316643],\"type\":\"scatter\"},{\"xaxis\":\"x\",\"fill\":\"tozeroy\",\"yaxis\":\"y\",\"x\":[1.542971088492196,1.5494282998601085,1.5553202172398763,1.560450680555621,1.5647547040368466,1.5683048799629344,1.5712900618829695,1.5739725562800715,1.5766351123438052,1.5795304965657573,1.5828443216694112,1.5866771861029603,1.5910467690976462,1.5959059267796751,1.6011701004169876,1.6067468033526913,1.6125612579501971,1.618574605911336,1.6247935428815687,1.6312719336458432,1.638105629974222,1.6454216192792273,1.6533624676106853,1.662067432198304,1.6716527351372268,1.6821947276953366,1.6937200095910947,1.7062051684571018,1.7195856795726703,1.733769742693665,1.7486502137013231,1.764107911331604,1.7800029301584943,1.7961561000961854,1.8123281106144866,1.8282065671803016,1.8434098613502545,1.8575114790630962,1.8700812391454544,1.8807338147839299,1.889172218565706,1.8952157184954217,1.898807002972911,1.9000000000000001,1.8989349159588937,1.8958090056985473,1.890850157871296,1.8842969582303726,1.8763855353696426,1.8673417601474196,1.8573775194009905,1.8466907935025956,1.8354696643331252,1.8238993452690575,1.812169326385075,1.8004762570854729,1.7890187431231193,1.7779832213581246,1.7675243579531583,1.7577468427180387,1.748696061672053,1.7403623061515507,1.7326980650848873,1.7256428767502126,1.7191474776401636,1.7131896693337854,1.7077778632338891,1.7029428781673779,1.6987222732464817,1.6951430649301773,1.692208021095372,1.6898886608491315,1.6881257089295731,1.6868358716284935,1.685922733808971,1.6852892545261564,1.6848495473058531,1.6845381744092038,1.684315903382179,1.6841715911294624,1.684120368512832,1.6841984489076238,1.6844547212530352,1.6849391046891748,1.6856878653253597,1.6867070184412705,1.6879564353340675,1.689338701036241,1.6906971918254865,1.6918265279301719,1.6924955028925073,1.692478734340177,1.691590185997077,1.689710808606832,1.686804330939178,1.6829189128726527,1.6781762711599446,1.672752368595134,1.6668541345924746,1.6606955265609409,1.6544748647943193,1.6483548945116249,1.6424476014025624,1.6368065619068286,1.631429311751352,1.626270195107354,1.62126088968346,1.616332773211232,1.6114341946382937,1.6065374496467708,1.6016343630527583,1.5967241300882202,1.5918003085041714,1.5868440560924888,1.5818277352573138,1.57672818148734,1.5715444042276436,1.5663122181911193,1.5611091876153078,1.5560468055303043,1.5512514563979107,1.5468395594650068,1.5428940108499913,1.539448268215564,1.5364817503014232,1.5339268084304123,1.531684543853387,1.52964497985355,1.5277067873116796,1.525792665984583,1.5238580887560844,1.5218928673100052,1.5199164680594162,1.5179689740781954,1.5161000156602245,1.5143579516915004,1.5127811792805121,1.5113927796643956,1.5101988883543307,1.5091903645892608,1.5083467190763709,1.5076409930718604,1.5070444016132094,1.5065299498450686,1.5060747092739217,1.505660828606222,1.5052755797833048,1.5049108261374804,1.5045622934045058,1.5042289386483292,1.503912533751578,1.5036173315636885,1.5033494676965002,1.5031157202935899,1.5029214972653708,1.5027683827317477,1.5026520268791537,1.5025613294427562,1.50247958321976,1.5023875750428575,1.5022678673566119,1.502108961011351,1.501908018582439,1.501671322347781,1.5,1.5,1.5,1.5,1.5,1.5,1.5,1.5,1.5,1.5,1.5,1.5,1.5,1.5,1.5,1.5,1.5,1.5,1.5,1.5,1.5,1.5,1.5,1.5,1.5,1.5,1.5,1.5,1.5,1.5,1.5,1.5,1.5,1.5,1.5,1.5,1.5,1.5,1.5,1.5,1.5,1.5,1.5,1.5,1.5,1.5,1.5,1.5,1.5,1.5,1.5,1.5,1.5,1.5,1.5,1.5,1.5,1.5,1.5,1.5,1.5,1.5,1.5,1.5,1.5,1.5,1.5,1.5,1.5,1.5,1.5,1.5,1.5,1.5,1.5,1.5,1.5,1.5,1.5,1.5,1.5,1.5,1.5,1.5,1.5,1.5,1.5,1.5,1.5,1.5,1.5,1.5,1.5,1.5,1.5,1.5,1.5,1.5,1.5,1.5,1.5,1.5,1.5,1.5,1.5,1.5,1.5,1.5,1.5,1.5,1.5,1.5,1.5,1.5,1.5,1.5,1.5,1.5,1.5,1.5,1.5,1.5,1.5,1.5,1.5,1.5,1.5,1.5,1.5,1.5,1.5,1.5,1.5,1.5,1.5,1.5,1.5,1.5,1.5,1.5,1.5,1.5,1.5,1.5,1.5,1.5,1.5,1.5,1.5,1.5,1.5,1.5,1.5,1.5,1.5,1.5,1.5,1.5,1.5,1.5,1.5,1.5,1.5,1.5,1.542971088492196],\"showlegend\":false,\"mode\":\"lines\",\"fillcolor\":\"rgba(227, 111, 71, 1.000)\",\"name\":\"counts A\",\"line\":{\"color\":\"rgba(227, 111, 71, 1.000)\",\"dash\":\"solid\",\"width\":1},\"y\":[1.0228508237715013,1.3599937584491517,1.697136693126802,2.034279627804452,2.3714225624821026,2.7085654971597526,3.045708431837403,3.3828513665150535,3.7199943011927035,4.0571372358703535,4.394280170548004,4.731423105225654,5.068566039903304,5.405708974580955,5.742851909258605,6.079994843936255,6.417137778613906,6.754280713291556,7.091423647969206,7.428566582646857,7.765709517324507,8.102852452002157,8.439995386679808,8.777138321357457,9.114281256035108,9.451424190712759,9.788567125390408,10.125710060068059,10.46285299474571,10.799995929423359,11.13713886410101,11.47428179877866,11.81142473345631,12.14856766813396,12.485710602811611,12.82285353748926,13.159996472166911,13.497139406844562,13.834282341522211,14.171425276199862,14.508568210877513,14.845711145555162,15.182854080232813,15.519997014910464,15.857139949588113,16.194282884265764,16.531425818943415,16.868568753621066,17.205711688298713,17.542854622976364,17.879997557654015,18.217140492331666,18.554283427009317,18.891426361686968,19.228569296364615,19.565712231042266,19.902855165719917,20.239998100397568,20.57714103507522,20.91428396975287,21.251426904430517,21.588569839108168,21.92571277378582,22.26285570846347,22.59999864314112,22.937141577818768,23.27428451249642,23.61142744717407,23.94857038185172,24.28571331652937,24.622856251207022,24.95999918588467,25.29714212056232,25.63428505523997,25.971427989917622,26.308570924595273,26.645713859272924,26.98285679395057,27.319999728628222,27.657142663305873,27.994285597983524,28.331428532661175,28.668571467338825,29.005714402016473,29.342857336694124,29.680000271371775,30.017143206049425,30.354286140727076,30.691429075404727,31.028572010082375,31.365714944760025,31.702857879437676,32.040000814115324,32.377143748792975,32.714286683470625,33.051429618148276,33.38857255282593,33.72571548750358,34.06285842218123,34.40000135685888,34.73714429153653,35.07428722621418,35.41143016089183,35.748573095569476,36.08571603024713,36.42285896492478,36.76000189960243,37.09714483428008,37.43428776895773,37.77143070363538,38.10857363831303,38.44571657299068,38.782859507668334,39.120002442345985,39.457145377023636,39.79428831170128,40.13143124637893,40.46857418105658,40.80571711573423,41.14286005041188,41.480002985089534,41.817145919767185,42.154288854444836,42.49143178912249,42.82857472380014,43.16571765847779,43.50286059315543,43.84000352783308,44.177146462510734,44.514289397188385,44.851432331866036,45.18857526654369,45.52571820122134,45.86286113589899,46.20000407057664,46.53714700525429,46.87428993993194,47.21143287460959,47.548575809287236,47.88571874396489,48.22286167864254,48.56000461332019,48.89714754799784,49.23429048267549,49.57143341735314,49.90857635203079,50.24571928670844,50.582862221386094,50.920005156063745,51.257148090741396,51.59429102541904,51.93143396009669,52.26857689477434,52.60571982945199,52.94286276412964,53.280005698807294,53.617148633484945,53.954291568162596,54.29143450284025,54.6285774375179,54.96572037219555,55.30286330687319,55.64000624155084,55.977149176228494,55.977149176228494,55.64000624155084,55.30286330687319,54.96572037219555,54.6285774375179,54.29143450284025,53.954291568162596,53.617148633484945,53.280005698807294,52.94286276412964,52.60571982945199,52.26857689477434,51.93143396009669,51.59429102541904,51.257148090741396,50.920005156063745,50.582862221386094,50.24571928670844,49.90857635203079,49.57143341735314,49.23429048267549,48.89714754799784,48.56000461332019,48.22286167864254,47.88571874396489,47.548575809287236,47.21143287460959,46.87428993993194,46.53714700525429,46.20000407057664,45.86286113589899,45.52571820122134,45.18857526654369,44.851432331866036,44.514289397188385,44.177146462510734,43.84000352783308,43.50286059315543,43.16571765847779,42.82857472380014,42.49143178912249,42.154288854444836,41.817145919767185,41.480002985089534,41.14286005041188,40.80571711573423,40.46857418105658,40.13143124637893,39.79428831170128,39.457145377023636,39.120002442345985,38.782859507668334,38.44571657299068,38.10857363831303,37.77143070363538,37.43428776895773,37.09714483428008,36.76000189960243,36.42285896492478,36.08571603024713,35.748573095569476,35.41143016089183,35.07428722621418,34.73714429153653,34.40000135685888,34.06285842218123,33.72571548750358,33.38857255282593,33.051429618148276,32.714286683470625,32.377143748792975,32.040000814115324,31.702857879437676,31.365714944760025,31.028572010082375,30.691429075404727,30.354286140727076,30.017143206049425,29.680000271371775,29.342857336694124,29.005714402016473,28.668571467338825,28.331428532661175,27.994285597983524,27.657142663305873,27.319999728628222,26.98285679395057,26.645713859272924,26.308570924595273,25.971427989917622,25.63428505523997,25.29714212056232,24.95999918588467,24.622856251207022,24.28571331652937,23.94857038185172,23.61142744717407,23.27428451249642,22.937141577818768,22.59999864314112,22.26285570846347,21.92571277378582,21.588569839108168,21.251426904430517,20.91428396975287,20.57714103507522,20.239998100397568,19.902855165719917,19.565712231042266,19.228569296364615,18.891426361686968,18.554283427009317,18.217140492331666,17.879997557654015,17.542854622976364,17.205711688298713,16.868568753621066,16.531425818943415,16.194282884265764,15.857139949588113,15.519997014910464,15.182854080232813,14.845711145555162,14.508568210877513,14.171425276199862,13.834282341522211,13.497139406844562,13.159996472166911,12.82285353748926,12.485710602811611,12.14856766813396,11.81142473345631,11.47428179877866,11.13713886410101,10.799995929423359,10.46285299474571,10.125710060068059,9.788567125390408,9.451424190712759,9.114281256035108,8.777138321357457,8.439995386679808,8.102852452002157,7.765709517324507,7.428566582646857,7.091423647969206,6.754280713291556,6.417137778613906,6.079994843936255,5.742851909258605,5.405708974580955,5.068566039903304,4.731423105225654,4.394280170548004,4.0571372358703535,3.7199943011927035,3.3828513665150535,3.045708431837403,2.7085654971597526,2.3714225624821026,2.034279627804452,1.697136693126802,1.3599937584491517,1.0228508237715013,1.0228508237715013],\"type\":\"scatter\"},{\"xaxis\":\"x\",\"fill\":\"tozeroy\",\"yaxis\":\"y\",\"x\":[2.506510062360422,2.508627947272079,2.511088401270636,2.513895400169684,2.517074820335841,2.5206792635148196,2.5247790334382203,2.529438742902702,2.5346853644528298,2.5404786405106425,2.5466960485136414,2.5531407851516543,2.5595734971832655,2.5657596893097128,2.5715185097683277,2.576757633366247,2.581483772457527,2.5857871176895157,2.5898072995910306,2.5936946202263202,2.5975809535650547,2.6015697060892378,2.6057456944089536,2.61019726571431,2.6150379691754493,2.62041565724343,2.6265028289368533,2.633470820092902,2.6414582841596252,2.650547736855408,2.660761007061311,2.6720761513233025,2.6844581022495215,2.697887578404217,2.7123714525371594,2.7279242458615673,2.7445226718430313,2.762048272210337,2.7802412567863013,2.7986874000232587,2.8168488439049764,2.8341330435465206,2.849979064656666,2.8639339248772333,2.8756966790248475,2.8851218063412065,2.892189216154911,2.896958535803165,2.899526544269737,2.9,2.8984865061396694,2.8950985648427174,2.8899633121706993,2.883232147817041,2.8750879974204193,2.8657504184682443,2.855478671228119,2.8445707108537417,2.833353855826635,2.8221629953169876,2.811305822099035,2.801020849245775,2.791440024566452,2.782569988529456,2.774302066245916,2.766451545884788,2.7588155174898557,2.7512308981066114,2.7436142195167417,2.735972506294553,2.7283863444486656,2.7209763713598316,2.7138684286165087,2.707169428088257,2.7009581388430393,2.69528715068222,2.69018822668879,2.6856745564075424,2.6817383810181235,2.678347541591772,2.6754465590501626,2.672965952140873,2.670839136789869,2.66902205744359,2.667508710840809,2.666336445292508,2.66557761842992,2.665317787821706,2.665624293856011,2.666512341776543,2.667917842989635,2.669686369089283,2.671584694443677,2.67333545463364,2.674667774481988,2.6753700712994863,2.6753287882747148,2.6745405080599474,2.673094017331295,2.6711298612162686,2.66879284892832,2.6661942231815305,2.6633944615417215,2.66040804592432,2.657222726703771,2.6538215888690546,2.650197723241561,2.64635690174852,2.6423102153583415,2.638063139847736,2.633608307444874,2.6289265739265253,2.62399645618302,2.618807941572811,2.6133748610564997,2.6077410764017968,2.601978829983396,2.596180958724011,2.5904505216312144,2.5848909934657835,2.579598209539419,2.5746532833321414,2.570115134256126,2.566012328100807,2.5623357523212773,2.5590349151648355,2.556020567388456,2.5531749805185555,2.5503692420403974,2.547485025184594,2.5444368471936496,2.541190051626767,2.537769898932119,2.5342585355558986,2.530779283334348,2.527471112474075,2.5244592365418446,2.5218292812067675,2.519611696717753,2.517780144423276,2.5162634666886468,2.514966962981183,2.5137963406076955,2.512677591092175,2.5115680496102635,2.510457184663972,2.509359015771519,2.508300321578195,2.507309310945314,2.5064082088907003,2.5056109284149684,2.5049246845424724,2.504353010059143,2.5038976369164034,2.5035579401026573,2.5033283750234,2.5031956521030096,2.503137627143414,2.5031249955131067,2.503125440086385,2.5031087449185754,2.5030511417596926,2.502937795744722,2.5027633239935754,2.5025309382751577,2.5022509085041933,2.501938722638406,2.501612976704888,2.5,2.5,2.5,2.5,2.5,2.5,2.5,2.5,2.5,2.5,2.5,2.5,2.5,2.5,2.5,2.5,2.5,2.5,2.5,2.5,2.5,2.5,2.5,2.5,2.5,2.5,2.5,2.5,2.5,2.5,2.5,2.5,2.5,2.5,2.5,2.5,2.5,2.5,2.5,2.5,2.5,2.5,2.5,2.5,2.5,2.5,2.5,2.5,2.5,2.5,2.5,2.5,2.5,2.5,2.5,2.5,2.5,2.5,2.5,2.5,2.5,2.5,2.5,2.5,2.5,2.5,2.5,2.5,2.5,2.5,2.5,2.5,2.5,2.5,2.5,2.5,2.5,2.5,2.5,2.5,2.5,2.5,2.5,2.5,2.5,2.5,2.5,2.5,2.5,2.5,2.5,2.5,2.5,2.5,2.5,2.5,2.5,2.5,2.5,2.5,2.5,2.5,2.5,2.5,2.5,2.5,2.5,2.5,2.5,2.5,2.5,2.5,2.5,2.5,2.5,2.5,2.5,2.5,2.5,2.5,2.5,2.5,2.5,2.5,2.5,2.5,2.5,2.5,2.5,2.5,2.5,2.5,2.5,2.5,2.5,2.5,2.5,2.5,2.5,2.5,2.5,2.5,2.5,2.5,2.5,2.5,2.5,2.5,2.5,2.5,2.5,2.5,2.5,2.5,2.5,2.5,2.5,2.5,2.5,2.5,2.5,2.5,2.5,2.5,2.5,2.5,2.5,2.5,2.506510062360422],\"showlegend\":false,\"mode\":\"lines\",\"fillcolor\":\"rgba(227, 111, 71, 1.000)\",\"name\":\"counts A\",\"line\":{\"color\":\"rgba(227, 111, 71, 1.000)\",\"dash\":\"solid\",\"width\":1},\"y\":[1.1472495643313492,1.480815437812411,1.8143813112934728,2.1479471847745346,2.4815130582555964,2.815078931736658,3.1486448052177196,3.4822106786987814,3.8157765521798432,4.149342425660905,4.482908299141966,4.816474172623028,5.15004004610409,5.483605919585152,5.817171793066214,6.1507376665472755,6.484303540028337,6.817869413509399,7.151435286990461,7.485001160471523,7.818567033952585,8.152132907433646,8.485698780914708,8.81926465439577,9.152830527876832,9.486396401357894,9.819962274838955,10.153528148320017,10.487094021801079,10.820659895282141,11.154225768763203,11.487791642244265,11.821357515725325,12.154923389206386,12.488489262687448,12.82205513616851,13.155621009649572,13.489186883130634,13.822752756611695,14.156318630092757,14.489884503573819,14.823450377054881,15.157016250535943,15.490582124017005,15.824147997498066,16.15771387097913,16.49127974446019,16.824845617941254,17.158411491422314,17.491977364903374,17.825543238384437,18.159109111865497,18.49267498534656,18.82624085882762,19.159806732308684,19.493372605789745,19.826938479270808,20.160504352751868,20.49407022623293,20.82763609971399,21.161201973195055,21.494767846676115,21.82833372015718,22.16189959363824,22.495465467119303,22.829031340600363,23.162597214081426,23.496163087562486,23.82972896104355,24.16329483452461,24.496860708005674,24.830426581486734,25.163992454967797,25.497558328448857,25.83112420192992,26.16469007541098,26.498255948892044,26.831821822373104,27.165387695854168,27.498953569335228,27.83251944281629,28.16608531629735,28.49965118977841,28.833217063259475,29.166782936740535,29.5003488102216,29.83391468370266,30.167480557183723,30.501046430664783,30.834612304145846,31.168178177626906,31.50174405110797,31.83530992458903,32.16887579807009,32.50244167155115,32.83600754503222,33.16957341851328,33.50313929199434,33.8367051654754,34.170271038956464,34.50383691243753,34.837402785918584,35.17096865939965,35.50453453288071,35.838100406361775,36.17166627984283,36.505232153323895,36.83879802680496,37.17236390028602,37.50592977376708,37.83949564724814,38.173061520729206,38.50662739421027,38.840193267691326,39.17375914117239,39.50732501465345,39.84089088813451,40.17445676161557,40.50802263509664,40.8415885085777,41.17515438205876,41.50872025553982,41.842286129020884,42.17585200250195,42.509417875983004,42.84298374946407,43.17654962294513,43.510115496426195,43.84368136990725,44.177247243388315,44.51081311686938,44.84437899035044,45.1779448638315,45.51151073731256,45.845076610793626,46.17864248427469,46.512208357755746,46.84577423123681,47.17934010471787,47.51290597819894,47.84647185167999,48.18003772516106,48.51360359864212,48.847169472123184,49.18073534560424,49.514301219085304,49.84786709256637,50.181432966047424,50.51499883952849,50.84856471300955,51.182130586490615,51.51569645997167,51.849262333452735,52.1828282069338,52.51639408041486,52.84995995389592,53.18352582737698,53.517091700858046,53.85065757433911,54.184223447820166,54.51778932130123,54.85135519478229,55.18492106826336,55.51848694174441,55.85205281522548,56.18561868870654,56.519184562187604,56.85275043566866,56.85275043566866,56.519184562187604,56.18561868870654,55.85205281522548,55.51848694174441,55.18492106826336,54.85135519478229,54.51778932130123,54.184223447820166,53.85065757433911,53.517091700858046,53.18352582737698,52.84995995389592,52.51639408041486,52.1828282069338,51.849262333452735,51.51569645997167,51.182130586490615,50.84856471300955,50.51499883952849,50.181432966047424,49.84786709256637,49.514301219085304,49.18073534560424,48.847169472123184,48.51360359864212,48.18003772516106,47.84647185167999,47.51290597819894,47.17934010471787,46.84577423123681,46.512208357755746,46.17864248427469,45.845076610793626,45.51151073731256,45.1779448638315,44.84437899035044,44.51081311686938,44.177247243388315,43.84368136990725,43.510115496426195,43.17654962294513,42.84298374946407,42.509417875983004,42.17585200250195,41.842286129020884,41.50872025553982,41.17515438205876,40.8415885085777,40.50802263509664,40.17445676161557,39.84089088813451,39.50732501465345,39.17375914117239,38.840193267691326,38.50662739421027,38.173061520729206,37.83949564724814,37.50592977376708,37.17236390028602,36.83879802680496,36.505232153323895,36.17166627984283,35.838100406361775,35.50453453288071,35.17096865939965,34.837402785918584,34.50383691243753,34.170271038956464,33.8367051654754,33.50313929199434,33.16957341851328,32.83600754503222,32.50244167155115,32.16887579807009,31.83530992458903,31.50174405110797,31.168178177626906,30.834612304145846,30.501046430664783,30.167480557183723,29.83391468370266,29.5003488102216,29.166782936740535,28.833217063259475,28.49965118977841,28.16608531629735,27.83251944281629,27.498953569335228,27.165387695854168,26.831821822373104,26.498255948892044,26.16469007541098,25.83112420192992,25.497558328448857,25.163992454967797,24.830426581486734,24.496860708005674,24.16329483452461,23.82972896104355,23.496163087562486,23.162597214081426,22.829031340600363,22.495465467119303,22.16189959363824,21.82833372015718,21.494767846676115,21.161201973195055,20.82763609971399,20.49407022623293,20.160504352751868,19.826938479270808,19.493372605789745,19.159806732308684,18.82624085882762,18.49267498534656,18.159109111865497,17.825543238384437,17.491977364903374,17.158411491422314,16.824845617941254,16.49127974446019,16.15771387097913,15.824147997498066,15.490582124017005,15.157016250535943,14.823450377054881,14.489884503573819,14.156318630092757,13.822752756611695,13.489186883130634,13.155621009649572,12.82205513616851,12.488489262687448,12.154923389206386,11.821357515725325,11.487791642244265,11.154225768763203,10.820659895282141,10.487094021801079,10.153528148320017,9.819962274838955,9.486396401357894,9.152830527876832,8.81926465439577,8.485698780914708,8.152132907433646,7.818567033952585,7.485001160471523,7.151435286990461,6.817869413509399,6.484303540028337,6.1507376665472755,5.817171793066214,5.483605919585152,5.15004004610409,4.816474172623028,4.482908299141966,4.149342425660905,3.8157765521798432,3.4822106786987814,3.1486448052177196,2.815078931736658,2.4815130582555964,2.1479471847745346,1.8143813112934728,1.480815437812411,1.1472495643313492,1.1472495643313492],\"type\":\"scatter\"},{\"xaxis\":\"x\",\"fill\":\"tozeroy\",\"yaxis\":\"y\",\"x\":[3.518525808325416,3.523372341073933,3.5284208643854296,3.533435680993196,3.538217741296271,3.5426413758067237,3.546671201837454,3.5503554474205408,3.5537998752608067,3.5571324520910785,3.560470658761754,3.5639005141546996,3.56747057551489,3.5711981044773395,3.5750808472170124,3.5791077908034508,3.58326536473694,3.587539927822825,3.5919205885606384,3.5964067049941506,3.60102158334369,3.605829383289706,3.6109484450001603,3.616553357975512,3.622860932104756,3.630100814834789,3.638477419420446,3.6481334285523186,3.659124835056281,3.671413550532005,3.684877931525744,3.699336505667398,3.7145773377310323,3.7303851592684976,3.746559957839519,3.7629233963359923,3.779312718276953,3.795565288066656,3.8114998559709825,3.826901904185584,3.841519186685657,3.855070049185494,3.867262734875558,3.877820517479081,3.8865063670065263,3.893141917793321,3.897617834519025,3.89989523019338,3.9,3.898013552256927,3.8940641043983413,3.8883219288540953,3.880999416609467,3.872353229805399,3.86268282190611,3.85231917041338,3.841600684923514,3.8308390614227563,3.8202837630682476,3.810096694770127,3.800346514556721,3.7910252708806578,3.7820814868998007,3.7734574101516625,3.765117041595115,3.7570563589757517,3.749295552362247,3.7418610351366692,3.734768736242113,3.728018157629168,3.7216002235163548,3.715514493513161,3.709786579935683,3.704476699502878,3.6996747110976034,3.6954831353124664,3.691994370807282,3.6892696524417428,3.6873253142567832,3.6861283462738346,3.6856001684179076,3.68562620624358,3.686069061129964,3.686783689599049,3.6876329812425857,3.6885013286011445,3.6893031129866265,3.6899836322714563,3.6905122121548413,3.690870145525621,3.691038063628423,3.690987206643663,3.690677000978016,3.6900586553252026,3.6890825290535716,3.687706331938107,3.6859014309425504,3.6836551708068845,3.6809681530871337,3.677847160911651,3.67429667392253,3.670313557850761,3.6658890554716326,3.6610191202714804,3.6557196788275097,3.6500400951541465,3.6440680623104833,3.637922599177184,3.6317369533385877,3.625637330773409,3.6197246072322247,3.614064327979124,3.6086866099168176,3.603593777093964,3.598771124656805,3.5941958623229255,3.5898410372631506,3.585674355327624,3.5816549625949574,3.577732847648355,3.573854543432941,3.5699754750930173,3.566075221853417,3.5621693408407666,3.5583117767920007,3.554585206176161,3.5510813520731292,3.547877181189664,3.545014366599623,3.542488143776067,3.5402485364480074,3.5382132297876145,3.5362882931607293,3.534391144883863,3.5324697683941437,3.530513164670205,3.5285502242094924,3.526637337251124,3.524838471948199,3.5232040398548445,3.5217554560508217,3.5204803057066103,3.5193390274617737,3.5182796885528043,3.517254720319126,3.51623357364231,3.515207864493059,3.5141892036873066,3.5132027137751143,3.512280061356385,3.5114546511876097,3.5107593797361707,3.510225330976725,3.50987903475481,3.509736731883984,3.5097960746756525,3.510027864279751,3.5103716772307374,3.510738799081528,3.5110237285239134,3.5111224258609663,3.510952751332416,3.510471376022801,3.509682372542307,3.5086353005618984,3.5074138038121894,3.5,3.5,3.5,3.5,3.5,3.5,3.5,3.5,3.5,3.5,3.5,3.5,3.5,3.5,3.5,3.5,3.5,3.5,3.5,3.5,3.5,3.5,3.5,3.5,3.5,3.5,3.5,3.5,3.5,3.5,3.5,3.5,3.5,3.5,3.5,3.5,3.5,3.5,3.5,3.5,3.5,3.5,3.5,3.5,3.5,3.5,3.5,3.5,3.5,3.5,3.5,3.5,3.5,3.5,3.5,3.5,3.5,3.5,3.5,3.5,3.5,3.5,3.5,3.5,3.5,3.5,3.5,3.5,3.5,3.5,3.5,3.5,3.5,3.5,3.5,3.5,3.5,3.5,3.5,3.5,3.5,3.5,3.5,3.5,3.5,3.5,3.5,3.5,3.5,3.5,3.5,3.5,3.5,3.5,3.5,3.5,3.5,3.5,3.5,3.5,3.5,3.5,3.5,3.5,3.5,3.5,3.5,3.5,3.5,3.5,3.5,3.5,3.5,3.5,3.5,3.5,3.5,3.5,3.5,3.5,3.5,3.5,3.5,3.5,3.5,3.5,3.5,3.5,3.5,3.5,3.5,3.5,3.5,3.5,3.5,3.5,3.5,3.5,3.5,3.5,3.5,3.5,3.5,3.5,3.5,3.5,3.5,3.5,3.5,3.5,3.5,3.5,3.5,3.5,3.5,3.5,3.5,3.5,3.5,3.5,3.5,3.5,3.5,3.5,3.5,3.5,3.518525808325416],\"showlegend\":false,\"mode\":\"lines\",\"fillcolor\":\"rgba(227, 111, 71, 1.000)\",\"name\":\"counts A\",\"line\":{\"color\":\"rgba(227, 111, 71, 1.000)\",\"dash\":\"solid\",\"width\":1},\"y\":[0.28234329662995683,0.6183148930344422,0.9542864894389276,1.290258085843413,1.6262296822478983,1.9622012786523837,2.298172875056869,2.6341444714613544,2.97011606786584,3.306087664270325,3.6420592606748103,3.978030857079296,4.3140024534837815,4.649974049888266,4.985945646292752,5.321917242697237,5.657888839101723,5.993860435506209,6.329832031910693,6.665803628315179,7.0017752247196645,7.337746821124149,7.673718417528635,8.00969001393312,8.345661610337606,8.681633206742092,9.017604803146577,9.353576399551063,9.689547995955547,10.025519592360032,10.361491188764518,10.697462785169003,11.033434381573489,11.369405977977975,11.70537757438246,12.041349170786944,12.37732076719143,12.713292363595915,13.0492639600004,13.385235556404886,13.721207152809372,14.057178749213858,14.393150345618343,14.729121942022829,15.065093538427313,15.401065134831798,15.737036731236284,16.07300832764077,16.408979924045255,16.74495152044974,17.080923116854226,17.41689471325871,17.752866309663197,18.08883790606768,18.42480950247217,18.760781098876652,19.096752695281136,19.432724291685624,19.768695888090107,20.104667484494595,20.44063908089908,20.776610677303566,21.11258227370805,21.448553870112534,21.78452546651702,22.120497062921505,22.456468659325992,22.792440255730476,23.128411852134963,23.464383448539447,23.800355044943935,24.13632664134842,24.472298237752902,24.80826983415739,25.144241430561873,25.48021302696636,25.816184623370845,26.152156219775332,26.488127816179816,26.824099412584303,27.160071008988787,27.49604260539327,27.832014201797758,28.167985798202242,28.50395739460673,28.839928991011213,29.1759005874157,29.511872183820184,29.847843780224668,30.183815376629155,30.51978697303364,30.855758569438127,31.19173016584261,31.527701762247098,31.86367335865158,32.199644955056065,32.53561655146055,32.87158814786504,33.207559744269524,33.54353134067401,33.87950293707849,34.21547453348298,34.551446129887466,34.88741772629195,35.223389322696434,35.55936091910092,35.89533251550541,36.23130411190989,36.56727570831438,36.90324730471886,37.23921890112335,37.575190497527835,37.91116209393232,38.2471336903368,38.58310528674129,38.91907688314578,39.25504847955026,39.591020075954745,39.92699167235923,40.26296326876371,40.598934865168204,40.93490646157269,41.27087805797717,41.606849654381655,41.942821250786146,42.27879284719063,42.614764443595114,42.9507360399996,43.28670763640408,43.62267923280857,43.958650829213056,44.29462242561754,44.630594022022024,44.966565618426515,45.302537214831,45.63850881123548,45.974480407639966,46.31045200404445,46.64642360044894,46.982395196853425,47.31836679325791,47.65433838966239,47.99030998606688,48.32628158247137,48.66225317887585,48.998224775280335,49.33419637168482,49.67016796808931,50.00613956449379,50.34211116089828,50.67808275730276,51.01405435370725,51.350025950111736,51.68599754651622,52.0219691429207,52.35794073932519,52.69391233572968,53.02988393213416,53.365855528538646,53.70182712494313,54.03779872134761,54.373770317752104,54.70974191415659,55.04571351056107,55.381685106965556,55.71765670337005,55.71765670337005,55.381685106965556,55.04571351056107,54.70974191415659,54.373770317752104,54.03779872134761,53.70182712494313,53.365855528538646,53.02988393213416,52.69391233572968,52.35794073932519,52.0219691429207,51.68599754651622,51.350025950111736,51.01405435370725,50.67808275730276,50.34211116089828,50.00613956449379,49.67016796808931,49.33419637168482,48.998224775280335,48.66225317887585,48.32628158247137,47.99030998606688,47.65433838966239,47.31836679325791,46.982395196853425,46.64642360044894,46.31045200404445,45.974480407639966,45.63850881123548,45.302537214831,44.966565618426515,44.630594022022024,44.29462242561754,43.958650829213056,43.62267923280857,43.28670763640408,42.9507360399996,42.614764443595114,42.27879284719063,41.942821250786146,41.606849654381655,41.27087805797717,40.93490646157269,40.598934865168204,40.26296326876371,39.92699167235923,39.591020075954745,39.25504847955026,38.91907688314578,38.58310528674129,38.2471336903368,37.91116209393232,37.575190497527835,37.23921890112335,36.90324730471886,36.56727570831438,36.23130411190989,35.89533251550541,35.55936091910092,35.223389322696434,34.88741772629195,34.551446129887466,34.21547453348298,33.87950293707849,33.54353134067401,33.207559744269524,32.87158814786504,32.53561655146055,32.199644955056065,31.86367335865158,31.527701762247098,31.19173016584261,30.855758569438127,30.51978697303364,30.183815376629155,29.847843780224668,29.511872183820184,29.1759005874157,28.839928991011213,28.50395739460673,28.167985798202242,27.832014201797758,27.49604260539327,27.160071008988787,26.824099412584303,26.488127816179816,26.152156219775332,25.816184623370845,25.48021302696636,25.144241430561873,24.80826983415739,24.472298237752902,24.13632664134842,23.800355044943935,23.464383448539447,23.128411852134963,22.792440255730476,22.456468659325992,22.120497062921505,21.78452546651702,21.448553870112534,21.11258227370805,20.776610677303566,20.44063908089908,20.104667484494595,19.768695888090107,19.432724291685624,19.096752695281136,18.760781098876652,18.42480950247217,18.08883790606768,17.752866309663197,17.41689471325871,17.080923116854226,16.74495152044974,16.408979924045255,16.07300832764077,15.737036731236284,15.401065134831798,15.065093538427313,14.729121942022829,14.393150345618343,14.057178749213858,13.721207152809372,13.385235556404886,13.0492639600004,12.713292363595915,12.37732076719143,12.041349170786944,11.70537757438246,11.369405977977975,11.033434381573489,10.697462785169003,10.361491188764518,10.025519592360032,9.689547995955547,9.353576399551063,9.017604803146577,8.681633206742092,8.345661610337606,8.00969001393312,7.673718417528635,7.337746821124149,7.0017752247196645,6.665803628315179,6.329832031910693,5.993860435506209,5.657888839101723,5.321917242697237,4.985945646292752,4.649974049888266,4.3140024534837815,3.978030857079296,3.6420592606748103,3.306087664270325,2.97011606786584,2.6341444714613544,2.298172875056869,1.9622012786523837,1.6262296822478983,1.290258085843413,0.9542864894389276,0.6183148930344422,0.28234329662995683,0.28234329662995683],\"type\":\"scatter\"},{\"xaxis\":\"x\",\"fill\":\"tozeroy\",\"yaxis\":\"y\",\"x\":[4.504996140679574,4.50614430185046,4.507364398797223,4.5086639191441,4.510075714551796,4.51164982827465,4.513435749571672,4.51546172373375,4.517719824235482,4.520163239910856,4.522716829812976,4.525296459453948,4.527829771695079,4.530271771804965,4.532611703628867,4.53487104021616,4.537094506938942,4.53933673529046,4.541647198951297,4.544056306687931,4.546566021087335,4.549148523357055,4.551755463730615,4.554337894642425,4.556873498898282,4.559394226997639,4.562005252711835,4.564886507927255,4.568271799366775,4.572407410283312,4.57750023664913,4.583671477958792,4.59093226544865,4.599191114044993,4.608291905070955,4.618069948180394,4.6284072327261,4.639268643113007,4.650708071599603,4.662844197712501,4.675816296364786,4.689736688325316,4.704655333851884,4.720543524637201,4.737291861409963,4.754709972376415,4.772517712297726,4.790329644590833,4.8076486023439955,4.823889061684361,4.838440827272776,4.850762487660796,4.860475258994415,4.867424051106578,4.871687110436184,4.873539415312294,4.873393267188524,4.871742023874725,4.869120623001552,4.866079699330939,4.863160224269294,4.8608577862947575,4.859576440082904,4.859583287231533,4.860979578300585,4.863699964113416,4.867541185653742,4.872210059751799,4.877373288204044,4.882692066164861,4.887833416736512,4.892464205553834,4.89624572772264,4.898848970489516,4.9,4.8995459336640845,4.897515117238203,4.8941406573664725,4.889827905451331,4.885068636702269,4.8803270139539645,4.875935047069266,4.872033012938971,4.868573881112843,4.865385992718318,4.86226467865419,4.859051983830151,4.855671239458281,4.852107809716805,4.848356520514913,4.844373370072917,4.840063740756618,4.83531495735899,4.830053225502931,4.824290934214431,4.8181374008050115,4.811767888736963,4.805367557426375,4.799076648915388,4.79295786863088,4.786992803611691,4.78110068762283,4.775166249395796,4.769064789095408,4.762679011466551,4.755909143564933,4.748681806646463,4.740962110565205,4.732768101412763,4.724180316448956,4.715336592960388,4.7064068785486075,4.697553540546444,4.688893330792536,4.680479703150683,4.67231472154091,4.66438267721896,4.656683630922113,4.6492445685134856,4.642100355071443,4.635257202878504,4.628664128308016,4.622214016870386,4.615777928428461,4.6092560690683015,4.602619205640923,4.595920241665166,4.5892720949643575,4.582804372059525,4.576619076418497,4.57076271218688,4.5652225348721975,4.55994424054939,4.5548613967422416,4.549924898286968,4.545122979098932,4.540487043468476,4.536083753904724,4.531997693259283,4.528310574456299,4.525082499989633,4.52233904118781,4.520065924227308,4.51821148826121,4.516695902543238,4.515425191827258,4.514307293401838,4.513266803736333,4.512255127683188,4.511253704598091,4.510269771579419,4.509326218468865,4.508448774312693,4.507654468192561,4.506944810985995,4.506305585063443,4.50571292146806,4.505143141848286,4.504582441776462,4.50403254501015,4.503510071739711,4.503039908297935,4.502645236261998,4.502338079883603,4.50211386791329,4.501951871455982,4.501821185337668,4.501689961362216,4.5,4.5,4.5,4.5,4.5,4.5,4.5,4.5,4.5,4.5,4.5,4.5,4.5,4.5,4.5,4.5,4.5,4.5,4.5,4.5,4.5,4.5,4.5,4.5,4.5,4.5,4.5,4.5,4.5,4.5,4.5,4.5,4.5,4.5,4.5,4.5,4.5,4.5,4.5,4.5,4.5,4.5,4.5,4.5,4.5,4.5,4.5,4.5,4.5,4.5,4.5,4.5,4.5,4.5,4.5,4.5,4.5,4.5,4.5,4.5,4.5,4.5,4.5,4.5,4.5,4.5,4.5,4.5,4.5,4.5,4.5,4.5,4.5,4.5,4.5,4.5,4.5,4.5,4.5,4.5,4.5,4.5,4.5,4.5,4.5,4.5,4.5,4.5,4.5,4.5,4.5,4.5,4.5,4.5,4.5,4.5,4.5,4.5,4.5,4.5,4.5,4.5,4.5,4.5,4.5,4.5,4.5,4.5,4.5,4.5,4.5,4.5,4.5,4.5,4.5,4.5,4.5,4.5,4.5,4.5,4.5,4.5,4.5,4.5,4.5,4.5,4.5,4.5,4.5,4.5,4.5,4.5,4.5,4.5,4.5,4.5,4.5,4.5,4.5,4.5,4.5,4.5,4.5,4.5,4.5,4.5,4.5,4.5,4.5,4.5,4.5,4.5,4.5,4.5,4.5,4.5,4.5,4.5,4.5,4.5,4.5,4.5,4.5,4.5,4.5,4.5,4.5,4.5,4.504996140679574],\"showlegend\":false,\"mode\":\"lines\",\"fillcolor\":\"rgba(227, 111, 71, 1.000)\",\"name\":\"counts A\",\"line\":{\"color\":\"rgba(227, 111, 71, 1.000)\",\"dash\":\"solid\",\"width\":1},\"y\":[1.161109799973337,1.4525935149437164,1.7440772299140954,2.0355609448844745,2.3270446598548538,2.618528374825233,2.910012089795612,3.201495804765991,3.4929795197363704,3.7844632347067497,4.075946949677129,4.367430664647508,4.658914379617887,4.950398094588266,5.241881809558645,5.5333655245290245,5.824849239499404,6.116332954469783,6.407816669440162,6.699300384410542,6.990784099380921,7.282267814351299,7.573751529321679,7.865235244292058,8.156718959262438,8.448202674232816,8.739686389203195,9.031170104173574,9.322653819143953,9.614137534114333,9.905621249084712,10.197104964055091,10.48858867902547,10.78007239399585,11.071556108966229,11.363039823936608,11.654523538906988,11.946007253877367,12.237490968847746,12.528974683818126,12.820458398788503,13.111942113758882,13.403425828729262,13.69490954369964,13.98639325867002,14.2778769736404,14.569360688610779,14.860844403581158,15.152328118551537,15.443811833521917,15.735295548492296,16.026779263462675,16.318262978433054,16.609746693403434,16.901230408373813,17.192714123344192,17.48419783831457,17.77568155328495,18.06716526825533,18.35864898322571,18.65013269819609,18.941616413166468,19.233100128136847,19.524583843107226,19.816067558077606,20.10755127304798,20.39903498801836,20.69051870298874,20.98200241795912,21.2734861329295,21.564969847899878,21.856453562870257,22.147937277840636,22.439420992811016,22.730904707781395,23.022388422751774,23.313872137722154,23.605355852692533,23.896839567662912,24.18832328263329,24.47980699760367,24.77129071257405,25.06277442754443,25.35425814251481,25.645741857485188,25.937225572455567,26.228709287425946,26.520193002396326,26.811676717366705,27.103160432337084,27.394644147307464,27.686127862277843,27.977611577248222,28.2690952922186,28.56057900718898,28.85206272215936,29.143546437129736,29.435030152100115,29.726513867070494,30.017997582040874,30.309481297011253,30.600965011981632,30.89244872695201,31.18393244192239,31.47541615689277,31.76689987186315,32.05838358683353,32.34986730180391,32.64135101677429,32.93283473174467,33.224318446715046,33.51580216168543,33.807285876655804,34.09876959162618,34.39025330659656,34.68173702156694,34.97322073653732,35.2647044515077,35.55618816647808,35.847671881448456,36.13915559641884,36.430639311389214,36.7221230263596,37.01360674132997,37.305090456300356,37.59657417127073,37.888057886241114,38.17954160121149,38.47102531618187,38.76250903115225,39.05399274612263,39.34547646109301,39.63696017606339,39.928443891033766,40.21992760600415,40.511411320974524,40.80289503594491,41.09437875091528,41.385862465885666,41.67734618085604,41.968829895826424,42.2603136107968,42.55179732576718,42.84328104073756,43.134764755707934,43.42624847067832,43.71773218564869,44.009215900619076,44.30069961558945,44.592183330559834,44.88366704553021,45.17515076050059,45.46663447547097,45.75811819044135,46.04960190541173,46.34108562038211,46.632569335352485,46.92405305032287,47.215536765293244,47.50702048026363,47.798504195234,48.089987910204385,48.38147162517476,48.672955340145144,48.96443905511552,49.2559227700859,49.54740648505628,49.83889020002666,49.83889020002666,49.54740648505628,49.2559227700859,48.96443905511552,48.672955340145144,48.38147162517476,48.089987910204385,47.798504195234,47.50702048026363,47.215536765293244,46.92405305032287,46.632569335352485,46.34108562038211,46.04960190541173,45.75811819044135,45.46663447547097,45.17515076050059,44.88366704553021,44.592183330559834,44.30069961558945,44.009215900619076,43.71773218564869,43.42624847067832,43.134764755707934,42.84328104073756,42.55179732576718,42.2603136107968,41.968829895826424,41.67734618085604,41.385862465885666,41.09437875091528,40.80289503594491,40.511411320974524,40.21992760600415,39.928443891033766,39.63696017606339,39.34547646109301,39.05399274612263,38.76250903115225,38.47102531618187,38.17954160121149,37.888057886241114,37.59657417127073,37.305090456300356,37.01360674132997,36.7221230263596,36.430639311389214,36.13915559641884,35.847671881448456,35.55618816647808,35.2647044515077,34.97322073653732,34.68173702156694,34.39025330659656,34.09876959162618,33.807285876655804,33.51580216168543,33.224318446715046,32.93283473174467,32.64135101677429,32.34986730180391,32.05838358683353,31.76689987186315,31.47541615689277,31.18393244192239,30.89244872695201,30.600965011981632,30.309481297011253,30.017997582040874,29.726513867070494,29.435030152100115,29.143546437129736,28.85206272215936,28.56057900718898,28.2690952922186,27.977611577248222,27.686127862277843,27.394644147307464,27.103160432337084,26.811676717366705,26.520193002396326,26.228709287425946,25.937225572455567,25.645741857485188,25.35425814251481,25.06277442754443,24.77129071257405,24.47980699760367,24.18832328263329,23.896839567662912,23.605355852692533,23.313872137722154,23.022388422751774,22.730904707781395,22.439420992811016,22.147937277840636,21.856453562870257,21.564969847899878,21.2734861329295,20.98200241795912,20.69051870298874,20.39903498801836,20.10755127304798,19.816067558077606,19.524583843107226,19.233100128136847,18.941616413166468,18.65013269819609,18.35864898322571,18.06716526825533,17.77568155328495,17.48419783831457,17.192714123344192,16.901230408373813,16.609746693403434,16.318262978433054,16.026779263462675,15.735295548492296,15.443811833521917,15.152328118551537,14.860844403581158,14.569360688610779,14.2778769736404,13.98639325867002,13.69490954369964,13.403425828729262,13.111942113758882,12.820458398788503,12.528974683818126,12.237490968847746,11.946007253877367,11.654523538906988,11.363039823936608,11.071556108966229,10.78007239399585,10.48858867902547,10.197104964055091,9.905621249084712,9.614137534114333,9.322653819143953,9.031170104173574,8.739686389203195,8.448202674232816,8.156718959262438,7.865235244292058,7.573751529321679,7.282267814351299,6.990784099380921,6.699300384410542,6.407816669440162,6.116332954469783,5.824849239499404,5.5333655245290245,5.241881809558645,4.950398094588266,4.658914379617887,4.367430664647508,4.075946949677129,3.7844632347067497,3.4929795197363704,3.201495804765991,2.910012089795612,2.618528374825233,2.3270446598548538,2.0355609448844745,1.7440772299140954,1.4525935149437164,1.161109799973337,1.161109799973337],\"type\":\"scatter\"},{\"xaxis\":\"x\",\"fill\":\"tozeroy\",\"yaxis\":\"y\",\"x\":[5.504955889508809,5.506411771364797,5.508044400819719,5.509847485523049,5.51183685315328,5.514053967228505,5.516559568037144,5.519417889424801,5.5226751976405355,5.5263387463824785,5.530363109896673,5.5346499222321235,5.539064040597029,5.543464189234585,5.547740408834104,5.551846514856373,5.555815844333123,5.559753893767964,5.563810305341168,5.568141024260302,5.572875123624544,5.57809785927103,5.583853532925443,5.590162877126344,5.597044377735795,5.6045295423565396,5.612667657367828,5.621522496041753,5.631167629050411,5.641686072514999,5.653174665582251,5.66574715085172,5.679526614244878,5.694620398207587,5.711078396051226,5.728845193152291,5.747722800292724,5.767359842640062,5.787274564382339,5.806906433737531,5.825680450534662,5.8430647851571385,5.858607866052419,5.871952529188306,5.882836067867848,5.891089727028495,5.896646776198964,5.899557590755339,5.9,5.898270322105985,5.894747506914018,5.889836137931919,5.883906164286425,5.877250993736064,5.870078328058598,5.862533160392712,5.85473713632675,5.846820753980072,5.838928777792098,5.831193206396265,5.823685583907126,5.816372873895554,5.809102214984749,5.801628704990633,5.793681978478014,5.785050405784253,5.775654104634547,5.76558261997327,5.755086926247295,5.7445312608957995,5.734321510707665,5.724830505947491,5.716337817515961,5.708995547815432,5.702824524412658,5.697738210211979,5.693585198483873,5.690196880911465,5.6874267240390886,5.685172245465101,5.683378371448112,5.682027625803264,5.681125248288133,5.680685227724788,5.680718711416999,5.6812229146433575,5.682168837056532,5.683489344355136,5.685072670338136,5.68676696609057,5.688397942535198,5.689795647777384,5.690821626047324,5.691387173667431,5.691457443664326,5.691042124272895,5.690177748757331,5.688907464731647,5.687262210553707,5.685245336686121,5.682822724089594,5.679921999205399,5.676445116180764,5.672295955831027,5.667418429746094,5.661833548585516,5.655660316398432,5.649108437078571,5.642440567939947,5.63591424395537,5.62972266994486,5.623954718158081,5.61858702817947,5.613508703393764,5.608567477878716,5.603620170326692,5.59857141318982,5.5933913797771835,5.588111928607975,5.582807625143024,5.577571280613198,5.57249267433556,5.567645298526618,5.563081380878926,5.5588320978867705,5.554908960250624,5.5513038086858435,5.547987602195087,5.5449105788425666,5.542007032544258,5.539206399645996,5.53644926616704,5.533703823514064,5.530976858092183,5.528314468850216,5.5257910507103665,5.523489260091701,5.521476921028468,5.51978786956758,5.518412328411056,5.517299270468561,5.5163695621417785,5.5155356259983765,5.514721744507547,5.5138793335565905,5.512993464327959,5.512079986345255,5.51117571184781,5.510326044660584,5.509574398684571,5.5089558800553595,5.508495044040965,5.508205509733446,5.5080888585510035,5.508131636678355,5.5083015242969795,5.508545455341191,5.5087925937279945,5.508963403891779,5.508983390981418,5.508797774088352,5.5083825598360505,5.507748587083474,5.5069375676925985,5.506011818514871,5.505041149529591,5.504090662423742,5.5032121653563415,5.5,5.5,5.5,5.5,5.5,5.5,5.5,5.5,5.5,5.5,5.5,5.5,5.5,5.5,5.5,5.5,5.5,5.5,5.5,5.5,5.5,5.5,5.5,5.5,5.5,5.5,5.5,5.5,5.5,5.5,5.5,5.5,5.5,5.5,5.5,5.5,5.5,5.5,5.5,5.5,5.5,5.5,5.5,5.5,5.5,5.5,5.5,5.5,5.5,5.5,5.5,5.5,5.5,5.5,5.5,5.5,5.5,5.5,5.5,5.5,5.5,5.5,5.5,5.5,5.5,5.5,5.5,5.5,5.5,5.5,5.5,5.5,5.5,5.5,5.5,5.5,5.5,5.5,5.5,5.5,5.5,5.5,5.5,5.5,5.5,5.5,5.5,5.5,5.5,5.5,5.5,5.5,5.5,5.5,5.5,5.5,5.5,5.5,5.5,5.5,5.5,5.5,5.5,5.5,5.5,5.5,5.5,5.5,5.5,5.5,5.5,5.5,5.5,5.5,5.5,5.5,5.5,5.5,5.5,5.5,5.5,5.5,5.5,5.5,5.5,5.5,5.5,5.5,5.5,5.5,5.5,5.5,5.5,5.5,5.5,5.5,5.5,5.5,5.5,5.5,5.5,5.5,5.5,5.5,5.5,5.5,5.5,5.5,5.5,5.5,5.5,5.5,5.5,5.5,5.5,5.5,5.5,5.5,5.5,5.5,5.5,5.5,5.5,5.5,5.5,5.5,5.5,5.5,5.504955889508809],\"showlegend\":false,\"mode\":\"lines\",\"fillcolor\":\"rgba(227, 111, 71, 1.000)\",\"name\":\"counts A\",\"line\":{\"color\":\"rgba(227, 111, 71, 1.000)\",\"dash\":\"solid\",\"width\":1},\"y\":[0.053165937501988836,0.3938465849570548,0.7345272324121208,1.075207879867187,1.4158885273222528,1.7565691747773187,2.097249822232385,2.437930469687451,2.7786111171425167,3.1192917645975826,3.4599724120526485,3.800653059507715,4.141333706962781,4.482014354417847,4.822695001872913,5.163375649327978,5.504056296783045,5.844736944238111,6.185417591693176,6.526098239148243,6.866778886603308,7.2074595340583745,7.548140181513441,7.888820828968506,8.229501476423572,8.570182123878638,8.910862771333704,9.25154341878877,9.592224066243837,9.932904713698903,10.273585361153968,10.614266008609034,10.9549466560641,11.295627303519167,11.636307950974233,11.976988598429298,12.317669245884364,12.65834989333943,12.999030540794497,13.339711188249563,13.68039183570463,14.021072483159694,14.36175313061476,14.702433778069826,15.043114425524893,15.383795072979959,15.724475720435024,16.06515636789009,16.405837015345156,16.746517662800223,17.08719831025529,17.427878957710355,17.76855960516542,18.109240252620488,18.44992090007555,18.790601547530617,19.131282194985683,19.47196284244075,19.812643489895816,20.153324137350882,20.49400478480595,20.834685432261015,21.17536607971608,21.516046727171148,21.85672737462621,22.197408022081277,22.538088669536343,22.87876931699141,23.219449964446476,23.560130611901542,23.900811259356608,24.241491906811675,24.58217255426674,24.922853201721807,25.263533849176874,25.604214496631936,25.944895144087003,26.28557579154207,26.626256438997135,26.9669370864522,27.307617733907268,27.648298381362334,27.9889790288174,28.329659676272467,28.670340323727533,29.0110209711826,29.351701618637662,29.69238226609273,30.033062913547795,30.37374356100286,30.714424208457928,31.055104855912994,31.39578550336806,31.736466150823126,32.07714679827819,32.41782744573326,32.758508093188325,33.09918874064339,33.43986938809846,33.780550035553524,34.12123068300859,34.46191133046366,34.802591977918716,35.14327262537378,35.48395327282885,35.824633920283915,36.16531456773898,36.50599521519405,36.846675862649114,37.18735651010418,37.52803715755925,37.86871780501431,38.20939845246938,38.550079099924446,38.89075974737951,39.23144039483458,39.572121042289645,39.91280168974471,40.25348233719978,40.594162984654844,40.93484363210991,41.275524279564976,41.61620492702004,41.9568855744751,42.29756622193017,42.638246869385235,42.9789275168403,43.31960816429537,43.66028881175043,44.0009694592055,44.341650106660566,44.68233075411563,45.0230114015707,45.363692049025765,45.70437269648083,46.0450533439359,46.385733991390964,46.72641463884603,47.0670952863011,47.40777593375616,47.74845658121123,48.089137228666296,48.42981787612136,48.77049852357643,49.111179171031495,49.451859818486554,49.79254046594162,50.13322111339669,50.47390176085175,50.81458240830682,51.155263055761885,51.49594370321695,51.83662435067202,52.177304998127084,52.51798564558215,52.85866629303722,53.19934694049228,53.54002758794735,53.880708235402416,54.22138888285748,54.56206953031255,54.902750177767615,55.24343082522268,55.58411147267775,55.924792120132814,56.26547276758788,56.60615341504294,56.946834062498006,56.946834062498006,56.60615341504294,56.26547276758788,55.924792120132814,55.58411147267775,55.24343082522268,54.902750177767615,54.56206953031255,54.22138888285748,53.880708235402416,53.54002758794735,53.19934694049228,52.85866629303722,52.51798564558215,52.177304998127084,51.83662435067202,51.49594370321695,51.155263055761885,50.81458240830682,50.47390176085175,50.13322111339669,49.79254046594162,49.451859818486554,49.111179171031495,48.77049852357643,48.42981787612136,48.089137228666296,47.74845658121123,47.40777593375616,47.0670952863011,46.72641463884603,46.385733991390964,46.0450533439359,45.70437269648083,45.363692049025765,45.0230114015707,44.68233075411563,44.341650106660566,44.0009694592055,43.66028881175043,43.31960816429537,42.9789275168403,42.638246869385235,42.29756622193017,41.9568855744751,41.61620492702004,41.275524279564976,40.93484363210991,40.594162984654844,40.25348233719978,39.91280168974471,39.572121042289645,39.23144039483458,38.89075974737951,38.550079099924446,38.20939845246938,37.86871780501431,37.52803715755925,37.18735651010418,36.846675862649114,36.50599521519405,36.16531456773898,35.824633920283915,35.48395327282885,35.14327262537378,34.802591977918716,34.46191133046366,34.12123068300859,33.780550035553524,33.43986938809846,33.09918874064339,32.758508093188325,32.41782744573326,32.07714679827819,31.736466150823126,31.39578550336806,31.055104855912994,30.714424208457928,30.37374356100286,30.033062913547795,29.69238226609273,29.351701618637662,29.0110209711826,28.670340323727533,28.329659676272467,27.9889790288174,27.648298381362334,27.307617733907268,26.9669370864522,26.626256438997135,26.28557579154207,25.944895144087003,25.604214496631936,25.263533849176874,24.922853201721807,24.58217255426674,24.241491906811675,23.900811259356608,23.560130611901542,23.219449964446476,22.87876931699141,22.538088669536343,22.197408022081277,21.85672737462621,21.516046727171148,21.17536607971608,20.834685432261015,20.49400478480595,20.153324137350882,19.812643489895816,19.47196284244075,19.131282194985683,18.790601547530617,18.44992090007555,18.109240252620488,17.76855960516542,17.427878957710355,17.08719831025529,16.746517662800223,16.405837015345156,16.06515636789009,15.724475720435024,15.383795072979959,15.043114425524893,14.702433778069826,14.36175313061476,14.021072483159694,13.68039183570463,13.339711188249563,12.999030540794497,12.65834989333943,12.317669245884364,11.976988598429298,11.636307950974233,11.295627303519167,10.9549466560641,10.614266008609034,10.273585361153968,9.932904713698903,9.592224066243837,9.25154341878877,8.910862771333704,8.570182123878638,8.229501476423572,7.888820828968506,7.548140181513441,7.2074595340583745,6.866778886603308,6.526098239148243,6.185417591693176,5.844736944238111,5.504056296783045,5.163375649327978,4.822695001872913,4.482014354417847,4.141333706962781,3.800653059507715,3.4599724120526485,3.1192917645975826,2.7786111171425167,2.437930469687451,2.097249822232385,1.7565691747773187,1.4158885273222528,1.075207879867187,0.7345272324121208,0.3938465849570548,0.053165937501988836,0.053165937501988836],\"type\":\"scatter\"},{\"xaxis\":\"x\",\"fill\":\"tozeroy\",\"yaxis\":\"y\",\"x\":[6.502295254711122,6.503161536441459,6.504249502188352,6.505588473902246,6.507214351393912,6.509174990598533,6.511532268827229,6.51435687691197,6.517714043748475,6.5216424271608835,6.526132475391005,6.53111245889358,6.536448796939086,6.541962706523771,6.547459566122052,6.552763170583643,6.557745946176501,6.56234836491781,6.5665849267805605,6.570538108496914,6.574343901279265,6.578172513947648,6.582206457760556,6.586617217096781,6.591542226786759,6.597065737963618,6.6032088503367286,6.609933646340369,6.617163023607725,6.6248122721707405,6.632823097191123,6.641188604877816,6.649960602070684,6.65923775513646,6.669141359062182,6.6797901877763515,6.691284211423144,6.703699694401466,6.717089761364764,6.731480314666373,6.746854031730454,6.763123465511432,6.780103016500673,6.797493450343962,6.814889222294455,6.831809787462101,6.847746118956828,6.862208154135514,6.874760776927327,6.8850439923381055,6.892782267696206,6.897792835467602,6.9,6.899453865007577,6.896342979451618,6.890987280700957,6.883803311066973,6.875245923749818,6.865743472850898,6.8556497385085,6.84523122370301,6.834693911870133,6.8242354216529915,6.814095633187927,6.804578138650433,6.796027221388731,6.788764844333662,6.783010149110914,6.778812343257332,6.776023646040803,6.77432486148131,6.773298396677481,6.772528757666091,6.771703094333255,6.770685267577802,6.769544478911434,6.768530905386958,6.768003531691655,6.768327646388482,6.7697692424061735,6.772417689264033,6.776162911323935,6.7807374348150455,6.785810598702289,6.7911008337419645,6.796462630676875,6.801913521143031,6.8075901862726065,6.8136510535865,6.820162927921729,6.827013576437958,6.833880892530196,6.840268670159601,6.845597452397014,6.849322997241249,6.8510481900142866,6.850597583435562,6.848035885115863,6.843629246667954,6.837765728669192,6.830862633745263,6.823289097899805,6.815322290409943,6.807139608007535,6.7988349811564195,6.7904414010996295,6.781946099749664,6.773295970764568,6.76440159312097,6.755151637693645,6.745442952547672,6.735219141548491,6.724500503184711,6.713388574015604,6.7020405181446625,6.690625209758431,6.679283057735209,6.668108281473388,6.657157704335916,6.646474322310606,6.636107414250657,6.626116973947404,6.616562953097345,6.6074896049356715,6.59891614926884,6.590838379314074,6.58323796425788,6.576092695003667,6.5693828579964775,6.563093220857773,6.5572129146477955,6.551735254857657,6.546657538874265,6.541979430556044,6.537698989173041,6.533807210069286,6.530283563486772,6.527095166601028,6.524200721079769,6.521558059269156,6.519132331314832,6.516901467906124,6.514856734045279,6.512998335085856,6.511328116999401,6.509842494436745,6.508528442654967,6.507363947777061,6.506322425434776,6.505379093570276,6.504516689708952,6.503728398944242,6.503017116511962,6.502391641928523,6.501861493256821,6.501432348074926,6.501103609958005,6.500868546740188,6.500716331846288,6.500634623202077,6.500611313059205,6.500634730962202,6.500692535639803,6.5007703104862635,6.5008510991940085,6.500916677961141,6.500950475394242,6.500941154822422,6.5,6.5,6.5,6.5,6.5,6.5,6.5,6.5,6.5,6.5,6.5,6.5,6.5,6.5,6.5,6.5,6.5,6.5,6.5,6.5,6.5,6.5,6.5,6.5,6.5,6.5,6.5,6.5,6.5,6.5,6.5,6.5,6.5,6.5,6.5,6.5,6.5,6.5,6.5,6.5,6.5,6.5,6.5,6.5,6.5,6.5,6.5,6.5,6.5,6.5,6.5,6.5,6.5,6.5,6.5,6.5,6.5,6.5,6.5,6.5,6.5,6.5,6.5,6.5,6.5,6.5,6.5,6.5,6.5,6.5,6.5,6.5,6.5,6.5,6.5,6.5,6.5,6.5,6.5,6.5,6.5,6.5,6.5,6.5,6.5,6.5,6.5,6.5,6.5,6.5,6.5,6.5,6.5,6.5,6.5,6.5,6.5,6.5,6.5,6.5,6.5,6.5,6.5,6.5,6.5,6.5,6.5,6.5,6.5,6.5,6.5,6.5,6.5,6.5,6.5,6.5,6.5,6.5,6.5,6.5,6.5,6.5,6.5,6.5,6.5,6.5,6.5,6.5,6.5,6.5,6.5,6.5,6.5,6.5,6.5,6.5,6.5,6.5,6.5,6.5,6.5,6.5,6.5,6.5,6.5,6.5,6.5,6.5,6.5,6.5,6.5,6.5,6.5,6.5,6.5,6.5,6.5,6.5,6.5,6.5,6.5,6.5,6.5,6.5,6.5,6.5,6.5,6.5,6.502295254711122],\"showlegend\":false,\"mode\":\"lines\",\"fillcolor\":\"rgba(227, 111, 71, 1.000)\",\"name\":\"counts A\",\"line\":{\"color\":\"rgba(227, 111, 71, 1.000)\",\"dash\":\"solid\",\"width\":1},\"y\":[0.08702096904404488,0.4093320951632779,0.7316432212825109,1.0539543474017439,1.376265473520977,1.69857659964021,2.020887725759443,2.343198851878676,2.665509977997909,2.987821104117142,3.310132230236375,3.632443356355608,3.954754482474841,4.277065608594074,4.599376734713307,4.92168786083254,5.243998986951773,5.566310113071006,5.888621239190239,6.210932365309472,6.533243491428705,6.855554617547938,7.177865743667171,7.500176869786404,7.822487995905638,8.144799122024871,8.467110248144103,8.789421374263336,9.111732500382569,9.434043626501802,9.756354752621036,10.078665878740269,10.400977004859502,10.723288130978734,11.045599257097967,11.3679103832172,11.690221509336434,12.012532635455667,12.3348437615749,12.657154887694132,12.979466013813365,13.301777139932598,13.624088266051832,13.946399392171065,14.268710518290298,14.59102164440953,14.913332770528763,15.235643896647996,15.55795502276723,15.880266148886463,16.202577275005694,16.52488840112493,16.84719952724416,17.169510653363396,17.491821779482628,17.81413290560186,18.136444031721094,18.458755157840326,18.78106628395956,19.103377410078792,19.425688536198027,19.74799966231726,20.07031078843649,20.392621914555725,20.714933040674957,21.037244166794192,21.359555292913424,21.68186641903266,22.00417754515189,22.32648867127112,22.648799797390357,22.97111092350959,23.293422049628823,23.615733175748055,23.938044301867286,24.26035542798652,24.582666554105753,24.904977680224988,25.22728880634422,25.549599932463455,25.871911058582686,26.194222184701918,26.516533310821153,26.838844436940384,27.16115556305962,27.48346668917885,27.805777815298086,28.128088941417317,28.45040006753655,28.772711193655784,29.095022319775016,29.41733344589425,29.739644572013482,30.061955698132714,30.38426682425195,30.70657795037118,31.028889076490415,31.351200202609647,31.673511328728882,31.995822454848113,32.31813358096735,32.64044470708658,32.96275583320581,33.28506695932504,33.60737808544428,33.92968921156351,34.252000337682745,34.574311463801976,34.89662258992121,35.218933716040446,35.54124484215968,35.86355596827891,36.18586709439814,36.50817822051737,36.83048934663661,37.15280047275584,37.475111598875074,37.797422724994306,38.119733851113544,38.442044977232776,38.76435610335201,39.08666722947124,39.40897835559047,39.73128948170971,40.05360060782894,40.37591173394817,40.6982228600674,41.020533986186635,41.342845112305874,41.665156238425105,41.98746736454434,42.30977849066357,42.6320896167828,42.95440074290204,43.27671186902127,43.5990229951405,43.92133412125973,44.24364524737897,44.5659563734982,44.888267499617434,45.210578625736666,45.5328897518559,45.855200877975136,46.17751200409437,46.4998231302136,46.82213425633283,47.14444538245206,47.4667565085713,47.78906763469053,48.111378760809764,48.433689886928995,48.75600101304823,49.078312139167465,49.4006232652867,49.72293439140593,50.04524551752516,50.3675566436444,50.68986776976363,51.01217889588286,51.33449002200209,51.656801148121325,51.97911227424056,52.301423400359795,52.623734526479026,52.94604565259826,53.26835677871749,53.59066790483673,53.91297903095596,53.91297903095596,53.59066790483673,53.26835677871749,52.94604565259826,52.623734526479026,52.301423400359795,51.97911227424056,51.656801148121325,51.33449002200209,51.01217889588286,50.68986776976363,50.3675566436444,50.04524551752516,49.72293439140593,49.4006232652867,49.078312139167465,48.75600101304823,48.433689886928995,48.111378760809764,47.78906763469053,47.4667565085713,47.14444538245206,46.82213425633283,46.4998231302136,46.17751200409437,45.855200877975136,45.5328897518559,45.210578625736666,44.888267499617434,44.5659563734982,44.24364524737897,43.92133412125973,43.5990229951405,43.27671186902127,42.95440074290204,42.6320896167828,42.30977849066357,41.98746736454434,41.665156238425105,41.342845112305874,41.020533986186635,40.6982228600674,40.37591173394817,40.05360060782894,39.73128948170971,39.40897835559047,39.08666722947124,38.76435610335201,38.442044977232776,38.119733851113544,37.797422724994306,37.475111598875074,37.15280047275584,36.83048934663661,36.50817822051737,36.18586709439814,35.86355596827891,35.54124484215968,35.218933716040446,34.89662258992121,34.574311463801976,34.252000337682745,33.92968921156351,33.60737808544428,33.28506695932504,32.96275583320581,32.64044470708658,32.31813358096735,31.995822454848113,31.673511328728882,31.351200202609647,31.028889076490415,30.70657795037118,30.38426682425195,30.061955698132714,29.739644572013482,29.41733344589425,29.095022319775016,28.772711193655784,28.45040006753655,28.128088941417317,27.805777815298086,27.48346668917885,27.16115556305962,26.838844436940384,26.516533310821153,26.194222184701918,25.871911058582686,25.549599932463455,25.22728880634422,24.904977680224988,24.582666554105753,24.26035542798652,23.938044301867286,23.615733175748055,23.293422049628823,22.97111092350959,22.648799797390357,22.32648867127112,22.00417754515189,21.68186641903266,21.359555292913424,21.037244166794192,20.714933040674957,20.392621914555725,20.07031078843649,19.74799966231726,19.425688536198027,19.103377410078792,18.78106628395956,18.458755157840326,18.136444031721094,17.81413290560186,17.491821779482628,17.169510653363396,16.84719952724416,16.52488840112493,16.202577275005694,15.880266148886463,15.55795502276723,15.235643896647996,14.913332770528763,14.59102164440953,14.268710518290298,13.946399392171065,13.624088266051832,13.301777139932598,12.979466013813365,12.657154887694132,12.3348437615749,12.012532635455667,11.690221509336434,11.3679103832172,11.045599257097967,10.723288130978734,10.400977004859502,10.078665878740269,9.756354752621036,9.434043626501802,9.111732500382569,8.789421374263336,8.467110248144103,8.144799122024871,7.822487995905638,7.500176869786404,7.177865743667171,6.855554617547938,6.533243491428705,6.210932365309472,5.888621239190239,5.566310113071006,5.243998986951773,4.92168786083254,4.599376734713307,4.277065608594074,3.954754482474841,3.632443356355608,3.310132230236375,2.987821104117142,2.665509977997909,2.343198851878676,2.020887725759443,1.69857659964021,1.376265473520977,1.0539543474017439,0.7316432212825109,0.4093320951632779,0.08702096904404488,0.08702096904404488],\"type\":\"scatter\"},{\"xaxis\":\"x\",\"fill\":\"tozeroy\",\"yaxis\":\"y\",\"x\":[7.534738138170504,7.54042955294206,7.545524232580706,7.549855506200519,7.553428004887037,7.556406769297896,7.559065084138099,7.561709742462147,7.564608999437822,7.567944640292347,7.5717978914370345,7.576165330486336,7.580991537563107,7.586203086524267,7.59173282060279,7.597530701822066,7.603563917540749,7.6098119368860875,7.616261713979011,7.622905869237432,7.629744439421829,7.636789715742817,7.644073479595391,7.651655608287041,7.659631992974239,7.668138438866529,7.677346786287901,7.687450656286219,7.6986407651205555,7.711072667458443,7.724832064408437,7.739903985526184,7.7561521978963315,7.773314031272028,7.791013158326292,7.8087887931503595,7.826135360743313,7.8425439743524485,7.857537766456274,7.870697142196426,7.881676017765273,7.890212952204435,7.896140237151791,7.899390772588344,7.9,7.898100528781793,7.893909896032256,7.88771447309862,7.879852506095891,7.8706967733800735,7.860634860566232,7.850045184398972,7.839269954799426,7.828589953014253,7.818207348397141,7.808240569044563,7.798730925954624,7.789657099895754,7.780952768471204,7.77252447963416,7.764269506584399,7.7560947390517665,7.74793674131972,7.7397806176762085,7.731672981212126,7.723723793985466,7.716093864705918,7.708968802673173,7.702524698827109,7.6968939376483645,7.692140050045834,7.688248115875995,7.685132698150047,7.68266016409543,7.680678253733721,7.679044258858207,7.677644686035327,7.676403191310926,7.675278268660286,7.674255576627816,7.673340333572243,7.672552782698027,7.671925926282283,7.671502057652137,7.671324873365298,7.671426897508035,7.6718154401001994,7.672461870347921,7.673297725596355,7.674218382898794,7.6750928838303025,7.675778133028302,7.676136228057807,7.676053351948738,7.675456788116036,7.674324616868757,7.6726829935618275,7.6705898465769975,7.6681099156751,7.665290767818932,7.662149580311565,7.658675471803469,7.654844545429421,7.650638795767567,7.646058975774021,7.641125922941686,7.635872014397047,7.6303300201451965,7.624527305619633,7.618488914859926,7.612246706798922,7.605847784254543,7.599356429325589,7.592848509192072,7.586402117508504,7.580089709509628,7.573974669524289,7.56811151256979,7.562546816345054,7.557318729637788,7.552455241960887,7.547973024808534,7.543878287839226,7.54016934550316,7.536839127176645,7.533875862439916,7.531261471623093,7.528968692995369,7.526958695662055,7.525180674790837,7.523574178729955,7.5220741942536735,7.520618449761662,7.519155832580919,7.517654207886483,7.516105552238258,7.514526596420095,7.512954275701499,7.511436883967734,7.510023240289539,7.508752764589969,7.507648887884289,7.506716956064034,7.505946306220597,7.505315089139434,7.504796012676502,7.504361465243134,7.503987151654081,7.503654063653863,7.503349057360068,7.503064462283728,7.502797099076127,7.50254697391778,7.502315834511038,7.50210573697383,7.501917773846746,7.501751137602387,7.5016027180990115,7.501467404658052,7.501339122790936,7.501212375855302,7.501083785521464,7.500953013146335,7.500822633815722,7.500696987650596,7.500580517648526,7.500476332580359,7.500385565311748,7.5,7.5,7.5,7.5,7.5,7.5,7.5,7.5,7.5,7.5,7.5,7.5,7.5,7.5,7.5,7.5,7.5,7.5,7.5,7.5,7.5,7.5,7.5,7.5,7.5,7.5,7.5,7.5,7.5,7.5,7.5,7.5,7.5,7.5,7.5,7.5,7.5,7.5,7.5,7.5,7.5,7.5,7.5,7.5,7.5,7.5,7.5,7.5,7.5,7.5,7.5,7.5,7.5,7.5,7.5,7.5,7.5,7.5,7.5,7.5,7.5,7.5,7.5,7.5,7.5,7.5,7.5,7.5,7.5,7.5,7.5,7.5,7.5,7.5,7.5,7.5,7.5,7.5,7.5,7.5,7.5,7.5,7.5,7.5,7.5,7.5,7.5,7.5,7.5,7.5,7.5,7.5,7.5,7.5,7.5,7.5,7.5,7.5,7.5,7.5,7.5,7.5,7.5,7.5,7.5,7.5,7.5,7.5,7.5,7.5,7.5,7.5,7.5,7.5,7.5,7.5,7.5,7.5,7.5,7.5,7.5,7.5,7.5,7.5,7.5,7.5,7.5,7.5,7.5,7.5,7.5,7.5,7.5,7.5,7.5,7.5,7.5,7.5,7.5,7.5,7.5,7.5,7.5,7.5,7.5,7.5,7.5,7.5,7.5,7.5,7.5,7.5,7.5,7.5,7.5,7.5,7.5,7.5,7.5,7.5,7.5,7.5,7.5,7.5,7.5,7.5,7.5,7.5,7.534738138170504],\"showlegend\":false,\"mode\":\"lines\",\"fillcolor\":\"rgba(227, 111, 71, 1.000)\",\"name\":\"counts A\",\"line\":{\"color\":\"rgba(227, 111, 71, 1.000)\",\"dash\":\"solid\",\"width\":1},\"y\":[0.06574940564962528,0.3943033049831627,0.7228572043167001,1.0514111036502376,1.379965002983775,1.7085189023173122,2.03707280165085,2.365626700984387,2.6941806003179245,3.022734499651462,3.351288398984999,3.679842298318537,4.008396197652074,4.336950096985611,4.665503996319149,4.994057895652686,5.322611794986224,5.6511656943197615,5.979719593653298,6.308273492986836,6.636827392320374,6.965381291653911,7.293935190987448,7.622489090320985,7.951042989654523,8.27959688898806,8.608150788321598,8.936704687655135,9.265258586988672,9.59381248632221,9.922366385655748,10.250920284989284,10.579474184322823,10.90802808365636,11.236581982989897,11.565135882323434,11.893689781656972,12.222243680990509,12.550797580324046,12.879351479657585,13.207905378991121,13.536459278324658,13.865013177658197,14.193567076991734,14.52212097632527,14.85067487565881,15.179228774992346,15.507782674325883,15.83633657365942,16.16489047299296,16.493444372326497,16.821998271660032,17.15055217099357,17.47910607032711,17.807659969660644,18.136213868994183,18.464767768327718,18.793321667661257,19.121875566994795,19.45042946632833,19.77898336566187,20.107537264995408,20.436091164328943,20.76464506366248,21.09319896299602,21.421752862329555,21.750306761663094,22.078860660996632,22.407414560330167,22.735968459663706,23.064522358997245,23.39307625833078,23.72163015766432,24.050184056997857,24.378737956331392,24.70729185566493,25.03584575499847,25.364399654332004,25.692953553665543,26.02150745299908,26.350061352332617,26.678615251666155,27.007169150999694,27.33572305033323,27.664276949666768,27.992830849000306,28.32138474833384,28.64993864766738,28.97849254700092,29.307046446334454,29.635600345667992,29.964154245001527,30.292708144335066,30.621262043668604,30.94981594300214,31.278369842335678,31.606923741669217,31.935477641002752,32.26403154033629,32.592585439669826,32.92113933900337,33.2496932383369,33.57824713767044,33.90680103700398,34.235354936337515,34.56390883567105,34.89246273500459,35.22101663433813,35.54957053367166,35.878124433005205,36.20667833233874,36.535232231672275,36.86378613100582,37.19234003033935,37.52089392967289,37.84944782900643,38.178001728339964,38.5065556276735,38.83510952700704,39.16366342634058,39.49221732567411,39.820771225007654,40.14932512434119,40.477879023674724,40.806432923008266,41.1349868223418,41.463540721675336,41.79209462100888,42.120648520342414,42.44920241967595,42.77775631900949,43.106310218343026,43.43486411767656,43.7634180170101,44.09197191634364,44.42052581567717,44.74907971501071,45.07763361434425,45.406187513677786,45.73474141301132,46.06329531234486,46.3918492116784,46.72040311101193,47.048957010345475,47.37751090967901,47.706064809012545,48.03461870834609,48.36317260767962,48.69172650701316,49.0202804063467,49.348834305680235,49.67738820501377,50.00594210434731,50.33449600368085,50.66304990301438,50.991603802347925,51.32015770168146,51.648711601014995,51.97726550034854,52.30581939968207,52.63437329901561,52.96292719834915,53.291481097682684,53.62003499701622,53.94858889634976,54.2771427956833,54.60569669501683,54.934250594350374,54.934250594350374,54.60569669501683,54.2771427956833,53.94858889634976,53.62003499701622,53.291481097682684,52.96292719834915,52.63437329901561,52.30581939968207,51.97726550034854,51.648711601014995,51.32015770168146,50.991603802347925,50.66304990301438,50.33449600368085,50.00594210434731,49.67738820501377,49.348834305680235,49.0202804063467,48.69172650701316,48.36317260767962,48.03461870834609,47.706064809012545,47.37751090967901,47.048957010345475,46.72040311101193,46.3918492116784,46.06329531234486,45.73474141301132,45.406187513677786,45.07763361434425,44.74907971501071,44.42052581567717,44.09197191634364,43.7634180170101,43.43486411767656,43.106310218343026,42.77775631900949,42.44920241967595,42.120648520342414,41.79209462100888,41.463540721675336,41.1349868223418,40.806432923008266,40.477879023674724,40.14932512434119,39.820771225007654,39.49221732567411,39.16366342634058,38.83510952700704,38.5065556276735,38.178001728339964,37.84944782900643,37.52089392967289,37.19234003033935,36.86378613100582,36.535232231672275,36.20667833233874,35.878124433005205,35.54957053367166,35.22101663433813,34.89246273500459,34.56390883567105,34.235354936337515,33.90680103700398,33.57824713767044,33.2496932383369,32.92113933900337,32.592585439669826,32.26403154033629,31.935477641002752,31.606923741669217,31.278369842335678,30.94981594300214,30.621262043668604,30.292708144335066,29.964154245001527,29.635600345667992,29.307046446334454,28.97849254700092,28.64993864766738,28.32138474833384,27.992830849000306,27.664276949666768,27.33572305033323,27.007169150999694,26.678615251666155,26.350061352332617,26.02150745299908,25.692953553665543,25.364399654332004,25.03584575499847,24.70729185566493,24.378737956331392,24.050184056997857,23.72163015766432,23.39307625833078,23.064522358997245,22.735968459663706,22.407414560330167,22.078860660996632,21.750306761663094,21.421752862329555,21.09319896299602,20.76464506366248,20.436091164328943,20.107537264995408,19.77898336566187,19.45042946632833,19.121875566994795,18.793321667661257,18.464767768327718,18.136213868994183,17.807659969660644,17.47910607032711,17.15055217099357,16.821998271660032,16.493444372326497,16.16489047299296,15.83633657365942,15.507782674325883,15.179228774992346,14.85067487565881,14.52212097632527,14.193567076991734,13.865013177658197,13.536459278324658,13.207905378991121,12.879351479657585,12.550797580324046,12.222243680990509,11.893689781656972,11.565135882323434,11.236581982989897,10.90802808365636,10.579474184322823,10.250920284989284,9.922366385655748,9.59381248632221,9.265258586988672,8.936704687655135,8.608150788321598,8.27959688898806,7.951042989654523,7.622489090320985,7.293935190987448,6.965381291653911,6.636827392320374,6.308273492986836,5.979719593653298,5.6511656943197615,5.322611794986224,4.994057895652686,4.665503996319149,4.336950096985611,4.008396197652074,3.679842298318537,3.351288398984999,3.022734499651462,2.6941806003179245,2.365626700984387,2.03707280165085,1.7085189023173122,1.379965002983775,1.0514111036502376,0.7228572043167001,0.3943033049831627,0.06574940564962528,0.06574940564962528],\"type\":\"scatter\"},{\"xaxis\":\"x\",\"fill\":\"tozeroy\",\"yaxis\":\"y\",\"x\":[8.535188727050095,8.540975575048147,8.547398471377987,8.55448465697788,8.562186810673712,8.570357581966721,8.578743659796706,8.587005250398285,8.59476022392086,8.601645136961904,8.607380161313436,8.611823405133386,8.6150027013153,8.617118703196276,8.618520067623118,8.619657405166329,8.621025978463518,8.623107435627388,8.626318886332262,8.630974656705913,8.637263291188445,8.645240412627837,8.654836826505905,8.66588026426857,8.678127927407544,8.691305417503216,8.70514609642765,8.719424097387286,8.733974740323477,8.74869824701037,8.763546087808997,8.778493202693225,8.793502669088054,8.80849121646212,8.823303831110687,8.837703640392794,8.851379882618593,8.863972878920674,8.875111354344714,8.88445487939466,8.891733087232378,8.896773924310814,8.899515522807004,8.9,8.89835181684117,8.8947471262045,8.889382610933541,8.882451857571203,8.874134356180264,8.86459771674181,8.854009237068768,8.842550142899269,8.830425589009081,8.81786576299663,8.805117117155037,8.792426359647349,8.780022064061518,8.768099021359813,8.756809017521851,8.746259408480505,8.736518621304349,8.727626170842237,8.719604117874487,8.712466948716159,8.706227397898683,8.700896659016845,8.696478744223155,8.692960407773056,8.69029973932468,8.688417681090764,8.687196693530773,8.686489246400669,8.686135985916932,8.685990172188077,8.685942461158536,8.685939326549427,8.685989775453193,8.68615810224914,8.686544201149253,8.687256152817106,8.688381432952694,8.68996281335445,8.691983191569108,8.694361022854325,8.696955655434408,8.699580325528471,8.702020019837104,8.704051599997573,8.705464044387494,8.706077011610313,8.705756043832217,8.70442276184379,8.702058647240692,8.698701677710233,8.694436171627027,8.68937745879782,8.683654049751597,8.67739049660914,8.670693970490703,8.66364677572406,8.656305778031987,8.64870829915754,8.640882683644199,8.632860726191776,8.624688699242558,8.6164340217275,8.60818569227494,8.600048266377062,8.592130938133579,8.584534628761505,8.577340426473146,8.570602120025578,8.564344170947786,8.558564820791807,8.553242727773917,8.548344967056225,8.543834456270755,8.53967560798109,8.535837844248483,8.532297190903094,8.529036378608302,8.526043823322107,8.523311762452643,8.52083385649554,8.51860273950477,8.516608168110292,8.514836382891557,8.51327095893628,8.511894868858214,8.510692952984812,8.509653759306612,8.508769926924519,8.508036872326047,8.50745023988002,8.507003078909472,8.506683792446553,8.506475553473726,8.506357286720181,8.506305745035709,8.506297900206391,8.506312904070974,8.506333180812913,8.506344611431205,8.5063360917582,8.506298885373539,8.506226147567455,8.50611282913047,8.505955962215982,8.505755152314213,8.505512992544721,8.505235102563747,8.504929584370782,8.504605870064006,8.504273166856404,8.503938902476806,8.503607649487341,8.503280903686772,8.50295782517976,8.5,8.5,8.5,8.5,8.5,8.5,8.5,8.5,8.5,8.5,8.5,8.5,8.5,8.5,8.5,8.5,8.5,8.5,8.5,8.5,8.5,8.5,8.5,8.5,8.5,8.5,8.5,8.5,8.5,8.5,8.5,8.5,8.5,8.5,8.5,8.5,8.5,8.5,8.5,8.5,8.5,8.5,8.5,8.5,8.5,8.5,8.5,8.5,8.5,8.5,8.5,8.5,8.5,8.5,8.5,8.5,8.5,8.5,8.5,8.5,8.5,8.5,8.5,8.5,8.5,8.5,8.5,8.5,8.5,8.5,8.5,8.5,8.5,8.5,8.5,8.5,8.5,8.5,8.5,8.5,8.5,8.5,8.5,8.5,8.5,8.5,8.5,8.5,8.5,8.5,8.5,8.5,8.5,8.5,8.5,8.5,8.5,8.5,8.5,8.5,8.5,8.5,8.5,8.5,8.5,8.5,8.5,8.5,8.5,8.5,8.5,8.5,8.5,8.5,8.5,8.5,8.5,8.5,8.5,8.5,8.5,8.5,8.5,8.5,8.5,8.5,8.5,8.5,8.5,8.5,8.5,8.5,8.5,8.5,8.5,8.5,8.5,8.5,8.5,8.5,8.5,8.5,8.5,8.5,8.5,8.5,8.5,8.5,8.5,8.5,8.5,8.5,8.5,8.5,8.5,8.5,8.5,8.5,8.535188727050095],\"showlegend\":false,\"mode\":\"lines\",\"fillcolor\":\"rgba(227, 111, 71, 1.000)\",\"name\":\"counts A\",\"line\":{\"color\":\"rgba(227, 111, 71, 1.000)\",\"dash\":\"solid\",\"width\":1},\"y\":[0.3658419909566408,0.743347188524072,1.1208523860915032,1.4983575836589345,1.8758627812263657,2.253367978793797,2.630873176361228,3.008378373928659,3.3858835714960906,3.7633887690635217,4.140893966630953,4.518399164198384,4.895904361765815,5.273409559333246,5.650914756900678,6.028419954468109,6.4059251520355405,6.7834303496029715,7.160935547170403,7.538440744737834,7.915945942305266,8.293451139872696,8.670956337440128,9.04846153500756,9.42596673257499,9.803471930142422,10.180977127709852,10.558482325277284,10.935987522844716,11.313492720412146,11.690997917979578,12.068503115547008,12.44600831311444,12.823513510681872,13.201018708249302,13.578523905816734,13.956029103384164,14.333534300951596,14.711039498519028,15.088544696086458,15.46604989365389,15.84355509122132,16.221060288788753,16.598565486356183,16.976070683923616,17.353575881491047,17.731081079058477,18.108586276625907,18.48609147419334,18.86359667176077,19.2411018693282,19.618607066895635,19.996112264463065,20.373617462030495,20.75112265959793,21.12862785716536,21.50613305473279,21.88363825230022,22.261143449867653,22.638648647435083,23.016153845002513,23.393659042569947,23.771164240137377,24.148669437704807,24.526174635272238,24.90367983283967,25.2811850304071,25.65869022797453,26.036195425541965,26.413700623109396,26.791205820676826,27.16871101824426,27.54621621581169,27.92372141337912,28.30122661094655,28.678731808513984,29.056237006081414,29.433742203648844,29.811247401216278,30.188752598783708,30.566257796351138,30.943762993918572,31.321268191486002,31.698773389053432,32.076278586620866,32.453783784188296,32.831288981755726,33.20879417932316,33.58629937689059,33.96380457445802,34.341309772025454,34.718814969592884,35.096320167160314,35.473825364727745,35.851330562295175,36.228835759862605,36.606340957430035,36.98384615499747,37.3613513525649,37.73885655013233,38.11636174769976,38.49386694526719,38.87137214283462,39.24887734040206,39.62638253796949,40.00388773553692,40.38139293310435,40.75889813067178,41.13640332823921,41.51390852580664,41.89141372337408,42.26891892094151,42.64642411850894,43.02392931607637,43.4014345136438,43.77893971121123,44.15644490877866,44.5339501063461,44.91145530391353,45.28896050148096,45.66646569904839,46.04397089661582,46.42147609418325,46.79898129175068,47.176486489318116,47.553991686885546,47.931496884452976,48.309002082020406,48.686507279587836,49.064012477155266,49.441517674722704,49.819022872290134,50.196528069857564,50.574033267424994,50.951538464992424,51.329043662559855,51.706548860127285,52.08405405769472,52.46155925526215,52.83906445282958,53.21656965039701,53.59407484796444,53.97158004553187,54.3490852430993,54.72659044066674,55.10409563823417,55.4816008358016,55.85910603336903,56.23661123093646,56.61411642850389,56.99162162607133,57.36912682363876,57.74663202120619,58.12413721877362,58.50164241634105,58.87914761390848,59.25665281147591,59.63415800904335,59.63415800904335,59.25665281147591,58.87914761390848,58.50164241634105,58.12413721877362,57.74663202120619,57.36912682363876,56.99162162607133,56.61411642850389,56.23661123093646,55.85910603336903,55.4816008358016,55.10409563823417,54.72659044066674,54.3490852430993,53.97158004553187,53.59407484796444,53.21656965039701,52.83906445282958,52.46155925526215,52.08405405769472,51.706548860127285,51.329043662559855,50.951538464992424,50.574033267424994,50.196528069857564,49.819022872290134,49.441517674722704,49.064012477155266,48.686507279587836,48.309002082020406,47.931496884452976,47.553991686885546,47.176486489318116,46.79898129175068,46.42147609418325,46.04397089661582,45.66646569904839,45.28896050148096,44.91145530391353,44.5339501063461,44.15644490877866,43.77893971121123,43.4014345136438,43.02392931607637,42.64642411850894,42.26891892094151,41.89141372337408,41.51390852580664,41.13640332823921,40.75889813067178,40.38139293310435,40.00388773553692,39.62638253796949,39.24887734040206,38.87137214283462,38.49386694526719,38.11636174769976,37.73885655013233,37.3613513525649,36.98384615499747,36.606340957430035,36.228835759862605,35.851330562295175,35.473825364727745,35.096320167160314,34.718814969592884,34.341309772025454,33.96380457445802,33.58629937689059,33.20879417932316,32.831288981755726,32.453783784188296,32.076278586620866,31.698773389053432,31.321268191486002,30.943762993918572,30.566257796351138,30.188752598783708,29.811247401216278,29.433742203648844,29.056237006081414,28.678731808513984,28.30122661094655,27.92372141337912,27.54621621581169,27.16871101824426,26.791205820676826,26.413700623109396,26.036195425541965,25.65869022797453,25.2811850304071,24.90367983283967,24.526174635272238,24.148669437704807,23.771164240137377,23.393659042569947,23.016153845002513,22.638648647435083,22.261143449867653,21.88363825230022,21.50613305473279,21.12862785716536,20.75112265959793,20.373617462030495,19.996112264463065,19.618607066895635,19.2411018693282,18.86359667176077,18.48609147419334,18.108586276625907,17.731081079058477,17.353575881491047,16.976070683923616,16.598565486356183,16.221060288788753,15.84355509122132,15.46604989365389,15.088544696086458,14.711039498519028,14.333534300951596,13.956029103384164,13.578523905816734,13.201018708249302,12.823513510681872,12.44600831311444,12.068503115547008,11.690997917979578,11.313492720412146,10.935987522844716,10.558482325277284,10.180977127709852,9.803471930142422,9.42596673257499,9.04846153500756,8.670956337440128,8.293451139872696,7.915945942305266,7.538440744737834,7.160935547170403,6.7834303496029715,6.4059251520355405,6.028419954468109,5.650914756900678,5.273409559333246,4.895904361765815,4.518399164198384,4.140893966630953,3.7633887690635217,3.3858835714960906,3.008378373928659,2.630873176361228,2.253367978793797,1.8758627812263657,1.4983575836589345,1.1208523860915032,0.743347188524072,0.3658419909566408,0.3658419909566408],\"type\":\"scatter\"}], {\"showlegend\":true,\"xaxis\":{\"tickvals\":[0.5,1.5,2.5,3.5,4.5,5.5,6.5,7.5,8.5],\"ticks\":\"inside\",\"tickmode\":\"array\",\"domain\":[0.061654272382618835,0.9934383202099737],\"linecolor\":\"rgba(0, 0, 0, 1.000)\",\"showgrid\":true,\"title\":\"pool\",\"tickangle\":0,\"titlefont\":{\"color\":\"rgba(0, 0, 0, 1.000)\",\"family\":\"sans-serif\",\"size\":15},\"tickcolor\":\"rgba(0, 0, 0, 1.000)\",\"ticktext\":[\"ACAG\",\"AGTC\",\"ATCA\",\"CATG\",\"CTAC\",\"TCTA\",\"TGAT\",\"TTGG\",\"Unknown\"],\"zeroline\":false,\"type\":\"-\",\"tickfont\":{\"color\":\"rgba(0, 0, 0, 1.000)\",\"family\":\"sans-serif\",\"size\":11},\"anchor\":\"y\"},\"paper_bgcolor\":\"rgba(255, 255, 255, 1.000)\",\"annotations\":[],\"height\":400,\"margin\":{\"l\":0,\"b\":20,\"r\":0,\"t\":20},\"plot_bgcolor\":\"rgba(255, 255, 255, 1.000)\",\"yaxis\":{\"tickvals\":[10.0,20.0,30.0,40.0,50.0],\"ticks\":\"inside\",\"tickmode\":\"array\",\"domain\":[0.07581474190726165,0.9901574803149606],\"linecolor\":\"rgba(0, 0, 0, 1.000)\",\"showgrid\":true,\"title\":\"countsA\",\"tickangle\":0,\"titlefont\":{\"color\":\"rgba(0, 0, 0, 1.000)\",\"family\":\"sans-serif\",\"size\":15},\"tickcolor\":\"rgba(0, 0, 0, 1.000)\",\"ticktext\":[\"10\",\"20\",\"30\",\"40\",\"50\"],\"zeroline\":false,\"type\":\"-\",\"tickfont\":{\"color\":\"rgba(0, 0, 0, 1.000)\",\"family\":\"sans-serif\",\"size\":11},\"anchor\":\"x\"},\"legend\":{\"bordercolor\":\"rgba(0, 0, 0, 1.000)\",\"bgcolor\":\"rgba(255, 255, 255, 1.000)\",\"font\":{\"color\":\"rgba(0, 0, 0, 1.000)\",\"family\":\"sans-serif\",\"size\":11},\"y\":1.0,\"x\":1.0},\"width\":600});\n",
       "    </script>\n"
      ]
     },
     "execution_count": 237,
     "metadata": {},
     "output_type": "execute_result"
    }
   ],
   "source": [
    "violin(data,:pool,:streakA,side=:left,label=\"streak A\")\n",
    "violin!(data,:pool,:countsA,side=:right,label=\"counts A\")"
   ]
  },
  {
   "cell_type": "code",
   "execution_count": 238,
   "metadata": {},
   "outputs": [
    {
     "data": {
      "text/html": [
       "<script src=\"/home/pawel/.julia/v0.6/Plots/src/backends/../../deps/plotly-latest.min.js\"></script>    <div id=\"e3d46661-5e69-4d56-8820-471092bc6890\" style=\"width:600px;height:400px;\"></div>\n",
       "    <script>\n",
       "    PLOT = document.getElementById('e3d46661-5e69-4d56-8820-471092bc6890');\n",
       "    Plotly.plot(PLOT, [{\"showlegend\":true,\"marker\":{\"color\":\"rgba(0, 154, 250, 1.000)\"},\"xaxis\":\"x\",\"colorbar\":{\"title\":\"\"},\"y\":[334.0,4093.0,1734.0,589.0,339.0,318.0,367.0,463.0,512.0,552.0,549.0,575.0,410.0,303.0,194.0,103.0,59.0,33.0,27.0,16.0,7.0,4.0,6.0,4.0,6.0,0.0,3.0],\"type\":\"bar\",\"name\":\"ACAG\",\"yaxis\":\"y\",\"orientation\":\"v\",\"x\":[1.0,3.0,5.0,7.0,9.0,11.0,13.0,15.0,17.0,19.0,21.0,23.0,25.0,27.0,29.0,31.0,33.0,35.0,37.0,39.0,41.0,43.0,45.0,47.0,49.0,51.0,53.0]},{\"showlegend\":true,\"marker\":{\"color\":\"rgba(0, 154, 250, 1.000)\"},\"xaxis\":\"x2\",\"colorbar\":{\"title\":\"\"},\"y\":[317.0,2975.0,1298.0,316.0,205.0,159.0,207.0,239.0,242.0,279.0,326.0,295.0,216.0,142.0,95.0,58.0,35.0,16.0,15.0,12.0,8.0,6.0,2.0,3.0,1.0,3.0,7.0],\"type\":\"bar\",\"name\":\"AGTC\",\"yaxis\":\"y2\",\"orientation\":\"v\",\"x\":[1.0,3.0,5.0,7.0,9.0,11.0,13.0,15.0,17.0,19.0,21.0,23.0,25.0,27.0,29.0,31.0,33.0,35.0,37.0,39.0,41.0,43.0,45.0,47.0,49.0,51.0,53.0]},{\"showlegend\":true,\"marker\":{\"color\":\"rgba(0, 154, 250, 1.000)\"},\"xaxis\":\"x3\",\"colorbar\":{\"title\":\"\"},\"y\":[503.0,5619.0,2289.0,849.0,533.0,392.0,372.0,363.0,401.0,474.0,645.0,621.0,454.0,382.0,260.0,155.0,104.0,62.0,44.0,32.0,18.0,20.0,12.0,3.0,8.0,2.0,3.0,11.0],\"type\":\"bar\",\"name\":\"ATCA\",\"yaxis\":\"y3\",\"orientation\":\"v\",\"x\":[1.0,3.0,5.0,7.0,9.0,11.0,13.0,15.0,17.0,19.0,21.0,23.0,25.0,27.0,29.0,31.0,33.0,35.0,37.0,39.0,41.0,43.0,45.0,47.0,49.0,51.0,53.0,55.0]},{\"showlegend\":true,\"marker\":{\"color\":\"rgba(0, 154, 250, 1.000)\"},\"xaxis\":\"x4\",\"colorbar\":{\"title\":\"\"},\"y\":[667.0,5769.0,2207.0,818.0,400.0,371.0,420.0,413.0,496.0,525.0,655.0,594.0,443.0,299.0,198.0,138.0,104.0,68.0,45.0,29.0,36.0,29.0,23.0,17.0,17.0,8.0,59.0],\"type\":\"bar\",\"name\":\"CATG\",\"yaxis\":\"y4\",\"orientation\":\"v\",\"x\":[1.0,3.0,5.0,7.0,9.0,11.0,13.0,15.0,17.0,19.0,21.0,23.0,25.0,27.0,29.0,31.0,33.0,35.0,37.0,39.0,41.0,43.0,45.0,47.0,49.0,51.0,53.0]},{\"showlegend\":true,\"marker\":{\"color\":\"rgba(0, 154, 250, 1.000)\"},\"xaxis\":\"x5\",\"colorbar\":{\"title\":\"\"},\"y\":[206.0,2955.0,1256.0,1125.0,631.0,533.0,519.0,461.0,413.0,470.0,452.0,422.0,189.0,123.0,52.0,35.0,10.0,8.0,4.0,3.0,0.0,1.0,2.0,0.0,1.0],\"type\":\"bar\",\"name\":\"CTAC\",\"yaxis\":\"y5\",\"orientation\":\"v\",\"x\":[1.0,3.0,5.0,7.0,9.0,11.0,13.0,15.0,17.0,19.0,21.0,23.0,25.0,27.0,29.0,31.0,33.0,35.0,37.0,39.0,41.0,43.0,45.0,47.0,49.0]},{\"showlegend\":true,\"marker\":{\"color\":\"rgba(0, 154, 250, 1.000)\"},\"xaxis\":\"x6\",\"colorbar\":{\"title\":\"\"},\"y\":[411.0,4704.0,1975.0,661.0,396.0,346.0,338.0,371.0,357.0,468.0,568.0,544.0,486.0,283.0,192.0,129.0,79.0,64.0,42.0,27.0,25.0,26.0,17.0,8.0,6.0,12.0,8.0,41.0],\"type\":\"bar\",\"name\":\"TCTA\",\"yaxis\":\"y6\",\"orientation\":\"v\",\"x\":[1.0,3.0,5.0,7.0,9.0,11.0,13.0,15.0,17.0,19.0,21.0,23.0,25.0,27.0,29.0,31.0,33.0,35.0,37.0,39.0,41.0,43.0,45.0,47.0,49.0,51.0,53.0,55.0]},{\"showlegend\":true,\"marker\":{\"color\":\"rgba(0, 154, 250, 1.000)\"},\"xaxis\":\"x7\",\"colorbar\":{\"title\":\"\"},\"y\":[344.0,3667.0,1529.0,627.0,381.0,408.0,436.0,527.0,609.0,710.0,807.0,707.0,515.0,305.0,159.0,67.0,49.0,19.0,14.0,8.0,4.0,1.0,0.0,1.0,1.0],\"type\":\"bar\",\"name\":\"TGAT\",\"yaxis\":\"y7\",\"orientation\":\"v\",\"x\":[1.0,3.0,5.0,7.0,9.0,11.0,13.0,15.0,17.0,19.0,21.0,23.0,25.0,27.0,29.0,31.0,33.0,35.0,37.0,39.0,41.0,43.0,45.0,47.0,49.0]},{\"showlegend\":true,\"marker\":{\"color\":\"rgba(0, 154, 250, 1.000)\"},\"xaxis\":\"x8\",\"colorbar\":{\"title\":\"\"},\"y\":[736.0,5640.0,2192.0,759.0,403.0,279.0,308.0,300.0,350.0,479.0,525.0,563.0,408.0,234.0,132.0,85.0,46.0,32.0,15.0,7.0,13.0,3.0,2.0,4.0,2.0,3.0,2.0],\"type\":\"bar\",\"name\":\"TTGG\",\"yaxis\":\"y8\",\"orientation\":\"v\",\"x\":[1.0,3.0,5.0,7.0,9.0,11.0,13.0,15.0,17.0,19.0,21.0,23.0,25.0,27.0,29.0,31.0,33.0,35.0,37.0,39.0,41.0,43.0,45.0,47.0,49.0,51.0,53.0]},{\"showlegend\":true,\"marker\":{\"color\":\"rgba(0, 154, 250, 1.000)\"},\"xaxis\":\"x9\",\"colorbar\":{\"title\":\"\"},\"y\":[229.0,1356.0,565.0,161.0,76.0,64.0,84.0,66.0,80.0,116.0,212.0,177.0,140.0,91.0,53.0,40.0,14.0,8.0,5.0,5.0,7.0,2.0,3.0,1.0,3.0,2.0,2.0,5.0,2.0,0.0,3.0],\"type\":\"bar\",\"name\":\"Unknown\",\"yaxis\":\"y9\",\"orientation\":\"v\",\"x\":[1.0,3.0,5.0,7.0,9.0,11.0,13.0,15.0,17.0,19.0,21.0,23.0,25.0,27.0,29.0,31.0,33.0,35.0,37.0,39.0,41.0,43.0,45.0,47.0,49.0,51.0,53.0,55.0,57.0,59.0,61.0]}], {\"xaxis\":{\"tickvals\":[0.0,10.0,20.0,30.0,40.0,50.0],\"ticks\":\"inside\",\"tickmode\":\"array\",\"domain\":[0.0658209390492855,0.32677165354330706],\"linecolor\":\"rgba(0, 0, 0, 1.000)\",\"showgrid\":true,\"title\":\"\",\"tickangle\":0,\"titlefont\":{\"color\":\"rgba(0, 0, 0, 1.000)\",\"family\":\"sans-serif\",\"size\":15},\"tickcolor\":\"rgba(0, 0, 0, 1.000)\",\"ticktext\":[\"0\",\"10\",\"20\",\"30\",\"40\",\"50\"],\"zeroline\":false,\"type\":\"-\",\"tickfont\":{\"color\":\"rgba(0, 0, 0, 1.000)\",\"family\":\"sans-serif\",\"size\":11},\"anchor\":\"y\"},\"paper_bgcolor\":\"rgba(255, 255, 255, 1.000)\",\"xaxis7\":{\"tickvals\":[0.0,10.0,20.0,30.0,40.0,50.0],\"ticks\":\"inside\",\"tickmode\":\"array\",\"domain\":[0.0658209390492855,0.32677165354330706],\"linecolor\":\"rgba(0, 0, 0, 1.000)\",\"showgrid\":true,\"title\":\"\",\"tickangle\":0,\"titlefont\":{\"color\":\"rgba(0, 0, 0, 1.000)\",\"family\":\"sans-serif\",\"size\":15},\"tickcolor\":\"rgba(0, 0, 0, 1.000)\",\"ticktext\":[\"0\",\"10\",\"20\",\"30\",\"40\",\"50\"],\"zeroline\":false,\"type\":\"-\",\"tickfont\":{\"color\":\"rgba(0, 0, 0, 1.000)\",\"family\":\"sans-serif\",\"size\":11},\"anchor\":\"y7\"},\"xaxis8\":{\"tickvals\":[0.0,10.0,20.0,30.0,40.0,50.0],\"ticks\":\"inside\",\"tickmode\":\"array\",\"domain\":[0.3991542723826188,0.6601049868766404],\"linecolor\":\"rgba(0, 0, 0, 1.000)\",\"showgrid\":true,\"title\":\"\",\"tickangle\":0,\"titlefont\":{\"color\":\"rgba(0, 0, 0, 1.000)\",\"family\":\"sans-serif\",\"size\":15},\"tickcolor\":\"rgba(0, 0, 0, 1.000)\",\"ticktext\":[\"0\",\"10\",\"20\",\"30\",\"40\",\"50\"],\"zeroline\":false,\"type\":\"-\",\"tickfont\":{\"color\":\"rgba(0, 0, 0, 1.000)\",\"family\":\"sans-serif\",\"size\":11},\"anchor\":\"y8\"},\"height\":400,\"yaxis4\":{\"tickvals\":[0.0,1000.0,2000.0,3000.0,4000.0,5000.0],\"ticks\":\"inside\",\"range\":[0.0,5000.0],\"domain\":[0.37095363079615057,0.6568241469816274],\"tickmode\":\"array\",\"linecolor\":\"rgba(0, 0, 0, 1.000)\",\"showgrid\":true,\"title\":\"\",\"tickangle\":0,\"titlefont\":{\"color\":\"rgba(0, 0, 0, 1.000)\",\"family\":\"sans-serif\",\"size\":15},\"tickcolor\":\"rgba(0, 0, 0, 1.000)\",\"ticktext\":[\"0\",\"1000\",\"2000\",\"3000\",\"4000\",\"5000\"],\"zeroline\":false,\"type\":\"-\",\"tickfont\":{\"color\":\"rgba(0, 0, 0, 1.000)\",\"family\":\"sans-serif\",\"size\":11},\"anchor\":\"x4\"},\"yaxis\":{\"tickvals\":[0.0,1000.0,2000.0,3000.0,4000.0,5000.0],\"ticks\":\"inside\",\"range\":[0.0,5000.0],\"domain\":[0.7042869641294839,0.9901574803149606],\"tickmode\":\"array\",\"linecolor\":\"rgba(0, 0, 0, 1.000)\",\"showgrid\":true,\"title\":\"\",\"tickangle\":0,\"titlefont\":{\"color\":\"rgba(0, 0, 0, 1.000)\",\"family\":\"sans-serif\",\"size\":15},\"tickcolor\":\"rgba(0, 0, 0, 1.000)\",\"ticktext\":[\"0\",\"1000\",\"2000\",\"3000\",\"4000\",\"5000\"],\"zeroline\":false,\"type\":\"-\",\"tickfont\":{\"color\":\"rgba(0, 0, 0, 1.000)\",\"family\":\"sans-serif\",\"size\":11},\"anchor\":\"x\"},\"yaxis2\":{\"tickvals\":[0.0,1000.0,2000.0,3000.0,4000.0,5000.0],\"ticks\":\"inside\",\"range\":[0.0,5000.0],\"domain\":[0.7042869641294839,0.9901574803149606],\"tickmode\":\"array\",\"linecolor\":\"rgba(0, 0, 0, 1.000)\",\"showgrid\":true,\"title\":\"\",\"tickangle\":0,\"titlefont\":{\"color\":\"rgba(0, 0, 0, 1.000)\",\"family\":\"sans-serif\",\"size\":15},\"tickcolor\":\"rgba(0, 0, 0, 1.000)\",\"ticktext\":[\"0\",\"1000\",\"2000\",\"3000\",\"4000\",\"5000\"],\"zeroline\":false,\"type\":\"-\",\"tickfont\":{\"color\":\"rgba(0, 0, 0, 1.000)\",\"family\":\"sans-serif\",\"size\":11},\"anchor\":\"x2\"},\"xaxis3\":{\"tickvals\":[0.0,10.0,20.0,30.0,40.0,50.0],\"ticks\":\"inside\",\"tickmode\":\"array\",\"domain\":[0.7324876057159522,0.9934383202099737],\"linecolor\":\"rgba(0, 0, 0, 1.000)\",\"showgrid\":true,\"title\":\"\",\"tickangle\":0,\"titlefont\":{\"color\":\"rgba(0, 0, 0, 1.000)\",\"family\":\"sans-serif\",\"size\":15},\"tickcolor\":\"rgba(0, 0, 0, 1.000)\",\"ticktext\":[\"0\",\"10\",\"20\",\"30\",\"40\",\"50\"],\"zeroline\":false,\"type\":\"-\",\"tickfont\":{\"color\":\"rgba(0, 0, 0, 1.000)\",\"family\":\"sans-serif\",\"size\":11},\"anchor\":\"y3\"},\"xaxis4\":{\"tickvals\":[0.0,10.0,20.0,30.0,40.0,50.0],\"ticks\":\"inside\",\"tickmode\":\"array\",\"domain\":[0.0658209390492855,0.32677165354330706],\"linecolor\":\"rgba(0, 0, 0, 1.000)\",\"showgrid\":true,\"title\":\"\",\"tickangle\":0,\"titlefont\":{\"color\":\"rgba(0, 0, 0, 1.000)\",\"family\":\"sans-serif\",\"size\":15},\"tickcolor\":\"rgba(0, 0, 0, 1.000)\",\"ticktext\":[\"0\",\"10\",\"20\",\"30\",\"40\",\"50\"],\"zeroline\":false,\"type\":\"-\",\"tickfont\":{\"color\":\"rgba(0, 0, 0, 1.000)\",\"family\":\"sans-serif\",\"size\":11},\"anchor\":\"y4\"},\"annotations\":[],\"yaxis6\":{\"tickvals\":[0.0,1000.0,2000.0,3000.0,4000.0,5000.0],\"ticks\":\"inside\",\"range\":[0.0,5000.0],\"domain\":[0.37095363079615057,0.6568241469816274],\"tickmode\":\"array\",\"linecolor\":\"rgba(0, 0, 0, 1.000)\",\"showgrid\":true,\"title\":\"\",\"tickangle\":0,\"titlefont\":{\"color\":\"rgba(0, 0, 0, 1.000)\",\"family\":\"sans-serif\",\"size\":15},\"tickcolor\":\"rgba(0, 0, 0, 1.000)\",\"ticktext\":[\"0\",\"1000\",\"2000\",\"3000\",\"4000\",\"5000\"],\"zeroline\":false,\"type\":\"-\",\"tickfont\":{\"color\":\"rgba(0, 0, 0, 1.000)\",\"family\":\"sans-serif\",\"size\":11},\"anchor\":\"x6\"},\"plot_bgcolor\":\"rgba(255, 255, 255, 1.000)\",\"xaxis5\":{\"tickvals\":[0.0,10.0,20.0,30.0,40.0,50.0],\"ticks\":\"inside\",\"tickmode\":\"array\",\"domain\":[0.3991542723826188,0.6601049868766404],\"linecolor\":\"rgba(0, 0, 0, 1.000)\",\"showgrid\":true,\"title\":\"\",\"tickangle\":0,\"titlefont\":{\"color\":\"rgba(0, 0, 0, 1.000)\",\"family\":\"sans-serif\",\"size\":15},\"tickcolor\":\"rgba(0, 0, 0, 1.000)\",\"ticktext\":[\"0\",\"10\",\"20\",\"30\",\"40\",\"50\"],\"zeroline\":false,\"type\":\"-\",\"tickfont\":{\"color\":\"rgba(0, 0, 0, 1.000)\",\"family\":\"sans-serif\",\"size\":11},\"anchor\":\"y5\"},\"showlegend\":false,\"xaxis9\":{\"tickvals\":[0.0,20.0,40.0,60.0],\"ticks\":\"inside\",\"tickmode\":\"array\",\"domain\":[0.7324876057159522,0.9934383202099737],\"linecolor\":\"rgba(0, 0, 0, 1.000)\",\"showgrid\":true,\"title\":\"\",\"tickangle\":0,\"titlefont\":{\"color\":\"rgba(0, 0, 0, 1.000)\",\"family\":\"sans-serif\",\"size\":15},\"tickcolor\":\"rgba(0, 0, 0, 1.000)\",\"ticktext\":[\"0\",\"20\",\"40\",\"60\"],\"zeroline\":false,\"type\":\"-\",\"tickfont\":{\"color\":\"rgba(0, 0, 0, 1.000)\",\"family\":\"sans-serif\",\"size\":11},\"anchor\":\"y9\"},\"yaxis8\":{\"tickvals\":[0.0,1000.0,2000.0,3000.0,4000.0,5000.0],\"ticks\":\"inside\",\"range\":[0.0,5000.0],\"domain\":[0.037620297462817295,0.32349081364829413],\"tickmode\":\"array\",\"linecolor\":\"rgba(0, 0, 0, 1.000)\",\"showgrid\":true,\"title\":\"\",\"tickangle\":0,\"titlefont\":{\"color\":\"rgba(0, 0, 0, 1.000)\",\"family\":\"sans-serif\",\"size\":15},\"tickcolor\":\"rgba(0, 0, 0, 1.000)\",\"ticktext\":[\"0\",\"1000\",\"2000\",\"3000\",\"4000\",\"5000\"],\"zeroline\":false,\"type\":\"-\",\"tickfont\":{\"color\":\"rgba(0, 0, 0, 1.000)\",\"family\":\"sans-serif\",\"size\":11},\"anchor\":\"x8\"},\"yaxis3\":{\"tickvals\":[0.0,1000.0,2000.0,3000.0,4000.0,5000.0],\"ticks\":\"inside\",\"range\":[0.0,5000.0],\"domain\":[0.7042869641294839,0.9901574803149606],\"tickmode\":\"array\",\"linecolor\":\"rgba(0, 0, 0, 1.000)\",\"showgrid\":true,\"title\":\"\",\"tickangle\":0,\"titlefont\":{\"color\":\"rgba(0, 0, 0, 1.000)\",\"family\":\"sans-serif\",\"size\":15},\"tickcolor\":\"rgba(0, 0, 0, 1.000)\",\"ticktext\":[\"0\",\"1000\",\"2000\",\"3000\",\"4000\",\"5000\"],\"zeroline\":false,\"type\":\"-\",\"tickfont\":{\"color\":\"rgba(0, 0, 0, 1.000)\",\"family\":\"sans-serif\",\"size\":11},\"anchor\":\"x3\"},\"yaxis9\":{\"tickvals\":[0.0,1000.0,2000.0,3000.0,4000.0,5000.0],\"ticks\":\"inside\",\"range\":[0.0,5000.0],\"domain\":[0.037620297462817295,0.32349081364829413],\"tickmode\":\"array\",\"linecolor\":\"rgba(0, 0, 0, 1.000)\",\"showgrid\":true,\"title\":\"\",\"tickangle\":0,\"titlefont\":{\"color\":\"rgba(0, 0, 0, 1.000)\",\"family\":\"sans-serif\",\"size\":15},\"tickcolor\":\"rgba(0, 0, 0, 1.000)\",\"ticktext\":[\"0\",\"1000\",\"2000\",\"3000\",\"4000\",\"5000\"],\"zeroline\":false,\"type\":\"-\",\"tickfont\":{\"color\":\"rgba(0, 0, 0, 1.000)\",\"family\":\"sans-serif\",\"size\":11},\"anchor\":\"x9\"},\"yaxis5\":{\"tickvals\":[0.0,1000.0,2000.0,3000.0,4000.0,5000.0],\"ticks\":\"inside\",\"range\":[0.0,5000.0],\"domain\":[0.37095363079615057,0.6568241469816274],\"tickmode\":\"array\",\"linecolor\":\"rgba(0, 0, 0, 1.000)\",\"showgrid\":true,\"title\":\"\",\"tickangle\":0,\"titlefont\":{\"color\":\"rgba(0, 0, 0, 1.000)\",\"family\":\"sans-serif\",\"size\":15},\"tickcolor\":\"rgba(0, 0, 0, 1.000)\",\"ticktext\":[\"0\",\"1000\",\"2000\",\"3000\",\"4000\",\"5000\"],\"zeroline\":false,\"type\":\"-\",\"tickfont\":{\"color\":\"rgba(0, 0, 0, 1.000)\",\"family\":\"sans-serif\",\"size\":11},\"anchor\":\"x5\"},\"yaxis7\":{\"tickvals\":[0.0,1000.0,2000.0,3000.0,4000.0,5000.0],\"ticks\":\"inside\",\"range\":[0.0,5000.0],\"domain\":[0.037620297462817295,0.32349081364829413],\"tickmode\":\"array\",\"linecolor\":\"rgba(0, 0, 0, 1.000)\",\"showgrid\":true,\"title\":\"\",\"tickangle\":0,\"titlefont\":{\"color\":\"rgba(0, 0, 0, 1.000)\",\"family\":\"sans-serif\",\"size\":15},\"tickcolor\":\"rgba(0, 0, 0, 1.000)\",\"ticktext\":[\"0\",\"1000\",\"2000\",\"3000\",\"4000\",\"5000\"],\"zeroline\":false,\"type\":\"-\",\"tickfont\":{\"color\":\"rgba(0, 0, 0, 1.000)\",\"family\":\"sans-serif\",\"size\":11},\"anchor\":\"x7\"},\"xaxis2\":{\"tickvals\":[0.0,10.0,20.0,30.0,40.0,50.0],\"ticks\":\"inside\",\"tickmode\":\"array\",\"domain\":[0.3991542723826188,0.6601049868766404],\"linecolor\":\"rgba(0, 0, 0, 1.000)\",\"showgrid\":true,\"title\":\"\",\"tickangle\":0,\"titlefont\":{\"color\":\"rgba(0, 0, 0, 1.000)\",\"family\":\"sans-serif\",\"size\":15},\"tickcolor\":\"rgba(0, 0, 0, 1.000)\",\"ticktext\":[\"0\",\"10\",\"20\",\"30\",\"40\",\"50\"],\"zeroline\":false,\"type\":\"-\",\"tickfont\":{\"color\":\"rgba(0, 0, 0, 1.000)\",\"family\":\"sans-serif\",\"size\":11},\"anchor\":\"y2\"},\"xaxis6\":{\"tickvals\":[0.0,10.0,20.0,30.0,40.0,50.0],\"ticks\":\"inside\",\"tickmode\":\"array\",\"domain\":[0.7324876057159522,0.9934383202099737],\"linecolor\":\"rgba(0, 0, 0, 1.000)\",\"showgrid\":true,\"title\":\"\",\"tickangle\":0,\"titlefont\":{\"color\":\"rgba(0, 0, 0, 1.000)\",\"family\":\"sans-serif\",\"size\":15},\"tickcolor\":\"rgba(0, 0, 0, 1.000)\",\"ticktext\":[\"0\",\"10\",\"20\",\"30\",\"40\",\"50\"],\"zeroline\":false,\"type\":\"-\",\"tickfont\":{\"color\":\"rgba(0, 0, 0, 1.000)\",\"family\":\"sans-serif\",\"size\":11},\"anchor\":\"y6\"},\"margin\":{\"l\":0,\"b\":20,\"r\":0,\"t\":20},\"width\":600});\n",
       "    </script>\n"
      ]
     },
     "execution_count": 238,
     "metadata": {},
     "output_type": "execute_result"
    }
   ],
   "source": [
    "histogram(data,:streakA,group=:pool,\n",
    "    layout=9,\n",
    "    xlabel=\"\",\n",
    "    ylim=(0,5000),\n",
    "    legend=false)"
   ]
  },
  {
   "cell_type": "markdown",
   "metadata": {},
   "source": [
    "### Profiling"
   ]
  },
  {
   "cell_type": "code",
   "execution_count": null,
   "metadata": {
    "collapsed": true
   },
   "outputs": [],
   "source": [
    "using ProvileView"
   ]
  },
  {
   "cell_type": "code",
   "execution_count": 248,
   "metadata": {
    "scrolled": true
   },
   "outputs": [
    {
     "data": {
      "image/svg+xml": [
       "<?xml version=\"1.0\" standalone=\"no\"?>\n",
       "<!DOCTYPE svg PUBLIC \"-//W3C//DTD SVG 1.1//EN\" \"http://www.w3.org/Graphics/SVG/1.1/DTD/svg11.dtd\">\n",
       "<svg version=\"1.1\" width=\"1200\" height=\"250\" viewBox=\"0 0 1200 250\" xmlns=\"http://www.w3.org/2000/svg\" >\n",
       "<defs >\n",
       "    <linearGradient id=\"background\" y1=\"0\" y2=\"1\" x1=\"0\" x2=\"0\" >\n",
       "        <stop stop-color=\"#eeeeee\" offset=\"5%\" />\n",
       "        <stop stop-color=\"#eeeeb0\" offset=\"95%\" />\n",
       "    </linearGradient>\n",
       "    <clipPath id=\"fig-58a4a0fcf1e34180a6e4b16685d3548d-image-frame\">\n",
       "      <rect id=\"fig-58a4a0fcf1e34180a6e4b16685d3548d-clip-rect\" x=\"0\" y=\"0\" width=\"1200\" height=\"250\" />\n",
       "    </clipPath>\n",
       "</defs>\n",
       "<style type=\"text/css\">\n",
       "    rect[rx]:hover { stroke:black; stroke-width:1; }\n",
       "    text:hover { stroke:black; stroke-width:1; stroke-opacity:0.35; }\n",
       "</style>\n",
       "<g id=\"fig-58a4a0fcf1e34180a6e4b16685d3548d-frame\" clip-path=\"url(#fig-58a4a0fcf1e34180a6e4b16685d3548d-image-frame)\">\n",
       "<rect class=\"pvbackground\" x=\"0.0\" y=\"0\" width=\"1200.0\" height=\"250.0\" fill=\"url(#background)\"  />\n",
       "<text class=\"pvbackground\" text-anchor=\"middle\" x=\"600\" y=\"24\" font-size=\"17\" font-family=\"Verdana\" fill=\"rgb(0,0,0)\"  >Profile results</text>\n",
       "<text text-anchor=\"left\" x=\"10\" y=\"233\" font-size=\"12\" font-family=\"Verdana\" fill=\"rgb(0,0,0)\"  >Function:</text>\n",
       "<text text-anchor=\"\" x=\"70\" y=\"233\" font-size=\"12\" font-family=\"Verdana\" fill=\"rgb(0,0,0)\" id=\"fig-58a4a0fcf1e34180a6e4b16685d3548d-details\" > </text>\n",
       "<g id=\"fig-58a4a0fcf1e34180a6e4b16685d3548d-viewport\" transform=\"scale(1)\">\n",
       "<rect vector-effect=\"non-scaling-stroke\" x=\"10.0\" y=\"195.0\" width=\"1176.9974554707378\" height=\"15.0\" fill=\"rgb(232,112,221)\" rx=\"2\" ry=\"2\" data-shortinfo=\"#14 in task.jl:335\" data-info=\"#14 in ./task.jl:335\"/>\n",
       "<text text-anchor=\"\" x=\"14.0\" y=\"206.5\" font-size=\"12\" font-family=\"Verdana\" fill=\"rgb(0,0,0)\" ></text>\n",
       "<rect vector-effect=\"non-scaling-stroke\" x=\"10.0\" y=\"180.0\" width=\"1176.9974554707378\" height=\"15.0\" fill=\"rgb(255,0,0)\" rx=\"2\" ry=\"2\" data-shortinfo=\"eventloop in eventloop.jl:8\" data-info=\"eventloop in /home/pawel/.julia/v0.6/IJulia/src/eventloop.jl:8\"/>\n",
       "<text text-anchor=\"\" x=\"14.0\" y=\"191.5\" font-size=\"12\" font-family=\"Verdana\" fill=\"rgb(0,0,0)\" ></text>\n",
       "<rect vector-effect=\"non-scaling-stroke\" x=\"10.0\" y=\"165.0\" width=\"1176.9974554707378\" height=\"15.0\" fill=\"rgb(255,0,0)\" rx=\"2\" ry=\"2\" data-shortinfo=\"execute_request in execute_request.jl:154\" data-info=\"execute_request in /home/pawel/.julia/v0.6/IJulia/src/execute_request.jl:154\"/>\n",
       "<text text-anchor=\"\" x=\"14.0\" y=\"176.5\" font-size=\"12\" font-family=\"Verdana\" fill=\"rgb(0,0,0)\" ></text>\n",
       "<rect vector-effect=\"non-scaling-stroke\" x=\"10.0\" y=\"150.0\" width=\"1176.9974554707378\" height=\"15.0\" fill=\"rgb(255,0,0)\" rx=\"2\" ry=\"2\" data-shortinfo=\"include_string in Compat.jl:577\" data-info=\"include_string in /home/pawel/.julia/v0.6/Compat/src/Compat.jl:577\"/>\n",
       "<text text-anchor=\"\" x=\"14.0\" y=\"161.5\" font-size=\"12\" font-family=\"Verdana\" fill=\"rgb(0,0,0)\" ></text>\n",
       "<rect vector-effect=\"non-scaling-stroke\" x=\"10.0\" y=\"135.0\" width=\"1176.9974554707378\" height=\"15.0\" fill=\"rgb(232,112,221)\" rx=\"2\" ry=\"2\" data-shortinfo=\"macro expansion in profile.jl:23; anonymous in &amp;lt;missing&amp;gt;:-1\" data-info=\"macro expansion in ./profile.jl:23; anonymous in ./&amp;lt;missing&amp;gt;:-1\"/>\n",
       "<text text-anchor=\"\" x=\"14.0\" y=\"146.5\" font-size=\"12\" font-family=\"Verdana\" fill=\"rgb(0,0,0)\" ></text>\n",
       "<rect vector-effect=\"non-scaling-stroke\" x=\"10.0\" y=\"120.0\" width=\"9.007633587786259\" height=\"15.0\" fill=\"rgb(255,0,0)\" rx=\"2\" ry=\"2\" data-shortinfo=\"#QC#41 in In[229]:19\" data-info=\"#QC#41 in ./In[229]:19\"/>\n",
       "<text text-anchor=\"\" x=\"14.0\" y=\"131.5\" font-size=\"12\" font-family=\"Verdana\" fill=\"rgb(0,0,0)\" ></text>\n",
       "<rect vector-effect=\"non-scaling-stroke\" x=\"19.00763358778626\" y=\"120.0\" width=\"330.27989821882954\" height=\"15.0\" fill=\"rgb(255,164,156)\" rx=\"2\" ry=\"2\" data-shortinfo=\"#QC#41 in In[229]:27\" data-info=\"#QC#41 in ./In[229]:27\"/>\n",
       "<text text-anchor=\"\" x=\"23.00763358778626\" y=\"131.5\" font-size=\"12\" font-family=\"Verdana\" fill=\"rgb(0,0,0)\" ></text>\n",
       "<rect vector-effect=\"non-scaling-stroke\" x=\"349.2875318066158\" y=\"120.0\" width=\"3.0025445292620816\" height=\"15.0\" fill=\"rgb(255,164,156)\" rx=\"2\" ry=\"2\" data-shortinfo=\"#QC#41 in In[229]:27\" data-info=\"#QC#41 in ./In[229]:27\"/>\n",
       "<text text-anchor=\"\" x=\"353.2875318066158\" y=\"131.5\" font-size=\"12\" font-family=\"Verdana\" fill=\"rgb(0,0,0)\" ></text>\n",
       "<rect vector-effect=\"non-scaling-stroke\" x=\"352.29007633587787\" y=\"120.0\" width=\"279.23664122137404\" height=\"15.0\" fill=\"rgb(158,158,158)\" rx=\"2\" ry=\"2\" data-shortinfo=\"#QC#41 in In[229]:28\" data-info=\"#QC#41 in ./In[229]:28\"/>\n",
       "<text text-anchor=\"\" x=\"356.29007633587787\" y=\"131.5\" font-size=\"12\" font-family=\"Verdana\" fill=\"rgb(0,0,0)\" ></text>\n",
       "<rect vector-effect=\"non-scaling-stroke\" x=\"631.5267175572519\" y=\"120.0\" width=\"6.005089058524163\" height=\"15.0\" fill=\"rgb(158,158,158)\" rx=\"2\" ry=\"2\" data-shortinfo=\"#QC#41 in In[229]:28\" data-info=\"#QC#41 in ./In[229]:28\"/>\n",
       "<text text-anchor=\"\" x=\"635.5267175572519\" y=\"131.5\" font-size=\"12\" font-family=\"Verdana\" fill=\"rgb(0,0,0)\" ></text>\n",
       "<rect vector-effect=\"non-scaling-stroke\" x=\"637.5318066157761\" y=\"120.0\" width=\"177.15012722646316\" height=\"15.0\" fill=\"rgb(205,185,255)\" rx=\"2\" ry=\"2\" data-shortinfo=\"#QC#41 in In[229]:29\" data-info=\"#QC#41 in ./In[229]:29\"/>\n",
       "<text text-anchor=\"\" x=\"641.5318066157761\" y=\"131.5\" font-size=\"12\" font-family=\"Verdana\" fill=\"rgb(0,0,0)\" ></text>\n",
       "<rect vector-effect=\"non-scaling-stroke\" x=\"814.6819338422392\" y=\"120.0\" width=\"18.01526717557249\" height=\"15.0\" fill=\"rgb(255,141,62)\" rx=\"2\" ry=\"2\" data-shortinfo=\"#QC#41 in In[229]:30\" data-info=\"#QC#41 in ./In[229]:30\"/>\n",
       "<text text-anchor=\"\" x=\"818.6819338422392\" y=\"131.5\" font-size=\"12\" font-family=\"Verdana\" fill=\"rgb(0,0,0)\" ></text>\n",
       "<rect vector-effect=\"non-scaling-stroke\" x=\"832.6972010178117\" y=\"120.0\" width=\"6.005089058524163\" height=\"15.0\" fill=\"rgb(255,141,62)\" rx=\"2\" ry=\"2\" data-shortinfo=\"#QC#41 in In[229]:30\" data-info=\"#QC#41 in ./In[229]:30\"/>\n",
       "<text text-anchor=\"\" x=\"836.6972010178117\" y=\"131.5\" font-size=\"12\" font-family=\"Verdana\" fill=\"rgb(0,0,0)\" ></text>\n",
       "<rect vector-effect=\"non-scaling-stroke\" x=\"838.7022900763359\" y=\"120.0\" width=\"3.0025445292620816\" height=\"15.0\" fill=\"rgb(255,141,62)\" rx=\"2\" ry=\"2\" data-shortinfo=\"#QC#41 in In[229]:30\" data-info=\"#QC#41 in ./In[229]:30\"/>\n",
       "<text text-anchor=\"\" x=\"842.7022900763359\" y=\"131.5\" font-size=\"12\" font-family=\"Verdana\" fill=\"rgb(0,0,0)\" ></text>\n",
       "<rect vector-effect=\"non-scaling-stroke\" x=\"841.704834605598\" y=\"120.0\" width=\"12.010178117048326\" height=\"15.0\" fill=\"rgb(255,0,0)\" rx=\"2\" ry=\"2\" data-shortinfo=\"#QC#41 in In[229]:36\" data-info=\"#QC#41 in ./In[229]:36\"/>\n",
       "<text text-anchor=\"\" x=\"845.704834605598\" y=\"131.5\" font-size=\"12\" font-family=\"Verdana\" fill=\"rgb(0,0,0)\" ></text>\n",
       "<rect vector-effect=\"non-scaling-stroke\" x=\"853.7150127226463\" y=\"120.0\" width=\"6.005089058524163\" height=\"15.0\" fill=\"rgb(255,0,0)\" rx=\"2\" ry=\"2\" data-shortinfo=\"#QC#41 in In[229]:36\" data-info=\"#QC#41 in ./In[229]:36\"/>\n",
       "<text text-anchor=\"\" x=\"857.7150127226463\" y=\"131.5\" font-size=\"12\" font-family=\"Verdana\" fill=\"rgb(0,0,0)\" ></text>\n",
       "<rect vector-effect=\"non-scaling-stroke\" x=\"859.7201017811705\" y=\"120.0\" width=\"6.005089058524163\" height=\"15.0\" fill=\"rgb(255,0,0)\" rx=\"2\" ry=\"2\" data-shortinfo=\"#QC#41 in In[229]:36\" data-info=\"#QC#41 in ./In[229]:36\"/>\n",
       "<text text-anchor=\"\" x=\"863.7201017811705\" y=\"131.5\" font-size=\"12\" font-family=\"Verdana\" fill=\"rgb(0,0,0)\" ></text>\n",
       "<rect vector-effect=\"non-scaling-stroke\" x=\"865.7251908396946\" y=\"120.0\" width=\"222.18829516539438\" height=\"15.0\" fill=\"rgb(255,0,0)\" rx=\"2\" ry=\"2\" data-shortinfo=\"#QC#41 in In[229]:37\" data-info=\"#QC#41 in ./In[229]:37\"/>\n",
       "<text text-anchor=\"\" x=\"869.7251908396946\" y=\"131.5\" font-size=\"12\" font-family=\"Verdana\" fill=\"rgb(0,0,0)\" ></text>\n",
       "<rect vector-effect=\"non-scaling-stroke\" x=\"1087.913486005089\" y=\"120.0\" width=\"27.022900763358848\" height=\"15.0\" fill=\"rgb(255,0,0)\" rx=\"2\" ry=\"2\" data-shortinfo=\"#QC#41 in In[229]:37\" data-info=\"#QC#41 in ./In[229]:37\"/>\n",
       "<text text-anchor=\"\" x=\"1091.913486005089\" y=\"131.5\" font-size=\"12\" font-family=\"Verdana\" fill=\"rgb(0,0,0)\" ></text>\n",
       "<rect vector-effect=\"non-scaling-stroke\" x=\"1114.9363867684478\" y=\"120.0\" width=\"6.005089058524163\" height=\"15.0\" fill=\"rgb(255,0,0)\" rx=\"2\" ry=\"2\" data-shortinfo=\"#QC#41 in In[229]:37\" data-info=\"#QC#41 in ./In[229]:37\"/>\n",
       "<text text-anchor=\"\" x=\"1118.9363867684478\" y=\"131.5\" font-size=\"12\" font-family=\"Verdana\" fill=\"rgb(0,0,0)\" ></text>\n",
       "<rect vector-effect=\"non-scaling-stroke\" x=\"1120.941475826972\" y=\"120.0\" width=\"21.017811704834685\" height=\"15.0\" fill=\"rgb(255,0,0)\" rx=\"2\" ry=\"2\" data-shortinfo=\"#QC#41 in In[229]:38\" data-info=\"#QC#41 in ./In[229]:38\"/>\n",
       "<text text-anchor=\"\" x=\"1124.941475826972\" y=\"131.5\" font-size=\"12\" font-family=\"Verdana\" fill=\"rgb(0,0,0)\" ></text>\n",
       "<rect vector-effect=\"non-scaling-stroke\" x=\"1141.9592875318067\" y=\"120.0\" width=\"9.007633587786131\" height=\"15.0\" fill=\"rgb(255,0,0)\" rx=\"2\" ry=\"2\" data-shortinfo=\"#QC#41 in In[229]:38\" data-info=\"#QC#41 in ./In[229]:38\"/>\n",
       "<text text-anchor=\"\" x=\"1145.9592875318067\" y=\"131.5\" font-size=\"12\" font-family=\"Verdana\" fill=\"rgb(0,0,0)\" ></text>\n",
       "<rect vector-effect=\"non-scaling-stroke\" x=\"1150.9669211195928\" y=\"120.0\" width=\"18.01526717557249\" height=\"15.0\" fill=\"rgb(180,211,70)\" rx=\"2\" ry=\"2\" data-shortinfo=\"getindex in dataframe.jl:228; #QC#41 in In[229]:36\" data-info=\"getindex in /home/pawel/.julia/v0.6/DataFrames/src/dataframe/dataframe.jl:228; #QC#41 in ./In[229]:36\"/>\n",
       "<text text-anchor=\"\" x=\"1154.9669211195928\" y=\"131.5\" font-size=\"12\" font-family=\"Verdana\" fill=\"rgb(0,0,0)\" ></text>\n",
       "<rect vector-effect=\"non-scaling-stroke\" x=\"1168.9821882951653\" y=\"120.0\" width=\"9.007633587786358\" height=\"15.0\" fill=\"rgb(255,164,156)\" rx=\"2\" ry=\"2\" data-shortinfo=\"getindex in dataframe.jl:228; #QC#41 in In[229]:38\" data-info=\"getindex in /home/pawel/.julia/v0.6/DataFrames/src/dataframe/dataframe.jl:228; #QC#41 in ./In[229]:38\"/>\n",
       "<text text-anchor=\"\" x=\"1172.9821882951653\" y=\"131.5\" font-size=\"12\" font-family=\"Verdana\" fill=\"rgb(0,0,0)\" ></text>\n",
       "<rect vector-effect=\"non-scaling-stroke\" x=\"1177.9898218829517\" y=\"120.0\" width=\"9.007633587786131\" height=\"15.0\" fill=\"rgb(158,158,158)\" rx=\"2\" ry=\"2\" data-shortinfo=\"getindex in dataframe.jl:228; #QC#41 in In[229]:37\" data-info=\"getindex in /home/pawel/.julia/v0.6/DataFrames/src/dataframe/dataframe.jl:228; #QC#41 in ./In[229]:37\"/>\n",
       "<text text-anchor=\"\" x=\"1181.9898218829517\" y=\"131.5\" font-size=\"12\" font-family=\"Verdana\" fill=\"rgb(0,0,0)\" ></text>\n",
       "<rect vector-effect=\"non-scaling-stroke\" x=\"10.0\" y=\"105.0\" width=\"9.007633587786259\" height=\"15.0\" fill=\"rgb(255,0,0)\" rx=\"2\" ry=\"2\" data-shortinfo=\"Type in &amp;lt;missing&amp;gt;:0\" data-info=\"Type in ./&amp;lt;missing&amp;gt;:0\"/>\n",
       "<text text-anchor=\"\" x=\"14.0\" y=\"116.5\" font-size=\"12\" font-family=\"Verdana\" fill=\"rgb(0,0,0)\" ></text>\n",
       "<rect vector-effect=\"non-scaling-stroke\" x=\"19.00763358778626\" y=\"105.0\" width=\"48.04071246819338\" height=\"15.0\" fill=\"rgb(232,112,221)\" rx=\"2\" ry=\"2\" data-shortinfo=\"next in Ragel.jl:269\" data-info=\"next in /home/pawel/.julia/v0.6/BioCore/src/Ragel.jl:269\"/>\n",
       "<text text-anchor=\"\" x=\"23.00763358778626\" y=\"116.5\" font-size=\"12\" font-family=\"Verdana\" fill=\"rgb(0,0,0)\" ></text>\n",
       "<rect vector-effect=\"non-scaling-stroke\" x=\"67.04834605597964\" y=\"105.0\" width=\"270.2290076335878\" height=\"15.0\" fill=\"rgb(50,180,78)\" rx=\"2\" ry=\"2\" data-shortinfo=\"next in Ragel.jl:270\" data-info=\"next in /home/pawel/.julia/v0.6/BioCore/src/Ragel.jl:270\"/>\n",
       "<text text-anchor=\"\" x=\"71.04834605597964\" y=\"116.5\" font-size=\"12\" font-family=\"Verdana\" fill=\"rgb(0,0,0)\" ></text>\n",
       "<rect vector-effect=\"non-scaling-stroke\" x=\"337.2773536895674\" y=\"105.0\" width=\"6.00508905852422\" height=\"15.0\" fill=\"rgb(26,162,255)\" rx=\"2\" ry=\"2\" data-shortinfo=\"next in Ragel.jl:273\" data-info=\"next in /home/pawel/.julia/v0.6/BioCore/src/Ragel.jl:273\"/>\n",
       "<text text-anchor=\"\" x=\"341.2773536895674\" y=\"116.5\" font-size=\"12\" font-family=\"Verdana\" fill=\"rgb(0,0,0)\" ></text>\n",
       "<rect vector-effect=\"non-scaling-stroke\" x=\"343.2824427480916\" y=\"105.0\" width=\"6.005089058524163\" height=\"15.0\" fill=\"rgb(26,162,255)\" rx=\"2\" ry=\"2\" data-shortinfo=\"next in Ragel.jl:273\" data-info=\"next in /home/pawel/.julia/v0.6/BioCore/src/Ragel.jl:273\"/>\n",
       "<text text-anchor=\"\" x=\"347.2824427480916\" y=\"116.5\" font-size=\"12\" font-family=\"Verdana\" fill=\"rgb(0,0,0)\" ></text>\n",
       "<rect vector-effect=\"non-scaling-stroke\" x=\"352.29007633587787\" y=\"105.0\" width=\"3.0025445292620816\" height=\"15.0\" fill=\"rgb(210,165,23)\" rx=\"2\" ry=\"2\" data-shortinfo=\"sequence in record.jl:0\" data-info=\"sequence in /home/pawel/.julia/v0.6/BioSequences/src/fastq/record.jl:0\"/>\n",
       "<text text-anchor=\"\" x=\"356.29007633587787\" y=\"116.5\" font-size=\"12\" font-family=\"Verdana\" fill=\"rgb(0,0,0)\" ></text>\n",
       "<rect vector-effect=\"non-scaling-stroke\" x=\"355.29262086513995\" y=\"105.0\" width=\"3.0025445292620816\" height=\"15.0\" fill=\"rgb(210,165,23)\" rx=\"2\" ry=\"2\" data-shortinfo=\"sequence in record.jl:0\" data-info=\"sequence in /home/pawel/.julia/v0.6/BioSequences/src/fastq/record.jl:0\"/>\n",
       "<text text-anchor=\"\" x=\"359.29262086513995\" y=\"116.5\" font-size=\"12\" font-family=\"Verdana\" fill=\"rgb(0,0,0)\" ></text>\n",
       "<rect vector-effect=\"non-scaling-stroke\" x=\"358.29516539440203\" y=\"105.0\" width=\"21.017811704834628\" height=\"15.0\" fill=\"rgb(210,165,23)\" rx=\"2\" ry=\"2\" data-shortinfo=\"sequence in record.jl:0\" data-info=\"sequence in /home/pawel/.julia/v0.6/BioSequences/src/fastq/record.jl:0\"/>\n",
       "<text text-anchor=\"\" x=\"362.29516539440203\" y=\"116.5\" font-size=\"12\" font-family=\"Verdana\" fill=\"rgb(0,0,0)\" ></text>\n",
       "<rect vector-effect=\"non-scaling-stroke\" x=\"379.31297709923666\" y=\"105.0\" width=\"252.21374045801525\" height=\"15.0\" fill=\"rgb(0,222,230)\" rx=\"2\" ry=\"2\" data-shortinfo=\"sequence in record.jl:213\" data-info=\"sequence in /home/pawel/.julia/v0.6/BioSequences/src/fastq/record.jl:213\"/>\n",
       "<text text-anchor=\"\" x=\"383.31297709923666\" y=\"116.5\" font-size=\"12\" font-family=\"Verdana\" fill=\"rgb(0,0,0)\" ></text>\n",
       "<rect vector-effect=\"non-scaling-stroke\" x=\"637.5318066157761\" y=\"105.0\" width=\"9.007633587786245\" height=\"15.0\" fill=\"rgb(232,112,221)\" rx=\"2\" ry=\"2\" data-shortinfo=\"decode in alphabet.jl:158; inbounds_getindex in indexing.jl:61; next in sequence.jl:53; Type in composition.jl:15\" data-info=\"decode in /home/pawel/.julia/v0.6/BioSequences/src/alphabet.jl:158; inbounds_getindex in /home/pawel/.julia/v0.6/BioSequences/src/bioseq/indexing.jl:61; next in /home/pawel/.julia/v0.6/BioSequences/src/sequence.jl:53; Type in /home/pawel/.julia/v0.6/BioSequences/src/composition.jl:15\"/>\n",
       "<text text-anchor=\"\" x=\"641.5318066157761\" y=\"116.5\" font-size=\"12\" font-family=\"Verdana\" fill=\"rgb(0,0,0)\" ></text>\n",
       "<rect vector-effect=\"non-scaling-stroke\" x=\"646.5394402035623\" y=\"105.0\" width=\"3.0025445292620816\" height=\"15.0\" fill=\"rgb(50,180,78)\" rx=\"2\" ry=\"2\" data-shortinfo=\"inbounds_getindex in indexing.jl:60; next in sequence.jl:53; Type in composition.jl:15\" data-info=\"inbounds_getindex in /home/pawel/.julia/v0.6/BioSequences/src/bioseq/indexing.jl:60; next in /home/pawel/.julia/v0.6/BioSequences/src/sequence.jl:53; Type in /home/pawel/.julia/v0.6/BioSequences/src/composition.jl:15\"/>\n",
       "<text text-anchor=\"\" x=\"650.5394402035623\" y=\"116.5\" font-size=\"12\" font-family=\"Verdana\" fill=\"rgb(0,0,0)\" ></text>\n",
       "<rect vector-effect=\"non-scaling-stroke\" x=\"649.5419847328244\" y=\"105.0\" width=\"3.0025445292620816\" height=\"15.0\" fill=\"rgb(26,162,255)\" rx=\"2\" ry=\"2\" data-shortinfo=\"inbounds_getindex in indexing.jl:61; next in sequence.jl:53; Type in composition.jl:15\" data-info=\"inbounds_getindex in /home/pawel/.julia/v0.6/BioSequences/src/bioseq/indexing.jl:61; next in /home/pawel/.julia/v0.6/BioSequences/src/sequence.jl:53; Type in /home/pawel/.julia/v0.6/BioSequences/src/composition.jl:15\"/>\n",
       "<text text-anchor=\"\" x=\"653.5419847328244\" y=\"116.5\" font-size=\"12\" font-family=\"Verdana\" fill=\"rgb(0,0,0)\" ></text>\n",
       "<rect vector-effect=\"non-scaling-stroke\" x=\"652.5445292620865\" y=\"105.0\" width=\"12.010178117048326\" height=\"15.0\" fill=\"rgb(26,162,255)\" rx=\"2\" ry=\"2\" data-shortinfo=\"inbounds_getindex in indexing.jl:61; next in sequence.jl:53; Type in composition.jl:15\" data-info=\"inbounds_getindex in /home/pawel/.julia/v0.6/BioSequences/src/bioseq/indexing.jl:61; next in /home/pawel/.julia/v0.6/BioSequences/src/sequence.jl:53; Type in /home/pawel/.julia/v0.6/BioSequences/src/composition.jl:15\"/>\n",
       "<text text-anchor=\"\" x=\"656.5445292620865\" y=\"116.5\" font-size=\"12\" font-family=\"Verdana\" fill=\"rgb(0,0,0)\" ></text>\n",
       "<rect vector-effect=\"non-scaling-stroke\" x=\"664.5547073791348\" y=\"105.0\" width=\"3.0025445292620816\" height=\"15.0\" fill=\"rgb(26,162,255)\" rx=\"2\" ry=\"2\" data-shortinfo=\"inbounds_getindex in indexing.jl:61; next in sequence.jl:53; Type in composition.jl:15\" data-info=\"inbounds_getindex in /home/pawel/.julia/v0.6/BioSequences/src/bioseq/indexing.jl:61; next in /home/pawel/.julia/v0.6/BioSequences/src/sequence.jl:53; Type in /home/pawel/.julia/v0.6/BioSequences/src/composition.jl:15\"/>\n",
       "<text text-anchor=\"\" x=\"668.5547073791348\" y=\"116.5\" font-size=\"12\" font-family=\"Verdana\" fill=\"rgb(0,0,0)\" ></text>\n",
       "<rect vector-effect=\"non-scaling-stroke\" x=\"667.5572519083969\" y=\"105.0\" width=\"9.007633587786358\" height=\"15.0\" fill=\"rgb(210,165,23)\" rx=\"2\" ry=\"2\" data-shortinfo=\"Type in composition.jl:0\" data-info=\"Type in /home/pawel/.julia/v0.6/BioSequences/src/composition.jl:0\"/>\n",
       "<text text-anchor=\"\" x=\"671.5572519083969\" y=\"116.5\" font-size=\"12\" font-family=\"Verdana\" fill=\"rgb(0,0,0)\" ></text>\n",
       "<rect vector-effect=\"non-scaling-stroke\" x=\"676.5648854961833\" y=\"105.0\" width=\"39.03307888040706\" height=\"15.0\" fill=\"rgb(0,222,230)\" rx=\"2\" ry=\"2\" data-shortinfo=\"Type in composition.jl:14\" data-info=\"Type in /home/pawel/.julia/v0.6/BioSequences/src/composition.jl:14\"/>\n",
       "<text text-anchor=\"\" x=\"680.5648854961833\" y=\"116.5\" font-size=\"12\" font-family=\"Verdana\" fill=\"rgb(0,0,0)\" ></text>\n",
       "<rect vector-effect=\"non-scaling-stroke\" x=\"715.5979643765903\" y=\"105.0\" width=\"3.0025445292620816\" height=\"15.0\" fill=\"rgb(232,112,221)\" rx=\"2\" ry=\"2\" data-shortinfo=\"Type in composition.jl:16\" data-info=\"Type in /home/pawel/.julia/v0.6/BioSequences/src/composition.jl:16\"/>\n",
       "<text text-anchor=\"\" x=\"719.5979643765903\" y=\"116.5\" font-size=\"12\" font-family=\"Verdana\" fill=\"rgb(0,0,0)\" ></text>\n",
       "<rect vector-effect=\"non-scaling-stroke\" x=\"718.6005089058524\" y=\"105.0\" width=\"6.005089058524163\" height=\"15.0\" fill=\"rgb(232,112,221)\" rx=\"2\" ry=\"2\" data-shortinfo=\"Type in composition.jl:16\" data-info=\"Type in /home/pawel/.julia/v0.6/BioSequences/src/composition.jl:16\"/>\n",
       "<text text-anchor=\"\" x=\"722.6005089058524\" y=\"116.5\" font-size=\"12\" font-family=\"Verdana\" fill=\"rgb(0,0,0)\" ></text>\n",
       "<rect vector-effect=\"non-scaling-stroke\" x=\"724.6055979643766\" y=\"105.0\" width=\"6.005089058524163\" height=\"15.0\" fill=\"rgb(232,112,221)\" rx=\"2\" ry=\"2\" data-shortinfo=\"Type in composition.jl:16\" data-info=\"Type in /home/pawel/.julia/v0.6/BioSequences/src/composition.jl:16\"/>\n",
       "<text text-anchor=\"\" x=\"728.6055979643766\" y=\"116.5\" font-size=\"12\" font-family=\"Verdana\" fill=\"rgb(0,0,0)\" ></text>\n",
       "<rect vector-effect=\"non-scaling-stroke\" x=\"730.6106870229007\" y=\"105.0\" width=\"18.015267175572603\" height=\"15.0\" fill=\"rgb(232,112,221)\" rx=\"2\" ry=\"2\" data-shortinfo=\"Type in composition.jl:16\" data-info=\"Type in /home/pawel/.julia/v0.6/BioSequences/src/composition.jl:16\"/>\n",
       "<text text-anchor=\"\" x=\"734.6106870229007\" y=\"116.5\" font-size=\"12\" font-family=\"Verdana\" fill=\"rgb(0,0,0)\" ></text>\n",
       "<rect vector-effect=\"non-scaling-stroke\" x=\"748.6259541984733\" y=\"105.0\" width=\"3.0025445292620816\" height=\"15.0\" fill=\"rgb(232,112,221)\" rx=\"2\" ry=\"2\" data-shortinfo=\"Type in composition.jl:16\" data-info=\"Type in /home/pawel/.julia/v0.6/BioSequences/src/composition.jl:16\"/>\n",
       "<text text-anchor=\"\" x=\"752.6259541984733\" y=\"116.5\" font-size=\"12\" font-family=\"Verdana\" fill=\"rgb(0,0,0)\" ></text>\n",
       "<rect vector-effect=\"non-scaling-stroke\" x=\"751.6284987277354\" y=\"105.0\" width=\"9.007633587786245\" height=\"15.0\" fill=\"rgb(50,180,78)\" rx=\"2\" ry=\"2\" data-shortinfo=\"Type in composition.jl:18\" data-info=\"Type in /home/pawel/.julia/v0.6/BioSequences/src/composition.jl:18\"/>\n",
       "<text text-anchor=\"\" x=\"755.6284987277354\" y=\"116.5\" font-size=\"12\" font-family=\"Verdana\" fill=\"rgb(0,0,0)\" ></text>\n",
       "<rect vector-effect=\"non-scaling-stroke\" x=\"760.6361323155216\" y=\"105.0\" width=\"42.03562340966914\" height=\"15.0\" fill=\"rgb(26,162,255)\" rx=\"2\" ry=\"2\" data-shortinfo=\"done in sequence.jl:49; Type in composition.jl:15\" data-info=\"done in /home/pawel/.julia/v0.6/BioSequences/src/sequence.jl:49; Type in /home/pawel/.julia/v0.6/BioSequences/src/composition.jl:15\"/>\n",
       "<text text-anchor=\"\" x=\"764.6361323155216\" y=\"116.5\" font-size=\"12\" font-family=\"Verdana\" fill=\"rgb(0,0,0)\" ></text>\n",
       "<rect vector-effect=\"non-scaling-stroke\" x=\"802.6717557251908\" y=\"105.0\" width=\"3.0025445292620816\" height=\"15.0\" fill=\"rgb(26,162,255)\" rx=\"2\" ry=\"2\" data-shortinfo=\"done in sequence.jl:49; Type in composition.jl:15\" data-info=\"done in /home/pawel/.julia/v0.6/BioSequences/src/sequence.jl:49; Type in /home/pawel/.julia/v0.6/BioSequences/src/composition.jl:15\"/>\n",
       "<text text-anchor=\"\" x=\"806.6717557251908\" y=\"116.5\" font-size=\"12\" font-family=\"Verdana\" fill=\"rgb(0,0,0)\" ></text>\n",
       "<rect vector-effect=\"non-scaling-stroke\" x=\"805.6743002544529\" y=\"105.0\" width=\"3.0025445292620816\" height=\"15.0\" fill=\"rgb(210,165,23)\" rx=\"2\" ry=\"2\" data-shortinfo=\"jl_gc_collect in libjulia.so.0.6:-1\" data-info=\"jl_gc_collect in /usr/bin/../lib/libjulia.so.0.6:-1\"/>\n",
       "<text text-anchor=\"\" x=\"809.6743002544529\" y=\"116.5\" font-size=\"12\" font-family=\"Verdana\" fill=\"rgb(0,0,0)\" ></text>\n",
       "<rect vector-effect=\"non-scaling-stroke\" x=\"808.676844783715\" y=\"105.0\" width=\"6.005089058524277\" height=\"15.0\" fill=\"rgb(0,222,230)\" rx=\"2\" ry=\"2\" data-shortinfo=\" in :-1\" data-info=\" in :-1\"/>\n",
       "<text text-anchor=\"\" x=\"812.676844783715\" y=\"116.5\" font-size=\"12\" font-family=\"Verdana\" fill=\"rgb(0,0,0)\" ></text>\n",
       "<rect vector-effect=\"non-scaling-stroke\" x=\"814.6819338422392\" y=\"105.0\" width=\"3.0025445292620816\" height=\"15.0\" fill=\"rgb(232,112,221)\" rx=\"2\" ry=\"2\" data-shortinfo=\"demultiplex in demultiplexer.jl:0\" data-info=\"demultiplex in /home/pawel/.julia/v0.6/BioSequences/src/demultiplexer.jl:0\"/>\n",
       "<text text-anchor=\"\" x=\"818.6819338422392\" y=\"116.5\" font-size=\"12\" font-family=\"Verdana\" fill=\"rgb(0,0,0)\" ></text>\n",
       "<rect vector-effect=\"non-scaling-stroke\" x=\"817.6844783715013\" y=\"105.0\" width=\"12.010178117048326\" height=\"15.0\" fill=\"rgb(50,180,78)\" rx=\"2\" ry=\"2\" data-shortinfo=\"demultiplex in demultiplexer.jl:190\" data-info=\"demultiplex in /home/pawel/.julia/v0.6/BioSequences/src/demultiplexer.jl:190\"/>\n",
       "<text text-anchor=\"\" x=\"821.6844783715013\" y=\"116.5\" font-size=\"12\" font-family=\"Verdana\" fill=\"rgb(0,0,0)\" ></text>\n",
       "<rect vector-effect=\"non-scaling-stroke\" x=\"829.6946564885496\" y=\"105.0\" width=\"3.0025445292620816\" height=\"15.0\" fill=\"rgb(26,162,255)\" rx=\"2\" ry=\"2\" data-shortinfo=\"demultiplex in demultiplexer.jl:192\" data-info=\"demultiplex in /home/pawel/.julia/v0.6/BioSequences/src/demultiplexer.jl:192\"/>\n",
       "<text text-anchor=\"\" x=\"833.6946564885496\" y=\"116.5\" font-size=\"12\" font-family=\"Verdana\" fill=\"rgb(0,0,0)\" ></text>\n",
       "<rect vector-effect=\"non-scaling-stroke\" x=\"832.6972010178117\" y=\"105.0\" width=\"3.0025445292620816\" height=\"15.0\" fill=\"rgb(210,165,23)\" rx=\"2\" ry=\"2\" data-shortinfo=\"Type in constructors.jl:0\" data-info=\"Type in /home/pawel/.julia/v0.6/BioSequences/src/bioseq/constructors.jl:0\"/>\n",
       "<text text-anchor=\"\" x=\"836.6972010178117\" y=\"116.5\" font-size=\"12\" font-family=\"Verdana\" fill=\"rgb(0,0,0)\" ></text>\n",
       "<rect vector-effect=\"non-scaling-stroke\" x=\"835.6997455470738\" y=\"105.0\" width=\"3.0025445292620816\" height=\"15.0\" fill=\"rgb(0,222,230)\" rx=\"2\" ry=\"2\" data-shortinfo=\"Type in constructors.jl:33\" data-info=\"Type in /home/pawel/.julia/v0.6/BioSequences/src/bioseq/constructors.jl:33\"/>\n",
       "<text text-anchor=\"\" x=\"839.6997455470738\" y=\"116.5\" font-size=\"12\" font-family=\"Verdana\" fill=\"rgb(0,0,0)\" ></text>\n",
       "<rect vector-effect=\"non-scaling-stroke\" x=\"841.704834605598\" y=\"105.0\" width=\"3.0025445292620816\" height=\"15.0\" fill=\"rgb(232,112,221)\" rx=\"2\" ry=\"2\" data-shortinfo=\"push! in array.jl:618; push! in datavector.jl:12\" data-info=\"push! in ./array.jl:618; push! in /home/pawel/.julia/v0.6/DataArrays/src/datavector.jl:12\"/>\n",
       "<text text-anchor=\"\" x=\"845.704834605598\" y=\"116.5\" font-size=\"12\" font-family=\"Verdana\" fill=\"rgb(0,0,0)\" ></text>\n",
       "<rect vector-effect=\"non-scaling-stroke\" x=\"844.70737913486\" y=\"105.0\" width=\"3.0025445292620816\" height=\"15.0\" fill=\"rgb(50,180,78)\" rx=\"2\" ry=\"2\" data-shortinfo=\"push! in datavector.jl:0\" data-info=\"push! in /home/pawel/.julia/v0.6/DataArrays/src/datavector.jl:0\"/>\n",
       "<text text-anchor=\"\" x=\"848.70737913486\" y=\"116.5\" font-size=\"12\" font-family=\"Verdana\" fill=\"rgb(0,0,0)\" ></text>\n",
       "<rect vector-effect=\"non-scaling-stroke\" x=\"865.7251908396946\" y=\"105.0\" width=\"3.0025445292620816\" height=\"15.0\" fill=\"rgb(26,162,255)\" rx=\"2\" ry=\"2\" data-shortinfo=\"#longeststreak#42 in In[229]:0\" data-info=\"#longeststreak#42 in ./In[229]:0\"/>\n",
       "<text text-anchor=\"\" x=\"869.7251908396946\" y=\"116.5\" font-size=\"12\" font-family=\"Verdana\" fill=\"rgb(0,0,0)\" ></text>\n",
       "<rect vector-effect=\"non-scaling-stroke\" x=\"868.7277353689567\" y=\"105.0\" width=\"3.0025445292620816\" height=\"15.0\" fill=\"rgb(26,162,255)\" rx=\"2\" ry=\"2\" data-shortinfo=\"#longeststreak#42 in In[229]:0\" data-info=\"#longeststreak#42 in ./In[229]:0\"/>\n",
       "<text text-anchor=\"\" x=\"872.7277353689567\" y=\"116.5\" font-size=\"12\" font-family=\"Verdana\" fill=\"rgb(0,0,0)\" ></text>\n",
       "<rect vector-effect=\"non-scaling-stroke\" x=\"871.7302798982188\" y=\"105.0\" width=\"3.0025445292620816\" height=\"15.0\" fill=\"rgb(26,162,255)\" rx=\"2\" ry=\"2\" data-shortinfo=\"#longeststreak#42 in In[229]:0\" data-info=\"#longeststreak#42 in ./In[229]:0\"/>\n",
       "<text text-anchor=\"\" x=\"875.7302798982188\" y=\"116.5\" font-size=\"12\" font-family=\"Verdana\" fill=\"rgb(0,0,0)\" ></text>\n",
       "<rect vector-effect=\"non-scaling-stroke\" x=\"874.7328244274809\" y=\"105.0\" width=\"6.005089058524163\" height=\"15.0\" fill=\"rgb(26,162,255)\" rx=\"2\" ry=\"2\" data-shortinfo=\"#longeststreak#42 in In[229]:0\" data-info=\"#longeststreak#42 in ./In[229]:0\"/>\n",
       "<text text-anchor=\"\" x=\"878.7328244274809\" y=\"116.5\" font-size=\"12\" font-family=\"Verdana\" fill=\"rgb(0,0,0)\" ></text>\n",
       "<rect vector-effect=\"non-scaling-stroke\" x=\"880.737913486005\" y=\"105.0\" width=\"6.005089058524277\" height=\"15.0\" fill=\"rgb(210,165,23)\" rx=\"2\" ry=\"2\" data-shortinfo=\"#longeststreak#42 in In[229]:57\" data-info=\"#longeststreak#42 in ./In[229]:57\"/>\n",
       "<text text-anchor=\"\" x=\"884.737913486005\" y=\"116.5\" font-size=\"12\" font-family=\"Verdana\" fill=\"rgb(0,0,0)\" ></text>\n",
       "<rect vector-effect=\"non-scaling-stroke\" x=\"886.7430025445293\" y=\"105.0\" width=\"24.020356234096653\" height=\"15.0\" fill=\"rgb(210,165,23)\" rx=\"2\" ry=\"2\" data-shortinfo=\"#longeststreak#42 in In[229]:57\" data-info=\"#longeststreak#42 in ./In[229]:57\"/>\n",
       "<text text-anchor=\"\" x=\"890.7430025445293\" y=\"116.5\" font-size=\"12\" font-family=\"Verdana\" fill=\"rgb(0,0,0)\" ></text>\n",
       "<rect vector-effect=\"non-scaling-stroke\" x=\"910.763358778626\" y=\"105.0\" width=\"6.005089058524163\" height=\"15.0\" fill=\"rgb(210,165,23)\" rx=\"2\" ry=\"2\" data-shortinfo=\"#longeststreak#42 in In[229]:57\" data-info=\"#longeststreak#42 in ./In[229]:57\"/>\n",
       "<text text-anchor=\"\" x=\"914.763358778626\" y=\"116.5\" font-size=\"12\" font-family=\"Verdana\" fill=\"rgb(0,0,0)\" ></text>\n",
       "<rect vector-effect=\"non-scaling-stroke\" x=\"916.7684478371501\" y=\"105.0\" width=\"3.0025445292620816\" height=\"15.0\" fill=\"rgb(0,222,230)\" rx=\"2\" ry=\"2\" data-shortinfo=\"#longeststreak#42 in In[229]:58\" data-info=\"#longeststreak#42 in ./In[229]:58\"/>\n",
       "<text text-anchor=\"\" x=\"920.7684478371501\" y=\"116.5\" font-size=\"12\" font-family=\"Verdana\" fill=\"rgb(0,0,0)\" ></text>\n",
       "<rect vector-effect=\"non-scaling-stroke\" x=\"919.7709923664122\" y=\"105.0\" width=\"3.0025445292620816\" height=\"15.0\" fill=\"rgb(0,222,230)\" rx=\"2\" ry=\"2\" data-shortinfo=\"#longeststreak#42 in In[229]:58\" data-info=\"#longeststreak#42 in ./In[229]:58\"/>\n",
       "<text text-anchor=\"\" x=\"923.7709923664122\" y=\"116.5\" font-size=\"12\" font-family=\"Verdana\" fill=\"rgb(0,0,0)\" ></text>\n",
       "<rect vector-effect=\"non-scaling-stroke\" x=\"922.7735368956743\" y=\"105.0\" width=\"3.0025445292620816\" height=\"15.0\" fill=\"rgb(232,112,221)\" rx=\"2\" ry=\"2\" data-shortinfo=\"#longeststreak#42 in In[229]:59\" data-info=\"#longeststreak#42 in ./In[229]:59\"/>\n",
       "<text text-anchor=\"\" x=\"926.7735368956743\" y=\"116.5\" font-size=\"12\" font-family=\"Verdana\" fill=\"rgb(0,0,0)\" ></text>\n",
       "<rect vector-effect=\"non-scaling-stroke\" x=\"925.7760814249364\" y=\"105.0\" width=\"15.012722646310408\" height=\"15.0\" fill=\"rgb(232,112,221)\" rx=\"2\" ry=\"2\" data-shortinfo=\"#longeststreak#42 in In[229]:59\" data-info=\"#longeststreak#42 in ./In[229]:59\"/>\n",
       "<text text-anchor=\"\" x=\"929.7760814249364\" y=\"116.5\" font-size=\"12\" font-family=\"Verdana\" fill=\"rgb(0,0,0)\" ></text>\n",
       "<rect vector-effect=\"non-scaling-stroke\" x=\"940.7888040712468\" y=\"105.0\" width=\"6.005089058524163\" height=\"15.0\" fill=\"rgb(232,112,221)\" rx=\"2\" ry=\"2\" data-shortinfo=\"#longeststreak#42 in In[229]:59\" data-info=\"#longeststreak#42 in ./In[229]:59\"/>\n",
       "<text text-anchor=\"\" x=\"944.7888040712468\" y=\"116.5\" font-size=\"12\" font-family=\"Verdana\" fill=\"rgb(0,0,0)\" ></text>\n",
       "<rect vector-effect=\"non-scaling-stroke\" x=\"946.7938931297709\" y=\"105.0\" width=\"3.0025445292620816\" height=\"15.0\" fill=\"rgb(232,112,221)\" rx=\"2\" ry=\"2\" data-shortinfo=\"#longeststreak#42 in In[229]:59\" data-info=\"#longeststreak#42 in ./In[229]:59\"/>\n",
       "<text text-anchor=\"\" x=\"950.7938931297709\" y=\"116.5\" font-size=\"12\" font-family=\"Verdana\" fill=\"rgb(0,0,0)\" ></text>\n",
       "<rect vector-effect=\"non-scaling-stroke\" x=\"949.796437659033\" y=\"105.0\" width=\"6.005089058524277\" height=\"15.0\" fill=\"rgb(50,180,78)\" rx=\"2\" ry=\"2\" data-shortinfo=\"#longeststreak#42 in In[229]:64\" data-info=\"#longeststreak#42 in ./In[229]:64\"/>\n",
       "<text text-anchor=\"\" x=\"953.796437659033\" y=\"116.5\" font-size=\"12\" font-family=\"Verdana\" fill=\"rgb(0,0,0)\" ></text>\n",
       "<rect vector-effect=\"non-scaling-stroke\" x=\"955.8015267175573\" y=\"105.0\" width=\"3.0025445292620816\" height=\"15.0\" fill=\"rgb(50,180,78)\" rx=\"2\" ry=\"2\" data-shortinfo=\"#longeststreak#42 in In[229]:64\" data-info=\"#longeststreak#42 in ./In[229]:64\"/>\n",
       "<text text-anchor=\"\" x=\"959.8015267175573\" y=\"116.5\" font-size=\"12\" font-family=\"Verdana\" fill=\"rgb(0,0,0)\" ></text>\n",
       "<rect vector-effect=\"non-scaling-stroke\" x=\"958.8040712468194\" y=\"105.0\" width=\"21.01781170483457\" height=\"15.0\" fill=\"rgb(26,162,255)\" rx=\"2\" ry=\"2\" data-shortinfo=\"decode in alphabet.jl:158; inbounds_getindex in indexing.jl:61; next in sequence.jl:53; #longeststreak#42 in In[229]:56\" data-info=\"decode in /home/pawel/.julia/v0.6/BioSequences/src/alphabet.jl:158; inbounds_getindex in /home/pawel/.julia/v0.6/BioSequences/src/bioseq/indexing.jl:61; next in /home/pawel/.julia/v0.6/BioSequences/src/sequence.jl:53; #longeststreak#42 in ./In[229]:56\"/>\n",
       "<text text-anchor=\"\" x=\"962.8040712468194\" y=\"116.5\" font-size=\"12\" font-family=\"Verdana\" fill=\"rgb(0,0,0)\" ></text>\n",
       "<rect vector-effect=\"non-scaling-stroke\" x=\"979.821882951654\" y=\"105.0\" width=\"3.0025445292620816\" height=\"15.0\" fill=\"rgb(210,165,23)\" rx=\"2\" ry=\"2\" data-shortinfo=\"inbounds_getindex in indexing.jl:60; next in sequence.jl:53; #longeststreak#42 in In[229]:56\" data-info=\"inbounds_getindex in /home/pawel/.julia/v0.6/BioSequences/src/bioseq/indexing.jl:60; next in /home/pawel/.julia/v0.6/BioSequences/src/sequence.jl:53; #longeststreak#42 in ./In[229]:56\"/>\n",
       "<text text-anchor=\"\" x=\"983.821882951654\" y=\"116.5\" font-size=\"12\" font-family=\"Verdana\" fill=\"rgb(0,0,0)\" ></text>\n",
       "<rect vector-effect=\"non-scaling-stroke\" x=\"982.824427480916\" y=\"105.0\" width=\"9.007633587786245\" height=\"15.0\" fill=\"rgb(0,222,230)\" rx=\"2\" ry=\"2\" data-shortinfo=\"inbounds_getindex in indexing.jl:61; next in sequence.jl:53; #longeststreak#42 in In[229]:56\" data-info=\"inbounds_getindex in /home/pawel/.julia/v0.6/BioSequences/src/bioseq/indexing.jl:61; next in /home/pawel/.julia/v0.6/BioSequences/src/sequence.jl:53; #longeststreak#42 in ./In[229]:56\"/>\n",
       "<text text-anchor=\"\" x=\"986.824427480916\" y=\"116.5\" font-size=\"12\" font-family=\"Verdana\" fill=\"rgb(0,0,0)\" ></text>\n",
       "<rect vector-effect=\"non-scaling-stroke\" x=\"991.8320610687023\" y=\"105.0\" width=\"6.005089058524163\" height=\"15.0\" fill=\"rgb(0,222,230)\" rx=\"2\" ry=\"2\" data-shortinfo=\"inbounds_getindex in indexing.jl:61; next in sequence.jl:53; #longeststreak#42 in In[229]:56\" data-info=\"inbounds_getindex in /home/pawel/.julia/v0.6/BioSequences/src/bioseq/indexing.jl:61; next in /home/pawel/.julia/v0.6/BioSequences/src/sequence.jl:53; #longeststreak#42 in ./In[229]:56\"/>\n",
       "<text text-anchor=\"\" x=\"995.8320610687023\" y=\"116.5\" font-size=\"12\" font-family=\"Verdana\" fill=\"rgb(0,0,0)\" ></text>\n",
       "<rect vector-effect=\"non-scaling-stroke\" x=\"997.8371501272264\" y=\"105.0\" width=\"21.01781170483457\" height=\"15.0\" fill=\"rgb(0,222,230)\" rx=\"2\" ry=\"2\" data-shortinfo=\"inbounds_getindex in indexing.jl:61; next in sequence.jl:53; #longeststreak#42 in In[229]:56\" data-info=\"inbounds_getindex in /home/pawel/.julia/v0.6/BioSequences/src/bioseq/indexing.jl:61; next in /home/pawel/.julia/v0.6/BioSequences/src/sequence.jl:53; #longeststreak#42 in ./In[229]:56\"/>\n",
       "<text text-anchor=\"\" x=\"1001.8371501272264\" y=\"116.5\" font-size=\"12\" font-family=\"Verdana\" fill=\"rgb(0,0,0)\" ></text>\n",
       "<rect vector-effect=\"non-scaling-stroke\" x=\"1018.854961832061\" y=\"105.0\" width=\"54.045801526717696\" height=\"15.0\" fill=\"rgb(232,112,221)\" rx=\"2\" ry=\"2\" data-shortinfo=\"done in sequence.jl:49; #longeststreak#42 in In[229]:56\" data-info=\"done in /home/pawel/.julia/v0.6/BioSequences/src/sequence.jl:49; #longeststreak#42 in ./In[229]:56\"/>\n",
       "<text text-anchor=\"\" x=\"1022.854961832061\" y=\"116.5\" font-size=\"12\" font-family=\"Verdana\" fill=\"rgb(0,0,0)\" ></text>\n",
       "<rect vector-effect=\"non-scaling-stroke\" x=\"1072.9007633587787\" y=\"105.0\" width=\"15.012722646310294\" height=\"15.0\" fill=\"rgb(50,180,78)\" rx=\"2\" ry=\"2\" data-shortinfo=\" in :-1\" data-info=\" in :-1\"/>\n",
       "<text text-anchor=\"\" x=\"1076.9007633587787\" y=\"116.5\" font-size=\"12\" font-family=\"Verdana\" fill=\"rgb(0,0,0)\" ></text>\n",
       "<rect vector-effect=\"non-scaling-stroke\" x=\"1087.913486005089\" y=\"105.0\" width=\"6.005089058524163\" height=\"15.0\" fill=\"rgb(26,162,255)\" rx=\"2\" ry=\"2\" data-shortinfo=\"push! in array.jl:618; push! in datavector.jl:12\" data-info=\"push! in ./array.jl:618; push! in /home/pawel/.julia/v0.6/DataArrays/src/datavector.jl:12\"/>\n",
       "<text text-anchor=\"\" x=\"1091.913486005089\" y=\"116.5\" font-size=\"12\" font-family=\"Verdana\" fill=\"rgb(0,0,0)\" ></text>\n",
       "<rect vector-effect=\"non-scaling-stroke\" x=\"1093.9185750636132\" y=\"105.0\" width=\"3.0025445292621953\" height=\"15.0\" fill=\"rgb(210,165,23)\" rx=\"2\" ry=\"2\" data-shortinfo=\"push! in datavector.jl:0\" data-info=\"push! in /home/pawel/.julia/v0.6/DataArrays/src/datavector.jl:0\"/>\n",
       "<text text-anchor=\"\" x=\"1097.9185750636132\" y=\"116.5\" font-size=\"12\" font-family=\"Verdana\" fill=\"rgb(0,0,0)\" ></text>\n",
       "<rect vector-effect=\"non-scaling-stroke\" x=\"1096.9211195928754\" y=\"105.0\" width=\"3.002544529261968\" height=\"15.0\" fill=\"rgb(0,222,230)\" rx=\"2\" ry=\"2\" data-shortinfo=\"push! in datavector.jl:14\" data-info=\"push! in /home/pawel/.julia/v0.6/DataArrays/src/datavector.jl:14\"/>\n",
       "<text text-anchor=\"\" x=\"1100.9211195928754\" y=\"116.5\" font-size=\"12\" font-family=\"Verdana\" fill=\"rgb(0,0,0)\" ></text>\n",
       "<rect vector-effect=\"non-scaling-stroke\" x=\"1120.941475826972\" y=\"105.0\" width=\"3.002544529261968\" height=\"15.0\" fill=\"rgb(232,112,221)\" rx=\"2\" ry=\"2\" data-shortinfo=\"push! in array.jl:618; push! in datavector.jl:12\" data-info=\"push! in ./array.jl:618; push! in /home/pawel/.julia/v0.6/DataArrays/src/datavector.jl:12\"/>\n",
       "<text text-anchor=\"\" x=\"1124.941475826972\" y=\"116.5\" font-size=\"12\" font-family=\"Verdana\" fill=\"rgb(0,0,0)\" ></text>\n",
       "<rect vector-effect=\"non-scaling-stroke\" x=\"1123.944020356234\" y=\"105.0\" width=\"3.0025445292621953\" height=\"15.0\" fill=\"rgb(232,112,221)\" rx=\"2\" ry=\"2\" data-shortinfo=\"push! in array.jl:618; push! in datavector.jl:12\" data-info=\"push! in ./array.jl:618; push! in /home/pawel/.julia/v0.6/DataArrays/src/datavector.jl:12\"/>\n",
       "<text text-anchor=\"\" x=\"1127.944020356234\" y=\"116.5\" font-size=\"12\" font-family=\"Verdana\" fill=\"rgb(0,0,0)\" ></text>\n",
       "<rect vector-effect=\"non-scaling-stroke\" x=\"1126.9465648854962\" y=\"105.0\" width=\"3.0025445292621953\" height=\"15.0\" fill=\"rgb(50,180,78)\" rx=\"2\" ry=\"2\" data-shortinfo=\"push! in datavector.jl:13\" data-info=\"push! in /home/pawel/.julia/v0.6/DataArrays/src/datavector.jl:13\"/>\n",
       "<text text-anchor=\"\" x=\"1130.9465648854962\" y=\"116.5\" font-size=\"12\" font-family=\"Verdana\" fill=\"rgb(0,0,0)\" ></text>\n",
       "<rect vector-effect=\"non-scaling-stroke\" x=\"1150.9669211195928\" y=\"105.0\" width=\"15.012722646310522\" height=\"15.0\" fill=\"rgb(26,162,255)\" rx=\"2\" ry=\"2\" data-shortinfo=\"getindex in dict.jl:473; getindex in index.jl:115\" data-info=\"getindex in ./dict.jl:473; getindex in /home/pawel/.julia/v0.6/DataFrames/src/other/index.jl:115\"/>\n",
       "<text text-anchor=\"\" x=\"1154.9669211195928\" y=\"116.5\" font-size=\"12\" font-family=\"Verdana\" fill=\"rgb(0,0,0)\" ></text>\n",
       "<rect vector-effect=\"non-scaling-stroke\" x=\"1168.9821882951653\" y=\"105.0\" width=\"6.005089058524163\" height=\"15.0\" fill=\"rgb(210,165,23)\" rx=\"2\" ry=\"2\" data-shortinfo=\"getindex in dict.jl:473; getindex in index.jl:115\" data-info=\"getindex in ./dict.jl:473; getindex in /home/pawel/.julia/v0.6/DataFrames/src/other/index.jl:115\"/>\n",
       "<text text-anchor=\"\" x=\"1172.9821882951653\" y=\"116.5\" font-size=\"12\" font-family=\"Verdana\" fill=\"rgb(0,0,0)\" ></text>\n",
       "<rect vector-effect=\"non-scaling-stroke\" x=\"1174.9872773536895\" y=\"105.0\" width=\"3.0025445292621953\" height=\"15.0\" fill=\"rgb(0,222,230)\" rx=\"2\" ry=\"2\" data-shortinfo=\"getindex in index.jl:115\" data-info=\"getindex in /home/pawel/.julia/v0.6/DataFrames/src/other/index.jl:115\"/>\n",
       "<text text-anchor=\"\" x=\"1178.9872773536895\" y=\"116.5\" font-size=\"12\" font-family=\"Verdana\" fill=\"rgb(0,0,0)\" ></text>\n",
       "<rect vector-effect=\"non-scaling-stroke\" x=\"1177.9898218829517\" y=\"105.0\" width=\"9.007633587786131\" height=\"15.0\" fill=\"rgb(232,112,221)\" rx=\"2\" ry=\"2\" data-shortinfo=\"getindex in dict.jl:473; getindex in index.jl:115\" data-info=\"getindex in ./dict.jl:473; getindex in /home/pawel/.julia/v0.6/DataFrames/src/other/index.jl:115\"/>\n",
       "<text text-anchor=\"\" x=\"1181.9898218829517\" y=\"116.5\" font-size=\"12\" font-family=\"Verdana\" fill=\"rgb(0,0,0)\" ></text>\n",
       "<rect vector-effect=\"non-scaling-stroke\" x=\"10.0\" y=\"90.0\" width=\"6.005089058524174\" height=\"15.0\" fill=\"rgb(255,164,156)\" rx=\"2\" ry=\"2\" data-shortinfo=\"#Demultiplexer#13 in demultiplexer.jl:158\" data-info=\"#Demultiplexer#13 in /home/pawel/.julia/v0.6/BioSequences/src/demultiplexer.jl:158\"/>\n",
       "<text text-anchor=\"\" x=\"14.0\" y=\"101.5\" font-size=\"12\" font-family=\"Verdana\" fill=\"rgb(0,0,0)\" ></text>\n",
       "<rect vector-effect=\"non-scaling-stroke\" x=\"16.005089058524174\" y=\"90.0\" width=\"3.002544529262085\" height=\"15.0\" fill=\"rgb(158,158,158)\" rx=\"2\" ry=\"2\" data-shortinfo=\"#Demultiplexer#13 in demultiplexer.jl:167\" data-info=\"#Demultiplexer#13 in /home/pawel/.julia/v0.6/BioSequences/src/demultiplexer.jl:167\"/>\n",
       "<text text-anchor=\"\" x=\"20.005089058524174\" y=\"101.5\" font-size=\"12\" font-family=\"Verdana\" fill=\"rgb(0,0,0)\" ></text>\n",
       "<rect vector-effect=\"non-scaling-stroke\" x=\"19.00763358778626\" y=\"90.0\" width=\"36.030534351145036\" height=\"15.0\" fill=\"rgb(205,185,255)\" rx=\"2\" ry=\"2\" data-shortinfo=\"getindex in array.jl:528; copy in record.jl:89\" data-info=\"getindex in ./array.jl:528; copy in /home/pawel/.julia/v0.6/BioSequences/src/fastq/record.jl:89\"/>\n",
       "<text text-anchor=\"\" x=\"23.00763358778626\" y=\"101.5\" font-size=\"12\" font-family=\"Verdana\" fill=\"rgb(0,0,0)\" ></text>\n",
       "<rect vector-effect=\"non-scaling-stroke\" x=\"55.038167938931295\" y=\"90.0\" width=\"3.0025445292620887\" height=\"15.0\" fill=\"rgb(255,141,62)\" rx=\"2\" ry=\"2\" data-shortinfo=\"copy in record.jl:0\" data-info=\"copy in /home/pawel/.julia/v0.6/BioSequences/src/fastq/record.jl:0\"/>\n",
       "<text text-anchor=\"\" x=\"59.038167938931295\" y=\"101.5\" font-size=\"12\" font-family=\"Verdana\" fill=\"rgb(0,0,0)\" ></text>\n",
       "<rect vector-effect=\"non-scaling-stroke\" x=\"58.040712468193384\" y=\"90.0\" width=\"3.0025445292620887\" height=\"15.0\" fill=\"rgb(180,211,70)\" rx=\"2\" ry=\"2\" data-shortinfo=\"copy in record.jl:89\" data-info=\"copy in /home/pawel/.julia/v0.6/BioSequences/src/fastq/record.jl:89\"/>\n",
       "<text text-anchor=\"\" x=\"62.040712468193384\" y=\"101.5\" font-size=\"12\" font-family=\"Verdana\" fill=\"rgb(0,0,0)\" ></text>\n",
       "<rect vector-effect=\"non-scaling-stroke\" x=\"61.04325699745547\" y=\"90.0\" width=\"6.005089058524163\" height=\"15.0\" fill=\"rgb(180,211,70)\" rx=\"2\" ry=\"2\" data-shortinfo=\"copy in record.jl:89\" data-info=\"copy in /home/pawel/.julia/v0.6/BioSequences/src/fastq/record.jl:89\"/>\n",
       "<text text-anchor=\"\" x=\"65.04325699745547\" y=\"101.5\" font-size=\"12\" font-family=\"Verdana\" fill=\"rgb(0,0,0)\" ></text>\n",
       "<rect vector-effect=\"non-scaling-stroke\" x=\"67.04834605597964\" y=\"90.0\" width=\"6.005089058524177\" height=\"15.0\" fill=\"rgb(255,164,156)\" rx=\"2\" ry=\"2\" data-shortinfo=\"tryread! in Ragel.jl:240\" data-info=\"tryread! in /home/pawel/.julia/v0.6/BioCore/src/Ragel.jl:240\"/>\n",
       "<text text-anchor=\"\" x=\"71.04834605597964\" y=\"101.5\" font-size=\"12\" font-family=\"Verdana\" fill=\"rgb(0,0,0)\" ></text>\n",
       "<rect vector-effect=\"non-scaling-stroke\" x=\"73.05343511450381\" y=\"90.0\" width=\"3.002544529262096\" height=\"15.0\" fill=\"rgb(255,164,156)\" rx=\"2\" ry=\"2\" data-shortinfo=\"tryread! in Ragel.jl:240\" data-info=\"tryread! in /home/pawel/.julia/v0.6/BioCore/src/Ragel.jl:240\"/>\n",
       "<text text-anchor=\"\" x=\"77.05343511450381\" y=\"101.5\" font-size=\"12\" font-family=\"Verdana\" fill=\"rgb(0,0,0)\" ></text>\n",
       "<rect vector-effect=\"non-scaling-stroke\" x=\"76.05597964376591\" y=\"90.0\" width=\"78.06615776081424\" height=\"15.0\" fill=\"rgb(158,158,158)\" rx=\"2\" ry=\"2\" data-shortinfo=\"tryread! in Ragel.jl:242\" data-info=\"tryread! in /home/pawel/.julia/v0.6/BioCore/src/Ragel.jl:242\"/>\n",
       "<text text-anchor=\"\" x=\"80.05597964376591\" y=\"101.5\" font-size=\"12\" font-family=\"Verdana\" fill=\"rgb(0,0,0)\" ></text>\n",
       "<rect vector-effect=\"non-scaling-stroke\" x=\"154.12213740458014\" y=\"90.0\" width=\"3.0025445292620816\" height=\"15.0\" fill=\"rgb(158,158,158)\" rx=\"2\" ry=\"2\" data-shortinfo=\"tryread! in Ragel.jl:242\" data-info=\"tryread! in /home/pawel/.julia/v0.6/BioCore/src/Ragel.jl:242\"/>\n",
       "<text text-anchor=\"\" x=\"158.12213740458014\" y=\"101.5\" font-size=\"12\" font-family=\"Verdana\" fill=\"rgb(0,0,0)\" ></text>\n",
       "<rect vector-effect=\"non-scaling-stroke\" x=\"157.12468193384223\" y=\"90.0\" width=\"180.15267175572518\" height=\"15.0\" fill=\"rgb(255,0,0)\" rx=\"2\" ry=\"2\" data-shortinfo=\"read! in ReaderHelper.jl:134; tryread! in Ragel.jl:241\" data-info=\"read! in /home/pawel/.julia/v0.6/BioCore/src/ReaderHelper.jl:134; tryread! in /home/pawel/.julia/v0.6/BioCore/src/Ragel.jl:241\"/>\n",
       "<text text-anchor=\"\" x=\"161.12468193384223\" y=\"101.5\" font-size=\"12\" font-family=\"Verdana\" fill=\"rgb(0,0,0)\" ></text>\n",
       "<rect vector-effect=\"non-scaling-stroke\" x=\"379.31297709923666\" y=\"90.0\" width=\"3.0025445292620816\" height=\"15.0\" fill=\"rgb(255,0,0)\" rx=\"2\" ry=\"2\" data-shortinfo=\"checkbounds in abstractarray.jl:362; getindex in range.jl:523; sequence in record.jl:194\" data-info=\"checkbounds in ./abstractarray.jl:362; getindex in ./range.jl:523; sequence in /home/pawel/.julia/v0.6/BioSequences/src/fastq/record.jl:194\"/>\n",
       "<text text-anchor=\"\" x=\"383.31297709923666\" y=\"101.5\" font-size=\"12\" font-family=\"Verdana\" fill=\"rgb(0,0,0)\" ></text>\n",
       "<rect vector-effect=\"non-scaling-stroke\" x=\"382.31552162849874\" y=\"90.0\" width=\"249.21119592875317\" height=\"15.0\" fill=\"rgb(205,185,255)\" rx=\"2\" ry=\"2\" data-shortinfo=\"sequence in record.jl:195\" data-info=\"sequence in /home/pawel/.julia/v0.6/BioSequences/src/fastq/record.jl:195\"/>\n",
       "<text text-anchor=\"\" x=\"386.31552162849874\" y=\"101.5\" font-size=\"12\" font-family=\"Verdana\" fill=\"rgb(0,0,0)\" ></text>\n",
       "<rect vector-effect=\"non-scaling-stroke\" x=\"760.6361323155216\" y=\"90.0\" width=\"9.007633587786245\" height=\"15.0\" fill=\"rgb(255,141,62)\" rx=\"2\" ry=\"2\" data-shortinfo=\"checked_add in checked.jl:164; length in range.jl:393; length in bioseq.jl:65\" data-info=\"checked_add in ./checked.jl:164; length in ./range.jl:393; length in /home/pawel/.julia/v0.6/BioSequences/src/bioseq/bioseq.jl:65\"/>\n",
       "<text text-anchor=\"\" x=\"764.6361323155216\" y=\"101.5\" font-size=\"12\" font-family=\"Verdana\" fill=\"rgb(0,0,0)\" ></text>\n",
       "<rect vector-effect=\"non-scaling-stroke\" x=\"769.6437659033079\" y=\"90.0\" width=\"15.012722646310408\" height=\"15.0\" fill=\"rgb(180,211,70)\" rx=\"2\" ry=\"2\" data-shortinfo=\"length in bioseq.jl:0\" data-info=\"length in /home/pawel/.julia/v0.6/BioSequences/src/bioseq/bioseq.jl:0\"/>\n",
       "<text text-anchor=\"\" x=\"773.6437659033079\" y=\"101.5\" font-size=\"12\" font-family=\"Verdana\" fill=\"rgb(0,0,0)\" ></text>\n",
       "<rect vector-effect=\"non-scaling-stroke\" x=\"784.6564885496183\" y=\"90.0\" width=\"21.01781170483457\" height=\"15.0\" fill=\"rgb(180,211,70)\" rx=\"2\" ry=\"2\" data-shortinfo=\"length in bioseq.jl:0\" data-info=\"length in /home/pawel/.julia/v0.6/BioSequences/src/bioseq/bioseq.jl:0\"/>\n",
       "<text text-anchor=\"\" x=\"788.6564885496183\" y=\"101.5\" font-size=\"12\" font-family=\"Verdana\" fill=\"rgb(0,0,0)\" ></text>\n",
       "<rect vector-effect=\"non-scaling-stroke\" x=\"817.6844783715013\" y=\"90.0\" width=\"3.0025445292620816\" height=\"15.0\" fill=\"rgb(255,164,156)\" rx=\"2\" ry=\"2\" data-shortinfo=\"findbarcode in demultiplexer.jl:81\" data-info=\"findbarcode in /home/pawel/.julia/v0.6/BioSequences/src/demultiplexer.jl:81\"/>\n",
       "<text text-anchor=\"\" x=\"821.6844783715013\" y=\"101.5\" font-size=\"12\" font-family=\"Verdana\" fill=\"rgb(0,0,0)\" ></text>\n",
       "<rect vector-effect=\"non-scaling-stroke\" x=\"820.6870229007634\" y=\"90.0\" width=\"3.0025445292620816\" height=\"15.0\" fill=\"rgb(158,158,158)\" rx=\"2\" ry=\"2\" data-shortinfo=\"findbarcode in demultiplexer.jl:93\" data-info=\"findbarcode in /home/pawel/.julia/v0.6/BioSequences/src/demultiplexer.jl:93\"/>\n",
       "<text text-anchor=\"\" x=\"824.6870229007634\" y=\"101.5\" font-size=\"12\" font-family=\"Verdana\" fill=\"rgb(0,0,0)\" ></text>\n",
       "<rect vector-effect=\"non-scaling-stroke\" x=\"823.6895674300255\" y=\"90.0\" width=\"3.0025445292620816\" height=\"15.0\" fill=\"rgb(205,185,255)\" rx=\"2\" ry=\"2\" data-shortinfo=\"findbarcode in demultiplexer.jl:99\" data-info=\"findbarcode in /home/pawel/.julia/v0.6/BioSequences/src/demultiplexer.jl:99\"/>\n",
       "<text text-anchor=\"\" x=\"827.6895674300255\" y=\"101.5\" font-size=\"12\" font-family=\"Verdana\" fill=\"rgb(0,0,0)\" ></text>\n",
       "<rect vector-effect=\"non-scaling-stroke\" x=\"826.6921119592876\" y=\"90.0\" width=\"3.0025445292620816\" height=\"15.0\" fill=\"rgb(255,141,62)\" rx=\"2\" ry=\"2\" data-shortinfo=\" in :-1\" data-info=\" in :-1\"/>\n",
       "<text text-anchor=\"\" x=\"830.6921119592876\" y=\"101.5\" font-size=\"12\" font-family=\"Verdana\" fill=\"rgb(0,0,0)\" ></text>\n",
       "<rect vector-effect=\"non-scaling-stroke\" x=\"835.6997455470738\" y=\"90.0\" width=\"3.0025445292620816\" height=\"15.0\" fill=\"rgb(180,211,70)\" rx=\"2\" ry=\"2\" data-shortinfo=\"checkbounds in indexing.jl:13\" data-info=\"checkbounds in /home/pawel/.julia/v0.6/BioSequences/src/bioseq/indexing.jl:13\"/>\n",
       "<text text-anchor=\"\" x=\"839.6997455470738\" y=\"101.5\" font-size=\"12\" font-family=\"Verdana\" fill=\"rgb(0,0,0)\" ></text>\n",
       "<rect vector-effect=\"non-scaling-stroke\" x=\"1018.854961832061\" y=\"90.0\" width=\"6.005089058524163\" height=\"15.0\" fill=\"rgb(255,164,156)\" rx=\"2\" ry=\"2\" data-shortinfo=\"checked_sub in checked.jl:221; length in range.jl:393; length in bioseq.jl:65\" data-info=\"checked_sub in ./checked.jl:221; length in ./range.jl:393; length in /home/pawel/.julia/v0.6/BioSequences/src/bioseq/bioseq.jl:65\"/>\n",
       "<text text-anchor=\"\" x=\"1022.854961832061\" y=\"101.5\" font-size=\"12\" font-family=\"Verdana\" fill=\"rgb(0,0,0)\" ></text>\n",
       "<rect vector-effect=\"non-scaling-stroke\" x=\"1024.8600508905852\" y=\"90.0\" width=\"15.012722646310522\" height=\"15.0\" fill=\"rgb(158,158,158)\" rx=\"2\" ry=\"2\" data-shortinfo=\"checked_sub in checked.jl:222; length in range.jl:393; length in bioseq.jl:65\" data-info=\"checked_sub in ./checked.jl:222; length in ./range.jl:393; length in /home/pawel/.julia/v0.6/BioSequences/src/bioseq/bioseq.jl:65\"/>\n",
       "<text text-anchor=\"\" x=\"1028.8600508905852\" y=\"101.5\" font-size=\"12\" font-family=\"Verdana\" fill=\"rgb(0,0,0)\" ></text>\n",
       "<rect vector-effect=\"non-scaling-stroke\" x=\"1039.8727735368957\" y=\"90.0\" width=\"12.010178117048326\" height=\"15.0\" fill=\"rgb(205,185,255)\" rx=\"2\" ry=\"2\" data-shortinfo=\"length in bioseq.jl:0\" data-info=\"length in /home/pawel/.julia/v0.6/BioSequences/src/bioseq/bioseq.jl:0\"/>\n",
       "<text text-anchor=\"\" x=\"1043.8727735368957\" y=\"101.5\" font-size=\"12\" font-family=\"Verdana\" fill=\"rgb(0,0,0)\" ></text>\n",
       "<rect vector-effect=\"non-scaling-stroke\" x=\"1051.882951653944\" y=\"90.0\" width=\"3.002544529261968\" height=\"15.0\" fill=\"rgb(205,185,255)\" rx=\"2\" ry=\"2\" data-shortinfo=\"length in bioseq.jl:0\" data-info=\"length in /home/pawel/.julia/v0.6/BioSequences/src/bioseq/bioseq.jl:0\"/>\n",
       "<text text-anchor=\"\" x=\"1055.882951653944\" y=\"101.5\" font-size=\"12\" font-family=\"Verdana\" fill=\"rgb(0,0,0)\" ></text>\n",
       "<rect vector-effect=\"non-scaling-stroke\" x=\"1054.885496183206\" y=\"90.0\" width=\"3.0025445292621953\" height=\"15.0\" fill=\"rgb(255,141,62)\" rx=\"2\" ry=\"2\" data-shortinfo=\"length in bioseq.jl:65\" data-info=\"length in /home/pawel/.julia/v0.6/BioSequences/src/bioseq/bioseq.jl:65\"/>\n",
       "<text text-anchor=\"\" x=\"1058.885496183206\" y=\"101.5\" font-size=\"12\" font-family=\"Verdana\" fill=\"rgb(0,0,0)\" ></text>\n",
       "<rect vector-effect=\"non-scaling-stroke\" x=\"1126.9465648854962\" y=\"90.0\" width=\"3.0025445292621953\" height=\"15.0\" fill=\"rgb(180,211,70)\" rx=\"2\" ry=\"2\" data-shortinfo=\"push! in bitarray.jl:766\" data-info=\"push! in ./bitarray.jl:766\"/>\n",
       "<text text-anchor=\"\" x=\"1130.9465648854962\" y=\"101.5\" font-size=\"12\" font-family=\"Verdana\" fill=\"rgb(0,0,0)\" ></text>\n",
       "<rect vector-effect=\"non-scaling-stroke\" x=\"1150.9669211195928\" y=\"90.0\" width=\"3.0025445292621953\" height=\"15.0\" fill=\"rgb(255,164,156)\" rx=\"2\" ry=\"2\" data-shortinfo=\"ht_keyindex in dict.jl:319\" data-info=\"ht_keyindex in ./dict.jl:319\"/>\n",
       "<text text-anchor=\"\" x=\"1154.9669211195928\" y=\"101.5\" font-size=\"12\" font-family=\"Verdana\" fill=\"rgb(0,0,0)\" ></text>\n",
       "<rect vector-effect=\"non-scaling-stroke\" x=\"1153.969465648855\" y=\"90.0\" width=\"3.002544529261968\" height=\"15.0\" fill=\"rgb(158,158,158)\" rx=\"2\" ry=\"2\" data-shortinfo=\"ht_keyindex in dict.jl:323\" data-info=\"ht_keyindex in ./dict.jl:323\"/>\n",
       "<text text-anchor=\"\" x=\"1157.969465648855\" y=\"101.5\" font-size=\"12\" font-family=\"Verdana\" fill=\"rgb(0,0,0)\" ></text>\n",
       "<rect vector-effect=\"non-scaling-stroke\" x=\"1156.972010178117\" y=\"90.0\" width=\"3.0025445292621953\" height=\"15.0\" fill=\"rgb(158,158,158)\" rx=\"2\" ry=\"2\" data-shortinfo=\"ht_keyindex in dict.jl:323\" data-info=\"ht_keyindex in ./dict.jl:323\"/>\n",
       "<text text-anchor=\"\" x=\"1160.972010178117\" y=\"101.5\" font-size=\"12\" font-family=\"Verdana\" fill=\"rgb(0,0,0)\" ></text>\n",
       "<rect vector-effect=\"non-scaling-stroke\" x=\"1159.9745547073792\" y=\"90.0\" width=\"3.002544529261968\" height=\"15.0\" fill=\"rgb(205,185,255)\" rx=\"2\" ry=\"2\" data-shortinfo=\"ht_keyindex in dict.jl:326\" data-info=\"ht_keyindex in ./dict.jl:326\"/>\n",
       "<text text-anchor=\"\" x=\"1163.9745547073792\" y=\"101.5\" font-size=\"12\" font-family=\"Verdana\" fill=\"rgb(0,0,0)\" ></text>\n",
       "<rect vector-effect=\"non-scaling-stroke\" x=\"1162.9770992366412\" y=\"90.0\" width=\"3.0025445292621953\" height=\"15.0\" fill=\"rgb(255,141,62)\" rx=\"2\" ry=\"2\" data-shortinfo=\"hash in hashing.jl:10; hash in hashing.jl:5; hashindex in dict.jl:210; ht_keyindex in dict.jl:322\" data-info=\"hash in ./hashing.jl:10; hash in ./hashing.jl:5; hashindex in ./dict.jl:210; ht_keyindex in ./dict.jl:322\"/>\n",
       "<text text-anchor=\"\" x=\"1166.9770992366412\" y=\"101.5\" font-size=\"12\" font-family=\"Verdana\" fill=\"rgb(0,0,0)\" ></text>\n",
       "<rect vector-effect=\"non-scaling-stroke\" x=\"1168.9821882951653\" y=\"90.0\" width=\"3.0025445292621953\" height=\"15.0\" fill=\"rgb(180,211,70)\" rx=\"2\" ry=\"2\" data-shortinfo=\"ht_keyindex in dict.jl:329\" data-info=\"ht_keyindex in ./dict.jl:329\"/>\n",
       "<text text-anchor=\"\" x=\"1172.9821882951653\" y=\"101.5\" font-size=\"12\" font-family=\"Verdana\" fill=\"rgb(0,0,0)\" ></text>\n",
       "<rect vector-effect=\"non-scaling-stroke\" x=\"1171.9847328244275\" y=\"90.0\" width=\"3.002544529261968\" height=\"15.0\" fill=\"rgb(255,164,156)\" rx=\"2\" ry=\"2\" data-shortinfo=\"hash in hashing.jl:10; hash in hashing.jl:5; hashindex in dict.jl:210; ht_keyindex in dict.jl:322\" data-info=\"hash in ./hashing.jl:10; hash in ./hashing.jl:5; hashindex in ./dict.jl:210; ht_keyindex in ./dict.jl:322\"/>\n",
       "<text text-anchor=\"\" x=\"1175.9847328244275\" y=\"101.5\" font-size=\"12\" font-family=\"Verdana\" fill=\"rgb(0,0,0)\" ></text>\n",
       "<rect vector-effect=\"non-scaling-stroke\" x=\"1177.9898218829517\" y=\"90.0\" width=\"3.002544529261968\" height=\"15.0\" fill=\"rgb(158,158,158)\" rx=\"2\" ry=\"2\" data-shortinfo=\"hashindex in dict.jl:210; ht_keyindex in dict.jl:322\" data-info=\"hashindex in ./dict.jl:210; ht_keyindex in ./dict.jl:322\"/>\n",
       "<text text-anchor=\"\" x=\"1181.9898218829517\" y=\"101.5\" font-size=\"12\" font-family=\"Verdana\" fill=\"rgb(0,0,0)\" ></text>\n",
       "<rect vector-effect=\"non-scaling-stroke\" x=\"1180.9923664122136\" y=\"90.0\" width=\"3.0025445292621953\" height=\"15.0\" fill=\"rgb(205,185,255)\" rx=\"2\" ry=\"2\" data-shortinfo=\"ht_keyindex in dict.jl:0\" data-info=\"ht_keyindex in ./dict.jl:0\"/>\n",
       "<text text-anchor=\"\" x=\"1184.9923664122136\" y=\"101.5\" font-size=\"12\" font-family=\"Verdana\" fill=\"rgb(0,0,0)\" ></text>\n",
       "<rect vector-effect=\"non-scaling-stroke\" x=\"1183.9949109414758\" y=\"90.0\" width=\"3.002544529261968\" height=\"15.0\" fill=\"rgb(255,141,62)\" rx=\"2\" ry=\"2\" data-shortinfo=\"hash in hashing.jl:10; hash in hashing.jl:5; hashindex in dict.jl:210; ht_keyindex in dict.jl:322\" data-info=\"hash in ./hashing.jl:10; hash in ./hashing.jl:5; hashindex in ./dict.jl:210; ht_keyindex in ./dict.jl:322\"/>\n",
       "<text text-anchor=\"\" x=\"1187.9949109414758\" y=\"101.5\" font-size=\"12\" font-family=\"Verdana\" fill=\"rgb(0,0,0)\" ></text>\n",
       "<rect vector-effect=\"non-scaling-stroke\" x=\"10.0\" y=\"75.0\" width=\"3.002544529262087\" height=\"15.0\" fill=\"rgb(232,112,221)\" rx=\"2\" ry=\"2\" data-shortinfo=\"hamming_circle in demultiplexer.jl:237\" data-info=\"hamming_circle in /home/pawel/.julia/v0.6/BioSequences/src/demultiplexer.jl:237\"/>\n",
       "<text text-anchor=\"\" x=\"14.0\" y=\"86.5\" font-size=\"12\" font-family=\"Verdana\" fill=\"rgb(0,0,0)\" ></text>\n",
       "<rect vector-effect=\"non-scaling-stroke\" x=\"13.002544529262087\" y=\"75.0\" width=\"3.002544529262087\" height=\"15.0\" fill=\"rgb(50,180,78)\" rx=\"2\" ry=\"2\" data-shortinfo=\" in :-1\" data-info=\" in :-1\"/>\n",
       "<text text-anchor=\"\" x=\"17.00254452926209\" y=\"86.5\" font-size=\"12\" font-family=\"Verdana\" fill=\"rgb(0,0,0)\" ></text>\n",
       "<rect vector-effect=\"non-scaling-stroke\" x=\"16.005089058524174\" y=\"75.0\" width=\"3.002544529262085\" height=\"15.0\" fill=\"rgb(26,162,255)\" rx=\"2\" ry=\"2\" data-shortinfo=\"Type in demultiplexer.jl:20\" data-info=\"Type in /home/pawel/.julia/v0.6/BioSequences/src/demultiplexer.jl:20\"/>\n",
       "<text text-anchor=\"\" x=\"20.005089058524174\" y=\"86.5\" font-size=\"12\" font-family=\"Verdana\" fill=\"rgb(0,0,0)\" ></text>\n",
       "<rect vector-effect=\"non-scaling-stroke\" x=\"157.12468193384223\" y=\"75.0\" width=\"3.00254452926211\" height=\"15.0\" fill=\"rgb(210,165,23)\" rx=\"2\" ry=\"2\" data-shortinfo=\"checked_add in checked.jl:164; length in range.jl:393; macro expansion in reader.jl:161; macro expansion in codegen.jl:281; _read! in ReaderHelper.jl:156\" data-info=\"checked_add in ./checked.jl:164; length in ./range.jl:393; macro expansion in /home/pawel/.julia/v0.6/BioSequences/src/fastq/reader.jl:161; macro expansion in /home/pawel/.julia/v0.6/Automa/src/codegen.jl:281; _read! in /home/pawel/.julia/v0.6/BioCore/src/ReaderHelper.jl:156\"/>\n",
       "<text text-anchor=\"\" x=\"161.12468193384223\" y=\"86.5\" font-size=\"12\" font-family=\"Verdana\" fill=\"rgb(0,0,0)\" ></text>\n",
       "<rect vector-effect=\"non-scaling-stroke\" x=\"160.12722646310434\" y=\"75.0\" width=\"3.0025445292620816\" height=\"15.0\" fill=\"rgb(0,222,230)\" rx=\"2\" ry=\"2\" data-shortinfo=\"macro expansion in codegen.jl:0; _read! in ReaderHelper.jl:156\" data-info=\"macro expansion in /home/pawel/.julia/v0.6/Automa/src/codegen.jl:0; _read! in /home/pawel/.julia/v0.6/BioCore/src/ReaderHelper.jl:156\"/>\n",
       "<text text-anchor=\"\" x=\"164.12722646310434\" y=\"86.5\" font-size=\"12\" font-family=\"Verdana\" fill=\"rgb(0,0,0)\" ></text>\n",
       "<rect vector-effect=\"non-scaling-stroke\" x=\"163.12977099236642\" y=\"75.0\" width=\"6.005089058524163\" height=\"15.0\" fill=\"rgb(0,222,230)\" rx=\"2\" ry=\"2\" data-shortinfo=\"macro expansion in codegen.jl:0; _read! in ReaderHelper.jl:156\" data-info=\"macro expansion in /home/pawel/.julia/v0.6/Automa/src/codegen.jl:0; _read! in /home/pawel/.julia/v0.6/BioCore/src/ReaderHelper.jl:156\"/>\n",
       "<text text-anchor=\"\" x=\"167.12977099236642\" y=\"86.5\" font-size=\"12\" font-family=\"Verdana\" fill=\"rgb(0,0,0)\" ></text>\n",
       "<rect vector-effect=\"non-scaling-stroke\" x=\"169.13486005089058\" y=\"75.0\" width=\"9.007633587786273\" height=\"15.0\" fill=\"rgb(0,222,230)\" rx=\"2\" ry=\"2\" data-shortinfo=\"macro expansion in codegen.jl:0; _read! in ReaderHelper.jl:156\" data-info=\"macro expansion in /home/pawel/.julia/v0.6/Automa/src/codegen.jl:0; _read! in /home/pawel/.julia/v0.6/BioCore/src/ReaderHelper.jl:156\"/>\n",
       "<text text-anchor=\"\" x=\"173.13486005089058\" y=\"86.5\" font-size=\"12\" font-family=\"Verdana\" fill=\"rgb(0,0,0)\" ></text>\n",
       "<rect vector-effect=\"non-scaling-stroke\" x=\"178.14249363867685\" y=\"75.0\" width=\"3.0025445292620816\" height=\"15.0\" fill=\"rgb(0,222,230)\" rx=\"2\" ry=\"2\" data-shortinfo=\"macro expansion in codegen.jl:0; _read! in ReaderHelper.jl:156\" data-info=\"macro expansion in /home/pawel/.julia/v0.6/Automa/src/codegen.jl:0; _read! in /home/pawel/.julia/v0.6/BioCore/src/ReaderHelper.jl:156\"/>\n",
       "<text text-anchor=\"\" x=\"182.14249363867685\" y=\"86.5\" font-size=\"12\" font-family=\"Verdana\" fill=\"rgb(0,0,0)\" ></text>\n",
       "<rect vector-effect=\"non-scaling-stroke\" x=\"181.14503816793894\" y=\"75.0\" width=\"18.015267175572518\" height=\"15.0\" fill=\"rgb(0,222,230)\" rx=\"2\" ry=\"2\" data-shortinfo=\"macro expansion in codegen.jl:0; _read! in ReaderHelper.jl:156\" data-info=\"macro expansion in /home/pawel/.julia/v0.6/Automa/src/codegen.jl:0; _read! in /home/pawel/.julia/v0.6/BioCore/src/ReaderHelper.jl:156\"/>\n",
       "<text text-anchor=\"\" x=\"185.14503816793894\" y=\"86.5\" font-size=\"12\" font-family=\"Verdana\" fill=\"rgb(0,0,0)\" ></text>\n",
       "<rect vector-effect=\"non-scaling-stroke\" x=\"199.16030534351145\" y=\"75.0\" width=\"9.007633587786245\" height=\"15.0\" fill=\"rgb(0,222,230)\" rx=\"2\" ry=\"2\" data-shortinfo=\"macro expansion in codegen.jl:0; _read! in ReaderHelper.jl:156\" data-info=\"macro expansion in /home/pawel/.julia/v0.6/Automa/src/codegen.jl:0; _read! in /home/pawel/.julia/v0.6/BioCore/src/ReaderHelper.jl:156\"/>\n",
       "<text text-anchor=\"\" x=\"203.16030534351145\" y=\"86.5\" font-size=\"12\" font-family=\"Verdana\" fill=\"rgb(0,0,0)\" ></text>\n",
       "<rect vector-effect=\"non-scaling-stroke\" x=\"208.1679389312977\" y=\"75.0\" width=\"3.00254452926211\" height=\"15.0\" fill=\"rgb(232,112,221)\" rx=\"2\" ry=\"2\" data-shortinfo=\"macro expansion in codegen.jl:281; _read! in ReaderHelper.jl:156\" data-info=\"macro expansion in /home/pawel/.julia/v0.6/Automa/src/codegen.jl:281; _read! in /home/pawel/.julia/v0.6/BioCore/src/ReaderHelper.jl:156\"/>\n",
       "<text text-anchor=\"\" x=\"212.1679389312977\" y=\"86.5\" font-size=\"12\" font-family=\"Verdana\" fill=\"rgb(0,0,0)\" ></text>\n",
       "<rect vector-effect=\"non-scaling-stroke\" x=\"211.1704834605598\" y=\"75.0\" width=\"3.0025445292620816\" height=\"15.0\" fill=\"rgb(232,112,221)\" rx=\"2\" ry=\"2\" data-shortinfo=\"macro expansion in codegen.jl:281; _read! in ReaderHelper.jl:156\" data-info=\"macro expansion in /home/pawel/.julia/v0.6/Automa/src/codegen.jl:281; _read! in /home/pawel/.julia/v0.6/BioCore/src/ReaderHelper.jl:156\"/>\n",
       "<text text-anchor=\"\" x=\"215.1704834605598\" y=\"86.5\" font-size=\"12\" font-family=\"Verdana\" fill=\"rgb(0,0,0)\" ></text>\n",
       "<rect vector-effect=\"non-scaling-stroke\" x=\"214.1730279898219\" y=\"75.0\" width=\"3.0025445292620816\" height=\"15.0\" fill=\"rgb(232,112,221)\" rx=\"2\" ry=\"2\" data-shortinfo=\"macro expansion in codegen.jl:281; _read! in ReaderHelper.jl:156\" data-info=\"macro expansion in /home/pawel/.julia/v0.6/Automa/src/codegen.jl:281; _read! in /home/pawel/.julia/v0.6/BioCore/src/ReaderHelper.jl:156\"/>\n",
       "<text text-anchor=\"\" x=\"218.1730279898219\" y=\"86.5\" font-size=\"12\" font-family=\"Verdana\" fill=\"rgb(0,0,0)\" ></text>\n",
       "<rect vector-effect=\"non-scaling-stroke\" x=\"217.17557251908397\" y=\"75.0\" width=\"3.0025445292620816\" height=\"15.0\" fill=\"rgb(232,112,221)\" rx=\"2\" ry=\"2\" data-shortinfo=\"macro expansion in codegen.jl:281; _read! in ReaderHelper.jl:156\" data-info=\"macro expansion in /home/pawel/.julia/v0.6/Automa/src/codegen.jl:281; _read! in /home/pawel/.julia/v0.6/BioCore/src/ReaderHelper.jl:156\"/>\n",
       "<text text-anchor=\"\" x=\"221.17557251908397\" y=\"86.5\" font-size=\"12\" font-family=\"Verdana\" fill=\"rgb(0,0,0)\" ></text>\n",
       "<rect vector-effect=\"non-scaling-stroke\" x=\"220.17811704834605\" y=\"75.0\" width=\"3.0025445292620816\" height=\"15.0\" fill=\"rgb(232,112,221)\" rx=\"2\" ry=\"2\" data-shortinfo=\"macro expansion in codegen.jl:281; _read! in ReaderHelper.jl:156\" data-info=\"macro expansion in /home/pawel/.julia/v0.6/Automa/src/codegen.jl:281; _read! in /home/pawel/.julia/v0.6/BioCore/src/ReaderHelper.jl:156\"/>\n",
       "<text text-anchor=\"\" x=\"224.17811704834605\" y=\"86.5\" font-size=\"12\" font-family=\"Verdana\" fill=\"rgb(0,0,0)\" ></text>\n",
       "<rect vector-effect=\"non-scaling-stroke\" x=\"223.18066157760813\" y=\"75.0\" width=\"3.0025445292620816\" height=\"15.0\" fill=\"rgb(232,112,221)\" rx=\"2\" ry=\"2\" data-shortinfo=\"macro expansion in codegen.jl:281; _read! in ReaderHelper.jl:156\" data-info=\"macro expansion in /home/pawel/.julia/v0.6/Automa/src/codegen.jl:281; _read! in /home/pawel/.julia/v0.6/BioCore/src/ReaderHelper.jl:156\"/>\n",
       "<text text-anchor=\"\" x=\"227.18066157760813\" y=\"86.5\" font-size=\"12\" font-family=\"Verdana\" fill=\"rgb(0,0,0)\" ></text>\n",
       "<rect vector-effect=\"non-scaling-stroke\" x=\"226.18320610687022\" y=\"75.0\" width=\"3.00254452926211\" height=\"15.0\" fill=\"rgb(232,112,221)\" rx=\"2\" ry=\"2\" data-shortinfo=\"macro expansion in codegen.jl:281; _read! in ReaderHelper.jl:156\" data-info=\"macro expansion in /home/pawel/.julia/v0.6/Automa/src/codegen.jl:281; _read! in /home/pawel/.julia/v0.6/BioCore/src/ReaderHelper.jl:156\"/>\n",
       "<text text-anchor=\"\" x=\"230.18320610687022\" y=\"86.5\" font-size=\"12\" font-family=\"Verdana\" fill=\"rgb(0,0,0)\" ></text>\n",
       "<rect vector-effect=\"non-scaling-stroke\" x=\"229.18575063613233\" y=\"75.0\" width=\"3.0025445292620816\" height=\"15.0\" fill=\"rgb(50,180,78)\" rx=\"2\" ry=\"2\" data-shortinfo=\"macro expansion in codegen.jl:282; _read! in ReaderHelper.jl:156\" data-info=\"macro expansion in /home/pawel/.julia/v0.6/Automa/src/codegen.jl:282; _read! in /home/pawel/.julia/v0.6/BioCore/src/ReaderHelper.jl:156\"/>\n",
       "<text text-anchor=\"\" x=\"233.18575063613233\" y=\"86.5\" font-size=\"12\" font-family=\"Verdana\" fill=\"rgb(0,0,0)\" ></text>\n",
       "<rect vector-effect=\"non-scaling-stroke\" x=\"232.1882951653944\" y=\"75.0\" width=\"6.005089058524163\" height=\"15.0\" fill=\"rgb(26,162,255)\" rx=\"2\" ry=\"2\" data-shortinfo=\"macro expansion in codegen.jl:309; _read! in ReaderHelper.jl:156\" data-info=\"macro expansion in /home/pawel/.julia/v0.6/Automa/src/codegen.jl:309; _read! in /home/pawel/.julia/v0.6/BioCore/src/ReaderHelper.jl:156\"/>\n",
       "<text text-anchor=\"\" x=\"236.1882951653944\" y=\"86.5\" font-size=\"12\" font-family=\"Verdana\" fill=\"rgb(0,0,0)\" ></text>\n",
       "<rect vector-effect=\"non-scaling-stroke\" x=\"238.19338422391857\" y=\"75.0\" width=\"9.007633587786273\" height=\"15.0\" fill=\"rgb(210,165,23)\" rx=\"2\" ry=\"2\" data-shortinfo=\"macro expansion in codegen.jl:310; _read! in ReaderHelper.jl:156\" data-info=\"macro expansion in /home/pawel/.julia/v0.6/Automa/src/codegen.jl:310; _read! in /home/pawel/.julia/v0.6/BioCore/src/ReaderHelper.jl:156\"/>\n",
       "<text text-anchor=\"\" x=\"242.19338422391857\" y=\"86.5\" font-size=\"12\" font-family=\"Verdana\" fill=\"rgb(0,0,0)\" ></text>\n",
       "<rect vector-effect=\"non-scaling-stroke\" x=\"247.20101781170484\" y=\"75.0\" width=\"3.0025445292620816\" height=\"15.0\" fill=\"rgb(210,165,23)\" rx=\"2\" ry=\"2\" data-shortinfo=\"macro expansion in codegen.jl:310; _read! in ReaderHelper.jl:156\" data-info=\"macro expansion in /home/pawel/.julia/v0.6/Automa/src/codegen.jl:310; _read! in /home/pawel/.julia/v0.6/BioCore/src/ReaderHelper.jl:156\"/>\n",
       "<text text-anchor=\"\" x=\"251.20101781170484\" y=\"86.5\" font-size=\"12\" font-family=\"Verdana\" fill=\"rgb(0,0,0)\" ></text>\n",
       "<rect vector-effect=\"non-scaling-stroke\" x=\"250.20356234096693\" y=\"75.0\" width=\"6.005089058524163\" height=\"15.0\" fill=\"rgb(210,165,23)\" rx=\"2\" ry=\"2\" data-shortinfo=\"macro expansion in codegen.jl:310; _read! in ReaderHelper.jl:156\" data-info=\"macro expansion in /home/pawel/.julia/v0.6/Automa/src/codegen.jl:310; _read! in /home/pawel/.julia/v0.6/BioCore/src/ReaderHelper.jl:156\"/>\n",
       "<text text-anchor=\"\" x=\"254.20356234096693\" y=\"86.5\" font-size=\"12\" font-family=\"Verdana\" fill=\"rgb(0,0,0)\" ></text>\n",
       "<rect vector-effect=\"non-scaling-stroke\" x=\"256.2086513994911\" y=\"75.0\" width=\"3.0025445292620816\" height=\"15.0\" fill=\"rgb(210,165,23)\" rx=\"2\" ry=\"2\" data-shortinfo=\"macro expansion in codegen.jl:310; _read! in ReaderHelper.jl:156\" data-info=\"macro expansion in /home/pawel/.julia/v0.6/Automa/src/codegen.jl:310; _read! in /home/pawel/.julia/v0.6/BioCore/src/ReaderHelper.jl:156\"/>\n",
       "<text text-anchor=\"\" x=\"260.2086513994911\" y=\"86.5\" font-size=\"12\" font-family=\"Verdana\" fill=\"rgb(0,0,0)\" ></text>\n",
       "<rect vector-effect=\"non-scaling-stroke\" x=\"259.21119592875317\" y=\"75.0\" width=\"12.010178117048326\" height=\"15.0\" fill=\"rgb(210,165,23)\" rx=\"2\" ry=\"2\" data-shortinfo=\"macro expansion in codegen.jl:310; _read! in ReaderHelper.jl:156\" data-info=\"macro expansion in /home/pawel/.julia/v0.6/Automa/src/codegen.jl:310; _read! in /home/pawel/.julia/v0.6/BioCore/src/ReaderHelper.jl:156\"/>\n",
       "<text text-anchor=\"\" x=\"263.21119592875317\" y=\"86.5\" font-size=\"12\" font-family=\"Verdana\" fill=\"rgb(0,0,0)\" ></text>\n",
       "<rect vector-effect=\"non-scaling-stroke\" x=\"271.2213740458015\" y=\"75.0\" width=\"3.0025445292621384\" height=\"15.0\" fill=\"rgb(210,165,23)\" rx=\"2\" ry=\"2\" data-shortinfo=\"macro expansion in codegen.jl:310; _read! in ReaderHelper.jl:156\" data-info=\"macro expansion in /home/pawel/.julia/v0.6/Automa/src/codegen.jl:310; _read! in /home/pawel/.julia/v0.6/BioCore/src/ReaderHelper.jl:156\"/>\n",
       "<text text-anchor=\"\" x=\"275.2213740458015\" y=\"86.5\" font-size=\"12\" font-family=\"Verdana\" fill=\"rgb(0,0,0)\" ></text>\n",
       "<rect vector-effect=\"non-scaling-stroke\" x=\"274.22391857506364\" y=\"75.0\" width=\"3.0025445292620816\" height=\"15.0\" fill=\"rgb(210,165,23)\" rx=\"2\" ry=\"2\" data-shortinfo=\"macro expansion in codegen.jl:310; _read! in ReaderHelper.jl:156\" data-info=\"macro expansion in /home/pawel/.julia/v0.6/Automa/src/codegen.jl:310; _read! in /home/pawel/.julia/v0.6/BioCore/src/ReaderHelper.jl:156\"/>\n",
       "<text text-anchor=\"\" x=\"278.22391857506364\" y=\"86.5\" font-size=\"12\" font-family=\"Verdana\" fill=\"rgb(0,0,0)\" ></text>\n",
       "<rect vector-effect=\"non-scaling-stroke\" x=\"277.2264631043257\" y=\"75.0\" width=\"6.005089058524163\" height=\"15.0\" fill=\"rgb(210,165,23)\" rx=\"2\" ry=\"2\" data-shortinfo=\"macro expansion in codegen.jl:310; _read! in ReaderHelper.jl:156\" data-info=\"macro expansion in /home/pawel/.julia/v0.6/Automa/src/codegen.jl:310; _read! in /home/pawel/.julia/v0.6/BioCore/src/ReaderHelper.jl:156\"/>\n",
       "<text text-anchor=\"\" x=\"281.2264631043257\" y=\"86.5\" font-size=\"12\" font-family=\"Verdana\" fill=\"rgb(0,0,0)\" ></text>\n",
       "<rect vector-effect=\"non-scaling-stroke\" x=\"283.2315521628499\" y=\"75.0\" width=\"3.0025445292620816\" height=\"15.0\" fill=\"rgb(0,222,230)\" rx=\"2\" ry=\"2\" data-shortinfo=\"_read! in ReaderHelper.jl:0\" data-info=\"_read! in /home/pawel/.julia/v0.6/BioCore/src/ReaderHelper.jl:0\"/>\n",
       "<text text-anchor=\"\" x=\"287.2315521628499\" y=\"86.5\" font-size=\"12\" font-family=\"Verdana\" fill=\"rgb(0,0,0)\" ></text>\n",
       "<rect vector-effect=\"non-scaling-stroke\" x=\"286.23409669211196\" y=\"75.0\" width=\"3.0025445292620816\" height=\"15.0\" fill=\"rgb(0,222,230)\" rx=\"2\" ry=\"2\" data-shortinfo=\"_read! in ReaderHelper.jl:0\" data-info=\"_read! in /home/pawel/.julia/v0.6/BioCore/src/ReaderHelper.jl:0\"/>\n",
       "<text text-anchor=\"\" x=\"290.23409669211196\" y=\"86.5\" font-size=\"12\" font-family=\"Verdana\" fill=\"rgb(0,0,0)\" ></text>\n",
       "<rect vector-effect=\"non-scaling-stroke\" x=\"289.23664122137404\" y=\"75.0\" width=\"9.007633587786245\" height=\"15.0\" fill=\"rgb(0,222,230)\" rx=\"2\" ry=\"2\" data-shortinfo=\"_read! in ReaderHelper.jl:0\" data-info=\"_read! in /home/pawel/.julia/v0.6/BioCore/src/ReaderHelper.jl:0\"/>\n",
       "<text text-anchor=\"\" x=\"293.23664122137404\" y=\"86.5\" font-size=\"12\" font-family=\"Verdana\" fill=\"rgb(0,0,0)\" ></text>\n",
       "<rect vector-effect=\"non-scaling-stroke\" x=\"298.2442748091603\" y=\"75.0\" width=\"9.007633587786302\" height=\"15.0\" fill=\"rgb(232,112,221)\" rx=\"2\" ry=\"2\" data-shortinfo=\"_read! in ReaderHelper.jl:168\" data-info=\"_read! in /home/pawel/.julia/v0.6/BioCore/src/ReaderHelper.jl:168\"/>\n",
       "<text text-anchor=\"\" x=\"302.2442748091603\" y=\"86.5\" font-size=\"12\" font-family=\"Verdana\" fill=\"rgb(0,0,0)\" ></text>\n",
       "<rect vector-effect=\"non-scaling-stroke\" x=\"307.2519083969466\" y=\"75.0\" width=\"9.007633587786245\" height=\"15.0\" fill=\"rgb(50,180,78)\" rx=\"2\" ry=\"2\" data-shortinfo=\"_read! in ReaderHelper.jl:172\" data-info=\"_read! in /home/pawel/.julia/v0.6/BioCore/src/ReaderHelper.jl:172\"/>\n",
       "<text text-anchor=\"\" x=\"311.2519083969466\" y=\"86.5\" font-size=\"12\" font-family=\"Verdana\" fill=\"rgb(0,0,0)\" ></text>\n",
       "<rect vector-effect=\"non-scaling-stroke\" x=\"316.25954198473283\" y=\"75.0\" width=\"3.0025445292620816\" height=\"15.0\" fill=\"rgb(26,162,255)\" rx=\"2\" ry=\"2\" data-shortinfo=\"ensure_margin! in ReaderHelper.jl:29; _read! in ReaderHelper.jl:139\" data-info=\"ensure_margin! in /home/pawel/.julia/v0.6/BioCore/src/ReaderHelper.jl:29; _read! in /home/pawel/.julia/v0.6/BioCore/src/ReaderHelper.jl:139\"/>\n",
       "<text text-anchor=\"\" x=\"320.25954198473283\" y=\"86.5\" font-size=\"12\" font-family=\"Verdana\" fill=\"rgb(0,0,0)\" ></text>\n",
       "<rect vector-effect=\"non-scaling-stroke\" x=\"319.2620865139949\" y=\"75.0\" width=\"3.0025445292620816\" height=\"15.0\" fill=\"rgb(210,165,23)\" rx=\"2\" ry=\"2\" data-shortinfo=\"resize_and_copy! in ReaderHelper.jl:44; resize_and_copy! in ReaderHelper.jl:36; macro expansion in reader.jl:164; macro expansion in codegen.jl:281; _read! in ReaderHelper.jl:156\" data-info=\"resize_and_copy! in /home/pawel/.julia/v0.6/BioCore/src/ReaderHelper.jl:44; resize_and_copy! in /home/pawel/.julia/v0.6/BioCore/src/ReaderHelper.jl:36; macro expansion in /home/pawel/.julia/v0.6/BioSequences/src/fastq/reader.jl:164; macro expansion in /home/pawel/.julia/v0.6/Automa/src/codegen.jl:281; _read! in /home/pawel/.julia/v0.6/BioCore/src/ReaderHelper.jl:156\"/>\n",
       "<text text-anchor=\"\" x=\"323.2620865139949\" y=\"86.5\" font-size=\"12\" font-family=\"Verdana\" fill=\"rgb(0,0,0)\" ></text>\n",
       "<rect vector-effect=\"non-scaling-stroke\" x=\"322.264631043257\" y=\"75.0\" width=\"3.0025445292620816\" height=\"15.0\" fill=\"rgb(0,222,230)\" rx=\"2\" ry=\"2\" data-shortinfo=\"macro expansion in reader.jl:165; macro expansion in codegen.jl:281; _read! in ReaderHelper.jl:156\" data-info=\"macro expansion in /home/pawel/.julia/v0.6/BioSequences/src/fastq/reader.jl:165; macro expansion in /home/pawel/.julia/v0.6/Automa/src/codegen.jl:281; _read! in /home/pawel/.julia/v0.6/BioCore/src/ReaderHelper.jl:156\"/>\n",
       "<text text-anchor=\"\" x=\"326.264631043257\" y=\"86.5\" font-size=\"12\" font-family=\"Verdana\" fill=\"rgb(0,0,0)\" ></text>\n",
       "<rect vector-effect=\"non-scaling-stroke\" x=\"325.2671755725191\" y=\"75.0\" width=\"3.0025445292620816\" height=\"15.0\" fill=\"rgb(232,112,221)\" rx=\"2\" ry=\"2\" data-shortinfo=\" in sys.so:-1\" data-info=\" in /usr/lib/julia/sys.so:-1\"/>\n",
       "<text text-anchor=\"\" x=\"329.2671755725191\" y=\"86.5\" font-size=\"12\" font-family=\"Verdana\" fill=\"rgb(0,0,0)\" ></text>\n",
       "<rect vector-effect=\"non-scaling-stroke\" x=\"382.31552162849874\" y=\"75.0\" width=\"24.020356234096653\" height=\"15.0\" fill=\"rgb(50,180,78)\" rx=\"2\" ry=\"2\" data-shortinfo=\"Type in constructors.jl:10; Type in constructors.jl:27\" data-info=\"Type in /home/pawel/.julia/v0.6/BioSequences/src/bioseq/constructors.jl:10; Type in /home/pawel/.julia/v0.6/BioSequences/src/bioseq/constructors.jl:27\"/>\n",
       "<text text-anchor=\"\" x=\"386.31552162849874\" y=\"86.5\" font-size=\"12\" font-family=\"Verdana\" fill=\"rgb(0,0,0)\" ></text>\n",
       "<rect vector-effect=\"non-scaling-stroke\" x=\"406.3358778625954\" y=\"75.0\" width=\"30.025445292620873\" height=\"15.0\" fill=\"rgb(26,162,255)\" rx=\"2\" ry=\"2\" data-shortinfo=\"Type in constructors.jl:27\" data-info=\"Type in /home/pawel/.julia/v0.6/BioSequences/src/bioseq/constructors.jl:27\"/>\n",
       "<text text-anchor=\"\" x=\"410.3358778625954\" y=\"86.5\" font-size=\"12\" font-family=\"Verdana\" fill=\"rgb(0,0,0)\" ></text>\n",
       "<rect vector-effect=\"non-scaling-stroke\" x=\"436.36132315521627\" y=\"75.0\" width=\"192.16284987277356\" height=\"15.0\" fill=\"rgb(210,165,23)\" rx=\"2\" ry=\"2\" data-shortinfo=\"Type in constructors.jl:28\" data-info=\"Type in /home/pawel/.julia/v0.6/BioSequences/src/bioseq/constructors.jl:28\"/>\n",
       "<text text-anchor=\"\" x=\"440.36132315521627\" y=\"86.5\" font-size=\"12\" font-family=\"Verdana\" fill=\"rgb(0,0,0)\" ></text>\n",
       "<rect vector-effect=\"non-scaling-stroke\" x=\"10.0\" y=\"60.0\" width=\"3.002544529262087\" height=\"15.0\" fill=\"rgb(255,164,156)\" rx=\"2\" ry=\"2\" data-shortinfo=\"Type in iterators.jl:173\" data-info=\"Type in ./iterators.jl:173\"/>\n",
       "<text text-anchor=\"\" x=\"14.0\" y=\"71.5\" font-size=\"12\" font-family=\"Verdana\" fill=\"rgb(0,0,0)\" ></text>\n",
       "<rect vector-effect=\"non-scaling-stroke\" x=\"16.005089058524174\" y=\"60.0\" width=\"3.002544529262085\" height=\"15.0\" fill=\"rgb(158,158,158)\" rx=\"2\" ry=\"2\" data-shortinfo=\"== in sequence.jl:61\" data-info=\"== in /home/pawel/.julia/v0.6/BioSequences/src/sequence.jl:61\"/>\n",
       "<text text-anchor=\"\" x=\"20.005089058524174\" y=\"71.5\" font-size=\"12\" font-family=\"Verdana\" fill=\"rgb(0,0,0)\" ></text>\n",
       "<rect vector-effect=\"non-scaling-stroke\" x=\"307.2519083969466\" y=\"60.0\" width=\"9.007633587786245\" height=\"15.0\" fill=\"rgb(205,185,255)\" rx=\"2\" ry=\"2\" data-shortinfo=\"fillbuffer! in bufferedinputstream.jl:70\" data-info=\"fillbuffer! in /home/pawel/.julia/v0.6/BufferedStreams/src/bufferedinputstream.jl:70\"/>\n",
       "<text text-anchor=\"\" x=\"311.2519083969466\" y=\"71.5\" font-size=\"12\" font-family=\"Verdana\" fill=\"rgb(0,0,0)\" ></text>\n",
       "<rect vector-effect=\"non-scaling-stroke\" x=\"436.36132315521627\" y=\"60.0\" width=\"3.0025445292620816\" height=\"15.0\" fill=\"rgb(255,141,62)\" rx=\"2\" ry=\"2\" data-shortinfo=\"length in bioseq.jl:65\" data-info=\"length in /home/pawel/.julia/v0.6/BioSequences/src/bioseq/bioseq.jl:65\"/>\n",
       "<text text-anchor=\"\" x=\"440.36132315521627\" y=\"71.5\" font-size=\"12\" font-family=\"Verdana\" fill=\"rgb(0,0,0)\" ></text>\n",
       "<rect vector-effect=\"non-scaling-stroke\" x=\"439.36386768447835\" y=\"60.0\" width=\"3.0025445292620816\" height=\"15.0\" fill=\"rgb(180,211,70)\" rx=\"2\" ry=\"2\" data-shortinfo=\"encode_copy! in copying.jl:0\" data-info=\"encode_copy! in /home/pawel/.julia/v0.6/BioSequences/src/bioseq/copying.jl:0\"/>\n",
       "<text text-anchor=\"\" x=\"443.36386768447835\" y=\"71.5\" font-size=\"12\" font-family=\"Verdana\" fill=\"rgb(0,0,0)\" ></text>\n",
       "<rect vector-effect=\"non-scaling-stroke\" x=\"442.36641221374043\" y=\"60.0\" width=\"3.0025445292620816\" height=\"15.0\" fill=\"rgb(180,211,70)\" rx=\"2\" ry=\"2\" data-shortinfo=\"encode_copy! in copying.jl:0\" data-info=\"encode_copy! in /home/pawel/.julia/v0.6/BioSequences/src/bioseq/copying.jl:0\"/>\n",
       "<text text-anchor=\"\" x=\"446.36641221374043\" y=\"71.5\" font-size=\"12\" font-family=\"Verdana\" fill=\"rgb(0,0,0)\" ></text>\n",
       "<rect vector-effect=\"non-scaling-stroke\" x=\"445.3689567430025\" y=\"60.0\" width=\"3.0025445292621384\" height=\"15.0\" fill=\"rgb(180,211,70)\" rx=\"2\" ry=\"2\" data-shortinfo=\"encode_copy! in copying.jl:0\" data-info=\"encode_copy! in /home/pawel/.julia/v0.6/BioSequences/src/bioseq/copying.jl:0\"/>\n",
       "<text text-anchor=\"\" x=\"449.3689567430025\" y=\"71.5\" font-size=\"12\" font-family=\"Verdana\" fill=\"rgb(0,0,0)\" ></text>\n",
       "<rect vector-effect=\"non-scaling-stroke\" x=\"448.37150127226465\" y=\"60.0\" width=\"3.0025445292620816\" height=\"15.0\" fill=\"rgb(180,211,70)\" rx=\"2\" ry=\"2\" data-shortinfo=\"encode_copy! in copying.jl:0\" data-info=\"encode_copy! in /home/pawel/.julia/v0.6/BioSequences/src/bioseq/copying.jl:0\"/>\n",
       "<text text-anchor=\"\" x=\"452.37150127226465\" y=\"71.5\" font-size=\"12\" font-family=\"Verdana\" fill=\"rgb(0,0,0)\" ></text>\n",
       "<rect vector-effect=\"non-scaling-stroke\" x=\"451.37404580152673\" y=\"60.0\" width=\"6.005089058524163\" height=\"15.0\" fill=\"rgb(255,164,156)\" rx=\"2\" ry=\"2\" data-shortinfo=\"encode_copy! in copying.jl:121\" data-info=\"encode_copy! in /home/pawel/.julia/v0.6/BioSequences/src/bioseq/copying.jl:121\"/>\n",
       "<text text-anchor=\"\" x=\"455.37404580152673\" y=\"71.5\" font-size=\"12\" font-family=\"Verdana\" fill=\"rgb(0,0,0)\" ></text>\n",
       "<rect vector-effect=\"non-scaling-stroke\" x=\"457.3791348600509\" y=\"60.0\" width=\"6.005089058524163\" height=\"15.0\" fill=\"rgb(158,158,158)\" rx=\"2\" ry=\"2\" data-shortinfo=\"encode_copy! in copying.jl:141\" data-info=\"encode_copy! in /home/pawel/.julia/v0.6/BioSequences/src/bioseq/copying.jl:141\"/>\n",
       "<text text-anchor=\"\" x=\"461.3791348600509\" y=\"71.5\" font-size=\"12\" font-family=\"Verdana\" fill=\"rgb(0,0,0)\" ></text>\n",
       "<rect vector-effect=\"non-scaling-stroke\" x=\"463.38422391857506\" y=\"60.0\" width=\"6.005089058524163\" height=\"15.0\" fill=\"rgb(205,185,255)\" rx=\"2\" ry=\"2\" data-shortinfo=\"encode_copy! in copying.jl:143\" data-info=\"encode_copy! in /home/pawel/.julia/v0.6/BioSequences/src/bioseq/copying.jl:143\"/>\n",
       "<text text-anchor=\"\" x=\"467.38422391857506\" y=\"71.5\" font-size=\"12\" font-family=\"Verdana\" fill=\"rgb(0,0,0)\" ></text>\n",
       "<rect vector-effect=\"non-scaling-stroke\" x=\"469.3893129770992\" y=\"60.0\" width=\"12.010178117048326\" height=\"15.0\" fill=\"rgb(205,185,255)\" rx=\"2\" ry=\"2\" data-shortinfo=\"encode_copy! in copying.jl:143\" data-info=\"encode_copy! in /home/pawel/.julia/v0.6/BioSequences/src/bioseq/copying.jl:143\"/>\n",
       "<text text-anchor=\"\" x=\"473.3893129770992\" y=\"71.5\" font-size=\"12\" font-family=\"Verdana\" fill=\"rgb(0,0,0)\" ></text>\n",
       "<rect vector-effect=\"non-scaling-stroke\" x=\"481.39949109414755\" y=\"60.0\" width=\"3.0025445292621384\" height=\"15.0\" fill=\"rgb(255,141,62)\" rx=\"2\" ry=\"2\" data-shortinfo=\"encode_copy! in copying.jl:144\" data-info=\"encode_copy! in /home/pawel/.julia/v0.6/BioSequences/src/bioseq/copying.jl:144\"/>\n",
       "<text text-anchor=\"\" x=\"485.39949109414755\" y=\"71.5\" font-size=\"12\" font-family=\"Verdana\" fill=\"rgb(0,0,0)\" ></text>\n",
       "<rect vector-effect=\"non-scaling-stroke\" x=\"484.4020356234097\" y=\"60.0\" width=\"9.007633587786245\" height=\"15.0\" fill=\"rgb(180,211,70)\" rx=\"2\" ry=\"2\" data-shortinfo=\"encode_copy! in copying.jl:154\" data-info=\"encode_copy! in /home/pawel/.julia/v0.6/BioSequences/src/bioseq/copying.jl:154\"/>\n",
       "<text text-anchor=\"\" x=\"488.4020356234097\" y=\"71.5\" font-size=\"12\" font-family=\"Verdana\" fill=\"rgb(0,0,0)\" ></text>\n",
       "<rect vector-effect=\"non-scaling-stroke\" x=\"493.40966921119593\" y=\"60.0\" width=\"3.0025445292620816\" height=\"15.0\" fill=\"rgb(255,164,156)\" rx=\"2\" ry=\"2\" data-shortinfo=\"encode_copy! in copying.jl:156\" data-info=\"encode_copy! in /home/pawel/.julia/v0.6/BioSequences/src/bioseq/copying.jl:156\"/>\n",
       "<text text-anchor=\"\" x=\"497.40966921119593\" y=\"71.5\" font-size=\"12\" font-family=\"Verdana\" fill=\"rgb(0,0,0)\" ></text>\n",
       "<rect vector-effect=\"non-scaling-stroke\" x=\"496.412213740458\" y=\"60.0\" width=\"3.0025445292620816\" height=\"15.0\" fill=\"rgb(158,158,158)\" rx=\"2\" ry=\"2\" data-shortinfo=\"encode_copy! in copying.jl:160\" data-info=\"encode_copy! in /home/pawel/.julia/v0.6/BioSequences/src/bioseq/copying.jl:160\"/>\n",
       "<text text-anchor=\"\" x=\"500.412213740458\" y=\"71.5\" font-size=\"12\" font-family=\"Verdana\" fill=\"rgb(0,0,0)\" ></text>\n",
       "<rect vector-effect=\"non-scaling-stroke\" x=\"499.4147582697201\" y=\"60.0\" width=\"105.08905852417308\" height=\"15.0\" fill=\"rgb(205,185,255)\" rx=\"2\" ry=\"2\" data-shortinfo=\"encode_copy! in copying.jl:161\" data-info=\"encode_copy! in /home/pawel/.julia/v0.6/BioSequences/src/bioseq/copying.jl:161\"/>\n",
       "<text text-anchor=\"\" x=\"503.4147582697201\" y=\"71.5\" font-size=\"12\" font-family=\"Verdana\" fill=\"rgb(0,0,0)\" ></text>\n",
       "<rect vector-effect=\"non-scaling-stroke\" x=\"604.5038167938932\" y=\"60.0\" width=\"6.005089058524163\" height=\"15.0\" fill=\"rgb(205,185,255)\" rx=\"2\" ry=\"2\" data-shortinfo=\"encode_copy! in copying.jl:161\" data-info=\"encode_copy! in /home/pawel/.julia/v0.6/BioSequences/src/bioseq/copying.jl:161\"/>\n",
       "<text text-anchor=\"\" x=\"608.5038167938932\" y=\"71.5\" font-size=\"12\" font-family=\"Verdana\" fill=\"rgb(0,0,0)\" ></text>\n",
       "<rect vector-effect=\"non-scaling-stroke\" x=\"610.5089058524173\" y=\"60.0\" width=\"3.0025445292620816\" height=\"15.0\" fill=\"rgb(205,185,255)\" rx=\"2\" ry=\"2\" data-shortinfo=\"encode_copy! in copying.jl:161\" data-info=\"encode_copy! in /home/pawel/.julia/v0.6/BioSequences/src/bioseq/copying.jl:161\"/>\n",
       "<text text-anchor=\"\" x=\"614.5089058524173\" y=\"71.5\" font-size=\"12\" font-family=\"Verdana\" fill=\"rgb(0,0,0)\" ></text>\n",
       "<rect vector-effect=\"non-scaling-stroke\" x=\"613.5114503816794\" y=\"60.0\" width=\"6.005089058524163\" height=\"15.0\" fill=\"rgb(205,185,255)\" rx=\"2\" ry=\"2\" data-shortinfo=\"encode_copy! in copying.jl:161\" data-info=\"encode_copy! in /home/pawel/.julia/v0.6/BioSequences/src/bioseq/copying.jl:161\"/>\n",
       "<text text-anchor=\"\" x=\"617.5114503816794\" y=\"71.5\" font-size=\"12\" font-family=\"Verdana\" fill=\"rgb(0,0,0)\" ></text>\n",
       "<rect vector-effect=\"non-scaling-stroke\" x=\"619.5165394402036\" y=\"60.0\" width=\"6.005089058524163\" height=\"15.0\" fill=\"rgb(255,141,62)\" rx=\"2\" ry=\"2\" data-shortinfo=\"encode_copy! in copying.jl:164\" data-info=\"encode_copy! in /home/pawel/.julia/v0.6/BioSequences/src/bioseq/copying.jl:164\"/>\n",
       "<text text-anchor=\"\" x=\"623.5165394402036\" y=\"71.5\" font-size=\"12\" font-family=\"Verdana\" fill=\"rgb(0,0,0)\" ></text>\n",
       "<rect vector-effect=\"non-scaling-stroke\" x=\"625.5216284987278\" y=\"60.0\" width=\"3.0025445292620816\" height=\"15.0\" fill=\"rgb(180,211,70)\" rx=\"2\" ry=\"2\" data-shortinfo=\"bitindex in indexing.jl:56; encode_copy! in copying.jl:125\" data-info=\"bitindex in /home/pawel/.julia/v0.6/BioSequences/src/bioseq/indexing.jl:56; encode_copy! in /home/pawel/.julia/v0.6/BioSequences/src/bioseq/copying.jl:125\"/>\n",
       "<text text-anchor=\"\" x=\"629.5216284987278\" y=\"71.5\" font-size=\"12\" font-family=\"Verdana\" fill=\"rgb(0,0,0)\" ></text>\n",
       "<rect vector-effect=\"non-scaling-stroke\" x=\"16.005089058524174\" y=\"45.0\" width=\"3.002544529262085\" height=\"15.0\" fill=\"rgb(232,112,221)\" rx=\"2\" ry=\"2\" data-shortinfo=\"inbounds_getindex in indexing.jl:61; cmp in sequence.jl:72\" data-info=\"inbounds_getindex in /home/pawel/.julia/v0.6/BioSequences/src/bioseq/indexing.jl:61; cmp in /home/pawel/.julia/v0.6/BioSequences/src/sequence.jl:72\"/>\n",
       "<text text-anchor=\"\" x=\"20.005089058524174\" y=\"56.5\" font-size=\"12\" font-family=\"Verdana\" fill=\"rgb(0,0,0)\" ></text>\n",
       "<rect vector-effect=\"non-scaling-stroke\" x=\"307.2519083969466\" y=\"45.0\" width=\"9.007633587786245\" height=\"15.0\" fill=\"rgb(50,180,78)\" rx=\"2\" ry=\"2\" data-shortinfo=\"readbytes! in io.jl:17\" data-info=\"readbytes! in /home/pawel/.julia/v0.6/BufferedStreams/src/io.jl:17\"/>\n",
       "<text text-anchor=\"\" x=\"311.2519083969466\" y=\"56.5\" font-size=\"12\" font-family=\"Verdana\" fill=\"rgb(0,0,0)\" ></text>\n",
       "<rect vector-effect=\"non-scaling-stroke\" x=\"451.37404580152673\" y=\"45.0\" width=\"3.0025445292620816\" height=\"15.0\" fill=\"rgb(26,162,255)\" rx=\"2\" ry=\"2\" data-shortinfo=\"orphan! in bioseq.jl:0\" data-info=\"orphan! in /home/pawel/.julia/v0.6/BioSequences/src/bioseq/bioseq.jl:0\"/>\n",
       "<text text-anchor=\"\" x=\"455.37404580152673\" y=\"56.5\" font-size=\"12\" font-family=\"Verdana\" fill=\"rgb(0,0,0)\" ></text>\n",
       "<rect vector-effect=\"non-scaling-stroke\" x=\"454.3765903307888\" y=\"45.0\" width=\"3.0025445292620816\" height=\"15.0\" fill=\"rgb(26,162,255)\" rx=\"2\" ry=\"2\" data-shortinfo=\"orphan! in bioseq.jl:0\" data-info=\"orphan! in /home/pawel/.julia/v0.6/BioSequences/src/bioseq/bioseq.jl:0\"/>\n",
       "<text text-anchor=\"\" x=\"458.3765903307888\" y=\"56.5\" font-size=\"12\" font-family=\"Verdana\" fill=\"rgb(0,0,0)\" ></text>\n",
       "<rect vector-effect=\"non-scaling-stroke\" x=\"499.4147582697201\" y=\"45.0\" width=\"3.0025445292620816\" height=\"15.0\" fill=\"rgb(210,165,23)\" rx=\"2\" ry=\"2\" data-shortinfo=\"indexed_next in tuple.jl:56; encoded_setindex! in indexing.jl:140; unsafe_setindex! in indexing.jl:136; setindex! in indexing.jl:107\" data-info=\"indexed_next in ./tuple.jl:56; encoded_setindex! in /home/pawel/.julia/v0.6/BioSequences/src/bioseq/indexing.jl:140; unsafe_setindex! in /home/pawel/.julia/v0.6/BioSequences/src/bioseq/indexing.jl:136; setindex! in /home/pawel/.julia/v0.6/BioSequences/src/bioseq/indexing.jl:107\"/>\n",
       "<text text-anchor=\"\" x=\"503.4147582697201\" y=\"56.5\" font-size=\"12\" font-family=\"Verdana\" fill=\"rgb(0,0,0)\" ></text>\n",
       "<rect vector-effect=\"non-scaling-stroke\" x=\"502.4173027989822\" y=\"45.0\" width=\"3.0025445292620816\" height=\"15.0\" fill=\"rgb(210,165,23)\" rx=\"2\" ry=\"2\" data-shortinfo=\"indexed_next in tuple.jl:56; encoded_setindex! in indexing.jl:140; unsafe_setindex! in indexing.jl:136; setindex! in indexing.jl:107\" data-info=\"indexed_next in ./tuple.jl:56; encoded_setindex! in /home/pawel/.julia/v0.6/BioSequences/src/bioseq/indexing.jl:140; unsafe_setindex! in /home/pawel/.julia/v0.6/BioSequences/src/bioseq/indexing.jl:136; setindex! in /home/pawel/.julia/v0.6/BioSequences/src/bioseq/indexing.jl:107\"/>\n",
       "<text text-anchor=\"\" x=\"506.4173027989822\" y=\"56.5\" font-size=\"12\" font-family=\"Verdana\" fill=\"rgb(0,0,0)\" ></text>\n",
       "<rect vector-effect=\"non-scaling-stroke\" x=\"505.41984732824426\" y=\"45.0\" width=\"3.0025445292620816\" height=\"15.0\" fill=\"rgb(0,222,230)\" rx=\"2\" ry=\"2\" data-shortinfo=\"length in bioseq.jl:65\" data-info=\"length in /home/pawel/.julia/v0.6/BioSequences/src/bioseq/bioseq.jl:65\"/>\n",
       "<text text-anchor=\"\" x=\"509.41984732824426\" y=\"56.5\" font-size=\"12\" font-family=\"Verdana\" fill=\"rgb(0,0,0)\" ></text>\n",
       "<rect vector-effect=\"non-scaling-stroke\" x=\"508.42239185750634\" y=\"45.0\" width=\"3.0025445292620816\" height=\"15.0\" fill=\"rgb(232,112,221)\" rx=\"2\" ry=\"2\" data-shortinfo=\"encoded_setindex! in indexing.jl:141; unsafe_setindex! in indexing.jl:136; setindex! in indexing.jl:107\" data-info=\"encoded_setindex! in /home/pawel/.julia/v0.6/BioSequences/src/bioseq/indexing.jl:141; unsafe_setindex! in /home/pawel/.julia/v0.6/BioSequences/src/bioseq/indexing.jl:136; setindex! in /home/pawel/.julia/v0.6/BioSequences/src/bioseq/indexing.jl:107\"/>\n",
       "<text text-anchor=\"\" x=\"512.4223918575063\" y=\"56.5\" font-size=\"12\" font-family=\"Verdana\" fill=\"rgb(0,0,0)\" ></text>\n",
       "<rect vector-effect=\"non-scaling-stroke\" x=\"511.4249363867684\" y=\"45.0\" width=\"9.007633587786358\" height=\"15.0\" fill=\"rgb(232,112,221)\" rx=\"2\" ry=\"2\" data-shortinfo=\"encoded_setindex! in indexing.jl:141; unsafe_setindex! in indexing.jl:136; setindex! in indexing.jl:107\" data-info=\"encoded_setindex! in /home/pawel/.julia/v0.6/BioSequences/src/bioseq/indexing.jl:141; unsafe_setindex! in /home/pawel/.julia/v0.6/BioSequences/src/bioseq/indexing.jl:136; setindex! in /home/pawel/.julia/v0.6/BioSequences/src/bioseq/indexing.jl:107\"/>\n",
       "<text text-anchor=\"\" x=\"515.4249363867684\" y=\"56.5\" font-size=\"12\" font-family=\"Verdana\" fill=\"rgb(0,0,0)\" ></text>\n",
       "<rect vector-effect=\"non-scaling-stroke\" x=\"520.4325699745548\" y=\"45.0\" width=\"3.002544529261968\" height=\"15.0\" fill=\"rgb(232,112,221)\" rx=\"2\" ry=\"2\" data-shortinfo=\"encoded_setindex! in indexing.jl:141; unsafe_setindex! in indexing.jl:136; setindex! in indexing.jl:107\" data-info=\"encoded_setindex! in /home/pawel/.julia/v0.6/BioSequences/src/bioseq/indexing.jl:141; unsafe_setindex! in /home/pawel/.julia/v0.6/BioSequences/src/bioseq/indexing.jl:136; setindex! in /home/pawel/.julia/v0.6/BioSequences/src/bioseq/indexing.jl:107\"/>\n",
       "<text text-anchor=\"\" x=\"524.4325699745548\" y=\"56.5\" font-size=\"12\" font-family=\"Verdana\" fill=\"rgb(0,0,0)\" ></text>\n",
       "<rect vector-effect=\"non-scaling-stroke\" x=\"523.4351145038167\" y=\"45.0\" width=\"3.0025445292620816\" height=\"15.0\" fill=\"rgb(232,112,221)\" rx=\"2\" ry=\"2\" data-shortinfo=\"encoded_setindex! in indexing.jl:141; unsafe_setindex! in indexing.jl:136; setindex! in indexing.jl:107\" data-info=\"encoded_setindex! in /home/pawel/.julia/v0.6/BioSequences/src/bioseq/indexing.jl:141; unsafe_setindex! in /home/pawel/.julia/v0.6/BioSequences/src/bioseq/indexing.jl:136; setindex! in /home/pawel/.julia/v0.6/BioSequences/src/bioseq/indexing.jl:107\"/>\n",
       "<text text-anchor=\"\" x=\"527.4351145038167\" y=\"56.5\" font-size=\"12\" font-family=\"Verdana\" fill=\"rgb(0,0,0)\" ></text>\n",
       "<rect vector-effect=\"non-scaling-stroke\" x=\"526.4376590330788\" y=\"45.0\" width=\"3.0025445292620816\" height=\"15.0\" fill=\"rgb(50,180,78)\" rx=\"2\" ry=\"2\" data-shortinfo=\"setindex! in indexing.jl:0\" data-info=\"setindex! in /home/pawel/.julia/v0.6/BioSequences/src/bioseq/indexing.jl:0\"/>\n",
       "<text text-anchor=\"\" x=\"530.4376590330788\" y=\"56.5\" font-size=\"12\" font-family=\"Verdana\" fill=\"rgb(0,0,0)\" ></text>\n",
       "<rect vector-effect=\"non-scaling-stroke\" x=\"529.4402035623409\" y=\"45.0\" width=\"3.0025445292620816\" height=\"15.0\" fill=\"rgb(50,180,78)\" rx=\"2\" ry=\"2\" data-shortinfo=\"setindex! in indexing.jl:0\" data-info=\"setindex! in /home/pawel/.julia/v0.6/BioSequences/src/bioseq/indexing.jl:0\"/>\n",
       "<text text-anchor=\"\" x=\"533.4402035623409\" y=\"56.5\" font-size=\"12\" font-family=\"Verdana\" fill=\"rgb(0,0,0)\" ></text>\n",
       "<rect vector-effect=\"non-scaling-stroke\" x=\"532.442748091603\" y=\"45.0\" width=\"39.033078880407174\" height=\"15.0\" fill=\"rgb(26,162,255)\" rx=\"2\" ry=\"2\" data-shortinfo=\"setindex! in indexing.jl:106\" data-info=\"setindex! in /home/pawel/.julia/v0.6/BioSequences/src/bioseq/indexing.jl:106\"/>\n",
       "<text text-anchor=\"\" x=\"536.442748091603\" y=\"56.5\" font-size=\"12\" font-family=\"Verdana\" fill=\"rgb(0,0,0)\" ></text>\n",
       "<rect vector-effect=\"non-scaling-stroke\" x=\"571.4758269720102\" y=\"45.0\" width=\"6.005089058524163\" height=\"15.0\" fill=\"rgb(26,162,255)\" rx=\"2\" ry=\"2\" data-shortinfo=\"setindex! in indexing.jl:106\" data-info=\"setindex! in /home/pawel/.julia/v0.6/BioSequences/src/bioseq/indexing.jl:106\"/>\n",
       "<text text-anchor=\"\" x=\"575.4758269720102\" y=\"56.5\" font-size=\"12\" font-family=\"Verdana\" fill=\"rgb(0,0,0)\" ></text>\n",
       "<rect vector-effect=\"non-scaling-stroke\" x=\"577.4809160305343\" y=\"45.0\" width=\"6.005089058524163\" height=\"15.0\" fill=\"rgb(210,165,23)\" rx=\"2\" ry=\"2\" data-shortinfo=\"setindex! in indexing.jl:107\" data-info=\"setindex! in /home/pawel/.julia/v0.6/BioSequences/src/bioseq/indexing.jl:107\"/>\n",
       "<text text-anchor=\"\" x=\"581.4809160305343\" y=\"56.5\" font-size=\"12\" font-family=\"Verdana\" fill=\"rgb(0,0,0)\" ></text>\n",
       "<rect vector-effect=\"non-scaling-stroke\" x=\"583.4860050890585\" y=\"45.0\" width=\"3.0025445292620816\" height=\"15.0\" fill=\"rgb(210,165,23)\" rx=\"2\" ry=\"2\" data-shortinfo=\"setindex! in indexing.jl:107\" data-info=\"setindex! in /home/pawel/.julia/v0.6/BioSequences/src/bioseq/indexing.jl:107\"/>\n",
       "<text text-anchor=\"\" x=\"587.4860050890585\" y=\"56.5\" font-size=\"12\" font-family=\"Verdana\" fill=\"rgb(0,0,0)\" ></text>\n",
       "<rect vector-effect=\"non-scaling-stroke\" x=\"586.4885496183206\" y=\"45.0\" width=\"3.0025445292620816\" height=\"15.0\" fill=\"rgb(0,222,230)\" rx=\"2\" ry=\"2\" data-shortinfo=\"checkbounds in sequence.jl:33; setindex! in indexing.jl:105\" data-info=\"checkbounds in /home/pawel/.julia/v0.6/BioSequences/src/sequence.jl:33; setindex! in /home/pawel/.julia/v0.6/BioSequences/src/bioseq/indexing.jl:105\"/>\n",
       "<text text-anchor=\"\" x=\"590.4885496183206\" y=\"56.5\" font-size=\"12\" font-family=\"Verdana\" fill=\"rgb(0,0,0)\" ></text>\n",
       "<rect vector-effect=\"non-scaling-stroke\" x=\"589.4910941475827\" y=\"45.0\" width=\"3.0025445292620816\" height=\"15.0\" fill=\"rgb(0,222,230)\" rx=\"2\" ry=\"2\" data-shortinfo=\"checkbounds in sequence.jl:33; setindex! in indexing.jl:105\" data-info=\"checkbounds in /home/pawel/.julia/v0.6/BioSequences/src/sequence.jl:33; setindex! in /home/pawel/.julia/v0.6/BioSequences/src/bioseq/indexing.jl:105\"/>\n",
       "<text text-anchor=\"\" x=\"593.4910941475827\" y=\"56.5\" font-size=\"12\" font-family=\"Verdana\" fill=\"rgb(0,0,0)\" ></text>\n",
       "<rect vector-effect=\"non-scaling-stroke\" x=\"592.4936386768447\" y=\"45.0\" width=\"6.005089058524163\" height=\"15.0\" fill=\"rgb(232,112,221)\" rx=\"2\" ry=\"2\" data-shortinfo=\" in :-1\" data-info=\" in :-1\"/>\n",
       "<text text-anchor=\"\" x=\"596.4936386768447\" y=\"56.5\" font-size=\"12\" font-family=\"Verdana\" fill=\"rgb(0,0,0)\" ></text>\n",
       "<rect vector-effect=\"non-scaling-stroke\" x=\"532.442748091603\" y=\"30.0\" width=\"3.0025445292621953\" height=\"15.0\" fill=\"rgb(255,164,156)\" rx=\"2\" ry=\"2\" data-shortinfo=\"orphan! in bioseq.jl:0\" data-info=\"orphan! in /home/pawel/.julia/v0.6/BioSequences/src/bioseq/bioseq.jl:0\"/>\n",
       "<text text-anchor=\"\" x=\"536.442748091603\" y=\"41.5\" font-size=\"12\" font-family=\"Verdana\" fill=\"rgb(0,0,0)\" ></text>\n",
       "<rect vector-effect=\"non-scaling-stroke\" x=\"535.4452926208652\" y=\"30.0\" width=\"3.0025445292620816\" height=\"15.0\" fill=\"rgb(255,164,156)\" rx=\"2\" ry=\"2\" data-shortinfo=\"orphan! in bioseq.jl:0\" data-info=\"orphan! in /home/pawel/.julia/v0.6/BioSequences/src/bioseq/bioseq.jl:0\"/>\n",
       "<text text-anchor=\"\" x=\"539.4452926208652\" y=\"41.5\" font-size=\"12\" font-family=\"Verdana\" fill=\"rgb(0,0,0)\" ></text>\n",
       "<rect vector-effect=\"non-scaling-stroke\" x=\"538.4478371501273\" y=\"30.0\" width=\"6.005089058524163\" height=\"15.0\" fill=\"rgb(255,164,156)\" rx=\"2\" ry=\"2\" data-shortinfo=\"orphan! in bioseq.jl:0\" data-info=\"orphan! in /home/pawel/.julia/v0.6/BioSequences/src/bioseq/bioseq.jl:0\"/>\n",
       "<text text-anchor=\"\" x=\"542.4478371501273\" y=\"41.5\" font-size=\"12\" font-family=\"Verdana\" fill=\"rgb(0,0,0)\" ></text>\n",
       "<rect vector-effect=\"non-scaling-stroke\" x=\"544.4529262086514\" y=\"30.0\" width=\"3.0025445292620816\" height=\"15.0\" fill=\"rgb(255,164,156)\" rx=\"2\" ry=\"2\" data-shortinfo=\"orphan! in bioseq.jl:0\" data-info=\"orphan! in /home/pawel/.julia/v0.6/BioSequences/src/bioseq/bioseq.jl:0\"/>\n",
       "<text text-anchor=\"\" x=\"548.4529262086514\" y=\"41.5\" font-size=\"12\" font-family=\"Verdana\" fill=\"rgb(0,0,0)\" ></text>\n",
       "<rect vector-effect=\"non-scaling-stroke\" x=\"547.4554707379135\" y=\"30.0\" width=\"6.005089058524163\" height=\"15.0\" fill=\"rgb(255,164,156)\" rx=\"2\" ry=\"2\" data-shortinfo=\"orphan! in bioseq.jl:0\" data-info=\"orphan! in /home/pawel/.julia/v0.6/BioSequences/src/bioseq/bioseq.jl:0\"/>\n",
       "<text text-anchor=\"\" x=\"551.4554707379135\" y=\"41.5\" font-size=\"12\" font-family=\"Verdana\" fill=\"rgb(0,0,0)\" ></text>\n",
       "<rect vector-effect=\"non-scaling-stroke\" x=\"553.4605597964377\" y=\"30.0\" width=\"3.0025445292620816\" height=\"15.0\" fill=\"rgb(255,164,156)\" rx=\"2\" ry=\"2\" data-shortinfo=\"orphan! in bioseq.jl:0\" data-info=\"orphan! in /home/pawel/.julia/v0.6/BioSequences/src/bioseq/bioseq.jl:0\"/>\n",
       "<text text-anchor=\"\" x=\"557.4605597964377\" y=\"41.5\" font-size=\"12\" font-family=\"Verdana\" fill=\"rgb(0,0,0)\" ></text>\n",
       "<rect vector-effect=\"non-scaling-stroke\" x=\"556.4631043256998\" y=\"30.0\" width=\"3.0025445292620816\" height=\"15.0\" fill=\"rgb(255,164,156)\" rx=\"2\" ry=\"2\" data-shortinfo=\"orphan! in bioseq.jl:0\" data-info=\"orphan! in /home/pawel/.julia/v0.6/BioSequences/src/bioseq/bioseq.jl:0\"/>\n",
       "<text text-anchor=\"\" x=\"560.4631043256998\" y=\"41.5\" font-size=\"12\" font-family=\"Verdana\" fill=\"rgb(0,0,0)\" ></text>\n",
       "<rect vector-effect=\"non-scaling-stroke\" x=\"559.4656488549618\" y=\"30.0\" width=\"9.007633587786245\" height=\"15.0\" fill=\"rgb(255,164,156)\" rx=\"2\" ry=\"2\" data-shortinfo=\"orphan! in bioseq.jl:0\" data-info=\"orphan! in /home/pawel/.julia/v0.6/BioSequences/src/bioseq/bioseq.jl:0\"/>\n",
       "<text text-anchor=\"\" x=\"563.4656488549618\" y=\"41.5\" font-size=\"12\" font-family=\"Verdana\" fill=\"rgb(0,0,0)\" ></text>\n",
       "<rect vector-effect=\"non-scaling-stroke\" x=\"568.4732824427481\" y=\"30.0\" width=\"3.0025445292620816\" height=\"15.0\" fill=\"rgb(158,158,158)\" rx=\"2\" ry=\"2\" data-shortinfo=\"orphan! in bioseq.jl:77\" data-info=\"orphan! in /home/pawel/.julia/v0.6/BioSequences/src/bioseq/bioseq.jl:77\"/>\n",
       "<text text-anchor=\"\" x=\"572.4732824427481\" y=\"41.5\" font-size=\"12\" font-family=\"Verdana\" fill=\"rgb(0,0,0)\" ></text>\n",
       "<rect vector-effect=\"non-scaling-stroke\" x=\"571.4758269720102\" y=\"30.0\" width=\"3.0025445292620816\" height=\"15.0\" fill=\"rgb(205,185,255)\" rx=\"2\" ry=\"2\" data-shortinfo=\"checked_add in checked.jl:165; length in range.jl:393; length in bioseq.jl:65\" data-info=\"checked_add in ./checked.jl:165; length in ./range.jl:393; length in /home/pawel/.julia/v0.6/BioSequences/src/bioseq/bioseq.jl:65\"/>\n",
       "<text text-anchor=\"\" x=\"575.4758269720102\" y=\"41.5\" font-size=\"12\" font-family=\"Verdana\" fill=\"rgb(0,0,0)\" ></text>\n",
       "<rect vector-effect=\"non-scaling-stroke\" x=\"574.4783715012722\" y=\"30.0\" width=\"3.0025445292620816\" height=\"15.0\" fill=\"rgb(255,141,62)\" rx=\"2\" ry=\"2\" data-shortinfo=\"checked_sub in checked.jl:221; length in range.jl:393; length in bioseq.jl:65\" data-info=\"checked_sub in ./checked.jl:221; length in ./range.jl:393; length in /home/pawel/.julia/v0.6/BioSequences/src/bioseq/bioseq.jl:65\"/>\n",
       "<text text-anchor=\"\" x=\"578.4783715012722\" y=\"41.5\" font-size=\"12\" font-family=\"Verdana\" fill=\"rgb(0,0,0)\" ></text>\n",
       "<rect vector-effect=\"non-scaling-stroke\" x=\"586.4885496183206\" y=\"30.0\" width=\"3.0025445292620816\" height=\"15.0\" fill=\"rgb(180,211,70)\" rx=\"2\" ry=\"2\" data-shortinfo=\"length in bioseq.jl:0\" data-info=\"length in /home/pawel/.julia/v0.6/BioSequences/src/bioseq/bioseq.jl:0\"/>\n",
       "<text text-anchor=\"\" x=\"590.4885496183206\" y=\"41.5\" font-size=\"12\" font-family=\"Verdana\" fill=\"rgb(0,0,0)\" ></text>\n",
       "    </g></g>\n",
       "    <script><![CDATA[(function(N){var k=/[\\.\\/]/,L=/\\s*,\\s*/,C=function(a,d){return a-d},a,v,y={n:{}},M=function(){for(var a=0,d=this.length;a<d;a++)if(\"undefined\"!=typeof this[a])return this[a]},A=function(){for(var a=this.length;--a;)if(\"undefined\"!=typeof this[a])return this[a]},w=function(k,d){k=String(k);var f=v,n=Array.prototype.slice.call(arguments,2),u=w.listeners(k),p=0,b,q=[],e={},l=[],r=a;l.firstDefined=M;l.lastDefined=A;a=k;for(var s=v=0,x=u.length;s<x;s++)\"zIndex\"in u[s]&&(q.push(u[s].zIndex),0>u[s].zIndex&&\n",
       "(e[u[s].zIndex]=u[s]));for(q.sort(C);0>q[p];)if(b=e[q[p++] ],l.push(b.apply(d,n)),v)return v=f,l;for(s=0;s<x;s++)if(b=u[s],\"zIndex\"in b)if(b.zIndex==q[p]){l.push(b.apply(d,n));if(v)break;do if(p++,(b=e[q[p] ])&&l.push(b.apply(d,n)),v)break;while(b)}else e[b.zIndex]=b;else if(l.push(b.apply(d,n)),v)break;v=f;a=r;return l};w._events=y;w.listeners=function(a){a=a.split(k);var d=y,f,n,u,p,b,q,e,l=[d],r=[];u=0;for(p=a.length;u<p;u++){e=[];b=0;for(q=l.length;b<q;b++)for(d=l[b].n,f=[d[a[u] ],d[\"*\"] ],n=2;n--;)if(d=\n",
       "f[n])e.push(d),r=r.concat(d.f||[]);l=e}return r};w.on=function(a,d){a=String(a);if(\"function\"!=typeof d)return function(){};for(var f=a.split(L),n=0,u=f.length;n<u;n++)(function(a){a=a.split(k);for(var b=y,f,e=0,l=a.length;e<l;e++)b=b.n,b=b.hasOwnProperty(a[e])&&b[a[e] ]||(b[a[e] ]={n:{}});b.f=b.f||[];e=0;for(l=b.f.length;e<l;e++)if(b.f[e]==d){f=!0;break}!f&&b.f.push(d)})(f[n]);return function(a){+a==+a&&(d.zIndex=+a)}};w.f=function(a){var d=[].slice.call(arguments,1);return function(){w.apply(null,\n",
       "[a,null].concat(d).concat([].slice.call(arguments,0)))}};w.stop=function(){v=1};w.nt=function(k){return k?(new RegExp(\"(?:\\\\.|\\\\/|^)\"+k+\"(?:\\\\.|\\\\/|$)\")).test(a):a};w.nts=function(){return a.split(k)};w.off=w.unbind=function(a,d){if(a){var f=a.split(L);if(1<f.length)for(var n=0,u=f.length;n<u;n++)w.off(f[n],d);else{for(var f=a.split(k),p,b,q,e,l=[y],n=0,u=f.length;n<u;n++)for(e=0;e<l.length;e+=q.length-2){q=[e,1];p=l[e].n;if(\"*\"!=f[n])p[f[n] ]&&q.push(p[f[n] ]);else for(b in p)p.hasOwnProperty(b)&&\n",
       "q.push(p[b]);l.splice.apply(l,q)}n=0;for(u=l.length;n<u;n++)for(p=l[n];p.n;){if(d){if(p.f){e=0;for(f=p.f.length;e<f;e++)if(p.f[e]==d){p.f.splice(e,1);break}!p.f.length&&delete p.f}for(b in p.n)if(p.n.hasOwnProperty(b)&&p.n[b].f){q=p.n[b].f;e=0;for(f=q.length;e<f;e++)if(q[e]==d){q.splice(e,1);break}!q.length&&delete p.n[b].f}}else for(b in delete p.f,p.n)p.n.hasOwnProperty(b)&&p.n[b].f&&delete p.n[b].f;p=p.n}}}else w._events=y={n:{}}};w.once=function(a,d){var f=function(){w.unbind(a,f);return d.apply(this,\n",
       "arguments)};return w.on(a,f)};w.version=\"0.4.2\";w.toString=function(){return\"You are running Eve 0.4.2\"};\"undefined\"!=typeof module&&module.exports?module.exports=w:\"function\"===typeof define&&define.amd?define(\"eve\",[],function(){return w}):N.eve=w})(this);\n",
       "(function(N,k){\"function\"===typeof define&&define.amd?define(\"Snap.svg\",[\"eve\"],function(L){return k(N,L)}):k(N,N.eve)})(this,function(N,k){var L=function(a){var k={},y=N.requestAnimationFrame||N.webkitRequestAnimationFrame||N.mozRequestAnimationFrame||N.oRequestAnimationFrame||N.msRequestAnimationFrame||function(a){setTimeout(a,16)},M=Array.isArray||function(a){return a instanceof Array||\"[object Array]\"==Object.prototype.toString.call(a)},A=0,w=\"M\"+(+new Date).toString(36),z=function(a){if(null==\n",
       "a)return this.s;var b=this.s-a;this.b+=this.dur*b;this.B+=this.dur*b;this.s=a},d=function(a){if(null==a)return this.spd;this.spd=a},f=function(a){if(null==a)return this.dur;this.s=this.s*a/this.dur;this.dur=a},n=function(){delete k[this.id];this.update();a(\"mina.stop.\"+this.id,this)},u=function(){this.pdif||(delete k[this.id],this.update(),this.pdif=this.get()-this.b)},p=function(){this.pdif&&(this.b=this.get()-this.pdif,delete this.pdif,k[this.id]=this)},b=function(){var a;if(M(this.start)){a=[];\n",
       "for(var b=0,e=this.start.length;b<e;b++)a[b]=+this.start[b]+(this.end[b]-this.start[b])*this.easing(this.s)}else a=+this.start+(this.end-this.start)*this.easing(this.s);this.set(a)},q=function(){var l=0,b;for(b in k)if(k.hasOwnProperty(b)){var e=k[b],f=e.get();l++;e.s=(f-e.b)/(e.dur/e.spd);1<=e.s&&(delete k[b],e.s=1,l--,function(b){setTimeout(function(){a(\"mina.finish.\"+b.id,b)})}(e));e.update()}l&&y(q)},e=function(a,r,s,x,G,h,J){a={id:w+(A++).toString(36),start:a,end:r,b:s,s:0,dur:x-s,spd:1,get:G,\n",
       "set:h,easing:J||e.linear,status:z,speed:d,duration:f,stop:n,pause:u,resume:p,update:b};k[a.id]=a;r=0;for(var K in k)if(k.hasOwnProperty(K)&&(r++,2==r))break;1==r&&y(q);return a};e.time=Date.now||function(){return+new Date};e.getById=function(a){return k[a]||null};e.linear=function(a){return a};e.easeout=function(a){return Math.pow(a,1.7)};e.easein=function(a){return Math.pow(a,0.48)};e.easeinout=function(a){if(1==a)return 1;if(0==a)return 0;var b=0.48-a/1.04,e=Math.sqrt(0.1734+b*b);a=e-b;a=Math.pow(Math.abs(a),\n",
       "1/3)*(0>a?-1:1);b=-e-b;b=Math.pow(Math.abs(b),1/3)*(0>b?-1:1);a=a+b+0.5;return 3*(1-a)*a*a+a*a*a};e.backin=function(a){return 1==a?1:a*a*(2.70158*a-1.70158)};e.backout=function(a){if(0==a)return 0;a-=1;return a*a*(2.70158*a+1.70158)+1};e.elastic=function(a){return a==!!a?a:Math.pow(2,-10*a)*Math.sin(2*(a-0.075)*Math.PI/0.3)+1};e.bounce=function(a){a<1/2.75?a*=7.5625*a:a<2/2.75?(a-=1.5/2.75,a=7.5625*a*a+0.75):a<2.5/2.75?(a-=2.25/2.75,a=7.5625*a*a+0.9375):(a-=2.625/2.75,a=7.5625*a*a+0.984375);return a};\n",
       "return N.mina=e}(\"undefined\"==typeof k?function(){}:k),C=function(){function a(c,t){if(c){if(c.tagName)return x(c);if(y(c,\"array\")&&a.set)return a.set.apply(a,c);if(c instanceof e)return c;if(null==t)return c=G.doc.querySelector(c),x(c)}return new s(null==c?\"100%\":c,null==t?\"100%\":t)}function v(c,a){if(a){\"#text\"==c&&(c=G.doc.createTextNode(a.text||\"\"));\"string\"==typeof c&&(c=v(c));if(\"string\"==typeof a)return\"xlink:\"==a.substring(0,6)?c.getAttributeNS(m,a.substring(6)):\"xml:\"==a.substring(0,4)?c.getAttributeNS(la,\n",
       "a.substring(4)):c.getAttribute(a);for(var da in a)if(a[h](da)){var b=J(a[da]);b?\"xlink:\"==da.substring(0,6)?c.setAttributeNS(m,da.substring(6),b):\"xml:\"==da.substring(0,4)?c.setAttributeNS(la,da.substring(4),b):c.setAttribute(da,b):c.removeAttribute(da)}}else c=G.doc.createElementNS(la,c);return c}function y(c,a){a=J.prototype.toLowerCase.call(a);return\"finite\"==a?isFinite(c):\"array\"==a&&(c instanceof Array||Array.isArray&&Array.isArray(c))?!0:\"null\"==a&&null===c||a==typeof c&&null!==c||\"object\"==\n",
       "a&&c===Object(c)||$.call(c).slice(8,-1).toLowerCase()==a}function M(c){if(\"function\"==typeof c||Object(c)!==c)return c;var a=new c.constructor,b;for(b in c)c[h](b)&&(a[b]=M(c[b]));return a}function A(c,a,b){function m(){var e=Array.prototype.slice.call(arguments,0),f=e.join(\"\\u2400\"),d=m.cache=m.cache||{},l=m.count=m.count||[];if(d[h](f)){a:for(var e=l,l=f,B=0,H=e.length;B<H;B++)if(e[B]===l){e.push(e.splice(B,1)[0]);break a}return b?b(d[f]):d[f]}1E3<=l.length&&delete d[l.shift()];l.push(f);d[f]=c.apply(a,\n",
       "e);return b?b(d[f]):d[f]}return m}function w(c,a,b,m,e,f){return null==e?(c-=b,a-=m,c||a?(180*I.atan2(-a,-c)/C+540)%360:0):w(c,a,e,f)-w(b,m,e,f)}function z(c){return c%360*C/180}function d(c){var a=[];c=c.replace(/(?:^|\\s)(\\w+)\\(([^)]+)\\)/g,function(c,b,m){m=m.split(/\\s*,\\s*|\\s+/);\"rotate\"==b&&1==m.length&&m.push(0,0);\"scale\"==b&&(2<m.length?m=m.slice(0,2):2==m.length&&m.push(0,0),1==m.length&&m.push(m[0],0,0));\"skewX\"==b?a.push([\"m\",1,0,I.tan(z(m[0])),1,0,0]):\"skewY\"==b?a.push([\"m\",1,I.tan(z(m[0])),\n",
       "0,1,0,0]):a.push([b.charAt(0)].concat(m));return c});return a}function f(c,t){var b=O(c),m=new a.Matrix;if(b)for(var e=0,f=b.length;e<f;e++){var h=b[e],d=h.length,B=J(h[0]).toLowerCase(),H=h[0]!=B,l=H?m.invert():0,E;\"t\"==B&&2==d?m.translate(h[1],0):\"t\"==B&&3==d?H?(d=l.x(0,0),B=l.y(0,0),H=l.x(h[1],h[2]),l=l.y(h[1],h[2]),m.translate(H-d,l-B)):m.translate(h[1],h[2]):\"r\"==B?2==d?(E=E||t,m.rotate(h[1],E.x+E.width/2,E.y+E.height/2)):4==d&&(H?(H=l.x(h[2],h[3]),l=l.y(h[2],h[3]),m.rotate(h[1],H,l)):m.rotate(h[1],\n",
       "h[2],h[3])):\"s\"==B?2==d||3==d?(E=E||t,m.scale(h[1],h[d-1],E.x+E.width/2,E.y+E.height/2)):4==d?H?(H=l.x(h[2],h[3]),l=l.y(h[2],h[3]),m.scale(h[1],h[1],H,l)):m.scale(h[1],h[1],h[2],h[3]):5==d&&(H?(H=l.x(h[3],h[4]),l=l.y(h[3],h[4]),m.scale(h[1],h[2],H,l)):m.scale(h[1],h[2],h[3],h[4])):\"m\"==B&&7==d&&m.add(h[1],h[2],h[3],h[4],h[5],h[6])}return m}function n(c,t){if(null==t){var m=!0;t=\"linearGradient\"==c.type||\"radialGradient\"==c.type?c.node.getAttribute(\"gradientTransform\"):\"pattern\"==c.type?c.node.getAttribute(\"patternTransform\"):\n",
       "c.node.getAttribute(\"transform\");if(!t)return new a.Matrix;t=d(t)}else t=a._.rgTransform.test(t)?J(t).replace(/\\.{3}|\\u2026/g,c._.transform||aa):d(t),y(t,\"array\")&&(t=a.path?a.path.toString.call(t):J(t)),c._.transform=t;var b=f(t,c.getBBox(1));if(m)return b;c.matrix=b}function u(c){c=c.node.ownerSVGElement&&x(c.node.ownerSVGElement)||c.node.parentNode&&x(c.node.parentNode)||a.select(\"svg\")||a(0,0);var t=c.select(\"defs\"),t=null==t?!1:t.node;t||(t=r(\"defs\",c.node).node);return t}function p(c){return c.node.ownerSVGElement&&\n",
       "x(c.node.ownerSVGElement)||a.select(\"svg\")}function b(c,a,m){function b(c){if(null==c)return aa;if(c==+c)return c;v(B,{width:c});try{return B.getBBox().width}catch(a){return 0}}function h(c){if(null==c)return aa;if(c==+c)return c;v(B,{height:c});try{return B.getBBox().height}catch(a){return 0}}function e(b,B){null==a?d[b]=B(c.attr(b)||0):b==a&&(d=B(null==m?c.attr(b)||0:m))}var f=p(c).node,d={},B=f.querySelector(\".svg---mgr\");B||(B=v(\"rect\"),v(B,{x:-9E9,y:-9E9,width:10,height:10,\"class\":\"svg---mgr\",\n",
       "fill:\"none\"}),f.appendChild(B));switch(c.type){case \"rect\":e(\"rx\",b),e(\"ry\",h);case \"image\":e(\"width\",b),e(\"height\",h);case \"text\":e(\"x\",b);e(\"y\",h);break;case \"circle\":e(\"cx\",b);e(\"cy\",h);e(\"r\",b);break;case \"ellipse\":e(\"cx\",b);e(\"cy\",h);e(\"rx\",b);e(\"ry\",h);break;case \"line\":e(\"x1\",b);e(\"x2\",b);e(\"y1\",h);e(\"y2\",h);break;case \"marker\":e(\"refX\",b);e(\"markerWidth\",b);e(\"refY\",h);e(\"markerHeight\",h);break;case \"radialGradient\":e(\"fx\",b);e(\"fy\",h);break;case \"tspan\":e(\"dx\",b);e(\"dy\",h);break;default:e(a,\n",
       "b)}f.removeChild(B);return d}function q(c){y(c,\"array\")||(c=Array.prototype.slice.call(arguments,0));for(var a=0,b=0,m=this.node;this[a];)delete this[a++];for(a=0;a<c.length;a++)\"set\"==c[a].type?c[a].forEach(function(c){m.appendChild(c.node)}):m.appendChild(c[a].node);for(var h=m.childNodes,a=0;a<h.length;a++)this[b++]=x(h[a]);return this}function e(c){if(c.snap in E)return E[c.snap];var a=this.id=V(),b;try{b=c.ownerSVGElement}catch(m){}this.node=c;b&&(this.paper=new s(b));this.type=c.tagName;this.anims=\n",
       "{};this._={transform:[]};c.snap=a;E[a]=this;\"g\"==this.type&&(this.add=q);if(this.type in{g:1,mask:1,pattern:1})for(var e in s.prototype)s.prototype[h](e)&&(this[e]=s.prototype[e])}function l(c){this.node=c}function r(c,a){var b=v(c);a.appendChild(b);return x(b)}function s(c,a){var b,m,f,d=s.prototype;if(c&&\"svg\"==c.tagName){if(c.snap in E)return E[c.snap];var l=c.ownerDocument;b=new e(c);m=c.getElementsByTagName(\"desc\")[0];f=c.getElementsByTagName(\"defs\")[0];m||(m=v(\"desc\"),m.appendChild(l.createTextNode(\"Created with Snap\")),\n",
       "b.node.appendChild(m));f||(f=v(\"defs\"),b.node.appendChild(f));b.defs=f;for(var ca in d)d[h](ca)&&(b[ca]=d[ca]);b.paper=b.root=b}else b=r(\"svg\",G.doc.body),v(b.node,{height:a,version:1.1,width:c,xmlns:la});return b}function x(c){return!c||c instanceof e||c instanceof l?c:c.tagName&&\"svg\"==c.tagName.toLowerCase()?new s(c):c.tagName&&\"object\"==c.tagName.toLowerCase()&&\"image/svg+xml\"==c.type?new s(c.contentDocument.getElementsByTagName(\"svg\")[0]):new e(c)}a.version=\"0.3.0\";a.toString=function(){return\"Snap v\"+\n",
       "this.version};a._={};var G={win:N,doc:N.document};a._.glob=G;var h=\"hasOwnProperty\",J=String,K=parseFloat,U=parseInt,I=Math,P=I.max,Q=I.min,Y=I.abs,C=I.PI,aa=\"\",$=Object.prototype.toString,F=/^\\s*((#[a-f\\d]{6})|(#[a-f\\d]{3})|rgba?\\(\\s*([\\d\\.]+%?\\s*,\\s*[\\d\\.]+%?\\s*,\\s*[\\d\\.]+%?(?:\\s*,\\s*[\\d\\.]+%?)?)\\s*\\)|hsba?\\(\\s*([\\d\\.]+(?:deg|\\xb0|%)?\\s*,\\s*[\\d\\.]+%?\\s*,\\s*[\\d\\.]+(?:%?\\s*,\\s*[\\d\\.]+)?%?)\\s*\\)|hsla?\\(\\s*([\\d\\.]+(?:deg|\\xb0|%)?\\s*,\\s*[\\d\\.]+%?\\s*,\\s*[\\d\\.]+(?:%?\\s*,\\s*[\\d\\.]+)?%?)\\s*\\))\\s*$/i;a._.separator=\n",
       "RegExp(\"[,\\t\\n\\x0B\\f\\r \\u00a0\\u1680\\u180e\\u2000\\u2001\\u2002\\u2003\\u2004\\u2005\\u2006\\u2007\\u2008\\u2009\\u200a\\u202f\\u205f\\u3000\\u2028\\u2029]+\");var S=RegExp(\"[\\t\\n\\x0B\\f\\r \\u00a0\\u1680\\u180e\\u2000\\u2001\\u2002\\u2003\\u2004\\u2005\\u2006\\u2007\\u2008\\u2009\\u200a\\u202f\\u205f\\u3000\\u2028\\u2029]*,[\\t\\n\\x0B\\f\\r \\u00a0\\u1680\\u180e\\u2000\\u2001\\u2002\\u2003\\u2004\\u2005\\u2006\\u2007\\u2008\\u2009\\u200a\\u202f\\u205f\\u3000\\u2028\\u2029]*\"),X={hs:1,rg:1},W=RegExp(\"([a-z])[\\t\\n\\x0B\\f\\r \\u00a0\\u1680\\u180e\\u2000\\u2001\\u2002\\u2003\\u2004\\u2005\\u2006\\u2007\\u2008\\u2009\\u200a\\u202f\\u205f\\u3000\\u2028\\u2029,]*((-?\\\\d*\\\\.?\\\\d*(?:e[\\\\-+]?\\\\d+)?[\\t\\n\\x0B\\f\\r \\u00a0\\u1680\\u180e\\u2000\\u2001\\u2002\\u2003\\u2004\\u2005\\u2006\\u2007\\u2008\\u2009\\u200a\\u202f\\u205f\\u3000\\u2028\\u2029]*,?[\\t\\n\\x0B\\f\\r \\u00a0\\u1680\\u180e\\u2000\\u2001\\u2002\\u2003\\u2004\\u2005\\u2006\\u2007\\u2008\\u2009\\u200a\\u202f\\u205f\\u3000\\u2028\\u2029]*)+)\",\n",
       "\"ig\"),ma=RegExp(\"([rstm])[\\t\\n\\x0B\\f\\r \\u00a0\\u1680\\u180e\\u2000\\u2001\\u2002\\u2003\\u2004\\u2005\\u2006\\u2007\\u2008\\u2009\\u200a\\u202f\\u205f\\u3000\\u2028\\u2029,]*((-?\\\\d*\\\\.?\\\\d*(?:e[\\\\-+]?\\\\d+)?[\\t\\n\\x0B\\f\\r \\u00a0\\u1680\\u180e\\u2000\\u2001\\u2002\\u2003\\u2004\\u2005\\u2006\\u2007\\u2008\\u2009\\u200a\\u202f\\u205f\\u3000\\u2028\\u2029]*,?[\\t\\n\\x0B\\f\\r \\u00a0\\u1680\\u180e\\u2000\\u2001\\u2002\\u2003\\u2004\\u2005\\u2006\\u2007\\u2008\\u2009\\u200a\\u202f\\u205f\\u3000\\u2028\\u2029]*)+)\",\"ig\"),Z=RegExp(\"(-?\\\\d*\\\\.?\\\\d*(?:e[\\\\-+]?\\\\d+)?)[\\t\\n\\x0B\\f\\r \\u00a0\\u1680\\u180e\\u2000\\u2001\\u2002\\u2003\\u2004\\u2005\\u2006\\u2007\\u2008\\u2009\\u200a\\u202f\\u205f\\u3000\\u2028\\u2029]*,?[\\t\\n\\x0B\\f\\r \\u00a0\\u1680\\u180e\\u2000\\u2001\\u2002\\u2003\\u2004\\u2005\\u2006\\u2007\\u2008\\u2009\\u200a\\u202f\\u205f\\u3000\\u2028\\u2029]*\",\n",
       "\"ig\"),na=0,ba=\"S\"+(+new Date).toString(36),V=function(){return ba+(na++).toString(36)},m=\"http://www.w3.org/1999/xlink\",la=\"http://www.w3.org/2000/svg\",E={},ca=a.url=function(c){return\"url('#\"+c+\"')\"};a._.$=v;a._.id=V;a.format=function(){var c=/\\{([^\\}]+)\\}/g,a=/(?:(?:^|\\.)(.+?)(?=\\[|\\.|$|\\()|\\[('|\")(.+?)\\2\\])(\\(\\))?/g,b=function(c,b,m){var h=m;b.replace(a,function(c,a,b,m,t){a=a||m;h&&(a in h&&(h=h[a]),\"function\"==typeof h&&t&&(h=h()))});return h=(null==h||h==m?c:h)+\"\"};return function(a,m){return J(a).replace(c,\n",
       "function(c,a){return b(c,a,m)})}}();a._.clone=M;a._.cacher=A;a.rad=z;a.deg=function(c){return 180*c/C%360};a.angle=w;a.is=y;a.snapTo=function(c,a,b){b=y(b,\"finite\")?b:10;if(y(c,\"array\"))for(var m=c.length;m--;){if(Y(c[m]-a)<=b)return c[m]}else{c=+c;m=a%c;if(m<b)return a-m;if(m>c-b)return a-m+c}return a};a.getRGB=A(function(c){if(!c||(c=J(c)).indexOf(\"-\")+1)return{r:-1,g:-1,b:-1,hex:\"none\",error:1,toString:ka};if(\"none\"==c)return{r:-1,g:-1,b:-1,hex:\"none\",toString:ka};!X[h](c.toLowerCase().substring(0,\n",
       "2))&&\"#\"!=c.charAt()&&(c=T(c));if(!c)return{r:-1,g:-1,b:-1,hex:\"none\",error:1,toString:ka};var b,m,e,f,d;if(c=c.match(F)){c[2]&&(e=U(c[2].substring(5),16),m=U(c[2].substring(3,5),16),b=U(c[2].substring(1,3),16));c[3]&&(e=U((d=c[3].charAt(3))+d,16),m=U((d=c[3].charAt(2))+d,16),b=U((d=c[3].charAt(1))+d,16));c[4]&&(d=c[4].split(S),b=K(d[0]),\"%\"==d[0].slice(-1)&&(b*=2.55),m=K(d[1]),\"%\"==d[1].slice(-1)&&(m*=2.55),e=K(d[2]),\"%\"==d[2].slice(-1)&&(e*=2.55),\"rgba\"==c[1].toLowerCase().slice(0,4)&&(f=K(d[3])),\n",
       "d[3]&&\"%\"==d[3].slice(-1)&&(f/=100));if(c[5])return d=c[5].split(S),b=K(d[0]),\"%\"==d[0].slice(-1)&&(b/=100),m=K(d[1]),\"%\"==d[1].slice(-1)&&(m/=100),e=K(d[2]),\"%\"==d[2].slice(-1)&&(e/=100),\"deg\"!=d[0].slice(-3)&&\"\\u00b0\"!=d[0].slice(-1)||(b/=360),\"hsba\"==c[1].toLowerCase().slice(0,4)&&(f=K(d[3])),d[3]&&\"%\"==d[3].slice(-1)&&(f/=100),a.hsb2rgb(b,m,e,f);if(c[6])return d=c[6].split(S),b=K(d[0]),\"%\"==d[0].slice(-1)&&(b/=100),m=K(d[1]),\"%\"==d[1].slice(-1)&&(m/=100),e=K(d[2]),\"%\"==d[2].slice(-1)&&(e/=100),\n",
       "\"deg\"!=d[0].slice(-3)&&\"\\u00b0\"!=d[0].slice(-1)||(b/=360),\"hsla\"==c[1].toLowerCase().slice(0,4)&&(f=K(d[3])),d[3]&&\"%\"==d[3].slice(-1)&&(f/=100),a.hsl2rgb(b,m,e,f);b=Q(I.round(b),255);m=Q(I.round(m),255);e=Q(I.round(e),255);f=Q(P(f,0),1);c={r:b,g:m,b:e,toString:ka};c.hex=\"#\"+(16777216|e|m<<8|b<<16).toString(16).slice(1);c.opacity=y(f,\"finite\")?f:1;return c}return{r:-1,g:-1,b:-1,hex:\"none\",error:1,toString:ka}},a);a.hsb=A(function(c,b,m){return a.hsb2rgb(c,b,m).hex});a.hsl=A(function(c,b,m){return a.hsl2rgb(c,\n",
       "b,m).hex});a.rgb=A(function(c,a,b,m){if(y(m,\"finite\")){var e=I.round;return\"rgba(\"+[e(c),e(a),e(b),+m.toFixed(2)]+\")\"}return\"#\"+(16777216|b|a<<8|c<<16).toString(16).slice(1)});var T=function(c){var a=G.doc.getElementsByTagName(\"head\")[0]||G.doc.getElementsByTagName(\"svg\")[0];T=A(function(c){if(\"red\"==c.toLowerCase())return\"rgb(255, 0, 0)\";a.style.color=\"rgb(255, 0, 0)\";a.style.color=c;c=G.doc.defaultView.getComputedStyle(a,aa).getPropertyValue(\"color\");return\"rgb(255, 0, 0)\"==c?null:c});return T(c)},\n",
       "qa=function(){return\"hsb(\"+[this.h,this.s,this.b]+\")\"},ra=function(){return\"hsl(\"+[this.h,this.s,this.l]+\")\"},ka=function(){return 1==this.opacity||null==this.opacity?this.hex:\"rgba(\"+[this.r,this.g,this.b,this.opacity]+\")\"},D=function(c,b,m){null==b&&y(c,\"object\")&&\"r\"in c&&\"g\"in c&&\"b\"in c&&(m=c.b,b=c.g,c=c.r);null==b&&y(c,string)&&(m=a.getRGB(c),c=m.r,b=m.g,m=m.b);if(1<c||1<b||1<m)c/=255,b/=255,m/=255;return[c,b,m]},oa=function(c,b,m,e){c=I.round(255*c);b=I.round(255*b);m=I.round(255*m);c={r:c,\n",
       "g:b,b:m,opacity:y(e,\"finite\")?e:1,hex:a.rgb(c,b,m),toString:ka};y(e,\"finite\")&&(c.opacity=e);return c};a.color=function(c){var b;y(c,\"object\")&&\"h\"in c&&\"s\"in c&&\"b\"in c?(b=a.hsb2rgb(c),c.r=b.r,c.g=b.g,c.b=b.b,c.opacity=1,c.hex=b.hex):y(c,\"object\")&&\"h\"in c&&\"s\"in c&&\"l\"in c?(b=a.hsl2rgb(c),c.r=b.r,c.g=b.g,c.b=b.b,c.opacity=1,c.hex=b.hex):(y(c,\"string\")&&(c=a.getRGB(c)),y(c,\"object\")&&\"r\"in c&&\"g\"in c&&\"b\"in c&&!(\"error\"in c)?(b=a.rgb2hsl(c),c.h=b.h,c.s=b.s,c.l=b.l,b=a.rgb2hsb(c),c.v=b.b):(c={hex:\"none\"},\n",
       "c.r=c.g=c.b=c.h=c.s=c.v=c.l=-1,c.error=1));c.toString=ka;return c};a.hsb2rgb=function(c,a,b,m){y(c,\"object\")&&\"h\"in c&&\"s\"in c&&\"b\"in c&&(b=c.b,a=c.s,c=c.h,m=c.o);var e,h,d;c=360*c%360/60;d=b*a;a=d*(1-Y(c%2-1));b=e=h=b-d;c=~~c;b+=[d,a,0,0,a,d][c];e+=[a,d,d,a,0,0][c];h+=[0,0,a,d,d,a][c];return oa(b,e,h,m)};a.hsl2rgb=function(c,a,b,m){y(c,\"object\")&&\"h\"in c&&\"s\"in c&&\"l\"in c&&(b=c.l,a=c.s,c=c.h);if(1<c||1<a||1<b)c/=360,a/=100,b/=100;var e,h,d;c=360*c%360/60;d=2*a*(0.5>b?b:1-b);a=d*(1-Y(c%2-1));b=e=\n",
       "h=b-d/2;c=~~c;b+=[d,a,0,0,a,d][c];e+=[a,d,d,a,0,0][c];h+=[0,0,a,d,d,a][c];return oa(b,e,h,m)};a.rgb2hsb=function(c,a,b){b=D(c,a,b);c=b[0];a=b[1];b=b[2];var m,e;m=P(c,a,b);e=m-Q(c,a,b);c=((0==e?0:m==c?(a-b)/e:m==a?(b-c)/e+2:(c-a)/e+4)+360)%6*60/360;return{h:c,s:0==e?0:e/m,b:m,toString:qa}};a.rgb2hsl=function(c,a,b){b=D(c,a,b);c=b[0];a=b[1];b=b[2];var m,e,h;m=P(c,a,b);e=Q(c,a,b);h=m-e;c=((0==h?0:m==c?(a-b)/h:m==a?(b-c)/h+2:(c-a)/h+4)+360)%6*60/360;m=(m+e)/2;return{h:c,s:0==h?0:0.5>m?h/(2*m):h/(2-2*\n",
       "m),l:m,toString:ra}};a.parsePathString=function(c){if(!c)return null;var b=a.path(c);if(b.arr)return a.path.clone(b.arr);var m={a:7,c:6,o:2,h:1,l:2,m:2,r:4,q:4,s:4,t:2,v:1,u:3,z:0},e=[];y(c,\"array\")&&y(c[0],\"array\")&&(e=a.path.clone(c));e.length||J(c).replace(W,function(c,a,b){var h=[];c=a.toLowerCase();b.replace(Z,function(c,a){a&&h.push(+a)});\"m\"==c&&2<h.length&&(e.push([a].concat(h.splice(0,2))),c=\"l\",a=\"m\"==a?\"l\":\"L\");\"o\"==c&&1==h.length&&e.push([a,h[0] ]);if(\"r\"==c)e.push([a].concat(h));else for(;h.length>=\n",
       "m[c]&&(e.push([a].concat(h.splice(0,m[c]))),m[c]););});e.toString=a.path.toString;b.arr=a.path.clone(e);return e};var O=a.parseTransformString=function(c){if(!c)return null;var b=[];y(c,\"array\")&&y(c[0],\"array\")&&(b=a.path.clone(c));b.length||J(c).replace(ma,function(c,a,m){var e=[];a.toLowerCase();m.replace(Z,function(c,a){a&&e.push(+a)});b.push([a].concat(e))});b.toString=a.path.toString;return b};a._.svgTransform2string=d;a._.rgTransform=RegExp(\"^[a-z][\\t\\n\\x0B\\f\\r \\u00a0\\u1680\\u180e\\u2000\\u2001\\u2002\\u2003\\u2004\\u2005\\u2006\\u2007\\u2008\\u2009\\u200a\\u202f\\u205f\\u3000\\u2028\\u2029]*-?\\\\.?\\\\d\",\n",
       "\"i\");a._.transform2matrix=f;a._unit2px=b;a._.getSomeDefs=u;a._.getSomeSVG=p;a.select=function(c){return x(G.doc.querySelector(c))};a.selectAll=function(c){c=G.doc.querySelectorAll(c);for(var b=(a.set||Array)(),m=0;m<c.length;m++)b.push(x(c[m]));return b};setInterval(function(){for(var c in E)if(E[h](c)){var a=E[c],b=a.node;(\"svg\"!=a.type&&!b.ownerSVGElement||\"svg\"==a.type&&(!b.parentNode||\"ownerSVGElement\"in b.parentNode&&!b.ownerSVGElement))&&delete E[c]}},1E4);(function(c){function m(c){function a(c,\n",
       "b){var m=v(c.node,b);(m=(m=m&&m.match(d))&&m[2])&&\"#\"==m.charAt()&&(m=m.substring(1))&&(f[m]=(f[m]||[]).concat(function(a){var m={};m[b]=ca(a);v(c.node,m)}))}function b(c){var a=v(c.node,\"xlink:href\");a&&\"#\"==a.charAt()&&(a=a.substring(1))&&(f[a]=(f[a]||[]).concat(function(a){c.attr(\"xlink:href\",\"#\"+a)}))}var e=c.selectAll(\"*\"),h,d=/^\\s*url\\((\"|'|)(.*)\\1\\)\\s*$/;c=[];for(var f={},l=0,E=e.length;l<E;l++){h=e[l];a(h,\"fill\");a(h,\"stroke\");a(h,\"filter\");a(h,\"mask\");a(h,\"clip-path\");b(h);var t=v(h.node,\n",
       "\"id\");t&&(v(h.node,{id:h.id}),c.push({old:t,id:h.id}))}l=0;for(E=c.length;l<E;l++)if(e=f[c[l].old])for(h=0,t=e.length;h<t;h++)e[h](c[l].id)}function e(c,a,b){return function(m){m=m.slice(c,a);1==m.length&&(m=m[0]);return b?b(m):m}}function d(c){return function(){var a=c?\"<\"+this.type:\"\",b=this.node.attributes,m=this.node.childNodes;if(c)for(var e=0,h=b.length;e<h;e++)a+=\" \"+b[e].name+'=\"'+b[e].value.replace(/\"/g,'\\\\\"')+'\"';if(m.length){c&&(a+=\">\");e=0;for(h=m.length;e<h;e++)3==m[e].nodeType?a+=m[e].nodeValue:\n",
       "1==m[e].nodeType&&(a+=x(m[e]).toString());c&&(a+=\"</\"+this.type+\">\")}else c&&(a+=\"/>\");return a}}c.attr=function(c,a){if(!c)return this;if(y(c,\"string\"))if(1<arguments.length){var b={};b[c]=a;c=b}else return k(\"snap.util.getattr.\"+c,this).firstDefined();for(var m in c)c[h](m)&&k(\"snap.util.attr.\"+m,this,c[m]);return this};c.getBBox=function(c){if(!a.Matrix||!a.path)return this.node.getBBox();var b=this,m=new a.Matrix;if(b.removed)return a._.box();for(;\"use\"==b.type;)if(c||(m=m.add(b.transform().localMatrix.translate(b.attr(\"x\")||\n",
       "0,b.attr(\"y\")||0))),b.original)b=b.original;else var e=b.attr(\"xlink:href\"),b=b.original=b.node.ownerDocument.getElementById(e.substring(e.indexOf(\"#\")+1));var e=b._,h=a.path.get[b.type]||a.path.get.deflt;try{if(c)return e.bboxwt=h?a.path.getBBox(b.realPath=h(b)):a._.box(b.node.getBBox()),a._.box(e.bboxwt);b.realPath=h(b);b.matrix=b.transform().localMatrix;e.bbox=a.path.getBBox(a.path.map(b.realPath,m.add(b.matrix)));return a._.box(e.bbox)}catch(d){return a._.box()}};var f=function(){return this.string};\n",
       "c.transform=function(c){var b=this._;if(null==c){var m=this;c=new a.Matrix(this.node.getCTM());for(var e=n(this),h=[e],d=new a.Matrix,l=e.toTransformString(),b=J(e)==J(this.matrix)?J(b.transform):l;\"svg\"!=m.type&&(m=m.parent());)h.push(n(m));for(m=h.length;m--;)d.add(h[m]);return{string:b,globalMatrix:c,totalMatrix:d,localMatrix:e,diffMatrix:c.clone().add(e.invert()),global:c.toTransformString(),total:d.toTransformString(),local:l,toString:f}}c instanceof a.Matrix?this.matrix=c:n(this,c);this.node&&\n",
       "(\"linearGradient\"==this.type||\"radialGradient\"==this.type?v(this.node,{gradientTransform:this.matrix}):\"pattern\"==this.type?v(this.node,{patternTransform:this.matrix}):v(this.node,{transform:this.matrix}));return this};c.parent=function(){return x(this.node.parentNode)};c.append=c.add=function(c){if(c){if(\"set\"==c.type){var a=this;c.forEach(function(c){a.add(c)});return this}c=x(c);this.node.appendChild(c.node);c.paper=this.paper}return this};c.appendTo=function(c){c&&(c=x(c),c.append(this));return this};\n",
       "c.prepend=function(c){if(c){if(\"set\"==c.type){var a=this,b;c.forEach(function(c){b?b.after(c):a.prepend(c);b=c});return this}c=x(c);var m=c.parent();this.node.insertBefore(c.node,this.node.firstChild);this.add&&this.add();c.paper=this.paper;this.parent()&&this.parent().add();m&&m.add()}return this};c.prependTo=function(c){c=x(c);c.prepend(this);return this};c.before=function(c){if(\"set\"==c.type){var a=this;c.forEach(function(c){var b=c.parent();a.node.parentNode.insertBefore(c.node,a.node);b&&b.add()});\n",
       "this.parent().add();return this}c=x(c);var b=c.parent();this.node.parentNode.insertBefore(c.node,this.node);this.parent()&&this.parent().add();b&&b.add();c.paper=this.paper;return this};c.after=function(c){c=x(c);var a=c.parent();this.node.nextSibling?this.node.parentNode.insertBefore(c.node,this.node.nextSibling):this.node.parentNode.appendChild(c.node);this.parent()&&this.parent().add();a&&a.add();c.paper=this.paper;return this};c.insertBefore=function(c){c=x(c);var a=this.parent();c.node.parentNode.insertBefore(this.node,\n",
       "c.node);this.paper=c.paper;a&&a.add();c.parent()&&c.parent().add();return this};c.insertAfter=function(c){c=x(c);var a=this.parent();c.node.parentNode.insertBefore(this.node,c.node.nextSibling);this.paper=c.paper;a&&a.add();c.parent()&&c.parent().add();return this};c.remove=function(){var c=this.parent();this.node.parentNode&&this.node.parentNode.removeChild(this.node);delete this.paper;this.removed=!0;c&&c.add();return this};c.select=function(c){return x(this.node.querySelector(c))};c.selectAll=\n",
       "function(c){c=this.node.querySelectorAll(c);for(var b=(a.set||Array)(),m=0;m<c.length;m++)b.push(x(c[m]));return b};c.asPX=function(c,a){null==a&&(a=this.attr(c));return+b(this,c,a)};c.use=function(){var c,a=this.node.id;a||(a=this.id,v(this.node,{id:a}));c=\"linearGradient\"==this.type||\"radialGradient\"==this.type||\"pattern\"==this.type?r(this.type,this.node.parentNode):r(\"use\",this.node.parentNode);v(c.node,{\"xlink:href\":\"#\"+a});c.original=this;return c};var l=/\\S+/g;c.addClass=function(c){var a=(c||\n",
       "\"\").match(l)||[];c=this.node;var b=c.className.baseVal,m=b.match(l)||[],e,h,d;if(a.length){for(e=0;d=a[e++];)h=m.indexOf(d),~h||m.push(d);a=m.join(\" \");b!=a&&(c.className.baseVal=a)}return this};c.removeClass=function(c){var a=(c||\"\").match(l)||[];c=this.node;var b=c.className.baseVal,m=b.match(l)||[],e,h;if(m.length){for(e=0;h=a[e++];)h=m.indexOf(h),~h&&m.splice(h,1);a=m.join(\" \");b!=a&&(c.className.baseVal=a)}return this};c.hasClass=function(c){return!!~(this.node.className.baseVal.match(l)||[]).indexOf(c)};\n",
       "c.toggleClass=function(c,a){if(null!=a)return a?this.addClass(c):this.removeClass(c);var b=(c||\"\").match(l)||[],m=this.node,e=m.className.baseVal,h=e.match(l)||[],d,f,E;for(d=0;E=b[d++];)f=h.indexOf(E),~f?h.splice(f,1):h.push(E);b=h.join(\" \");e!=b&&(m.className.baseVal=b);return this};c.clone=function(){var c=x(this.node.cloneNode(!0));v(c.node,\"id\")&&v(c.node,{id:c.id});m(c);c.insertAfter(this);return c};c.toDefs=function(){u(this).appendChild(this.node);return this};c.pattern=c.toPattern=function(c,\n",
       "a,b,m){var e=r(\"pattern\",u(this));null==c&&(c=this.getBBox());y(c,\"object\")&&\"x\"in c&&(a=c.y,b=c.width,m=c.height,c=c.x);v(e.node,{x:c,y:a,width:b,height:m,patternUnits:\"userSpaceOnUse\",id:e.id,viewBox:[c,a,b,m].join(\" \")});e.node.appendChild(this.node);return e};c.marker=function(c,a,b,m,e,h){var d=r(\"marker\",u(this));null==c&&(c=this.getBBox());y(c,\"object\")&&\"x\"in c&&(a=c.y,b=c.width,m=c.height,e=c.refX||c.cx,h=c.refY||c.cy,c=c.x);v(d.node,{viewBox:[c,a,b,m].join(\" \"),markerWidth:b,markerHeight:m,\n",
       "orient:\"auto\",refX:e||0,refY:h||0,id:d.id});d.node.appendChild(this.node);return d};var E=function(c,a,b,m){\"function\"!=typeof b||b.length||(m=b,b=L.linear);this.attr=c;this.dur=a;b&&(this.easing=b);m&&(this.callback=m)};a._.Animation=E;a.animation=function(c,a,b,m){return new E(c,a,b,m)};c.inAnim=function(){var c=[],a;for(a in this.anims)this.anims[h](a)&&function(a){c.push({anim:new E(a._attrs,a.dur,a.easing,a._callback),mina:a,curStatus:a.status(),status:function(c){return a.status(c)},stop:function(){a.stop()}})}(this.anims[a]);\n",
       "return c};a.animate=function(c,a,b,m,e,h){\"function\"!=typeof e||e.length||(h=e,e=L.linear);var d=L.time();c=L(c,a,d,d+m,L.time,b,e);h&&k.once(\"mina.finish.\"+c.id,h);return c};c.stop=function(){for(var c=this.inAnim(),a=0,b=c.length;a<b;a++)c[a].stop();return this};c.animate=function(c,a,b,m){\"function\"!=typeof b||b.length||(m=b,b=L.linear);c instanceof E&&(m=c.callback,b=c.easing,a=b.dur,c=c.attr);var d=[],f=[],l={},t,ca,n,T=this,q;for(q in c)if(c[h](q)){T.equal?(n=T.equal(q,J(c[q])),t=n.from,ca=\n",
       "n.to,n=n.f):(t=+T.attr(q),ca=+c[q]);var la=y(t,\"array\")?t.length:1;l[q]=e(d.length,d.length+la,n);d=d.concat(t);f=f.concat(ca)}t=L.time();var p=L(d,f,t,t+a,L.time,function(c){var a={},b;for(b in l)l[h](b)&&(a[b]=l[b](c));T.attr(a)},b);T.anims[p.id]=p;p._attrs=c;p._callback=m;k(\"snap.animcreated.\"+T.id,p);k.once(\"mina.finish.\"+p.id,function(){delete T.anims[p.id];m&&m.call(T)});k.once(\"mina.stop.\"+p.id,function(){delete T.anims[p.id]});return T};var T={};c.data=function(c,b){var m=T[this.id]=T[this.id]||\n",
       "{};if(0==arguments.length)return k(\"snap.data.get.\"+this.id,this,m,null),m;if(1==arguments.length){if(a.is(c,\"object\")){for(var e in c)c[h](e)&&this.data(e,c[e]);return this}k(\"snap.data.get.\"+this.id,this,m[c],c);return m[c]}m[c]=b;k(\"snap.data.set.\"+this.id,this,b,c);return this};c.removeData=function(c){null==c?T[this.id]={}:T[this.id]&&delete T[this.id][c];return this};c.outerSVG=c.toString=d(1);c.innerSVG=d()})(e.prototype);a.parse=function(c){var a=G.doc.createDocumentFragment(),b=!0,m=G.doc.createElement(\"div\");\n",
       "c=J(c);c.match(/^\\s*<\\s*svg(?:\\s|>)/)||(c=\"<svg>\"+c+\"</svg>\",b=!1);m.innerHTML=c;if(c=m.getElementsByTagName(\"svg\")[0])if(b)a=c;else for(;c.firstChild;)a.appendChild(c.firstChild);m.innerHTML=aa;return new l(a)};l.prototype.select=e.prototype.select;l.prototype.selectAll=e.prototype.selectAll;a.fragment=function(){for(var c=Array.prototype.slice.call(arguments,0),b=G.doc.createDocumentFragment(),m=0,e=c.length;m<e;m++){var h=c[m];h.node&&h.node.nodeType&&b.appendChild(h.node);h.nodeType&&b.appendChild(h);\n",
       "\"string\"==typeof h&&b.appendChild(a.parse(h).node)}return new l(b)};a._.make=r;a._.wrap=x;s.prototype.el=function(c,a){var b=r(c,this.node);a&&b.attr(a);return b};k.on(\"snap.util.getattr\",function(){var c=k.nt(),c=c.substring(c.lastIndexOf(\".\")+1),a=c.replace(/[A-Z]/g,function(c){return\"-\"+c.toLowerCase()});return pa[h](a)?this.node.ownerDocument.defaultView.getComputedStyle(this.node,null).getPropertyValue(a):v(this.node,c)});var pa={\"alignment-baseline\":0,\"baseline-shift\":0,clip:0,\"clip-path\":0,\n",
       "\"clip-rule\":0,color:0,\"color-interpolation\":0,\"color-interpolation-filters\":0,\"color-profile\":0,\"color-rendering\":0,cursor:0,direction:0,display:0,\"dominant-baseline\":0,\"enable-background\":0,fill:0,\"fill-opacity\":0,\"fill-rule\":0,filter:0,\"flood-color\":0,\"flood-opacity\":0,font:0,\"font-family\":0,\"font-size\":0,\"font-size-adjust\":0,\"font-stretch\":0,\"font-style\":0,\"font-variant\":0,\"font-weight\":0,\"glyph-orientation-horizontal\":0,\"glyph-orientation-vertical\":0,\"image-rendering\":0,kerning:0,\"letter-spacing\":0,\n",
       "\"lighting-color\":0,marker:0,\"marker-end\":0,\"marker-mid\":0,\"marker-start\":0,mask:0,opacity:0,overflow:0,\"pointer-events\":0,\"shape-rendering\":0,\"stop-color\":0,\"stop-opacity\":0,stroke:0,\"stroke-dasharray\":0,\"stroke-dashoffset\":0,\"stroke-linecap\":0,\"stroke-linejoin\":0,\"stroke-miterlimit\":0,\"stroke-opacity\":0,\"stroke-width\":0,\"text-anchor\":0,\"text-decoration\":0,\"text-rendering\":0,\"unicode-bidi\":0,visibility:0,\"word-spacing\":0,\"writing-mode\":0};k.on(\"snap.util.attr\",function(c){var a=k.nt(),b={},a=a.substring(a.lastIndexOf(\".\")+\n",
       "1);b[a]=c;var m=a.replace(/-(\\w)/gi,function(c,a){return a.toUpperCase()}),a=a.replace(/[A-Z]/g,function(c){return\"-\"+c.toLowerCase()});pa[h](a)?this.node.style[m]=null==c?aa:c:v(this.node,b)});a.ajax=function(c,a,b,m){var e=new XMLHttpRequest,h=V();if(e){if(y(a,\"function\"))m=b,b=a,a=null;else if(y(a,\"object\")){var d=[],f;for(f in a)a.hasOwnProperty(f)&&d.push(encodeURIComponent(f)+\"=\"+encodeURIComponent(a[f]));a=d.join(\"&\")}e.open(a?\"POST\":\"GET\",c,!0);a&&(e.setRequestHeader(\"X-Requested-With\",\"XMLHttpRequest\"),\n",
       "e.setRequestHeader(\"Content-type\",\"application/x-www-form-urlencoded\"));b&&(k.once(\"snap.ajax.\"+h+\".0\",b),k.once(\"snap.ajax.\"+h+\".200\",b),k.once(\"snap.ajax.\"+h+\".304\",b));e.onreadystatechange=function(){4==e.readyState&&k(\"snap.ajax.\"+h+\".\"+e.status,m,e)};if(4==e.readyState)return e;e.send(a);return e}};a.load=function(c,b,m){a.ajax(c,function(c){c=a.parse(c.responseText);m?b.call(m,c):b(c)})};a.getElementByPoint=function(c,a){var b,m,e=G.doc.elementFromPoint(c,a);if(G.win.opera&&\"svg\"==e.tagName){b=\n",
       "e;m=b.getBoundingClientRect();b=b.ownerDocument;var h=b.body,d=b.documentElement;b=m.top+(g.win.pageYOffset||d.scrollTop||h.scrollTop)-(d.clientTop||h.clientTop||0);m=m.left+(g.win.pageXOffset||d.scrollLeft||h.scrollLeft)-(d.clientLeft||h.clientLeft||0);h=e.createSVGRect();h.x=c-m;h.y=a-b;h.width=h.height=1;b=e.getIntersectionList(h,null);b.length&&(e=b[b.length-1])}return e?x(e):null};a.plugin=function(c){c(a,e,s,G,l)};return G.win.Snap=a}();C.plugin(function(a,k,y,M,A){function w(a,d,f,b,q,e){null==\n",
       "d&&\"[object SVGMatrix]\"==z.call(a)?(this.a=a.a,this.b=a.b,this.c=a.c,this.d=a.d,this.e=a.e,this.f=a.f):null!=a?(this.a=+a,this.b=+d,this.c=+f,this.d=+b,this.e=+q,this.f=+e):(this.a=1,this.c=this.b=0,this.d=1,this.f=this.e=0)}var z=Object.prototype.toString,d=String,f=Math;(function(n){function k(a){return a[0]*a[0]+a[1]*a[1]}function p(a){var d=f.sqrt(k(a));a[0]&&(a[0]/=d);a[1]&&(a[1]/=d)}n.add=function(a,d,e,f,n,p){var k=[[],[],[] ],u=[[this.a,this.c,this.e],[this.b,this.d,this.f],[0,0,1] ];d=[[a,\n",
       "e,n],[d,f,p],[0,0,1] ];a&&a instanceof w&&(d=[[a.a,a.c,a.e],[a.b,a.d,a.f],[0,0,1] ]);for(a=0;3>a;a++)for(e=0;3>e;e++){for(f=n=0;3>f;f++)n+=u[a][f]*d[f][e];k[a][e]=n}this.a=k[0][0];this.b=k[1][0];this.c=k[0][1];this.d=k[1][1];this.e=k[0][2];this.f=k[1][2];return this};n.invert=function(){var a=this.a*this.d-this.b*this.c;return new w(this.d/a,-this.b/a,-this.c/a,this.a/a,(this.c*this.f-this.d*this.e)/a,(this.b*this.e-this.a*this.f)/a)};n.clone=function(){return new w(this.a,this.b,this.c,this.d,this.e,\n",
       "this.f)};n.translate=function(a,d){return this.add(1,0,0,1,a,d)};n.scale=function(a,d,e,f){null==d&&(d=a);(e||f)&&this.add(1,0,0,1,e,f);this.add(a,0,0,d,0,0);(e||f)&&this.add(1,0,0,1,-e,-f);return this};n.rotate=function(b,d,e){b=a.rad(b);d=d||0;e=e||0;var l=+f.cos(b).toFixed(9);b=+f.sin(b).toFixed(9);this.add(l,b,-b,l,d,e);return this.add(1,0,0,1,-d,-e)};n.x=function(a,d){return a*this.a+d*this.c+this.e};n.y=function(a,d){return a*this.b+d*this.d+this.f};n.get=function(a){return+this[d.fromCharCode(97+\n",
       "a)].toFixed(4)};n.toString=function(){return\"matrix(\"+[this.get(0),this.get(1),this.get(2),this.get(3),this.get(4),this.get(5)].join()+\")\"};n.offset=function(){return[this.e.toFixed(4),this.f.toFixed(4)]};n.determinant=function(){return this.a*this.d-this.b*this.c};n.split=function(){var b={};b.dx=this.e;b.dy=this.f;var d=[[this.a,this.c],[this.b,this.d] ];b.scalex=f.sqrt(k(d[0]));p(d[0]);b.shear=d[0][0]*d[1][0]+d[0][1]*d[1][1];d[1]=[d[1][0]-d[0][0]*b.shear,d[1][1]-d[0][1]*b.shear];b.scaley=f.sqrt(k(d[1]));\n",
       "p(d[1]);b.shear/=b.scaley;0>this.determinant()&&(b.scalex=-b.scalex);var e=-d[0][1],d=d[1][1];0>d?(b.rotate=a.deg(f.acos(d)),0>e&&(b.rotate=360-b.rotate)):b.rotate=a.deg(f.asin(e));b.isSimple=!+b.shear.toFixed(9)&&(b.scalex.toFixed(9)==b.scaley.toFixed(9)||!b.rotate);b.isSuperSimple=!+b.shear.toFixed(9)&&b.scalex.toFixed(9)==b.scaley.toFixed(9)&&!b.rotate;b.noRotation=!+b.shear.toFixed(9)&&!b.rotate;return b};n.toTransformString=function(a){a=a||this.split();if(+a.shear.toFixed(9))return\"m\"+[this.get(0),\n",
       "this.get(1),this.get(2),this.get(3),this.get(4),this.get(5)];a.scalex=+a.scalex.toFixed(4);a.scaley=+a.scaley.toFixed(4);a.rotate=+a.rotate.toFixed(4);return(a.dx||a.dy?\"t\"+[+a.dx.toFixed(4),+a.dy.toFixed(4)]:\"\")+(1!=a.scalex||1!=a.scaley?\"s\"+[a.scalex,a.scaley,0,0]:\"\")+(a.rotate?\"r\"+[+a.rotate.toFixed(4),0,0]:\"\")}})(w.prototype);a.Matrix=w;a.matrix=function(a,d,f,b,k,e){return new w(a,d,f,b,k,e)}});C.plugin(function(a,v,y,M,A){function w(h){return function(d){k.stop();d instanceof A&&1==d.node.childNodes.length&&\n",
       "(\"radialGradient\"==d.node.firstChild.tagName||\"linearGradient\"==d.node.firstChild.tagName||\"pattern\"==d.node.firstChild.tagName)&&(d=d.node.firstChild,b(this).appendChild(d),d=u(d));if(d instanceof v)if(\"radialGradient\"==d.type||\"linearGradient\"==d.type||\"pattern\"==d.type){d.node.id||e(d.node,{id:d.id});var f=l(d.node.id)}else f=d.attr(h);else f=a.color(d),f.error?(f=a(b(this).ownerSVGElement).gradient(d))?(f.node.id||e(f.node,{id:f.id}),f=l(f.node.id)):f=d:f=r(f);d={};d[h]=f;e(this.node,d);this.node.style[h]=\n",
       "x}}function z(a){k.stop();a==+a&&(a+=\"px\");this.node.style.fontSize=a}function d(a){var b=[];a=a.childNodes;for(var e=0,f=a.length;e<f;e++){var l=a[e];3==l.nodeType&&b.push(l.nodeValue);\"tspan\"==l.tagName&&(1==l.childNodes.length&&3==l.firstChild.nodeType?b.push(l.firstChild.nodeValue):b.push(d(l)))}return b}function f(){k.stop();return this.node.style.fontSize}var n=a._.make,u=a._.wrap,p=a.is,b=a._.getSomeDefs,q=/^url\\(#?([^)]+)\\)$/,e=a._.$,l=a.url,r=String,s=a._.separator,x=\"\";k.on(\"snap.util.attr.mask\",\n",
       "function(a){if(a instanceof v||a instanceof A){k.stop();a instanceof A&&1==a.node.childNodes.length&&(a=a.node.firstChild,b(this).appendChild(a),a=u(a));if(\"mask\"==a.type)var d=a;else d=n(\"mask\",b(this)),d.node.appendChild(a.node);!d.node.id&&e(d.node,{id:d.id});e(this.node,{mask:l(d.id)})}});(function(a){k.on(\"snap.util.attr.clip\",a);k.on(\"snap.util.attr.clip-path\",a);k.on(\"snap.util.attr.clipPath\",a)})(function(a){if(a instanceof v||a instanceof A){k.stop();if(\"clipPath\"==a.type)var d=a;else d=\n",
       "n(\"clipPath\",b(this)),d.node.appendChild(a.node),!d.node.id&&e(d.node,{id:d.id});e(this.node,{\"clip-path\":l(d.id)})}});k.on(\"snap.util.attr.fill\",w(\"fill\"));k.on(\"snap.util.attr.stroke\",w(\"stroke\"));var G=/^([lr])(?:\\(([^)]*)\\))?(.*)$/i;k.on(\"snap.util.grad.parse\",function(a){a=r(a);var b=a.match(G);if(!b)return null;a=b[1];var e=b[2],b=b[3],e=e.split(/\\s*,\\s*/).map(function(a){return+a==a?+a:a});1==e.length&&0==e[0]&&(e=[]);b=b.split(\"-\");b=b.map(function(a){a=a.split(\":\");var b={color:a[0]};a[1]&&\n",
       "(b.offset=parseFloat(a[1]));return b});return{type:a,params:e,stops:b}});k.on(\"snap.util.attr.d\",function(b){k.stop();p(b,\"array\")&&p(b[0],\"array\")&&(b=a.path.toString.call(b));b=r(b);b.match(/[ruo]/i)&&(b=a.path.toAbsolute(b));e(this.node,{d:b})})(-1);k.on(\"snap.util.attr.#text\",function(a){k.stop();a=r(a);for(a=M.doc.createTextNode(a);this.node.firstChild;)this.node.removeChild(this.node.firstChild);this.node.appendChild(a)})(-1);k.on(\"snap.util.attr.path\",function(a){k.stop();this.attr({d:a})})(-1);\n",
       "k.on(\"snap.util.attr.class\",function(a){k.stop();this.node.className.baseVal=a})(-1);k.on(\"snap.util.attr.viewBox\",function(a){a=p(a,\"object\")&&\"x\"in a?[a.x,a.y,a.width,a.height].join(\" \"):p(a,\"array\")?a.join(\" \"):a;e(this.node,{viewBox:a});k.stop()})(-1);k.on(\"snap.util.attr.transform\",function(a){this.transform(a);k.stop()})(-1);k.on(\"snap.util.attr.r\",function(a){\"rect\"==this.type&&(k.stop(),e(this.node,{rx:a,ry:a}))})(-1);k.on(\"snap.util.attr.textpath\",function(a){k.stop();if(\"text\"==this.type){var d,\n",
       "f;if(!a&&this.textPath){for(a=this.textPath;a.node.firstChild;)this.node.appendChild(a.node.firstChild);a.remove();delete this.textPath}else if(p(a,\"string\")?(d=b(this),a=u(d.parentNode).path(a),d.appendChild(a.node),d=a.id,a.attr({id:d})):(a=u(a),a instanceof v&&(d=a.attr(\"id\"),d||(d=a.id,a.attr({id:d})))),d)if(a=this.textPath,f=this.node,a)a.attr({\"xlink:href\":\"#\"+d});else{for(a=e(\"textPath\",{\"xlink:href\":\"#\"+d});f.firstChild;)a.appendChild(f.firstChild);f.appendChild(a);this.textPath=u(a)}}})(-1);\n",
       "k.on(\"snap.util.attr.text\",function(a){if(\"text\"==this.type){for(var b=this.node,d=function(a){var b=e(\"tspan\");if(p(a,\"array\"))for(var f=0;f<a.length;f++)b.appendChild(d(a[f]));else b.appendChild(M.doc.createTextNode(a));b.normalize&&b.normalize();return b};b.firstChild;)b.removeChild(b.firstChild);for(a=d(a);a.firstChild;)b.appendChild(a.firstChild)}k.stop()})(-1);k.on(\"snap.util.attr.fontSize\",z)(-1);k.on(\"snap.util.attr.font-size\",z)(-1);k.on(\"snap.util.getattr.transform\",function(){k.stop();\n",
       "return this.transform()})(-1);k.on(\"snap.util.getattr.textpath\",function(){k.stop();return this.textPath})(-1);(function(){function b(d){return function(){k.stop();var b=M.doc.defaultView.getComputedStyle(this.node,null).getPropertyValue(\"marker-\"+d);return\"none\"==b?b:a(M.doc.getElementById(b.match(q)[1]))}}function d(a){return function(b){k.stop();var d=\"marker\"+a.charAt(0).toUpperCase()+a.substring(1);if(\"\"==b||!b)this.node.style[d]=\"none\";else if(\"marker\"==b.type){var f=b.node.id;f||e(b.node,{id:b.id});\n",
       "this.node.style[d]=l(f)}}}k.on(\"snap.util.getattr.marker-end\",b(\"end\"))(-1);k.on(\"snap.util.getattr.markerEnd\",b(\"end\"))(-1);k.on(\"snap.util.getattr.marker-start\",b(\"start\"))(-1);k.on(\"snap.util.getattr.markerStart\",b(\"start\"))(-1);k.on(\"snap.util.getattr.marker-mid\",b(\"mid\"))(-1);k.on(\"snap.util.getattr.markerMid\",b(\"mid\"))(-1);k.on(\"snap.util.attr.marker-end\",d(\"end\"))(-1);k.on(\"snap.util.attr.markerEnd\",d(\"end\"))(-1);k.on(\"snap.util.attr.marker-start\",d(\"start\"))(-1);k.on(\"snap.util.attr.markerStart\",\n",
       "d(\"start\"))(-1);k.on(\"snap.util.attr.marker-mid\",d(\"mid\"))(-1);k.on(\"snap.util.attr.markerMid\",d(\"mid\"))(-1)})();k.on(\"snap.util.getattr.r\",function(){if(\"rect\"==this.type&&e(this.node,\"rx\")==e(this.node,\"ry\"))return k.stop(),e(this.node,\"rx\")})(-1);k.on(\"snap.util.getattr.text\",function(){if(\"text\"==this.type||\"tspan\"==this.type){k.stop();var a=d(this.node);return 1==a.length?a[0]:a}})(-1);k.on(\"snap.util.getattr.#text\",function(){return this.node.textContent})(-1);k.on(\"snap.util.getattr.viewBox\",\n",
       "function(){k.stop();var b=e(this.node,\"viewBox\");if(b)return b=b.split(s),a._.box(+b[0],+b[1],+b[2],+b[3])})(-1);k.on(\"snap.util.getattr.points\",function(){var a=e(this.node,\"points\");k.stop();if(a)return a.split(s)})(-1);k.on(\"snap.util.getattr.path\",function(){var a=e(this.node,\"d\");k.stop();return a})(-1);k.on(\"snap.util.getattr.class\",function(){return this.node.className.baseVal})(-1);k.on(\"snap.util.getattr.fontSize\",f)(-1);k.on(\"snap.util.getattr.font-size\",f)(-1)});C.plugin(function(a,v,y,\n",
       "M,A){function w(a){return a}function z(a){return function(b){return+b.toFixed(3)+a}}var d={\"+\":function(a,b){return a+b},\"-\":function(a,b){return a-b},\"/\":function(a,b){return a/b},\"*\":function(a,b){return a*b}},f=String,n=/[a-z]+$/i,u=/^\\s*([+\\-\\/*])\\s*=\\s*([\\d.eE+\\-]+)\\s*([^\\d\\s]+)?\\s*$/;k.on(\"snap.util.attr\",function(a){if(a=f(a).match(u)){var b=k.nt(),b=b.substring(b.lastIndexOf(\".\")+1),q=this.attr(b),e={};k.stop();var l=a[3]||\"\",r=q.match(n),s=d[a[1] ];r&&r==l?a=s(parseFloat(q),+a[2]):(q=this.asPX(b),\n",
       "a=s(this.asPX(b),this.asPX(b,a[2]+l)));isNaN(q)||isNaN(a)||(e[b]=a,this.attr(e))}})(-10);k.on(\"snap.util.equal\",function(a,b){var q=f(this.attr(a)||\"\"),e=f(b).match(u);if(e){k.stop();var l=e[3]||\"\",r=q.match(n),s=d[e[1] ];if(r&&r==l)return{from:parseFloat(q),to:s(parseFloat(q),+e[2]),f:z(r)};q=this.asPX(a);return{from:q,to:s(q,this.asPX(a,e[2]+l)),f:w}}})(-10)});C.plugin(function(a,v,y,M,A){var w=y.prototype,z=a.is;w.rect=function(a,d,k,p,b,q){var e;null==q&&(q=b);z(a,\"object\")&&\"[object Object]\"==\n",
       "a?e=a:null!=a&&(e={x:a,y:d,width:k,height:p},null!=b&&(e.rx=b,e.ry=q));return this.el(\"rect\",e)};w.circle=function(a,d,k){var p;z(a,\"object\")&&\"[object Object]\"==a?p=a:null!=a&&(p={cx:a,cy:d,r:k});return this.el(\"circle\",p)};var d=function(){function a(){this.parentNode.removeChild(this)}return function(d,k){var p=M.doc.createElement(\"img\"),b=M.doc.body;p.style.cssText=\"position:absolute;left:-9999em;top:-9999em\";p.onload=function(){k.call(p);p.onload=p.onerror=null;b.removeChild(p)};p.onerror=a;\n",
       "b.appendChild(p);p.src=d}}();w.image=function(f,n,k,p,b){var q=this.el(\"image\");if(z(f,\"object\")&&\"src\"in f)q.attr(f);else if(null!=f){var e={\"xlink:href\":f,preserveAspectRatio:\"none\"};null!=n&&null!=k&&(e.x=n,e.y=k);null!=p&&null!=b?(e.width=p,e.height=b):d(f,function(){a._.$(q.node,{width:this.offsetWidth,height:this.offsetHeight})});a._.$(q.node,e)}return q};w.ellipse=function(a,d,k,p){var b;z(a,\"object\")&&\"[object Object]\"==a?b=a:null!=a&&(b={cx:a,cy:d,rx:k,ry:p});return this.el(\"ellipse\",b)};\n",
       "w.path=function(a){var d;z(a,\"object\")&&!z(a,\"array\")?d=a:a&&(d={d:a});return this.el(\"path\",d)};w.group=w.g=function(a){var d=this.el(\"g\");1==arguments.length&&a&&!a.type?d.attr(a):arguments.length&&d.add(Array.prototype.slice.call(arguments,0));return d};w.svg=function(a,d,k,p,b,q,e,l){var r={};z(a,\"object\")&&null==d?r=a:(null!=a&&(r.x=a),null!=d&&(r.y=d),null!=k&&(r.width=k),null!=p&&(r.height=p),null!=b&&null!=q&&null!=e&&null!=l&&(r.viewBox=[b,q,e,l]));return this.el(\"svg\",r)};w.mask=function(a){var d=\n",
       "this.el(\"mask\");1==arguments.length&&a&&!a.type?d.attr(a):arguments.length&&d.add(Array.prototype.slice.call(arguments,0));return d};w.ptrn=function(a,d,k,p,b,q,e,l){if(z(a,\"object\"))var r=a;else arguments.length?(r={},null!=a&&(r.x=a),null!=d&&(r.y=d),null!=k&&(r.width=k),null!=p&&(r.height=p),null!=b&&null!=q&&null!=e&&null!=l&&(r.viewBox=[b,q,e,l])):r={patternUnits:\"userSpaceOnUse\"};return this.el(\"pattern\",r)};w.use=function(a){return null!=a?(make(\"use\",this.node),a instanceof v&&(a.attr(\"id\")||\n",
       "a.attr({id:ID()}),a=a.attr(\"id\")),this.el(\"use\",{\"xlink:href\":a})):v.prototype.use.call(this)};w.text=function(a,d,k){var p={};z(a,\"object\")?p=a:null!=a&&(p={x:a,y:d,text:k||\"\"});return this.el(\"text\",p)};w.line=function(a,d,k,p){var b={};z(a,\"object\")?b=a:null!=a&&(b={x1:a,x2:k,y1:d,y2:p});return this.el(\"line\",b)};w.polyline=function(a){1<arguments.length&&(a=Array.prototype.slice.call(arguments,0));var d={};z(a,\"object\")&&!z(a,\"array\")?d=a:null!=a&&(d={points:a});return this.el(\"polyline\",d)};\n",
       "w.polygon=function(a){1<arguments.length&&(a=Array.prototype.slice.call(arguments,0));var d={};z(a,\"object\")&&!z(a,\"array\")?d=a:null!=a&&(d={points:a});return this.el(\"polygon\",d)};(function(){function d(){return this.selectAll(\"stop\")}function n(b,d){var f=e(\"stop\"),k={offset:+d+\"%\"};b=a.color(b);k[\"stop-color\"]=b.hex;1>b.opacity&&(k[\"stop-opacity\"]=b.opacity);e(f,k);this.node.appendChild(f);return this}function u(){if(\"linearGradient\"==this.type){var b=e(this.node,\"x1\")||0,d=e(this.node,\"x2\")||\n",
       "1,f=e(this.node,\"y1\")||0,k=e(this.node,\"y2\")||0;return a._.box(b,f,math.abs(d-b),math.abs(k-f))}b=this.node.r||0;return a._.box((this.node.cx||0.5)-b,(this.node.cy||0.5)-b,2*b,2*b)}function p(a,d){function f(a,b){for(var d=(b-u)/(a-w),e=w;e<a;e++)h[e].offset=+(+u+d*(e-w)).toFixed(2);w=a;u=b}var n=k(\"snap.util.grad.parse\",null,d).firstDefined(),p;if(!n)return null;n.params.unshift(a);p=\"l\"==n.type.toLowerCase()?b.apply(0,n.params):q.apply(0,n.params);n.type!=n.type.toLowerCase()&&e(p.node,{gradientUnits:\"userSpaceOnUse\"});\n",
       "var h=n.stops,n=h.length,u=0,w=0;n--;for(var v=0;v<n;v++)\"offset\"in h[v]&&f(v,h[v].offset);h[n].offset=h[n].offset||100;f(n,h[n].offset);for(v=0;v<=n;v++){var y=h[v];p.addStop(y.color,y.offset)}return p}function b(b,k,p,q,w){b=a._.make(\"linearGradient\",b);b.stops=d;b.addStop=n;b.getBBox=u;null!=k&&e(b.node,{x1:k,y1:p,x2:q,y2:w});return b}function q(b,k,p,q,w,h){b=a._.make(\"radialGradient\",b);b.stops=d;b.addStop=n;b.getBBox=u;null!=k&&e(b.node,{cx:k,cy:p,r:q});null!=w&&null!=h&&e(b.node,{fx:w,fy:h});\n",
       "return b}var e=a._.$;w.gradient=function(a){return p(this.defs,a)};w.gradientLinear=function(a,d,e,f){return b(this.defs,a,d,e,f)};w.gradientRadial=function(a,b,d,e,f){return q(this.defs,a,b,d,e,f)};w.toString=function(){var b=this.node.ownerDocument,d=b.createDocumentFragment(),b=b.createElement(\"div\"),e=this.node.cloneNode(!0);d.appendChild(b);b.appendChild(e);a._.$(e,{xmlns:\"http://www.w3.org/2000/svg\"});b=b.innerHTML;d.removeChild(d.firstChild);return b};w.clear=function(){for(var a=this.node.firstChild,\n",
       "b;a;)b=a.nextSibling,\"defs\"!=a.tagName?a.parentNode.removeChild(a):w.clear.call({node:a}),a=b}})()});C.plugin(function(a,k,y,M){function A(a){var b=A.ps=A.ps||{};b[a]?b[a].sleep=100:b[a]={sleep:100};setTimeout(function(){for(var d in b)b[L](d)&&d!=a&&(b[d].sleep--,!b[d].sleep&&delete b[d])});return b[a]}function w(a,b,d,e){null==a&&(a=b=d=e=0);null==b&&(b=a.y,d=a.width,e=a.height,a=a.x);return{x:a,y:b,width:d,w:d,height:e,h:e,x2:a+d,y2:b+e,cx:a+d/2,cy:b+e/2,r1:F.min(d,e)/2,r2:F.max(d,e)/2,r0:F.sqrt(d*\n",
       "d+e*e)/2,path:s(a,b,d,e),vb:[a,b,d,e].join(\" \")}}function z(){return this.join(\",\").replace(N,\"$1\")}function d(a){a=C(a);a.toString=z;return a}function f(a,b,d,h,f,k,l,n,p){if(null==p)return e(a,b,d,h,f,k,l,n);if(0>p||e(a,b,d,h,f,k,l,n)<p)p=void 0;else{var q=0.5,O=1-q,s;for(s=e(a,b,d,h,f,k,l,n,O);0.01<Z(s-p);)q/=2,O+=(s<p?1:-1)*q,s=e(a,b,d,h,f,k,l,n,O);p=O}return u(a,b,d,h,f,k,l,n,p)}function n(b,d){function e(a){return+(+a).toFixed(3)}return a._.cacher(function(a,h,l){a instanceof k&&(a=a.attr(\"d\"));\n",
       "a=I(a);for(var n,p,D,q,O=\"\",s={},c=0,t=0,r=a.length;t<r;t++){D=a[t];if(\"M\"==D[0])n=+D[1],p=+D[2];else{q=f(n,p,D[1],D[2],D[3],D[4],D[5],D[6]);if(c+q>h){if(d&&!s.start){n=f(n,p,D[1],D[2],D[3],D[4],D[5],D[6],h-c);O+=[\"C\"+e(n.start.x),e(n.start.y),e(n.m.x),e(n.m.y),e(n.x),e(n.y)];if(l)return O;s.start=O;O=[\"M\"+e(n.x),e(n.y)+\"C\"+e(n.n.x),e(n.n.y),e(n.end.x),e(n.end.y),e(D[5]),e(D[6])].join();c+=q;n=+D[5];p=+D[6];continue}if(!b&&!d)return n=f(n,p,D[1],D[2],D[3],D[4],D[5],D[6],h-c)}c+=q;n=+D[5];p=+D[6]}O+=\n",
       "D.shift()+D}s.end=O;return n=b?c:d?s:u(n,p,D[0],D[1],D[2],D[3],D[4],D[5],1)},null,a._.clone)}function u(a,b,d,e,h,f,k,l,n){var p=1-n,q=ma(p,3),s=ma(p,2),c=n*n,t=c*n,r=q*a+3*s*n*d+3*p*n*n*h+t*k,q=q*b+3*s*n*e+3*p*n*n*f+t*l,s=a+2*n*(d-a)+c*(h-2*d+a),t=b+2*n*(e-b)+c*(f-2*e+b),x=d+2*n*(h-d)+c*(k-2*h+d),c=e+2*n*(f-e)+c*(l-2*f+e);a=p*a+n*d;b=p*b+n*e;h=p*h+n*k;f=p*f+n*l;l=90-180*F.atan2(s-x,t-c)/S;return{x:r,y:q,m:{x:s,y:t},n:{x:x,y:c},start:{x:a,y:b},end:{x:h,y:f},alpha:l}}function p(b,d,e,h,f,n,k,l){a.is(b,\n",
       "\"array\")||(b=[b,d,e,h,f,n,k,l]);b=U.apply(null,b);return w(b.min.x,b.min.y,b.max.x-b.min.x,b.max.y-b.min.y)}function b(a,b,d){return b>=a.x&&b<=a.x+a.width&&d>=a.y&&d<=a.y+a.height}function q(a,d){a=w(a);d=w(d);return b(d,a.x,a.y)||b(d,a.x2,a.y)||b(d,a.x,a.y2)||b(d,a.x2,a.y2)||b(a,d.x,d.y)||b(a,d.x2,d.y)||b(a,d.x,d.y2)||b(a,d.x2,d.y2)||(a.x<d.x2&&a.x>d.x||d.x<a.x2&&d.x>a.x)&&(a.y<d.y2&&a.y>d.y||d.y<a.y2&&d.y>a.y)}function e(a,b,d,e,h,f,n,k,l){null==l&&(l=1);l=(1<l?1:0>l?0:l)/2;for(var p=[-0.1252,\n",
       "0.1252,-0.3678,0.3678,-0.5873,0.5873,-0.7699,0.7699,-0.9041,0.9041,-0.9816,0.9816],q=[0.2491,0.2491,0.2335,0.2335,0.2032,0.2032,0.1601,0.1601,0.1069,0.1069,0.0472,0.0472],s=0,c=0;12>c;c++)var t=l*p[c]+l,r=t*(t*(-3*a+9*d-9*h+3*n)+6*a-12*d+6*h)-3*a+3*d,t=t*(t*(-3*b+9*e-9*f+3*k)+6*b-12*e+6*f)-3*b+3*e,s=s+q[c]*F.sqrt(r*r+t*t);return l*s}function l(a,b,d){a=I(a);b=I(b);for(var h,f,l,n,k,s,r,O,x,c,t=d?0:[],w=0,v=a.length;w<v;w++)if(x=a[w],\"M\"==x[0])h=k=x[1],f=s=x[2];else{\"C\"==x[0]?(x=[h,f].concat(x.slice(1)),\n",
       "h=x[6],f=x[7]):(x=[h,f,h,f,k,s,k,s],h=k,f=s);for(var G=0,y=b.length;G<y;G++)if(c=b[G],\"M\"==c[0])l=r=c[1],n=O=c[2];else{\"C\"==c[0]?(c=[l,n].concat(c.slice(1)),l=c[6],n=c[7]):(c=[l,n,l,n,r,O,r,O],l=r,n=O);var z;var K=x,B=c;z=d;var H=p(K),J=p(B);if(q(H,J)){for(var H=e.apply(0,K),J=e.apply(0,B),H=~~(H/8),J=~~(J/8),U=[],A=[],F={},M=z?0:[],P=0;P<H+1;P++){var C=u.apply(0,K.concat(P/H));U.push({x:C.x,y:C.y,t:P/H})}for(P=0;P<J+1;P++)C=u.apply(0,B.concat(P/J)),A.push({x:C.x,y:C.y,t:P/J});for(P=0;P<H;P++)for(K=\n",
       "0;K<J;K++){var Q=U[P],L=U[P+1],B=A[K],C=A[K+1],N=0.001>Z(L.x-Q.x)?\"y\":\"x\",S=0.001>Z(C.x-B.x)?\"y\":\"x\",R;R=Q.x;var Y=Q.y,V=L.x,ea=L.y,fa=B.x,ga=B.y,ha=C.x,ia=C.y;if(W(R,V)<X(fa,ha)||X(R,V)>W(fa,ha)||W(Y,ea)<X(ga,ia)||X(Y,ea)>W(ga,ia))R=void 0;else{var $=(R*ea-Y*V)*(fa-ha)-(R-V)*(fa*ia-ga*ha),aa=(R*ea-Y*V)*(ga-ia)-(Y-ea)*(fa*ia-ga*ha),ja=(R-V)*(ga-ia)-(Y-ea)*(fa-ha);if(ja){var $=$/ja,aa=aa/ja,ja=+$.toFixed(2),ba=+aa.toFixed(2);R=ja<+X(R,V).toFixed(2)||ja>+W(R,V).toFixed(2)||ja<+X(fa,ha).toFixed(2)||\n",
       "ja>+W(fa,ha).toFixed(2)||ba<+X(Y,ea).toFixed(2)||ba>+W(Y,ea).toFixed(2)||ba<+X(ga,ia).toFixed(2)||ba>+W(ga,ia).toFixed(2)?void 0:{x:$,y:aa}}else R=void 0}R&&F[R.x.toFixed(4)]!=R.y.toFixed(4)&&(F[R.x.toFixed(4)]=R.y.toFixed(4),Q=Q.t+Z((R[N]-Q[N])/(L[N]-Q[N]))*(L.t-Q.t),B=B.t+Z((R[S]-B[S])/(C[S]-B[S]))*(C.t-B.t),0<=Q&&1>=Q&&0<=B&&1>=B&&(z?M++:M.push({x:R.x,y:R.y,t1:Q,t2:B})))}z=M}else z=z?0:[];if(d)t+=z;else{H=0;for(J=z.length;H<J;H++)z[H].segment1=w,z[H].segment2=G,z[H].bez1=x,z[H].bez2=c;t=t.concat(z)}}}return t}\n",
       "function r(a){var b=A(a);if(b.bbox)return C(b.bbox);if(!a)return w();a=I(a);for(var d=0,e=0,h=[],f=[],l,n=0,k=a.length;n<k;n++)l=a[n],\"M\"==l[0]?(d=l[1],e=l[2],h.push(d),f.push(e)):(d=U(d,e,l[1],l[2],l[3],l[4],l[5],l[6]),h=h.concat(d.min.x,d.max.x),f=f.concat(d.min.y,d.max.y),d=l[5],e=l[6]);a=X.apply(0,h);l=X.apply(0,f);h=W.apply(0,h);f=W.apply(0,f);f=w(a,l,h-a,f-l);b.bbox=C(f);return f}function s(a,b,d,e,h){if(h)return[[\"M\",+a+ +h,b],[\"l\",d-2*h,0],[\"a\",h,h,0,0,1,h,h],[\"l\",0,e-2*h],[\"a\",h,h,0,0,1,\n",
       "-h,h],[\"l\",2*h-d,0],[\"a\",h,h,0,0,1,-h,-h],[\"l\",0,2*h-e],[\"a\",h,h,0,0,1,h,-h],[\"z\"] ];a=[[\"M\",a,b],[\"l\",d,0],[\"l\",0,e],[\"l\",-d,0],[\"z\"] ];a.toString=z;return a}function x(a,b,d,e,h){null==h&&null==e&&(e=d);a=+a;b=+b;d=+d;e=+e;if(null!=h){var f=Math.PI/180,l=a+d*Math.cos(-e*f);a+=d*Math.cos(-h*f);var n=b+d*Math.sin(-e*f);b+=d*Math.sin(-h*f);d=[[\"M\",l,n],[\"A\",d,d,0,+(180<h-e),0,a,b] ]}else d=[[\"M\",a,b],[\"m\",0,-e],[\"a\",d,e,0,1,1,0,2*e],[\"a\",d,e,0,1,1,0,-2*e],[\"z\"] ];d.toString=z;return d}function G(b){var e=\n",
       "A(b);if(e.abs)return d(e.abs);Q(b,\"array\")&&Q(b&&b[0],\"array\")||(b=a.parsePathString(b));if(!b||!b.length)return[[\"M\",0,0] ];var h=[],f=0,l=0,n=0,k=0,p=0;\"M\"==b[0][0]&&(f=+b[0][1],l=+b[0][2],n=f,k=l,p++,h[0]=[\"M\",f,l]);for(var q=3==b.length&&\"M\"==b[0][0]&&\"R\"==b[1][0].toUpperCase()&&\"Z\"==b[2][0].toUpperCase(),s,r,w=p,c=b.length;w<c;w++){h.push(s=[]);r=b[w];p=r[0];if(p!=p.toUpperCase())switch(s[0]=p.toUpperCase(),s[0]){case \"A\":s[1]=r[1];s[2]=r[2];s[3]=r[3];s[4]=r[4];s[5]=r[5];s[6]=+r[6]+f;s[7]=+r[7]+\n",
       "l;break;case \"V\":s[1]=+r[1]+l;break;case \"H\":s[1]=+r[1]+f;break;case \"R\":for(var t=[f,l].concat(r.slice(1)),u=2,v=t.length;u<v;u++)t[u]=+t[u]+f,t[++u]=+t[u]+l;h.pop();h=h.concat(P(t,q));break;case \"O\":h.pop();t=x(f,l,r[1],r[2]);t.push(t[0]);h=h.concat(t);break;case \"U\":h.pop();h=h.concat(x(f,l,r[1],r[2],r[3]));s=[\"U\"].concat(h[h.length-1].slice(-2));break;case \"M\":n=+r[1]+f,k=+r[2]+l;default:for(u=1,v=r.length;u<v;u++)s[u]=+r[u]+(u%2?f:l)}else if(\"R\"==p)t=[f,l].concat(r.slice(1)),h.pop(),h=h.concat(P(t,\n",
       "q)),s=[\"R\"].concat(r.slice(-2));else if(\"O\"==p)h.pop(),t=x(f,l,r[1],r[2]),t.push(t[0]),h=h.concat(t);else if(\"U\"==p)h.pop(),h=h.concat(x(f,l,r[1],r[2],r[3])),s=[\"U\"].concat(h[h.length-1].slice(-2));else for(t=0,u=r.length;t<u;t++)s[t]=r[t];p=p.toUpperCase();if(\"O\"!=p)switch(s[0]){case \"Z\":f=+n;l=+k;break;case \"H\":f=s[1];break;case \"V\":l=s[1];break;case \"M\":n=s[s.length-2],k=s[s.length-1];default:f=s[s.length-2],l=s[s.length-1]}}h.toString=z;e.abs=d(h);return h}function h(a,b,d,e){return[a,b,d,e,d,\n",
       "e]}function J(a,b,d,e,h,f){var l=1/3,n=2/3;return[l*a+n*d,l*b+n*e,l*h+n*d,l*f+n*e,h,f]}function K(b,d,e,h,f,l,n,k,p,s){var r=120*S/180,q=S/180*(+f||0),c=[],t,x=a._.cacher(function(a,b,c){var d=a*F.cos(c)-b*F.sin(c);a=a*F.sin(c)+b*F.cos(c);return{x:d,y:a}});if(s)v=s[0],t=s[1],l=s[2],u=s[3];else{t=x(b,d,-q);b=t.x;d=t.y;t=x(k,p,-q);k=t.x;p=t.y;F.cos(S/180*f);F.sin(S/180*f);t=(b-k)/2;v=(d-p)/2;u=t*t/(e*e)+v*v/(h*h);1<u&&(u=F.sqrt(u),e*=u,h*=u);var u=e*e,w=h*h,u=(l==n?-1:1)*F.sqrt(Z((u*w-u*v*v-w*t*t)/\n",
       "(u*v*v+w*t*t)));l=u*e*v/h+(b+k)/2;var u=u*-h*t/e+(d+p)/2,v=F.asin(((d-u)/h).toFixed(9));t=F.asin(((p-u)/h).toFixed(9));v=b<l?S-v:v;t=k<l?S-t:t;0>v&&(v=2*S+v);0>t&&(t=2*S+t);n&&v>t&&(v-=2*S);!n&&t>v&&(t-=2*S)}if(Z(t-v)>r){var c=t,w=k,G=p;t=v+r*(n&&t>v?1:-1);k=l+e*F.cos(t);p=u+h*F.sin(t);c=K(k,p,e,h,f,0,n,w,G,[t,c,l,u])}l=t-v;f=F.cos(v);r=F.sin(v);n=F.cos(t);t=F.sin(t);l=F.tan(l/4);e=4/3*e*l;l*=4/3*h;h=[b,d];b=[b+e*r,d-l*f];d=[k+e*t,p-l*n];k=[k,p];b[0]=2*h[0]-b[0];b[1]=2*h[1]-b[1];if(s)return[b,d,k].concat(c);\n",
       "c=[b,d,k].concat(c).join().split(\",\");s=[];k=0;for(p=c.length;k<p;k++)s[k]=k%2?x(c[k-1],c[k],q).y:x(c[k],c[k+1],q).x;return s}function U(a,b,d,e,h,f,l,k){for(var n=[],p=[[],[] ],s,r,c,t,q=0;2>q;++q)0==q?(r=6*a-12*d+6*h,s=-3*a+9*d-9*h+3*l,c=3*d-3*a):(r=6*b-12*e+6*f,s=-3*b+9*e-9*f+3*k,c=3*e-3*b),1E-12>Z(s)?1E-12>Z(r)||(s=-c/r,0<s&&1>s&&n.push(s)):(t=r*r-4*c*s,c=F.sqrt(t),0>t||(t=(-r+c)/(2*s),0<t&&1>t&&n.push(t),s=(-r-c)/(2*s),0<s&&1>s&&n.push(s)));for(r=q=n.length;q--;)s=n[q],c=1-s,p[0][q]=c*c*c*a+3*\n",
       "c*c*s*d+3*c*s*s*h+s*s*s*l,p[1][q]=c*c*c*b+3*c*c*s*e+3*c*s*s*f+s*s*s*k;p[0][r]=a;p[1][r]=b;p[0][r+1]=l;p[1][r+1]=k;p[0].length=p[1].length=r+2;return{min:{x:X.apply(0,p[0]),y:X.apply(0,p[1])},max:{x:W.apply(0,p[0]),y:W.apply(0,p[1])}}}function I(a,b){var e=!b&&A(a);if(!b&&e.curve)return d(e.curve);var f=G(a),l=b&&G(b),n={x:0,y:0,bx:0,by:0,X:0,Y:0,qx:null,qy:null},k={x:0,y:0,bx:0,by:0,X:0,Y:0,qx:null,qy:null},p=function(a,b,c){if(!a)return[\"C\",b.x,b.y,b.x,b.y,b.x,b.y];a[0]in{T:1,Q:1}||(b.qx=b.qy=null);\n",
       "switch(a[0]){case \"M\":b.X=a[1];b.Y=a[2];break;case \"A\":a=[\"C\"].concat(K.apply(0,[b.x,b.y].concat(a.slice(1))));break;case \"S\":\"C\"==c||\"S\"==c?(c=2*b.x-b.bx,b=2*b.y-b.by):(c=b.x,b=b.y);a=[\"C\",c,b].concat(a.slice(1));break;case \"T\":\"Q\"==c||\"T\"==c?(b.qx=2*b.x-b.qx,b.qy=2*b.y-b.qy):(b.qx=b.x,b.qy=b.y);a=[\"C\"].concat(J(b.x,b.y,b.qx,b.qy,a[1],a[2]));break;case \"Q\":b.qx=a[1];b.qy=a[2];a=[\"C\"].concat(J(b.x,b.y,a[1],a[2],a[3],a[4]));break;case \"L\":a=[\"C\"].concat(h(b.x,b.y,a[1],a[2]));break;case \"H\":a=[\"C\"].concat(h(b.x,\n",
       "b.y,a[1],b.y));break;case \"V\":a=[\"C\"].concat(h(b.x,b.y,b.x,a[1]));break;case \"Z\":a=[\"C\"].concat(h(b.x,b.y,b.X,b.Y))}return a},s=function(a,b){if(7<a[b].length){a[b].shift();for(var c=a[b];c.length;)q[b]=\"A\",l&&(u[b]=\"A\"),a.splice(b++,0,[\"C\"].concat(c.splice(0,6)));a.splice(b,1);v=W(f.length,l&&l.length||0)}},r=function(a,b,c,d,e){a&&b&&\"M\"==a[e][0]&&\"M\"!=b[e][0]&&(b.splice(e,0,[\"M\",d.x,d.y]),c.bx=0,c.by=0,c.x=a[e][1],c.y=a[e][2],v=W(f.length,l&&l.length||0))},q=[],u=[],c=\"\",t=\"\",x=0,v=W(f.length,\n",
       "l&&l.length||0);for(;x<v;x++){f[x]&&(c=f[x][0]);\"C\"!=c&&(q[x]=c,x&&(t=q[x-1]));f[x]=p(f[x],n,t);\"A\"!=q[x]&&\"C\"==c&&(q[x]=\"C\");s(f,x);l&&(l[x]&&(c=l[x][0]),\"C\"!=c&&(u[x]=c,x&&(t=u[x-1])),l[x]=p(l[x],k,t),\"A\"!=u[x]&&\"C\"==c&&(u[x]=\"C\"),s(l,x));r(f,l,n,k,x);r(l,f,k,n,x);var w=f[x],z=l&&l[x],y=w.length,U=l&&z.length;n.x=w[y-2];n.y=w[y-1];n.bx=$(w[y-4])||n.x;n.by=$(w[y-3])||n.y;k.bx=l&&($(z[U-4])||k.x);k.by=l&&($(z[U-3])||k.y);k.x=l&&z[U-2];k.y=l&&z[U-1]}l||(e.curve=d(f));return l?[f,l]:f}function P(a,\n",
       "b){for(var d=[],e=0,h=a.length;h-2*!b>e;e+=2){var f=[{x:+a[e-2],y:+a[e-1]},{x:+a[e],y:+a[e+1]},{x:+a[e+2],y:+a[e+3]},{x:+a[e+4],y:+a[e+5]}];b?e?h-4==e?f[3]={x:+a[0],y:+a[1]}:h-2==e&&(f[2]={x:+a[0],y:+a[1]},f[3]={x:+a[2],y:+a[3]}):f[0]={x:+a[h-2],y:+a[h-1]}:h-4==e?f[3]=f[2]:e||(f[0]={x:+a[e],y:+a[e+1]});d.push([\"C\",(-f[0].x+6*f[1].x+f[2].x)/6,(-f[0].y+6*f[1].y+f[2].y)/6,(f[1].x+6*f[2].x-f[3].x)/6,(f[1].y+6*f[2].y-f[3].y)/6,f[2].x,f[2].y])}return d}y=k.prototype;var Q=a.is,C=a._.clone,L=\"hasOwnProperty\",\n",
       "N=/,?([a-z]),?/gi,$=parseFloat,F=Math,S=F.PI,X=F.min,W=F.max,ma=F.pow,Z=F.abs;M=n(1);var na=n(),ba=n(0,1),V=a._unit2px;a.path=A;a.path.getTotalLength=M;a.path.getPointAtLength=na;a.path.getSubpath=function(a,b,d){if(1E-6>this.getTotalLength(a)-d)return ba(a,b).end;a=ba(a,d,1);return b?ba(a,b).end:a};y.getTotalLength=function(){if(this.node.getTotalLength)return this.node.getTotalLength()};y.getPointAtLength=function(a){return na(this.attr(\"d\"),a)};y.getSubpath=function(b,d){return a.path.getSubpath(this.attr(\"d\"),\n",
       "b,d)};a._.box=w;a.path.findDotsAtSegment=u;a.path.bezierBBox=p;a.path.isPointInsideBBox=b;a.path.isBBoxIntersect=q;a.path.intersection=function(a,b){return l(a,b)};a.path.intersectionNumber=function(a,b){return l(a,b,1)};a.path.isPointInside=function(a,d,e){var h=r(a);return b(h,d,e)&&1==l(a,[[\"M\",d,e],[\"H\",h.x2+10] ],1)%2};a.path.getBBox=r;a.path.get={path:function(a){return a.attr(\"path\")},circle:function(a){a=V(a);return x(a.cx,a.cy,a.r)},ellipse:function(a){a=V(a);return x(a.cx||0,a.cy||0,a.rx,\n",
       "a.ry)},rect:function(a){a=V(a);return s(a.x||0,a.y||0,a.width,a.height,a.rx,a.ry)},image:function(a){a=V(a);return s(a.x||0,a.y||0,a.width,a.height)},line:function(a){return\"M\"+[a.attr(\"x1\")||0,a.attr(\"y1\")||0,a.attr(\"x2\"),a.attr(\"y2\")]},polyline:function(a){return\"M\"+a.attr(\"points\")},polygon:function(a){return\"M\"+a.attr(\"points\")+\"z\"},deflt:function(a){a=a.node.getBBox();return s(a.x,a.y,a.width,a.height)}};a.path.toRelative=function(b){var e=A(b),h=String.prototype.toLowerCase;if(e.rel)return d(e.rel);\n",
       "a.is(b,\"array\")&&a.is(b&&b[0],\"array\")||(b=a.parsePathString(b));var f=[],l=0,n=0,k=0,p=0,s=0;\"M\"==b[0][0]&&(l=b[0][1],n=b[0][2],k=l,p=n,s++,f.push([\"M\",l,n]));for(var r=b.length;s<r;s++){var q=f[s]=[],x=b[s];if(x[0]!=h.call(x[0]))switch(q[0]=h.call(x[0]),q[0]){case \"a\":q[1]=x[1];q[2]=x[2];q[3]=x[3];q[4]=x[4];q[5]=x[5];q[6]=+(x[6]-l).toFixed(3);q[7]=+(x[7]-n).toFixed(3);break;case \"v\":q[1]=+(x[1]-n).toFixed(3);break;case \"m\":k=x[1],p=x[2];default:for(var c=1,t=x.length;c<t;c++)q[c]=+(x[c]-(c%2?l:\n",
       "n)).toFixed(3)}else for(f[s]=[],\"m\"==x[0]&&(k=x[1]+l,p=x[2]+n),q=0,c=x.length;q<c;q++)f[s][q]=x[q];x=f[s].length;switch(f[s][0]){case \"z\":l=k;n=p;break;case \"h\":l+=+f[s][x-1];break;case \"v\":n+=+f[s][x-1];break;default:l+=+f[s][x-2],n+=+f[s][x-1]}}f.toString=z;e.rel=d(f);return f};a.path.toAbsolute=G;a.path.toCubic=I;a.path.map=function(a,b){if(!b)return a;var d,e,h,f,l,n,k;a=I(a);h=0;for(l=a.length;h<l;h++)for(k=a[h],f=1,n=k.length;f<n;f+=2)d=b.x(k[f],k[f+1]),e=b.y(k[f],k[f+1]),k[f]=d,k[f+1]=e;return a};\n",
       "a.path.toString=z;a.path.clone=d});C.plugin(function(a,v,y,C){var A=Math.max,w=Math.min,z=function(a){this.items=[];this.bindings={};this.length=0;this.type=\"set\";if(a)for(var f=0,n=a.length;f<n;f++)a[f]&&(this[this.items.length]=this.items[this.items.length]=a[f],this.length++)};v=z.prototype;v.push=function(){for(var a,f,n=0,k=arguments.length;n<k;n++)if(a=arguments[n])f=this.items.length,this[f]=this.items[f]=a,this.length++;return this};v.pop=function(){this.length&&delete this[this.length--];\n",
       "return this.items.pop()};v.forEach=function(a,f){for(var n=0,k=this.items.length;n<k&&!1!==a.call(f,this.items[n],n);n++);return this};v.animate=function(d,f,n,u){\"function\"!=typeof n||n.length||(u=n,n=L.linear);d instanceof a._.Animation&&(u=d.callback,n=d.easing,f=n.dur,d=d.attr);var p=arguments;if(a.is(d,\"array\")&&a.is(p[p.length-1],\"array\"))var b=!0;var q,e=function(){q?this.b=q:q=this.b},l=0,r=u&&function(){l++==this.length&&u.call(this)};return this.forEach(function(a,l){k.once(\"snap.animcreated.\"+\n",
       "a.id,e);b?p[l]&&a.animate.apply(a,p[l]):a.animate(d,f,n,r)})};v.remove=function(){for(;this.length;)this.pop().remove();return this};v.bind=function(a,f,k){var u={};if(\"function\"==typeof f)this.bindings[a]=f;else{var p=k||a;this.bindings[a]=function(a){u[p]=a;f.attr(u)}}return this};v.attr=function(a){var f={},k;for(k in a)if(this.bindings[k])this.bindings[k](a[k]);else f[k]=a[k];a=0;for(k=this.items.length;a<k;a++)this.items[a].attr(f);return this};v.clear=function(){for(;this.length;)this.pop()};\n",
       "v.splice=function(a,f,k){a=0>a?A(this.length+a,0):a;f=A(0,w(this.length-a,f));var u=[],p=[],b=[],q;for(q=2;q<arguments.length;q++)b.push(arguments[q]);for(q=0;q<f;q++)p.push(this[a+q]);for(;q<this.length-a;q++)u.push(this[a+q]);var e=b.length;for(q=0;q<e+u.length;q++)this.items[a+q]=this[a+q]=q<e?b[q]:u[q-e];for(q=this.items.length=this.length-=f-e;this[q];)delete this[q++];return new z(p)};v.exclude=function(a){for(var f=0,k=this.length;f<k;f++)if(this[f]==a)return this.splice(f,1),!0;return!1};\n",
       "v.insertAfter=function(a){for(var f=this.items.length;f--;)this.items[f].insertAfter(a);return this};v.getBBox=function(){for(var a=[],f=[],k=[],u=[],p=this.items.length;p--;)if(!this.items[p].removed){var b=this.items[p].getBBox();a.push(b.x);f.push(b.y);k.push(b.x+b.width);u.push(b.y+b.height)}a=w.apply(0,a);f=w.apply(0,f);k=A.apply(0,k);u=A.apply(0,u);return{x:a,y:f,x2:k,y2:u,width:k-a,height:u-f,cx:a+(k-a)/2,cy:f+(u-f)/2}};v.clone=function(a){a=new z;for(var f=0,k=this.items.length;f<k;f++)a.push(this.items[f].clone());\n",
       "return a};v.toString=function(){return\"Snap\\u2018s set\"};v.type=\"set\";a.set=function(){var a=new z;arguments.length&&a.push.apply(a,Array.prototype.slice.call(arguments,0));return a}});C.plugin(function(a,v,y,C){function A(a){var b=a[0];switch(b.toLowerCase()){case \"t\":return[b,0,0];case \"m\":return[b,1,0,0,1,0,0];case \"r\":return 4==a.length?[b,0,a[2],a[3] ]:[b,0];case \"s\":return 5==a.length?[b,1,1,a[3],a[4] ]:3==a.length?[b,1,1]:[b,1]}}function w(b,d,f){d=q(d).replace(/\\.{3}|\\u2026/g,b);b=a.parseTransformString(b)||\n",
       "[];d=a.parseTransformString(d)||[];for(var k=Math.max(b.length,d.length),p=[],v=[],h=0,w,z,y,I;h<k;h++){y=b[h]||A(d[h]);I=d[h]||A(y);if(y[0]!=I[0]||\"r\"==y[0].toLowerCase()&&(y[2]!=I[2]||y[3]!=I[3])||\"s\"==y[0].toLowerCase()&&(y[3]!=I[3]||y[4]!=I[4])){b=a._.transform2matrix(b,f());d=a._.transform2matrix(d,f());p=[[\"m\",b.a,b.b,b.c,b.d,b.e,b.f] ];v=[[\"m\",d.a,d.b,d.c,d.d,d.e,d.f] ];break}p[h]=[];v[h]=[];w=0;for(z=Math.max(y.length,I.length);w<z;w++)w in y&&(p[h][w]=y[w]),w in I&&(v[h][w]=I[w])}return{from:u(p),\n",
       "to:u(v),f:n(p)}}function z(a){return a}function d(a){return function(b){return+b.toFixed(3)+a}}function f(b){return a.rgb(b[0],b[1],b[2])}function n(a){var b=0,d,f,k,n,h,p,q=[];d=0;for(f=a.length;d<f;d++){h=\"[\";p=['\"'+a[d][0]+'\"'];k=1;for(n=a[d].length;k<n;k++)p[k]=\"val[\"+b++ +\"]\";h+=p+\"]\";q[d]=h}return Function(\"val\",\"return Snap.path.toString.call([\"+q+\"])\")}function u(a){for(var b=[],d=0,f=a.length;d<f;d++)for(var k=1,n=a[d].length;k<n;k++)b.push(a[d][k]);return b}var p={},b=/[a-z]+$/i,q=String;\n",
       "p.stroke=p.fill=\"colour\";v.prototype.equal=function(a,b){return k(\"snap.util.equal\",this,a,b).firstDefined()};k.on(\"snap.util.equal\",function(e,k){var r,s;r=q(this.attr(e)||\"\");var x=this;if(r==+r&&k==+k)return{from:+r,to:+k,f:z};if(\"colour\"==p[e])return r=a.color(r),s=a.color(k),{from:[r.r,r.g,r.b,r.opacity],to:[s.r,s.g,s.b,s.opacity],f:f};if(\"transform\"==e||\"gradientTransform\"==e||\"patternTransform\"==e)return k instanceof a.Matrix&&(k=k.toTransformString()),a._.rgTransform.test(k)||(k=a._.svgTransform2string(k)),\n",
       "w(r,k,function(){return x.getBBox(1)});if(\"d\"==e||\"path\"==e)return r=a.path.toCubic(r,k),{from:u(r[0]),to:u(r[1]),f:n(r[0])};if(\"points\"==e)return r=q(r).split(a._.separator),s=q(k).split(a._.separator),{from:r,to:s,f:function(a){return a}};aUnit=r.match(b);s=q(k).match(b);return aUnit&&aUnit==s?{from:parseFloat(r),to:parseFloat(k),f:d(aUnit)}:{from:this.asPX(e),to:this.asPX(e,k),f:z}})});C.plugin(function(a,v,y,C){var A=v.prototype,w=\"createTouch\"in C.doc;v=\"click dblclick mousedown mousemove mouseout mouseover mouseup touchstart touchmove touchend touchcancel\".split(\" \");\n",
       "var z={mousedown:\"touchstart\",mousemove:\"touchmove\",mouseup:\"touchend\"},d=function(a,b){var d=\"y\"==a?\"scrollTop\":\"scrollLeft\",e=b&&b.node?b.node.ownerDocument:C.doc;return e[d in e.documentElement?\"documentElement\":\"body\"][d]},f=function(){this.returnValue=!1},n=function(){return this.originalEvent.preventDefault()},u=function(){this.cancelBubble=!0},p=function(){return this.originalEvent.stopPropagation()},b=function(){if(C.doc.addEventListener)return function(a,b,e,f){var k=w&&z[b]?z[b]:b,l=function(k){var l=\n",
       "d(\"y\",f),q=d(\"x\",f);if(w&&z.hasOwnProperty(b))for(var r=0,u=k.targetTouches&&k.targetTouches.length;r<u;r++)if(k.targetTouches[r].target==a||a.contains(k.targetTouches[r].target)){u=k;k=k.targetTouches[r];k.originalEvent=u;k.preventDefault=n;k.stopPropagation=p;break}return e.call(f,k,k.clientX+q,k.clientY+l)};b!==k&&a.addEventListener(b,l,!1);a.addEventListener(k,l,!1);return function(){b!==k&&a.removeEventListener(b,l,!1);a.removeEventListener(k,l,!1);return!0}};if(C.doc.attachEvent)return function(a,\n",
       "b,e,h){var k=function(a){a=a||h.node.ownerDocument.window.event;var b=d(\"y\",h),k=d(\"x\",h),k=a.clientX+k,b=a.clientY+b;a.preventDefault=a.preventDefault||f;a.stopPropagation=a.stopPropagation||u;return e.call(h,a,k,b)};a.attachEvent(\"on\"+b,k);return function(){a.detachEvent(\"on\"+b,k);return!0}}}(),q=[],e=function(a){for(var b=a.clientX,e=a.clientY,f=d(\"y\"),l=d(\"x\"),n,p=q.length;p--;){n=q[p];if(w)for(var r=a.touches&&a.touches.length,u;r--;){if(u=a.touches[r],u.identifier==n.el._drag.id||n.el.node.contains(u.target)){b=\n",
       "u.clientX;e=u.clientY;(a.originalEvent?a.originalEvent:a).preventDefault();break}}else a.preventDefault();b+=l;e+=f;k(\"snap.drag.move.\"+n.el.id,n.move_scope||n.el,b-n.el._drag.x,e-n.el._drag.y,b,e,a)}},l=function(b){a.unmousemove(e).unmouseup(l);for(var d=q.length,f;d--;)f=q[d],f.el._drag={},k(\"snap.drag.end.\"+f.el.id,f.end_scope||f.start_scope||f.move_scope||f.el,b);q=[]};for(y=v.length;y--;)(function(d){a[d]=A[d]=function(e,f){a.is(e,\"function\")&&(this.events=this.events||[],this.events.push({name:d,\n",
       "f:e,unbind:b(this.node||document,d,e,f||this)}));return this};a[\"un\"+d]=A[\"un\"+d]=function(a){for(var b=this.events||[],e=b.length;e--;)if(b[e].name==d&&(b[e].f==a||!a)){b[e].unbind();b.splice(e,1);!b.length&&delete this.events;break}return this}})(v[y]);A.hover=function(a,b,d,e){return this.mouseover(a,d).mouseout(b,e||d)};A.unhover=function(a,b){return this.unmouseover(a).unmouseout(b)};var r=[];A.drag=function(b,d,f,h,n,p){function u(r,v,w){(r.originalEvent||r).preventDefault();this._drag.x=v;\n",
       "this._drag.y=w;this._drag.id=r.identifier;!q.length&&a.mousemove(e).mouseup(l);q.push({el:this,move_scope:h,start_scope:n,end_scope:p});d&&k.on(\"snap.drag.start.\"+this.id,d);b&&k.on(\"snap.drag.move.\"+this.id,b);f&&k.on(\"snap.drag.end.\"+this.id,f);k(\"snap.drag.start.\"+this.id,n||h||this,v,w,r)}if(!arguments.length){var v;return this.drag(function(a,b){this.attr({transform:v+(v?\"T\":\"t\")+[a,b]})},function(){v=this.transform().local})}this._drag={};r.push({el:this,start:u});this.mousedown(u);return this};\n",
       "A.undrag=function(){for(var b=r.length;b--;)r[b].el==this&&(this.unmousedown(r[b].start),r.splice(b,1),k.unbind(\"snap.drag.*.\"+this.id));!r.length&&a.unmousemove(e).unmouseup(l);return this}});C.plugin(function(a,v,y,C){y=y.prototype;var A=/^\\s*url\\((.+)\\)/,w=String,z=a._.$;a.filter={};y.filter=function(d){var f=this;\"svg\"!=f.type&&(f=f.paper);d=a.parse(w(d));var k=a._.id(),u=z(\"filter\");z(u,{id:k,filterUnits:\"userSpaceOnUse\"});u.appendChild(d.node);f.defs.appendChild(u);return new v(u)};k.on(\"snap.util.getattr.filter\",\n",
       "function(){k.stop();var d=z(this.node,\"filter\");if(d)return(d=w(d).match(A))&&a.select(d[1])});k.on(\"snap.util.attr.filter\",function(d){if(d instanceof v&&\"filter\"==d.type){k.stop();var f=d.node.id;f||(z(d.node,{id:d.id}),f=d.id);z(this.node,{filter:a.url(f)})}d&&\"none\"!=d||(k.stop(),this.node.removeAttribute(\"filter\"))});a.filter.blur=function(d,f){null==d&&(d=2);return a.format('<feGaussianBlur stdDeviation=\"{def}\"/>',{def:null==f?d:[d,f]})};a.filter.blur.toString=function(){return this()};a.filter.shadow=\n",
       "function(d,f,k,u,p){\"string\"==typeof k&&(p=u=k,k=4);\"string\"!=typeof u&&(p=u,u=\"#000\");null==k&&(k=4);null==p&&(p=1);null==d&&(d=0,f=2);null==f&&(f=d);u=a.color(u||\"#000\");return a.format('<feGaussianBlur in=\"SourceAlpha\" stdDeviation=\"{blur}\"/><feOffset dx=\"{dx}\" dy=\"{dy}\" result=\"offsetblur\"/><feFlood flood-color=\"{color}\"/><feComposite in2=\"offsetblur\" operator=\"in\"/><feComponentTransfer><feFuncA type=\"linear\" slope=\"{opacity}\"/></feComponentTransfer><feMerge><feMergeNode/><feMergeNode in=\"SourceGraphic\"/></feMerge>',\n",
       "{color:u,dx:d,dy:f,blur:k,opacity:p})};a.filter.shadow.toString=function(){return this()};a.filter.grayscale=function(d){null==d&&(d=1);return a.format('<feColorMatrix type=\"matrix\" values=\"{a} {b} {c} 0 0 {d} {e} {f} 0 0 {g} {b} {h} 0 0 0 0 0 1 0\"/>',{a:0.2126+0.7874*(1-d),b:0.7152-0.7152*(1-d),c:0.0722-0.0722*(1-d),d:0.2126-0.2126*(1-d),e:0.7152+0.2848*(1-d),f:0.0722-0.0722*(1-d),g:0.2126-0.2126*(1-d),h:0.0722+0.9278*(1-d)})};a.filter.grayscale.toString=function(){return this()};a.filter.sepia=\n",
       "function(d){null==d&&(d=1);return a.format('<feColorMatrix type=\"matrix\" values=\"{a} {b} {c} 0 0 {d} {e} {f} 0 0 {g} {h} {i} 0 0 0 0 0 1 0\"/>',{a:0.393+0.607*(1-d),b:0.769-0.769*(1-d),c:0.189-0.189*(1-d),d:0.349-0.349*(1-d),e:0.686+0.314*(1-d),f:0.168-0.168*(1-d),g:0.272-0.272*(1-d),h:0.534-0.534*(1-d),i:0.131+0.869*(1-d)})};a.filter.sepia.toString=function(){return this()};a.filter.saturate=function(d){null==d&&(d=1);return a.format('<feColorMatrix type=\"saturate\" values=\"{amount}\"/>',{amount:1-\n",
       "d})};a.filter.saturate.toString=function(){return this()};a.filter.hueRotate=function(d){return a.format('<feColorMatrix type=\"hueRotate\" values=\"{angle}\"/>',{angle:d||0})};a.filter.hueRotate.toString=function(){return this()};a.filter.invert=function(d){null==d&&(d=1);return a.format('<feComponentTransfer><feFuncR type=\"table\" tableValues=\"{amount} {amount2}\"/><feFuncG type=\"table\" tableValues=\"{amount} {amount2}\"/><feFuncB type=\"table\" tableValues=\"{amount} {amount2}\"/></feComponentTransfer>',{amount:d,\n",
       "amount2:1-d})};a.filter.invert.toString=function(){return this()};a.filter.brightness=function(d){null==d&&(d=1);return a.format('<feComponentTransfer><feFuncR type=\"linear\" slope=\"{amount}\"/><feFuncG type=\"linear\" slope=\"{amount}\"/><feFuncB type=\"linear\" slope=\"{amount}\"/></feComponentTransfer>',{amount:d})};a.filter.brightness.toString=function(){return this()};a.filter.contrast=function(d){null==d&&(d=1);return a.format('<feComponentTransfer><feFuncR type=\"linear\" slope=\"{amount}\" intercept=\"{amount2}\"/><feFuncG type=\"linear\" slope=\"{amount}\" intercept=\"{amount2}\"/><feFuncB type=\"linear\" slope=\"{amount}\" intercept=\"{amount2}\"/></feComponentTransfer>',\n",
       "{amount:d,amount2:0.5-d/2})};a.filter.contrast.toString=function(){return this()}});return C});\n",
       "]]></script>\n",
       "    <script><![CDATA[\n",
       "        (function(glob, factory){\n",
       "    if (typeof define == \"function\" && define.amd) {\n",
       "        define(\"ProfileView\", [\"Snap.svg\"], function (Snap){\n",
       "            return factory(Snap);\n",
       "        });\n",
       "    }\n",
       "    else {\n",
       "        glob.ProfileView = factory(glob.Snap);\n",
       "    }\n",
       "}(this, function(Snap){\n",
       "    var ProfileView = {};\n",
       "\n",
       "    var avgcharwidth = 6;\n",
       "    var default_transition_time = 300;\n",
       "    var viewport_scale = 0.9;\n",
       "\n",
       "    var format_text = function(text, available_len){\n",
       "        if (available_len < 3*avgcharwidth) {\n",
       "            return \"\";\n",
       "        }\n",
       "        else if (text.length*avgcharwidth > available_len) {\n",
       "            nchars = Math.round(available_len/avgcharwidth)-2;\n",
       "            return text.slice(0,nchars) + \"..\"\n",
       "        }\n",
       "        return text;\n",
       "    }\n",
       "\n",
       "    // Shift the view port to center on xc, then scale in the x direction\n",
       "    ProfileView.move_and_zoom = function(xc, xs, xScale, fig, delta_t){\n",
       "        if (typeof delta_t === 'undefined') { delta_t = default_transition_time; }\n",
       "        if (typeof xs === 'undefined') {xs = xc;}\n",
       "\n",
       "        var oldScale = fig.scale;\n",
       "        var oldShift = fig.shift;\n",
       "\n",
       "        fig.scale = xScale;\n",
       "        fig.shift = xc;\n",
       "\n",
       "        xScale *= viewport_scale;\n",
       "\n",
       "        var oldxshift = -(oldShift - 0.5*fig.clip_width);\n",
       "        var xshift = -(xc - 0.5*fig.clip_width);\n",
       "\n",
       "        fig.texts.forEach(function(text){\n",
       "            text.node.textContent = \"\";\n",
       "        });\n",
       "\n",
       "        if (delta_t != 0){\n",
       "            Snap.animate(0, 1, function(step){\n",
       "\n",
       "                var scale = oldScale + (xScale - oldScale)*step\n",
       "                var rMatrix = new Snap.Matrix;\n",
       "                rMatrix.translate(oldxshift + (xshift - oldxshift)*step, 0);\n",
       "                rMatrix.scale(scale, 1, xs, fig.clip_middle);\n",
       "                fig.viewport.attr({\n",
       "                    transform: rMatrix\n",
       "                })\n",
       "                fig.rects.forEach(function(rect){\n",
       "                    rect.attr({\n",
       "                        rx: 2/scale,\n",
       "                        ry: 2/scale\n",
       "                    });\n",
       "                })\n",
       "\n",
       "            }, delta_t, null, function(){\n",
       "                fig.rects.forEach(function(rect, i){\n",
       "                    var bbox = rect.getBBox();\n",
       "                    var text = fig.texts[i];\n",
       "                    var shortinfo = rect.node.getAttribute(\"data-shortinfo\");\n",
       "\n",
       "                    var tMatrix = new Snap.Matrix;\n",
       "                    tMatrix.scale(1.0/xScale, 1, bbox.x, bbox.y);\n",
       "\n",
       "                    text.node.textContent = format_text(shortinfo, bbox.w*xScale);\n",
       "                    text.transform(tMatrix);\n",
       "                });\n",
       "            });\n",
       "        }\n",
       "        else {\n",
       "            var rMatrix = new Snap.Matrix;\n",
       "            rMatrix.translate(xshift, 0);\n",
       "            rMatrix.scale(xScale, 1, xs, fig.clip_middle);\n",
       "\n",
       "            fig.viewport.transform(rMatrix);\n",
       "            fig.rects.forEach(function(rect, i){\n",
       "                rect.attr({\n",
       "                    rx: 2/xScale,\n",
       "                    ry: 2/xScale\n",
       "                });\n",
       "                var bbox = rect.getBBox();\n",
       "                var text = fig.texts[i];\n",
       "                var shortinfo = rect.node.getAttribute(\"data-shortinfo\");\n",
       "\n",
       "                var tMatrix = new Snap.Matrix;\n",
       "                tMatrix.scale(1.0/xScale, 1, bbox.x, bbox.y);\n",
       "\n",
       "                text.node.textContent = format_text(shortinfo, bbox.w*xScale);\n",
       "                text.transform(tMatrix);\n",
       "            });\n",
       "       }\n",
       "\n",
       "    }\n",
       "\n",
       "    ProfileView.reset = function(fig) {\n",
       "        ProfileView.move_and_zoom(fig.viewport_cx, fig.viewport_cx, viewport_scale, fig);\n",
       "    }\n",
       "\n",
       "    return ProfileView;\n",
       "}));\n",
       "\n",
       "        (function (glob, factory) {\n",
       "            if (typeof require === \"function\" && typeof define === \"function\" && define.amd) {\n",
       "                require([\"Snap.svg\", \"ProfileView\"], function (Snap, ProfileView) {\n",
       "                    factory(Snap, ProfileView);\n",
       "                });\n",
       "          } else {\n",
       "              factory(glob.Snap, glob.ProfileView);\n",
       "          }\n",
       "        })(window, function (Snap, ProfileView) {\n",
       "            var svg = Snap.select('svg').node;\n",
       "            var pt = svg.createSVGPoint();\n",
       "\n",
       "            var fig = {};\n",
       "\n",
       "            fig.viewport = Snap.select('#fig-58a4a0fcf1e34180a6e4b16685d3548d-viewport');\n",
       "            fig.frame = Snap.select('#fig-58a4a0fcf1e34180a6e4b16685d3548d-frame');\n",
       "\n",
       "            fig.viewport_cx = fig.viewport.getBBox().cx;\n",
       "\n",
       "            fig.rects = Snap.selectAll('#fig-58a4a0fcf1e34180a6e4b16685d3548d-viewport rect');\n",
       "            fig.texts = Snap.selectAll('#fig-58a4a0fcf1e34180a6e4b16685d3548d-viewport text');\n",
       "            fig.clip = Snap.select('#fig-58a4a0fcf1e34180a6e4b16685d3548d-clip-rect');\n",
       "            fig.clip_width  = fig.clip.getBBox().w;\n",
       "            fig.clip_middle = fig.clip.getBBox().cy;\n",
       "            fig.details = document.getElementById(\"fig-58a4a0fcf1e34180a6e4b16685d3548d-details\").firstChild; \n",
       "\n",
       "            fig.scale = 1.0;\n",
       "            fig.shift = fig.viewport_cx;\n",
       "\n",
       "            ProfileView.reset(fig)\n",
       "\n",
       "            fig.rects.forEach(function(rect, i){\n",
       "                rect.dblclick(function(){\n",
       "                    bbox = rect.getBBox();\n",
       "                    ProfileView.move_and_zoom(bbox.cx, bbox.cx, fig.clip_width/bbox.w, fig);\n",
       "                })\n",
       "                .mouseover(function(){\n",
       "                    fig.details.nodeValue = rect.node.getAttribute(\"data-info\");\n",
       "                })\n",
       "                .mouseout(function(){\n",
       "                    fig.details.nodeValue = \"\";\n",
       "                });\n",
       "\n",
       "            })\n",
       "            fig.texts.forEach(function(text, i){\n",
       "                text.dblclick(function(){\n",
       "                    bbox = fig.rects[i].getBBox();\n",
       "                    ProfileView.move_and_zoom(bbox.cx, bbox.cx, fig.clip_width/bbox.w, fig);\n",
       "                })\n",
       "                .mouseover(function(){\n",
       "                    fig.details.nodeValue = fig.rects[i].node.getAttribute(\"data-info\");\n",
       "                })\n",
       "                .mouseout(function(){\n",
       "                    fig.details.nodeValue = \"\";\n",
       "                });\n",
       "            })\n",
       "            Snap.selectAll(\"#fig-58a4a0fcf1e34180a6e4b16685d3548d-frame .pvbackground\").forEach(function(bg){\n",
       "               bg.dblclick(function(e){\n",
       "                   ProfileView.reset(fig);\n",
       "                });\n",
       "            });\n",
       "\n",
       "            function throttle(delay, callback) {\n",
       "                var previousCall = new Date().getTime();\n",
       "                return function() {\n",
       "                    var time = new Date().getTime();\n",
       "\n",
       "                    if ((time - previousCall) >= delay) {\n",
       "                        previousCall = time;\n",
       "                        callback.apply(null, arguments);\n",
       "                    }\n",
       "                    else {\n",
       "                        arguments[0].preventDefault();\n",
       "                    }\n",
       "                };\n",
       "            }\n",
       "\n",
       "            var MouseWheelHandler = throttle(400, function(e) {\n",
       "                e.preventDefault();\n",
       "                var e = window.event || e;\n",
       "                var delta = Math.max(-1, Math.min(1, (e.wheelDelta || -e.detail)));\n",
       "                pt.x = e.clientX;\n",
       "                pt.y = e.clientY;\n",
       "\n",
       "                pt.matrixTransform(fig.viewport.node.getScreenCTM().inverse());\n",
       "                var targetScale = fig.scale + 0.2*delta;\n",
       "                ProfileView.move_and_zoom(fig.shift, pt.x, targetScale, fig, 400);\n",
       "                return false;\n",
       "            })\n",
       "            frame = fig.frame.node;\n",
       "            if (frame.addEventListener) {\n",
       "                frame.addEventListener(\"mousewheel\", MouseWheelHandler, false);\n",
       "                frame.addEventListener(\"DOMMouseScroll\", MouseWheelHandler, false);\n",
       "            }\n",
       "            else {\n",
       "                frame.attachEvent(\"onmousewheel\", MouseWheelHandler);\n",
       "            }\n",
       "\n",
       "        fig.viewport.drag();\n",
       "}); ]]></script>\n",
       "</svg>\n"
      ],
      "text/plain": [
       "ProfileView.ProfileData(ColorTypes.RGB{FixedPointNumbers.Normed{UInt8,8}}[RGB{N0f8}(0.91,0.439,0.867) RGB{N0f8}(1.0,0.0,0.0) … RGB{N0f8}(1.0,1.0,1.0) RGB{N0f8}(1.0,1.0,1.0); RGB{N0f8}(0.91,0.439,0.867) RGB{N0f8}(1.0,0.0,0.0) … RGB{N0f8}(1.0,1.0,1.0) RGB{N0f8}(1.0,1.0,1.0); … ; RGB{N0f8}(0.91,0.439,0.867) RGB{N0f8}(1.0,0.0,0.0) … RGB{N0f8}(1.0,1.0,1.0) RGB{N0f8}(1.0,1.0,1.0); RGB{N0f8}(0.91,0.439,0.867) RGB{N0f8}(1.0,0.0,0.0) … RGB{N0f8}(1.0,1.0,1.0) RGB{N0f8}(1.0,1.0,1.0)], Dict(0x00007f7ebcbc7d80=>StackFrame[checked_add at checked.jl:165 [inlined], length at range.jl:393 [inlined], length(::BioSequences.BioSequence{BioSequences.DNAAlphabet{4}}) at bioseq.jl:65],0x00007f7ebcbc7d7e=>StackFrame[checked_add at checked.jl:164 [inlined], length at range.jl:393 [inlined], length(::BioSequences.BioSequence{BioSequences.DNAAlphabet{4}}) at bioseq.jl:65],0x00007f7ebcbc7ea0=>StackFrame[ip:0x7f7ebcbc7e9f],0x00007f7ecbf9bef9=>StackFrame[jl_apply_generic at libjulia.so.0.6:?],0x00007f7eacd4b1be=>StackFrame[macro expansion at codegen.jl:0 [inlined], _read!(::BioSequences.FASTQ.Reader, ::BioCore.Ragel.State{BufferedStreams.BufferedInputStream{IOStream}}, ::BioSequences.FASTQ.Record) at ReaderHelper.jl:156],0x00007f7ebcbb5d76=>StackFrame[fillbuffer!(::BufferedStreams.BufferedInputStream{IOStream}) at bufferedinputstream.jl:70],0x00007f7ebb5ae36a=>StackFrame[ht_keyindex(::Dict{Symbol,Int64}, ::Symbol) at dict.jl:319],0x00007f7ecbfb6dc3=>StackFrame[jl_alloc_array_1d at libjulia.so.0.6:?],0x00007f7ebcbc8860=>StackFrame[encode_copy!(::BioSequences.BioSequence{BioSequences.DNAAlphabet{4}}, ::Int64, ::Array{UInt8,1}, ::Int64, ::Int64) at copying.jl:160],0x00007f7eacd2c1e6=>StackFrame[BioSequences.Composition(::BioSequences.BioSequence{BioSequences.DNAAlphabet{4}}) at composition.jl:16]…), ProfileView.TagData[ProfileView.TagData(0x00007f7e91e2a1ba, 0) ProfileView.TagData(0x00007f7e91e2980d, 1) … ProfileView.TagData(0x0000000000000000, -1) ProfileView.TagData(0x0000000000000000, -1); ProfileView.TagData(0x00007f7e91e2a1ba, 0) ProfileView.TagData(0x00007f7e91e2980d, 1) … ProfileView.TagData(0x0000000000000000, -1) ProfileView.TagData(0x0000000000000000, -1); … ; ProfileView.TagData(0x00007f7e91e2a1ba, 0) ProfileView.TagData(0x00007f7e91e2980d, 1) … ProfileView.TagData(0x0000000000000000, -1) ProfileView.TagData(0x0000000000000000, -1); ProfileView.TagData(0x00007f7e91e2a1ba, 0) ProfileView.TagData(0x00007f7e91e2980d, 1) … ProfileView.TagData(0x0000000000000000, -1) ProfileView.TagData(0x0000000000000000, -1)], 12)"
      ]
     },
     "execution_count": 248,
     "metadata": {},
     "output_type": "execute_result"
    }
   ],
   "source": [
    "Profile.clear()\n",
    "@profile QC(\"R1.fastq\")\n",
    "ProfileView.view()"
   ]
  }
 ],
 "metadata": {
  "kernelspec": {
   "display_name": "Julia 0.6.0",
   "language": "julia",
   "name": "julia-0.6"
  },
  "language_info": {
   "file_extension": ".jl",
   "mimetype": "application/julia",
   "name": "julia",
   "version": "0.6.0"
  }
 },
 "nbformat": 4,
 "nbformat_minor": 2
}
