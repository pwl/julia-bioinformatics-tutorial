{
 "cells": [
  {
   "cell_type": "code",
   "execution_count": 1,
   "metadata": {},
   "outputs": [
    {
     "data": {
      "text/plain": [
       "1"
      ]
     },
     "execution_count": 1,
     "metadata": {},
     "output_type": "execute_result"
    }
   ],
   "source": [
    "nprocs()"
   ]
  },
  {
   "cell_type": "code",
   "execution_count": 2,
   "metadata": {},
   "outputs": [
    {
     "data": {
      "text/plain": [
       "2"
      ]
     },
     "execution_count": 2,
     "metadata": {},
     "output_type": "execute_result"
    }
   ],
   "source": [
    "if nprocs() < 2\n",
    "    addprocs(1)\n",
    "end\n",
    "nprocs()"
   ]
  },
  {
   "cell_type": "code",
   "execution_count": 3,
   "metadata": {
    "collapsed": true
   },
   "outputs": [],
   "source": [
    "push!(LOAD_PATH,pwd())\n",
    "\n",
    "@everywhere using QualityControl"
   ]
  },
  {
   "cell_type": "code",
   "execution_count": 4,
   "metadata": {},
   "outputs": [
    {
     "data": {
      "text/plain": [
       "2-element Array{DataFrames.DataFrame,1}:\n",
       " 100000×3 DataFrames.DataFrame\n",
       "│ Row    │ countsA │ streakA │ pool      │\n",
       "├────────┼─────────┼─────────┼───────────┤\n",
       "│ 1      │ 14      │ 2       │ \"TCTA\"    │\n",
       "│ 2      │ 16      │ 2       │ \"TCTA\"    │\n",
       "│ 3      │ 14      │ 3       │ \"Unknown\" │\n",
       "│ 4      │ 26      │ 13      │ \"CTAC\"    │\n",
       "│ 5      │ 13      │ 2       │ \"ATCA\"    │\n",
       "│ 6      │ 16      │ 3       │ \"TGAT\"    │\n",
       "│ 7      │ 40      │ 22      │ \"ACAG\"    │\n",
       "│ 8      │ 20      │ 5       │ \"ACAG\"    │\n",
       "│ 9      │ 36      │ 28      │ \"TCTA\"    │\n",
       "│ 10     │ 26      │ 5       │ \"ACAG\"    │\n",
       "│ 11     │ 19      │ 3       │ \"CATG\"    │\n",
       "⋮\n",
       "│ 99989  │ 21      │ 5       │ \"CTAC\"    │\n",
       "│ 99990  │ 22      │ 3       │ \"TGAT\"    │\n",
       "│ 99991  │ 21      │ 5       │ \"CTAC\"    │\n",
       "│ 99992  │ 6       │ 1       │ \"CTAC\"    │\n",
       "│ 99993  │ 40      │ 28      │ \"ATCA\"    │\n",
       "│ 99994  │ 33      │ 22      │ \"TTGG\"    │\n",
       "│ 99995  │ 40      │ 32      │ \"ACAG\"    │\n",
       "│ 99996  │ 39      │ 23      │ \"TTGG\"    │\n",
       "│ 99997  │ 32      │ 21      │ \"TTGG\"    │\n",
       "│ 99998  │ 21      │ 9       │ \"TCTA\"    │\n",
       "│ 99999  │ 25      │ 5       │ \"CATG\"    │\n",
       "│ 100000 │ 45      │ 26      │ \"TTGG\"    │\n",
       " 100000×3 DataFrames.DataFrame\n",
       "│ Row    │ countsA │ streakA │ pool      │\n",
       "├────────┼─────────┼─────────┼───────────┤\n",
       "│ 1      │ 37      │ 17      │ \"AGTC\"    │\n",
       "│ 2      │ 18      │ 6       │ \"Unknown\" │\n",
       "│ 3      │ 46      │ 37      │ \"CATG\"    │\n",
       "│ 4      │ 35      │ 21      │ \"TGAT\"    │\n",
       "│ 5      │ 37      │ 27      │ \"ATCA\"    │\n",
       "│ 6      │ 31      │ 17      │ \"ACAG\"    │\n",
       "│ 7      │ 32      │ 22      │ \"TTGG\"    │\n",
       "│ 8      │ 20      │ 4       │ \"TCTA\"    │\n",
       "│ 9      │ 12      │ 2       │ \"TCTA\"    │\n",
       "│ 10     │ 7       │ 3       │ \"ACAG\"    │\n",
       "│ 11     │ 28      │ 16      │ \"ACAG\"    │\n",
       "⋮\n",
       "│ 99989  │ 22      │ 3       │ \"ATCA\"    │\n",
       "│ 99990  │ 29      │ 14      │ \"CATG\"    │\n",
       "│ 99991  │ 42      │ 28      │ \"ACAG\"    │\n",
       "│ 99992  │ 17      │ 2       │ \"TCTA\"    │\n",
       "│ 99993  │ 33      │ 16      │ \"ATCA\"    │\n",
       "│ 99994  │ 21      │ 5       │ \"CTAC\"    │\n",
       "│ 99995  │ 12      │ 3       │ \"TTGG\"    │\n",
       "│ 99996  │ 32      │ 12      │ \"CATG\"    │\n",
       "│ 99997  │ 22      │ 5       │ \"ACAG\"    │\n",
       "│ 99998  │ 10      │ 2       │ \"ACAG\"    │\n",
       "│ 99999  │ 10      │ 1       │ \"TTGG\"    │\n",
       "│ 100000 │ 14      │ 2       │ \"TCTA\"    │"
      ]
     },
     "execution_count": 4,
     "metadata": {},
     "output_type": "execute_result"
    }
   ],
   "source": [
    "results=pmap(QC,[\"R1.fastq\",\"R1_2.fastq\"])"
   ]
  },
  {
   "cell_type": "code",
   "execution_count": 5,
   "metadata": {},
   "outputs": [
    {
     "data": {
      "text/html": [
       "<table class=\"data-frame\"><thead><tr><th></th><th>countsA</th><th>streakA</th><th>pool</th></tr></thead><tbody><tr><th>1</th><td>14</td><td>2</td><td>TCTA</td></tr><tr><th>2</th><td>16</td><td>2</td><td>TCTA</td></tr><tr><th>3</th><td>14</td><td>3</td><td>Unknown</td></tr><tr><th>4</th><td>26</td><td>13</td><td>CTAC</td></tr><tr><th>5</th><td>13</td><td>2</td><td>ATCA</td></tr><tr><th>6</th><td>16</td><td>3</td><td>TGAT</td></tr><tr><th>7</th><td>40</td><td>22</td><td>ACAG</td></tr><tr><th>8</th><td>20</td><td>5</td><td>ACAG</td></tr><tr><th>9</th><td>36</td><td>28</td><td>TCTA</td></tr><tr><th>10</th><td>26</td><td>5</td><td>ACAG</td></tr><tr><th>11</th><td>19</td><td>3</td><td>CATG</td></tr><tr><th>12</th><td>31</td><td>17</td><td>TTGG</td></tr><tr><th>13</th><td>32</td><td>23</td><td>TTGG</td></tr><tr><th>14</th><td>36</td><td>24</td><td>CATG</td></tr><tr><th>15</th><td>30</td><td>16</td><td>TGAT</td></tr><tr><th>16</th><td>12</td><td>1</td><td>CATG</td></tr><tr><th>17</th><td>30</td><td>12</td><td>ATCA</td></tr><tr><th>18</th><td>19</td><td>3</td><td>ATCA</td></tr><tr><th>19</th><td>21</td><td>3</td><td>TTGG</td></tr><tr><th>20</th><td>8</td><td>2</td><td>ACAG</td></tr><tr><th>21</th><td>2</td><td>1</td><td>CATG</td></tr><tr><th>22</th><td>18</td><td>3</td><td>TCTA</td></tr><tr><th>23</th><td>11</td><td>2</td><td>TCTA</td></tr><tr><th>24</th><td>15</td><td>4</td><td>TGAT</td></tr><tr><th>25</th><td>20</td><td>3</td><td>CATG</td></tr><tr><th>26</th><td>24</td><td>16</td><td>ATCA</td></tr><tr><th>27</th><td>16</td><td>2</td><td>TTGG</td></tr><tr><th>28</th><td>21</td><td>3</td><td>CATG</td></tr><tr><th>29</th><td>21</td><td>3</td><td>CATG</td></tr><tr><th>30</th><td>32</td><td>21</td><td>TGAT</td></tr><tr><th>&vellip;</th><td>&vellip;</td><td>&vellip;</td><td>&vellip;</td></tr></tbody></table>"
      ],
      "text/plain": [
       "200000×3 DataFrames.DataFrame\n",
       "│ Row    │ countsA │ streakA │ pool      │\n",
       "├────────┼─────────┼─────────┼───────────┤\n",
       "│ 1      │ 14      │ 2       │ \"TCTA\"    │\n",
       "│ 2      │ 16      │ 2       │ \"TCTA\"    │\n",
       "│ 3      │ 14      │ 3       │ \"Unknown\" │\n",
       "│ 4      │ 26      │ 13      │ \"CTAC\"    │\n",
       "│ 5      │ 13      │ 2       │ \"ATCA\"    │\n",
       "│ 6      │ 16      │ 3       │ \"TGAT\"    │\n",
       "│ 7      │ 40      │ 22      │ \"ACAG\"    │\n",
       "│ 8      │ 20      │ 5       │ \"ACAG\"    │\n",
       "│ 9      │ 36      │ 28      │ \"TCTA\"    │\n",
       "│ 10     │ 26      │ 5       │ \"ACAG\"    │\n",
       "│ 11     │ 19      │ 3       │ \"CATG\"    │\n",
       "⋮\n",
       "│ 199989 │ 22      │ 3       │ \"ATCA\"    │\n",
       "│ 199990 │ 29      │ 14      │ \"CATG\"    │\n",
       "│ 199991 │ 42      │ 28      │ \"ACAG\"    │\n",
       "│ 199992 │ 17      │ 2       │ \"TCTA\"    │\n",
       "│ 199993 │ 33      │ 16      │ \"ATCA\"    │\n",
       "│ 199994 │ 21      │ 5       │ \"CTAC\"    │\n",
       "│ 199995 │ 12      │ 3       │ \"TTGG\"    │\n",
       "│ 199996 │ 32      │ 12      │ \"CATG\"    │\n",
       "│ 199997 │ 22      │ 5       │ \"ACAG\"    │\n",
       "│ 199998 │ 10      │ 2       │ \"ACAG\"    │\n",
       "│ 199999 │ 10      │ 1       │ \"TTGG\"    │\n",
       "│ 200000 │ 14      │ 2       │ \"TCTA\"    │"
      ]
     },
     "execution_count": 5,
     "metadata": {},
     "output_type": "execute_result"
    }
   ],
   "source": [
    "data=vcat(results)"
   ]
  }
 ],
 "metadata": {
  "kernelspec": {
   "display_name": "Julia 0.6.0",
   "language": "julia",
   "name": "julia-0.6"
  },
  "language_info": {
   "file_extension": ".jl",
   "mimetype": "application/julia",
   "name": "julia",
   "version": "0.6.0"
  }
 },
 "nbformat": 4,
 "nbformat_minor": 2
}
