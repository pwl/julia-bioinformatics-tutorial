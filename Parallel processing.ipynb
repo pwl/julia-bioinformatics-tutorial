{
 "cells": [
  {
   "cell_type": "code",
   "execution_count": 15,
   "metadata": {},
   "outputs": [
    {
     "data": {
      "text/html": [
       "4"
      ],
      "text/plain": [
       "4"
      ]
     },
     "execution_count": 15,
     "metadata": {},
     "output_type": "execute_result"
    }
   ],
   "source": [
    "nprocs()"
   ]
  },
  {
   "cell_type": "code",
   "execution_count": 27,
   "metadata": {},
   "outputs": [
    {
     "data": {
      "text/html": [
       "4"
      ],
      "text/plain": [
       "4"
      ]
     },
     "execution_count": 27,
     "metadata": {},
     "output_type": "execute_result"
    }
   ],
   "source": [
    "if nprocs() < 4\n",
    "    # create 3 workers (1 master + 3 worksers in total)\n",
    "    addprocs(3)\n",
    "end\n",
    "nprocs()"
   ]
  },
  {
   "cell_type": "code",
   "execution_count": 18,
   "metadata": {
    "collapsed": true
   },
   "outputs": [],
   "source": [
    "push!(LOAD_PATH,pwd())\n",
    "\n",
    "@everywhere using QualityControl"
   ]
  },
  {
   "cell_type": "code",
   "execution_count": 40,
   "metadata": {},
   "outputs": [
    {
     "name": "stdout",
     "output_type": "stream",
     "text": [
      "  0.365906 seconds (798.82 k allocations: 22.990 MiB)\n"
     ]
    },
    {
     "data": {
      "text/plain": [
       "2-element Array{DataFrames.DataFrame,1}:\n",
       " 100000×3 DataFrames.DataFrame\n",
       "│ Row    │ countsA │ streakA │ pool      │\n",
       "├────────┼─────────┼─────────┼───────────┤\n",
       "│ 1      │ 14      │ 2       │ \"TCTA\"    │\n",
       "│ 2      │ 16      │ 2       │ \"TCTA\"    │\n",
       "│ 3      │ 14      │ 3       │ \"Unknown\" │\n",
       "│ 4      │ 26      │ 13      │ \"CTAC\"    │\n",
       "│ 5      │ 13      │ 2       │ \"ATCA\"    │\n",
       "│ 6      │ 16      │ 3       │ \"TGAT\"    │\n",
       "│ 7      │ 40      │ 22      │ \"ACAG\"    │\n",
       "│ 8      │ 20      │ 5       │ \"ACAG\"    │\n",
       "│ 9      │ 36      │ 28      │ \"TCTA\"    │\n",
       "│ 10     │ 26      │ 5       │ \"ACAG\"    │\n",
       "│ 11     │ 19      │ 3       │ \"CATG\"    │\n",
       "⋮\n",
       "│ 99989  │ 21      │ 5       │ \"CTAC\"    │\n",
       "│ 99990  │ 22      │ 3       │ \"TGAT\"    │\n",
       "│ 99991  │ 21      │ 5       │ \"CTAC\"    │\n",
       "│ 99992  │ 6       │ 1       │ \"CTAC\"    │\n",
       "│ 99993  │ 40      │ 28      │ \"ATCA\"    │\n",
       "│ 99994  │ 33      │ 22      │ \"TTGG\"    │\n",
       "│ 99995  │ 40      │ 32      │ \"ACAG\"    │\n",
       "│ 99996  │ 39      │ 23      │ \"TTGG\"    │\n",
       "│ 99997  │ 32      │ 21      │ \"TTGG\"    │\n",
       "│ 99998  │ 21      │ 9       │ \"TCTA\"    │\n",
       "│ 99999  │ 25      │ 5       │ \"CATG\"    │\n",
       "│ 100000 │ 45      │ 26      │ \"TTGG\"    │\n",
       " 100000×3 DataFrames.DataFrame\n",
       "│ Row    │ countsA │ streakA │ pool      │\n",
       "├────────┼─────────┼─────────┼───────────┤\n",
       "│ 1      │ 37      │ 17      │ \"AGTC\"    │\n",
       "│ 2      │ 18      │ 6       │ \"Unknown\" │\n",
       "│ 3      │ 46      │ 37      │ \"CATG\"    │\n",
       "│ 4      │ 35      │ 21      │ \"TGAT\"    │\n",
       "│ 5      │ 37      │ 27      │ \"ATCA\"    │\n",
       "│ 6      │ 31      │ 17      │ \"ACAG\"    │\n",
       "│ 7      │ 32      │ 22      │ \"TTGG\"    │\n",
       "│ 8      │ 20      │ 4       │ \"TCTA\"    │\n",
       "│ 9      │ 12      │ 2       │ \"TCTA\"    │\n",
       "│ 10     │ 7       │ 3       │ \"ACAG\"    │\n",
       "│ 11     │ 28      │ 16      │ \"ACAG\"    │\n",
       "⋮\n",
       "│ 99989  │ 22      │ 3       │ \"ATCA\"    │\n",
       "│ 99990  │ 29      │ 14      │ \"CATG\"    │\n",
       "│ 99991  │ 42      │ 28      │ \"ACAG\"    │\n",
       "│ 99992  │ 17      │ 2       │ \"TCTA\"    │\n",
       "│ 99993  │ 33      │ 16      │ \"ATCA\"    │\n",
       "│ 99994  │ 21      │ 5       │ \"CTAC\"    │\n",
       "│ 99995  │ 12      │ 3       │ \"TTGG\"    │\n",
       "│ 99996  │ 32      │ 12      │ \"CATG\"    │\n",
       "│ 99997  │ 22      │ 5       │ \"ACAG\"    │\n",
       "│ 99998  │ 10      │ 2       │ \"ACAG\"    │\n",
       "│ 99999  │ 10      │ 1       │ \"TTGG\"    │\n",
       "│ 100000 │ 14      │ 2       │ \"TCTA\"    │"
      ]
     },
     "execution_count": 40,
     "metadata": {},
     "output_type": "execute_result"
    }
   ],
   "source": [
    "@time results=pmap(QC,[\"R1.fastq\",\"R1_2.fastq\"])"
   ]
  },
  {
   "cell_type": "code",
   "execution_count": 41,
   "metadata": {},
   "outputs": [
    {
     "data": {
      "text/plain": [
       "(200000, 3)"
      ]
     },
     "execution_count": 41,
     "metadata": {},
     "output_type": "execute_result"
    }
   ],
   "source": [
    "data=vcat(results)\n",
    "size(data)"
   ]
  }
 ],
 "metadata": {
  "kernelspec": {
   "display_name": "Julia 0.6.0",
   "language": "julia",
   "name": "julia-0.6"
  },
  "language_info": {
   "file_extension": ".jl",
   "mimetype": "application/julia",
   "name": "julia",
   "version": "0.6.0"
  }
 },
 "nbformat": 4,
 "nbformat_minor": 2
}
